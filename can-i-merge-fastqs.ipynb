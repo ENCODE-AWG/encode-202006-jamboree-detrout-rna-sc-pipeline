{
 "cells": [
  {
   "cell_type": "markdown",
   "metadata": {},
   "source": [
    "# Introduction"
   ]
  },
  {
   "cell_type": "markdown",
   "metadata": {},
   "source": [
    "Gzip can extract multiple files concatinated together\n",
    "\n",
    "can we do that?"
   ]
  },
  {
   "cell_type": "code",
   "execution_count": 2,
   "metadata": {},
   "outputs": [],
   "source": [
    "import os\n",
    "import sys\n",
    "import xopen\n",
    "from pathlib import Path"
   ]
  },
  {
   "cell_type": "code",
   "execution_count": 9,
   "metadata": {},
   "outputs": [],
   "source": [
    "test_library_path = Path('~/proj/analysis/H3GKWBCX3/21875').expanduser()"
   ]
  },
  {
   "cell_type": "code",
   "execution_count": 11,
   "metadata": {},
   "outputs": [
    {
     "name": "stdout",
     "output_type": "stream",
     "text": [
      "/woldlab/loxcyc/home/diane/proj/analysis/H3GKWBCX3/21875/21875_CGAGGCTG_L001_R1_001.fastq.gz\n",
      "/woldlab/loxcyc/home/diane/proj/analysis/H3GKWBCX3/21875/21875_CGAGGCTG_L001_R1_002.fastq.gz\n",
      "/woldlab/loxcyc/home/diane/proj/analysis/H3GKWBCX3/21875/21875_CGAGGCTG_L001_R1_003.fastq.gz\n",
      "/woldlab/loxcyc/home/diane/proj/analysis/H3GKWBCX3/21875/21875_CGAGGCTG_L001_R1_004.fastq.gz\n",
      "/woldlab/loxcyc/home/diane/proj/analysis/H3GKWBCX3/21875/21875_CGAGGCTG_L001_R1_005.fastq.gz\n",
      "/woldlab/loxcyc/home/diane/proj/analysis/H3GKWBCX3/21875/21875_CGAGGCTG_L001_R1_006.fastq.gz\n",
      "/woldlab/loxcyc/home/diane/proj/analysis/H3GKWBCX3/21875/21875_CGAGGCTG_L001_R1_007.fastq.gz\n"
     ]
    }
   ],
   "source": [
    "for fastq in sorted(test_library_path.glob('*L001_R1*.fastq.gz')):\n",
    "    print(fastq)"
   ]
  },
  {
   "cell_type": "code",
   "execution_count": 8,
   "metadata": {},
   "outputs": [
    {
     "data": {
      "text/plain": [
       "False"
      ]
     },
     "execution_count": 8,
     "metadata": {},
     "output_type": "execute_result"
    }
   ],
   "source": [
    "test_library_path.is_dir() "
   ]
  },
  {
   "cell_type": "code",
   "execution_count": 36,
   "metadata": {},
   "outputs": [],
   "source": [
    "instream.read?"
   ]
  },
  {
   "cell_type": "code",
   "execution_count": 52,
   "metadata": {},
   "outputs": [
    {
     "data": {
      "text/plain": [
       "(393277, 99859438)"
      ]
     },
     "execution_count": 52,
     "metadata": {},
     "output_type": "execute_result"
    }
   ],
   "source": [
    "STATE_START = 0\n",
    "STATE_1F = 1\n",
    "STATE_8B = 2\n",
    "\n",
    "state = STATE_START\n",
    "count = 0\n",
    "with open(fastq, 'rb') as instream:\n",
    "    for i, c in enumerate(instream.read()):\n",
    "        if state == STATE_START and c == 0x1f:\n",
    "            state = STATE_1F\n",
    "        elif state == STATE_1F and c == 0x8b:\n",
    "            count += 1\n",
    "            STATE = STATE_START\n",
    "        else:\n",
    "            STATE = STATE_START\n",
    "\n",
    "count, i"
   ]
  },
  {
   "cell_type": "code",
   "execution_count": 45,
   "metadata": {},
   "outputs": [],
   "source": [
    "instream.read?"
   ]
  },
  {
   "cell_type": "code",
   "execution_count": 16,
   "metadata": {},
   "outputs": [],
   "source": [
    "import struct"
   ]
  },
  {
   "cell_type": "code",
   "execution_count": 18,
   "metadata": {},
   "outputs": [],
   "source": [
    "struct"
   ]
  },
  {
   "cell_type": "code",
   "execution_count": 23,
   "metadata": {},
   "outputs": [],
   "source": [
    "with open(fastq, 'rb') as instream:\n",
    "    while not instream\n",
    "    block = instream.read(10)"
   ]
  },
  {
   "cell_type": "code",
   "execution_count": 46,
   "metadata": {},
   "outputs": [],
   "source": []
  },
  {
   "cell_type": "code",
   "execution_count": 28,
   "metadata": {},
   "outputs": [
    {
     "data": {
      "text/plain": [
       "True"
      ]
     },
     "execution_count": 28,
     "metadata": {},
     "output_type": "execute_result"
    }
   ],
   "source": [
    "block[0] == 0x1f"
   ]
  },
  {
   "cell_type": "code",
   "execution_count": 29,
   "metadata": {},
   "outputs": [
    {
     "data": {
      "text/plain": [
       "True"
      ]
     },
     "execution_count": 29,
     "metadata": {},
     "output_type": "execute_result"
    }
   ],
   "source": [
    "block[1] == 0x8b"
   ]
  },
  {
   "cell_type": "code",
   "execution_count": null,
   "metadata": {},
   "outputs": [],
   "source": []
  }
 ],
 "metadata": {
  "kernelspec": {
   "display_name": "Python 3",
   "language": "python",
   "name": "python3"
  },
  "language_info": {
   "codemirror_mode": {
    "name": "ipython",
    "version": 3
   },
   "file_extension": ".py",
   "mimetype": "text/x-python",
   "name": "python",
   "nbconvert_exporter": "python",
   "pygments_lexer": "ipython3",
   "version": "3.8.5"
  }
 },
 "nbformat": 4,
 "nbformat_minor": 4
}
