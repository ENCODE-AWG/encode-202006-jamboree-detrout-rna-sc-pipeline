{
 "cells": [
  {
   "cell_type": "code",
   "execution_count": 1,
   "id": "opponent-credit",
   "metadata": {},
   "outputs": [],
   "source": [
    "import scanpy\n",
    "from pathlib import Path"
   ]
  },
  {
   "cell_type": "code",
   "execution_count": 2,
   "id": "interior-marking",
   "metadata": {},
   "outputs": [
    {
     "data": {
      "text/plain": [
       "'/woldlab/loxcyc/home/diane/proj/encode-202006-jamboree-detrout-rna-sc-pipeline/adrenal/ENCSR362YDM_26m_nuc'"
      ]
     },
     "execution_count": 2,
     "metadata": {},
     "output_type": "execute_result"
    }
   ],
   "source": [
    "pwd"
   ]
  },
  {
   "cell_type": "code",
   "execution_count": 3,
   "id": "given-soldier",
   "metadata": {},
   "outputs": [],
   "source": [
    "adrenal = Path(\"~/proj/encode-202006-jamboree-detrout-rna-sc-pipeline/adrenal/\").expanduser()\n",
    "analysis_dir = adrenal / \"ENCSR362YDM_26m_nuc\"\n"
   ]
  },
  {
   "cell_type": "code",
   "execution_count": 4,
   "id": "caroline-offering",
   "metadata": {},
   "outputs": [],
   "source": [
    "runs = [\n",
    "    'fullsolo_multi_2.7.9a_2021-06-25',\n",
    "    'minimalsolo_multi_2.7.9a_2021-06-25',\n",
    "    'tenxsolo_multi_2.7.9a_2021-06-25',\n",
    "]\n",
    "runs_50pexon = [\n",
    "    'fullsolo_multi_dev_EoI_2.7.9a_2021-09-10',\n",
    "    'minimalsolo_multi_dev_EoI_2.7.9a_2021-09-10',\n",
    "    'tenxsolo_multi_dev_EoI_2.7.9a_2021-09-10',\n",
    "]"
   ]
  },
  {
   "cell_type": "code",
   "execution_count": 5,
   "id": "ecological-shelter",
   "metadata": {},
   "outputs": [
    {
     "name": "stdout",
     "output_type": "stream",
     "text": [
      "fullsolo_multi_2.7.9a_2021-06-25 (3837, 6806)\n",
      "minimalsolo_multi_2.7.9a_2021-06-25 (4841, 4670)\n",
      "tenxsolo_multi_2.7.9a_2021-06-25 (4221, 6220)\n",
      "fullsolo_multi_dev_EoI_2.7.9a_2021-09-10 (3747, 7330)\n",
      "minimalsolo_multi_dev_EoI_2.7.9a_2021-09-10 (4793, 4899)\n",
      "tenxsolo_multi_dev_EoI_2.7.9a_2021-09-10 (4322, 6475)\n"
     ]
    }
   ],
   "source": [
    "for run in runs:\n",
    "    unique_filename = analysis_dir / run / \"GeneFull_filtered_Unique.h5ad\"\n",
    "    adata = scanpy.read_h5ad(unique_filename)\n",
    "    print(run, adata.shape)\n",
    "    \n",
    "for run in runs_50pexon:\n",
    "    unique_filename = analysis_dir / run / \"GeneFull_Ex50pAS_filtered_Unique.h5ad\"\n",
    "    adata = scanpy.read_h5ad(unique_filename)\n",
    "    print(run, adata.shape)    "
   ]
  },
  {
   "cell_type": "code",
   "execution_count": 6,
   "id": "wireless-taxation",
   "metadata": {},
   "outputs": [
    {
     "name": "stdout",
     "output_type": "stream",
     "text": [
      "Aligned.sortedByCoord.out.bam  snakejob.get_fastq.5.sh.e341086\r\n",
      "config.yaml                    snakejob.get_fastq.5.sh.o341086\r\n",
      "config.yaml~                   snakejob.get_fastq.6.sh.e341089\r\n",
      "GeneFull_EM.tar.gz             snakejob.get_fastq.6.sh.o341089\r\n",
      "GeneFull_filtered_EM.h5ad      snakejob.get_fastq.7.sh.e341088\r\n",
      "GeneFull_filtered_Rescue.h5ad  snakejob.get_fastq.7.sh.o341088\r\n",
      "GeneFull_filtered_Unique.h5ad  snakejob.get_fastq.8.sh.e341087\r\n",
      "GeneFull_Unique.tar.gz         snakejob.get_fastq.8.sh.o341087\r\n",
      "Log.final.out                  snakejob.star_solo.1.sh.e341090\r\n",
      "Log.out                        snakejob.star_solo.1.sh.o341090\r\n",
      "Log.progress.out               \u001b[0m\u001b[01;34mSolo.out\u001b[0m/\r\n",
      "SJ.out.tab                     starsolo.snakefile\r\n",
      "SJ_Unique.tar.gz\r\n"
     ]
    }
   ],
   "source": [
    "ls /woldlab/loxcyc/home/diane/proj/encode-202006-jamboree-detrout-rna-sc-pipeline/adrenal/ENCSR362YDM_26m_nuc/fullsolo_multi_2.7.9a_2021-06-25/"
   ]
  },
  {
   "cell_type": "code",
   "execution_count": null,
   "id": "interstate-usage",
   "metadata": {},
   "outputs": [],
   "source": []
  }
 ],
 "metadata": {
  "kernelspec": {
   "display_name": "Python 3",
   "language": "python",
   "name": "python3"
  },
  "language_info": {
   "codemirror_mode": {
    "name": "ipython",
    "version": 3
   },
   "file_extension": ".py",
   "mimetype": "text/x-python",
   "name": "python",
   "nbconvert_exporter": "python",
   "pygments_lexer": "ipython3",
   "version": "3.9.1+"
  }
 },
 "nbformat": 4,
 "nbformat_minor": 5
}
