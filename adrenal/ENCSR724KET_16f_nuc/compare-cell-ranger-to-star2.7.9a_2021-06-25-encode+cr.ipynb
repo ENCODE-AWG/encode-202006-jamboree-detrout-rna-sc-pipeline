{
 "cells": [
  {
   "cell_type": "markdown",
   "id": "injured-strip",
   "metadata": {},
   "source": [
    "# Introduction"
   ]
  },
  {
   "cell_type": "markdown",
   "id": "informal-tactics",
   "metadata": {},
   "source": [
    "This my first pass at trying to check if my star parameters worked.\n",
    "\n",
    "I used the version of star and the annotation files included in the 10x cellranger-arc archive as the closest check I could manage.\n",
    "\n",
    "I had used STAR 2.7.8a for some of my other tests as the released version of 2.7.9a had a bug. But unforutnately 2.7.8a crashed with a double free error. (And illegal instruction on some other machines, probably older).\n",
    "\n",
    "So I had to use the prebuilt STAR from tag 2.7.9a_2021-06-25"
   ]
  },
  {
   "cell_type": "code",
   "execution_count": 1,
   "id": "ethical-programmer",
   "metadata": {},
   "outputs": [],
   "source": [
    "import scipy\n",
    "import pandas\n",
    "import scanpy\n",
    "import numpy\n",
    "from pathlib import Path\n",
    "from matplotlib import pyplot\n",
    "import sys\n",
    "import pysam\n",
    "from collections import Counter"
   ]
  },
  {
   "cell_type": "code",
   "execution_count": 2,
   "id": "violent-action",
   "metadata": {},
   "outputs": [
    {
     "data": {
      "text/plain": [
       "'/woldlab/loxcyc/home/diane/proj/encode-202006-jamboree-detrout-rna-sc-pipeline/adrenal/ENCSR724KET_16f_nuc'"
      ]
     },
     "execution_count": 2,
     "metadata": {},
     "output_type": "execute_result"
    }
   ],
   "source": [
    "pwd"
   ]
  },
  {
   "cell_type": "code",
   "execution_count": 3,
   "id": "breathing-glenn",
   "metadata": {},
   "outputs": [],
   "source": [
    "project_root = Path(\"../..\").absolute()\n",
    "if str(project_root) not in sys.path:\n",
    "    sys.path.append(str(project_root))\n",
    "from common import compute_spearman_anndata"
   ]
  },
  {
   "cell_type": "code",
   "execution_count": 4,
   "id": "documentary-enough",
   "metadata": {},
   "outputs": [],
   "source": [
    "def scanpy_load_solo278a_mtx(analysis_dir, quantification=\"Gene\", mode=\"filtered\"):\n",
    "    assert mode in [\"filtered\", \"raw\"], \"STAR Solo only produces raw or filtered files\"\n",
    "    assert quantification in [\"Gene\", \"GeneFull\", \"SJ\"]\n",
    "\n",
    "    analysis_dir = Path(analysis_dir)\n",
    "    feature_name = \"features.tsv\"\n",
    "    \n",
    "    solo_dir = analysis_dir / \"Solo.out\" / quantification / mode\n",
    "    solo = scanpy.read_mtx(solo_dir / \"matrix.mtx\").T\n",
    "    solo_vars = pandas.read_csv(\n",
    "        solo_dir / feature_name, header=None, sep=\"\\t\"\n",
    "    ).values.T\n",
    "    solo_obs = pandas.read_csv(\n",
    "        solo_dir / \"barcodes.tsv\", header=None, sep=\"\\t\"\n",
    "    ).values.T\n",
    "    solo.obs_names = solo_obs[0]\n",
    "    solo.var_names = solo_vars[0]\n",
    "\n",
    "    solo.obs[\"counts\"] = solo.X.sum(axis=1)\n",
    "    solo.obs[\"ngenes\"] = numpy.array((solo.X > 0).sum(axis=1))\n",
    "\n",
    "    return solo\n",
    "\n"
   ]
  },
  {
   "cell_type": "code",
   "execution_count": 5,
   "id": "comparative-smooth",
   "metadata": {},
   "outputs": [],
   "source": [
    "tenx_root = Path('ENCSR724KET_cr-arc')\n",
    "tenx_raw_path = tenx_root / 'outs' / 'raw_feature_bc_matrix'\n",
    "tenx_filtered_path = tenx_root / 'outs' / 'filtered_feature_bc_matrix'"
   ]
  },
  {
   "cell_type": "code",
   "execution_count": 6,
   "id": "informal-incidence",
   "metadata": {},
   "outputs": [],
   "source": [
    "tenx_filtered = scanpy.read_10x_mtx(tenx_filtered_path, var_names='gene_ids')\n",
    "tenx_filtered.obs_names = [x[:-2] for x in tenx_filtered.obs_names]"
   ]
  },
  {
   "cell_type": "code",
   "execution_count": 7,
   "id": "african-shower",
   "metadata": {},
   "outputs": [],
   "source": [
    "solo278a_root = Path(\"starsolo_2.7.9a_2021-06-25_encode+cr\")\n",
    "solo278a_gene = scanpy_load_solo278a_mtx(solo278a_root, \"Gene\", \"filtered\")\n",
    "solo278a_genefull = scanpy_load_solo278a_mtx(solo278a_root, \"GeneFull\", \"filtered\")"
   ]
  },
  {
   "cell_type": "code",
   "execution_count": 8,
   "id": "superb-shepherd",
   "metadata": {},
   "outputs": [
    {
     "name": "stdout",
     "output_type": "stream",
     "text": [
      "tenx filtered (13650, 36601) 80119070.0\n",
      "solo gene (14401, 36601) 41423616.0\n",
      "solo genefull (15900, 36601) 110533290.0\n"
     ]
    }
   ],
   "source": [
    "print(\"tenx filtered\", tenx_filtered.shape, tenx_filtered.X.sum())\n",
    "print(\"solo gene\", solo278a_gene.shape, solo278a_gene.X.sum())\n",
    "print(\"solo genefull\", solo278a_genefull.shape, solo278a_genefull.X.sum())"
   ]
  },
  {
   "cell_type": "code",
   "execution_count": 9,
   "id": "pediatric-reach",
   "metadata": {},
   "outputs": [],
   "source": [
    "common_barcodes = [ x for x in tenx_filtered.obs_names if x in set(tenx_filtered.obs_names).intersection(solo278a_gene.obs_names)]"
   ]
  },
  {
   "cell_type": "code",
   "execution_count": 10,
   "id": "judicial-equality",
   "metadata": {},
   "outputs": [
    {
     "data": {
      "text/plain": [
       "((12838, 36601), 39420270.0)"
      ]
     },
     "execution_count": 10,
     "metadata": {},
     "output_type": "execute_result"
    }
   ],
   "source": [
    "solo278a_filtered_gene = solo278a_gene[common_barcodes,:]\n",
    "solo278a_filtered_gene.shape, solo278a_filtered_gene.X.sum()"
   ]
  },
  {
   "cell_type": "code",
   "execution_count": 11,
   "id": "acquired-calcium",
   "metadata": {},
   "outputs": [
    {
     "data": {
      "text/plain": [
       "(12838, 1)"
      ]
     },
     "execution_count": 11,
     "metadata": {},
     "output_type": "execute_result"
    }
   ],
   "source": [
    "solo278a_filtered_gene.X.sum(axis=1).shape"
   ]
  },
  {
   "cell_type": "code",
   "execution_count": 12,
   "id": "smooth-baghdad",
   "metadata": {},
   "outputs": [],
   "source": [
    "tenx_common = tenx_filtered[common_barcodes,:]"
   ]
  },
  {
   "cell_type": "code",
   "execution_count": 13,
   "id": "hidden-wrist",
   "metadata": {},
   "outputs": [
    {
     "name": "stderr",
     "output_type": "stream",
     "text": [
      "/usr/lib/python3/dist-packages/scipy/stats/stats.py:4264: SpearmanRConstantInputWarning: An input array is constant; the correlation coefficent is not defined.\n",
      "  warnings.warn(SpearmanRConstantInputWarning())\n"
     ]
    }
   ],
   "source": [
    "filtered_cors = compute_spearman_anndata(tenx_common, solo278a_filtered_gene)"
   ]
  },
  {
   "cell_type": "code",
   "execution_count": 14,
   "id": "naughty-credits",
   "metadata": {},
   "outputs": [
    {
     "data": {
      "text/plain": [
       "View of AnnData object with n_obs × n_vars = 12838 × 36601\n",
       "    var: 'gene_symbols', 'feature_types'"
      ]
     },
     "execution_count": 14,
     "metadata": {},
     "output_type": "execute_result"
    }
   ],
   "source": [
    "tenx_common"
   ]
  },
  {
   "cell_type": "code",
   "execution_count": 15,
   "id": "freelance-houston",
   "metadata": {},
   "outputs": [],
   "source": [
    "tenx_common_sum = pandas.Series(numpy.asarray(tenx_common.X.sum(axis=1)).T[0])\n"
   ]
  },
  {
   "cell_type": "code",
   "execution_count": 16,
   "id": "premium-silicon",
   "metadata": {},
   "outputs": [
    {
     "data": {
      "text/plain": [
       "'GCATCCTTCTAAGTGC'"
      ]
     },
     "execution_count": 16,
     "metadata": {},
     "output_type": "execute_result"
    }
   ],
   "source": [
    "tenx_idxmax = tenx_common_sum.idxmax()\n",
    "tenx_max_cell = tenx_common.obs_names[tenx_idxmax]\n",
    "tenx_max_cell"
   ]
  },
  {
   "cell_type": "code",
   "execution_count": 17,
   "id": "dramatic-shelter",
   "metadata": {},
   "outputs": [
    {
     "data": {
      "text/html": [
       "<div>\n",
       "<style scoped>\n",
       "    .dataframe tbody tr th:only-of-type {\n",
       "        vertical-align: middle;\n",
       "    }\n",
       "\n",
       "    .dataframe tbody tr th {\n",
       "        vertical-align: top;\n",
       "    }\n",
       "\n",
       "    .dataframe thead th {\n",
       "        text-align: right;\n",
       "    }\n",
       "</style>\n",
       "<table border=\"1\" class=\"dataframe\">\n",
       "  <thead>\n",
       "    <tr style=\"text-align: right;\">\n",
       "      <th></th>\n",
       "      <th>GCATCCTTCTAAGTGC</th>\n",
       "    </tr>\n",
       "  </thead>\n",
       "  <tbody>\n",
       "    <tr>\n",
       "      <th>count</th>\n",
       "      <td>36601.000000</td>\n",
       "    </tr>\n",
       "    <tr>\n",
       "      <th>mean</th>\n",
       "      <td>3.866807</td>\n",
       "    </tr>\n",
       "    <tr>\n",
       "      <th>std</th>\n",
       "      <td>72.393562</td>\n",
       "    </tr>\n",
       "    <tr>\n",
       "      <th>min</th>\n",
       "      <td>0.000000</td>\n",
       "    </tr>\n",
       "    <tr>\n",
       "      <th>25%</th>\n",
       "      <td>0.000000</td>\n",
       "    </tr>\n",
       "    <tr>\n",
       "      <th>50%</th>\n",
       "      <td>0.000000</td>\n",
       "    </tr>\n",
       "    <tr>\n",
       "      <th>75%</th>\n",
       "      <td>2.000000</td>\n",
       "    </tr>\n",
       "    <tr>\n",
       "      <th>max</th>\n",
       "      <td>13634.000000</td>\n",
       "    </tr>\n",
       "  </tbody>\n",
       "</table>\n",
       "</div>"
      ],
      "text/plain": [
       "       GCATCCTTCTAAGTGC\n",
       "count      36601.000000\n",
       "mean           3.866807\n",
       "std           72.393562\n",
       "min            0.000000\n",
       "25%            0.000000\n",
       "50%            0.000000\n",
       "75%            2.000000\n",
       "max        13634.000000"
      ]
     },
     "execution_count": 17,
     "metadata": {},
     "output_type": "execute_result"
    }
   ],
   "source": [
    "tfg = tenx_filtered[tenx_max_cell].to_df().T\n",
    "tfg.describe()"
   ]
  },
  {
   "cell_type": "code",
   "execution_count": 18,
   "id": "governing-outdoors",
   "metadata": {},
   "outputs": [
    {
     "data": {
      "text/html": [
       "<div>\n",
       "<style scoped>\n",
       "    .dataframe tbody tr th:only-of-type {\n",
       "        vertical-align: middle;\n",
       "    }\n",
       "\n",
       "    .dataframe tbody tr th {\n",
       "        vertical-align: top;\n",
       "    }\n",
       "\n",
       "    .dataframe thead th {\n",
       "        text-align: right;\n",
       "    }\n",
       "</style>\n",
       "<table border=\"1\" class=\"dataframe\">\n",
       "  <thead>\n",
       "    <tr style=\"text-align: right;\">\n",
       "      <th></th>\n",
       "      <th>GCATCCTTCTAAGTGC</th>\n",
       "    </tr>\n",
       "  </thead>\n",
       "  <tbody>\n",
       "    <tr>\n",
       "      <th>count</th>\n",
       "      <td>36601.000000</td>\n",
       "    </tr>\n",
       "    <tr>\n",
       "      <th>mean</th>\n",
       "      <td>1.807382</td>\n",
       "    </tr>\n",
       "    <tr>\n",
       "      <th>std</th>\n",
       "      <td>75.380051</td>\n",
       "    </tr>\n",
       "    <tr>\n",
       "      <th>min</th>\n",
       "      <td>0.000000</td>\n",
       "    </tr>\n",
       "    <tr>\n",
       "      <th>25%</th>\n",
       "      <td>0.000000</td>\n",
       "    </tr>\n",
       "    <tr>\n",
       "      <th>50%</th>\n",
       "      <td>0.000000</td>\n",
       "    </tr>\n",
       "    <tr>\n",
       "      <th>75%</th>\n",
       "      <td>1.000000</td>\n",
       "    </tr>\n",
       "    <tr>\n",
       "      <th>max</th>\n",
       "      <td>14356.000000</td>\n",
       "    </tr>\n",
       "  </tbody>\n",
       "</table>\n",
       "</div>"
      ],
      "text/plain": [
       "       GCATCCTTCTAAGTGC\n",
       "count      36601.000000\n",
       "mean           1.807382\n",
       "std           75.380051\n",
       "min            0.000000\n",
       "25%            0.000000\n",
       "50%            0.000000\n",
       "75%            1.000000\n",
       "max        14356.000000"
      ]
     },
     "execution_count": 18,
     "metadata": {},
     "output_type": "execute_result"
    }
   ],
   "source": [
    "sfg = solo278a_filtered_gene[tenx_max_cell].to_df().T\n",
    "sfg.describe()"
   ]
  },
  {
   "cell_type": "code",
   "execution_count": null,
   "id": "pending-ability",
   "metadata": {},
   "outputs": [],
   "source": []
  },
  {
   "cell_type": "code",
   "execution_count": 19,
   "id": "joint-chorus",
   "metadata": {},
   "outputs": [],
   "source": [
    "assert numpy.all(tfg.index == sfg.index), \"feature lists are not in same order \""
   ]
  },
  {
   "cell_type": "code",
   "execution_count": 20,
   "id": "alike-switch",
   "metadata": {},
   "outputs": [],
   "source": [
    "rad = (numpy.abs(sfg - tfg) / numpy.maximum(sfg, tfg))"
   ]
  },
  {
   "cell_type": "code",
   "execution_count": 21,
   "id": "dental-stadium",
   "metadata": {},
   "outputs": [
    {
     "data": {
      "text/plain": [
       "<AxesSubplot:ylabel='Frequency'>"
      ]
     },
     "execution_count": 21,
     "metadata": {},
     "output_type": "execute_result"
    },
    {
     "data": {
      "image/png": "[encoded data removed]",
      "text/plain": [
       "<Figure size 432x288 with 1 Axes>"
      ]
     },
     "metadata": {
      "needs_background": "light"
     },
     "output_type": "display_data"
    }
   ],
   "source": [
    "rad.plot.hist(bins=50)"
   ]
  },
  {
   "cell_type": "code",
   "execution_count": 22,
   "id": "hearing-honduras",
   "metadata": {},
   "outputs": [],
   "source": [
    "combined_gene = pandas.merge(sfg, tfg, left_index=True, right_index=True, suffixes=(\"_star\", \"_cr-arc\"))"
   ]
  },
  {
   "cell_type": "markdown",
   "id": "conditional-happiness",
   "metadata": {},
   "source": [
    "# Compare cell GCATCCTTCTAAGTGC between cellranger and STAR solo gene"
   ]
  },
  {
   "cell_type": "code",
   "execution_count": 23,
   "id": "agreed-florence",
   "metadata": {},
   "outputs": [
    {
     "name": "stderr",
     "output_type": "stream",
     "text": [
      "<ipython-input-23-3fd4f3200269>:4: RuntimeWarning: divide by zero encountered in log2\n",
      "  p = numpy.log2(combined_gene).plot.scatter(x=\"{}_star\".format(tenx_max_cell), y=\"{}_cr-arc\".format(tenx_max_cell), ax=ax)\n"
     ]
    },
    {
     "data": {
      "image/png": "[encoded data removed]",
      "text/plain": [
       "<Figure size 432x288 with 1 Axes>"
      ]
     },
     "metadata": {
      "needs_background": "light"
     },
     "output_type": "display_data"
    }
   ],
   "source": [
    "f = pyplot.figure()\n",
    "ax = f.add_subplot(1,1,1)\n",
    "\n",
    "p = numpy.log2(combined_gene).plot.scatter(x=\"{}_star\".format(tenx_max_cell), y=\"{}_cr-arc\".format(tenx_max_cell), ax=ax)\n",
    "#ax.set_xscale('log')\n",
    "#ax.set_yscale('log')\n",
    "#ax.set_xlim(0,1e5)\n",
    "#ax.set_ylim(0,1e5)\n",
    "ax.grid(alpha=.5)"
   ]
  },
  {
   "cell_type": "markdown",
   "id": "seeing-imperial",
   "metadata": {},
   "source": [
    "Wait a second... that looks like cell ranger has higher expression... what did they change? Are they counting introns? Multireads?"
   ]
  },
  {
   "cell_type": "code",
   "execution_count": 24,
   "id": "democratic-encoding",
   "metadata": {},
   "outputs": [
    {
     "name": "stderr",
     "output_type": "stream",
     "text": [
      "/usr/lib/python3/dist-packages/scipy/stats/stats.py:4264: SpearmanRConstantInputWarning: An input array is constant; the correlation coefficent is not defined.\n",
      "  warnings.warn(SpearmanRConstantInputWarning())\n"
     ]
    }
   ],
   "source": [
    "gene_cors = compute_spearman_anndata(tenx_common, solo278a_filtered_gene)"
   ]
  },
  {
   "cell_type": "markdown",
   "id": "infrared-hampton",
   "metadata": {},
   "source": [
    "# Compare per cell gene spearman correlation"
   ]
  },
  {
   "cell_type": "markdown",
   "id": "democratic-revelation",
   "metadata": {},
   "source": [
    "There is a warning message from the spearman function complaining that the input matrix has an issue, so this histogram may be incorrect."
   ]
  },
  {
   "cell_type": "code",
   "execution_count": 25,
   "id": "educational-horror",
   "metadata": {},
   "outputs": [
    {
     "data": {
      "text/plain": [
       "<AxesSubplot:ylabel='Frequency'>"
      ]
     },
     "execution_count": 25,
     "metadata": {},
     "output_type": "execute_result"
    },
    {
     "data": {
      "image/png": "[encoded data removed]",
      "text/plain": [
       "<Figure size 432x288 with 1 Axes>"
      ]
     },
     "metadata": {
      "needs_background": "light"
     },
     "output_type": "display_data"
    }
   ],
   "source": [
    "gene_cors.plot.hist(bins=50)"
   ]
  },
  {
   "cell_type": "markdown",
   "id": "bright-toolbox",
   "metadata": {},
   "source": [
    "# Prepare GeneFull comparisons"
   ]
  },
  {
   "cell_type": "code",
   "execution_count": 26,
   "id": "saving-pointer",
   "metadata": {},
   "outputs": [
    {
     "data": {
      "text/html": [
       "<div>\n",
       "<style scoped>\n",
       "    .dataframe tbody tr th:only-of-type {\n",
       "        vertical-align: middle;\n",
       "    }\n",
       "\n",
       "    .dataframe tbody tr th {\n",
       "        vertical-align: top;\n",
       "    }\n",
       "\n",
       "    .dataframe thead th {\n",
       "        text-align: right;\n",
       "    }\n",
       "</style>\n",
       "<table border=\"1\" class=\"dataframe\">\n",
       "  <thead>\n",
       "    <tr style=\"text-align: right;\">\n",
       "      <th></th>\n",
       "      <th>GCATCCTTCTAAGTGC</th>\n",
       "    </tr>\n",
       "  </thead>\n",
       "  <tbody>\n",
       "    <tr>\n",
       "      <th>count</th>\n",
       "      <td>36601.000000</td>\n",
       "    </tr>\n",
       "    <tr>\n",
       "      <th>mean</th>\n",
       "      <td>5.429824</td>\n",
       "    </tr>\n",
       "    <tr>\n",
       "      <th>std</th>\n",
       "      <td>76.578346</td>\n",
       "    </tr>\n",
       "    <tr>\n",
       "      <th>min</th>\n",
       "      <td>0.000000</td>\n",
       "    </tr>\n",
       "    <tr>\n",
       "      <th>25%</th>\n",
       "      <td>0.000000</td>\n",
       "    </tr>\n",
       "    <tr>\n",
       "      <th>50%</th>\n",
       "      <td>0.000000</td>\n",
       "    </tr>\n",
       "    <tr>\n",
       "      <th>75%</th>\n",
       "      <td>2.000000</td>\n",
       "    </tr>\n",
       "    <tr>\n",
       "      <th>max</th>\n",
       "      <td>14143.000000</td>\n",
       "    </tr>\n",
       "  </tbody>\n",
       "</table>\n",
       "</div>"
      ],
      "text/plain": [
       "       GCATCCTTCTAAGTGC\n",
       "count      36601.000000\n",
       "mean           5.429824\n",
       "std           76.578346\n",
       "min            0.000000\n",
       "25%            0.000000\n",
       "50%            0.000000\n",
       "75%            2.000000\n",
       "max        14143.000000"
      ]
     },
     "execution_count": 26,
     "metadata": {},
     "output_type": "execute_result"
    }
   ],
   "source": [
    "common_genefull_barcodes = [ x for x in tenx_filtered.obs_names if x in set(tenx_filtered.obs_names).intersection(solo278a_genefull.obs_names)]\n",
    "solo278a_filtered_genefull = solo278a_genefull[common_genefull_barcodes,:]\n",
    "sfgf = solo278a_filtered_genefull[tenx_max_cell].to_df().T\n",
    "sfgf.describe()"
   ]
  },
  {
   "cell_type": "code",
   "execution_count": 27,
   "id": "configured-uniform",
   "metadata": {},
   "outputs": [],
   "source": [
    "combined_genefull = pandas.merge(sfgf, tfg, left_index=True, right_index=True, suffixes=(\"_star\", \"_cr-arc\"))"
   ]
  },
  {
   "cell_type": "code",
   "execution_count": 28,
   "id": "possible-direction",
   "metadata": {},
   "outputs": [],
   "source": [
    "def plot_cell(star, cr, cell):\n",
    "    star_cell = star[cell].to_df().T\n",
    "    cr_cell = cr[cell].to_df().T\n",
    "    combined = pandas.merge(star_cell, cr_cell, left_index=True, right_index=True, suffixes=(\"_star\", \"_cr-arc\"))\n",
    "    f = pyplot.figure()\n",
    "    ax = f.add_subplot(1,1,1)\n",
    "\n",
    "    p = numpy.log2(combined).plot.scatter(x=\"{}_star\".format(cell), y=\"{}_cr-arc\".format(cell), ax=ax)\n",
    "    #ax.set_xscale('log')\n",
    "    #ax.set_yscale('log')\n",
    "    #ax.set_xlim(0,1e5)\n",
    "    #ax.set_ylim(0,1e5)\n",
    "    ax.grid(alpha=.5)"
   ]
  },
  {
   "cell_type": "markdown",
   "id": "consecutive-provider",
   "metadata": {},
   "source": [
    "# Compare cell GCATCCTTCTAAGTGC between cellranger and STAR solo genefull"
   ]
  },
  {
   "cell_type": "code",
   "execution_count": 29,
   "id": "subtle-outside",
   "metadata": {},
   "outputs": [
    {
     "name": "stderr",
     "output_type": "stream",
     "text": [
      "<ipython-input-28-35c547c9dd5b>:8: RuntimeWarning: divide by zero encountered in log2\n",
      "  p = numpy.log2(combined).plot.scatter(x=\"{}_star\".format(cell), y=\"{}_cr-arc\".format(cell), ax=ax)\n"
     ]
    },
    {
     "data": {
      "image/png": "[encoded data removed]",
      "text/plain": [
       "<Figure size 432x288 with 1 Axes>"
      ]
     },
     "metadata": {
      "needs_background": "light"
     },
     "output_type": "display_data"
    }
   ],
   "source": [
    "plot_cell(solo278a_filtered_genefull, tenx_filtered, tenx_max_cell)"
   ]
  },
  {
   "cell_type": "code",
   "execution_count": 30,
   "id": "bound-january",
   "metadata": {},
   "outputs": [
    {
     "name": "stderr",
     "output_type": "stream",
     "text": [
      "/usr/lib/python3/dist-packages/scipy/stats/stats.py:4264: SpearmanRConstantInputWarning: An input array is constant; the correlation coefficent is not defined.\n",
      "  warnings.warn(SpearmanRConstantInputWarning())\n"
     ]
    }
   ],
   "source": [
    "tenx_common_genefull = tenx_filtered[common_genefull_barcodes,:]\n",
    "genefull_cors = compute_spearman_anndata(tenx_common_genefull, solo278a_filtered_genefull)"
   ]
  },
  {
   "cell_type": "markdown",
   "id": "average-sigma",
   "metadata": {},
   "source": [
    "# Plot GeneFull correlations"
   ]
  },
  {
   "cell_type": "code",
   "execution_count": 31,
   "id": "olive-collectible",
   "metadata": {},
   "outputs": [
    {
     "data": {
      "text/plain": [
       "<AxesSubplot:ylabel='Frequency'>"
      ]
     },
     "execution_count": 31,
     "metadata": {},
     "output_type": "execute_result"
    },
    {
     "data": {
      "image/png": "[encoded data removed]",
      "text/plain": [
       "<Figure size 432x288 with 1 Axes>"
      ]
     },
     "metadata": {
      "needs_background": "light"
     },
     "output_type": "display_data"
    }
   ],
   "source": [
    "genefull_cors.plot.hist(bins=50)"
   ]
  },
  {
   "cell_type": "markdown",
   "id": "dedicated-translator",
   "metadata": {},
   "source": [
    "Well that's an improvement. Looks like they're counting introns."
   ]
  },
  {
   "cell_type": "code",
   "execution_count": 32,
   "id": "restricted-british",
   "metadata": {},
   "outputs": [
    {
     "data": {
      "text/plain": [
       "AACAAGCCAACCCTCC    0.808151\n",
       "AACAGGATCGGGATTT    0.802919\n",
       "AACCTAATCCCTGGAA    0.801640\n",
       "AACCTAATCTTAGCCC    0.807804\n",
       "AAGAATCAGTGAACAG    0.803913\n",
       "                      ...   \n",
       "TTTGACTTCTCACATT    0.806990\n",
       "TTTGTCCCATGTCAGC    0.803183\n",
       "TTTGTCTAGGCCAATT    0.806227\n",
       "TTTGTTGGTAATCACG    0.806600\n",
       "TTTGTTGGTGAGCAAG    0.809251\n",
       "Length: 227, dtype: float64"
      ]
     },
     "execution_count": 32,
     "metadata": {},
     "output_type": "execute_result"
    }
   ],
   "source": [
    "genefull_cors[(genefull_cors > 0.8) & (genefull_cors < 0.81)]"
   ]
  },
  {
   "cell_type": "code",
   "execution_count": 33,
   "id": "infectious-halifax",
   "metadata": {},
   "outputs": [],
   "source": [
    "cell_id = genefull_cors[(genefull_cors > 0.8) & (genefull_cors < 0.81)].index[0]"
   ]
  },
  {
   "cell_type": "code",
   "execution_count": 34,
   "id": "indian-congress",
   "metadata": {},
   "outputs": [
    {
     "name": "stderr",
     "output_type": "stream",
     "text": [
      "<ipython-input-28-35c547c9dd5b>:8: RuntimeWarning: divide by zero encountered in log2\n",
      "  p = numpy.log2(combined).plot.scatter(x=\"{}_star\".format(cell), y=\"{}_cr-arc\".format(cell), ax=ax)\n"
     ]
    },
    {
     "data": {
      "image/png": "[encoded data removed]",
      "text/plain": [
       "<Figure size 432x288 with 1 Axes>"
      ]
     },
     "metadata": {
      "needs_background": "light"
     },
     "output_type": "display_data"
    }
   ],
   "source": [
    "plot_cell(solo278a_filtered_genefull, tenx_filtered, cell_id)"
   ]
  },
  {
   "cell_type": "code",
   "execution_count": 63,
   "id": "australian-extra",
   "metadata": {},
   "outputs": [
    {
     "data": {
      "text/plain": [
       "(36601, 2)"
      ]
     },
     "execution_count": 63,
     "metadata": {},
     "output_type": "execute_result"
    }
   ],
   "source": [
    "ok_solo_cell = solo278a_filtered_genefull[cell_id].to_df().T\n",
    "ok_cr_cell = tenx_common_genefull[cell_id].to_df().T\n",
    "\n",
    "ok_cells = pandas.merge(ok_solo_cell, ok_cr_cell, left_index=True, right_index=True, suffixes=(\"_solo\", \"_cr\"))\n",
    "\n",
    "ok_cells.shape"
   ]
  },
  {
   "cell_type": "code",
   "execution_count": 37,
   "id": "peripheral-imperial",
   "metadata": {},
   "outputs": [],
   "source": [
    "different =  (ok_cells['{}_solo'.format(cell_id)] != ok_cells['{}_cr'.format(cell_id)])\n"
   ]
  },
  {
   "cell_type": "code",
   "execution_count": 39,
   "id": "acceptable-wayne",
   "metadata": {},
   "outputs": [
    {
     "data": {
      "text/html": [
       "<div>\n",
       "<style scoped>\n",
       "    .dataframe tbody tr th:only-of-type {\n",
       "        vertical-align: middle;\n",
       "    }\n",
       "\n",
       "    .dataframe tbody tr th {\n",
       "        vertical-align: top;\n",
       "    }\n",
       "\n",
       "    .dataframe thead th {\n",
       "        text-align: right;\n",
       "    }\n",
       "</style>\n",
       "<table border=\"1\" class=\"dataframe\">\n",
       "  <thead>\n",
       "    <tr style=\"text-align: right;\">\n",
       "      <th></th>\n",
       "      <th>AACAAGCCAACCCTCC_solo</th>\n",
       "      <th>AACAAGCCAACCCTCC_cr</th>\n",
       "    </tr>\n",
       "  </thead>\n",
       "  <tbody>\n",
       "    <tr>\n",
       "      <th>ENSG00000229152</th>\n",
       "      <td>0.0</td>\n",
       "      <td>1.0</td>\n",
       "    </tr>\n",
       "    <tr>\n",
       "      <th>ENSG00000139436</th>\n",
       "      <td>0.0</td>\n",
       "      <td>1.0</td>\n",
       "    </tr>\n",
       "    <tr>\n",
       "      <th>ENSG00000197584</th>\n",
       "      <td>0.0</td>\n",
       "      <td>1.0</td>\n",
       "    </tr>\n",
       "    <tr>\n",
       "      <th>ENSG00000135111</th>\n",
       "      <td>0.0</td>\n",
       "      <td>2.0</td>\n",
       "    </tr>\n",
       "    <tr>\n",
       "      <th>ENSG00000111786</th>\n",
       "      <td>0.0</td>\n",
       "      <td>1.0</td>\n",
       "    </tr>\n",
       "    <tr>\n",
       "      <th>...</th>\n",
       "      <td>...</td>\n",
       "      <td>...</td>\n",
       "    </tr>\n",
       "    <tr>\n",
       "      <th>ENSG00000181722</th>\n",
       "      <td>25.0</td>\n",
       "      <td>17.0</td>\n",
       "    </tr>\n",
       "    <tr>\n",
       "      <th>ENSG00000099204</th>\n",
       "      <td>28.0</td>\n",
       "      <td>19.0</td>\n",
       "    </tr>\n",
       "    <tr>\n",
       "      <th>ENSG00000245532</th>\n",
       "      <td>28.0</td>\n",
       "      <td>23.0</td>\n",
       "    </tr>\n",
       "    <tr>\n",
       "      <th>ENSG00000148655</th>\n",
       "      <td>29.0</td>\n",
       "      <td>14.0</td>\n",
       "    </tr>\n",
       "    <tr>\n",
       "      <th>ENSG00000251562</th>\n",
       "      <td>397.0</td>\n",
       "      <td>393.0</td>\n",
       "    </tr>\n",
       "  </tbody>\n",
       "</table>\n",
       "<p>1545 rows × 2 columns</p>\n",
       "</div>"
      ],
      "text/plain": [
       "                 AACAAGCCAACCCTCC_solo  AACAAGCCAACCCTCC_cr\n",
       "ENSG00000229152                    0.0                  1.0\n",
       "ENSG00000139436                    0.0                  1.0\n",
       "ENSG00000197584                    0.0                  1.0\n",
       "ENSG00000135111                    0.0                  2.0\n",
       "ENSG00000111786                    0.0                  1.0\n",
       "...                                ...                  ...\n",
       "ENSG00000181722                   25.0                 17.0\n",
       "ENSG00000099204                   28.0                 19.0\n",
       "ENSG00000245532                   28.0                 23.0\n",
       "ENSG00000148655                   29.0                 14.0\n",
       "ENSG00000251562                  397.0                393.0\n",
       "\n",
       "[1545 rows x 2 columns]"
      ]
     },
     "execution_count": 39,
     "metadata": {},
     "output_type": "execute_result"
    }
   ],
   "source": [
    "ok_cells[different].sort_values(by=\"{}_solo\".format(cell_id))"
   ]
  },
  {
   "cell_type": "code",
   "execution_count": 64,
   "id": "young-commissioner",
   "metadata": {},
   "outputs": [
    {
     "data": {
      "text/html": [
       "<div>\n",
       "<style scoped>\n",
       "    .dataframe tbody tr th:only-of-type {\n",
       "        vertical-align: middle;\n",
       "    }\n",
       "\n",
       "    .dataframe tbody tr th {\n",
       "        vertical-align: top;\n",
       "    }\n",
       "\n",
       "    .dataframe thead th {\n",
       "        text-align: right;\n",
       "    }\n",
       "</style>\n",
       "<table border=\"1\" class=\"dataframe\">\n",
       "  <thead>\n",
       "    <tr style=\"text-align: right;\">\n",
       "      <th></th>\n",
       "      <th>AACAAGCCAACCCTCC_solo</th>\n",
       "      <th>AACAAGCCAACCCTCC_cr</th>\n",
       "    </tr>\n",
       "  </thead>\n",
       "  <tbody>\n",
       "    <tr>\n",
       "      <th>ENSG00000131591</th>\n",
       "      <td>1.0</td>\n",
       "      <td>0.0</td>\n",
       "    </tr>\n",
       "    <tr>\n",
       "      <th>ENSG00000165119</th>\n",
       "      <td>1.0</td>\n",
       "      <td>0.0</td>\n",
       "    </tr>\n",
       "    <tr>\n",
       "      <th>ENSG00000196312</th>\n",
       "      <td>1.0</td>\n",
       "      <td>0.0</td>\n",
       "    </tr>\n",
       "    <tr>\n",
       "      <th>ENSG00000196116</th>\n",
       "      <td>1.0</td>\n",
       "      <td>0.0</td>\n",
       "    </tr>\n",
       "    <tr>\n",
       "      <th>ENSG00000136937</th>\n",
       "      <td>1.0</td>\n",
       "      <td>0.0</td>\n",
       "    </tr>\n",
       "    <tr>\n",
       "      <th>...</th>\n",
       "      <td>...</td>\n",
       "      <td>...</td>\n",
       "    </tr>\n",
       "    <tr>\n",
       "      <th>ENSG00000181722</th>\n",
       "      <td>25.0</td>\n",
       "      <td>17.0</td>\n",
       "    </tr>\n",
       "    <tr>\n",
       "      <th>ENSG00000099204</th>\n",
       "      <td>28.0</td>\n",
       "      <td>19.0</td>\n",
       "    </tr>\n",
       "    <tr>\n",
       "      <th>ENSG00000245532</th>\n",
       "      <td>28.0</td>\n",
       "      <td>23.0</td>\n",
       "    </tr>\n",
       "    <tr>\n",
       "      <th>ENSG00000069667</th>\n",
       "      <td>15.0</td>\n",
       "      <td>28.0</td>\n",
       "    </tr>\n",
       "    <tr>\n",
       "      <th>ENSG00000251562</th>\n",
       "      <td>397.0</td>\n",
       "      <td>393.0</td>\n",
       "    </tr>\n",
       "  </tbody>\n",
       "</table>\n",
       "<p>1545 rows × 2 columns</p>\n",
       "</div>"
      ],
      "text/plain": [
       "                 AACAAGCCAACCCTCC_solo  AACAAGCCAACCCTCC_cr\n",
       "ENSG00000131591                    1.0                  0.0\n",
       "ENSG00000165119                    1.0                  0.0\n",
       "ENSG00000196312                    1.0                  0.0\n",
       "ENSG00000196116                    1.0                  0.0\n",
       "ENSG00000136937                    1.0                  0.0\n",
       "...                                ...                  ...\n",
       "ENSG00000181722                   25.0                 17.0\n",
       "ENSG00000099204                   28.0                 19.0\n",
       "ENSG00000245532                   28.0                 23.0\n",
       "ENSG00000069667                   15.0                 28.0\n",
       "ENSG00000251562                  397.0                393.0\n",
       "\n",
       "[1545 rows x 2 columns]"
      ]
     },
     "execution_count": 64,
     "metadata": {},
     "output_type": "execute_result"
    }
   ],
   "source": [
    "ok_cells[different].sort_values(by=\"{}_cr\".format(cell_id))"
   ]
  },
  {
   "cell_type": "code",
   "execution_count": 41,
   "id": "infrared-kernel",
   "metadata": {},
   "outputs": [],
   "source": [
    "store = pandas.HDFStore(\"/woldlab/loxcyc/home/diane/proj/encode-202006-jamboree-detrout-rna-sc-pipeline/genome/GRCh38-arc2.0-2.7.8a/GRCh38-arc2.0-2.7.8a.h5\")\n",
    "gtf = store[\"/gtf\"]\n",
    "store.close()"
   ]
  },
  {
   "cell_type": "code",
   "execution_count": 84,
   "id": "crude-saying",
   "metadata": {},
   "outputs": [],
   "source": [
    "gene_id = \"ENSG00000148655\"\n",
    "gene = gtf[(gtf[\"gene_id\"] == gene_id) & (gtf[\"type\"] == \"gene\")]"
   ]
  },
  {
   "cell_type": "code",
   "execution_count": 85,
   "id": "listed-eight",
   "metadata": {},
   "outputs": [],
   "source": [
    "ensg = gene.loc[gene.first_valid_index()]"
   ]
  },
  {
   "cell_type": "code",
   "execution_count": 54,
   "id": "paperback-shanghai",
   "metadata": {},
   "outputs": [],
   "source": [
    "tenx_bam = pysam.AlignmentFile(tenx_root / \"outs\" / \"gex_possorted_bam.bam\", \"rb\")\n",
    "solo_bam = pysam.AlignmentFile(solo278a_root / \"Aligned.sortedByCoord.out.bam\", \"rb\")"
   ]
  },
  {
   "cell_type": "code",
   "execution_count": 55,
   "id": "hungarian-mouse",
   "metadata": {},
   "outputs": [
    {
     "name": "stdout",
     "output_type": "stream",
     "text": [
      "Solo len=882393, CR len=877946\n"
     ]
    }
   ],
   "source": [
    "tenx_all_reads = list(tenx_bam.fetch(ensg.chromosome, ensg.start, ensg.stop))\n",
    "solo_all_reads = list(solo_bam.fetch(ensg.chromosome, ensg.start, ensg.stop))\n",
    "print(\"Solo len={}, CR len={}\".format(len(solo_all_reads), len(tenx_all_reads)))"
   ]
  },
  {
   "cell_type": "markdown",
   "id": "unable-advance",
   "metadata": {},
   "source": [
    "X_all_reads is everything in this tenx run, so is many libraries and many UMIs."
   ]
  },
  {
   "cell_type": "code",
   "execution_count": 56,
   "id": "tribal-water",
   "metadata": {},
   "outputs": [
    {
     "name": "stdout",
     "output_type": "stream",
     "text": [
      "Solo len=53, CR len=53\n"
     ]
    }
   ],
   "source": [
    "tenx_cell_id = cell_id + \"-1\"\n",
    "tenx_reads = [x for x in tenx_all_reads if x.has_tag(\"CB\") and x.get_tag(\"CB\") == tenx_cell_id]\n",
    "solo_reads = [x for x in solo_all_reads if x.has_tag(\"CB\") and x.get_tag(\"CB\") == cell_id]\n",
    "print(\"Solo len={}, CR len={}\".format(len(solo_reads), len(tenx_reads)))"
   ]
  },
  {
   "cell_type": "code",
   "execution_count": 57,
   "id": "material-monkey",
   "metadata": {},
   "outputs": [
    {
     "data": {
      "text/plain": [
       "set()"
      ]
     },
     "execution_count": 57,
     "metadata": {},
     "output_type": "execute_result"
    }
   ],
   "source": [
    "set([x.query_name for x in tenx_reads]).symmetric_difference([x.query_name for x in solo_reads])"
   ]
  },
  {
   "cell_type": "code",
   "execution_count": 60,
   "id": "demanding-handle",
   "metadata": {},
   "outputs": [
    {
     "data": {
      "text/plain": [
       "31"
      ]
     },
     "execution_count": 60,
     "metadata": {},
     "output_type": "execute_result"
    }
   ],
   "source": [
    "tenx_umis = Counter([x.get_tag(\"UR\") for x in tenx_reads])\n",
    "len(tenx_umis)"
   ]
  },
  {
   "cell_type": "code",
   "execution_count": 62,
   "id": "smoking-grain",
   "metadata": {},
   "outputs": [
    {
     "data": {
      "text/plain": [
       "31"
      ]
     },
     "execution_count": 62,
     "metadata": {},
     "output_type": "execute_result"
    }
   ],
   "source": [
    "solo_umis = Counter([x.get_tag(\"UR\") for x in solo_reads])\n",
    "len(solo_umis)"
   ]
  },
  {
   "cell_type": "code",
   "execution_count": 65,
   "id": "material-trigger",
   "metadata": {},
   "outputs": [
    {
     "data": {
      "text/html": [
       "<div>\n",
       "<style scoped>\n",
       "    .dataframe tbody tr th:only-of-type {\n",
       "        vertical-align: middle;\n",
       "    }\n",
       "\n",
       "    .dataframe tbody tr th {\n",
       "        vertical-align: top;\n",
       "    }\n",
       "\n",
       "    .dataframe thead th {\n",
       "        text-align: right;\n",
       "    }\n",
       "</style>\n",
       "<table border=\"1\" class=\"dataframe\">\n",
       "  <thead>\n",
       "    <tr style=\"text-align: right;\">\n",
       "      <th></th>\n",
       "      <th>chromosome</th>\n",
       "      <th>source</th>\n",
       "      <th>type</th>\n",
       "      <th>start</th>\n",
       "      <th>stop</th>\n",
       "      <th>score</th>\n",
       "      <th>strand</th>\n",
       "      <th>frame</th>\n",
       "      <th>gene_id</th>\n",
       "      <th>gene_version</th>\n",
       "      <th>...</th>\n",
       "      <th>transcript_type</th>\n",
       "      <th>transcript_name</th>\n",
       "      <th>transcript_support_level</th>\n",
       "      <th>havana_transcript</th>\n",
       "      <th>exon_number</th>\n",
       "      <th>exon_id</th>\n",
       "      <th>exon_version</th>\n",
       "      <th>protein_id</th>\n",
       "      <th>ccdsid</th>\n",
       "      <th>ont</th>\n",
       "    </tr>\n",
       "  </thead>\n",
       "  <tbody>\n",
       "    <tr>\n",
       "      <th>1387293</th>\n",
       "      <td>chr10</td>\n",
       "      <td>HAVANA</td>\n",
       "      <td>gene</td>\n",
       "      <td>75431624</td>\n",
       "      <td>76560168</td>\n",
       "      <td>NaN</td>\n",
       "      <td>1</td>\n",
       "      <td>NaN</td>\n",
       "      <td>ENSG00000148655</td>\n",
       "      <td>15</td>\n",
       "      <td>...</td>\n",
       "      <td>NaN</td>\n",
       "      <td>NaN</td>\n",
       "      <td>NaN</td>\n",
       "      <td>NaN</td>\n",
       "      <td>NaN</td>\n",
       "      <td>NaN</td>\n",
       "      <td>NaN</td>\n",
       "      <td>NaN</td>\n",
       "      <td>NaN</td>\n",
       "      <td>NaN</td>\n",
       "    </tr>\n",
       "  </tbody>\n",
       "</table>\n",
       "<p>1 rows × 28 columns</p>\n",
       "</div>"
      ],
      "text/plain": [
       "        chromosome  source  type     start      stop  score  strand  frame  \\\n",
       "1387293      chr10  HAVANA  gene  75431624  76560168    NaN       1    NaN   \n",
       "\n",
       "                 gene_id gene_version  ... transcript_type transcript_name  \\\n",
       "1387293  ENSG00000148655           15  ...             NaN             NaN   \n",
       "\n",
       "         transcript_support_level havana_transcript exon_number exon_id  \\\n",
       "1387293                       NaN               NaN         NaN     NaN   \n",
       "\n",
       "        exon_version protein_id ccdsid  ont  \n",
       "1387293          NaN        NaN    NaN  NaN  \n",
       "\n",
       "[1 rows x 28 columns]"
      ]
     },
     "execution_count": 65,
     "metadata": {},
     "output_type": "execute_result"
    }
   ],
   "source": [
    "gene"
   ]
  },
  {
   "cell_type": "code",
   "execution_count": 92,
   "id": "armed-sterling",
   "metadata": {},
   "outputs": [
    {
     "name": "stdout",
     "output_type": "stream",
     "text": [
      "15 53 14.0\n"
     ]
    },
    {
     "data": {
      "text/plain": [
       "[('chr10', 75447245, 75447335, False, 'TGACAAAACTTA'),\n",
       " ('chr10', 75447267, 75447357, False, 'TGACAAAACTTA'),\n",
       " ('chr10', 75447302, 75447392, False, 'TGACAAAACTTA'),\n",
       " ('chr10', 75447328, 75447418, False, 'TGACAAAACTTA'),\n",
       " ('chr10', 75449614, 75449704, True, 'CGACTAGAACGA'),\n",
       " ('chr10', 75449628, 75449718, True, 'CGACTAGAACGA'),\n",
       " ('chr10', 75483405, 75483465, False, 'AAGAGTACTGAT'),\n",
       " ('chr10', 75484017, 75484077, True, 'TGCACATATTCT'),\n",
       " ('chr10', 75507399, 75507489, True, 'TTTTATGAGAAC'),\n",
       " ('chr10', 75547324, 75547414, False, 'AGACGCACCGTT'),\n",
       " ('chr10', 75547462, 75547552, False, 'AGACGCACCGTT'),\n",
       " ('chr10', 75577888, 75577978, False, 'ATACCAGTTAGT'),\n",
       " ('chr10', 75587774, 75587864, False, 'TCTGCCAGCTCA'),\n",
       " ('chr10', 75595660, 75595750, False, 'TACTACCTACCG'),\n",
       " ('chr10', 75596653, 75596743, True, 'CCGCTGATCTTT'),\n",
       " ('chr10', 75632359, 75632448, False, 'CTACTTAGACTT'),\n",
       " ('chr10', 75650544, 75650634, True, 'AGTCCAACTCAC'),\n",
       " ('chr10', 75650574, 75650664, True, 'AGTCCAACTCAC'),\n",
       " ('chr10', 75650679, 75650769, True, 'AGTCCAACTCAC'),\n",
       " ('chr10', 75669678, 75669768, False, 'TTAGCTTATAGA'),\n",
       " ('chr10', 75672655, 75672745, True, 'TGATATTGGGAC'),\n",
       " ('chr10', 75672734, 75672794, True, 'AAAAAAGACTGG'),\n",
       " ('chr10', 75672821, 75672911, True, 'CCACTGTGTAGA'),\n",
       " ('chr10', 75695741, 75695831, False, 'TATTACGAGCTC'),\n",
       " ('chr10', 75771717, 75771777, False, 'TAAGTGAAATTG'),\n",
       " ('chr10', 75771717, 75771779, False, 'TAAGTGAAATTG'),\n",
       " ('chr10', 75797104, 75797194, True, 'AAACGATATACG'),\n",
       " ('chr10', 75827251, 75827341, False, 'ACGCGTTCCATT'),\n",
       " ('chr10', 75827505, 75827595, False, 'ACGCGTTCCATT'),\n",
       " ('chr10', 75835848, 75835938, False, 'TGTTCGCTTAAG'),\n",
       " ('chr10', 75839531, 75839584, True, 'GAGACCAGGGGC'),\n",
       " ('chr10', 75870617, 75870707, True, 'AGACCAAATTAG'),\n",
       " ('chr10', 75870623, 75870713, True, 'AGACCAAATTAG'),\n",
       " ('chr10', 75870820, 75870910, True, 'AGACCAAATTAG'),\n",
       " ('chr10', 75895443, 75895517, False, 'CGTACACACAAC'),\n",
       " ('chr10', 75895444, 75895509, False, 'CGTACACACAAC'),\n",
       " ('chr10', 75905293, 75905383, False, 'CTTTCGCGACCA'),\n",
       " ('chr10', 75905371, 75905461, False, 'CTTTCGCGACCA'),\n",
       " ('chr10', 75905445, 75905535, True, 'CTTTCGCGACCA'),\n",
       " ('chr10', 75928400, 75928490, True, 'CAGAGCACCACA'),\n",
       " ('chr10', 75973520, 75973610, True, 'GGCACATCAACG'),\n",
       " ('chr10', 75976368, 75976458, False, 'TCTGCGACCCGA'),\n",
       " ('chr10', 76093716, 76093806, True, 'TCTTCCATTCTC'),\n",
       " ('chr10', 76224821, 76224911, True, 'AGCCCGATCCAC'),\n",
       " ('chr10', 76224852, 76224942, True, 'AGCCCGATCCAC'),\n",
       " ('chr10', 76276313, 76276403, True, 'ATCAGATTATCT')]"
      ]
     },
     "execution_count": 92,
     "metadata": {},
     "output_type": "execute_result"
    }
   ],
   "source": [
    "locs = set()\n",
    "umis_seen = set()\n",
    "count = 0\n",
    "for read in tenx_reads:\n",
    "    if read.is_reverse == False and read.get_tag(\"UB\") not in umis_seen:\n",
    "        umis_seen.add(read.get_tag(\"UB\"))\n",
    "        count += 1    \n",
    "    locs.add((read.reference_name, read.reference_start, read.reference_end, read.is_reverse, read.get_tag(\"UB\")))\n",
    "\n",
    "print(count, len(solo_reads), ok_cells.loc[gene_id][\"{}_cr\".format(cell_id)])\n",
    "sorted(locs)"
   ]
  },
  {
   "cell_type": "code",
   "execution_count": 99,
   "id": "aboriginal-vertical",
   "metadata": {},
   "outputs": [
    {
     "name": "stdout",
     "output_type": "stream",
     "text": [
      "31 53 29.0\n"
     ]
    },
    {
     "data": {
      "text/plain": [
       "[('chr10', 75447245, 75447335, False, 'TGACAAAACTTA'),\n",
       " ('chr10', 75447267, 75447357, False, 'TGACAAAACTTA'),\n",
       " ('chr10', 75447302, 75447392, False, 'TGACAAAACTTA'),\n",
       " ('chr10', 75447328, 75447418, False, 'TGACAAAACTTA'),\n",
       " ('chr10', 75449614, 75449704, True, 'CGACTAGAACGA'),\n",
       " ('chr10', 75449628, 75449718, True, 'CGACTAGAACGA'),\n",
       " ('chr10', 75483405, 75483465, False, 'AAGAGTACTGAT'),\n",
       " ('chr10', 75484017, 75484077, True, 'TGCACATATTCT'),\n",
       " ('chr10', 75507399, 75507489, True, 'TTTTATGAGAAC'),\n",
       " ('chr10', 75547324, 75547414, False, 'AGACGCACCGTT'),\n",
       " ('chr10', 75547462, 75547552, False, 'AGACGCACCGTT'),\n",
       " ('chr10', 75577888, 75577978, False, 'ATACCAGTTAGT'),\n",
       " ('chr10', 75587774, 75587864, False, 'TCTGCCAGCTCA'),\n",
       " ('chr10', 75595660, 75595750, False, 'TACTACCTACCG'),\n",
       " ('chr10', 75596653, 75596743, True, 'CCGCTGATCTTT'),\n",
       " ('chr10', 75632359, 75632448, False, 'CTACTTAGACTT'),\n",
       " ('chr10', 75650544, 75650634, True, 'AGTCCAACTCAC'),\n",
       " ('chr10', 75650574, 75650664, True, 'AGTCCAACTCAC'),\n",
       " ('chr10', 75650679, 75650769, True, 'AGTCCAACTCAC'),\n",
       " ('chr10', 75669678, 75669768, False, 'TTAGCTTATAGA'),\n",
       " ('chr10', 75672655, 75672745, True, 'TGATATTGGGAC'),\n",
       " ('chr10', 75672734, 75672794, True, 'AAAAAAGACTGG'),\n",
       " ('chr10', 75672821, 75672911, True, 'CCACTGTGTAGA'),\n",
       " ('chr10', 75695741, 75695831, False, 'TATTACGAGCTC'),\n",
       " ('chr10', 75771717, 75771777, False, 'TAAGTGAAATTG'),\n",
       " ('chr10', 75771717, 75771779, False, 'TAAGTGAAATTG'),\n",
       " ('chr10', 75797104, 75797194, True, 'AAACGATATACG'),\n",
       " ('chr10', 75827251, 75827341, False, 'ACGCGTTCCATT'),\n",
       " ('chr10', 75827505, 75827595, False, 'ACGCGTTCCATT'),\n",
       " ('chr10', 75835848, 75835938, False, 'TGTTCGCTTAAG'),\n",
       " ('chr10', 75839538, 75839584, True, 'GAGACCAGGGGC'),\n",
       " ('chr10', 75870617, 75870707, True, 'AGACCAAATTAG'),\n",
       " ('chr10', 75870623, 75870713, True, 'AGACCAAATTAG'),\n",
       " ('chr10', 75870820, 75870910, True, 'AGACCAAATTAG'),\n",
       " ('chr10', 75895443, 75895517, False, 'CGTACACACAAC'),\n",
       " ('chr10', 75895444, 75895509, False, 'CGTACACACAAC'),\n",
       " ('chr10', 75905293, 75905383, False, 'CTTTCGCGACCA'),\n",
       " ('chr10', 75905371, 75905461, False, 'CTTTCGCGACCA'),\n",
       " ('chr10', 75905445, 75905535, True, 'CTTTCGCGACCA'),\n",
       " ('chr10', 75928400, 75928490, True, 'CAGAGCACCACA'),\n",
       " ('chr10', 75973520, 75973610, True, 'GGCACATCAACG'),\n",
       " ('chr10', 75976368, 75976458, False, 'TCTGCGACCCGA'),\n",
       " ('chr10', 76093716, 76093806, True, 'TCTTCCATTCTC'),\n",
       " ('chr10', 76224821, 76224911, True, 'AGCCCGATCCAC'),\n",
       " ('chr10', 76224852, 76224942, True, 'AGCCCGATCCAC'),\n",
       " ('chr10', 76276313, 76276403, True, 'ATCAGATTATCT')]"
      ]
     },
     "execution_count": 99,
     "metadata": {},
     "output_type": "execute_result"
    }
   ],
   "source": [
    "locs = set()\n",
    "umis_seen = set()\n",
    "count = 0\n",
    "for read in solo_reads:\n",
    "    locs.add((read.reference_name, read.reference_start, read.reference_end, read.is_reverse, read.get_tag(\"UR\")))\n",
    "    if read.get_tag(\"UB\") not in umis_seen:\n",
    "        umis_seen.add(read.get_tag(\"UB\"))\n",
    "        count += 1   \n",
    "print(count, len(solo_reads), ok_cells.loc[gene_id][\"{}_solo\".format(cell_id)])\n",
    "sorted(locs)"
   ]
  },
  {
   "cell_type": "code",
   "execution_count": 82,
   "id": "beginning-highway",
   "metadata": {},
   "outputs": [
    {
     "data": {
      "text/html": [
       "<div>\n",
       "<style scoped>\n",
       "    .dataframe tbody tr th:only-of-type {\n",
       "        vertical-align: middle;\n",
       "    }\n",
       "\n",
       "    .dataframe tbody tr th {\n",
       "        vertical-align: top;\n",
       "    }\n",
       "\n",
       "    .dataframe thead th {\n",
       "        text-align: right;\n",
       "    }\n",
       "</style>\n",
       "<table border=\"1\" class=\"dataframe\">\n",
       "  <thead>\n",
       "    <tr style=\"text-align: right;\">\n",
       "      <th></th>\n",
       "      <th>AACAAGCCAACCCTCC_solo</th>\n",
       "      <th>AACAAGCCAACCCTCC_cr</th>\n",
       "    </tr>\n",
       "  </thead>\n",
       "  <tbody>\n",
       "    <tr>\n",
       "      <th>ENSG00000243485</th>\n",
       "      <td>0.0</td>\n",
       "      <td>0.0</td>\n",
       "    </tr>\n",
       "    <tr>\n",
       "      <th>ENSG00000237613</th>\n",
       "      <td>0.0</td>\n",
       "      <td>0.0</td>\n",
       "    </tr>\n",
       "    <tr>\n",
       "      <th>ENSG00000186092</th>\n",
       "      <td>0.0</td>\n",
       "      <td>0.0</td>\n",
       "    </tr>\n",
       "    <tr>\n",
       "      <th>ENSG00000238009</th>\n",
       "      <td>0.0</td>\n",
       "      <td>0.0</td>\n",
       "    </tr>\n",
       "    <tr>\n",
       "      <th>ENSG00000239945</th>\n",
       "      <td>0.0</td>\n",
       "      <td>0.0</td>\n",
       "    </tr>\n",
       "    <tr>\n",
       "      <th>...</th>\n",
       "      <td>...</td>\n",
       "      <td>...</td>\n",
       "    </tr>\n",
       "    <tr>\n",
       "      <th>ENSG00000277836</th>\n",
       "      <td>0.0</td>\n",
       "      <td>0.0</td>\n",
       "    </tr>\n",
       "    <tr>\n",
       "      <th>ENSG00000278633</th>\n",
       "      <td>0.0</td>\n",
       "      <td>0.0</td>\n",
       "    </tr>\n",
       "    <tr>\n",
       "      <th>ENSG00000276017</th>\n",
       "      <td>0.0</td>\n",
       "      <td>0.0</td>\n",
       "    </tr>\n",
       "    <tr>\n",
       "      <th>ENSG00000278817</th>\n",
       "      <td>0.0</td>\n",
       "      <td>0.0</td>\n",
       "    </tr>\n",
       "    <tr>\n",
       "      <th>ENSG00000277196</th>\n",
       "      <td>0.0</td>\n",
       "      <td>0.0</td>\n",
       "    </tr>\n",
       "  </tbody>\n",
       "</table>\n",
       "<p>36601 rows × 2 columns</p>\n",
       "</div>"
      ],
      "text/plain": [
       "                 AACAAGCCAACCCTCC_solo  AACAAGCCAACCCTCC_cr\n",
       "ENSG00000243485                    0.0                  0.0\n",
       "ENSG00000237613                    0.0                  0.0\n",
       "ENSG00000186092                    0.0                  0.0\n",
       "ENSG00000238009                    0.0                  0.0\n",
       "ENSG00000239945                    0.0                  0.0\n",
       "...                                ...                  ...\n",
       "ENSG00000277836                    0.0                  0.0\n",
       "ENSG00000278633                    0.0                  0.0\n",
       "ENSG00000276017                    0.0                  0.0\n",
       "ENSG00000278817                    0.0                  0.0\n",
       "ENSG00000277196                    0.0                  0.0\n",
       "\n",
       "[36601 rows x 2 columns]"
      ]
     },
     "execution_count": 82,
     "metadata": {},
     "output_type": "execute_result"
    }
   ],
   "source": [
    "ok_cells"
   ]
  },
  {
   "cell_type": "code",
   "execution_count": null,
   "id": "sharp-class",
   "metadata": {},
   "outputs": [],
   "source": []
  }
 ],
 "metadata": {
  "kernelspec": {
   "display_name": "Python 3",
   "language": "python",
   "name": "python3"
  },
  "language_info": {
   "codemirror_mode": {
    "name": "ipython",
    "version": 3
   },
   "file_extension": ".py",
   "mimetype": "text/x-python",
   "name": "python",
   "nbconvert_exporter": "python",
   "pygments_lexer": "ipython3",
   "version": "3.9.1+"
  }
 },
 "nbformat": 4,
 "nbformat_minor": 5
}
