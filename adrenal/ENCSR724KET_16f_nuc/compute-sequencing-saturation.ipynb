{
 "cells": [
  {
   "cell_type": "code",
   "execution_count": 1,
   "id": "opponent-science",
   "metadata": {},
   "outputs": [
    {
     "name": "stdout",
     "output_type": "stream",
     "text": [
      "/woldlab/loxcyc/home/diane/proj/encode-202006-jamboree-detrout-rna-sc-pipeline/adrenal/ENCSR724KET_16f_nuc\r\n"
     ]
    }
   ],
   "source": [
    "!pwd"
   ]
  },
  {
   "cell_type": "code",
   "execution_count": 12,
   "id": "sustained-communication",
   "metadata": {},
   "outputs": [],
   "source": [
    "import pandas\n",
    "import numpy\n",
    "import pysam\n",
    "from matplotlib import pyplot\n",
    "from pathlib import Path\n",
    "from collections import Counter"
   ]
  },
  {
   "cell_type": "code",
   "execution_count": 3,
   "id": "offshore-glasgow",
   "metadata": {},
   "outputs": [],
   "source": [
    "analysis_dir = Path(\"fullsolo_multi_eoi_container\")\n",
    "alignment = analysis_dir / \"Aligned.sortedByCoord.out.bam\""
   ]
  },
  {
   "cell_type": "code",
   "execution_count": 4,
   "id": "blind-backup",
   "metadata": {},
   "outputs": [],
   "source": [
    "cell_barcodes = {}\n",
    "cell_gene_barcodes = {}\n",
    "\n",
    "for read in pysam.AlignmentFile(alignment, \"rb\"):\n",
    "    if read.has_tag(\"gx\") and read.has_tag(\"CB\") and read.has_tag(\"UB\"):\n",
    "        cell = read.get_tag(\"CB\")\n",
    "        umi = read.get_tag(\"UB\")\n",
    "        counts = cell_barcodes.setdefault(cell, Counter())\n",
    "        counts[umi] += 1\n",
    "        \n",
    "        #genes = read.get_tag(\"gx\").split(\",\")[0]\n",
    "        #gene_counts = cell_gene_barcodes.setdefault(cell, Counter())\n",
    "        #for gene in genes:\n",
    "        #    gene_counts[(umi, gene)] += 1 / len(genes)"
   ]
  },
  {
   "cell_type": "code",
   "execution_count": 5,
   "id": "likely-italian",
   "metadata": {},
   "outputs": [
    {
     "data": {
      "text/plain": [
       "708212"
      ]
     },
     "execution_count": 5,
     "metadata": {},
     "output_type": "execute_result"
    }
   ],
   "source": [
    "len(cell_barcodes)"
   ]
  },
  {
   "cell_type": "code",
   "execution_count": 7,
   "id": "blank-ireland",
   "metadata": {},
   "outputs": [
    {
     "data": {
      "text/plain": [
       "'CGATTATCACACTAAT'"
      ]
     },
     "execution_count": 7,
     "metadata": {},
     "output_type": "execute_result"
    }
   ],
   "source": [
    "next(iter((cell_barcodes)))"
   ]
  },
  {
   "cell_type": "code",
   "execution_count": 9,
   "id": "closed-business",
   "metadata": {},
   "outputs": [
    {
     "data": {
      "text/plain": [
       "41385"
      ]
     },
     "execution_count": 9,
     "metadata": {},
     "output_type": "execute_result"
    }
   ],
   "source": [
    "len(cell_barcodes['CGATTATCACACTAAT'])"
   ]
  },
  {
   "cell_type": "code",
   "execution_count": 10,
   "id": "polar-fifty",
   "metadata": {},
   "outputs": [
    {
     "data": {
      "text/plain": [
       "95746"
      ]
     },
     "execution_count": 10,
     "metadata": {},
     "output_type": "execute_result"
    }
   ],
   "source": [
    "sum(cell_barcodes['CGATTATCACACTAAT'].values())"
   ]
  },
  {
   "cell_type": "code",
   "execution_count": 14,
   "id": "strategic-found",
   "metadata": {},
   "outputs": [],
   "source": [
    "fraction = []\n",
    "for cell in cell_barcodes:\n",
    "    unique = len(cell_barcodes[cell])\n",
    "    total = sum(cell_barcodes[cell].values())\n",
    "    fraction.append(1 - (unique/total))"
   ]
  },
  {
   "cell_type": "code",
   "execution_count": 15,
   "id": "corrected-mercy",
   "metadata": {},
   "outputs": [
    {
     "data": {
      "text/plain": [
       "[<matplotlib.lines.Line2D at 0x7f0d85390430>]"
      ]
     },
     "execution_count": 15,
     "metadata": {},
     "output_type": "execute_result"
    },
    {
     "data": {
      "image/png": "[encoded data removed]",
      "text/plain": [
       "<Figure size 432x288 with 1 Axes>"
      ]
     },
     "metadata": {
      "needs_background": "light"
     },
     "output_type": "display_data"
    }
   ],
   "source": [
    "pyplot.plot(numpy.arange(len(fraction)), sorted(fraction))"
   ]
  },
  {
   "cell_type": "code",
   "execution_count": null,
   "id": "governmental-henry",
   "metadata": {},
   "outputs": [],
   "source": []
  }
 ],
 "metadata": {
  "kernelspec": {
   "display_name": "Python 3",
   "language": "python",
   "name": "python3"
  },
  "language_info": {
   "codemirror_mode": {
    "name": "ipython",
    "version": 3
   },
   "file_extension": ".py",
   "mimetype": "text/x-python",
   "name": "python",
   "nbconvert_exporter": "python",
   "pygments_lexer": "ipython3",
   "version": "3.9.1+"
  }
 },
 "nbformat": 4,
 "nbformat_minor": 5
}
