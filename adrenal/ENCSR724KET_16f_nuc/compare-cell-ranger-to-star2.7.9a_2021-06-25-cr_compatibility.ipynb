{
 "cells": [
  {
   "cell_type": "markdown",
   "id": "injured-strip",
   "metadata": {},
   "source": [
    "# Introduction"
   ]
  },
  {
   "cell_type": "markdown",
   "id": "informal-tactics",
   "metadata": {},
   "source": [
    "This my first pass at trying to check if my star parameters worked.\n",
    "\n",
    "I used the version of star and the annotation files included in the 10x cellranger-arc archive as the closest check I could manage.\n",
    "\n",
    "I had used STAR 2.7.8a for some of my other tests as the released version of 2.7.9a had a bug. But unforutnately 2.7.8a crashed with a double free error. (And illegal instruction on some other machines, probably older).\n",
    "\n",
    "So I had to use the prebuilt STAR from tag 2.7.9a_2021-06-25"
   ]
  },
  {
   "cell_type": "code",
   "execution_count": 1,
   "id": "ethical-programmer",
   "metadata": {},
   "outputs": [],
   "source": [
    "import scipy\n",
    "import pandas\n",
    "import scanpy\n",
    "import numpy\n",
    "from pathlib import Path\n",
    "from matplotlib import pyplot\n",
    "import sys\n",
    "import pysam\n",
    "from collections import Counter"
   ]
  },
  {
   "cell_type": "code",
   "execution_count": 2,
   "id": "violent-action",
   "metadata": {},
   "outputs": [
    {
     "data": {
      "text/plain": [
       "'/woldlab/loxcyc/home/diane/proj/encode-202006-jamboree-detrout-rna-sc-pipeline/adrenal/ENCSR724KET_16f_nuc'"
      ]
     },
     "execution_count": 2,
     "metadata": {},
     "output_type": "execute_result"
    }
   ],
   "source": [
    "pwd"
   ]
  },
  {
   "cell_type": "code",
   "execution_count": 3,
   "id": "breathing-glenn",
   "metadata": {},
   "outputs": [],
   "source": [
    "project_root = Path(\"../..\").absolute()\n",
    "if str(project_root) not in sys.path:\n",
    "    sys.path.append(str(project_root))\n",
    "from common import compute_spearman_anndata"
   ]
  },
  {
   "cell_type": "code",
   "execution_count": 4,
   "id": "documentary-enough",
   "metadata": {},
   "outputs": [],
   "source": [
    "def scanpy_load_solo278a_mtx(analysis_dir, quantification=\"Gene\", mode=\"filtered\"):\n",
    "    assert mode in [\"filtered\", \"raw\"], \"STAR Solo only produces raw or filtered files\"\n",
    "    assert quantification in [\"Gene\", \"GeneFull\", \"SJ\"]\n",
    "\n",
    "    analysis_dir = Path(analysis_dir)\n",
    "    feature_name = \"features.tsv\"\n",
    "    \n",
    "    solo_dir = analysis_dir / \"Solo.out\" / quantification / mode\n",
    "    solo = scanpy.read_mtx(solo_dir / \"matrix.mtx\").T\n",
    "    solo_vars = pandas.read_csv(\n",
    "        solo_dir / feature_name, header=None, sep=\"\\t\"\n",
    "    ).values.T\n",
    "    solo_obs = pandas.read_csv(\n",
    "        solo_dir / \"barcodes.tsv\", header=None, sep=\"\\t\"\n",
    "    ).values.T\n",
    "    solo.obs_names = solo_obs[0]\n",
    "    solo.var_names = solo_vars[0]\n",
    "\n",
    "    solo.obs[\"counts\"] = solo.X.sum(axis=1)\n",
    "    solo.obs[\"ngenes\"] = numpy.array((solo.X > 0).sum(axis=1))\n",
    "\n",
    "    return solo\n",
    "\n"
   ]
  },
  {
   "cell_type": "code",
   "execution_count": 5,
   "id": "comparative-smooth",
   "metadata": {},
   "outputs": [],
   "source": [
    "tenx_root = Path('ENCSR724KET_cr-arc')\n",
    "tenx_raw_path = tenx_root / 'outs' / 'raw_feature_bc_matrix'\n",
    "tenx_filtered_path = tenx_root / 'outs' / 'filtered_feature_bc_matrix'"
   ]
  },
  {
   "cell_type": "code",
   "execution_count": 6,
   "id": "informal-incidence",
   "metadata": {},
   "outputs": [],
   "source": [
    "tenx_filtered = scanpy.read_10x_mtx(tenx_filtered_path, var_names='gene_ids')\n",
    "tenx_filtered.obs_names = [x[:-2] for x in tenx_filtered.obs_names]"
   ]
  },
  {
   "cell_type": "code",
   "execution_count": 7,
   "id": "african-shower",
   "metadata": {},
   "outputs": [],
   "source": [
    "solo278a_root = Path(\"starsolo_2.7.9a_2021-06-25_cr-compatibility\")\n",
    "solo278a_gene = scanpy_load_solo278a_mtx(solo278a_root, \"Gene\", \"filtered\")\n",
    "solo278a_genefull = scanpy_load_solo278a_mtx(solo278a_root, \"GeneFull\", \"filtered\")"
   ]
  },
  {
   "cell_type": "code",
   "execution_count": 8,
   "id": "superb-shepherd",
   "metadata": {},
   "outputs": [
    {
     "name": "stdout",
     "output_type": "stream",
     "text": [
      "tenx filtered (13650, 36601) 80119070.0\n",
      "solo gene (14389, 36601) 41349504.0\n",
      "solo genefull (15906, 36601) 110782640.0\n"
     ]
    }
   ],
   "source": [
    "print(\"tenx filtered\", tenx_filtered.shape, tenx_filtered.X.sum())\n",
    "print(\"solo gene\", solo278a_gene.shape, solo278a_gene.X.sum())\n",
    "print(\"solo genefull\", solo278a_genefull.shape, solo278a_genefull.X.sum())"
   ]
  },
  {
   "cell_type": "markdown",
   "id": "appreciated-making",
   "metadata": {},
   "source": [
    "solo gene is empty? That's really weird"
   ]
  },
  {
   "cell_type": "code",
   "execution_count": 9,
   "id": "pediatric-reach",
   "metadata": {},
   "outputs": [],
   "source": [
    "common_barcodes = [ x for x in tenx_filtered.obs_names if x in set(tenx_filtered.obs_names).intersection(solo278a_gene.obs_names)]"
   ]
  },
  {
   "cell_type": "code",
   "execution_count": 10,
   "id": "judicial-equality",
   "metadata": {},
   "outputs": [
    {
     "data": {
      "text/plain": [
       "((12834, 36601), 39354188.0)"
      ]
     },
     "execution_count": 10,
     "metadata": {},
     "output_type": "execute_result"
    }
   ],
   "source": [
    "solo278a_filtered_gene = solo278a_gene[common_barcodes,:]\n",
    "solo278a_filtered_gene.shape, solo278a_filtered_gene.X.sum()"
   ]
  },
  {
   "cell_type": "code",
   "execution_count": 11,
   "id": "acquired-calcium",
   "metadata": {},
   "outputs": [
    {
     "data": {
      "text/plain": [
       "(12834, 1)"
      ]
     },
     "execution_count": 11,
     "metadata": {},
     "output_type": "execute_result"
    }
   ],
   "source": [
    "solo278a_filtered_gene.X.sum(axis=1).shape"
   ]
  },
  {
   "cell_type": "code",
   "execution_count": 12,
   "id": "smooth-baghdad",
   "metadata": {},
   "outputs": [],
   "source": [
    "tenx_common = tenx_filtered[common_barcodes,:]"
   ]
  },
  {
   "cell_type": "code",
   "execution_count": 13,
   "id": "hidden-wrist",
   "metadata": {},
   "outputs": [
    {
     "name": "stderr",
     "output_type": "stream",
     "text": [
      "/usr/lib/python3/dist-packages/scipy/stats/stats.py:4264: SpearmanRConstantInputWarning: An input array is constant; the correlation coefficent is not defined.\n",
      "  warnings.warn(SpearmanRConstantInputWarning())\n"
     ]
    }
   ],
   "source": [
    "filtered_cors = compute_spearman_anndata(tenx_common, solo278a_filtered_gene)"
   ]
  },
  {
   "cell_type": "code",
   "execution_count": 14,
   "id": "naughty-credits",
   "metadata": {},
   "outputs": [
    {
     "data": {
      "text/plain": [
       "View of AnnData object with n_obs × n_vars = 12834 × 36601\n",
       "    var: 'gene_symbols', 'feature_types'"
      ]
     },
     "execution_count": 14,
     "metadata": {},
     "output_type": "execute_result"
    }
   ],
   "source": [
    "tenx_common"
   ]
  },
  {
   "cell_type": "code",
   "execution_count": 15,
   "id": "freelance-houston",
   "metadata": {},
   "outputs": [],
   "source": [
    "tenx_common_sum = pandas.Series(numpy.asarray(tenx_common.X.sum(axis=1)).T[0])\n"
   ]
  },
  {
   "cell_type": "code",
   "execution_count": 16,
   "id": "premium-silicon",
   "metadata": {},
   "outputs": [
    {
     "data": {
      "text/plain": [
       "'GCATCCTTCTAAGTGC'"
      ]
     },
     "execution_count": 16,
     "metadata": {},
     "output_type": "execute_result"
    }
   ],
   "source": [
    "tenx_idxmax = tenx_common_sum.idxmax()\n",
    "tenx_max_cell = tenx_common.obs_names[tenx_idxmax]\n",
    "tenx_max_cell"
   ]
  },
  {
   "cell_type": "code",
   "execution_count": 17,
   "id": "dramatic-shelter",
   "metadata": {},
   "outputs": [
    {
     "data": {
      "text/html": [
       "<div>\n",
       "<style scoped>\n",
       "    .dataframe tbody tr th:only-of-type {\n",
       "        vertical-align: middle;\n",
       "    }\n",
       "\n",
       "    .dataframe tbody tr th {\n",
       "        vertical-align: top;\n",
       "    }\n",
       "\n",
       "    .dataframe thead th {\n",
       "        text-align: right;\n",
       "    }\n",
       "</style>\n",
       "<table border=\"1\" class=\"dataframe\">\n",
       "  <thead>\n",
       "    <tr style=\"text-align: right;\">\n",
       "      <th></th>\n",
       "      <th>GCATCCTTCTAAGTGC</th>\n",
       "    </tr>\n",
       "  </thead>\n",
       "  <tbody>\n",
       "    <tr>\n",
       "      <th>count</th>\n",
       "      <td>36601.000000</td>\n",
       "    </tr>\n",
       "    <tr>\n",
       "      <th>mean</th>\n",
       "      <td>3.866807</td>\n",
       "    </tr>\n",
       "    <tr>\n",
       "      <th>std</th>\n",
       "      <td>72.393562</td>\n",
       "    </tr>\n",
       "    <tr>\n",
       "      <th>min</th>\n",
       "      <td>0.000000</td>\n",
       "    </tr>\n",
       "    <tr>\n",
       "      <th>25%</th>\n",
       "      <td>0.000000</td>\n",
       "    </tr>\n",
       "    <tr>\n",
       "      <th>50%</th>\n",
       "      <td>0.000000</td>\n",
       "    </tr>\n",
       "    <tr>\n",
       "      <th>75%</th>\n",
       "      <td>2.000000</td>\n",
       "    </tr>\n",
       "    <tr>\n",
       "      <th>max</th>\n",
       "      <td>13634.000000</td>\n",
       "    </tr>\n",
       "  </tbody>\n",
       "</table>\n",
       "</div>"
      ],
      "text/plain": [
       "       GCATCCTTCTAAGTGC\n",
       "count      36601.000000\n",
       "mean           3.866807\n",
       "std           72.393562\n",
       "min            0.000000\n",
       "25%            0.000000\n",
       "50%            0.000000\n",
       "75%            2.000000\n",
       "max        13634.000000"
      ]
     },
     "execution_count": 17,
     "metadata": {},
     "output_type": "execute_result"
    }
   ],
   "source": [
    "tfg = tenx_filtered[tenx_max_cell].to_df().T\n",
    "tfg.describe()"
   ]
  },
  {
   "cell_type": "code",
   "execution_count": 18,
   "id": "governing-outdoors",
   "metadata": {},
   "outputs": [
    {
     "data": {
      "text/html": [
       "<div>\n",
       "<style scoped>\n",
       "    .dataframe tbody tr th:only-of-type {\n",
       "        vertical-align: middle;\n",
       "    }\n",
       "\n",
       "    .dataframe tbody tr th {\n",
       "        vertical-align: top;\n",
       "    }\n",
       "\n",
       "    .dataframe thead th {\n",
       "        text-align: right;\n",
       "    }\n",
       "</style>\n",
       "<table border=\"1\" class=\"dataframe\">\n",
       "  <thead>\n",
       "    <tr style=\"text-align: right;\">\n",
       "      <th></th>\n",
       "      <th>GCATCCTTCTAAGTGC</th>\n",
       "    </tr>\n",
       "  </thead>\n",
       "  <tbody>\n",
       "    <tr>\n",
       "      <th>count</th>\n",
       "      <td>36601.000000</td>\n",
       "    </tr>\n",
       "    <tr>\n",
       "      <th>mean</th>\n",
       "      <td>1.805169</td>\n",
       "    </tr>\n",
       "    <tr>\n",
       "      <th>std</th>\n",
       "      <td>75.464264</td>\n",
       "    </tr>\n",
       "    <tr>\n",
       "      <th>min</th>\n",
       "      <td>0.000000</td>\n",
       "    </tr>\n",
       "    <tr>\n",
       "      <th>25%</th>\n",
       "      <td>0.000000</td>\n",
       "    </tr>\n",
       "    <tr>\n",
       "      <th>50%</th>\n",
       "      <td>0.000000</td>\n",
       "    </tr>\n",
       "    <tr>\n",
       "      <th>75%</th>\n",
       "      <td>1.000000</td>\n",
       "    </tr>\n",
       "    <tr>\n",
       "      <th>max</th>\n",
       "      <td>14372.000000</td>\n",
       "    </tr>\n",
       "  </tbody>\n",
       "</table>\n",
       "</div>"
      ],
      "text/plain": [
       "       GCATCCTTCTAAGTGC\n",
       "count      36601.000000\n",
       "mean           1.805169\n",
       "std           75.464264\n",
       "min            0.000000\n",
       "25%            0.000000\n",
       "50%            0.000000\n",
       "75%            1.000000\n",
       "max        14372.000000"
      ]
     },
     "execution_count": 18,
     "metadata": {},
     "output_type": "execute_result"
    }
   ],
   "source": [
    "sfg = solo278a_filtered_gene[tenx_max_cell].to_df().T\n",
    "sfg.describe()"
   ]
  },
  {
   "cell_type": "code",
   "execution_count": null,
   "id": "pending-ability",
   "metadata": {},
   "outputs": [],
   "source": []
  },
  {
   "cell_type": "code",
   "execution_count": 19,
   "id": "joint-chorus",
   "metadata": {},
   "outputs": [],
   "source": [
    "assert numpy.all(tfg.index == sfg.index), \"feature lists are not in same order \""
   ]
  },
  {
   "cell_type": "code",
   "execution_count": 20,
   "id": "alike-switch",
   "metadata": {},
   "outputs": [],
   "source": [
    "rad = (numpy.abs(sfg - tfg) / numpy.maximum(sfg, tfg))"
   ]
  },
  {
   "cell_type": "code",
   "execution_count": 21,
   "id": "dental-stadium",
   "metadata": {},
   "outputs": [
    {
     "data": {
      "text/plain": [
       "<AxesSubplot:ylabel='Frequency'>"
      ]
     },
     "execution_count": 21,
     "metadata": {},
     "output_type": "execute_result"
    },
    {
     "data": {
      "image/png": "[encoded data removed]",
      "text/plain": [
       "<Figure size 432x288 with 1 Axes>"
      ]
     },
     "metadata": {
      "needs_background": "light"
     },
     "output_type": "display_data"
    }
   ],
   "source": [
    "rad.plot.hist(bins=50)"
   ]
  },
  {
   "cell_type": "code",
   "execution_count": 22,
   "id": "hearing-honduras",
   "metadata": {},
   "outputs": [],
   "source": [
    "combined_gene = pandas.merge(sfg, tfg, left_index=True, right_index=True, suffixes=(\"_star\", \"_cr-arc\"))"
   ]
  },
  {
   "cell_type": "markdown",
   "id": "conditional-happiness",
   "metadata": {},
   "source": [
    "# Compare cell GCATCCTTCTAAGTGC between cellranger and STAR solo gene"
   ]
  },
  {
   "cell_type": "code",
   "execution_count": 23,
   "id": "agreed-florence",
   "metadata": {},
   "outputs": [
    {
     "name": "stderr",
     "output_type": "stream",
     "text": [
      "<ipython-input-23-3fd4f3200269>:4: RuntimeWarning: divide by zero encountered in log2\n",
      "  p = numpy.log2(combined_gene).plot.scatter(x=\"{}_star\".format(tenx_max_cell), y=\"{}_cr-arc\".format(tenx_max_cell), ax=ax)\n"
     ]
    },
    {
     "data": {
      "image/png": "[encoded data removed]",
      "text/plain": [
       "<Figure size 432x288 with 1 Axes>"
      ]
     },
     "metadata": {
      "needs_background": "light"
     },
     "output_type": "display_data"
    }
   ],
   "source": [
    "f = pyplot.figure()\n",
    "ax = f.add_subplot(1,1,1)\n",
    "\n",
    "p = numpy.log2(combined_gene).plot.scatter(x=\"{}_star\".format(tenx_max_cell), y=\"{}_cr-arc\".format(tenx_max_cell), ax=ax)\n",
    "#ax.set_xscale('log')\n",
    "#ax.set_yscale('log')\n",
    "#ax.set_xlim(0,1e5)\n",
    "#ax.set_ylim(0,1e5)\n",
    "ax.grid(alpha=.5)"
   ]
  },
  {
   "cell_type": "markdown",
   "id": "seeing-imperial",
   "metadata": {},
   "source": [
    "Wait a second... that looks like cell ranger has higher expression... what did they change? Are they counting introns? Multireads?"
   ]
  },
  {
   "cell_type": "code",
   "execution_count": 24,
   "id": "democratic-encoding",
   "metadata": {},
   "outputs": [
    {
     "name": "stderr",
     "output_type": "stream",
     "text": [
      "/usr/lib/python3/dist-packages/scipy/stats/stats.py:4264: SpearmanRConstantInputWarning: An input array is constant; the correlation coefficent is not defined.\n",
      "  warnings.warn(SpearmanRConstantInputWarning())\n"
     ]
    }
   ],
   "source": [
    "gene_cors = compute_spearman_anndata(tenx_common, solo278a_filtered_gene)"
   ]
  },
  {
   "cell_type": "markdown",
   "id": "infrared-hampton",
   "metadata": {},
   "source": [
    "# Compare per cell gene spearman correlation"
   ]
  },
  {
   "cell_type": "markdown",
   "id": "democratic-revelation",
   "metadata": {},
   "source": [
    "There is a warning message from the spearman function complaining that the input matrix has an issue, so this histogram may be incorrect."
   ]
  },
  {
   "cell_type": "code",
   "execution_count": 25,
   "id": "educational-horror",
   "metadata": {},
   "outputs": [
    {
     "data": {
      "text/plain": [
       "<AxesSubplot:ylabel='Frequency'>"
      ]
     },
     "execution_count": 25,
     "metadata": {},
     "output_type": "execute_result"
    },
    {
     "data": {
      "image/png": "[encoded data removed]",
      "text/plain": [
       "<Figure size 432x288 with 1 Axes>"
      ]
     },
     "metadata": {
      "needs_background": "light"
     },
     "output_type": "display_data"
    }
   ],
   "source": [
    "gene_cors.plot.hist(bins=50)"
   ]
  },
  {
   "cell_type": "markdown",
   "id": "bright-toolbox",
   "metadata": {},
   "source": [
    "# Prepare GeneFull comparisons"
   ]
  },
  {
   "cell_type": "code",
   "execution_count": 26,
   "id": "saving-pointer",
   "metadata": {},
   "outputs": [
    {
     "data": {
      "text/html": [
       "<div>\n",
       "<style scoped>\n",
       "    .dataframe tbody tr th:only-of-type {\n",
       "        vertical-align: middle;\n",
       "    }\n",
       "\n",
       "    .dataframe tbody tr th {\n",
       "        vertical-align: top;\n",
       "    }\n",
       "\n",
       "    .dataframe thead th {\n",
       "        text-align: right;\n",
       "    }\n",
       "</style>\n",
       "<table border=\"1\" class=\"dataframe\">\n",
       "  <thead>\n",
       "    <tr style=\"text-align: right;\">\n",
       "      <th></th>\n",
       "      <th>GCATCCTTCTAAGTGC</th>\n",
       "    </tr>\n",
       "  </thead>\n",
       "  <tbody>\n",
       "    <tr>\n",
       "      <th>count</th>\n",
       "      <td>36601.000000</td>\n",
       "    </tr>\n",
       "    <tr>\n",
       "      <th>mean</th>\n",
       "      <td>5.443458</td>\n",
       "    </tr>\n",
       "    <tr>\n",
       "      <th>std</th>\n",
       "      <td>76.680756</td>\n",
       "    </tr>\n",
       "    <tr>\n",
       "      <th>min</th>\n",
       "      <td>0.000000</td>\n",
       "    </tr>\n",
       "    <tr>\n",
       "      <th>25%</th>\n",
       "      <td>0.000000</td>\n",
       "    </tr>\n",
       "    <tr>\n",
       "      <th>50%</th>\n",
       "      <td>0.000000</td>\n",
       "    </tr>\n",
       "    <tr>\n",
       "      <th>75%</th>\n",
       "      <td>2.000000</td>\n",
       "    </tr>\n",
       "    <tr>\n",
       "      <th>max</th>\n",
       "      <td>14161.000000</td>\n",
       "    </tr>\n",
       "  </tbody>\n",
       "</table>\n",
       "</div>"
      ],
      "text/plain": [
       "       GCATCCTTCTAAGTGC\n",
       "count      36601.000000\n",
       "mean           5.443458\n",
       "std           76.680756\n",
       "min            0.000000\n",
       "25%            0.000000\n",
       "50%            0.000000\n",
       "75%            2.000000\n",
       "max        14161.000000"
      ]
     },
     "execution_count": 26,
     "metadata": {},
     "output_type": "execute_result"
    }
   ],
   "source": [
    "common_genefull_barcodes = [ x for x in tenx_filtered.obs_names if x in set(tenx_filtered.obs_names).intersection(solo278a_genefull.obs_names)]\n",
    "solo278a_filtered_genefull = solo278a_genefull[common_genefull_barcodes,:]\n",
    "sfgf = solo278a_filtered_genefull[tenx_max_cell].to_df().T\n",
    "sfgf.describe()"
   ]
  },
  {
   "cell_type": "code",
   "execution_count": 27,
   "id": "configured-uniform",
   "metadata": {},
   "outputs": [],
   "source": [
    "combined_genefull = pandas.merge(sfgf, tfg, left_index=True, right_index=True, suffixes=(\"_star\", \"_cr-arc\"))"
   ]
  },
  {
   "cell_type": "code",
   "execution_count": 28,
   "id": "possible-direction",
   "metadata": {},
   "outputs": [],
   "source": [
    "def plot_cell(star, cr, cell):\n",
    "    star_cell = star[cell].to_df().T\n",
    "    cr_cell = cr[cell].to_df().T\n",
    "    combined = pandas.merge(star_cell, cr_cell, left_index=True, right_index=True, suffixes=(\"_star\", \"_cr-arc\"))\n",
    "    f = pyplot.figure()\n",
    "    ax = f.add_subplot(1,1,1)\n",
    "\n",
    "    p = numpy.log2(combined).plot.scatter(x=\"{}_star\".format(cell), y=\"{}_cr-arc\".format(cell), ax=ax)\n",
    "    #ax.set_xscale('log')\n",
    "    #ax.set_yscale('log')\n",
    "    #ax.set_xlim(0,1e5)\n",
    "    #ax.set_ylim(0,1e5)\n",
    "    ax.grid(alpha=.5)"
   ]
  },
  {
   "cell_type": "markdown",
   "id": "consecutive-provider",
   "metadata": {},
   "source": [
    "# Compare cell GCATCCTTCTAAGTGC between cellranger and STAR solo genefull"
   ]
  },
  {
   "cell_type": "code",
   "execution_count": 29,
   "id": "finite-competition",
   "metadata": {},
   "outputs": [
    {
     "name": "stderr",
     "output_type": "stream",
     "text": [
      "<ipython-input-28-35c547c9dd5b>:8: RuntimeWarning: divide by zero encountered in log2\n",
      "  p = numpy.log2(combined).plot.scatter(x=\"{}_star\".format(cell), y=\"{}_cr-arc\".format(cell), ax=ax)\n"
     ]
    },
    {
     "data": {
      "image/png": "[encoded data removed]",
      "text/plain": [
       "<Figure size 432x288 with 1 Axes>"
      ]
     },
     "metadata": {
      "needs_background": "light"
     },
     "output_type": "display_data"
    }
   ],
   "source": [
    "plot_cell(solo278a_filtered_genefull, tenx_filtered, tenx_max_cell)"
   ]
  },
  {
   "cell_type": "code",
   "execution_count": 30,
   "id": "bound-january",
   "metadata": {},
   "outputs": [
    {
     "name": "stderr",
     "output_type": "stream",
     "text": [
      "/usr/lib/python3/dist-packages/scipy/stats/stats.py:4264: SpearmanRConstantInputWarning: An input array is constant; the correlation coefficent is not defined.\n",
      "  warnings.warn(SpearmanRConstantInputWarning())\n"
     ]
    }
   ],
   "source": [
    "tenx_common_genefull = tenx_filtered[common_genefull_barcodes,:]\n",
    "genefull_cors = compute_spearman_anndata(tenx_common_genefull, solo278a_filtered_genefull)"
   ]
  },
  {
   "cell_type": "markdown",
   "id": "average-sigma",
   "metadata": {},
   "source": [
    "# Plot GeneFull correlations"
   ]
  },
  {
   "cell_type": "code",
   "execution_count": 31,
   "id": "olive-collectible",
   "metadata": {},
   "outputs": [
    {
     "data": {
      "text/plain": [
       "Text(0.5, 0, 'Spearman correlation')"
      ]
     },
     "execution_count": 31,
     "metadata": {},
     "output_type": "execute_result"
    },
    {
     "data": {
      "image/png": "[encoded data removed]",
      "text/plain": [
       "<Figure size 432x288 with 1 Axes>"
      ]
     },
     "metadata": {
      "needs_background": "light"
     },
     "output_type": "display_data"
    }
   ],
   "source": [
    "ax = genefull_cors.plot.hist(bins=50)\n",
    "ax.set_ylabel(\"Count of binned (N=50) correlations\")\n",
    "ax.set_xlabel(\"Spearman correlation\")"
   ]
  },
  {
   "cell_type": "markdown",
   "id": "dedicated-translator",
   "metadata": {},
   "source": [
    "Well that's an improvement. Looks like they're counting introns."
   ]
  },
  {
   "cell_type": "code",
   "execution_count": 32,
   "id": "restricted-british",
   "metadata": {},
   "outputs": [
    {
     "data": {
      "text/plain": [
       "AAAGGTTAGCGATACT    0.805665\n",
       "AACCTAATCCCTGGAA    0.808631\n",
       "AACCTAATCTTAGCCC    0.808021\n",
       "AACCTTAAGGCAAGTA    0.803021\n",
       "AAGCATGAGGCTTAGT    0.809463\n",
       "                      ...   \n",
       "TTTGACTTCCCTGGAA    0.804569\n",
       "TTTGACTTCCTCCTAA    0.802997\n",
       "TTTGTCCCATAGGCGA    0.803183\n",
       "TTTGTCTAGCTGTACG    0.806958\n",
       "TTTGTGTTCTAAGTCA    0.806965\n",
       "Length: 220, dtype: float64"
      ]
     },
     "execution_count": 32,
     "metadata": {},
     "output_type": "execute_result"
    }
   ],
   "source": [
    "genefull_cors[(genefull_cors > 0.8) & (genefull_cors < 0.81)]"
   ]
  },
  {
   "cell_type": "code",
   "execution_count": 33,
   "id": "express-regular",
   "metadata": {},
   "outputs": [],
   "source": [
    "cell_id = genefull_cors[(genefull_cors > 0.8) & (genefull_cors < 0.81)].index[0]"
   ]
  },
  {
   "cell_type": "code",
   "execution_count": 34,
   "id": "formed-bargain",
   "metadata": {},
   "outputs": [
    {
     "name": "stderr",
     "output_type": "stream",
     "text": [
      "<ipython-input-28-35c547c9dd5b>:8: RuntimeWarning: divide by zero encountered in log2\n",
      "  p = numpy.log2(combined).plot.scatter(x=\"{}_star\".format(cell), y=\"{}_cr-arc\".format(cell), ax=ax)\n"
     ]
    },
    {
     "data": {
      "image/png": "[encoded data removed]",
      "text/plain": [
       "<Figure size 432x288 with 1 Axes>"
      ]
     },
     "metadata": {
      "needs_background": "light"
     },
     "output_type": "display_data"
    }
   ],
   "source": [
    "plot_cell(solo278a_filtered_genefull, tenx_filtered, cell_id)"
   ]
  },
  {
   "cell_type": "code",
   "execution_count": 35,
   "id": "nearby-bridge",
   "metadata": {},
   "outputs": [],
   "source": [
    "ok_solo_cell = solo278a_filtered_genefull[cell_id].to_df().T\n",
    "ok_cr_cell = tenx_common_genefull[cell_id].to_df().T\n",
    "\n",
    "ok_cells = pandas.merge(ok_solo_cell, ok_cr_cell, left_index=True, right_index=True, suffixes=(\"_solo\", \"_cr\"))\n",
    "\n"
   ]
  },
  {
   "cell_type": "code",
   "execution_count": 36,
   "id": "operating-butter",
   "metadata": {},
   "outputs": [],
   "source": [
    "different =  (ok_cells['AAAGGTTAGCGATACT_solo'] != ok_cells['AAAGGTTAGCGATACT_cr'])\n"
   ]
  },
  {
   "cell_type": "code",
   "execution_count": 37,
   "id": "heavy-radar",
   "metadata": {},
   "outputs": [
    {
     "data": {
      "text/html": [
       "<div>\n",
       "<style scoped>\n",
       "    .dataframe tbody tr th:only-of-type {\n",
       "        vertical-align: middle;\n",
       "    }\n",
       "\n",
       "    .dataframe tbody tr th {\n",
       "        vertical-align: top;\n",
       "    }\n",
       "\n",
       "    .dataframe thead th {\n",
       "        text-align: right;\n",
       "    }\n",
       "</style>\n",
       "<table border=\"1\" class=\"dataframe\">\n",
       "  <thead>\n",
       "    <tr style=\"text-align: right;\">\n",
       "      <th></th>\n",
       "      <th>AAAGGTTAGCGATACT_solo</th>\n",
       "      <th>AAAGGTTAGCGATACT_cr</th>\n",
       "    </tr>\n",
       "  </thead>\n",
       "  <tbody>\n",
       "    <tr>\n",
       "      <th>ENSG00000197555</th>\n",
       "      <td>0.0</td>\n",
       "      <td>2.0</td>\n",
       "    </tr>\n",
       "    <tr>\n",
       "      <th>ENSG00000254787</th>\n",
       "      <td>0.0</td>\n",
       "      <td>1.0</td>\n",
       "    </tr>\n",
       "    <tr>\n",
       "      <th>ENSG00000134627</th>\n",
       "      <td>0.0</td>\n",
       "      <td>1.0</td>\n",
       "    </tr>\n",
       "    <tr>\n",
       "      <th>ENSG00000118181</th>\n",
       "      <td>0.0</td>\n",
       "      <td>1.0</td>\n",
       "    </tr>\n",
       "    <tr>\n",
       "      <th>ENSG00000145439</th>\n",
       "      <td>0.0</td>\n",
       "      <td>1.0</td>\n",
       "    </tr>\n",
       "    <tr>\n",
       "      <th>...</th>\n",
       "      <td>...</td>\n",
       "      <td>...</td>\n",
       "    </tr>\n",
       "    <tr>\n",
       "      <th>ENSG00000183722</th>\n",
       "      <td>11.0</td>\n",
       "      <td>7.0</td>\n",
       "    </tr>\n",
       "    <tr>\n",
       "      <th>ENSG00000166833</th>\n",
       "      <td>14.0</td>\n",
       "      <td>12.0</td>\n",
       "    </tr>\n",
       "    <tr>\n",
       "      <th>ENSG00000153823</th>\n",
       "      <td>15.0</td>\n",
       "      <td>7.0</td>\n",
       "    </tr>\n",
       "    <tr>\n",
       "      <th>ENSG00000196569</th>\n",
       "      <td>23.0</td>\n",
       "      <td>18.0</td>\n",
       "    </tr>\n",
       "    <tr>\n",
       "      <th>ENSG00000251562</th>\n",
       "      <td>50.0</td>\n",
       "      <td>44.0</td>\n",
       "    </tr>\n",
       "  </tbody>\n",
       "</table>\n",
       "<p>403 rows × 2 columns</p>\n",
       "</div>"
      ],
      "text/plain": [
       "                 AAAGGTTAGCGATACT_solo  AAAGGTTAGCGATACT_cr\n",
       "ENSG00000197555                    0.0                  2.0\n",
       "ENSG00000254787                    0.0                  1.0\n",
       "ENSG00000134627                    0.0                  1.0\n",
       "ENSG00000118181                    0.0                  1.0\n",
       "ENSG00000145439                    0.0                  1.0\n",
       "...                                ...                  ...\n",
       "ENSG00000183722                   11.0                  7.0\n",
       "ENSG00000166833                   14.0                 12.0\n",
       "ENSG00000153823                   15.0                  7.0\n",
       "ENSG00000196569                   23.0                 18.0\n",
       "ENSG00000251562                   50.0                 44.0\n",
       "\n",
       "[403 rows x 2 columns]"
      ]
     },
     "execution_count": 37,
     "metadata": {},
     "output_type": "execute_result"
    }
   ],
   "source": [
    "ok_cells[different].sort_values(by=\"AAAGGTTAGCGATACT_solo\")"
   ]
  },
  {
   "cell_type": "code",
   "execution_count": 38,
   "id": "hybrid-probe",
   "metadata": {},
   "outputs": [],
   "source": [
    "store = pandas.HDFStore(\"/woldlab/loxcyc/home/diane/proj/encode-202006-jamboree-detrout-rna-sc-pipeline/genome/GRCh38-arc2.0-2.7.8a/GRCh38-arc2.0-2.7.8a.h5\")\n",
    "gtf = store[\"/gtf\"]\n",
    "store.close()"
   ]
  },
  {
   "cell_type": "code",
   "execution_count": 39,
   "id": "laughing-russia",
   "metadata": {},
   "outputs": [
    {
     "ename": "NameError",
     "evalue": "name 'ensg_153823' is not defined",
     "output_type": "error",
     "traceback": [
      "\u001b[0;31m---------------------------------------------------------------------------\u001b[0m",
      "\u001b[0;31mNameError\u001b[0m                                 Traceback (most recent call last)",
      "\u001b[0;32m<ipython-input-39-705b48dd7dd2>\u001b[0m in \u001b[0;36m<module>\u001b[0;34m\u001b[0m\n\u001b[1;32m      1\u001b[0m \u001b[0mgene\u001b[0m \u001b[0;34m=\u001b[0m \u001b[0mgtf\u001b[0m\u001b[0;34m[\u001b[0m\u001b[0;34m(\u001b[0m\u001b[0mgtf\u001b[0m\u001b[0;34m[\u001b[0m\u001b[0;34m\"gene_id\"\u001b[0m\u001b[0;34m]\u001b[0m \u001b[0;34m==\u001b[0m \u001b[0;34m\"ENSG00000153823\"\u001b[0m\u001b[0;34m)\u001b[0m \u001b[0;34m&\u001b[0m \u001b[0;34m(\u001b[0m\u001b[0mgtf\u001b[0m\u001b[0;34m[\u001b[0m\u001b[0;34m\"type\"\u001b[0m\u001b[0;34m]\u001b[0m \u001b[0;34m==\u001b[0m \u001b[0;34m\"gene\"\u001b[0m\u001b[0;34m)\u001b[0m\u001b[0;34m]\u001b[0m\u001b[0;34m.\u001b[0m\u001b[0mloc\u001b[0m\u001b[0;34m[\u001b[0m\u001b[0;36m440211\u001b[0m\u001b[0;34m]\u001b[0m\u001b[0;34m\u001b[0m\u001b[0;34m\u001b[0m\u001b[0m\n\u001b[0;32m----> 2\u001b[0;31m \u001b[0mensg_153823\u001b[0m\u001b[0;34m\u001b[0m\u001b[0;34m\u001b[0m\u001b[0m\n\u001b[0m",
      "\u001b[0;31mNameError\u001b[0m: name 'ensg_153823' is not defined"
     ]
    }
   ],
   "source": [
    "gene = gtf[(gtf[\"gene_id\"] == \"ENSG00000153823\") & (gtf[\"type\"] == \"gene\")].loc[440211]\n",
    "ensg_153823"
   ]
  },
  {
   "cell_type": "code",
   "execution_count": null,
   "id": "emerging-skating",
   "metadata": {},
   "outputs": [],
   "source": [
    "tenx_bam = pysam.AlignmentFile(tenx_root / \"outs\" / \"gex_possorted_bam.bam\", \"rb\")\n",
    "solo_bam = pysam.AlignmentFile(solo278a_root / \"Aligned.sortedByCoord.out.bam\", \"rb\")"
   ]
  },
  {
   "cell_type": "code",
   "execution_count": null,
   "id": "lyric-tuner",
   "metadata": {},
   "outputs": [],
   "source": [
    "tenx_all_reads = list(tenx_bam.fetch(ensg_153823.chromosome, ensg_153823.start, ensg_153823.stop))\n",
    "solo_all_reads = list(solo_bam.fetch(ensg_153823.chromosome, ensg_153823.start, ensg_153823.stop))\n",
    "print(\"Solo len={}, CR len={}\".format(len(solo_all_reads), len(tenx_all_reads)))"
   ]
  },
  {
   "cell_type": "markdown",
   "id": "phantom-auditor",
   "metadata": {},
   "source": [
    "X_all_reads is everything in this tenx run, so is many libraries and many UMIs."
   ]
  },
  {
   "cell_type": "code",
   "execution_count": null,
   "id": "identified-reach",
   "metadata": {},
   "outputs": [],
   "source": [
    "tenx_cell_id = cell_id + \"-1\"\n",
    "tenx_reads = [x for x in tenx_all_reads if x.has_tag(\"CB\") and x.get_tag(\"CB\") == tenx_cell_id]\n",
    "solo_reads = [x for x in solo_all_reads if x.has_tag(\"CB\") and x.get_tag(\"CB\") == cell_id]\n",
    "print(\"Solo len={}, CR len={}\".format(len(solo_reads), len(tenx_reads)))"
   ]
  },
  {
   "cell_type": "code",
   "execution_count": null,
   "id": "invisible-administration",
   "metadata": {},
   "outputs": [],
   "source": [
    "set([x.query_name for x in tenx_reads]).symmetric_difference([x.query_name for x in solo_reads])"
   ]
  },
  {
   "cell_type": "code",
   "execution_count": null,
   "id": "occupational-woman",
   "metadata": {},
   "outputs": [],
   "source": [
    "[x.to_string() for x in tenx_all_reads if x.query_name == 'A00509:187:HYHY3DRXX:1:2264:19081:23766']"
   ]
  },
  {
   "cell_type": "code",
   "execution_count": null,
   "id": "sized-allowance",
   "metadata": {},
   "outputs": [],
   "source": [
    "[x.to_string() for x in solo_all_reads if x.query_name == 'A00509:187:HYHY3DRXX:1:2264:19081:23766']"
   ]
  },
  {
   "cell_type": "code",
   "execution_count": null,
   "id": "known-essex",
   "metadata": {},
   "outputs": [],
   "source": [
    "tenx_umis = Counter([x.get_tag(\"UR\") for x in tenx_reads])\n",
    "len(tenx_umis)"
   ]
  },
  {
   "cell_type": "code",
   "execution_count": null,
   "id": "earned-postage",
   "metadata": {},
   "outputs": [],
   "source": [
    "cell_id == 'AAAGGTTAGCGATACT'"
   ]
  },
  {
   "cell_type": "code",
   "execution_count": null,
   "id": "adult-porcelain",
   "metadata": {},
   "outputs": [],
   "source": [
    "read.tags['CB']"
   ]
  },
  {
   "cell_type": "code",
   "execution_count": null,
   "id": "standing-honolulu",
   "metadata": {},
   "outputs": [],
   "source": [
    "(2 ** 16) * 9"
   ]
  },
  {
   "cell_type": "code",
   "execution_count": null,
   "id": "textile-rebound",
   "metadata": {},
   "outputs": [],
   "source": []
  }
 ],
 "metadata": {
  "kernelspec": {
   "display_name": "Python 3",
   "language": "python",
   "name": "python3"
  },
  "language_info": {
   "codemirror_mode": {
    "name": "ipython",
    "version": 3
   },
   "file_extension": ".py",
   "mimetype": "text/x-python",
   "name": "python",
   "nbconvert_exporter": "python",
   "pygments_lexer": "ipython3",
   "version": "3.9.1+"
  }
 },
 "nbformat": 4,
 "nbformat_minor": 5
}
