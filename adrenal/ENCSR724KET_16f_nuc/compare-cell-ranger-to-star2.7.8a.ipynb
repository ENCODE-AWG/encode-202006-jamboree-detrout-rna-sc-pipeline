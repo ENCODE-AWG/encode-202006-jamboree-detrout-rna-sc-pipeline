{
 "cells": [
  {
   "cell_type": "markdown",
   "id": "injured-strip",
   "metadata": {},
   "source": [
    "# Introduction"
   ]
  },
  {
   "cell_type": "markdown",
   "id": "informal-tactics",
   "metadata": {},
   "source": [
    "This my first pass at trying to check if my star parameters worked.\n",
    "\n",
    "I used the version of star and the annotation files included in the 10x cellranger-arc archive as the closest check I could manage."
   ]
  },
  {
   "cell_type": "code",
   "execution_count": 1,
   "id": "ethical-programmer",
   "metadata": {},
   "outputs": [],
   "source": [
    "import scipy\n",
    "import pandas\n",
    "import scanpy\n",
    "import numpy\n",
    "from pathlib import Path\n",
    "from matplotlib import pyplot\n",
    "import sys"
   ]
  },
  {
   "cell_type": "code",
   "execution_count": 2,
   "id": "violent-action",
   "metadata": {},
   "outputs": [
    {
     "data": {
      "text/plain": [
       "'/woldlab/loxcyc/home/diane/proj/encode-202006-jamboree-detrout-rna-sc-pipeline/adrenal/ENCSR724KET_16f_nuc'"
      ]
     },
     "execution_count": 2,
     "metadata": {},
     "output_type": "execute_result"
    }
   ],
   "source": [
    "pwd"
   ]
  },
  {
   "cell_type": "code",
   "execution_count": 3,
   "id": "breathing-glenn",
   "metadata": {},
   "outputs": [],
   "source": [
    "project_root = Path(\"../..\").absolute()\n",
    "if str(project_root) not in sys.path:\n",
    "    sys.path.append(str(project_root))\n",
    "from common import compute_spearman_anndata"
   ]
  },
  {
   "cell_type": "code",
   "execution_count": 4,
   "id": "documentary-enough",
   "metadata": {},
   "outputs": [],
   "source": [
    "def scanpy_load_solo279a_mtx(analysis_dir, quantification=\"Gene\", mode=\"filtered\"):\n",
    "    assert mode in [\"filtered\", \"raw\"], \"STAR Solo only produces raw or filtered files\"\n",
    "    assert quantification in [\"Gene\", \"GeneFull\", \"SJ\"]\n",
    "\n",
    "    analysis_dir = Path(analysis_dir)\n",
    "    feature_name = \"features.tsv\"\n",
    "    \n",
    "    solo_dir = analysis_dir / \"Solo.out\" / quantification / mode\n",
    "    solo = scanpy.read_mtx(solo_dir / \"matrix.mtx\").T\n",
    "    solo_vars = pandas.read_csv(\n",
    "        solo_dir / feature_name, header=None, sep=\"\\t\"\n",
    "    ).values.T\n",
    "    solo_obs = pandas.read_csv(\n",
    "        solo_dir / \"barcodes.tsv\", header=None, sep=\"\\t\"\n",
    "    ).values.T\n",
    "    solo.obs_names = solo_obs[0]\n",
    "    solo.var_names = solo_vars[0]\n",
    "\n",
    "    solo.obs[\"counts\"] = solo.X.sum(axis=1)\n",
    "    solo.obs[\"ngenes\"] = numpy.array((solo.X > 0).sum(axis=1))\n",
    "\n",
    "    return solo\n",
    "\n"
   ]
  },
  {
   "cell_type": "code",
   "execution_count": 5,
   "id": "comparative-smooth",
   "metadata": {},
   "outputs": [],
   "source": [
    "tenx_root = Path('ENCSR724KET_cr-arc')\n",
    "tenx_raw_path = tenx_root / 'outs' / 'raw_feature_bc_matrix'\n",
    "tenx_filtered_path = tenx_root / 'outs' / 'filtered_feature_bc_matrix'"
   ]
  },
  {
   "cell_type": "code",
   "execution_count": 6,
   "id": "informal-incidence",
   "metadata": {},
   "outputs": [],
   "source": [
    "tenx_filtered = scanpy.read_10x_mtx(tenx_filtered_path, var_names='gene_ids')\n",
    "tenx_filtered.obs_names = [x[:-2] for x in tenx_filtered.obs_names]"
   ]
  },
  {
   "cell_type": "code",
   "execution_count": 7,
   "id": "african-shower",
   "metadata": {},
   "outputs": [],
   "source": [
    "solo279a_root = Path(\"starsolo_2.7.9a_2021-06-25\")\n",
    "solo279a_gene = scanpy_load_solo279a_mtx(solo279a_root, \"Gene\", \"filtered\")\n",
    "solo279a_genefull = scanpy_load_solo279a_mtx(solo279a_root, \"GeneFull\", \"filtered\")"
   ]
  },
  {
   "cell_type": "code",
   "execution_count": 8,
   "id": "superb-shepherd",
   "metadata": {},
   "outputs": [
    {
     "name": "stdout",
     "output_type": "stream",
     "text": [
      "tenx filtered (13650, 36601) 80119070.0\n",
      "solo gene (14355, 36601) 41109336.0\n",
      "solo genefull (15915, 36601) 111347410.0\n"
     ]
    }
   ],
   "source": [
    "print(\"tenx filtered\", tenx_filtered.shape, tenx_filtered.X.sum())\n",
    "print(\"solo gene\", solo279a_gene.shape, solo279a_gene.X.sum())\n",
    "print(\"solo genefull\", solo279a_genefull.shape, solo279a_genefull.X.sum())"
   ]
  },
  {
   "cell_type": "markdown",
   "id": "appreciated-making",
   "metadata": {},
   "source": [
    "solo gene is empty? That's really weird"
   ]
  },
  {
   "cell_type": "code",
   "execution_count": 9,
   "id": "pediatric-reach",
   "metadata": {},
   "outputs": [],
   "source": [
    "common_barcodes = [ x for x in tenx_filtered.obs_names if x in set(tenx_filtered.obs_names).intersection(solo279a_gene.obs_names)]"
   ]
  },
  {
   "cell_type": "code",
   "execution_count": 10,
   "id": "judicial-equality",
   "metadata": {},
   "outputs": [
    {
     "data": {
      "text/plain": [
       "((12807, 36601), 39131030.0)"
      ]
     },
     "execution_count": 10,
     "metadata": {},
     "output_type": "execute_result"
    }
   ],
   "source": [
    "solo279a_filtered_gene = solo279a_gene[common_barcodes,:]\n",
    "solo279a_filtered_gene.shape, solo279a_filtered_gene.X.sum()"
   ]
  },
  {
   "cell_type": "code",
   "execution_count": 11,
   "id": "acquired-calcium",
   "metadata": {},
   "outputs": [
    {
     "data": {
      "text/plain": [
       "(12807, 1)"
      ]
     },
     "execution_count": 11,
     "metadata": {},
     "output_type": "execute_result"
    }
   ],
   "source": [
    "solo279a_filtered_gene.X.sum(axis=1).shape"
   ]
  },
  {
   "cell_type": "code",
   "execution_count": 12,
   "id": "smooth-baghdad",
   "metadata": {},
   "outputs": [],
   "source": [
    "tenx_common = tenx_filtered[common_barcodes,:]"
   ]
  },
  {
   "cell_type": "code",
   "execution_count": 13,
   "id": "hidden-wrist",
   "metadata": {},
   "outputs": [
    {
     "name": "stderr",
     "output_type": "stream",
     "text": [
      "/usr/lib/python3/dist-packages/scipy/stats/stats.py:4264: SpearmanRConstantInputWarning: An input array is constant; the correlation coefficent is not defined.\n",
      "  warnings.warn(SpearmanRConstantInputWarning())\n"
     ]
    }
   ],
   "source": [
    "filtered_cors = compute_spearman_anndata(tenx_common, solo279a_filtered_gene)"
   ]
  },
  {
   "cell_type": "code",
   "execution_count": 14,
   "id": "naughty-credits",
   "metadata": {},
   "outputs": [
    {
     "data": {
      "text/plain": [
       "View of AnnData object with n_obs × n_vars = 12807 × 36601\n",
       "    var: 'gene_symbols', 'feature_types'"
      ]
     },
     "execution_count": 14,
     "metadata": {},
     "output_type": "execute_result"
    }
   ],
   "source": [
    "tenx_common"
   ]
  },
  {
   "cell_type": "code",
   "execution_count": 15,
   "id": "freelance-houston",
   "metadata": {},
   "outputs": [],
   "source": [
    "tenx_common_sum = pandas.Series(numpy.asarray(tenx_common.X.sum(axis=1)).T[0])\n"
   ]
  },
  {
   "cell_type": "code",
   "execution_count": 16,
   "id": "premium-silicon",
   "metadata": {},
   "outputs": [
    {
     "data": {
      "text/plain": [
       "'GCATCCTTCTAAGTGC'"
      ]
     },
     "execution_count": 16,
     "metadata": {},
     "output_type": "execute_result"
    }
   ],
   "source": [
    "tenx_idxmax = tenx_common_sum.idxmax()\n",
    "tenx_max_cell = tenx_common.obs_names[tenx_idxmax]\n",
    "tenx_max_cell"
   ]
  },
  {
   "cell_type": "code",
   "execution_count": 17,
   "id": "dramatic-shelter",
   "metadata": {},
   "outputs": [
    {
     "data": {
      "text/html": [
       "<div>\n",
       "<style scoped>\n",
       "    .dataframe tbody tr th:only-of-type {\n",
       "        vertical-align: middle;\n",
       "    }\n",
       "\n",
       "    .dataframe tbody tr th {\n",
       "        vertical-align: top;\n",
       "    }\n",
       "\n",
       "    .dataframe thead th {\n",
       "        text-align: right;\n",
       "    }\n",
       "</style>\n",
       "<table border=\"1\" class=\"dataframe\">\n",
       "  <thead>\n",
       "    <tr style=\"text-align: right;\">\n",
       "      <th></th>\n",
       "      <th>GCATCCTTCTAAGTGC</th>\n",
       "    </tr>\n",
       "  </thead>\n",
       "  <tbody>\n",
       "    <tr>\n",
       "      <th>count</th>\n",
       "      <td>36601.000000</td>\n",
       "    </tr>\n",
       "    <tr>\n",
       "      <th>mean</th>\n",
       "      <td>3.866807</td>\n",
       "    </tr>\n",
       "    <tr>\n",
       "      <th>std</th>\n",
       "      <td>72.393562</td>\n",
       "    </tr>\n",
       "    <tr>\n",
       "      <th>min</th>\n",
       "      <td>0.000000</td>\n",
       "    </tr>\n",
       "    <tr>\n",
       "      <th>25%</th>\n",
       "      <td>0.000000</td>\n",
       "    </tr>\n",
       "    <tr>\n",
       "      <th>50%</th>\n",
       "      <td>0.000000</td>\n",
       "    </tr>\n",
       "    <tr>\n",
       "      <th>75%</th>\n",
       "      <td>2.000000</td>\n",
       "    </tr>\n",
       "    <tr>\n",
       "      <th>max</th>\n",
       "      <td>13634.000000</td>\n",
       "    </tr>\n",
       "  </tbody>\n",
       "</table>\n",
       "</div>"
      ],
      "text/plain": [
       "       GCATCCTTCTAAGTGC\n",
       "count      36601.000000\n",
       "mean           3.866807\n",
       "std           72.393562\n",
       "min            0.000000\n",
       "25%            0.000000\n",
       "50%            0.000000\n",
       "75%            2.000000\n",
       "max        13634.000000"
      ]
     },
     "execution_count": 17,
     "metadata": {},
     "output_type": "execute_result"
    }
   ],
   "source": [
    "tfg = tenx_filtered[tenx_max_cell].to_df().T\n",
    "tfg.describe()"
   ]
  },
  {
   "cell_type": "code",
   "execution_count": 18,
   "id": "governing-outdoors",
   "metadata": {},
   "outputs": [
    {
     "data": {
      "text/html": [
       "<div>\n",
       "<style scoped>\n",
       "    .dataframe tbody tr th:only-of-type {\n",
       "        vertical-align: middle;\n",
       "    }\n",
       "\n",
       "    .dataframe tbody tr th {\n",
       "        vertical-align: top;\n",
       "    }\n",
       "\n",
       "    .dataframe thead th {\n",
       "        text-align: right;\n",
       "    }\n",
       "</style>\n",
       "<table border=\"1\" class=\"dataframe\">\n",
       "  <thead>\n",
       "    <tr style=\"text-align: right;\">\n",
       "      <th></th>\n",
       "      <th>GCATCCTTCTAAGTGC</th>\n",
       "    </tr>\n",
       "  </thead>\n",
       "  <tbody>\n",
       "    <tr>\n",
       "      <th>count</th>\n",
       "      <td>36601.000000</td>\n",
       "    </tr>\n",
       "    <tr>\n",
       "      <th>mean</th>\n",
       "      <td>1.804732</td>\n",
       "    </tr>\n",
       "    <tr>\n",
       "      <th>std</th>\n",
       "      <td>74.928215</td>\n",
       "    </tr>\n",
       "    <tr>\n",
       "      <th>min</th>\n",
       "      <td>0.000000</td>\n",
       "    </tr>\n",
       "    <tr>\n",
       "      <th>25%</th>\n",
       "      <td>0.000000</td>\n",
       "    </tr>\n",
       "    <tr>\n",
       "      <th>50%</th>\n",
       "      <td>0.000000</td>\n",
       "    </tr>\n",
       "    <tr>\n",
       "      <th>75%</th>\n",
       "      <td>1.000000</td>\n",
       "    </tr>\n",
       "    <tr>\n",
       "      <th>max</th>\n",
       "      <td>14269.000000</td>\n",
       "    </tr>\n",
       "  </tbody>\n",
       "</table>\n",
       "</div>"
      ],
      "text/plain": [
       "       GCATCCTTCTAAGTGC\n",
       "count      36601.000000\n",
       "mean           1.804732\n",
       "std           74.928215\n",
       "min            0.000000\n",
       "25%            0.000000\n",
       "50%            0.000000\n",
       "75%            1.000000\n",
       "max        14269.000000"
      ]
     },
     "execution_count": 18,
     "metadata": {},
     "output_type": "execute_result"
    }
   ],
   "source": [
    "sfg = solo279a_filtered_gene[tenx_max_cell].to_df().T\n",
    "sfg.describe()"
   ]
  },
  {
   "cell_type": "code",
   "execution_count": null,
   "id": "pending-ability",
   "metadata": {},
   "outputs": [],
   "source": []
  },
  {
   "cell_type": "code",
   "execution_count": 20,
   "id": "joint-chorus",
   "metadata": {},
   "outputs": [],
   "source": [
    "assert numpy.all(tfg.index == sfg.index), \"feature lists are not in same order \""
   ]
  },
  {
   "cell_type": "code",
   "execution_count": 21,
   "id": "alike-switch",
   "metadata": {},
   "outputs": [],
   "source": [
    "rad = (numpy.abs(sfg - tfg) / numpy.maximum(sfg, tfg))"
   ]
  },
  {
   "cell_type": "code",
   "execution_count": 22,
   "id": "dental-stadium",
   "metadata": {},
   "outputs": [
    {
     "data": {
      "text/plain": [
       "<AxesSubplot:ylabel='Frequency'>"
      ]
     },
     "execution_count": 22,
     "metadata": {},
     "output_type": "execute_result"
    },
    {
     "data": {
      "image/png": "[encoded data removed]",
      "text/plain": [
       "<Figure size 432x288 with 1 Axes>"
      ]
     },
     "metadata": {
      "needs_background": "light"
     },
     "output_type": "display_data"
    }
   ],
   "source": [
    "rad.plot.hist(bins=50)"
   ]
  },
  {
   "cell_type": "code",
   "execution_count": 23,
   "id": "hearing-honduras",
   "metadata": {},
   "outputs": [],
   "source": [
    "combined_gene = pandas.merge(sfg, tfg, left_index=True, right_index=True, suffixes=(\"_star\", \"_cr-arc\"))"
   ]
  },
  {
   "cell_type": "markdown",
   "id": "conditional-happiness",
   "metadata": {},
   "source": [
    "# Compare cell GCATCCTTCTAAGTGC between cellranger and STAR solo gene"
   ]
  },
  {
   "cell_type": "code",
   "execution_count": 24,
   "id": "agreed-florence",
   "metadata": {},
   "outputs": [
    {
     "name": "stderr",
     "output_type": "stream",
     "text": [
      "<ipython-input-24-3fd4f3200269>:4: RuntimeWarning: divide by zero encountered in log2\n",
      "  p = numpy.log2(combined_gene).plot.scatter(x=\"{}_star\".format(tenx_max_cell), y=\"{}_cr-arc\".format(tenx_max_cell), ax=ax)\n"
     ]
    },
    {
     "data": {
      "image/png": "[encoded data removed]",
      "text/plain": [
       "<Figure size 432x288 with 1 Axes>"
      ]
     },
     "metadata": {
      "needs_background": "light"
     },
     "output_type": "display_data"
    }
   ],
   "source": [
    "f = pyplot.figure()\n",
    "ax = f.add_subplot(1,1,1)\n",
    "\n",
    "p = numpy.log2(combined_gene).plot.scatter(x=\"{}_star\".format(tenx_max_cell), y=\"{}_cr-arc\".format(tenx_max_cell), ax=ax)\n",
    "#ax.set_xscale('log')\n",
    "#ax.set_yscale('log')\n",
    "#ax.set_xlim(0,1e5)\n",
    "#ax.set_ylim(0,1e5)\n",
    "ax.grid(alpha=.5)"
   ]
  },
  {
   "cell_type": "markdown",
   "id": "seeing-imperial",
   "metadata": {},
   "source": [
    "Wait a second... that looks like cell ranger has higher expression... what did they change? Are they counting introns? Multireads?"
   ]
  },
  {
   "cell_type": "code",
   "execution_count": 25,
   "id": "democratic-encoding",
   "metadata": {},
   "outputs": [
    {
     "name": "stderr",
     "output_type": "stream",
     "text": [
      "/usr/lib/python3/dist-packages/scipy/stats/stats.py:4264: SpearmanRConstantInputWarning: An input array is constant; the correlation coefficent is not defined.\n",
      "  warnings.warn(SpearmanRConstantInputWarning())\n"
     ]
    }
   ],
   "source": [
    "gene_cors = compute_spearman_anndata(tenx_common, solo279a_filtered_gene)"
   ]
  },
  {
   "cell_type": "markdown",
   "id": "infrared-hampton",
   "metadata": {},
   "source": [
    "# Compare per cell gene spearman correlation"
   ]
  },
  {
   "cell_type": "markdown",
   "id": "democratic-revelation",
   "metadata": {},
   "source": [
    "There is a warning message from the spearman function complaining that the input matrix has an issue, so this histogram may be incorrect."
   ]
  },
  {
   "cell_type": "code",
   "execution_count": 26,
   "id": "educational-horror",
   "metadata": {},
   "outputs": [
    {
     "data": {
      "text/plain": [
       "<AxesSubplot:ylabel='Frequency'>"
      ]
     },
     "execution_count": 26,
     "metadata": {},
     "output_type": "execute_result"
    },
    {
     "data": {
      "image/png": "[encoded data removed]",
      "text/plain": [
       "<Figure size 432x288 with 1 Axes>"
      ]
     },
     "metadata": {
      "needs_background": "light"
     },
     "output_type": "display_data"
    }
   ],
   "source": [
    "gene_cors.plot.hist(bins=50)"
   ]
  },
  {
   "cell_type": "markdown",
   "id": "bright-toolbox",
   "metadata": {},
   "source": [
    "# Prepare GeneFull comparisons"
   ]
  },
  {
   "cell_type": "code",
   "execution_count": 27,
   "id": "saving-pointer",
   "metadata": {},
   "outputs": [
    {
     "data": {
      "text/html": [
       "<div>\n",
       "<style scoped>\n",
       "    .dataframe tbody tr th:only-of-type {\n",
       "        vertical-align: middle;\n",
       "    }\n",
       "\n",
       "    .dataframe tbody tr th {\n",
       "        vertical-align: top;\n",
       "    }\n",
       "\n",
       "    .dataframe thead th {\n",
       "        text-align: right;\n",
       "    }\n",
       "</style>\n",
       "<table border=\"1\" class=\"dataframe\">\n",
       "  <thead>\n",
       "    <tr style=\"text-align: right;\">\n",
       "      <th></th>\n",
       "      <th>GCATCCTTCTAAGTGC</th>\n",
       "    </tr>\n",
       "  </thead>\n",
       "  <tbody>\n",
       "    <tr>\n",
       "      <th>count</th>\n",
       "      <td>36601.000000</td>\n",
       "    </tr>\n",
       "    <tr>\n",
       "      <th>mean</th>\n",
       "      <td>5.560859</td>\n",
       "    </tr>\n",
       "    <tr>\n",
       "      <th>std</th>\n",
       "      <td>77.401741</td>\n",
       "    </tr>\n",
       "    <tr>\n",
       "      <th>min</th>\n",
       "      <td>0.000000</td>\n",
       "    </tr>\n",
       "    <tr>\n",
       "      <th>25%</th>\n",
       "      <td>0.000000</td>\n",
       "    </tr>\n",
       "    <tr>\n",
       "      <th>50%</th>\n",
       "      <td>0.000000</td>\n",
       "    </tr>\n",
       "    <tr>\n",
       "      <th>75%</th>\n",
       "      <td>2.000000</td>\n",
       "    </tr>\n",
       "    <tr>\n",
       "      <th>max</th>\n",
       "      <td>14277.000000</td>\n",
       "    </tr>\n",
       "  </tbody>\n",
       "</table>\n",
       "</div>"
      ],
      "text/plain": [
       "       GCATCCTTCTAAGTGC\n",
       "count      36601.000000\n",
       "mean           5.560859\n",
       "std           77.401741\n",
       "min            0.000000\n",
       "25%            0.000000\n",
       "50%            0.000000\n",
       "75%            2.000000\n",
       "max        14277.000000"
      ]
     },
     "execution_count": 27,
     "metadata": {},
     "output_type": "execute_result"
    }
   ],
   "source": [
    "common_genefull_barcodes = [ x for x in tenx_filtered.obs_names if x in set(tenx_filtered.obs_names).intersection(solo279a_genefull.obs_names)]\n",
    "solo279a_filtered_genefull = solo279a_genefull[common_genefull_barcodes,:]\n",
    "sfgf = solo279a_filtered_genefull[tenx_max_cell].to_df().T\n",
    "sfgf.describe()"
   ]
  },
  {
   "cell_type": "code",
   "execution_count": 28,
   "id": "configured-uniform",
   "metadata": {},
   "outputs": [],
   "source": [
    "combined_genefull = pandas.merge(sfgf, tfg, left_index=True, right_index=True, suffixes=(\"_star\", \"_cr-arc\"))"
   ]
  },
  {
   "cell_type": "markdown",
   "id": "consecutive-provider",
   "metadata": {},
   "source": [
    "# Compare cell GCATCCTTCTAAGTGC between cellranger and STAR solo genefull"
   ]
  },
  {
   "cell_type": "code",
   "execution_count": 29,
   "id": "possible-direction",
   "metadata": {},
   "outputs": [
    {
     "name": "stderr",
     "output_type": "stream",
     "text": [
      "<ipython-input-29-1910fb9f2045>:4: RuntimeWarning: divide by zero encountered in log2\n",
      "  p = numpy.log2(combined_genefull).plot.scatter(x=\"{}_star\".format(tenx_max_cell), y=\"{}_cr-arc\".format(tenx_max_cell), ax=ax)\n"
     ]
    },
    {
     "data": {
      "image/png": "[encoded data removed]",
      "text/plain": [
       "<Figure size 432x288 with 1 Axes>"
      ]
     },
     "metadata": {
      "needs_background": "light"
     },
     "output_type": "display_data"
    }
   ],
   "source": [
    "f = pyplot.figure()\n",
    "ax = f.add_subplot(1,1,1)\n",
    "\n",
    "p = numpy.log2(combined_genefull).plot.scatter(x=\"{}_star\".format(tenx_max_cell), y=\"{}_cr-arc\".format(tenx_max_cell), ax=ax)\n",
    "#ax.set_xscale('log')\n",
    "#ax.set_yscale('log')\n",
    "#ax.set_xlim(0,1e5)\n",
    "#ax.set_ylim(0,1e5)\n",
    "ax.grid(alpha=.5)"
   ]
  },
  {
   "cell_type": "code",
   "execution_count": 32,
   "id": "bound-january",
   "metadata": {},
   "outputs": [
    {
     "name": "stderr",
     "output_type": "stream",
     "text": [
      "/usr/lib/python3/dist-packages/scipy/stats/stats.py:4264: SpearmanRConstantInputWarning: An input array is constant; the correlation coefficent is not defined.\n",
      "  warnings.warn(SpearmanRConstantInputWarning())\n"
     ]
    }
   ],
   "source": [
    "tenx_common_genefull = tenx_filtered[common_genefull_barcodes,:]\n",
    "genefull_cors = compute_spearman_anndata(tenx_common_genefull, solo279a_filtered_genefull)"
   ]
  },
  {
   "cell_type": "markdown",
   "id": "average-sigma",
   "metadata": {},
   "source": [
    "# Plot GeneFull correlations"
   ]
  },
  {
   "cell_type": "code",
   "execution_count": 33,
   "id": "olive-collectible",
   "metadata": {},
   "outputs": [
    {
     "data": {
      "text/plain": [
       "<AxesSubplot:ylabel='Frequency'>"
      ]
     },
     "execution_count": 33,
     "metadata": {},
     "output_type": "execute_result"
    },
    {
     "data": {
      "image/png": "[encoded data removed]",
      "text/plain": [
       "<Figure size 432x288 with 1 Axes>"
      ]
     },
     "metadata": {
      "needs_background": "light"
     },
     "output_type": "display_data"
    }
   ],
   "source": [
    "genefull_cors.plot.hist(bins=50)"
   ]
  },
  {
   "cell_type": "markdown",
   "id": "dedicated-translator",
   "metadata": {},
   "source": [
    "Well that's an improvement. Looks like they're counting introns."
   ]
  },
  {
   "cell_type": "code",
   "execution_count": null,
   "id": "restricted-british",
   "metadata": {},
   "outputs": [],
   "source": []
  }
 ],
 "metadata": {
  "kernelspec": {
   "display_name": "Python 3",
   "language": "python",
   "name": "python3"
  },
  "language_info": {
   "codemirror_mode": {
    "name": "ipython",
    "version": 3
   },
   "file_extension": ".py",
   "mimetype": "text/x-python",
   "name": "python",
   "nbconvert_exporter": "python",
   "pygments_lexer": "ipython3",
   "version": "3.9.1+"
  }
 },
 "nbformat": 4,
 "nbformat_minor": 5
}
