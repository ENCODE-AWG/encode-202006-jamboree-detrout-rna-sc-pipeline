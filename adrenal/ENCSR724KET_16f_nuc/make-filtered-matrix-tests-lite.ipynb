{
 "cells": [
  {
   "cell_type": "markdown",
   "id": "comic-conducting",
   "metadata": {},
   "source": [
    "Lets try to do the conversion in a really lightweight way."
   ]
  },
  {
   "cell_type": "code",
   "execution_count": 1,
   "id": "civilian-captain",
   "metadata": {},
   "outputs": [],
   "source": [
    "from pathlib import Path\n",
    "import csv\n"
   ]
  },
  {
   "cell_type": "code",
   "execution_count": 2,
   "id": "uniform-exclusive",
   "metadata": {},
   "outputs": [],
   "source": [
    "def read_barcode_lineno_map(filename):\n",
    "    barcodes = {}\n",
    "    with open(filename, \"rt\") as csvfile:\n",
    "        reader = csv.reader(csvfile, delimiter='\\t')\n",
    "        for i, line in enumerate(reader):\n",
    "            barcodes[line[0]] = i + 1\n",
    "            \n",
    "    return barcodes"
   ]
  },
  {
   "cell_type": "code",
   "execution_count": 3,
   "id": "filled-joseph",
   "metadata": {},
   "outputs": [],
   "source": [
    "analysis_dir = Path(\"fullsolo_multi_eoi_container/\")\n",
    "solo_dir = analysis_dir / \"Solo.out\""
   ]
  },
  {
   "cell_type": "code",
   "execution_count": 4,
   "id": "connected-dakota",
   "metadata": {},
   "outputs": [],
   "source": [
    "def compute_raw_to_filtered_map(filtered_barcodes, raw_barcodes):\n",
    "    raw_to_filtered_mapping = {}\n",
    "    for filtered_barcode in filtered_barcodes:\n",
    "        filtered_index = filtered_barcodes[filtered_barcode]\n",
    "        raw_index = raw_barcodes[filtered_barcode]\n",
    "        raw_to_filtered_mapping[raw_index] = filtered_index\n",
    "    return raw_to_filtered_mapping"
   ]
  },
  {
   "cell_type": "code",
   "execution_count": 5,
   "id": "empirical-vocabulary",
   "metadata": {},
   "outputs": [],
   "source": [
    "def filter_mtx(raw_barcode_filename, raw_matrix_filename, filtered_barcode_filename):\n",
    "    \"\"\"Read raw barcodes, matrix and filtered barcodes writing a filtered matrix file\n",
    "    \"\"\"\n",
    "    raw_barcodes = read_barcode_lineno_map(raw_barcode_filename)\n",
    "    filtered_barcodes = read_barcode_lineno_map(filtered_barcode_filename)\n",
    "    raw_to_filtered_mapping = compute_raw_to_filtered_map(filtered_barcodes, raw_barcodes)\n",
    "\n",
    "    header = True\n",
    "    results = []\n",
    "    with open(raw_matrix_mtx, \"rt\") as instream:\n",
    "        # copy comments\n",
    "        for line in instream:\n",
    "            if line.startswith(\"%\"):\n",
    "                yield line\n",
    "            elif header:\n",
    "                # After the comment comes the one header line\n",
    "                total_rows, total_columns, total_counts = [int(x) for x in line.rstrip().split()]\n",
    "                assert total_columns == len(raw_barcodes)\n",
    "                header = False\n",
    "            else:\n",
    "                # row, column, count\n",
    "                row, column, count = [int(x) for x in line.rstrip().split()]\n",
    "                if column in raw_to_filtered_mapping:\n",
    "                    new_column = raw_to_filtered_mapping[column]\n",
    "                    results.append((row, new_column, count))\n",
    "\n",
    "        rs = sorted(results, key=lambda row: (row[1], row[0]))\n",
    "        total_columns = len(filtered_barcodes)\n",
    "        total_counts = len(rs)\n",
    "        yield \"{} {} {}\\n\".format(total_rows, total_columns, total_counts)\n",
    "        for row, column, count in rs:\n",
    "            yield \"{} {} {}\\n\".format(row, column, count)\n"
   ]
  },
  {
   "cell_type": "code",
   "execution_count": 7,
   "id": "emotional-senate",
   "metadata": {},
   "outputs": [],
   "source": [
    "raw_barcode_tsv = solo_dir / \"GeneFull_Ex50pAS\" / \"raw\" / \"barcodes.tsv\"\n",
    "raw_matrix_mtx = solo_dir / \"GeneFull_Ex50pAS\" / \"raw\" / \"matrix.mtx\"\n",
    "filtered_barcode_tsv = solo_dir / \"GeneFull_Ex50pAS\" / \"filtered\" / \"barcodes.tsv\"\n",
    "test_mtx = analysis_dir / \"test-lite.mtx\"\n",
    "\n",
    "with open(test_mtx, \"wt\") as outstream:\n",
    "    for line in filter_mtx(raw_barcode_tsv, raw_matrix_mtx, filtered_barcode_tsv):\n",
    "        outstream.write(line)"
   ]
  },
  {
   "cell_type": "code",
   "execution_count": 8,
   "id": "german-appointment",
   "metadata": {},
   "outputs": [
    {
     "data": {
      "text/plain": [
       "'/woldlab/loxcyc/home/diane/proj/encode-202006-jamboree-detrout-rna-sc-pipeline/adrenal/ENCSR724KET_16f_nuc'"
      ]
     },
     "execution_count": 8,
     "metadata": {},
     "output_type": "execute_result"
    }
   ],
   "source": [
    "pwd"
   ]
  },
  {
   "cell_type": "code",
   "execution_count": null,
   "id": "correct-mozambique",
   "metadata": {},
   "outputs": [],
   "source": []
  }
 ],
 "metadata": {
  "kernelspec": {
   "display_name": "Python 3",
   "language": "python",
   "name": "python3"
  },
  "language_info": {
   "codemirror_mode": {
    "name": "ipython",
    "version": 3
   },
   "file_extension": ".py",
   "mimetype": "text/x-python",
   "name": "python",
   "nbconvert_exporter": "python",
   "pygments_lexer": "ipython3",
   "version": "3.9.1+"
  }
 },
 "nbformat": 4,
 "nbformat_minor": 5
}
