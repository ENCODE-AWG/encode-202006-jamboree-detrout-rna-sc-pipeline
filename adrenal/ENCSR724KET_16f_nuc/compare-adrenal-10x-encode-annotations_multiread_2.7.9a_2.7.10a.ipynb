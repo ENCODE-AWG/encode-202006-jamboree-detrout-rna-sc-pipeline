{
 "cells": [
  {
   "cell_type": "markdown",
   "id": "injured-strip",
   "metadata": {
    "slideshow": {
     "slide_type": "slide"
    }
   },
   "source": [
    "# Introduction"
   ]
  },
  {
   "cell_type": "markdown",
   "id": "informal-tactics",
   "metadata": {
    "slideshow": {
     "slide_type": "-"
    }
   },
   "source": [
    "How much does what is included in the annotation set matter?"
   ]
  },
  {
   "cell_type": "code",
   "execution_count": 1,
   "id": "ethical-programmer",
   "metadata": {
    "slideshow": {
     "slide_type": "skip"
    }
   },
   "outputs": [],
   "source": [
    "import seaborn\n",
    "import scipy\n",
    "import anndata\n",
    "import pandas\n",
    "import scanpy\n",
    "import numpy\n",
    "from pathlib import Path\n",
    "from matplotlib import pyplot, cm\n",
    "import sys\n",
    "import pysam\n",
    "from collections import Counter\n",
    "from IPython import display\n",
    "\n",
    "import upsetplot"
   ]
  },
  {
   "cell_type": "code",
   "execution_count": 2,
   "id": "hungry-winner",
   "metadata": {},
   "outputs": [],
   "source": [
    "MEX = str(Path(\"~/proj/mex_gene_archive\").expanduser())\n",
    "if MEX not in sys.path:\n",
    "    sys.path.append(MEX)\n",
    "from mex_gene_archive.filter import write_filtered_mtx\n",
    "from mex_gene_archive.reader import read_mex_archive_as_anndata"
   ]
  },
  {
   "cell_type": "code",
   "execution_count": null,
   "id": "statistical-senior",
   "metadata": {},
   "outputs": [],
   "source": []
  },
  {
   "cell_type": "code",
   "execution_count": 3,
   "id": "faced-semester",
   "metadata": {
    "slideshow": {
     "slide_type": "skip"
    }
   },
   "outputs": [],
   "source": [
    "pandas.options.display.max_rows = 300"
   ]
  },
  {
   "cell_type": "code",
   "execution_count": 4,
   "id": "violent-action",
   "metadata": {
    "slideshow": {
     "slide_type": "skip"
    }
   },
   "outputs": [
    {
     "data": {
      "text/plain": [
       "'/woldlab/loxcyc/home/diane/proj/encode-202006-jamboree-detrout-rna-sc-pipeline/adrenal/ENCSR724KET_16f_nuc'"
      ]
     },
     "execution_count": 4,
     "metadata": {},
     "output_type": "execute_result"
    }
   ],
   "source": [
    "pwd"
   ]
  },
  {
   "cell_type": "code",
   "execution_count": 5,
   "id": "breathing-glenn",
   "metadata": {
    "slideshow": {
     "slide_type": "skip"
    }
   },
   "outputs": [],
   "source": [
    "project_root = Path(\"../..\").absolute()\n",
    "if str(project_root) not in sys.path:\n",
    "    sys.path.append(str(project_root))\n",
    "from common import compute_spearman_anndata"
   ]
  },
  {
   "cell_type": "code",
   "execution_count": 6,
   "id": "polish-sound",
   "metadata": {
    "slideshow": {
     "slide_type": "skip"
    }
   },
   "outputs": [],
   "source": [
    "v29_genome_dir = Path(\"~/proj/genome/\").expanduser()\n",
    "v29_store = pandas.HDFStore(v29_genome_dir / \"GRCh38-V29-male\" / \"GRCh38-V29-male.h5\")\n",
    "v29_gtf = v29_store.select('/gtf', where='type == gene', columns=['gene_id', 'gene_name', 'gene_type'])\n",
    "v29_store.close()\n",
    "\n",
    "v29_gene_base_to_id = {}\n",
    "v29_gene_id_to_name = {}\n",
    "v29_gene_id_to_type = {}\n",
    "for i, row in v29_gtf.iterrows():\n",
    "    v29_gene_base_to_id[row.gene_id.split('.')[0]] = row.gene_id\n",
    "    v29_gene_id_to_name[row.gene_id] = row.gene_name\n",
    "    v29_gene_id_to_type[row.gene_id] = row.gene_type\n",
    "\n",
    "def calculate_v29_gene_base(gene_id):\n",
    "    gene_base = gene_id.split('.')[0]\n",
    "    if gene_id.endswith(\"_PAR_Y\"):\n",
    "        gene_base += \"_PAR_Y\"\n",
    "    return gene_base\n",
    "v29_gtf['gene_base'] = v29_gtf['gene_id'].apply(calculate_v29_gene_base)"
   ]
  },
  {
   "cell_type": "code",
   "execution_count": 7,
   "id": "alternative-waters",
   "metadata": {
    "slideshow": {
     "slide_type": "skip"
    }
   },
   "outputs": [],
   "source": [
    "v32m_genome_dir = Path(\"~/proj/encode-202006-jamboree-detrout-rna-sc-pipeline/genome/\").expanduser()\n",
    "v32m_store = pandas.HDFStore(v32m_genome_dir / \"GRCh38-arc2.0-2.7.8a\" / \"GRCh38-arc2.0-2.7.8a.h5\")\n",
    "v32m_gtf = v32m_store.select('/gtf', where='type == gene', columns=['gene_id', 'gene_name', 'gene_type'])\n",
    "v32m_store.close()\n",
    "\n",
    "v32m_gtf.columns = ['gene_base', 'gene_name', 'gene_type']\n",
    "v32m_gtf['gene_id'] = v32m_gtf['gene_base'].apply(lambda x: v29_gene_base_to_id.get(x, x))\n",
    "\n",
    "v32m_gene_id_to_name = {}\n",
    "v32m_gene_id_to_type = {}\n",
    "for i, row in v32m_gtf.iterrows():\n",
    "    v32m_gene_id_to_name[row.gene_id] = row.gene_name\n",
    "    v32m_gene_id_to_type[row.gene_id] = row.gene_type"
   ]
  },
  {
   "cell_type": "code",
   "execution_count": 8,
   "id": "documentary-enough",
   "metadata": {
    "slideshow": {
     "slide_type": "skip"
    }
   },
   "outputs": [],
   "source": [
    "def scanpy_load_solo278a_mtx(analysis_dir, quantification=\"Gene\", mode=\"filtered\", multiread=\"Unique\"):\n",
    "    assert mode in [\"filtered\", \"raw\"], \"STAR Solo only produces raw or filtered files\"\n",
    "    assert quantification in [\"Gene\", \"GeneFull\", \"GeneFull_Ex50pAS\", \"SJ\"]\n",
    "    MULTIREAD_MATRIX = {\n",
    "    \"Unique\": \"matrix.mtx\",\n",
    "    \"Rescue\": \"UniqueAndMult-Rescue.mtx\",\n",
    "    \"EM\": \"UniqueAndMult-EM.mtx\",\n",
    "    }\n",
    "    assert multiread in MULTIREAD_MATRIX\n",
    "\n",
    "    analysis_dir = Path(analysis_dir)\n",
    "    \n",
    "    solo_dir = analysis_dir / \"Solo.out\" / quantification \n",
    "    solo = scanpy.read_mtx(solo_dir / \"raw\" / MULTIREAD_MATRIX[multiread]).T\n",
    "    solo_vars = pandas.read_csv(\n",
    "        solo_dir / \"raw\" / \"features.tsv\", header=None, sep=\"\\t\"\n",
    "    ).values.T\n",
    "    solo_obs = pandas.read_csv(\n",
    "        solo_dir / \"raw\" / \"barcodes.tsv\", header=None, sep=\"\\t\"\n",
    "    ).values.T\n",
    "    solo.obs_names = solo_obs[0]\n",
    "    solo.var_names = solo_vars[0]\n",
    "    \n",
    "    if mode == \"filtered\":\n",
    "        solo_obs = pandas.read_csv(\n",
    "            solo_dir / mode / \"barcodes.tsv\", header=None, sep=\"\\t\"\n",
    "        ).values.T[0]\n",
    "        solo = solo[solo_obs,:]\n",
    "        \n",
    "\n",
    "    solo.obs[\"counts\"] = solo.X.sum(axis=1)\n",
    "    solo.obs[\"ngenes\"] = numpy.array((solo.X > 0).sum(axis=1))\n",
    "\n",
    "    return solo\n",
    "\n"
   ]
  },
  {
   "cell_type": "markdown",
   "id": "split-economy",
   "metadata": {
    "slideshow": {
     "slide_type": "slide"
    }
   },
   "source": [
    "I also learned that there's some gene base ids that have two version varients. (One example)\n",
    "<table>\n",
    "<tr><td>gene_id \t</td><td>gene_name \t</td><td>gene_type</td></tr>\n",
    "<tr><td>ENSG00000169084.13 \t</td><td>DHRSX \t</td><td>protein_coding</td></tr>\n",
    "    <tr><td>ENSG00000169084.13_PAR_Y \t</td><td>DHRSX \t</td><td>protein_coding</td></tr>\n",
    "</table>"
   ]
  },
  {
   "cell_type": "markdown",
   "id": "communist-rates",
   "metadata": {
    "slideshow": {
     "slide_type": "skip"
    }
   },
   "source": [
    "# Load Datasets"
   ]
  },
  {
   "cell_type": "code",
   "execution_count": 9,
   "id": "chubby-bridge",
   "metadata": {
    "slideshow": {
     "slide_type": "skip"
    }
   },
   "outputs": [],
   "source": [
    "algorithm_roots = {   \n",
    "    '10a uniq': (Path(\"fullsolo_multi_eoi_container/GeneFull_Ex50pAS_Unique_filtered.tar.gz\"), \"GeneFull_Ex50pAS\", \"filtered\", \"Unique\"),\n",
    "    '10a em': (Path(\"fullsolo_multi_eoi_container/GeneFull_Ex50pAS_EM_filtered.tar.gz\"), \"GeneFull_Ex50pAS\", \"filtered\", \"EM\"),\n",
    "    \n",
    "    '9a solo uniq': (Path(\"fullsolo_multi_dev_EoI_2.7.9a_2021-09-10\"), \"GeneFull_Ex50pAS\", \"filtered\", \"Unique\"),\n",
    "    '9a solo em': (Path(\"fullsolo_multi_dev_EoI_2.7.9a_2021-09-10\"),  \"GeneFull_Ex50pAS\", \"filtered\", \"EM\"),\n",
    "}"
   ]
  },
  {
   "cell_type": "code",
   "execution_count": 10,
   "id": "comparative-matrix",
   "metadata": {
    "slideshow": {
     "slide_type": "skip"
    }
   },
   "outputs": [
    {
     "name": "stdout",
     "output_type": "stream",
     "text": [
      "loading 10a uniq\n",
      "10a uniq (15708, 59526) 81643896.0\n",
      "loading 10a em\n",
      "10a em (15708, 59526) 88240440.0\n",
      "loading 9a solo uniq\n"
     ]
    },
    {
     "name": "stderr",
     "output_type": "stream",
     "text": [
      "Trying to set attribute `.obs` of view, copying.\n"
     ]
    },
    {
     "name": "stdout",
     "output_type": "stream",
     "text": [
      "9a solo uniq (15708, 59526) 81643896.0\n",
      "loading 9a solo em\n"
     ]
    },
    {
     "name": "stderr",
     "output_type": "stream",
     "text": [
      "Trying to set attribute `.obs` of view, copying.\n"
     ]
    },
    {
     "name": "stdout",
     "output_type": "stream",
     "text": [
      "9a solo em (15708, 59526) 88240440.0\n"
     ]
    }
   ],
   "source": [
    "algorithm_filtered = {}\n",
    "for algorithm in algorithm_roots:\n",
    "    root, quantification, filtering, multiread = algorithm_roots[algorithm]\n",
    "    print(\"loading {}\".format(algorithm))\n",
    "    if root.is_dir():\n",
    "        algorithm_filtered[algorithm] = scanpy_load_solo278a_mtx(root, quantification, filtering, multiread)\n",
    "    else:\n",
    "        algorithm_filtered[algorithm] = read_mex_archive_as_anndata(root)\n",
    "    print(algorithm, algorithm_filtered[algorithm].shape, algorithm_filtered[algorithm].X.sum())"
   ]
  },
  {
   "cell_type": "markdown",
   "id": "sporting-appraisal",
   "metadata": {
    "slideshow": {
     "slide_type": "slide"
    }
   },
   "source": [
    "# Cell barcodes in common"
   ]
  },
  {
   "cell_type": "code",
   "execution_count": 11,
   "id": "tired-court",
   "metadata": {},
   "outputs": [
    {
     "data": {
      "image/png": "[encoded data removed]",
      "text/plain": [
       "<Figure size 166.875x320 with 4 Axes>"
      ]
     },
     "metadata": {
      "needs_background": "light"
     },
     "output_type": "display_data"
    }
   ],
   "source": [
    "algorithm_cell_barcodes = {}\n",
    "for algorithm in algorithm_filtered:\n",
    "    algorithm_cell_barcodes[algorithm] = algorithm_filtered[algorithm].obs_names\n",
    "\n",
    "common_cell_barcode_set = upsetplot.from_contents(algorithm_cell_barcodes)\n",
    "f = pyplot.figure()\n",
    "f.suptitle(\"Cell Barcodes in Common\")\n",
    "_ = upsetplot.plot(common_cell_barcode_set, fig=f, show_counts=True)\n"
   ]
  },
  {
   "cell_type": "markdown",
   "id": "negative-customs",
   "metadata": {
    "slideshow": {
     "slide_type": "slide"
    }
   },
   "source": [
    "# Gene IDs in common"
   ]
  },
  {
   "cell_type": "code",
   "execution_count": 12,
   "id": "imported-telephone",
   "metadata": {},
   "outputs": [
    {
     "data": {
      "image/png": "[encoded data removed]",
      "text/plain": [
       "<Figure size 166.875x320 with 4 Axes>"
      ]
     },
     "metadata": {
      "needs_background": "light"
     },
     "output_type": "display_data"
    }
   ],
   "source": [
    "algorithm_gene_base_ids = {}\n",
    "for algorithm in algorithm_filtered:\n",
    "    algorithm_gene_base_ids[algorithm] = set(algorithm_filtered[algorithm].var_names)\n",
    "\n",
    "common_gene_base_contents = upsetplot.from_contents(algorithm_gene_base_ids)\n",
    "\n",
    "# tenx is using gencode.v32.primary_assembly.annotation.gtf.filtered\n",
    "f = pyplot.figure()\n",
    "f.suptitle(\"Gene id's in common\")\n",
    "_ = upsetplot.plot(common_gene_base_contents, fig=f, show_counts=True)"
   ]
  },
  {
   "cell_type": "markdown",
   "id": "distinct-mississippi",
   "metadata": {
    "slideshow": {
     "slide_type": "slide"
    }
   },
   "source": [
    "# Build list of cells and gene ids in common between all runs"
   ]
  },
  {
   "cell_type": "code",
   "execution_count": 19,
   "id": "alive-reservoir",
   "metadata": {},
   "outputs": [
    {
     "data": {
      "text/plain": [
       "'10a uniq'"
      ]
     },
     "execution_count": 19,
     "metadata": {},
     "output_type": "execute_result"
    }
   ],
   "source": [
    "list(algorithm_filtered.keys())[0]"
   ]
  },
  {
   "cell_type": "code",
   "execution_count": 20,
   "id": "silver-supply",
   "metadata": {
    "slideshow": {
     "slide_type": "skip"
    }
   },
   "outputs": [
    {
     "name": "stdout",
     "output_type": "stream",
     "text": [
      "common_cell_barcode_set 15708\n",
      "common_cell_barcodes 15708\n"
     ]
    }
   ],
   "source": [
    "common_cell_barcode_set = None\n",
    "for algorithm in algorithm_filtered:\n",
    "    if common_cell_barcode_set is None:\n",
    "        common_cell_barcode_set = set(algorithm_filtered[algorithm].obs_names)\n",
    "    else:\n",
    "        common_cell_barcode_set = common_cell_barcode_set.intersection(algorithm_filtered[algorithm].obs_names)\n",
    "\n",
    "print('common_cell_barcode_set', len(common_cell_barcode_set))\n",
    "common_cell_barcodes = [x for x in algorithm_filtered[list(algorithm_filtered.keys())[0]].obs_names if x in common_cell_barcode_set]\n",
    "print('common_cell_barcodes', len(common_cell_barcodes))\n"
   ]
  },
  {
   "cell_type": "code",
   "execution_count": 21,
   "id": "pediatric-reach",
   "metadata": {
    "slideshow": {
     "slide_type": "skip"
    }
   },
   "outputs": [
    {
     "name": "stdout",
     "output_type": "stream",
     "text": [
      "common_gene_id_set 59526 59526\n",
      "common_gene_ids 59526 59526\n"
     ]
    }
   ],
   "source": [
    "common_gene_id_set = None\n",
    "for algorithm in algorithm_filtered:\n",
    "    #if algorithm == 'tenx solo uniq':\n",
    "    #    continue\n",
    "    if common_gene_id_set is None:\n",
    "        common_gene_id_set = set(algorithm_filtered[algorithm].var_names)\n",
    "    else:\n",
    "        common_gene_id_set = common_gene_id_set.intersection(algorithm_filtered[algorithm].var_names)\n",
    "\n",
    "print(\"common_gene_id_set\", len(common_gene_id_set), len(set(common_gene_id_set)))\n",
    "common_gene_ids = [x for x in algorithm_filtered[list(algorithm_filtered.keys())[0]].var_names if x in common_gene_id_set]\n",
    "print(\"common_gene_ids\", len(common_gene_ids), len(set(common_gene_ids)))"
   ]
  },
  {
   "cell_type": "code",
   "execution_count": 22,
   "id": "incredible-longitude",
   "metadata": {
    "slideshow": {
     "slide_type": "skip"
    }
   },
   "outputs": [],
   "source": [
    "#tenx_gene_base = set(algorithm_filtered['tenx solo uniq'].var_names)\n",
    "#v29_common_gene_base = [x.split('.')[0] for x in algorithm_filtered['encode full solo uniq'].var_names if x.split('.')[0] in tenx_gene_base and x in common_gene_ids]\n",
    "#v29_common_gene_ids = [x for x in algorithm_filtered['encode full solo uniq'].var_names if x.split('.')[0] in tenx_gene_base and x in common_gene_ids]\n",
    "#print(len(v29_common_gene_base), v29_common_gene_base[:5])"
   ]
  },
  {
   "cell_type": "code",
   "execution_count": 23,
   "id": "atmospheric-contact",
   "metadata": {},
   "outputs": [
    {
     "name": "stdout",
     "output_type": "stream",
     "text": [
      "10a uniq (15708, 59526) 81643896.0\n",
      "10a em (15708, 59526) 88240440.0\n",
      "9a solo uniq (15708, 59526) 81643896.0\n",
      "9a solo em (15708, 59526) 88240440.0\n"
     ]
    }
   ],
   "source": [
    "algorithm_common = {}\n",
    "for algorithm in algorithm_filtered:\n",
    "    algorithm_common[algorithm] = algorithm_filtered[algorithm][common_cell_barcodes, common_gene_ids]\n",
    "    print(algorithm, algorithm_common[algorithm].shape, algorithm_common[algorithm].X.sum())"
   ]
  },
  {
   "cell_type": "markdown",
   "id": "functional-senator",
   "metadata": {
    "slideshow": {
     "slide_type": "slide"
    }
   },
   "source": [
    "# Compute correlations of cells in common between all methods"
   ]
  },
  {
   "cell_type": "code",
   "execution_count": 24,
   "id": "antique-preliminary",
   "metadata": {
    "slideshow": {
     "slide_type": "skip"
    }
   },
   "outputs": [
    {
     "name": "stdout",
     "output_type": "stream",
     "text": [
      "Processing 10a uniq 10a uniq\n",
      "Processing 10a uniq 10a em\n",
      "Processing 10a uniq 9a solo uniq\n",
      "Processing 10a uniq 9a solo em\n",
      "Processing 10a em 10a em\n",
      "Processing 10a em 9a solo uniq\n",
      "Processing 10a em 9a solo em\n",
      "Processing 9a solo uniq 9a solo uniq\n",
      "Processing 9a solo uniq 9a solo em\n",
      "Processing 9a solo em 9a solo em\n"
     ]
    }
   ],
   "source": [
    "def compute_spearman_anndata(left, right):\n",
    "    assert left.shape == right.shape, \"Shapes must be the same\"\n",
    "    if isinstance(left, anndata._core.anndata.AnnData):\n",
    "        left = left.to_df().T\n",
    "    if isinstance(right, anndata._core.anndata.AnnData):\n",
    "        right = right.to_df().T\n",
    "\n",
    "    #print(left.shape[0])\n",
    "    #print(left[0].shape)\n",
    "    #print(right[0].shape)\n",
    "    cors=[]\n",
    "    for c in left.columns:\n",
    "        cors.append(scipy.stats.spearmanr(left[c], right[c])[0])\n",
    "    cors = pandas.Series(cors, index=left.columns)\n",
    "    #[~numpy.isnan(cors)]\n",
    "    return cors\n",
    "\n",
    "\n",
    "def compute_correlations(table):\n",
    "    programs = list(table.keys())\n",
    "    correlations = {}\n",
    "    dense = {}\n",
    "    for name_x in programs:\n",
    "        dense[name_x] = table[name_x].to_df().T\n",
    "\n",
    "    for name_x in programs:\n",
    "        for name_y in programs[programs.index(name_x):]:\n",
    "            print(\"Processing {} {}\".format(name_x, name_y))\n",
    "            cs_cors = compute_spearman_anndata(dense[name_x], dense[name_y])\n",
    "            correlations.setdefault(name_x, {})[name_y] = cs_cors\n",
    "    return correlations\n",
    "\n",
    "algorithm_correlations = compute_correlations(algorithm_common)"
   ]
  },
  {
   "cell_type": "code",
   "execution_count": 25,
   "id": "exclusive-intent",
   "metadata": {
    "slideshow": {
     "slide_type": "skip"
    }
   },
   "outputs": [],
   "source": [
    "def plot_cell_correlation_histogram(table, title=None, bins=50, programs=None):\n",
    "    if programs is None:\n",
    "        programs = list(table.keys())\n",
    "    cell_hists = {}\n",
    "    plot_size = len(programs)-1\n",
    "    figsize = (3 * plot_size, 3 * plot_size)\n",
    "    f = pyplot.figure(figsize=figsize)\n",
    "    if title is not None:\n",
    "        f.suptitle(title.format(metric=metric))\n",
    "\n",
    "    axes = f.subplots(plot_size, plot_size, sharex=True, sharey=True)\n",
    "    if plot_size == 1:\n",
    "        axes = numpy.array([[axes]])\n",
    "    for x, name_x in enumerate(programs):\n",
    "        for y, name_y in enumerate(programs[programs.index(name_x)+1:]):\n",
    "            #plot_index = plot_size * (y+x) + x + 1\n",
    "            #ax = f.add_subplot(plot_size, plot_size, plot_index)\n",
    "            ax = axes[y+x, x]\n",
    "            if x == 0:\n",
    "                ax.set_ylabel(name_y)\n",
    "\n",
    "            spearman = numpy.array(table[name_x][name_y])\n",
    "            spearman = spearman[~numpy.isnan(spearman)]\n",
    "            count = len(spearman)\n",
    "            median = numpy.median(spearman)\n",
    "            mean = numpy.mean(spearman)\n",
    "            cell_hists.setdefault(name_x, {})[name_y] = ax.hist(spearman, bins=bins, density=True)\n",
    "            ax.annotate(f'Mean {mean:0.2}\\nMedian {median:0.2}\\nCount {count}', xy=(0.1, 0.6), xycoords='axes fraction')\n",
    "    for y in range(plot_size):\n",
    "        axes[0, y].set_title(programs[y])\n",
    "        axes[plot_size-1, y].set_xlabel(programs[y])\n",
    "    #f.tight_layout()\n",
    "    "
   ]
  },
  {
   "cell_type": "code",
   "execution_count": 26,
   "id": "close-interstate",
   "metadata": {},
   "outputs": [
    {
     "name": "stderr",
     "output_type": "stream",
     "text": [
      "/usr/lib/python3/dist-packages/numpy/lib/histograms.py:905: RuntimeWarning: divide by zero encountered in true_divide\n",
      "  return n/db/n.sum(), bin_edges\n",
      "/usr/lib/python3/dist-packages/numpy/lib/histograms.py:905: RuntimeWarning: invalid value encountered in true_divide\n",
      "  return n/db/n.sum(), bin_edges\n"
     ]
    },
    {
     "data": {
      "image/png": "[encoded data removed]",
      "text/plain": [
       "<Figure size 648x648 with 9 Axes>"
      ]
     },
     "metadata": {
      "needs_background": "light"
     },
     "output_type": "display_data"
    }
   ],
   "source": [
    "plot_cell_correlation_histogram(algorithm_correlations)"
   ]
  },
  {
   "cell_type": "markdown",
   "id": "parallel-warner",
   "metadata": {
    "slideshow": {
     "slide_type": "slide"
    }
   },
   "source": [
    "# Scatter plot of method genes in common over all cells"
   ]
  },
  {
   "cell_type": "code",
   "execution_count": null,
   "id": "unauthorized-minneapolis",
   "metadata": {
    "slideshow": {
     "slide_type": "skip"
    }
   },
   "outputs": [],
   "source": [
    "def plot_algorithm_sums(table, title=None, programs=None):\n",
    "    if programs is None:\n",
    "        programs = list(table.keys())\n",
    "    scatter = {}\n",
    "    plot_size = len(programs)-1\n",
    "    figsize = (3 * plot_size, 3 * plot_size)\n",
    "    f = pyplot.figure(figsize=figsize)    \n",
    "    if title is not None:\n",
    "        f.suptitle(title.format(metric=metric))\n",
    "\n",
    "    axes = f.subplots(plot_size, plot_size, sharex=True, sharey=True)\n",
    "    if plot_size == 1:\n",
    "        axes = numpy.array([[axes]])\n",
    "    for x, name_x in enumerate(programs):\n",
    "        for y, name_y in enumerate(programs[programs.index(name_x)+1:]):\n",
    "            #plot_index = plot_size * (y+x) + x + 1\n",
    "            #ax = f.add_subplot(plot_size, plot_size, plot_index)\n",
    "            ax = axes[y+x, x]\n",
    "            if x == 0:\n",
    "                ax.set_ylabel(name_y)\n",
    "\n",
    "            scatter.setdefault(name_x, {})[name_y] = ax.scatter(\n",
    "                numpy.asarray(table[name_x].X.sum(axis=1).T)[0], \n",
    "                numpy.asarray(table[name_y].X.sum(axis=1).T)[0],\n",
    "                s=0.5\n",
    "            )\n",
    "            ax.set_xscale('log')\n",
    "            ax.set_yscale('log')\n",
    "    for y in range(plot_size):\n",
    "        axes[0, y].set_title(programs[y])\n",
    "        axes[plot_size-1, y].set_xlabel(programs[y])\n",
    "    f.suptitle(\"per algorithm sum of genes over all cells\")\n",
    "    #f.tight_layout()\n",
    "    "
   ]
  },
  {
   "cell_type": "code",
   "execution_count": null,
   "id": "spoken-microphone",
   "metadata": {
    "slideshow": {
     "slide_type": "skip"
    }
   },
   "outputs": [],
   "source": [
    "plot_algorithm_sums(algorithm_common)"
   ]
  },
  {
   "cell_type": "markdown",
   "id": "emerging-chosen",
   "metadata": {
    "slideshow": {
     "slide_type": "slide"
    }
   },
   "source": [
    "# Scatter plots of gene expression for worst, median, and best correlated cells"
   ]
  },
  {
   "cell_type": "code",
   "execution_count": null,
   "id": "corporate-ballet",
   "metadata": {
    "slideshow": {
     "slide_type": "skip"
    }
   },
   "outputs": [],
   "source": [
    "algorithm_dense = {}\n",
    "for algorithm in algorithm_common:\n",
    "    algorithm_dense[algorithm] = algorithm_common[algorithm].to_df().T\n"
   ]
  },
  {
   "cell_type": "code",
   "execution_count": null,
   "id": "sixth-luther",
   "metadata": {
    "slideshow": {
     "slide_type": "skip"
    }
   },
   "outputs": [],
   "source": [
    "def sc_scatter(table, correlations, name_x, name_y, cell_id, ax=None):\n",
    "    gridalpha = 0.5\n",
    "    def is_spike(x):\n",
    "        if x.startswith('gSpikein_') or x.startswith('tSpikein_'):\n",
    "            return True\n",
    "        else:\n",
    "            return False\n",
    "\n",
    "    if ax is None:\n",
    "        f = pyplot.figure()\n",
    "        ax = f.subplots(1,1)\n",
    "    \n",
    "    set1 = cm.get_cmap('Set1').colors\n",
    "    colors = [{True: set1[0], False: set1[1]}[is_spike(x)] for x in table[name_x].index]\n",
    "\n",
    "    ax.plot([-5,10], [-5,10], c=set1[2])\n",
    "    ax.scatter(numpy.log2(table[name_x][cell_id]+0.01), numpy.log2(table[name_y][cell_id]+0.01), color=colors, s=2)\n",
    "    spearman = correlations[name_x][name_y][cell_id]\n",
    "    expressed_in_x = table[name_x][cell_id] > 0\n",
    "    expressed_in_y = table[name_y][cell_id] > 0\n",
    "    count = table[name_x][expressed_in_x & expressed_in_y].shape[0]\n",
    "    ax.set_title(f'id {cell_id}\\nSpearman {spearman:0.4}\\nCount: {count}')\n",
    "    ax.set_xlabel(name_x)\n",
    "    ax.set_ylabel(name_y)\n",
    "    ax.grid(color='dimgrey', linestyle='-', linewidth=0.5, which=\"both\", alpha = gridalpha)\n",
    "\n",
    "def show_scatter_extremes(dense_mat, correlations, name_x, name_y):\n",
    "    scores = correlations[name_x][name_y]\n",
    "    best_cell = scores.idxmax()\n",
    "    worst_cell = scores.idxmin()\n",
    "    # find smallest absolute difference from median and use that as median cell\n",
    "    median = numpy.abs(scores - scores.median())\n",
    "    median_cell = median.idxmin()\n",
    "    \n",
    "    f = pyplot.figure(figsize=(12,4))\n",
    "    #f.suptitle(f'{metric} worst, median and best cells')\n",
    "    axes = f.subplots(1,3, sharex=True, sharey=True)\n",
    "    sc_scatter(dense_mat, correlations, name_x, name_y, worst_cell, ax=axes[0])\n",
    "    sc_scatter(dense_mat, correlations, name_x, name_y, median_cell, ax=axes[1])\n",
    "    sc_scatter(dense_mat, correlations, name_x, name_y, best_cell, ax=axes[2])\n",
    "    return f"
   ]
  },
  {
   "cell_type": "code",
   "execution_count": null,
   "id": "decreased-equilibrium",
   "metadata": {},
   "outputs": [],
   "source": [
    "f = show_scatter_extremes(algorithm_dense, algorithm_correlations,'encode full solo uniq', 'encode minimal solo uniq')"
   ]
  },
  {
   "cell_type": "code",
   "execution_count": null,
   "id": "awful-childhood",
   "metadata": {
    "scrolled": false
   },
   "outputs": [],
   "source": [
    "def plot_all_scatter_extremes(table, correlations):\n",
    "    programs = list(table.keys())\n",
    "\n",
    "\n",
    "    for name_x in programs:\n",
    "        for name_y in programs[programs.index(name_x)+1:]:\n",
    "            #print(\"Comparing {} {}\".format(name_x, name_y))\n",
    "            f = show_scatter_extremes(table, correlations, name_x, name_y)\n",
    "            \n",
    "            \n",
    "plot_all_scatter_extremes(algorithm_dense, algorithm_correlations)"
   ]
  },
  {
   "cell_type": "markdown",
   "id": "conservative-business",
   "metadata": {
    "slideshow": {
     "slide_type": "slide"
    }
   },
   "source": [
    "# Scatter plot of cells with the highest expression sum"
   ]
  },
  {
   "cell_type": "code",
   "execution_count": null,
   "id": "upper-richards",
   "metadata": {
    "slideshow": {
     "slide_type": "skip"
    }
   },
   "outputs": [],
   "source": [
    "def plot_algorithm_most_expressed(table, correlations, title=None, programs=None):\n",
    "    if programs is None:\n",
    "        programs = list(table.keys())\n",
    "    scatter = {}\n",
    "    plot_size = len(programs)-1\n",
    "    figsize = (3 * plot_size, 3 * plot_size)\n",
    "    f = pyplot.figure(figsize=figsize)\n",
    "    if title is not None:\n",
    "        f.suptitle(title.format(metric=metric))\n",
    "\n",
    "\n",
    "    axes = f.subplots(plot_size, plot_size, sharex=True, sharey=True)\n",
    "    if plot_size == 1:\n",
    "        axes = numpy.array([[axes]])\n",
    "    for x, name_x in enumerate(programs):\n",
    "        for y, name_y in enumerate(programs[programs.index(name_x)+1:]):\n",
    "            #plot_index = plot_size * (y+x) + x + 1\n",
    "            #ax = f.add_subplot(plot_size, plot_size, plot_index)\n",
    "            ax = axes[y+x, x]\n",
    "            if x == 0:\n",
    "                ax.set_ylabel(name_y)\n",
    "\n",
    "            max_cell = algorithm_dense[name_x].sum(axis=0).idxmax()\n",
    "            scatter.setdefault(name_x, {})[name_y] = sc_scatter(table, correlations, name_x, name_y, max_cell, ax=ax)\n",
    "    for y in range(plot_size):\n",
    "        axes[0, y].set_title(programs[y])\n",
    "        axes[plot_size-1, y].set_xlabel(programs[y])\n",
    "    f.suptitle(\"Compare algorithms with cell with highest expression sum\")\n",
    "    #f.tight_layout()\n",
    "    "
   ]
  },
  {
   "cell_type": "code",
   "execution_count": null,
   "id": "freelance-houston",
   "metadata": {},
   "outputs": [],
   "source": [
    "plot_algorithm_most_expressed(algorithm_dense, algorithm_correlations)"
   ]
  },
  {
   "cell_type": "markdown",
   "id": "rolled-eligibility",
   "metadata": {
    "slideshow": {
     "slide_type": "slide"
    }
   },
   "source": [
    "It seems weird that there's expression in encode minimal, but not in encode full, maybe I have the labels backward?"
   ]
  },
  {
   "cell_type": "code",
   "execution_count": null,
   "id": "developing-feedback",
   "metadata": {
    "slideshow": {
     "slide_type": "skip"
    }
   },
   "outputs": [],
   "source": [
    "encode_minimal_uniq_sum = algorithm_dense['encode minimal solo uniq'].sum(axis=1)\n",
    "encode_full_uniq_sum = algorithm_dense['encode full solo uniq'].sum(axis=1)"
   ]
  },
  {
   "cell_type": "code",
   "execution_count": null,
   "id": "disturbed-beauty",
   "metadata": {
    "scrolled": true
   },
   "outputs": [],
   "source": [
    "in_minimal_uniq_sum = encode_minimal_uniq_sum > 0\n",
    "not_in_minimal_uniq_sum = encode_minimal_uniq_sum == 0\n",
    "in_full_uniq_sum = encode_full_uniq_sum > 0\n",
    "not_in_full_uniq_sum =(encode_full_uniq_sum == 0)\n",
    "\n",
    "encode_minimal_uniq_sum[in_minimal_uniq_sum & not_in_full_uniq_sum]"
   ]
  },
  {
   "cell_type": "markdown",
   "id": "numerous-bloom",
   "metadata": {
    "slideshow": {
     "slide_type": "slide"
    }
   },
   "source": [
    "# Quick glance at genes that are expressed in just in the minimal set"
   ]
  },
  {
   "cell_type": "code",
   "execution_count": null,
   "id": "enormous-purpose",
   "metadata": {},
   "outputs": [],
   "source": [
    "v29_gtf.set_index('gene_id').reindex(encode_minimal_uniq_sum[in_minimal_uniq_sum & not_in_full_uniq_sum].index)"
   ]
  },
  {
   "cell_type": "markdown",
   "id": "hydraulic-liability",
   "metadata": {
    "slideshow": {
     "slide_type": "slide"
    }
   },
   "source": [
    "# Lets try the scanpy tutorial"
   ]
  },
  {
   "cell_type": "code",
   "execution_count": null,
   "id": "widespread-mandate",
   "metadata": {
    "scrolled": false
   },
   "outputs": [],
   "source": [
    "for algorithm in algorithm_filtered:\n",
    "    print(\"{algorithm} first phase QC\".format(algorithm=algorithm))    \n",
    "    if algorithm.startswith(\"tenx\"):\n",
    "        algorithm_filtered[algorithm].var['gene_name'] = [v32m_gene_id_to_name.get(x, x) for x in  algorithm_filtered[algorithm].var_names]\n",
    "        algorithm_filtered[algorithm].var['gene_type'] = [v32m_gene_id_to_type.get(x, x) for x in  algorithm_filtered[algorithm].var_names]\n",
    "    else:\n",
    "        algorithm_filtered[algorithm].var['gene_name'] = [v29_gene_id_to_name.get(x, x) for x in  algorithm_filtered[algorithm].var_names]\n",
    "        algorithm_filtered[algorithm].var['gene_type'] = [v29_gene_id_to_type.get(x, x) for x in  algorithm_filtered[algorithm].var_names]\n",
    "        \n",
    "    scanpy.pl.highest_expr_genes(algorithm_filtered[algorithm], n_top=20, gene_symbols='gene_name')\n",
    "    scanpy.pp.filter_cells(algorithm_filtered[algorithm], min_genes=200)\n",
    "    scanpy.pp.filter_genes(algorithm_filtered[algorithm], min_cells=3)\n",
    "    algorithm_filtered[algorithm].var['mt'] = algorithm_filtered[algorithm].var['gene_name'].str.startswith(\"MT-\")\n",
    "    scanpy.pp.calculate_qc_metrics(algorithm_filtered[algorithm], qc_vars=['mt'], percent_top=None, log1p=False, inplace=True)\n",
    "    scanpy.pl.violin(\n",
    "        algorithm_filtered[algorithm],\n",
    "        ['n_genes_by_counts', 'total_counts', 'pct_counts_mt'],\n",
    "        jitter=0.4, multi_panel=True)\n",
    "    scanpy.pl.scatter(algorithm_filtered[algorithm], x='total_counts', y='pct_counts_mt')\n",
    "    scanpy.pl.scatter(algorithm_filtered[algorithm], x='total_counts', y='n_genes_by_counts')        "
   ]
  },
  {
   "cell_type": "code",
   "execution_count": null,
   "id": "phantom-coupon",
   "metadata": {
    "scrolled": false
   },
   "outputs": [],
   "source": [
    "algorithm_scanpy_filtered = {}\n",
    "algorithm_top_gene_ids = {}\n",
    "algorithm_top_gene_names = {}\n",
    "for algorithm in algorithm_filtered:\n",
    "    #print(display.HTML('<h1>{algorithm} first phase QC</h1><a class=\"anchor-link\" href=\"#{algorithm}-first-phase-QC\">¶</a>'.format(algorithm=algorithm)))\n",
    "    print(\"{algorithm} clustering\".format(algorithm=algorithm))\n",
    "    algorithm_scanpy_filtered[algorithm] = algorithm_filtered[algorithm][algorithm_filtered[algorithm].obs.n_genes_by_counts < 2000, :]\n",
    "    algorithm_scanpy_filtered[algorithm] = algorithm_scanpy_filtered[algorithm][algorithm_scanpy_filtered[algorithm].obs.pct_counts_mt < 2.5, :]\n",
    "    \n",
    "    scanpy.pp.normalize_total(algorithm_scanpy_filtered[algorithm], target_sum=30000)\n",
    "    scanpy.pp.log1p(algorithm_scanpy_filtered[algorithm])\n",
    "    scanpy.pp.highly_variable_genes(algorithm_scanpy_filtered[algorithm], min_mean=0.0125, max_mean=3, min_disp=0.5)\n",
    "    scanpy.pl.highly_variable_genes(algorithm_scanpy_filtered[algorithm])\n",
    "    algorithm_scanpy_filtered[algorithm].raw = algorithm_scanpy_filtered[algorithm]\n",
    "    algorithm_scanpy_filtered[algorithm] = algorithm_scanpy_filtered[algorithm][:, algorithm_scanpy_filtered[algorithm].var.highly_variable]\n",
    "   \n",
    "    scanpy.pp.regress_out( algorithm_scanpy_filtered[algorithm], ['total_counts', 'pct_counts_mt'])\n",
    "    scanpy.pp.scale( algorithm_scanpy_filtered[algorithm], max_value=10)\n",
    "    scanpy.tl.pca(algorithm_scanpy_filtered[algorithm], svd_solver='arpack')\n",
    "    scanpy.pl.pca(algorithm_scanpy_filtered[algorithm])\n",
    "\n",
    "    scanpy.pl.pca_variance_ratio(algorithm_scanpy_filtered[algorithm], log=True)\n",
    "    \n",
    "    scanpy.pp.neighbors(algorithm_scanpy_filtered[algorithm], n_neighbors=10, n_pcs=40)\n",
    "    scanpy.tl.umap(algorithm_scanpy_filtered[algorithm])\n",
    "    scanpy.pl.umap(algorithm_scanpy_filtered[algorithm])\n",
    "    \n",
    "    scanpy.tl.louvain(algorithm_scanpy_filtered[algorithm])\n",
    "    scanpy.pl.umap(algorithm_scanpy_filtered[algorithm], color=['louvain'])\n",
    "    \n",
    "    scanpy.tl.rank_genes_groups(algorithm_scanpy_filtered[algorithm], 'louvain', method='t-test')\n",
    "    scanpy.pl.rank_genes_groups(algorithm_scanpy_filtered[algorithm], n_genes=25, sharey=False, gene_symbols='gene_name')\n",
    "    \n",
    "    algorithm_top_gene_ids[algorithm] = pandas.DataFrame(algorithm_scanpy_filtered[algorithm].uns['rank_genes_groups']['names'])    \n",
    "    if algorithm == \"tenx solo uniq\":\n",
    "        algorithm_top_gene_names[algorithm] = algorithm_top_gene_ids[algorithm].applymap(lambda x: v32m_gene_id_to_name.get(x, x))\n",
    "    else:\n",
    "        algorithm_top_gene_names[algorithm] = algorithm_top_gene_ids[algorithm].applymap(lambda x: v29_gene_id_to_name.get(x, x))\n",
    "    print('top gene names')\n",
    "    print(algorithm_top_gene_names[algorithm].head(5))"
   ]
  },
  {
   "cell_type": "markdown",
   "id": "governing-exercise",
   "metadata": {
    "slideshow": {
     "slide_type": "slide"
    }
   },
   "source": [
    "# Cell barcodes left in common after scanpy filtering"
   ]
  },
  {
   "cell_type": "code",
   "execution_count": null,
   "id": "comfortable-fields",
   "metadata": {},
   "outputs": [],
   "source": [
    "tutoral_barcode_set = upsetplot.from_contents({\n",
    "    k: algorithm_scanpy_filtered[k].obs_names for k in algorithm_scanpy_filtered\n",
    "})\n",
    "f = pyplot.figure()\n",
    "f.suptitle(\"Cell barcodes in common after scanpy\")\n",
    "_ = upsetplot.plot(tutoral_barcode_set, show_counts=True, fig=f)\n"
   ]
  },
  {
   "cell_type": "markdown",
   "id": "bound-biology",
   "metadata": {
    "slideshow": {
     "slide_type": "slide"
    }
   },
   "source": [
    "# Gene IDs in common after scanpy filtering"
   ]
  },
  {
   "cell_type": "code",
   "execution_count": null,
   "id": "fatal-beads",
   "metadata": {},
   "outputs": [],
   "source": [
    "common_filtered_gene_base_contents = {}\n",
    "for algorithm in algorithm_scanpy_filtered:\n",
    "    #if algorithm == 'tenx solo uniq':\n",
    "    #    common_filtered_gene_base_contents[algorithm] = {gene_id for gene_id in algorithm_scanpy_filtered[algorithm].var_names}\n",
    "    #else:\n",
    "    #common_filtered_gene_base_contents[algorithm] = {gene_id.split('.')[0] for gene_id in algorithm_scanpy_filtered[algorithm].var_names}\n",
    "    common_filtered_gene_base_contents[algorithm] = set(algorithm_scanpy_filtered[algorithm].var_names)\n",
    "\n",
    "# tenx is using gencode.v32.primary_assembly.annotation.gtf.filtered\n",
    "common_filtered_gene_base_set = upsetplot.from_contents(common_filtered_gene_base_contents)\n",
    "\n",
    "f = pyplot.figure()\n",
    "f.suptitle(\"Gene ids in common after scanpy\")\n",
    "_ = upsetplot.plot(common_filtered_gene_base_set, show_counts=True, fig=f)"
   ]
  },
  {
   "cell_type": "code",
   "execution_count": null,
   "id": "plastic-colorado",
   "metadata": {},
   "outputs": [],
   "source": [
    "common_filtered_gene_base_set"
   ]
  },
  {
   "cell_type": "code",
   "execution_count": null,
   "id": "compact-continuity",
   "metadata": {
    "scrolled": true,
    "slideshow": {
     "slide_type": "skip"
    }
   },
   "outputs": [],
   "source": [
    "#common_filtered_gene_base_set.loc[True, False, True]['id']"
   ]
  },
  {
   "cell_type": "code",
   "execution_count": null,
   "id": "satellite-dakota",
   "metadata": {
    "scrolled": false,
    "slideshow": {
     "slide_type": "skip"
    }
   },
   "outputs": [],
   "source": [
    "#v29_gtf.set_index('gene_id').reindex(common_filtered_gene_base_set.loc[True, False, True]['id'])"
   ]
  },
  {
   "cell_type": "code",
   "execution_count": null,
   "id": "military-desert",
   "metadata": {
    "slideshow": {
     "slide_type": "skip"
    }
   },
   "outputs": [],
   "source": [
    "def build_confusion_matrix(left, right, N=20):\n",
    "    confusion = {}\n",
    "    for cluster in left:\n",
    "        for gene in left[cluster].head(N):\n",
    "            confusion.setdefault(gene, {})['left'] = int(cluster)\n",
    "\n",
    "    for cluster in right:\n",
    "        for gene in right[cluster].head(N):\n",
    "            confusion.setdefault(gene, {})['right'] = int(cluster)\n",
    "\n",
    "    last_left = int(left.columns[-1]) + 1\n",
    "    last_right = int(right.columns[-1]) + 1\n",
    "\n",
    "    confusion_matrix = numpy.zeros((last_left+1, last_right+1))\n",
    "\n",
    "    for gene in confusion:\n",
    "        x = confusion[gene].get('left', last_left)\n",
    "        y = confusion[gene].get('right', last_right)\n",
    "        confusion_matrix[x,y] += 1\n",
    "    return confusion_matrix"
   ]
  },
  {
   "cell_type": "markdown",
   "id": "boring-census",
   "metadata": {
    "slideshow": {
     "slide_type": "slide"
    }
   },
   "source": [
    "# Confusion matrices between top N genes in each cluster"
   ]
  },
  {
   "cell_type": "code",
   "execution_count": null,
   "id": "popular-course",
   "metadata": {
    "slideshow": {
     "slide_type": "skip"
    }
   },
   "outputs": [],
   "source": [
    "def plot_algorithm_confusion(table, programs=None, N=20):\n",
    "    if programs is None:\n",
    "        programs = list(table.keys())\n",
    "    confusion = {}\n",
    "    plot_size = len(programs)-1\n",
    "    figsize = (3 * plot_size, 3 * plot_size)\n",
    "    f = pyplot.figure(figsize=figsize)\n",
    "\n",
    "    axes = f.subplots(plot_size, plot_size, sharex=True, sharey=True)\n",
    "    if plot_size == 1:\n",
    "        axes = numpy.array([[axes]])\n",
    "    for x, name_x in enumerate(programs):\n",
    "        for y, name_y in enumerate(programs[programs.index(name_x)+1:]):\n",
    "            #plot_index = plot_size * (y+x) + x + 1\n",
    "            #ax = f.add_subplot(plot_size, plot_size, plot_index)\n",
    "            ax = axes[y+x, x]\n",
    "            cm = build_confusion_matrix(table[name_x], table[name_y], N)\n",
    "            seaborn.heatmap(cm, annot=False, ax=ax)\n",
    "            \n",
    "            if x == 0:\n",
    "                ax.set_ylabel(name_y)\n",
    "    for y in range(plot_size):\n",
    "        axes[0, y].set_title(programs[y])\n",
    "        axes[plot_size-1, y].set_xlabel(programs[y])\n",
    "    f.suptitle(\"Gene name confusion matrix of top {} genes\".format(N))\n",
    "    #f.tight_layout()\n"
   ]
  },
  {
   "cell_type": "code",
   "execution_count": null,
   "id": "saved-synthesis",
   "metadata": {
    "slideshow": {
     "slide_type": "slide"
    }
   },
   "outputs": [],
   "source": [
    "plot_algorithm_confusion(algorithm_top_gene_names, N=20)"
   ]
  },
  {
   "cell_type": "code",
   "execution_count": null,
   "id": "successful-hearts",
   "metadata": {
    "slideshow": {
     "slide_type": "slide"
    }
   },
   "outputs": [],
   "source": [
    "plot_algorithm_confusion(algorithm_top_gene_names, N=200)"
   ]
  },
  {
   "cell_type": "code",
   "execution_count": null,
   "id": "above-ecuador",
   "metadata": {
    "slideshow": {
     "slide_type": "slide"
    }
   },
   "outputs": [],
   "source": [
    "plot_algorithm_confusion(algorithm_top_gene_names, N=2000)"
   ]
  },
  {
   "cell_type": "markdown",
   "id": "available-outdoors",
   "metadata": {},
   "source": [
    "# Save h5 tables"
   ]
  },
  {
   "cell_type": "code",
   "execution_count": null,
   "id": "found-strain",
   "metadata": {},
   "outputs": [],
   "source": [
    "for algorithm in algorithm_scanpy_filtered:\n",
    "    run_dir, quantification, filtering, multiread = algorithm_roots[algorithm]\n",
    "    h5ad_name = \"{}_{}_{}.h5ad\".format(quantification, \"scanpy\", multiread)\n",
    "    algorithm_scanpy_filtered[algorithm].write_h5ad(run_dir / h5ad_name)"
   ]
  }
 ],
 "metadata": {
  "celltoolbar": "Slideshow",
  "kernelspec": {
   "display_name": "Python 3",
   "language": "python",
   "name": "python3"
  },
  "language_info": {
   "codemirror_mode": {
    "name": "ipython",
    "version": 3
   },
   "file_extension": ".py",
   "mimetype": "text/x-python",
   "name": "python",
   "nbconvert_exporter": "python",
   "pygments_lexer": "ipython3",
   "version": "3.9.1+"
  }
 },
 "nbformat": 4,
 "nbformat_minor": 5
}
