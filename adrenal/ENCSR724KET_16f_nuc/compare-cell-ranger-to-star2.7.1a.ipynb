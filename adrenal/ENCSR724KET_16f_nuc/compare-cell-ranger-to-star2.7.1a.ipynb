{
 "cells": [
  {
   "cell_type": "markdown",
   "id": "injured-strip",
   "metadata": {},
   "source": [
    "# Introduction"
   ]
  },
  {
   "cell_type": "markdown",
   "id": "informal-tactics",
   "metadata": {},
   "source": [
    "This my first pass at trying to check if my star parameters worked.\n",
    "\n",
    "I used the version of star and the annotation files included in the 10x cellranger-arc archive as the closest check I could manage."
   ]
  },
  {
   "cell_type": "code",
   "execution_count": 1,
   "id": "ethical-programmer",
   "metadata": {},
   "outputs": [],
   "source": [
    "import scipy\n",
    "import pandas\n",
    "import scanpy\n",
    "import numpy\n",
    "from pathlib import Path\n",
    "from matplotlib import pyplot\n",
    "import sys"
   ]
  },
  {
   "cell_type": "code",
   "execution_count": 2,
   "id": "violent-action",
   "metadata": {},
   "outputs": [
    {
     "data": {
      "text/plain": [
       "'/woldlab/loxcyc/home/diane/proj/encode-202006-jamboree-detrout-rna-sc-pipeline/adrenal/ENCSR724KET_16f_nuc'"
      ]
     },
     "execution_count": 2,
     "metadata": {},
     "output_type": "execute_result"
    }
   ],
   "source": [
    "pwd"
   ]
  },
  {
   "cell_type": "code",
   "execution_count": 3,
   "id": "breathing-glenn",
   "metadata": {},
   "outputs": [],
   "source": [
    "project_root = Path(\"../..\").absolute()\n",
    "if str(project_root) not in sys.path:\n",
    "    sys.path.append(str(project_root))\n",
    "from common import compute_spearman_anndata"
   ]
  },
  {
   "cell_type": "code",
   "execution_count": 4,
   "id": "documentary-enough",
   "metadata": {},
   "outputs": [],
   "source": [
    "def scanpy_load_solo271_mtx(analysis_dir, quantification=\"Gene\"):\n",
    "    #assert mode in [\"filtered\", \"raw\"], \"STAR Solo only produces raw or filtered files\"\n",
    "\n",
    "    analysis_dir = Path(analysis_dir)\n",
    "    matrix_name = {\n",
    "        \"Gene\": \"matrix.mtx\",\n",
    "        \"GeneFull\": \"matrixGeneFull.mtx\",\n",
    "        \"SJ\": \"matrixSJ\",\n",
    "    }[quantification]\n",
    "    feature_name = \"genes.tsv\"\n",
    "    \n",
    "    solo_dir = analysis_dir / \"Solo.out\"\n",
    "    solo = scanpy.read_mtx(solo_dir / matrix_name).T\n",
    "    solo_vars = pandas.read_csv(\n",
    "        solo_dir / feature_name, header=None, sep=\"\\t\"\n",
    "    ).values.T\n",
    "    solo_obs = pandas.read_csv(\n",
    "        solo_dir / \"barcodes.tsv\", header=None, sep=\"\\t\"\n",
    "    ).values.T\n",
    "    solo.obs_names = solo_obs[0]\n",
    "    solo.var_names = solo_vars[0]\n",
    "\n",
    "    solo.obs[\"counts\"] = solo.X.sum(axis=1)\n",
    "    solo.obs[\"ngenes\"] = numpy.array((solo.X > 0).sum(axis=1))\n",
    "\n",
    "    return solo\n",
    "\n"
   ]
  },
  {
   "cell_type": "code",
   "execution_count": 5,
   "id": "comparative-smooth",
   "metadata": {},
   "outputs": [],
   "source": [
    "tenx_root = Path('ENCSR724KET_cr-arc')\n",
    "tenx_raw_path = tenx_root / 'outs' / 'raw_feature_bc_matrix'\n",
    "tenx_filtered_path = tenx_root / 'outs' / 'filtered_feature_bc_matrix'"
   ]
  },
  {
   "cell_type": "code",
   "execution_count": 6,
   "id": "informal-incidence",
   "metadata": {},
   "outputs": [],
   "source": [
    "tenx_filtered = scanpy.read_10x_mtx(tenx_filtered_path, var_names='gene_ids')\n",
    "tenx_filtered.obs_names = [x[:-2] for x in tenx_filtered.obs_names]"
   ]
  },
  {
   "cell_type": "code",
   "execution_count": 7,
   "id": "african-shower",
   "metadata": {},
   "outputs": [],
   "source": [
    "solo271_root = Path(\"ENCSR724KET_starsolo\")\n",
    "solo271_gene = scanpy_load_solo271_mtx(solo271_root, \"Gene\")\n",
    "solo271_genefull = scanpy_load_solo271_mtx(solo271_root, \"GeneFull\")"
   ]
  },
  {
   "cell_type": "code",
   "execution_count": 8,
   "id": "superb-shepherd",
   "metadata": {},
   "outputs": [
    {
     "name": "stdout",
     "output_type": "stream",
     "text": [
      "tenx filtered (13650, 36601) 80119070.0\n",
      "solo gene (736320, 36601) 0.0\n",
      "solo genefull (736320, 36601) 119876360.0\n"
     ]
    }
   ],
   "source": [
    "print(\"tenx filtered\", tenx_filtered.shape, tenx_filtered.X.sum())\n",
    "print(\"solo gene\", solo271_gene.shape, solo271_gene.X.sum())\n",
    "print(\"solo genefull\", solo271_genefull.shape, solo271_genefull.X.sum())"
   ]
  },
  {
   "cell_type": "markdown",
   "id": "appreciated-making",
   "metadata": {},
   "source": [
    "solo gene is empty? That's really weird"
   ]
  },
  {
   "cell_type": "code",
   "execution_count": 10,
   "id": "judicial-equality",
   "metadata": {},
   "outputs": [
    {
     "data": {
      "text/plain": [
       "((13650, 36601), 106876280.0)"
      ]
     },
     "execution_count": 10,
     "metadata": {},
     "output_type": "execute_result"
    }
   ],
   "source": [
    "solo271_filtered_genefull = solo271_genefull[tenx_filtered.obs_names,:]\n",
    "solo271_filtered_genefull.shape, solo271_filtered_genefull.X.sum()"
   ]
  },
  {
   "cell_type": "code",
   "execution_count": 11,
   "id": "acquired-calcium",
   "metadata": {},
   "outputs": [
    {
     "data": {
      "text/plain": [
       "(13650, 1)"
      ]
     },
     "execution_count": 11,
     "metadata": {},
     "output_type": "execute_result"
    }
   ],
   "source": [
    "solo271_filtered_genefull.X.sum(axis=1).shape"
   ]
  },
  {
   "cell_type": "code",
   "execution_count": 12,
   "id": "hidden-wrist",
   "metadata": {},
   "outputs": [
    {
     "name": "stderr",
     "output_type": "stream",
     "text": [
      "/usr/lib/python3/dist-packages/scipy/stats/stats.py:4264: SpearmanRConstantInputWarning: An input array is constant; the correlation coefficent is not defined.\n",
      "  warnings.warn(SpearmanRConstantInputWarning())\n"
     ]
    }
   ],
   "source": [
    "filtered_cors = compute_spearman_anndata(tenx_filtered, solo271_filtered_genefull)"
   ]
  },
  {
   "cell_type": "code",
   "execution_count": 13,
   "id": "naughty-credits",
   "metadata": {},
   "outputs": [
    {
     "data": {
      "text/plain": [
       "AnnData object with n_obs × n_vars = 13650 × 36601\n",
       "    var: 'gene_symbols', 'feature_types'"
      ]
     },
     "execution_count": 13,
     "metadata": {},
     "output_type": "execute_result"
    }
   ],
   "source": [
    "tenx_filtered"
   ]
  },
  {
   "cell_type": "code",
   "execution_count": 14,
   "id": "acquired-airplane",
   "metadata": {},
   "outputs": [
    {
     "data": {
      "text/plain": [
       "Index(['AAACAGCCACGTGCTG', 'AAACAGCCACTTAGGC', 'AAACAGCCAGGGAGCT',\n",
       "       'AAACAGCCATGTTTGG', 'AAACATGCAAACGGGC', 'AAACATGCAAGGGTTG',\n",
       "       'AAACATGCAATTGAGA', 'AAACATGCACCCACAG', 'AAACATGCAGGAAGCC',\n",
       "       'AAACATGCAGGGAGGA',\n",
       "       ...\n",
       "       'TTTGTGTTCTAAGGTC', 'TTTGTGTTCTAAGTCA', 'TTTGTTGGTAATCACG',\n",
       "       'TTTGTTGGTAGGTTGC', 'TTTGTTGGTCCTAAGA', 'TTTGTTGGTGAGCAAG',\n",
       "       'TTTGTTGGTGCTCACC', 'TTTGTTGGTGCTTACT', 'TTTGTTGGTGCTTAGA',\n",
       "       'TTTGTTGGTTACATCC'],\n",
       "      dtype='object', length=13650)"
      ]
     },
     "execution_count": 14,
     "metadata": {},
     "output_type": "execute_result"
    }
   ],
   "source": [
    "tenx_filtered.obs_names"
   ]
  },
  {
   "cell_type": "code",
   "execution_count": 15,
   "id": "freelance-houston",
   "metadata": {},
   "outputs": [],
   "source": [
    "tenx_filtered_sum = pandas.Series(numpy.asarray(tenx_filtered.X.sum(axis=1)).T[0])\n"
   ]
  },
  {
   "cell_type": "code",
   "execution_count": 16,
   "id": "premium-silicon",
   "metadata": {},
   "outputs": [
    {
     "data": {
      "text/plain": [
       "7632"
      ]
     },
     "execution_count": 16,
     "metadata": {},
     "output_type": "execute_result"
    }
   ],
   "source": [
    "tenx_filtered_sum.idxmax()"
   ]
  },
  {
   "cell_type": "code",
   "execution_count": 17,
   "id": "naval-breeding",
   "metadata": {},
   "outputs": [
    {
     "data": {
      "text/plain": [
       "'GCATCCTTCTAAGTGC'"
      ]
     },
     "execution_count": 17,
     "metadata": {},
     "output_type": "execute_result"
    }
   ],
   "source": [
    "tenx_filtered.obs_names[7632]"
   ]
  },
  {
   "cell_type": "code",
   "execution_count": 18,
   "id": "dramatic-shelter",
   "metadata": {},
   "outputs": [
    {
     "data": {
      "text/html": [
       "<div>\n",
       "<style scoped>\n",
       "    .dataframe tbody tr th:only-of-type {\n",
       "        vertical-align: middle;\n",
       "    }\n",
       "\n",
       "    .dataframe tbody tr th {\n",
       "        vertical-align: top;\n",
       "    }\n",
       "\n",
       "    .dataframe thead th {\n",
       "        text-align: right;\n",
       "    }\n",
       "</style>\n",
       "<table border=\"1\" class=\"dataframe\">\n",
       "  <thead>\n",
       "    <tr style=\"text-align: right;\">\n",
       "      <th></th>\n",
       "      <th>GCATCCTTCTAAGTGC</th>\n",
       "    </tr>\n",
       "  </thead>\n",
       "  <tbody>\n",
       "    <tr>\n",
       "      <th>count</th>\n",
       "      <td>36601.000000</td>\n",
       "    </tr>\n",
       "    <tr>\n",
       "      <th>mean</th>\n",
       "      <td>3.866807</td>\n",
       "    </tr>\n",
       "    <tr>\n",
       "      <th>std</th>\n",
       "      <td>72.393562</td>\n",
       "    </tr>\n",
       "    <tr>\n",
       "      <th>min</th>\n",
       "      <td>0.000000</td>\n",
       "    </tr>\n",
       "    <tr>\n",
       "      <th>25%</th>\n",
       "      <td>0.000000</td>\n",
       "    </tr>\n",
       "    <tr>\n",
       "      <th>50%</th>\n",
       "      <td>0.000000</td>\n",
       "    </tr>\n",
       "    <tr>\n",
       "      <th>75%</th>\n",
       "      <td>2.000000</td>\n",
       "    </tr>\n",
       "    <tr>\n",
       "      <th>max</th>\n",
       "      <td>13634.000000</td>\n",
       "    </tr>\n",
       "  </tbody>\n",
       "</table>\n",
       "</div>"
      ],
      "text/plain": [
       "       GCATCCTTCTAAGTGC\n",
       "count      36601.000000\n",
       "mean           3.866807\n",
       "std           72.393562\n",
       "min            0.000000\n",
       "25%            0.000000\n",
       "50%            0.000000\n",
       "75%            2.000000\n",
       "max        13634.000000"
      ]
     },
     "execution_count": 18,
     "metadata": {},
     "output_type": "execute_result"
    }
   ],
   "source": [
    "tf = tenx_filtered['GCATCCTTCTAAGTGC'].to_df().T\n",
    "tf.describe()"
   ]
  },
  {
   "cell_type": "code",
   "execution_count": 19,
   "id": "governing-outdoors",
   "metadata": {},
   "outputs": [
    {
     "data": {
      "text/html": [
       "<div>\n",
       "<style scoped>\n",
       "    .dataframe tbody tr th:only-of-type {\n",
       "        vertical-align: middle;\n",
       "    }\n",
       "\n",
       "    .dataframe tbody tr th {\n",
       "        vertical-align: top;\n",
       "    }\n",
       "\n",
       "    .dataframe thead th {\n",
       "        text-align: right;\n",
       "    }\n",
       "</style>\n",
       "<table border=\"1\" class=\"dataframe\">\n",
       "  <thead>\n",
       "    <tr style=\"text-align: right;\">\n",
       "      <th></th>\n",
       "      <th>GCATCCTTCTAAGTGC</th>\n",
       "    </tr>\n",
       "  </thead>\n",
       "  <tbody>\n",
       "    <tr>\n",
       "      <th>count</th>\n",
       "      <td>36601.000000</td>\n",
       "    </tr>\n",
       "    <tr>\n",
       "      <th>mean</th>\n",
       "      <td>5.539958</td>\n",
       "    </tr>\n",
       "    <tr>\n",
       "      <th>std</th>\n",
       "      <td>77.334579</td>\n",
       "    </tr>\n",
       "    <tr>\n",
       "      <th>min</th>\n",
       "      <td>0.000000</td>\n",
       "    </tr>\n",
       "    <tr>\n",
       "      <th>25%</th>\n",
       "      <td>0.000000</td>\n",
       "    </tr>\n",
       "    <tr>\n",
       "      <th>50%</th>\n",
       "      <td>0.000000</td>\n",
       "    </tr>\n",
       "    <tr>\n",
       "      <th>75%</th>\n",
       "      <td>2.000000</td>\n",
       "    </tr>\n",
       "    <tr>\n",
       "      <th>max</th>\n",
       "      <td>14278.000000</td>\n",
       "    </tr>\n",
       "  </tbody>\n",
       "</table>\n",
       "</div>"
      ],
      "text/plain": [
       "       GCATCCTTCTAAGTGC\n",
       "count      36601.000000\n",
       "mean           5.539958\n",
       "std           77.334579\n",
       "min            0.000000\n",
       "25%            0.000000\n",
       "50%            0.000000\n",
       "75%            2.000000\n",
       "max        14278.000000"
      ]
     },
     "execution_count": 19,
     "metadata": {},
     "output_type": "execute_result"
    }
   ],
   "source": [
    "sf = solo271_filtered_genefull['GCATCCTTCTAAGTGC'].to_df().T\n",
    "sf.describe()"
   ]
  },
  {
   "cell_type": "code",
   "execution_count": null,
   "id": "pending-ability",
   "metadata": {},
   "outputs": [],
   "source": []
  },
  {
   "cell_type": "code",
   "execution_count": 20,
   "id": "joint-chorus",
   "metadata": {},
   "outputs": [],
   "source": [
    "assert numpy.all(tf.index == sf.index), \"feature lists are not in same order \""
   ]
  },
  {
   "cell_type": "code",
   "execution_count": 21,
   "id": "alike-switch",
   "metadata": {},
   "outputs": [],
   "source": [
    "rad = (numpy.abs(sf - tf) / numpy.maximum(sf, tf))"
   ]
  },
  {
   "cell_type": "code",
   "execution_count": 22,
   "id": "hearing-honduras",
   "metadata": {},
   "outputs": [],
   "source": [
    "combined = pandas.merge(sf, tf, left_index=True, right_index=True)"
   ]
  },
  {
   "cell_type": "markdown",
   "id": "conditional-happiness",
   "metadata": {},
   "source": [
    "# Compare cell GCATCCTTCTAAGTGC between cellranger and STAR solo"
   ]
  },
  {
   "cell_type": "code",
   "execution_count": 30,
   "id": "agreed-florence",
   "metadata": {},
   "outputs": [
    {
     "name": "stderr",
     "output_type": "stream",
     "text": [
      "<ipython-input-30-7679ab66fa99>:4: RuntimeWarning: divide by zero encountered in log2\n",
      "  p = numpy.log2(combined).plot.scatter(x=\"GCATCCTTCTAAGTGC_x\", y=\"GCATCCTTCTAAGTGC_y\", ax=ax)\n"
     ]
    },
    {
     "data": {
      "image/png": "[encoded data removed]",
      "text/plain": [
       "<Figure size 432x288 with 1 Axes>"
      ]
     },
     "metadata": {
      "needs_background": "light"
     },
     "output_type": "display_data"
    }
   ],
   "source": [
    "f = pyplot.figure()\n",
    "ax = f.add_subplot(1,1,1)\n",
    "\n",
    "p = numpy.log2(combined).plot.scatter(x=\"GCATCCTTCTAAGTGC_x\", y=\"GCATCCTTCTAAGTGC_y\", ax=ax)\n",
    "#ax.set_xscale('log')\n",
    "#ax.set_yscale('log')\n",
    "#ax.set_xlim(0,1e5)\n",
    "#ax.set_ylim(0,1e5)\n",
    "ax.grid(alpha=.5)"
   ]
  },
  {
   "cell_type": "code",
   "execution_count": 24,
   "id": "democratic-encoding",
   "metadata": {},
   "outputs": [
    {
     "name": "stderr",
     "output_type": "stream",
     "text": [
      "/usr/lib/python3/dist-packages/scipy/stats/stats.py:4264: SpearmanRConstantInputWarning: An input array is constant; the correlation coefficent is not defined.\n",
      "  warnings.warn(SpearmanRConstantInputWarning())\n"
     ]
    }
   ],
   "source": [
    "genefull_cors = compute_spearman_anndata(tenx_filtered, solo271_filtered_genefull)"
   ]
  },
  {
   "cell_type": "markdown",
   "id": "infrared-hampton",
   "metadata": {},
   "source": [
    "# Compare per cell spearman correlation"
   ]
  },
  {
   "cell_type": "markdown",
   "id": "democratic-revelation",
   "metadata": {},
   "source": [
    "There is a warning message from the spearman function complaining that the input matrix has an issue, so this histogram may be incorrect."
   ]
  },
  {
   "cell_type": "code",
   "execution_count": 31,
   "id": "educational-horror",
   "metadata": {},
   "outputs": [
    {
     "data": {
      "text/plain": [
       "<AxesSubplot:ylabel='Frequency'>"
      ]
     },
     "execution_count": 31,
     "metadata": {},
     "output_type": "execute_result"
    },
    {
     "data": {
      "image/png": "[encoded data removed]",
      "text/plain": [
       "<Figure size 432x288 with 1 Axes>"
      ]
     },
     "metadata": {
      "needs_background": "light"
     },
     "output_type": "display_data"
    }
   ],
   "source": [
    "genefull_cors.plot.hist(bins=50)"
   ]
  },
  {
   "cell_type": "code",
   "execution_count": null,
   "id": "green-eligibility",
   "metadata": {},
   "outputs": [],
   "source": []
  }
 ],
 "metadata": {
  "kernelspec": {
   "display_name": "Python 3",
   "language": "python",
   "name": "python3"
  },
  "language_info": {
   "codemirror_mode": {
    "name": "ipython",
    "version": 3
   },
   "file_extension": ".py",
   "mimetype": "text/x-python",
   "name": "python",
   "nbconvert_exporter": "python",
   "pygments_lexer": "ipython3",
   "version": "3.9.1+"
  }
 },
 "nbformat": 4,
 "nbformat_minor": 5
}
