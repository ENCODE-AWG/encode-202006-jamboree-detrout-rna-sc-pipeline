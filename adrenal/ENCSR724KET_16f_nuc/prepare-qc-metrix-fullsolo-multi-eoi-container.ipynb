{
 "cells": [
  {
   "cell_type": "code",
   "execution_count": 1,
   "id": "involved-trouble",
   "metadata": {},
   "outputs": [],
   "source": [
    "import base64\n",
    "import csv\n",
    "import pandas\n",
    "from hashlib import md5\n",
    "from pprint import pprint\n",
    "import sys\n",
    "from pathlib import Path"
   ]
  },
  {
   "cell_type": "code",
   "execution_count": 2,
   "id": "stone-garden",
   "metadata": {},
   "outputs": [],
   "source": [
    "EC = str(Path(\"~/proj/encoded_client\").expanduser())\n",
    "if EC not in sys.path:\n",
    "    sys.path.append(EC)\n",
    "from encoded_client.encoded import ENCODED, DCCValidator\n",
    "\n",
    "#server = ENCODED(\"test.encodedcc.org\")\n",
    "server = ENCODED(\"encd-6248-78c147870-qing.demo.encodedcc.org\")\n",
    "validator = DCCValidator(server)"
   ]
  },
  {
   "cell_type": "code",
   "execution_count": 3,
   "id": "generous-consensus",
   "metadata": {},
   "outputs": [],
   "source": [
    "WRS = str(Path(\"~/proj/woldlab-rna-seq\").expanduser())\n",
    "if WRS not in sys.path:\n",
    "    sys.path.append(WRS)\n",
    "from woldrnaseq import models"
   ]
  },
  {
   "cell_type": "code",
   "execution_count": 4,
   "id": "radical-schema",
   "metadata": {},
   "outputs": [],
   "source": [
    "dry_run = True"
   ]
  },
  {
   "cell_type": "code",
   "execution_count": 5,
   "id": "accompanied-orleans",
   "metadata": {},
   "outputs": [],
   "source": [
    "analysis_dir = Path(\"fullsolo_multi_eoi_container\")\n",
    "log_final = analysis_dir / \"Log.final.out\""
   ]
  },
  {
   "cell_type": "code",
   "execution_count": 6,
   "id": "mexican-anime",
   "metadata": {},
   "outputs": [],
   "source": [
    "config = {\n",
    "    \"award\": \"UM1HG009443\",\n",
    "    \"lab\": \"/labs/barbara-wold/\",\n",
    "    \"alignment_step_run\":\"barbara-wold:starsolo-alignment-step-run\",\n",
    "    \"quantification_step_run\": \"barbara-wold:starsolo-quantification-step-run\",\n",
    "}\n",
    "bam_accession = \"/files/ENCFF315HXX/\"\n",
    "count_accession = \"\""
   ]
  },
  {
   "cell_type": "code",
   "execution_count": null,
   "id": "progressive-communication",
   "metadata": {},
   "outputs": [],
   "source": []
  },
  {
   "cell_type": "code",
   "execution_count": 7,
   "id": "measured-albert",
   "metadata": {},
   "outputs": [
    {
     "ename": "FileNotFoundError",
     "evalue": "[Errno 2] No such file or directory: 'fullsolo_multi_eoi_container/metadata.csv'",
     "output_type": "error",
     "traceback": [
      "\u001b[0;31m---------------------------------------------------------------------------\u001b[0m",
      "\u001b[0;31mFileNotFoundError\u001b[0m                         Traceback (most recent call last)",
      "\u001b[0;32m<ipython-input-7-9521fd044601>\u001b[0m in \u001b[0;36m<module>\u001b[0;34m\u001b[0m\n\u001b[0;32m----> 1\u001b[0;31m \u001b[0mdf\u001b[0m \u001b[0;34m=\u001b[0m \u001b[0mpandas\u001b[0m\u001b[0;34m.\u001b[0m\u001b[0mread_csv\u001b[0m\u001b[0;34m(\u001b[0m\u001b[0manalysis_dir\u001b[0m \u001b[0;34m/\u001b[0m \u001b[0;34m\"metadata.csv\"\u001b[0m\u001b[0;34m)\u001b[0m\u001b[0;34m\u001b[0m\u001b[0;34m\u001b[0m\u001b[0m\n\u001b[0m\u001b[1;32m      2\u001b[0m \u001b[0mdf\u001b[0m\u001b[0;34m\u001b[0m\u001b[0;34m\u001b[0m\u001b[0m\n",
      "\u001b[0;32m/usr/lib/python3/dist-packages/pandas/io/parsers.py\u001b[0m in \u001b[0;36mread_csv\u001b[0;34m(filepath_or_buffer, sep, delimiter, header, names, index_col, usecols, squeeze, prefix, mangle_dupe_cols, dtype, engine, converters, true_values, false_values, skipinitialspace, skiprows, skipfooter, nrows, na_values, keep_default_na, na_filter, verbose, skip_blank_lines, parse_dates, infer_datetime_format, keep_date_col, date_parser, dayfirst, cache_dates, iterator, chunksize, compression, thousands, decimal, lineterminator, quotechar, quoting, doublequote, escapechar, comment, encoding, dialect, error_bad_lines, warn_bad_lines, delim_whitespace, low_memory, memory_map, float_precision)\u001b[0m\n\u001b[1;32m    686\u001b[0m     )\n\u001b[1;32m    687\u001b[0m \u001b[0;34m\u001b[0m\u001b[0m\n\u001b[0;32m--> 688\u001b[0;31m     \u001b[0;32mreturn\u001b[0m \u001b[0m_read\u001b[0m\u001b[0;34m(\u001b[0m\u001b[0mfilepath_or_buffer\u001b[0m\u001b[0;34m,\u001b[0m \u001b[0mkwds\u001b[0m\u001b[0;34m)\u001b[0m\u001b[0;34m\u001b[0m\u001b[0;34m\u001b[0m\u001b[0m\n\u001b[0m\u001b[1;32m    689\u001b[0m \u001b[0;34m\u001b[0m\u001b[0m\n\u001b[1;32m    690\u001b[0m \u001b[0;34m\u001b[0m\u001b[0m\n",
      "\u001b[0;32m/usr/lib/python3/dist-packages/pandas/io/parsers.py\u001b[0m in \u001b[0;36m_read\u001b[0;34m(filepath_or_buffer, kwds)\u001b[0m\n\u001b[1;32m    452\u001b[0m \u001b[0;34m\u001b[0m\u001b[0m\n\u001b[1;32m    453\u001b[0m     \u001b[0;31m# Create the parser.\u001b[0m\u001b[0;34m\u001b[0m\u001b[0;34m\u001b[0m\u001b[0;34m\u001b[0m\u001b[0m\n\u001b[0;32m--> 454\u001b[0;31m     \u001b[0mparser\u001b[0m \u001b[0;34m=\u001b[0m \u001b[0mTextFileReader\u001b[0m\u001b[0;34m(\u001b[0m\u001b[0mfp_or_buf\u001b[0m\u001b[0;34m,\u001b[0m \u001b[0;34m**\u001b[0m\u001b[0mkwds\u001b[0m\u001b[0;34m)\u001b[0m\u001b[0;34m\u001b[0m\u001b[0;34m\u001b[0m\u001b[0m\n\u001b[0m\u001b[1;32m    455\u001b[0m \u001b[0;34m\u001b[0m\u001b[0m\n\u001b[1;32m    456\u001b[0m     \u001b[0;32mif\u001b[0m \u001b[0mchunksize\u001b[0m \u001b[0;32mor\u001b[0m \u001b[0miterator\u001b[0m\u001b[0;34m:\u001b[0m\u001b[0;34m\u001b[0m\u001b[0;34m\u001b[0m\u001b[0m\n",
      "\u001b[0;32m/usr/lib/python3/dist-packages/pandas/io/parsers.py\u001b[0m in \u001b[0;36m__init__\u001b[0;34m(self, f, engine, **kwds)\u001b[0m\n\u001b[1;32m    946\u001b[0m             \u001b[0mself\u001b[0m\u001b[0;34m.\u001b[0m\u001b[0moptions\u001b[0m\u001b[0;34m[\u001b[0m\u001b[0;34m\"has_index_names\"\u001b[0m\u001b[0;34m]\u001b[0m \u001b[0;34m=\u001b[0m \u001b[0mkwds\u001b[0m\u001b[0;34m[\u001b[0m\u001b[0;34m\"has_index_names\"\u001b[0m\u001b[0;34m]\u001b[0m\u001b[0;34m\u001b[0m\u001b[0;34m\u001b[0m\u001b[0m\n\u001b[1;32m    947\u001b[0m \u001b[0;34m\u001b[0m\u001b[0m\n\u001b[0;32m--> 948\u001b[0;31m         \u001b[0mself\u001b[0m\u001b[0;34m.\u001b[0m\u001b[0m_make_engine\u001b[0m\u001b[0;34m(\u001b[0m\u001b[0mself\u001b[0m\u001b[0;34m.\u001b[0m\u001b[0mengine\u001b[0m\u001b[0;34m)\u001b[0m\u001b[0;34m\u001b[0m\u001b[0;34m\u001b[0m\u001b[0m\n\u001b[0m\u001b[1;32m    949\u001b[0m \u001b[0;34m\u001b[0m\u001b[0m\n\u001b[1;32m    950\u001b[0m     \u001b[0;32mdef\u001b[0m \u001b[0mclose\u001b[0m\u001b[0;34m(\u001b[0m\u001b[0mself\u001b[0m\u001b[0;34m)\u001b[0m\u001b[0;34m:\u001b[0m\u001b[0;34m\u001b[0m\u001b[0;34m\u001b[0m\u001b[0m\n",
      "\u001b[0;32m/usr/lib/python3/dist-packages/pandas/io/parsers.py\u001b[0m in \u001b[0;36m_make_engine\u001b[0;34m(self, engine)\u001b[0m\n\u001b[1;32m   1178\u001b[0m     \u001b[0;32mdef\u001b[0m \u001b[0m_make_engine\u001b[0m\u001b[0;34m(\u001b[0m\u001b[0mself\u001b[0m\u001b[0;34m,\u001b[0m \u001b[0mengine\u001b[0m\u001b[0;34m=\u001b[0m\u001b[0;34m\"c\"\u001b[0m\u001b[0;34m)\u001b[0m\u001b[0;34m:\u001b[0m\u001b[0;34m\u001b[0m\u001b[0;34m\u001b[0m\u001b[0m\n\u001b[1;32m   1179\u001b[0m         \u001b[0;32mif\u001b[0m \u001b[0mengine\u001b[0m \u001b[0;34m==\u001b[0m \u001b[0;34m\"c\"\u001b[0m\u001b[0;34m:\u001b[0m\u001b[0;34m\u001b[0m\u001b[0;34m\u001b[0m\u001b[0m\n\u001b[0;32m-> 1180\u001b[0;31m             \u001b[0mself\u001b[0m\u001b[0;34m.\u001b[0m\u001b[0m_engine\u001b[0m \u001b[0;34m=\u001b[0m \u001b[0mCParserWrapper\u001b[0m\u001b[0;34m(\u001b[0m\u001b[0mself\u001b[0m\u001b[0;34m.\u001b[0m\u001b[0mf\u001b[0m\u001b[0;34m,\u001b[0m \u001b[0;34m**\u001b[0m\u001b[0mself\u001b[0m\u001b[0;34m.\u001b[0m\u001b[0moptions\u001b[0m\u001b[0;34m)\u001b[0m\u001b[0;34m\u001b[0m\u001b[0;34m\u001b[0m\u001b[0m\n\u001b[0m\u001b[1;32m   1181\u001b[0m         \u001b[0;32melse\u001b[0m\u001b[0;34m:\u001b[0m\u001b[0;34m\u001b[0m\u001b[0;34m\u001b[0m\u001b[0m\n\u001b[1;32m   1182\u001b[0m             \u001b[0;32mif\u001b[0m \u001b[0mengine\u001b[0m \u001b[0;34m==\u001b[0m \u001b[0;34m\"python\"\u001b[0m\u001b[0;34m:\u001b[0m\u001b[0;34m\u001b[0m\u001b[0;34m\u001b[0m\u001b[0m\n",
      "\u001b[0;32m/usr/lib/python3/dist-packages/pandas/io/parsers.py\u001b[0m in \u001b[0;36m__init__\u001b[0;34m(self, src, **kwds)\u001b[0m\n\u001b[1;32m   2008\u001b[0m         \u001b[0mkwds\u001b[0m\u001b[0;34m[\u001b[0m\u001b[0;34m\"usecols\"\u001b[0m\u001b[0;34m]\u001b[0m \u001b[0;34m=\u001b[0m \u001b[0mself\u001b[0m\u001b[0;34m.\u001b[0m\u001b[0musecols\u001b[0m\u001b[0;34m\u001b[0m\u001b[0;34m\u001b[0m\u001b[0m\n\u001b[1;32m   2009\u001b[0m \u001b[0;34m\u001b[0m\u001b[0m\n\u001b[0;32m-> 2010\u001b[0;31m         \u001b[0mself\u001b[0m\u001b[0;34m.\u001b[0m\u001b[0m_reader\u001b[0m \u001b[0;34m=\u001b[0m \u001b[0mparsers\u001b[0m\u001b[0;34m.\u001b[0m\u001b[0mTextReader\u001b[0m\u001b[0;34m(\u001b[0m\u001b[0msrc\u001b[0m\u001b[0;34m,\u001b[0m \u001b[0;34m**\u001b[0m\u001b[0mkwds\u001b[0m\u001b[0;34m)\u001b[0m\u001b[0;34m\u001b[0m\u001b[0;34m\u001b[0m\u001b[0m\n\u001b[0m\u001b[1;32m   2011\u001b[0m         \u001b[0mself\u001b[0m\u001b[0;34m.\u001b[0m\u001b[0munnamed_cols\u001b[0m \u001b[0;34m=\u001b[0m \u001b[0mself\u001b[0m\u001b[0;34m.\u001b[0m\u001b[0m_reader\u001b[0m\u001b[0;34m.\u001b[0m\u001b[0munnamed_cols\u001b[0m\u001b[0;34m\u001b[0m\u001b[0;34m\u001b[0m\u001b[0m\n\u001b[1;32m   2012\u001b[0m \u001b[0;34m\u001b[0m\u001b[0m\n",
      "\u001b[0;32mpandas/_libs/parsers.pyx\u001b[0m in \u001b[0;36mpandas._libs.parsers.TextReader.__cinit__\u001b[0;34m()\u001b[0m\n",
      "\u001b[0;32mpandas/_libs/parsers.pyx\u001b[0m in \u001b[0;36mpandas._libs.parsers.TextReader._setup_parser_source\u001b[0;34m()\u001b[0m\n",
      "\u001b[0;31mFileNotFoundError\u001b[0m: [Errno 2] No such file or directory: 'fullsolo_multi_eoi_container/metadata.csv'"
     ]
    }
   ],
   "source": [
    "df = pandas.read_csv(analysis_dir / \"metadata.csv\")\n",
    "df\n"
   ]
  },
  {
   "cell_type": "code",
   "execution_count": null,
   "id": "logical-thinking",
   "metadata": {},
   "outputs": [],
   "source": [
    "df"
   ]
  },
  {
   "cell_type": "code",
   "execution_count": null,
   "id": "close-indianapolis",
   "metadata": {},
   "outputs": [],
   "source": [
    "!cat $log_final"
   ]
  },
  {
   "cell_type": "code",
   "execution_count": null,
   "id": "numerical-savage",
   "metadata": {},
   "outputs": [],
   "source": [
    "star_log = models.load_star_final_log(log_final)"
   ]
  },
  {
   "cell_type": "code",
   "execution_count": null,
   "id": "buried-africa",
   "metadata": {},
   "outputs": [],
   "source": [
    "star_log"
   ]
  },
  {
   "cell_type": "code",
   "execution_count": null,
   "id": "unlike-beach",
   "metadata": {},
   "outputs": [],
   "source": [
    "star_log.loc[(\"\", \"Mapping speed, Million of reads per hour\")]"
   ]
  },
  {
   "cell_type": "code",
   "execution_count": null,
   "id": "balanced-prerequisite",
   "metadata": {},
   "outputs": [],
   "source": [
    "# properties from log\n",
    "star_quality_metric = {\n",
    "    \"Mapping speed, Million of reads per hour\": star_log.loc[(\"\", \"Mapping speed, Million of reads per hour\")],\n",
    "    \"Number of input reads\": star_log.loc[(\"\", \"Number of input reads\")],\n",
    "    \"Average input read length\": star_log.loc[(\"\", \"Average input read length\")],\n",
    "    \n",
    "    \"Average mapped length\": star_log.loc[(\"UNIQUE READS\", \"Average mapped length\")],\n",
    "    \"Deletion average length\": star_log.loc[(\"UNIQUE READS\", \"Deletion average length\")],\n",
    "    \"Deletion rate per base\": \"{:0.2f}\".format(star_log.loc[(\"UNIQUE READS\", \"Deletion rate per base\")]),\n",
    "    \"Insertion average length\": star_log.loc[(\"UNIQUE READS\", \"Insertion average length\")],\n",
    "    \"Insertion rate per base\": \"{:0.2f}\".format(star_log.loc[(\"UNIQUE READS\", \"Insertion rate per base\")]),\n",
    "    \"Mismatch rate per base, %\": \"{:0.2f}%\".format(star_log.loc[(\"UNIQUE READS\", \"Mismatch rate per base, %\")]),\n",
    "    \"Number of splices: AT/AC\": star_log.loc[(\"UNIQUE READS\", \"Number of splices: AT/AC\")],\n",
    "    \"Number of splices: Annotated (sjdb)\": star_log.loc[(\"UNIQUE READS\", \"Number of splices: Annotated (sjdb)\")],\n",
    "    \"Number of splices: GC/AG\": star_log.loc[(\"UNIQUE READS\", \"Number of splices: GC/AG\")],\n",
    "    \"Number of splices: GT/AG\": star_log.loc[(\"UNIQUE READS\", \"Number of splices: GT/AG\")],\n",
    "    \"Number of splices: Non-canonical\": star_log.loc[(\"UNIQUE READS\", \"Number of splices: Non-canonical\")],\n",
    "    \"Number of splices: Total\": star_log.loc[(\"UNIQUE READS\", \"Number of splices: Total\")],\n",
    "    \"Uniquely mapped reads %\": \"{:0.2f}\".format(star_log.loc[(\"UNIQUE READS\", \"Uniquely mapped reads %\")]),\n",
    "    \"Uniquely mapped reads number\": star_log.loc[(\"UNIQUE READS\", \"Uniquely mapped reads number\")],\n",
    "\n",
    "    \"Number of reads mapped to multiple loci\": star_log.loc[(\"MULTI-MAPPING READS\", \"Number of reads mapped to multiple loci\")],\n",
    "    \"% of reads mapped to multiple loci\": \"{:0.2f}%\".format(star_log.loc[(\"MULTI-MAPPING READS\", \"% of reads mapped to multiple loci\")]),\n",
    "    \"Number of reads mapped to too many loci\": star_log.loc[(\"MULTI-MAPPING READS\", \"Number of reads mapped to too many loci\")],\n",
    "    \"% of reads mapped to too many loci\": \"{:0.2f}%\".format(star_log.loc[(\"MULTI-MAPPING READS\", \"% of reads mapped to too many loci\")]),\n",
    "\n",
    "    \"% of reads unmapped: too many mismatches\": \"{:0.2f}%\".format(star_log.loc[(\"UNMAPPED READS\", \"% of reads unmapped: too many mismatches\")]),\n",
    "    \"% of reads unmapped: other\": \"{:0.2f}%\".format(star_log.loc[(\"UNMAPPED READS\", \"% of reads unmapped: other\")]),\n",
    "    \"% of reads unmapped: too short\": \"{:0.2f}%\".format(star_log.loc[(\"UNMAPPED READS\", \"% of reads unmapped: too short\")]),\n",
    "    \n",
    "    \"% of chimeric reads\": \"{:0.2f}%\".format(star_log.loc[(\"CHIMERIC READS\", \"% of chimeric reads\")]),\n",
    "    \"Number of chimeric reads\": star_log.loc[(\"CHIMERIC READS\", \"Number of chimeric reads\")],\n",
    "    \n",
    "    # run parameters not from the log file\n",
    "    #\"quality_metric_of\": [\"/files/TSTFF094770/\",],\n",
    "    \"quality_metric_of\": [bam_accession],\n",
    "    \"step_run\": \"barbara-wold:starsolo-alignment-step-run\",\n",
    "    \"lab\": config[\"lab\"],\n",
    "    \"award\": config[\"award\"],\n",
    "}\n",
    "\n",
    "# submission properties\n",
    "#award\n",
    "#lab\n",
    "#quality_metric_of\n",
    "#step_run\n",
    "#@type?\n"
   ]
  },
  {
   "cell_type": "code",
   "execution_count": null,
   "id": "balanced-toilet",
   "metadata": {
    "scrolled": false
   },
   "outputs": [],
   "source": [
    "validator.validate(star_quality_metric, \"star_quality_metric\")"
   ]
  },
  {
   "cell_type": "code",
   "execution_count": null,
   "id": "alien-miller",
   "metadata": {},
   "outputs": [],
   "source": [
    "if not dry_run:\n",
    "    star_quality_metric_uuid = \"706fa54a-41d9-4ada-b13a-b3babbadd1dc\"\n",
    "    if star_quality_metric_uuid is None:\n",
    "        print(server.post_json(\"/star_quality_metric/\", star_quality_metric))\n",
    "    else:\n",
    "        pprint(server.get_json(star_quality_metric_uuid))"
   ]
  },
  {
   "cell_type": "code",
   "execution_count": null,
   "id": "plain-quality",
   "metadata": {},
   "outputs": [],
   "source": [
    "# tst_file = server.get_json(\"/files/TSTFF094770/\")\n",
    "# print(tst_file[\"quality_metrics\"])\n"
   ]
  },
  {
   "cell_type": "code",
   "execution_count": null,
   "id": "respected-bearing",
   "metadata": {},
   "outputs": [],
   "source": []
  },
  {
   "cell_type": "code",
   "execution_count": null,
   "id": "broadband-incentive",
   "metadata": {},
   "outputs": [],
   "source": [
    "def load_star_solo_quality_metric(analysis_dir, gene_model):\n",
    "    summary_csv = analysis_dir / \"Solo.out\"/ gene_model / \"Summary.csv\"\n",
    "\n",
    "    # Note need to update to version not using Multipe typo\n",
    "    summary_dtype = {\n",
    "        \"Number of Reads\": int,\n",
    "        \"Reads With Valid Barcodes\": float,\n",
    "        \"Sequencing Saturation\": float,\n",
    "        \"Q30 Bases in CB+UMI\": float,\n",
    "        \"Q30 Bases in RNA read\": float,\n",
    "        \"Reads Mapped to Genome: Unique+Multiple\": float,\n",
    "        \"Reads Mapped to Genome: Unique\": float,\n",
    "        \"Reads Mapped to Gene: Unique+Multipe Gene\": float,\n",
    "        \"Reads Mapped to Gene: Unique Gene\": float,\n",
    "        \"Reads Mapped to GeneFull: Unique+Multipe GeneFull\": float,\n",
    "        \"Reads Mapped to GeneFull: Unique GeneFull\": float,\n",
    "        \"Reads Mapped to GeneFull_Ex50pAS: Unique+Multipe GeneFull_Ex50pAS\": float,\n",
    "        \"Reads Mapped to GeneFull_Ex50pAS: Unique GeneFull_Ex50pAS\": float,\n",
    "        \"Estimated Number of Cells\": int,\n",
    "        \"Unique Reads in Cells Mapped to Gene\": int,\n",
    "        \"Unique Reads in Cells Mapped to GeneFull\": int,\n",
    "        \"Unique Reads in Cells Mapped to GeneFull_Ex50pAS\": int,\n",
    "        \"Fraction of Unique Reads in Cells\": float,\n",
    "        \"Mean Reads per Cell\": int,\n",
    "        \"Median Reads per Cell\": int,\n",
    "        \"UMIs in Cells\": int,\n",
    "        \"Mean UMI per Cell\": int,\n",
    "        \"Median UMI per Cell\": int,\n",
    "        \"Mean Gene per Cell\": int,\n",
    "        \"Median Gene per Cell\": int,\n",
    "        \"Total Gene Detected\": int,    \n",
    "        \"Mean GeneFull per Cell\": int,\n",
    "        \"Median GeneFull per Cell\": int,\n",
    "        \"Total GeneFull Detected\": int,    \n",
    "        \"Mean GeneFull_Ex50pAS per Cell\": int,\n",
    "        \"Median GeneFull_Ex50pAS per Cell\": int,\n",
    "        \"Total GeneFull_Ex50pAS Detected\": int,\n",
    "    }\n",
    "    summary = {}\n",
    "    with open(summary_csv, \"rt\") as instream:\n",
    "        for name, value in csv.reader(instream):\n",
    "            summary[name] = summary_dtype[name](value)\n",
    "    return summary\n",
    "\n",
    "summary = load_star_solo_quality_metric(analysis_dir, \"GeneFull_Ex50pAS\")"
   ]
  },
  {
   "cell_type": "code",
   "execution_count": null,
   "id": "seeing-singles",
   "metadata": {},
   "outputs": [],
   "source": [
    "def make_attachment(filename, mime_type=None):\n",
    "    mime_type_default = {\n",
    "        \".pdf\": \"application/pdf\",\n",
    "        \".tar\": \"application/x-tar\",\n",
    "        \".json\": \"application/json\",\n",
    "        \".gif\": \"image/gif\",\n",
    "        \".jpg\": \"image/jpeg\",\n",
    "        \".jpeg\": \"image/jpeg\",\n",
    "        \".png\": \"image/png\",\n",
    "        \".tif\": \"image/tiff\",\n",
    "        \".tiff\": \"image/tiff\",\n",
    "        \".html\": \"text/html\",\n",
    "        \".txt\": \"text/plain\",\n",
    "        \".tsv\": \"text/tab-separated-values\"        \n",
    "    }\n",
    "\n",
    "    filename = Path(filename)\n",
    "    if mime_type is None:\n",
    "        mime_type = mime_type_default[filename.suffix]\n",
    "        if mime_type is None:\n",
    "            raise ValueError(\"Unrecognized filename extension\")\n",
    "\n",
    "    with open(filename, \"rb\") as instream:\n",
    "        document = instream.read()\n",
    "\n",
    "    short_name = filename.name\n",
    "    payload = {\n",
    "        'download': str(short_name),\n",
    "        'type': mime_type,\n",
    "        'href': 'data:{};base64,'.format(mime_type) + \n",
    "                base64.b64encode(document).decode(\"ascii\"),\n",
    "        'md5sum': md5(document).hexdigest()\n",
    "    }\n",
    "    return payload"
   ]
  },
  {
   "cell_type": "code",
   "execution_count": null,
   "id": "substantial-detective",
   "metadata": {},
   "outputs": [],
   "source": [
    "star_solo_metrics = {\n",
    "    \"assay_term_name\": \"single-cell RNA sequencing assay\",\n",
    "    \"barcode_rank_plot\": make_attachment(analysis_dir / \"umi_per_cell.png\"),\n",
    "    \"estimated_number_of_cells\": summary[\"Estimated Number of Cells\"],\n",
    "    \"fraction_of_unique_reads_in_cells\": summary[\"Fraction of Unique Reads in Cells\"],\n",
    "    \"mean_UMI_per_cell\": summary[\"Mean UMI per Cell\"],\n",
    "    \"mean_reads_per_cell\": summary[\"Mean Reads per Cell\"],\n",
    "    \"median_UMI_per_cell\": summary[\"Median UMI per Cell\"],\n",
    "    \"median_reads_per_cell\": summary[\"Median Reads per Cell\"],\n",
    "    \"number_of_reads\": summary[\"Number of Reads\"],\n",
    "    \"q30_bases_in_CB_UMI\": summary[\"Q30 Bases in CB+UMI\"],\n",
    "    \"q30_bases_in_rna_read\": summary[\"Q30 Bases in RNA read\"],\n",
    "    \"reads_mapped_to_genome_unique\": summary[\"Reads Mapped to Genome: Unique\"],\n",
    "    \"reads_mapped_to_genome_unique_and_multiple\": summary[\"Reads Mapped to Genome: Unique+Multiple\"],\n",
    "    \"reads_with_valid_barcodes\": summary[\"Reads With Valid Barcodes\"],\n",
    "    \"sequencing_saturation\": summary[\"Sequencing Saturation\"],\n",
    "    \"umis_in_cells\": summary[\"UMIs in Cells\"],\n",
    "    \n",
    "    # run parameters not from the log file\n",
    "    \"quality_metric_of\": [bam_accession,],\n",
    "    \"step_run\": config[\"alignment_step_run\"],\n",
    "    \"lab\": config[\"lab\"],\n",
    "    \"award\": config[\"award\"],   \n",
    "}\n",
    "\n",
    "if \"Mean Gene per Cell\" in summary:\n",
    "    print(\"Gene mode\")    \n",
    "    star_solo_metrics.update({\n",
    "        \"mode\": \"Gene\",\n",
    "        \"reads_mapped_to_gene_unique_and_multiple_gene\": summary[\"Reads Mapped to Gene: Unique+Multiple\"],\n",
    "        \"reads_mapped_to_gene_unique_gene\": summary[\"Reads Mapped to Gene: Unique\"],\n",
    "        \"unique_reads_in_cells_mapped_to_gene\": summary[\"Unique Reads in Cells Mapped to Gene\"],\n",
    "        \"mean_gene_per_cell\": summary[\"Mean Gene per Cell\"],\n",
    "        \"median_gene_per_cell\": summary[\"Median Gene per Cell\"],\n",
    "        \"total_gene_detected\": summary[\"Total Gene Detected\"],\n",
    "    })\n",
    "elif \"Mean GeneFull_Ex50pAS per Cell\" in summary:\n",
    "    print(\"GeneFull_Ex50pAS mode\")\n",
    "    star_solo_metrics.update({\n",
    "        \"mode\": \"GeneFull_Ex50pAS\",\n",
    "        \"reads_mapped_to_genefull_ex50pas_unique_and_multiple_gene_ex50pas\": summary[\"Reads Mapped to GeneFull_Ex50pAS: Unique+Multipe GeneFull_Ex50pAS\"],\n",
    "        \"reads_mapped_to_genefull_ex50pas_unique_genefull_ex50pas\": summary[\"Reads Mapped to GeneFull_Ex50pAS: Unique GeneFull_Ex50pAS\"],\n",
    "        \"unique_reads_in_cells_mapped_to_genefull_ex50pas\": summary[\"Unique Reads in Cells Mapped to GeneFull_Ex50pAS\"],\n",
    "        \"mean_genefull_ex50pas_per_cell\": summary[\"Mean GeneFull_Ex50pAS per Cell\"],\n",
    "        \"median_genefull_ex50pas_per_cell\": summary[\"Median GeneFull_Ex50pAS per Cell\"],\n",
    "        \"total_genefull_ex50pas_detected\": summary[\"Total GeneFull_Ex50pAS Detected\"],\n",
    "    })  \n",
    "elif \"Mean GeneFull_Ex50pAS per Cell\" in summary:\n",
    "    print(\"GeneFull mode\")\n",
    "    star_solo_metrics.update({\n",
    "        \"mode\": \"GeneFull\",\n",
    "        \"reads_mapped_to_genefull_unique_and_multiple_genefull\": summary[\"Reads Mapped to GeneFull: Unique+Multipe GeneFull\"],\n",
    "        \"reads_mapped_to_genefull_unique_genefull\": summary[\"Reads Mapped to GeneFull: Unique GeneFull\"],\n",
    "        \"unique_reads_in_cells_mapped_to_genefull\": summary[\"Unique Reads in Cells Mapped to GeneFull\"],\n",
    "        \"mean_genefull_per_cell\": summary[\"Mean GeneFull_Ex50pAS per Cell\"],\n",
    "        \"median_genefull_per_cell\": summary[\"Median GeneFull_Ex50pAS per Cell\"],\n",
    "        \"total_genefull_detected\": summary[\"Total GeneFull_Ex50pAS Detected\"],\n",
    "    })\n",
    "else:\n",
    "    print(\"Unknown mode?\", sorted(summary.keys()))\n",
    "#star_solo_metrics"
   ]
  },
  {
   "cell_type": "code",
   "execution_count": null,
   "id": "written-alaska",
   "metadata": {},
   "outputs": [],
   "source": [
    "validator.validate(star_solo_metrics, \"star_solo_quality_metric\")"
   ]
  },
  {
   "cell_type": "code",
   "execution_count": null,
   "id": "ceramic-repair",
   "metadata": {},
   "outputs": [],
   "source": []
  },
  {
   "cell_type": "code",
   "execution_count": null,
   "id": "growing-bronze",
   "metadata": {},
   "outputs": [],
   "source": [
    "sc_count_metric = {\n",
    "    \"assay_term_name\": \"single-cell RNA sequencing assay\",\n",
    "    \"total_counts_vs_genes_by_count\": make_attachment(analysis_dir / \"n_genes_by_counts.png\"),\n",
    "    \"total_counts_vs_pct_mitochondria\": make_attachment(analysis_dir /  \"pct_count_mt.png\"),\n",
    "    \"qc_metrics_violin\": make_attachment(analysis_dir / \"qc_metric_violin.png\"),\n",
    "    \n",
    "    # run parameters not from the log file\n",
    "    \"quality_metric_of\": [bam_accession,],\n",
    "    \"step_run\": config[\"quantification_step_run\"],\n",
    "    \"lab\": config[\"lab\"],\n",
    "    \"award\": config[\"award\"],   \n",
    "}\n",
    "validator.validate(sc_count_metric, \"scrna_seq_counts_summary_quality_metric\")"
   ]
  },
  {
   "cell_type": "code",
   "execution_count": null,
   "id": "needed-palestine",
   "metadata": {},
   "outputs": [],
   "source": []
  },
  {
   "cell_type": "code",
   "execution_count": null,
   "id": "several-produce",
   "metadata": {},
   "outputs": [],
   "source": [
    "def generic_quality_metric(config, metric_of, filename, mime_type=None):\n",
    "    mime_type_default = {\n",
    "        \".pdf\": \"application/pdf\",\n",
    "        \".tar\": \"application/x-tar\",\n",
    "        \".json\": \"application/json\",\n",
    "        \".gif\": \"image/gif\",\n",
    "        \".jpg\": \"image/jpeg\",\n",
    "        \".jpeg\": \"image/jpeg\",\n",
    "        \".png\": \"image/png\",\n",
    "        \".tif\": \"image/tiff\",\n",
    "        \".tiff\": \"image/tiff\",\n",
    "        \".html\": \"text/html\",\n",
    "        \".txt\": \"text/plain\",\n",
    "        \".tsv\": \"text/tab-separated-values\"        \n",
    "    }\n",
    "\n",
    "    filename = Path(filename)\n",
    "    if mime_type is None:\n",
    "        mime_type = mime_type_default[filename.suffix]\n",
    "        if mime_type is None:\n",
    "            raise ValueError(\"Unrecognized filename extension\")\n",
    "\n",
    "    with open(filename, \"rb\") as instream:\n",
    "        document = instream.read()\n",
    "\n",
    "    short_name = filename.name\n",
    "    payload = {\n",
    "        'attachment': {\n",
    "            'download': str(short_name),\n",
    "            'type': mime_type,\n",
    "            'href': 'data:{};base64,'.format(mime_type) + \n",
    "                     base64.b64encode(document).decode(\"ascii\"),\n",
    "            'md5sum': md5(document).hexdigest()\n",
    "        },\n",
    "        \"name\": \"UMI detected vs cell barcodes\",\n",
    "        \"quality_metric_of\": [metric_of],\n",
    "        'award': config[\"award\"],\n",
    "        'lab': config[\"lab\"],\n",
    "        \"step_run\": config[\"step_run\"],\n",
    "    }\n",
    "    return payload"
   ]
  },
  {
   "cell_type": "code",
   "execution_count": null,
   "id": "parliamentary-occasions",
   "metadata": {},
   "outputs": [],
   "source": [
    "#generic_metric = generic_quality_metric(config, \"/files/TSTFF094770/\", analysis_dir / \"umi.png\")\n",
    "#generic_metric"
   ]
  },
  {
   "cell_type": "code",
   "execution_count": null,
   "id": "breathing-printing",
   "metadata": {},
   "outputs": [],
   "source": [
    "#validator.validate(generic_metric, \"generic_quality_metric\")"
   ]
  },
  {
   "cell_type": "code",
   "execution_count": null,
   "id": "square-authorization",
   "metadata": {},
   "outputs": [],
   "source": [
    "star_index = server.get_json(\"ENCFF598IDH\")"
   ]
  },
  {
   "cell_type": "code",
   "execution_count": null,
   "id": "horizontal-somalia",
   "metadata": {},
   "outputs": [],
   "source": [
    "sorted(star_index)"
   ]
  },
  {
   "cell_type": "code",
   "execution_count": 8,
   "id": "informal-trader",
   "metadata": {},
   "outputs": [],
   "source": [
    "from urllib import parse\n",
    "from encoded_client.encoded import HTTPError\n",
    "from encoded_client.metadata import format_accession, compute_dcc_file_accession_from_url"
   ]
  },
  {
   "cell_type": "code",
   "execution_count": 9,
   "id": "structural-reflection",
   "metadata": {},
   "outputs": [
    {
     "name": "stderr",
     "output_type": "stream",
     "text": [
      "Error http status: 404 for https://encd-6248-78c147870-qing.demo.encodedcc.org/files/GRCh38-V29-male-2.7.8a/\n"
     ]
    },
    {
     "name": "stdout",
     "output_type": "stream",
     "text": [
      "/files/GRCh38-V29-male-2.7.8a/ not found\n",
      "accession_info None\n",
      "accession_info {'assembly': 'GRCh38', 'genome_annotation': 'V29'}\n"
     ]
    }
   ],
   "source": [
    "\n",
    "\n",
    "def update_genome_annotation_info():\n",
    "    if \"genome_accession\" in config:\n",
    "        genome_accession = config[\"genome_acession\"]\n",
    "    elif \"genome_index_url\" in config:\n",
    "        index_url = config[\"genome_index_url\"]\n",
    "        genome_accession = compute_dcc_file_accession_from_url(index_url)\n",
    "    else:\n",
    "        raise ValueError(\"genome_accession or genome_index_url are required parameters\")\n",
    "        \n",
    "    if not('assembly' in config and 'genome_annotation' in config):\n",
    "        try:\n",
    "            server = ENCODED(get_submit_host())\n",
    "            index_metadata = server.get_json(genome_accession)\n",
    "        except HTTPError as e:\n",
    "            if e.response.status_code == 404:\n",
    "                print(\"{} not found, please set assembly and genone_annotation parameters\".format(accession))\n",
    "            else:\n",
    "                print(\"Other error {} for {}\".format(e.response.status_code, accession))\n",
    "\n",
    "        config.update({\n",
    "            'assembly': index_metadata[\"assembly\"],\n",
    "            'genome_annotation': index_metadata[\"genome_annotation\"],\n",
    "        })\n",
    "\n",
    "index_url = \"https://woldlab.caltech.edu/~diane/genome/GRCh38-V29-male-2.7.8a.tar.gz\"\n",
    "print(\"accession_info\", get_accession_info(compute_dcc_file_accession_from_url(index_url)))\n",
    "\n",
    "index_url = \"https://www.encodeproject.org/files/ENCFF598IDH/@@download/ENCFF598IDH.tar.gz\"\n",
    "print(\"accession_info\", get_accession_info(compute_dcc_file_accession_from_url(index_url)))\n"
   ]
  },
  {
   "cell_type": "code",
   "execution_count": 12,
   "id": "assured-fancy",
   "metadata": {},
   "outputs": [
    {
     "data": {
      "text/plain": [
       "True"
      ]
     },
     "execution_count": 12,
     "metadata": {},
     "output_type": "execute_result"
    }
   ],
   "source": [
    "p = parse.urlparse(\"/files/asdf/\")\n",
    "p.scheme is None or len(p.scheme) == 0"
   ]
  },
  {
   "cell_type": "code",
   "execution_count": 11,
   "id": "wound-edward",
   "metadata": {},
   "outputs": [
    {
     "data": {
      "text/plain": [
       "''"
      ]
     },
     "execution_count": 11,
     "metadata": {},
     "output_type": "execute_result"
    }
   ],
   "source": [
    "p.scheme"
   ]
  },
  {
   "cell_type": "code",
   "execution_count": null,
   "id": "mathematical-sharp",
   "metadata": {},
   "outputs": [],
   "source": []
  }
 ],
 "metadata": {
  "kernelspec": {
   "display_name": "Python 3",
   "language": "python",
   "name": "python3"
  },
  "language_info": {
   "codemirror_mode": {
    "name": "ipython",
    "version": 3
   },
   "file_extension": ".py",
   "mimetype": "text/x-python",
   "name": "python",
   "nbconvert_exporter": "python",
   "pygments_lexer": "ipython3",
   "version": "3.9.1+"
  }
 },
 "nbformat": 4,
 "nbformat_minor": 5
}
