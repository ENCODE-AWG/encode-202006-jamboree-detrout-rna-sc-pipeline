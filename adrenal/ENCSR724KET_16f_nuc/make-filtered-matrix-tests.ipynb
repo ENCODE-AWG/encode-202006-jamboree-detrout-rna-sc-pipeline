{
 "cells": [
  {
   "cell_type": "code",
   "execution_count": 1,
   "id": "civilian-captain",
   "metadata": {},
   "outputs": [],
   "source": [
    "from scipy.io import mmread, mmwrite\n",
    "from pathlib import Path\n",
    "import scanpy\n",
    "import pandas\n",
    "import numpy\n",
    "\n"
   ]
  },
  {
   "cell_type": "code",
   "execution_count": 2,
   "id": "composed-steal",
   "metadata": {},
   "outputs": [],
   "source": [
    "def scanpy_load_solo278a_mtx(analysis_dir, quantification=\"Gene\", mode=\"filtered\"):\n",
    "    assert mode in [\"filtered\", \"raw\"], \"STAR Solo only produces raw or filtered files\"\n",
    "    assert quantification in [\"Gene\", \"GeneFull\", \"GeneFull_Ex50pAS\", \"SJ\"]\n",
    "\n",
    "    analysis_dir = Path(analysis_dir)\n",
    "    feature_name = \"features.tsv\"\n",
    "\n",
    "    solo_dir = analysis_dir / \"Solo.out\" / quantification / mode\n",
    "    solo = scanpy.read_mtx(solo_dir / \"matrix.mtx\").T\n",
    "    solo_vars = pandas.read_csv(\n",
    "        solo_dir / feature_name, header=None, sep=\"\\t\"\n",
    "    ).values.T\n",
    "    solo_obs = pandas.read_csv(\n",
    "        solo_dir / \"barcodes.tsv\", header=None, sep=\"\\t\"\n",
    "    ).values.T\n",
    "    solo.obs_names = solo_obs[0]\n",
    "    solo.var_names = solo_vars[0]\n",
    "\n",
    "    #solo.obs[\"counts\"] = solo.X.sum(axis=1)\n",
    "    #solo.obs[\"ngenes\"] = numpy.array((solo.X > 0).sum(axis=1))\n",
    "\n",
    "    return solo\n",
    "\n",
    "def mmread_solo(analysis_dir, quantification=\"Gene\", mode=\"filtered\"):\n",
    "    assert mode in [\"filtered\", \"raw\"], \"STAR Solo only produces raw or filtered files\"\n",
    "    assert quantification in [\"Gene\", \"GeneFull\", \"GeneFull_Ex50pAS\", \"SJ\"]\n",
    "\n",
    "    analysis_dir = Path(analysis_dir)\n",
    "    feature_name = \"features.tsv\"\n",
    "    \n",
    "    solo_dir = analysis_dir / \"Solo.out\" / quantification / mode\n",
    "    solo = mmread(solo_dir / \"matrix.mtx\").T\n",
    "    solo_vars = pandas.read_csv(\n",
    "        solo_dir / feature_name, header=None, sep=\"\\t\"\n",
    "    ).values.T\n",
    "    solo_obs = pandas.read_csv(\n",
    "        solo_dir / \"barcodes.tsv\", header=None, sep=\"\\t\"\n",
    "    ).values.T\n",
    "\n"
   ]
  },
  {
   "cell_type": "code",
   "execution_count": 3,
   "id": "worse-craps",
   "metadata": {},
   "outputs": [],
   "source": [
    "#adata = scanpy_load_solo278a_mtx(\"fullsolo_multi_eoi_container\", \"GeneFull_Ex50pAS\", \"raw\")"
   ]
  },
  {
   "cell_type": "code",
   "execution_count": 4,
   "id": "filled-joseph",
   "metadata": {},
   "outputs": [],
   "source": [
    "solo_dir = Path(\"fullsolo_multi_eoi_container/Solo.out\")"
   ]
  },
  {
   "cell_type": "code",
   "execution_count": 5,
   "id": "covered-metadata",
   "metadata": {},
   "outputs": [
    {
     "data": {
      "text/plain": [
       "(59526, 736320)"
      ]
     },
     "execution_count": 5,
     "metadata": {},
     "output_type": "execute_result"
    }
   ],
   "source": [
    "solo_raw = mmread(solo_dir / \"GeneFull_Ex50pAS\" / \"raw\" / \"matrix.mtx\")\n",
    "solo_raw.shape"
   ]
  },
  {
   "cell_type": "code",
   "execution_count": 6,
   "id": "becoming-thomas",
   "metadata": {},
   "outputs": [
    {
     "data": {
      "text/plain": [
       "(59526, 3)"
      ]
     },
     "execution_count": 6,
     "metadata": {},
     "output_type": "execute_result"
    }
   ],
   "source": [
    "vars_raw = pandas.read_csv(\n",
    "    solo_dir / \"GeneFull_Ex50pAS\" / \"raw\" / \"features.tsv\",\n",
    "    header=None,\n",
    "    sep=\"\\t\",\n",
    ")\n",
    "vars_raw.shape"
   ]
  },
  {
   "cell_type": "code",
   "execution_count": 7,
   "id": "alike-fighter",
   "metadata": {},
   "outputs": [
    {
     "data": {
      "text/plain": [
       "(736320, 1)"
      ]
     },
     "execution_count": 7,
     "metadata": {},
     "output_type": "execute_result"
    }
   ],
   "source": [
    "obs_raw = pandas.read_csv(\n",
    "    solo_dir / \"GeneFull_Ex50pAS\" / \"raw\" / \"barcodes.tsv\",\n",
    "    header=None,\n",
    "    sep=\"\\t\",\n",
    ")\n",
    "obs_raw.shape"
   ]
  },
  {
   "cell_type": "code",
   "execution_count": 8,
   "id": "molecular-broad",
   "metadata": {},
   "outputs": [
    {
     "data": {
      "text/plain": [
       "<59526x736320 sparse matrix of type '<class 'numpy.int64'>'\n",
       "\twith 44857010 stored elements in COOrdinate format>"
      ]
     },
     "execution_count": 8,
     "metadata": {},
     "output_type": "execute_result"
    }
   ],
   "source": [
    "solo_raw"
   ]
  },
  {
   "cell_type": "code",
   "execution_count": 9,
   "id": "fitting-strike",
   "metadata": {},
   "outputs": [
    {
     "data": {
      "text/plain": [
       "(59526, 15708)"
      ]
     },
     "execution_count": 9,
     "metadata": {},
     "output_type": "execute_result"
    }
   ],
   "source": [
    "solo_filt = mmread(solo_dir / \"GeneFull_Ex50pAS\" / \"filtered\" /\"matrix.mtx\")\n",
    "solo_filt.shape"
   ]
  },
  {
   "cell_type": "code",
   "execution_count": 10,
   "id": "daily-encyclopedia",
   "metadata": {},
   "outputs": [
    {
     "data": {
      "text/plain": [
       "(59526, 3)"
      ]
     },
     "execution_count": 10,
     "metadata": {},
     "output_type": "execute_result"
    }
   ],
   "source": [
    "vars_filt = pandas.read_csv(\n",
    "    solo_dir / \"GeneFull_Ex50pAS\" / \"filtered\" / \"features.tsv\",\n",
    "    header=None,\n",
    "    sep=\"\\t\",\n",
    ")\n",
    "vars_filt.shape"
   ]
  },
  {
   "cell_type": "code",
   "execution_count": 11,
   "id": "sitting-machinery",
   "metadata": {},
   "outputs": [
    {
     "data": {
      "text/plain": [
       "(15708, 1)"
      ]
     },
     "execution_count": 11,
     "metadata": {},
     "output_type": "execute_result"
    }
   ],
   "source": [
    "obs_filt = pandas.read_csv(\n",
    "    solo_dir / \"GeneFull_Ex50pAS\" / \"filtered\" / \"barcodes.tsv\",\n",
    "    header=None,\n",
    "    sep=\"\\t\",\n",
    ")\n",
    "obs_filt.shape"
   ]
  },
  {
   "cell_type": "code",
   "execution_count": 12,
   "id": "inclusive-humanity",
   "metadata": {},
   "outputs": [
    {
     "data": {
      "text/plain": [
       "<59526x15708 sparse matrix of type '<class 'numpy.int64'>'\n",
       "\twith 36913803 stored elements in COOrdinate format>"
      ]
     },
     "execution_count": 12,
     "metadata": {},
     "output_type": "execute_result"
    }
   ],
   "source": [
    "solo_filt"
   ]
  },
  {
   "cell_type": "code",
   "execution_count": 13,
   "id": "special-healing",
   "metadata": {},
   "outputs": [
    {
     "data": {
      "text/html": [
       "<div>\n",
       "<style scoped>\n",
       "    .dataframe tbody tr th:only-of-type {\n",
       "        vertical-align: middle;\n",
       "    }\n",
       "\n",
       "    .dataframe tbody tr th {\n",
       "        vertical-align: top;\n",
       "    }\n",
       "\n",
       "    .dataframe thead th {\n",
       "        text-align: right;\n",
       "    }\n",
       "</style>\n",
       "<table border=\"1\" class=\"dataframe\">\n",
       "  <thead>\n",
       "    <tr style=\"text-align: right;\">\n",
       "      <th></th>\n",
       "      <th>0</th>\n",
       "    </tr>\n",
       "  </thead>\n",
       "  <tbody>\n",
       "    <tr>\n",
       "      <th>0</th>\n",
       "      <td>AAACAGCCAAATGCCC</td>\n",
       "    </tr>\n",
       "    <tr>\n",
       "      <th>1</th>\n",
       "      <td>AAACAGCCACGTGCTG</td>\n",
       "    </tr>\n",
       "    <tr>\n",
       "      <th>2</th>\n",
       "      <td>AAACAGCCACTTAGGC</td>\n",
       "    </tr>\n",
       "    <tr>\n",
       "      <th>3</th>\n",
       "      <td>AAACAGCCAGGGAGCT</td>\n",
       "    </tr>\n",
       "    <tr>\n",
       "      <th>4</th>\n",
       "      <td>AAACAGCCATGTTTGG</td>\n",
       "    </tr>\n",
       "    <tr>\n",
       "      <th>...</th>\n",
       "      <td>...</td>\n",
       "    </tr>\n",
       "    <tr>\n",
       "      <th>15703</th>\n",
       "      <td>TTTGTTGGTGAGCAAG</td>\n",
       "    </tr>\n",
       "    <tr>\n",
       "      <th>15704</th>\n",
       "      <td>TTTGTTGGTGCTCACC</td>\n",
       "    </tr>\n",
       "    <tr>\n",
       "      <th>15705</th>\n",
       "      <td>TTTGTTGGTGCTTACT</td>\n",
       "    </tr>\n",
       "    <tr>\n",
       "      <th>15706</th>\n",
       "      <td>TTTGTTGGTGCTTAGA</td>\n",
       "    </tr>\n",
       "    <tr>\n",
       "      <th>15707</th>\n",
       "      <td>TTTGTTGGTTACATCC</td>\n",
       "    </tr>\n",
       "  </tbody>\n",
       "</table>\n",
       "<p>15708 rows × 1 columns</p>\n",
       "</div>"
      ],
      "text/plain": [
       "                      0\n",
       "0      AAACAGCCAAATGCCC\n",
       "1      AAACAGCCACGTGCTG\n",
       "2      AAACAGCCACTTAGGC\n",
       "3      AAACAGCCAGGGAGCT\n",
       "4      AAACAGCCATGTTTGG\n",
       "...                 ...\n",
       "15703  TTTGTTGGTGAGCAAG\n",
       "15704  TTTGTTGGTGCTCACC\n",
       "15705  TTTGTTGGTGCTTACT\n",
       "15706  TTTGTTGGTGCTTAGA\n",
       "15707  TTTGTTGGTTACATCC\n",
       "\n",
       "[15708 rows x 1 columns]"
      ]
     },
     "execution_count": 13,
     "metadata": {},
     "output_type": "execute_result"
    }
   ],
   "source": [
    "obs_filt"
   ]
  },
  {
   "cell_type": "code",
   "execution_count": 14,
   "id": "cognitive-playing",
   "metadata": {},
   "outputs": [
    {
     "data": {
      "text/html": [
       "<div>\n",
       "<style scoped>\n",
       "    .dataframe tbody tr th:only-of-type {\n",
       "        vertical-align: middle;\n",
       "    }\n",
       "\n",
       "    .dataframe tbody tr th {\n",
       "        vertical-align: top;\n",
       "    }\n",
       "\n",
       "    .dataframe thead th {\n",
       "        text-align: right;\n",
       "    }\n",
       "</style>\n",
       "<table border=\"1\" class=\"dataframe\">\n",
       "  <thead>\n",
       "    <tr style=\"text-align: right;\">\n",
       "      <th></th>\n",
       "      <th>0</th>\n",
       "    </tr>\n",
       "  </thead>\n",
       "  <tbody>\n",
       "    <tr>\n",
       "      <th>0</th>\n",
       "      <td>AAACAGCCAAACAACA</td>\n",
       "    </tr>\n",
       "    <tr>\n",
       "      <th>1</th>\n",
       "      <td>AAACAGCCAAACATAG</td>\n",
       "    </tr>\n",
       "    <tr>\n",
       "      <th>2</th>\n",
       "      <td>AAACAGCCAAACCCTA</td>\n",
       "    </tr>\n",
       "    <tr>\n",
       "      <th>3</th>\n",
       "      <td>AAACAGCCAAACCTAT</td>\n",
       "    </tr>\n",
       "    <tr>\n",
       "      <th>4</th>\n",
       "      <td>AAACAGCCAAACCTTG</td>\n",
       "    </tr>\n",
       "    <tr>\n",
       "      <th>...</th>\n",
       "      <td>...</td>\n",
       "    </tr>\n",
       "    <tr>\n",
       "      <th>736315</th>\n",
       "      <td>TTTGTTGGTTTGGGTA</td>\n",
       "    </tr>\n",
       "    <tr>\n",
       "      <th>736316</th>\n",
       "      <td>TTTGTTGGTTTGGTTC</td>\n",
       "    </tr>\n",
       "    <tr>\n",
       "      <th>736317</th>\n",
       "      <td>TTTGTTGGTTTGTCTA</td>\n",
       "    </tr>\n",
       "    <tr>\n",
       "      <th>736318</th>\n",
       "      <td>TTTGTTGGTTTGTGGA</td>\n",
       "    </tr>\n",
       "    <tr>\n",
       "      <th>736319</th>\n",
       "      <td>TTTGTTGGTTTGTTGC</td>\n",
       "    </tr>\n",
       "  </tbody>\n",
       "</table>\n",
       "<p>736320 rows × 1 columns</p>\n",
       "</div>"
      ],
      "text/plain": [
       "                       0\n",
       "0       AAACAGCCAAACAACA\n",
       "1       AAACAGCCAAACATAG\n",
       "2       AAACAGCCAAACCCTA\n",
       "3       AAACAGCCAAACCTAT\n",
       "4       AAACAGCCAAACCTTG\n",
       "...                  ...\n",
       "736315  TTTGTTGGTTTGGGTA\n",
       "736316  TTTGTTGGTTTGGTTC\n",
       "736317  TTTGTTGGTTTGTCTA\n",
       "736318  TTTGTTGGTTTGTGGA\n",
       "736319  TTTGTTGGTTTGTTGC\n",
       "\n",
       "[736320 rows x 1 columns]"
      ]
     },
     "execution_count": 14,
     "metadata": {},
     "output_type": "execute_result"
    }
   ],
   "source": [
    "obs_raw"
   ]
  },
  {
   "cell_type": "code",
   "execution_count": 15,
   "id": "affiliated-blank",
   "metadata": {},
   "outputs": [
    {
     "data": {
      "text/html": [
       "<div>\n",
       "<style scoped>\n",
       "    .dataframe tbody tr th:only-of-type {\n",
       "        vertical-align: middle;\n",
       "    }\n",
       "\n",
       "    .dataframe tbody tr th {\n",
       "        vertical-align: top;\n",
       "    }\n",
       "\n",
       "    .dataframe thead th {\n",
       "        text-align: right;\n",
       "    }\n",
       "</style>\n",
       "<table border=\"1\" class=\"dataframe\">\n",
       "  <thead>\n",
       "    <tr style=\"text-align: right;\">\n",
       "      <th></th>\n",
       "      <th>0</th>\n",
       "    </tr>\n",
       "  </thead>\n",
       "  <tbody>\n",
       "    <tr>\n",
       "      <th>20</th>\n",
       "      <td>AAACAGCCAAATGCCC</td>\n",
       "    </tr>\n",
       "    <tr>\n",
       "      <th>167</th>\n",
       "      <td>AAACAGCCACGTGCTG</td>\n",
       "    </tr>\n",
       "    <tr>\n",
       "      <th>184</th>\n",
       "      <td>AAACAGCCACTTAGGC</td>\n",
       "    </tr>\n",
       "    <tr>\n",
       "      <th>254</th>\n",
       "      <td>AAACAGCCAGGGAGCT</td>\n",
       "    </tr>\n",
       "    <tr>\n",
       "      <th>353</th>\n",
       "      <td>AAACAGCCATGTTTGG</td>\n",
       "    </tr>\n",
       "    <tr>\n",
       "      <th>...</th>\n",
       "      <td>...</td>\n",
       "    </tr>\n",
       "    <tr>\n",
       "      <th>736107</th>\n",
       "      <td>TTTGTTGGTGAGCAAG</td>\n",
       "    </tr>\n",
       "    <tr>\n",
       "      <th>736134</th>\n",
       "      <td>TTTGTTGGTGCTCACC</td>\n",
       "    </tr>\n",
       "    <tr>\n",
       "      <th>736139</th>\n",
       "      <td>TTTGTTGGTGCTTACT</td>\n",
       "    </tr>\n",
       "    <tr>\n",
       "      <th>736140</th>\n",
       "      <td>TTTGTTGGTGCTTAGA</td>\n",
       "    </tr>\n",
       "    <tr>\n",
       "      <th>736199</th>\n",
       "      <td>TTTGTTGGTTACATCC</td>\n",
       "    </tr>\n",
       "  </tbody>\n",
       "</table>\n",
       "<p>15708 rows × 1 columns</p>\n",
       "</div>"
      ],
      "text/plain": [
       "                       0\n",
       "20      AAACAGCCAAATGCCC\n",
       "167     AAACAGCCACGTGCTG\n",
       "184     AAACAGCCACTTAGGC\n",
       "254     AAACAGCCAGGGAGCT\n",
       "353     AAACAGCCATGTTTGG\n",
       "...                  ...\n",
       "736107  TTTGTTGGTGAGCAAG\n",
       "736134  TTTGTTGGTGCTCACC\n",
       "736139  TTTGTTGGTGCTTACT\n",
       "736140  TTTGTTGGTGCTTAGA\n",
       "736199  TTTGTTGGTTACATCC\n",
       "\n",
       "[15708 rows x 1 columns]"
      ]
     },
     "execution_count": 15,
     "metadata": {},
     "output_type": "execute_result"
    }
   ],
   "source": [
    "obs_raw_filt = obs_raw[obs_raw[0].isin(obs_filt[0])]\n",
    "obs_raw_filt"
   ]
  },
  {
   "cell_type": "code",
   "execution_count": 16,
   "id": "synthetic-object",
   "metadata": {},
   "outputs": [
    {
     "data": {
      "text/plain": [
       "True"
      ]
     },
     "execution_count": 16,
     "metadata": {},
     "output_type": "execute_result"
    }
   ],
   "source": [
    "obs_raw_filt[0].tolist() == obs_filt[0].tolist()"
   ]
  },
  {
   "cell_type": "code",
   "execution_count": 17,
   "id": "ranking-finish",
   "metadata": {},
   "outputs": [
    {
     "data": {
      "text/plain": [
       "0         False\n",
       "1         False\n",
       "2         False\n",
       "3         False\n",
       "4         False\n",
       "          ...  \n",
       "736315    False\n",
       "736316    False\n",
       "736317    False\n",
       "736318    False\n",
       "736319    False\n",
       "Name: 0, Length: 736320, dtype: bool"
      ]
     },
     "execution_count": 17,
     "metadata": {},
     "output_type": "execute_result"
    }
   ],
   "source": [
    "obs_raw[0] == \"AAACAGCCAAATGCCC\""
   ]
  },
  {
   "cell_type": "code",
   "execution_count": 18,
   "id": "exact-stamp",
   "metadata": {},
   "outputs": [
    {
     "data": {
      "text/plain": [
       "(59526, 736320)"
      ]
     },
     "execution_count": 18,
     "metadata": {},
     "output_type": "execute_result"
    }
   ],
   "source": [
    "solo_raw_csr = solo_raw.tocsr()\n",
    "solo_raw_csr.shape"
   ]
  },
  {
   "cell_type": "code",
   "execution_count": 19,
   "id": "southern-stationery",
   "metadata": {},
   "outputs": [
    {
     "data": {
      "text/plain": [
       "(59526, 15708)"
      ]
     },
     "execution_count": 19,
     "metadata": {},
     "output_type": "execute_result"
    }
   ],
   "source": [
    "solo_raw_csr_filt = solo_raw_csr[:,obs_raw_filt.index]\n",
    "solo_raw_csr_filt.shape"
   ]
  },
  {
   "cell_type": "code",
   "execution_count": 20,
   "id": "restricted-stuff",
   "metadata": {},
   "outputs": [
    {
     "data": {
      "text/plain": [
       "True"
      ]
     },
     "execution_count": 20,
     "metadata": {},
     "output_type": "execute_result"
    }
   ],
   "source": [
    "numpy.all(solo_raw_csr_filt.todense() == solo_filt.todense())"
   ]
  },
  {
   "cell_type": "code",
   "execution_count": 21,
   "id": "cardiac-maker",
   "metadata": {},
   "outputs": [
    {
     "data": {
      "text/plain": [
       "(59526, 15708)"
      ]
     },
     "execution_count": 21,
     "metadata": {},
     "output_type": "execute_result"
    }
   ],
   "source": [
    "solo_raw_filt_coo = solo_raw_csr_filt.tocoo()\n",
    "solo_raw_filt_coo.shape"
   ]
  },
  {
   "cell_type": "code",
   "execution_count": 22,
   "id": "palestinian-speaker",
   "metadata": {},
   "outputs": [
    {
     "data": {
      "text/plain": [
       "<59526x15708 sparse matrix of type '<class 'numpy.int64'>'\n",
       "\twith 36913803 stored elements in COOrdinate format>"
      ]
     },
     "execution_count": 22,
     "metadata": {},
     "output_type": "execute_result"
    }
   ],
   "source": [
    "solo_raw_filt_coo"
   ]
  },
  {
   "cell_type": "code",
   "execution_count": 23,
   "id": "organizational-habitat",
   "metadata": {},
   "outputs": [],
   "source": [
    "mmwrite(\"fullsolo_multi_eoi_container/my-filtered.mtx\", solo_raw_csr_filt)"
   ]
  },
  {
   "cell_type": "code",
   "execution_count": 24,
   "id": "standing-fiber",
   "metadata": {},
   "outputs": [],
   "source": [
    "mmwrite(\"fullsolo_multi_eoi_container/filtered-round.mtx\", solo_filt)"
   ]
  },
  {
   "cell_type": "code",
   "execution_count": 25,
   "id": "fallen-richmond",
   "metadata": {},
   "outputs": [
    {
     "data": {
      "text/plain": [
       "{'_shape': (59526, 15708),\n",
       " 'maxprint': 50,\n",
       " 'indices': array([ 161,  227,  381, ...,  916, 9934, 8513], dtype=int32),\n",
       " 'indptr': array([       0,        0,       65, ..., 36913803, 36913803, 36913803],\n",
       "       dtype=int32),\n",
       " 'data': array([1, 1, 1, ..., 1, 1, 1])}"
      ]
     },
     "execution_count": 25,
     "metadata": {},
     "output_type": "execute_result"
    }
   ],
   "source": [
    "vars(solo_raw_csr_filt)"
   ]
  },
  {
   "cell_type": "code",
   "execution_count": 26,
   "id": "starting-example",
   "metadata": {},
   "outputs": [
    {
     "data": {
      "text/plain": [
       "{'_shape': (59526, 15708),\n",
       " 'maxprint': 50,\n",
       " 'row': array([  103,   273,   326, ..., 58685, 58687, 58732], dtype=int32),\n",
       " 'col': array([    0,     0,     0, ..., 15707, 15707, 15707], dtype=int32),\n",
       " 'data': array([3, 2, 1, ..., 1, 4, 1]),\n",
       " 'has_canonical_format': False}"
      ]
     },
     "execution_count": 26,
     "metadata": {},
     "output_type": "execute_result"
    }
   ],
   "source": [
    "vars(solo_filt)"
   ]
  },
  {
   "cell_type": "code",
   "execution_count": 27,
   "id": "anonymous-chorus",
   "metadata": {},
   "outputs": [
    {
     "data": {
      "text/plain": [
       "array([2])"
      ]
     },
     "execution_count": 27,
     "metadata": {},
     "output_type": "execute_result"
    }
   ],
   "source": [
    "solo_filt.getrow(273).getcol(0).data"
   ]
  },
  {
   "cell_type": "code",
   "execution_count": 28,
   "id": "naked-joshua",
   "metadata": {},
   "outputs": [
    {
     "data": {
      "text/plain": [
       "3"
      ]
     },
     "execution_count": 28,
     "metadata": {},
     "output_type": "execute_result"
    }
   ],
   "source": [
    "solo_raw_csr_filt.getrow(103).getcol(0).data[0]"
   ]
  },
  {
   "cell_type": "code",
   "execution_count": 29,
   "id": "continued-amplifier",
   "metadata": {},
   "outputs": [],
   "source": [
    "obs_raw_seq = obs_raw.reset_index().set_index(0)"
   ]
  },
  {
   "cell_type": "code",
   "execution_count": 30,
   "id": "certified-brooks",
   "metadata": {},
   "outputs": [
    {
     "data": {
      "text/plain": [
       "736134"
      ]
     },
     "execution_count": 30,
     "metadata": {},
     "output_type": "execute_result"
    }
   ],
   "source": [
    "obs_raw_seq.loc[\"TTTGTTGGTGCTCACC\"].values[0]"
   ]
  },
  {
   "cell_type": "code",
   "execution_count": 31,
   "id": "advisory-complaint",
   "metadata": {},
   "outputs": [
    {
     "data": {
      "text/plain": [
       "20"
      ]
     },
     "execution_count": 31,
     "metadata": {},
     "output_type": "execute_result"
    }
   ],
   "source": [
    "obs_raw_seq.loc[\"AAACAGCCAAATGCCC\"].values[0]"
   ]
  },
  {
   "cell_type": "code",
   "execution_count": 32,
   "id": "sorted-newsletter",
   "metadata": {},
   "outputs": [],
   "source": [
    "vars_raw_seq = vars_raw.reset_index().set_index(0)"
   ]
  },
  {
   "cell_type": "code",
   "execution_count": 33,
   "id": "homeless-review",
   "metadata": {},
   "outputs": [],
   "source": [
    "solo_raw_dok = solo_raw.todok()"
   ]
  },
  {
   "cell_type": "code",
   "execution_count": 34,
   "id": "threatened-norwegian",
   "metadata": {},
   "outputs": [
    {
     "data": {
      "text/plain": [
       "0"
      ]
     },
     "execution_count": 34,
     "metadata": {},
     "output_type": "execute_result"
    }
   ],
   "source": [
    "solo_raw_dok[0,20]"
   ]
  },
  {
   "cell_type": "code",
   "execution_count": 35,
   "id": "express-haiti",
   "metadata": {},
   "outputs": [
    {
     "ename": "AssertionError",
     "evalue": "",
     "output_type": "error",
     "traceback": [
      "\u001b[0;31m---------------------------------------------------------------------------\u001b[0m",
      "\u001b[0;31mAssertionError\u001b[0m                            Traceback (most recent call last)",
      "\u001b[0;32m<ipython-input-35-188d60c69bd2>\u001b[0m in \u001b[0;36m<module>\u001b[0;34m\u001b[0m\n\u001b[0;32m----> 1\u001b[0;31m \u001b[0;32massert\u001b[0m \u001b[0;36m0\u001b[0m\u001b[0;34m\u001b[0m\u001b[0;34m\u001b[0m\u001b[0m\n\u001b[0m\u001b[1;32m      2\u001b[0m \u001b[0mdata\u001b[0m \u001b[0;34m=\u001b[0m \u001b[0;34m[\u001b[0m\u001b[0;34m]\u001b[0m\u001b[0;34m\u001b[0m\u001b[0;34m\u001b[0m\u001b[0m\n\u001b[1;32m      3\u001b[0m \u001b[0;32mfor\u001b[0m \u001b[0mbarcode\u001b[0m \u001b[0;32min\u001b[0m \u001b[0mobs_filt\u001b[0m\u001b[0;34m[\u001b[0m\u001b[0;36m0\u001b[0m\u001b[0;34m]\u001b[0m\u001b[0;34m:\u001b[0m\u001b[0;34m\u001b[0m\u001b[0;34m\u001b[0m\u001b[0m\n\u001b[1;32m      4\u001b[0m     \u001b[0mobs\u001b[0m \u001b[0;34m=\u001b[0m \u001b[0mobs_raw_seq\u001b[0m\u001b[0;34m.\u001b[0m\u001b[0mloc\u001b[0m\u001b[0;34m[\u001b[0m\u001b[0mbarcode\u001b[0m\u001b[0;34m]\u001b[0m\u001b[0;34m.\u001b[0m\u001b[0mvalues\u001b[0m\u001b[0;34m[\u001b[0m\u001b[0;36m0\u001b[0m\u001b[0;34m]\u001b[0m\u001b[0;34m\u001b[0m\u001b[0;34m\u001b[0m\u001b[0m\n\u001b[1;32m      5\u001b[0m     \u001b[0;32mfor\u001b[0m \u001b[0mfeature\u001b[0m \u001b[0;32min\u001b[0m \u001b[0mvars_filt\u001b[0m\u001b[0;34m[\u001b[0m\u001b[0;36m0\u001b[0m\u001b[0;34m]\u001b[0m\u001b[0;34m:\u001b[0m\u001b[0;34m\u001b[0m\u001b[0;34m\u001b[0m\u001b[0m\n",
      "\u001b[0;31mAssertionError\u001b[0m: "
     ]
    }
   ],
   "source": [
    "#assert 0\n",
    "#data = []\n",
    "#for barcode in obs_filt[0]:\n",
    "#    obs = obs_raw_seq.loc[barcode].values[0]\n",
    "#    for feature in vars_filt[0]:\n",
    "#        col = vars_raw_seq.loc[feature].values[0]\n",
    "#        data.append(solo_raw.getrow(obs).getcol(col).data[0])\n",
    "#print(len(data))"
   ]
  },
  {
   "cell_type": "code",
   "execution_count": null,
   "id": "connected-dakota",
   "metadata": {},
   "outputs": [],
   "source": []
  }
 ],
 "metadata": {
  "kernelspec": {
   "display_name": "Python 3",
   "language": "python",
   "name": "python3"
  },
  "language_info": {
   "codemirror_mode": {
    "name": "ipython",
    "version": 3
   },
   "file_extension": ".py",
   "mimetype": "text/x-python",
   "name": "python",
   "nbconvert_exporter": "python",
   "pygments_lexer": "ipython3",
   "version": "3.9.1+"
  }
 },
 "nbformat": 4,
 "nbformat_minor": 5
}
