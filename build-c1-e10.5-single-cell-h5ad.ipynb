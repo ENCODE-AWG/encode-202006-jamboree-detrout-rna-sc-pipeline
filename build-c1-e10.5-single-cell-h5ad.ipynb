{
 "cells": [
  {
   "cell_type": "code",
   "execution_count": null,
   "metadata": {},
   "outputs": [],
   "source": []
  },
  {
   "cell_type": "code",
   "execution_count": null,
   "metadata": {},
   "outputs": [],
   "source": []
  },
  {
   "cell_type": "code",
   "execution_count": 1,
   "metadata": {},
   "outputs": [],
   "source": [
    "import pandas\n",
    "import scanpy\n",
    "from pathlib import Path\n",
    "import sys\n",
    "from urllib import parse\n",
    "import loompy\n",
    "import numpy\n",
    "import anndata"
   ]
  },
  {
   "cell_type": "code",
   "execution_count": null,
   "metadata": {},
   "outputs": [],
   "source": [
    "store = pandas.HDFStore(Path('~/proj/genome/mm10-M21-male/mm10-M21-male.h5').expanduser())\n",
    "gtf = store[store.keys()[0]]\n",
    "store.close()\n"
   ]
  },
  {
   "cell_type": "code",
   "execution_count": null,
   "metadata": {},
   "outputs": [],
   "source": [
    "def load_transcript_map(triplet):\n",
    "    root = Path('genome')\n",
    "    txp_map = {}\n",
    "    with open(root /triplet/'txp2gene.tsv', 'rt') as instream:\n",
    "        for line in instream:\n",
    "            txp, gene = line.rstrip().split('\\t')\n",
    "            txp_map[txp] = gene\n",
    "    return txp_map\n"
   ]
  }
 ],
 "metadata": {
  "kernelspec": {
   "display_name": "Python 3",
   "language": "python",
   "name": "python3"
  },
  "language_info": {
   "codemirror_mode": {
    "name": "ipython",
    "version": 3
   },
   "file_extension": ".py",
   "mimetype": "text/x-python",
   "name": "python",
   "nbconvert_exporter": "python",
   "pygments_lexer": "ipython3",
   "version": "3.8.5"
  }
 },
 "nbformat": 4,
 "nbformat_minor": 4
}
