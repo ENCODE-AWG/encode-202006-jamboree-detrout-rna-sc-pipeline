{
 "cells": [
  {
   "cell_type": "code",
   "execution_count": 1,
   "metadata": {},
   "outputs": [],
   "source": [
    "import psycopg2"
   ]
  },
  {
   "cell_type": "code",
   "execution_count": 2,
   "metadata": {},
   "outputs": [],
   "source": [
    "import pandas\n",
    "from pathlib import Path\n",
    "import sys\n",
    "import itertools\n",
    "from matplotlib import pyplot\n",
    "import numpy\n",
    "from urllib import parse"
   ]
  },
  {
   "cell_type": "code",
   "execution_count": 3,
   "metadata": {},
   "outputs": [],
   "source": [
    "HTSW = str(Path('~/proj/htsworkflow').expanduser())\n",
    "if HTSW not in sys.path:\n",
    "    sys.path.append(HTSW)\n",
    "from htsworkflow.submission.encoded import ENCODED\n"
   ]
  },
  {
   "cell_type": "code",
   "execution_count": 4,
   "metadata": {},
   "outputs": [],
   "source": [
    "server = ENCODED('www.encodeproject.org')\n",
    "server.load_netrc()"
   ]
  },
  {
   "cell_type": "code",
   "execution_count": 5,
   "metadata": {},
   "outputs": [],
   "source": [
    "libraries_used = set()\n",
    "prefix_len = len('barbara-wold:')\n",
    "with open('fastqs-used-in-c1-e10.5.txt', 'rt') as instream:\n",
    "    for i, line in enumerate(instream):\n",
    "        url = parse.urlparse(line.strip())\n",
    "        parts = url.path.split('/')\n",
    "        fastq_accession = parts[2]\n",
    "        fastq = server.get_json(fastq_accession)\n",
    "        library = fastq['library']\n",
    "        library_id = library['@id']\n",
    "        aliases = library['aliases']\n",
    "        jumpgate = aliases[0][prefix_len:]\n",
    "        #print(fastq_accession, library_id, jumpgate)\n",
    "        libraries_used.add(jumpgate.split('_')[0])\n"
   ]
  },
  {
   "cell_type": "code",
   "execution_count": 6,
   "metadata": {},
   "outputs": [
    {
     "data": {
      "text/plain": [
       "{'17327',\n",
       " '17328',\n",
       " '17329',\n",
       " '17330',\n",
       " '17331',\n",
       " '17332',\n",
       " '17333',\n",
       " '17334',\n",
       " '18042',\n",
       " '18043',\n",
       " '18044',\n",
       " '18045',\n",
       " '18046',\n",
       " '18047',\n",
       " '18048',\n",
       " '18049',\n",
       " '18087',\n",
       " '18088',\n",
       " '18089',\n",
       " '18255',\n",
       " '18267',\n",
       " '18274',\n",
       " '18315',\n",
       " '19910',\n",
       " '19912',\n",
       " '19913',\n",
       " '20048'}"
      ]
     },
     "execution_count": 6,
     "metadata": {},
     "output_type": "execute_result"
    }
   ],
   "source": [
    "libraries_used"
   ]
  },
  {
   "cell_type": "code",
   "execution_count": 7,
   "metadata": {},
   "outputs": [
    {
     "data": {
      "text/plain": [
       "27"
      ]
     },
     "execution_count": 7,
     "metadata": {},
     "output_type": "execute_result"
    }
   ],
   "source": [
    "len(libraries_used)"
   ]
  },
  {
   "cell_type": "markdown",
   "metadata": {},
   "source": [
    "Ran this through postgres\n",
    "\n",
    "select  insert_size from samples_library  where id in ('17327', '17328', '17329', '17330', '17331', '17332', '17333', '17334', '18042', '18043', '18044', '18045', '18046', '18047', '18048', '18049', '18087', '18088', '18089', '18255', '18267', '18274', '18315', '19910', '19912', '19913', '20048');\n",
    "\n",
    "which gave me the following insert sizes"
   ]
  },
  {
   "cell_type": "code",
   "execution_count": 28,
   "metadata": {},
   "outputs": [],
   "source": [
    "conn = psycopg2.connect(host='felcat.caltech.edu', dbname='htsworkflow', user='diane', sslmode='require')"
   ]
  },
  {
   "cell_type": "code",
   "execution_count": 31,
   "metadata": {},
   "outputs": [],
   "source": [
    "cursor = conn.cursor()"
   ]
  },
  {
   "cell_type": "code",
   "execution_count": 39,
   "metadata": {},
   "outputs": [
    {
     "data": {
      "text/plain": [
       "('18255',\n",
       " '17332',\n",
       " '20048',\n",
       " '18274',\n",
       " '18267',\n",
       " '18042',\n",
       " '17330',\n",
       " '17331',\n",
       " '18047',\n",
       " '18088',\n",
       " '18087',\n",
       " '18046',\n",
       " '18049',\n",
       " '18044',\n",
       " '18315',\n",
       " '19913',\n",
       " '18043',\n",
       " '18048',\n",
       " '19912',\n",
       " '17334',\n",
       " '17327',\n",
       " '17329',\n",
       " '17328',\n",
       " '18045',\n",
       " '18089',\n",
       " '17333',\n",
       " '19910')"
      ]
     },
     "execution_count": 39,
     "metadata": {},
     "output_type": "execute_result"
    }
   ],
   "source": [
    "tuple(libraries_used)"
   ]
  },
  {
   "cell_type": "code",
   "execution_count": 44,
   "metadata": {},
   "outputs": [
    {
     "data": {
      "text/plain": [
       "b\"select id, insert_size from samples_library where id in ARRAY['18255','17332','20048','18274','18267','18042','17330','17331','18047','18088','18087','18046','18049','18044','18315','19913','18043','18048','19912','17334','17327','17329','17328','18045','18089','17333','19910'];\""
      ]
     },
     "execution_count": 44,
     "metadata": {},
     "output_type": "execute_result"
    }
   ],
   "source": [
    "cursor.mogrify(\"select id, insert_size from samples_library where id in %s;\", vars=(list(libraries_used),))"
   ]
  },
  {
   "cell_type": "code",
   "execution_count": 46,
   "metadata": {},
   "outputs": [],
   "source": [
    "lengths = {}\n",
    "cursor.execute(\"select id, insert_size from samples_library where id in %s;\", vars=(tuple(libraries_used),))\n",
    "for row in cursor:\n",
    "    library_id = row[0]\n",
    "    insert_size = row[1]\n",
    "    lengths[library_id] = insert_size"
   ]
  },
  {
   "cell_type": "code",
   "execution_count": 49,
   "metadata": {},
   "outputs": [
    {
     "data": {
      "text/plain": [
       "17327    662\n",
       "17328    655\n",
       "17329    569\n",
       "17330    563\n",
       "17331    603\n",
       "17332    557\n",
       "17333    493\n",
       "17334    558\n",
       "18042    362\n",
       "18043    339\n",
       "18044    327\n",
       "18045    365\n",
       "18046    338\n",
       "18047    332\n",
       "18048    309\n",
       "18049    310\n",
       "18087    472\n",
       "18088    482\n",
       "18089    554\n",
       "18255    509\n",
       "18267    266\n",
       "18274    519\n",
       "18315    387\n",
       "19910    652\n",
       "19912    555\n",
       "19913    617\n",
       "20048    527\n",
       "Name: library_id, dtype: int64"
      ]
     },
     "execution_count": 49,
     "metadata": {},
     "output_type": "execute_result"
    }
   ],
   "source": [
    "length_series = pandas.Series(lengths)\n",
    "length_series.name = 'library_id'\n",
    "length_series"
   ]
  },
  {
   "cell_type": "code",
   "execution_count": 52,
   "metadata": {},
   "outputs": [
    {
     "data": {
      "image/png": "[encoded data removed]",
      "text/plain": [
       "<Figure size 432x288 with 1 Axes>"
      ]
     },
     "metadata": {
      "needs_background": "light"
     },
     "output_type": "display_data"
    }
   ],
   "source": [
    "f = pyplot.figure()\n",
    "ax = f.add_subplot(1,1,1)\n",
    "length_series.sort_index().plot.bar(ax=ax)\n",
    "ax.set_ylabel('Insert Length')\n",
    "ax.set_xlabel('Library ID')\n",
    "pass"
   ]
  },
  {
   "cell_type": "code",
   "execution_count": null,
   "metadata": {},
   "outputs": [],
   "source": []
  },
  {
   "cell_type": "code",
   "execution_count": null,
   "metadata": {},
   "outputs": [],
   "source": [
    "insert_sizes = [ 662, 655, 569, 563, 603, 557, 493, 558, 362, 339, 327, 365, 338, 332, 309, 310, 472, 482, 554, 509, 266, 519, 387, 652, 555, 617, 527,]"
   ]
  },
  {
   "cell_type": "code",
   "execution_count": null,
   "metadata": {},
   "outputs": [],
   "source": [
    "numpy.std(insert_sizes)"
   ]
  },
  {
   "cell_type": "code",
   "execution_count": null,
   "metadata": {},
   "outputs": [],
   "source": [
    "numpy.mean(insert_sizes)"
   ]
  },
  {
   "cell_type": "code",
   "execution_count": null,
   "metadata": {},
   "outputs": [],
   "source": []
  }
 ],
 "metadata": {
  "kernelspec": {
   "display_name": "Python 3",
   "language": "python",
   "name": "python3"
  },
  "language_info": {
   "codemirror_mode": {
    "name": "ipython",
    "version": 3
   },
   "file_extension": ".py",
   "mimetype": "text/x-python",
   "name": "python",
   "nbconvert_exporter": "python",
   "pygments_lexer": "ipython3",
   "version": "3.9.1+"
  }
 },
 "nbformat": 4,
 "nbformat_minor": 4
}
