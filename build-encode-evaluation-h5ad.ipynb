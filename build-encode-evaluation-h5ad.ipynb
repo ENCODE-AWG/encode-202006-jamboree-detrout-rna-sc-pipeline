{
 "cells": [
  {
   "cell_type": "markdown",
   "metadata": {},
   "source": [
    "# Introduction"
   ]
  },
  {
   "cell_type": "markdown",
   "metadata": {},
   "source": [
    "I've found it helpful to have one notebook build up a cache of the data I want to analyze. I'm still not quite sure if anndata or loom is a better choice.\n",
    "\n",
    "This notebook is to collect the 10x e10.5 forelimb runs."
   ]
  },
  {
   "cell_type": "code",
   "execution_count": null,
   "metadata": {},
   "outputs": [],
   "source": []
  },
  {
   "cell_type": "code",
   "execution_count": 1,
   "metadata": {},
   "outputs": [],
   "source": [
    "import pandas\n",
    "import scanpy\n",
    "from pathlib import Path\n",
    "import sys\n",
    "from urllib import parse\n",
    "import loompy\n",
    "import numpy\n",
    "import anndata\n",
    "import scanpy"
   ]
  },
  {
   "cell_type": "code",
   "execution_count": 2,
   "metadata": {},
   "outputs": [],
   "source": [
    "LRSC = str(Path('~/proj/long-rna-seq-condor').expanduser())\n",
    "if LRSC not in sys.path:\n",
    "    sys.path.append(LRSC)\n",
    "from woldrnaseq.madqc import load_rsem_quantifications, load_genomic_quantifications, load_transcriptome_quantifications, replicate_scores\n",
    "from woldrnaseq.models import load_library_tables, load_experiments, load_all_star_final, load_all_star_counts"
   ]
  },
  {
   "cell_type": "markdown",
   "metadata": {},
   "source": [
    "# Load GTF"
   ]
  },
  {
   "cell_type": "code",
   "execution_count": 3,
   "metadata": {},
   "outputs": [],
   "source": [
    "store = pandas.HDFStore(Path('~/proj/genome/GRCh38-V24-male/GRCh38-V24-male.h5').expanduser())\n",
    "gtf = store[store.keys()[0]]\n",
    "store.close()"
   ]
  },
  {
   "cell_type": "code",
   "execution_count": 27,
   "metadata": {},
   "outputs": [
    {
     "data": {
      "text/plain": [
       "(2574639, 26)"
      ]
     },
     "execution_count": 27,
     "metadata": {},
     "output_type": "execute_result"
    }
   ],
   "source": [
    "gtf.shape"
   ]
  },
  {
   "cell_type": "code",
   "execution_count": 4,
   "metadata": {
    "scrolled": true
   },
   "outputs": [
    {
     "data": {
      "text/plain": [
       "Index(['chromosome', 'source', 'type', 'start', 'stop', 'score', 'strand',\n",
       "       'frame', 'gene_id', 'gene_type', 'gene_status', 'gene_name', 'level',\n",
       "       'havana_gene', 'transcript_id', 'transcript_type', 'transcript_status',\n",
       "       'transcript_name', 'tag', 'transcript_support_level',\n",
       "       'havana_transcript', 'exon_number', 'exon_id', 'ont', 'protein_id',\n",
       "       'ccdsid'],\n",
       "      dtype='object')"
      ]
     },
     "execution_count": 4,
     "metadata": {},
     "output_type": "execute_result"
    }
   ],
   "source": [
    "gtf.columns"
   ]
  },
  {
   "cell_type": "code",
   "execution_count": 5,
   "metadata": {},
   "outputs": [],
   "source": [
    "gene_info = gtf[gtf['type'].isin(['gene', 'tRNA']) | (gtf['source'] == 'spikein')].set_index('gene_id')"
   ]
  },
  {
   "cell_type": "markdown",
   "metadata": {},
   "source": [
    "# Load Transcript Map"
   ]
  },
  {
   "cell_type": "code",
   "execution_count": 6,
   "metadata": {},
   "outputs": [],
   "source": [
    "grch38_v24_male_map = {}\n",
    "\n",
    "for i, row in gtf[['gene_id', 'transcript_id']].iterrows():\n",
    "    grch38_v24_male_map[row.transcript_id] = row.gene_id\n",
    "    \n"
   ]
  },
  {
   "cell_type": "code",
   "execution_count": 49,
   "metadata": {},
   "outputs": [],
   "source": [
    "evaluation_rsem_root = Path('~/proj/encode3-rna-evaluation/long-rna-seq-condor/').expanduser()\n",
    "evaluation_kallisto_root = Path('~/proj/encode-202006-jamboree-detrout-rna-sc-pipeline/encode3-rna-evaluation-kallisto').expanduser()\n"
   ]
  },
  {
   "cell_type": "markdown",
   "metadata": {},
   "source": [
    "# Load Population RSEM values"
   ]
  },
  {
   "cell_type": "code",
   "execution_count": 9,
   "metadata": {},
   "outputs": [],
   "source": [
    "rsem_experiment = load_experiments([evaluation_rsem_root / 'experiment.tsv'])\n",
    "rsem_libraries = load_library_tables([evaluation_rsem_root / 'library.tsv'])"
   ]
  },
  {
   "cell_type": "code",
   "execution_count": 10,
   "metadata": {},
   "outputs": [],
   "source": [
    "star_stats = load_all_star_final(rsem_libraries)"
   ]
  },
  {
   "cell_type": "code",
   "execution_count": 11,
   "metadata": {
    "scrolled": true
   },
   "outputs": [
    {
     "data": {
      "text/plain": [
       "ENCLB035ZZZ    25007733.0\n",
       "ENCLB036ZZZ    25001532.0\n",
       "ENCLB037ZZZ    25004651.0\n",
       "ENCLB038ZZZ    25001913.0\n",
       "ENCLB039ZZZ    25000903.0\n",
       "ENCLB040ZZZ    25001076.0\n",
       "ENCLB041ZZZ    24999822.0\n",
       "ENCLB042ZZZ    25004947.0\n",
       "ENCLB043ZZZ    25002616.0\n",
       "ENCLB044ZZZ    25002815.0\n",
       "ENCLB045ZZZ    25003023.0\n",
       "ENCLB046ZZZ    25007451.0\n",
       "Name: (, Number of input reads), dtype: float64"
      ]
     },
     "execution_count": 11,
     "metadata": {},
     "output_type": "execute_result"
    }
   ],
   "source": [
    "star_stats.loc[:, ('', 'Number of input reads')]"
   ]
  },
  {
   "cell_type": "code",
   "execution_count": 12,
   "metadata": {},
   "outputs": [],
   "source": [
    "rsem_all = pandas.Series({'replicates': star_stats.index})"
   ]
  },
  {
   "cell_type": "code",
   "execution_count": 13,
   "metadata": {},
   "outputs": [
    {
     "name": "stdout",
     "output_type": "stream",
     "text": [
      "quantifications None (61471, 12)\n",
      "quantifications None (61471, 12)\n"
     ]
    }
   ],
   "source": [
    "rsem_gene_count = load_genomic_quantifications(rsem_all, rsem_libraries, column='expected_count')\n",
    "rsem_gene_tpm = load_genomic_quantifications(rsem_all, rsem_libraries, column='TPM')"
   ]
  },
  {
   "cell_type": "code",
   "execution_count": 14,
   "metadata": {},
   "outputs": [
    {
     "name": "stdout",
     "output_type": "stream",
     "text": [
      "quantifications None (200094, 12)\n",
      "quantifications None (200094, 12)\n"
     ]
    }
   ],
   "source": [
    "rsem_transcript_count = load_transcriptome_quantifications(rsem_all, rsem_libraries, column='expected_count')\n",
    "rsem_transcript_tpm = load_transcriptome_quantifications(rsem_all, rsem_libraries, column='TPM')"
   ]
  },
  {
   "cell_type": "markdown",
   "metadata": {},
   "source": [
    "# Read STAR ReadsPerGene.tab"
   ]
  },
  {
   "cell_type": "code",
   "execution_count": 15,
   "metadata": {},
   "outputs": [],
   "source": [
    "star_gene_count = load_all_star_counts(rsem_libraries, column='U').reindex(rsem_gene_count.index)"
   ]
  },
  {
   "cell_type": "markdown",
   "metadata": {},
   "source": [
    "# Read kallisto results"
   ]
  },
  {
   "cell_type": "code",
   "execution_count": 16,
   "metadata": {},
   "outputs": [],
   "source": [
    "def read_kallisto():\n",
    "    libraries = [\n",
    "        'ENCLB035ZZZ', 'ENCLB037ZZZ', 'ENCLB039ZZZ', 'ENCLB041ZZZ', 'ENCLB043ZZZ', 'ENCLB045ZZZ',\n",
    "        'ENCLB036ZZZ', 'ENCLB038ZZZ', 'ENCLB040ZZZ', 'ENCLB042ZZZ', 'ENCLB044ZZZ', 'ENCLB046ZZZ',\n",
    "    ]\n",
    "\n",
    "    kallisto_transcript_tpm = {}\n",
    "    kallisto_transcript_count = {}\n",
    "    for library in libraries:\n",
    "        abundance = pandas.read_csv(evaluation_kallisto_root / library / 'abundance.tsv', sep='\\t', index_col=0, usecols=['target_id', 'est_counts', 'tpm'])\n",
    "        kallisto_transcript_tpm[library] = abundance['tpm']\n",
    "        kallisto_transcript_count[library] = abundance['est_counts']\n",
    "        \n",
    "    kallisto_transcript_tpm = pandas.DataFrame(kallisto_transcript_tpm)\n",
    "    kallisto_transcript_count = pandas.DataFrame(kallisto_transcript_count)\n",
    "    \n",
    "    kallisto_transcript_tpm['gene_id'] = [grch38_v24_male_map[x] for x in kallisto_transcript_tpm.index]\n",
    "    kallisto_transcript_count['gene_id'] = [grch38_v24_male_map[x] for x in kallisto_transcript_count.index]\n",
    "    return kallisto_transcript_count, kallisto_transcript_tpm\n",
    "\n",
    "kallisto_transcript_count, kallisto_transcript_tpm = read_kallisto()\n",
    "kallisto_gene_count = kallisto_transcript_count.groupby('gene_id').sum()\n",
    "kallisto_gene_tpm = kallisto_transcript_tpm.groupby('gene_id').sum()"
   ]
  },
  {
   "cell_type": "markdown",
   "metadata": {},
   "source": [
    "# Save results"
   ]
  },
  {
   "cell_type": "code",
   "execution_count": 17,
   "metadata": {},
   "outputs": [],
   "source": [
    "def build_loom(filename, matrix, quantification_name, gtf):\n",
    "    gene_info = gtf[gtf['type'].isin(['gene', 'tRNA']) | (gtf['source'] == 'spikein')]\n",
    "    transcript_info = gtf[(gtf['type'].isin(['transcript', 'tRNA'])) | (gtf['source'] == 'spikein')]\n",
    "    \n",
    "    if matrix.shape[0] == gene_info.shape[0]:\n",
    "        # We have a gene matrix\n",
    "        info = gene_info\n",
    "        info = info.set_index('gene_id')\n",
    "        feature_type = 'gene'\n",
    "    elif matrix.shape[0] == transcript_info.shape[0]:\n",
    "        info = transcript_info\n",
    "        info = info.set_index('transcript_id')\n",
    "        feature_type = 'transcript'\n",
    "    else:\n",
    "        raise ValueError('Unrecognized shape expected {} or {} got {}'.format(\n",
    "            gene_info.shape[0], \n",
    "            transcript_info.shape[0],\n",
    "            count.shape[0],\n",
    "        ))\n",
    "    gene_names = []\n",
    "    gene_types = []\n",
    "    for feature in matrix.index:\n",
    "        gene_names.append(info.loc[feature, 'gene_name'])\n",
    "        gene_types.append(info.loc[feature, 'gene_type'])\n",
    "\n",
    "    row_attrs = {\n",
    "        'id': numpy.asarray(matrix.index),\n",
    "        'gene_name': numpy.asarray(gene_names),\n",
    "        'gene_type': numpy.asarray(gene_types),\n",
    "    }\n",
    "    column_attrs = {\n",
    "        'experiment': numpy.asarray(matrix.columns), \n",
    "    }\n",
    "    file_attrs = {\n",
    "        'quantification_name': quantification_name,\n",
    "        'feature_type': feature_type,\n",
    "    }\n",
    "    loompy.create(str(filename), matrix.values, row_attrs=row_attrs, col_attrs=column_attrs, file_attrs=file_attrs)\n"
   ]
  },
  {
   "cell_type": "code",
   "execution_count": 54,
   "metadata": {},
   "outputs": [],
   "source": [
    "def build_anndata(filename, matrix, quantification_name, gtf):\n",
    "    gene_info = gtf[(gtf['type'] == 'gene') | (gtf['source'] == 'spikein')]\n",
    "    transcript_info = gtf[(gtf['type'] == 'transcript') | (gtf['source'] == 'spikein')]\n",
    "    \n",
    "    gene_shape = 61471\n",
    "    transcript_shape = 200094\n",
    "    if matrix.shape[0] == gene_shape:\n",
    "        # We have a gene matrixCell\n",
    "        info = gene_info\n",
    "        info = info.set_index('gene_id')\n",
    "        feature_type = 'gene'\n",
    "    elif matrix.shape[0] == transcript_shape:\n",
    "        info = transcript_info\n",
    "        info = info.set_index('transcript_id')\n",
    "        feature_type = 'transcript'\n",
    "    else:\n",
    "        raise ValueError('Unrecognized shape expected {} or {} got {}'.format(\n",
    "            gene_info.shape[0], \n",
    "            transcript_info.shape[0],\n",
    "            matrix.shape[0],\n",
    "        ))\n",
    "    gene_names = []\n",
    "    gene_types = []\n",
    "    for feature in matrix.index:\n",
    "        if feature in info.index:\n",
    "            gene_names.append(info.loc[feature, 'gene_name'])\n",
    "            gene_types.append(info.loc[feature, 'gene_type'])\n",
    "        else:\n",
    "            gene_names.append(feature)\n",
    "            gene_types.append('tRNA')\n",
    "\n",
    "    adata = anndata.AnnData(matrix.T)\n",
    "    adata.var['gene_symbol'] = gene_names\n",
    "    adata.var['gene_type'] = gene_types\n",
    "    adata.uns['quantification_name'] = quantification_name\n",
    "    adata.uns['feature_type'] = feature_type\n",
    "    \n",
    "    adata.write_h5ad(filename)"
   ]
  },
  {
   "cell_type": "code",
   "execution_count": 50,
   "metadata": {},
   "outputs": [
    {
     "name": "stderr",
     "output_type": "stream",
     "text": [
      "... storing 'gene_symbol' as categorical\n",
      "... storing 'gene_type' as categorical\n",
      "... storing 'gene_symbol' as categorical\n",
      "... storing 'gene_type' as categorical\n"
     ]
    }
   ],
   "source": [
    "build_anndata(evaluation_kallisto_root / 'evaluation_rsem_gene_counts.h5ad', rsem_gene_count, 'counts', gtf)\n",
    "build_anndata(evaluation_kallisto_root / 'evaluation_kallisto_gene_counts.h5ad', kallisto_gene_count, 'counts', gtf)"
   ]
  },
  {
   "cell_type": "code",
   "execution_count": 51,
   "metadata": {},
   "outputs": [
    {
     "name": "stderr",
     "output_type": "stream",
     "text": [
      "... storing 'gene_symbol' as categorical\n",
      "... storing 'gene_type' as categorical\n",
      "... storing 'gene_symbol' as categorical\n",
      "... storing 'gene_type' as categorical\n"
     ]
    }
   ],
   "source": [
    "build_anndata(evaluation_kallisto_root / 'evaluation_rsem_gene_tpms.h5ad', rsem_gene_tpm, 'TPM', gtf)\n",
    "build_anndata(evaluation_kallisto_root / 'evaluation_kallisto_gene_tpms.h5ad', kallisto_gene_tpm, 'TPM', gtf)"
   ]
  },
  {
   "cell_type": "markdown",
   "metadata": {},
   "source": [
    "# Build Transcript Matrix"
   ]
  },
  {
   "cell_type": "code",
   "execution_count": 77,
   "metadata": {},
   "outputs": [
    {
     "name": "stderr",
     "output_type": "stream",
     "text": [
      "... storing 'gene_symbol' as categorical\n",
      "... storing 'gene_type' as categorical\n",
      "... storing 'gene_symbol' as categorical\n",
      "... storing 'gene_type' as categorical\n"
     ]
    }
   ],
   "source": [
    "if 'gene_id' in rsem_transcript_count.columns:\n",
    "    rsem_transcript_count = rsem_transcript_count.drop('gene_id', axis=1)\n",
    "if 'gene_id' in kallisto_transcript_count.columns:\n",
    "    kallisto_transcript_count = kallisto_transcript_count.drop('gene_id', axis=1)\n",
    "    \n",
    "assert 'gene_id' not in kallisto_gene_count.columns\n",
    "    \n",
    "build_anndata(evaluation_kallisto_root / 'evaluation_rsem_transcript_counts.h5ad', rsem_transcript_count, 'counts', gtf)\n",
    "build_anndata(evaluation_kallisto_root / 'evaluation_kallisto_transcript_counts.h5ad', kallisto_transcript_count, 'counts', gtf)"
   ]
  },
  {
   "cell_type": "code",
   "execution_count": 78,
   "metadata": {},
   "outputs": [
    {
     "name": "stderr",
     "output_type": "stream",
     "text": [
      "... storing 'gene_symbol' as categorical\n",
      "... storing 'gene_type' as categorical\n",
      "... storing 'gene_symbol' as categorical\n",
      "... storing 'gene_type' as categorical\n"
     ]
    }
   ],
   "source": [
    "if 'gene_id' in rsem_transcript_tpm.columns:\n",
    "    rsem_transcript_tpm = rsem_transcript_tpm.drop('gene_id', axis=1)\n",
    "if 'gene_id' in kallisto_transcript_tpm.columns:\n",
    "    kallisto_transcript_tpm = kallisto_transcript_tpm.drop('gene_id', axis=1)\n",
    "\n",
    "build_anndata(evaluation_kallisto_root / 'evaluation_rsem_transcript_tpm.h5ad', rsem_transcript_tpm, 'TPM', gtf)\n",
    "build_anndata(evaluation_kallisto_root / 'evaluation_kallisto_transcript_tpm.h5ad', kallisto_transcript_tpm, 'TPM', gtf) "
   ]
  },
  {
   "cell_type": "code",
   "execution_count": null,
   "metadata": {},
   "outputs": [],
   "source": []
  }
 ],
 "metadata": {
  "kernelspec": {
   "display_name": "Python 3",
   "language": "python",
   "name": "python3"
  },
  "language_info": {
   "codemirror_mode": {
    "name": "ipython",
    "version": 3
   },
   "file_extension": ".py",
   "mimetype": "text/x-python",
   "name": "python",
   "nbconvert_exporter": "python",
   "pygments_lexer": "ipython3",
   "version": "3.8.5"
  }
 },
 "nbformat": 4,
 "nbformat_minor": 4
}
