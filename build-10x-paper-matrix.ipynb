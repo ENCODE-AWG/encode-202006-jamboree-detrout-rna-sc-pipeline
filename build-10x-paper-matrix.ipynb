{
 "cells": [
  {
   "cell_type": "code",
   "execution_count": 1,
   "id": "alternative-medline",
   "metadata": {},
   "outputs": [],
   "source": [
    "import numpy\n",
    "import anndata\n",
    "import os\n",
    "import pandas\n",
    "import scipy\n",
    "import scanpy\n",
    "import upsetplot\n",
    "from matplotlib import pyplot\n",
    "from pathlib import Path\n",
    "import upsetplot\n",
    "import sys\n",
    "\n",
    "from common import (\n",
    "    scanpy_load_solo_mtx, \n",
    "    scanpy_load_alevin_mtx, \n",
    "    scanpy_load_kallisto_gene_mtx, \n",
    "    build_anndata,\n",
    "    plot_retained_barcodes,\n",
    "    load_barcode_list,\n",
    ")"
   ]
  },
  {
   "cell_type": "code",
   "execution_count": 2,
   "id": "governing-acoustic",
   "metadata": {},
   "outputs": [],
   "source": [
    "%matplotlib inline"
   ]
  },
  {
   "cell_type": "code",
   "execution_count": 3,
   "id": "upset-kelly",
   "metadata": {},
   "outputs": [],
   "source": [
    "LRSC = Path('~/proj/long-rna-seq-condor').expanduser()\n",
    "if str(LRSC) not in sys.path:\n",
    "    sys.path.append(str(LRSC))\n",
    "\n",
    "from woldrnaseq.plot_genes_detected import (\n",
    "    bin_library_quantification,\n",
    "    plot_gene_detection_histogram,\n",
    ")"
   ]
  },
  {
   "cell_type": "markdown",
   "id": "geological-framework",
   "metadata": {},
   "source": [
    "Paper 10x filtering\n",
    "\n",
    "UMI counts from CellRanger were filtered first, where cells with fewer than 1,000 genes detected and genes detected in less than 0.1% of cells were removed. Within each cell, counts were divided by the sum and multiplied by 10,000, added to 1, and log-transformed. The top 4,000 high-dispersion genes were identified. To remove noise (https://github.com/brianpenghe/python-genomics), we first performed hierarchical clustering for these genes and then extracted genes that fell in ‘tight’ clusters (those with more than two members after cutting the dendrogram at 0.8 distance), removing a large number of sporadic genes which had high dispersion scores but were barely co-expressed with other genes. These genes were used in place of ‘highly-variable genes’ for the Seurat pipeline. Using the Seurat pipeline, cells with more than 20% mitochondria reads or more than 8,000 genes detected were removed. Genes were regressed against the number of UMIs per cell and mitochondria percentage and scaled. The resulting matrix, guided by the aforementioned feature genes, was used to perform PCA. Jackstraw was then performed using Seurat’s default settings, resulting in 42 significant PCs. These PCs were in turn used for Louvain cell clustering and t-SNE visualization. Clusters 3, 4, 5, 6, 8, 12 and 13 were further re-clustered using the same method, yielding clusters 17–24."
   ]
  },
  {
   "cell_type": "code",
   "execution_count": 4,
   "id": "micro-concept",
   "metadata": {},
   "outputs": [],
   "source": [
    "analysis_root = Path('10x_paper')"
   ]
  },
  {
   "cell_type": "code",
   "execution_count": 5,
   "id": "unlikely-surname",
   "metadata": {},
   "outputs": [],
   "source": [
    "sausage = ['10x-8','10x-10','10x-11']\n",
    "runs = ['10x-1','10x-3','10x-4','10x-5','10x-6','10x-7','10x-12','10x-13']\n"
   ]
  },
  {
   "cell_type": "code",
   "execution_count": 6,
   "id": "postal-gamma",
   "metadata": {},
   "outputs": [],
   "source": [
    "def plot_counts_umi(matrices):\n",
    "    f = pyplot.figure(figsize=(10,6))\n",
    "    ax = f.add_subplot(1,1,1)\n",
    "\n",
    "    alpha = 0.8\n",
    "    gridalpha = 0.5\n",
    "    fontsize = 12\n",
    "\n",
    "    for label in matrices:\n",
    "        matrix = matrices[label]\n",
    "        umi = numpy.sort(numpy.array(matrix.obs['counts']), axis=None)[::-1]\n",
    "        ax.plot(umi,  range(matrix.shape[0]), linewidth=2, alpha=alpha,\n",
    "                #c=colors['kallisto_em'],\n",
    "                label=label)\n",
    "\n",
    "    ax.set_xlabel('Cumulative nI did old alevin 1.2 with and with vs kallisto on our 10x datasetsumber of barcodes', fontsize=fontsize)\n",
    "    ax.set_ylabel('count of reported UMIs', fontsize=fontsize)\n",
    "    ax.set_xscale('log')\n",
    "    ax.set_yscale('log')\n",
    "    ax.set_xlim(1,1e5)\n",
    "    ax.set_ylim(1,1e6)\n",
    "    ax.grid(\n",
    "        color=\"dimgrey\", linestyle=\"-\", linewidth=0.5, which=\"both\", alpha=gridalpha\n",
    "    )\n",
    "\n",
    "    ax.legend()\n"
   ]
  },
  {
   "cell_type": "code",
   "execution_count": 7,
   "id": "fossil-timing",
   "metadata": {},
   "outputs": [],
   "source": [
    "def filter_combined_matrix(matrix, min_genes_per_cell=1000, min_cells_per_gene_fraction=.001):\n",
    "    matrix.obs['counts'] = matrix.X.sum(axis=1)\n",
    "    matrix.obs['ngenes'] = numpy.array((matrix.X > 0).sum(axis=1))\n",
    "    matrix.varm['expressed_in'] = numpy.array((matrix.X > 0).sum(axis=0)).T\n",
    "\n",
    "    min_cells_per_gene = matrix.shape[0] * min_cells_per_gene_fraction\n",
    "    return matrix[matrix.obs['ngenes'] >= min_genes_per_cell, matrix.varm['expressed_in'] >= min_cells_per_gene]"
   ]
  },
  {
   "cell_type": "code",
   "execution_count": null,
   "id": "applied-closure",
   "metadata": {},
   "outputs": [],
   "source": []
  },
  {
   "cell_type": "code",
   "execution_count": 8,
   "id": "developing-joint",
   "metadata": {},
   "outputs": [],
   "source": [
    "def load_kallisto(root):\n",
    "    kallisto = []\n",
    "    for r in runs:\n",
    "        analysis_dir = root/r\n",
    "        filtered_list = root/r/'filtered-barcodes.txt'\n",
    "        matrix = scanpy_load_kallisto_gene_mtx(analysis_dir/'genecount', filter_file=filtered_list)\n",
    "        matrix.obs_names = [\"{}-{}\".format(r, x) for x in matrix.obs_names]\n",
    "        kallisto.append(matrix)\n",
    "    k_all = anndata.concat(kallisto)\n",
    "    print('Full matrix size', k_all)\n",
    "    kallisto = []\n",
    "    return k_all\n",
    "    \n",
    "def load_filtered_kallisto_matrix(root):\n",
    "    k_all = load_kallisto(root)\n",
    "    reduced = filter_combined_matrix(k_all)\n",
    "    print('Reduced matrix size', reduced)\n"
   ]
  },
  {
   "cell_type": "code",
   "execution_count": 9,
   "id": "previous-burst",
   "metadata": {},
   "outputs": [],
   "source": [
    "def load_alevin(root):\n",
    "    alevin = []\n",
    "    for r in runs:\n",
    "        analysis_dir = root/r\n",
    "        #filtered_list = root/r/'filtered-barcodes.txt'\n",
    "        matrix = scanpy_load_alevin_mtx(analysis_dir)\n",
    "        matrix.obs_names = [\"{}-{}\".format(r, x) for x in matrix.obs_names]\n",
    "        print(r, 'matrix', matrix)\n",
    "        alevin.append(matrix)\n",
    "    matrix = anndata.concat(alevin)\n",
    "    print('Full matrix size', matrix)\n",
    "    alevin = []\n",
    "    return matrix\n",
    "    \n",
    "def load_filtered_alevin_matrix(root):\n",
    "    matrix = load_alevin(root)\n",
    "    reduced = filter_combined_matrix(matrix)\n",
    "    print('Filtered matrix size', reduced)"
   ]
  },
  {
   "cell_type": "markdown",
   "id": "marked-phrase",
   "metadata": {},
   "source": [
    "# Load Kallisto EM minimal"
   ]
  },
  {
   "cell_type": "code",
   "execution_count": 10,
   "id": "opening-drink",
   "metadata": {},
   "outputs": [
    {
     "name": "stdout",
     "output_type": "stream",
     "text": [
      "Full matrix size AnnData object with n_obs × n_vars = 91718 × 31635\n",
      "    obs: 'counts', 'ngenes'\n"
     ]
    }
   ],
   "source": [
    "kallisto_em_minimal = load_kallisto(analysis_root / 'kallisto_em_minimal')"
   ]
  },
  {
   "cell_type": "code",
   "execution_count": 11,
   "id": "silver-blank",
   "metadata": {},
   "outputs": [],
   "source": [
    "kallisto_em_minimal.write_h5ad(analysis_root / 'kallisto_em_minimal.h5ad')"
   ]
  },
  {
   "cell_type": "markdown",
   "id": "split-muslim",
   "metadata": {},
   "source": [
    "# Load Alevin Minimal"
   ]
  },
  {
   "cell_type": "code",
   "execution_count": 12,
   "id": "thrown-aquatic",
   "metadata": {},
   "outputs": [
    {
     "name": "stdout",
     "output_type": "stream",
     "text": [
      "10x-1 matrix AnnData object with n_obs × n_vars = 9673 × 31345\n",
      "    obs: 'counts', 'ngenes'\n",
      "10x-3 matrix AnnData object with n_obs × n_vars = 335 × 31345\n",
      "    obs: 'counts', 'ngenes'\n",
      "10x-4 matrix AnnData object with n_obs × n_vars = 8143 × 31345\n",
      "    obs: 'counts', 'ngenes'\n",
      "10x-5 matrix AnnData object with n_obs × n_vars = 12237 × 31345\n",
      "    obs: 'counts', 'ngenes'\n",
      "10x-6 matrix AnnData object with n_obs × n_vars = 846 × 31345\n",
      "    obs: 'counts', 'ngenes'\n",
      "10x-7 matrix AnnData object with n_obs × n_vars = 7302 × 31345\n",
      "    obs: 'counts', 'ngenes'\n",
      "10x-12 matrix AnnData object with n_obs × n_vars = 12457 × 31345\n",
      "    obs: 'counts', 'ngenes'\n",
      "10x-13 matrix AnnData object with n_obs × n_vars = 10552 × 31345\n",
      "    obs: 'counts', 'ngenes'\n",
      "Full matrix size AnnData object with n_obs × n_vars = 61545 × 31345\n",
      "    obs: 'counts', 'ngenes'\n"
     ]
    }
   ],
   "source": [
    "alevin_minimal = load_alevin(analysis_root / 'alevin_minimal')"
   ]
  },
  {
   "cell_type": "code",
   "execution_count": 13,
   "id": "warming-killer",
   "metadata": {},
   "outputs": [],
   "source": [
    "alevin_minimal.write_h5ad(analysis_root / 'alevin_minimal.h5ad')"
   ]
  },
  {
   "cell_type": "markdown",
   "id": "pointed-subsection",
   "metadata": {},
   "source": [
    "# Load Kallisto EM"
   ]
  },
  {
   "cell_type": "code",
   "execution_count": 14,
   "id": "moral-bidding",
   "metadata": {},
   "outputs": [
    {
     "name": "stdout",
     "output_type": "stream",
     "text": [
      "Full matrix size AnnData object with n_obs × n_vars = 92005 × 81881\n",
      "    obs: 'counts', 'ngenes'\n"
     ]
    }
   ],
   "source": [
    "kallisto_em = load_kallisto(analysis_root / 'kallisto_em')"
   ]
  },
  {
   "cell_type": "code",
   "execution_count": 15,
   "id": "sunset-memory",
   "metadata": {},
   "outputs": [],
   "source": [
    "kallisto_em.write_h5ad(analysis_root / 'kallisto_em.h5ad')"
   ]
  },
  {
   "cell_type": "markdown",
   "id": "behavioral-rider",
   "metadata": {},
   "source": [
    "# Load Alevin"
   ]
  },
  {
   "cell_type": "code",
   "execution_count": 16,
   "id": "central-nitrogen",
   "metadata": {},
   "outputs": [
    {
     "name": "stdout",
     "output_type": "stream",
     "text": [
      "10x-1 matrix AnnData object with n_obs × n_vars = 9673 × 72301\n",
      "    obs: 'counts', 'ngenes'\n",
      "10x-3 matrix AnnData object with n_obs × n_vars = 335 × 72301\n",
      "    obs: 'counts', 'ngenes'\n",
      "10x-4 matrix AnnData object with n_obs × n_vars = 8143 × 72301\n",
      "    obs: 'counts', 'ngenes'\n",
      "10x-5 matrix AnnData object with n_obs × n_vars = 12237 × 72301\n",
      "    obs: 'counts', 'ngenes'\n",
      "10x-6 matrix AnnData object with n_obs × n_vars = 846 × 72301\n",
      "    obs: 'counts', 'ngenes'\n",
      "10x-7 matrix AnnData object with n_obs × n_vars = 7302 × 72301\n",
      "    obs: 'counts', 'ngenes'\n",
      "10x-12 matrix AnnData object with n_obs × n_vars = 12457 × 72301\n",
      "    obs: 'counts', 'ngenes'\n",
      "10x-13 matrix AnnData object with n_obs × n_vars = 10552 × 72301\n",
      "    obs: 'counts', 'ngenes'\n",
      "Full matrix size AnnData object with n_obs × n_vars = 61545 × 72301\n",
      "    obs: 'counts', 'ngenes'\n"
     ]
    }
   ],
   "source": [
    "alevin = load_alevin(analysis_root / 'alevin')"
   ]
  },
  {
   "cell_type": "code",
   "execution_count": 17,
   "id": "oriented-spine",
   "metadata": {},
   "outputs": [],
   "source": [
    "alevin.write_h5ad(analysis_root / 'alevin.h5ad')"
   ]
  },
  {
   "cell_type": "markdown",
   "id": "hourly-joining",
   "metadata": {},
   "source": [
    "# Load Alevin Decoy Minimal"
   ]
  },
  {
   "cell_type": "code",
   "execution_count": 18,
   "id": "intensive-nightlife",
   "metadata": {},
   "outputs": [
    {
     "name": "stdout",
     "output_type": "stream",
     "text": [
      "10x-1 matrix AnnData object with n_obs × n_vars = 9673 × 31345\n",
      "    obs: 'counts', 'ngenes'\n",
      "10x-3 matrix AnnData object with n_obs × n_vars = 335 × 31345\n",
      "    obs: 'counts', 'ngenes'\n",
      "10x-4 matrix AnnData object with n_obs × n_vars = 8143 × 31345\n",
      "    obs: 'counts', 'ngenes'\n",
      "10x-5 matrix AnnData object with n_obs × n_vars = 12237 × 31345\n",
      "    obs: 'counts', 'ngenes'\n",
      "10x-6 matrix AnnData object with n_obs × n_vars = 846 × 31345\n",
      "    obs: 'counts', 'ngenes'\n",
      "10x-7 matrix AnnData object with n_obs × n_vars = 7302 × 31345\n",
      "    obs: 'counts', 'ngenes'\n",
      "10x-12 matrix AnnData object with n_obs × n_vars = 12457 × 31345\n",
      "    obs: 'counts', 'ngenes'\n",
      "10x-13 matrix AnnData object with n_obs × n_vars = 10552 × 31345\n",
      "    obs: 'counts', 'ngenes'\n",
      "Full matrix size AnnData object with n_obs × n_vars = 61545 × 31345\n",
      "    obs: 'counts', 'ngenes'\n"
     ]
    }
   ],
   "source": [
    "alevin_decoy_minimal = load_alevin(analysis_root / 'alevin_decoy_minimal')"
   ]
  },
  {
   "cell_type": "code",
   "execution_count": 19,
   "id": "alone-decision",
   "metadata": {},
   "outputs": [],
   "source": [
    "alevin_decoy_minimal.write_h5ad(analysis_root / 'alevin_decoy_minimal.h5ad')"
   ]
  },
  {
   "cell_type": "markdown",
   "id": "abroad-softball",
   "metadata": {},
   "source": [
    "# Load Alevin Decoy"
   ]
  },
  {
   "cell_type": "code",
   "execution_count": 20,
   "id": "fabulous-namibia",
   "metadata": {},
   "outputs": [
    {
     "name": "stdout",
     "output_type": "stream",
     "text": [
      "10x-1 matrix AnnData object with n_obs × n_vars = 9673 × 72312\n",
      "    obs: 'counts', 'ngenes'\n",
      "10x-3 matrix AnnData object with n_obs × n_vars = 335 × 72312\n",
      "    obs: 'counts', 'ngenes'\n",
      "10x-4 matrix AnnData object with n_obs × n_vars = 8143 × 72312\n",
      "    obs: 'counts', 'ngenes'\n",
      "10x-5 matrix AnnData object with n_obs × n_vars = 12237 × 72312\n",
      "    obs: 'counts', 'ngenes'\n",
      "10x-6 matrix AnnData object with n_obs × n_vars = 846 × 72312\n",
      "    obs: 'counts', 'ngenes'\n",
      "10x-7 matrix AnnData object with n_obs × n_vars = 16 × 72312\n",
      "    obs: 'counts', 'ngenes'\n",
      "10x-12 matrix AnnData object with n_obs × n_vars = 12457 × 72312\n",
      "    obs: 'counts', 'ngenes'\n",
      "10x-13 matrix AnnData object with n_obs × n_vars = 10552 × 72312\n",
      "    obs: 'counts', 'ngenes'\n",
      "Full matrix size AnnData object with n_obs × n_vars = 54259 × 72312\n",
      "    obs: 'counts', 'ngenes'\n"
     ]
    }
   ],
   "source": [
    "alevin_decoy = load_alevin(analysis_root / 'alevin_decoy')"
   ]
  },
  {
   "cell_type": "code",
   "execution_count": 21,
   "id": "acoustic-skiing",
   "metadata": {},
   "outputs": [],
   "source": [
    "alevin_decoy.write_h5ad(analysis_root / 'alevin_decoy.h5ad')"
   ]
  },
  {
   "cell_type": "markdown",
   "id": "naughty-degree",
   "metadata": {},
   "source": [
    "# UMIs counts vs UMIs"
   ]
  },
  {
   "cell_type": "code",
   "execution_count": 22,
   "id": "careful-reunion",
   "metadata": {},
   "outputs": [],
   "source": [
    "datasets = {\n",
    "    'Kallisto (EM) minimal': kallisto_em_minimal,\n",
    "    'Alevin minimal': alevin_minimal,\n",
    "    'Kallisto (EM)': kallisto_em,\n",
    "    'Alevin': alevin,\n",
    "    'Alevin decoy minimal': alevin_decoy_minimal,\n",
    "    'Alevin decoy': alevin_decoy,\n",
    "}"
   ]
  },
  {
   "cell_type": "code",
   "execution_count": 23,
   "id": "hungarian-costa",
   "metadata": {},
   "outputs": [],
   "source": [
    "plot_counts_umi(datasets)"
   ]
  },
  {
   "cell_type": "markdown",
   "id": "amazing-overall",
   "metadata": {},
   "source": [
    "# Compute intersections of everything returned by algorithms"
   ]
  },
  {
   "cell_type": "markdown",
   "id": "intimate-individual",
   "metadata": {},
   "source": [
    "This isn't completely fair as we have minimal sets with a reduced index, and this version of alevin likes to skip writing empty rows. Below is a bit more fair comparison where a reasonable expression filter was applied."
   ]
  },
  {
   "cell_type": "code",
   "execution_count": 24,
   "id": "declared-creature",
   "metadata": {},
   "outputs": [],
   "source": [
    "upset_barcode_contents = upsetplot.from_contents({\n",
    "    name: datasets[name].obs_names for name in datasets\n",
    "})\n",
    "f = pyplot.figure(dpi=100)\n",
    "f.suptitle(\"Cell Barcodes\")\n",
    "_ = upsetplot.plot(upset_barcode_contents, fig=f, show_counts=True)"
   ]
  },
  {
   "cell_type": "code",
   "execution_count": 25,
   "id": "athletic-silly",
   "metadata": {},
   "outputs": [],
   "source": [
    "upset_gene_contents = upsetplot.from_contents({\n",
    "    name: datasets[name].var_names for name in datasets\n",
    "})\n",
    "f = pyplot.figure(dpi=100)\n",
    "f.suptitle('Genes')\n",
    "_ = upsetplot.plot(upset_gene_contents, fig=f, show_counts=True)\n"
   ]
  },
  {
   "cell_type": "markdown",
   "id": "eight-sauce",
   "metadata": {},
   "source": [
    "# Compare intersections after applying filter"
   ]
  },
  {
   "cell_type": "markdown",
   "id": "tracked-vampire",
   "metadata": {},
   "source": [
    "Alevin tries to saves disk space by not writing out the full data matrix, so the comparison above is a bit unfair, as some of the genes or cells that kallisto wrote out might just be empty.\n",
    "\n",
    "So lets try filtering the matrix down like we did in our paper.\n",
    "\n",
    "For a cell to remain it has to have at least 1,000 genes expressed.\n",
    "For a gene to remain it must be expressed in at least 0.1% of the cells."
   ]
  },
  {
   "cell_type": "code",
   "execution_count": 26,
   "id": "occupational-oriental",
   "metadata": {},
   "outputs": [],
   "source": [
    "datasets_filtered = {\n",
    "    name: filter_combined_matrix(datasets[name]) for name in datasets\n",
    "}"
   ]
  },
  {
   "cell_type": "code",
   "execution_count": 27,
   "id": "different-animation",
   "metadata": {},
   "outputs": [],
   "source": [
    "upset_barcode_filtered = upsetplot.from_contents({\n",
    "    name: datasets_filtered[name].obs_names for name in datasets_filtered\n",
    "})\n",
    "f = pyplot.figure(dpi=100)\n",
    "f.suptitle(\"Cell Barcodes\")\n",
    "_ = upsetplot.plot(upset_barcode_filtered, fig=f, show_counts=True)"
   ]
  },
  {
   "cell_type": "code",
   "execution_count": 28,
   "id": "declared-atlanta",
   "metadata": {},
   "outputs": [],
   "source": [
    "upset_gene_filtered = upsetplot.from_contents({\n",
    "    name: datasets_filtered[name].var_names for name in datasets_filtered\n",
    "})\n",
    "f = pyplot.figure(dpi=100)\n",
    "f.suptitle('Genes')\n",
    "_ = upsetplot.plot(upset_gene_filtered, fig=f, show_counts=True)\n"
   ]
  },
  {
   "cell_type": "markdown",
   "id": "turned-knitting",
   "metadata": {},
   "source": [
    "Load in annotated GTF file so we can get to gene names."
   ]
  },
  {
   "cell_type": "code",
   "execution_count": 29,
   "id": "focal-typing",
   "metadata": {},
   "outputs": [
    {
     "data": {
      "text/html": [
       "<div>\n",
       "<style scoped>\n",
       "    .dataframe tbody tr th:only-of-type {\n",
       "        vertical-align: middle;\n",
       "    }\n",
       "\n",
       "    .dataframe tbody tr th {\n",
       "        vertical-align: top;\n",
       "    }\n",
       "\n",
       "    .dataframe thead th {\n",
       "        text-align: right;\n",
       "    }\n",
       "</style>\n",
       "<table border=\"1\" class=\"dataframe\">\n",
       "  <thead>\n",
       "    <tr style=\"text-align: right;\">\n",
       "      <th></th>\n",
       "      <th>chromosome</th>\n",
       "      <th>source</th>\n",
       "      <th>type</th>\n",
       "      <th>start</th>\n",
       "      <th>stop</th>\n",
       "      <th>score</th>\n",
       "      <th>strand</th>\n",
       "      <th>frame</th>\n",
       "      <th>gene_id</th>\n",
       "      <th>transcript_id</th>\n",
       "      <th>...</th>\n",
       "      <th>transcript_support_level</th>\n",
       "      <th>tag</th>\n",
       "      <th>havana_transcript</th>\n",
       "      <th>exon_number</th>\n",
       "      <th>exon_id</th>\n",
       "      <th>protein_id</th>\n",
       "      <th>ccdsid</th>\n",
       "      <th>ont</th>\n",
       "      <th>length</th>\n",
       "      <th>isoform_count</th>\n",
       "    </tr>\n",
       "  </thead>\n",
       "  <tbody>\n",
       "    <tr>\n",
       "      <th>0</th>\n",
       "      <td>chr1</td>\n",
       "      <td>ENSEMBL</td>\n",
       "      <td>tRNA</td>\n",
       "      <td>112349389</td>\n",
       "      <td>112349461</td>\n",
       "      <td>NaN</td>\n",
       "      <td>1</td>\n",
       "      <td>NaN</td>\n",
       "      <td>896</td>\n",
       "      <td>896</td>\n",
       "      <td>...</td>\n",
       "      <td>NaN</td>\n",
       "      <td>NaN</td>\n",
       "      <td>NaN</td>\n",
       "      <td>NaN</td>\n",
       "      <td>NaN</td>\n",
       "      <td>NaN</td>\n",
       "      <td>NaN</td>\n",
       "      <td>NaN</td>\n",
       "      <td>72</td>\n",
       "      <td>1</td>\n",
       "    </tr>\n",
       "    <tr>\n",
       "      <th>1</th>\n",
       "      <td>chr1</td>\n",
       "      <td>ENSEMBL</td>\n",
       "      <td>tRNA</td>\n",
       "      <td>112576185</td>\n",
       "      <td>112576260</td>\n",
       "      <td>NaN</td>\n",
       "      <td>-1</td>\n",
       "      <td>NaN</td>\n",
       "      <td>897</td>\n",
       "      <td>897</td>\n",
       "      <td>...</td>\n",
       "      <td>NaN</td>\n",
       "      <td>NaN</td>\n",
       "      <td>NaN</td>\n",
       "      <td>NaN</td>\n",
       "      <td>NaN</td>\n",
       "      <td>NaN</td>\n",
       "      <td>NaN</td>\n",
       "      <td>NaN</td>\n",
       "      <td>75</td>\n",
       "      <td>1</td>\n",
       "    </tr>\n",
       "    <tr>\n",
       "      <th>2</th>\n",
       "      <td>chr1</td>\n",
       "      <td>ENSEMBL</td>\n",
       "      <td>tRNA</td>\n",
       "      <td>32624825</td>\n",
       "      <td>32624895</td>\n",
       "      <td>NaN</td>\n",
       "      <td>1</td>\n",
       "      <td>NaN</td>\n",
       "      <td>1275</td>\n",
       "      <td>1275</td>\n",
       "      <td>...</td>\n",
       "      <td>NaN</td>\n",
       "      <td>NaN</td>\n",
       "      <td>NaN</td>\n",
       "      <td>NaN</td>\n",
       "      <td>NaN</td>\n",
       "      <td>NaN</td>\n",
       "      <td>NaN</td>\n",
       "      <td>NaN</td>\n",
       "      <td>70</td>\n",
       "      <td>1</td>\n",
       "    </tr>\n",
       "    <tr>\n",
       "      <th>3</th>\n",
       "      <td>chr1</td>\n",
       "      <td>ENSEMBL</td>\n",
       "      <td>tRNA</td>\n",
       "      <td>167276215</td>\n",
       "      <td>167276287</td>\n",
       "      <td>NaN</td>\n",
       "      <td>1</td>\n",
       "      <td>NaN</td>\n",
       "      <td>1914</td>\n",
       "      <td>1914</td>\n",
       "      <td>...</td>\n",
       "      <td>NaN</td>\n",
       "      <td>NaN</td>\n",
       "      <td>NaN</td>\n",
       "      <td>NaN</td>\n",
       "      <td>NaN</td>\n",
       "      <td>NaN</td>\n",
       "      <td>NaN</td>\n",
       "      <td>NaN</td>\n",
       "      <td>72</td>\n",
       "      <td>1</td>\n",
       "    </tr>\n",
       "    <tr>\n",
       "      <th>4</th>\n",
       "      <td>chr1</td>\n",
       "      <td>ENSEMBL</td>\n",
       "      <td>tRNA</td>\n",
       "      <td>167323285</td>\n",
       "      <td>167323359</td>\n",
       "      <td>NaN</td>\n",
       "      <td>1</td>\n",
       "      <td>NaN</td>\n",
       "      <td>1915</td>\n",
       "      <td>1915</td>\n",
       "      <td>...</td>\n",
       "      <td>NaN</td>\n",
       "      <td>NaN</td>\n",
       "      <td>NaN</td>\n",
       "      <td>NaN</td>\n",
       "      <td>NaN</td>\n",
       "      <td>NaN</td>\n",
       "      <td>NaN</td>\n",
       "      <td>NaN</td>\n",
       "      <td>74</td>\n",
       "      <td>1</td>\n",
       "    </tr>\n",
       "  </tbody>\n",
       "</table>\n",
       "<p>5 rows × 26 columns</p>\n",
       "</div>"
      ],
      "text/plain": [
       "  chromosome   source  type      start       stop  score  strand  frame  \\\n",
       "0       chr1  ENSEMBL  tRNA  112349389  112349461    NaN       1    NaN   \n",
       "1       chr1  ENSEMBL  tRNA  112576185  112576260    NaN      -1    NaN   \n",
       "2       chr1  ENSEMBL  tRNA   32624825   32624895    NaN       1    NaN   \n",
       "3       chr1  ENSEMBL  tRNA  167276215  167276287    NaN       1    NaN   \n",
       "4       chr1  ENSEMBL  tRNA  167323285  167323359    NaN       1    NaN   \n",
       "\n",
       "  gene_id transcript_id  ... transcript_support_level  tag havana_transcript  \\\n",
       "0     896           896  ...                      NaN  NaN               NaN   \n",
       "1     897           897  ...                      NaN  NaN               NaN   \n",
       "2    1275          1275  ...                      NaN  NaN               NaN   \n",
       "3    1914          1914  ...                      NaN  NaN               NaN   \n",
       "4    1915          1915  ...                      NaN  NaN               NaN   \n",
       "\n",
       "  exon_number  exon_id protein_id ccdsid  ont length  isoform_count  \n",
       "0         NaN      NaN        NaN    NaN  NaN     72              1  \n",
       "1         NaN      NaN        NaN    NaN  NaN     75              1  \n",
       "2         NaN      NaN        NaN    NaN  NaN     70              1  \n",
       "3         NaN      NaN        NaN    NaN  NaN     72              1  \n",
       "4         NaN      NaN        NaN    NaN  NaN     74              1  \n",
       "\n",
       "[5 rows x 26 columns]"
      ]
     },
     "execution_count": 29,
     "metadata": {},
     "output_type": "execute_result"
    }
   ],
   "source": [
    "mm10_store = pandas.HDFStore(Path('~/proj/genome/mm10-M21-male/mm10-M21-male.h5').expanduser())\n",
    "mm10_gtf = mm10_store[list(mm10_store.keys())[0]]\n",
    "mm10_store.close()\n",
    "mm10_gtf['length'] = mm10_gtf['stop'] - mm10_gtf['start']\n",
    "isoform_count = mm10_gtf[mm10_gtf['type'] == 'transcript'][['gene_id', 'transcript_id']].groupby('gene_id').count()['transcript_id'].to_dict()\n",
    "mm10_gtf['isoform_count'] = mm10_gtf['gene_id'].apply(lambda x: isoform_count.get(x, 1))\n",
    "mm10_gtf.head()"
   ]
  },
  {
   "cell_type": "code",
   "execution_count": 30,
   "id": "straight-plain",
   "metadata": {},
   "outputs": [],
   "source": [
    "mm10_genes = mm10_gtf[mm10_gtf['type'].isin(('gene', 'tRNA', 'spikein'))]"
   ]
  },
  {
   "cell_type": "markdown",
   "id": "roman-yugoslavia",
   "metadata": {},
   "source": [
    "Is there anything obviously interesting about the genes only detected by Kallisto?"
   ]
  },
  {
   "cell_type": "code",
   "execution_count": 31,
   "id": "natural-journalism",
   "metadata": {},
   "outputs": [
    {
     "name": "stderr",
     "output_type": "stream",
     "text": [
      "<ipython-input-31-13f9b27cd4be>:1: PerformanceWarning: indexing past lexsort depth may impact performance.\n",
      "  annotated_kallisto_family_only = mm10_genes[mm10_genes['gene_id'].isin(upset_gene_filtered.loc[(True,False,True,False,False,False)]['id'])][['gene_id', 'gene_name', 'gene_type', 'length', 'isoform_count']]\n"
     ]
    },
    {
     "data": {
      "text/html": [
       "<div>\n",
       "<style scoped>\n",
       "    .dataframe tbody tr th:only-of-type {\n",
       "        vertical-align: middle;\n",
       "    }\n",
       "\n",
       "    .dataframe tbody tr th {\n",
       "        vertical-align: top;\n",
       "    }\n",
       "\n",
       "    .dataframe thead th {\n",
       "        text-align: right;\n",
       "    }\n",
       "</style>\n",
       "<table border=\"1\" class=\"dataframe\">\n",
       "  <thead>\n",
       "    <tr style=\"text-align: right;\">\n",
       "      <th></th>\n",
       "      <th>gene_id</th>\n",
       "      <th>gene_name</th>\n",
       "      <th>gene_type</th>\n",
       "      <th>length</th>\n",
       "      <th>isoform_count</th>\n",
       "    </tr>\n",
       "  </thead>\n",
       "  <tbody>\n",
       "    <tr>\n",
       "      <th>26254</th>\n",
       "      <td>ENSMUSG00000051951.5</td>\n",
       "      <td>Xkr4</td>\n",
       "      <td>protein_coding</td>\n",
       "      <td>465597</td>\n",
       "      <td>3</td>\n",
       "    </tr>\n",
       "    <tr>\n",
       "      <th>26310</th>\n",
       "      <td>ENSMUSG00000102343.1</td>\n",
       "      <td>Gm37381</td>\n",
       "      <td>lincRNA</td>\n",
       "      <td>80476</td>\n",
       "      <td>2</td>\n",
       "    </tr>\n",
       "    <tr>\n",
       "      <th>26522</th>\n",
       "      <td>ENSMUSG00000104328.1</td>\n",
       "      <td>Gm37323</td>\n",
       "      <td>lincRNA</td>\n",
       "      <td>3123</td>\n",
       "      <td>1</td>\n",
       "    </tr>\n",
       "    <tr>\n",
       "      <th>26930</th>\n",
       "      <td>ENSMUSG00000085623.1</td>\n",
       "      <td>Gm16041</td>\n",
       "      <td>antisense</td>\n",
       "      <td>5963</td>\n",
       "      <td>1</td>\n",
       "    </tr>\n",
       "    <tr>\n",
       "      <th>27939</th>\n",
       "      <td>ENSMUSG00000103067.1</td>\n",
       "      <td>Gm30414</td>\n",
       "      <td>lincRNA</td>\n",
       "      <td>20181</td>\n",
       "      <td>1</td>\n",
       "    </tr>\n",
       "    <tr>\n",
       "      <th>...</th>\n",
       "      <td>...</td>\n",
       "      <td>...</td>\n",
       "      <td>...</td>\n",
       "      <td>...</td>\n",
       "      <td>...</td>\n",
       "    </tr>\n",
       "    <tr>\n",
       "      <th>1864586</th>\n",
       "      <td>ENSMUSG00000055357.8</td>\n",
       "      <td>4933400A11Rik</td>\n",
       "      <td>protein_coding</td>\n",
       "      <td>3378</td>\n",
       "      <td>3</td>\n",
       "    </tr>\n",
       "    <tr>\n",
       "      <th>1864622</th>\n",
       "      <td>ENSMUSG00000087263.1</td>\n",
       "      <td>Gm15726</td>\n",
       "      <td>antisense</td>\n",
       "      <td>6185</td>\n",
       "      <td>1</td>\n",
       "    </tr>\n",
       "    <tr>\n",
       "      <th>1864768</th>\n",
       "      <td>ENSMUSG00000069053.11</td>\n",
       "      <td>Uba1y</td>\n",
       "      <td>protein_coding</td>\n",
       "      <td>25575</td>\n",
       "      <td>2</td>\n",
       "    </tr>\n",
       "    <tr>\n",
       "      <th>1864885</th>\n",
       "      <td>ENSMUSG00000101107.1</td>\n",
       "      <td>Gm28587</td>\n",
       "      <td>lincRNA</td>\n",
       "      <td>3600</td>\n",
       "      <td>1</td>\n",
       "    </tr>\n",
       "    <tr>\n",
       "      <th>1878549</th>\n",
       "      <td>ENSMUSG00000079808.3</td>\n",
       "      <td>AC168977.1</td>\n",
       "      <td>protein_coding</td>\n",
       "      <td>21897</td>\n",
       "      <td>1</td>\n",
       "    </tr>\n",
       "  </tbody>\n",
       "</table>\n",
       "<p>2943 rows × 5 columns</p>\n",
       "</div>"
      ],
      "text/plain": [
       "                       gene_id      gene_name       gene_type  length  \\\n",
       "26254     ENSMUSG00000051951.5           Xkr4  protein_coding  465597   \n",
       "26310     ENSMUSG00000102343.1        Gm37381         lincRNA   80476   \n",
       "26522     ENSMUSG00000104328.1        Gm37323         lincRNA    3123   \n",
       "26930     ENSMUSG00000085623.1        Gm16041       antisense    5963   \n",
       "27939     ENSMUSG00000103067.1        Gm30414         lincRNA   20181   \n",
       "...                        ...            ...             ...     ...   \n",
       "1864586   ENSMUSG00000055357.8  4933400A11Rik  protein_coding    3378   \n",
       "1864622   ENSMUSG00000087263.1        Gm15726       antisense    6185   \n",
       "1864768  ENSMUSG00000069053.11          Uba1y  protein_coding   25575   \n",
       "1864885   ENSMUSG00000101107.1        Gm28587         lincRNA    3600   \n",
       "1878549   ENSMUSG00000079808.3     AC168977.1  protein_coding   21897   \n",
       "\n",
       "         isoform_count  \n",
       "26254                3  \n",
       "26310                2  \n",
       "26522                1  \n",
       "26930                1  \n",
       "27939                1  \n",
       "...                ...  \n",
       "1864586              3  \n",
       "1864622              1  \n",
       "1864768              2  \n",
       "1864885              1  \n",
       "1878549              1  \n",
       "\n",
       "[2943 rows x 5 columns]"
      ]
     },
     "execution_count": 31,
     "metadata": {},
     "output_type": "execute_result"
    }
   ],
   "source": [
    "annotated_kallisto_family_only = mm10_genes[mm10_genes['gene_id'].isin(upset_gene_filtered.loc[(True,False,True,False,False,False)]['id'])][['gene_id', 'gene_name', 'gene_type', 'length', 'isoform_count']]\n",
    "annotated_kallisto_family_only"
   ]
  },
  {
   "cell_type": "code",
   "execution_count": 32,
   "id": "smart-white",
   "metadata": {},
   "outputs": [],
   "source": [
    "c1_root = Path('c1_pseudo')\n",
    "c1_counts = scanpy.read_h5ad(c1_root / 'rsem_gene_counts.h5ad')"
   ]
  },
  {
   "cell_type": "markdown",
   "id": "fourth-pencil",
   "metadata": {},
   "source": [
    "(Double check we have the right annotation on the C1 file. it should have the same 81,881 genes as the kallisto matrix"
   ]
  },
  {
   "cell_type": "code",
   "execution_count": 33,
   "id": "peripheral-cathedral",
   "metadata": {},
   "outputs": [
    {
     "data": {
      "text/plain": [
       "(81881,)"
      ]
     },
     "execution_count": 33,
     "metadata": {},
     "output_type": "execute_result"
    }
   ],
   "source": [
    "numpy.intersect1d(c1_counts.var_names, mm10_gtf['gene_id']).shape"
   ]
  },
  {
   "cell_type": "code",
   "execution_count": 34,
   "id": "rotary-convention",
   "metadata": {},
   "outputs": [],
   "source": [
    "c1_filtered = filter_combined_matrix(c1_counts)"
   ]
  },
  {
   "cell_type": "markdown",
   "id": "unlike-intranet",
   "metadata": {},
   "source": [
    "## Compare 10x kallisto and alevin genes detected to C1 RSEM"
   ]
  },
  {
   "cell_type": "code",
   "execution_count": 35,
   "id": "entertaining-russia",
   "metadata": {},
   "outputs": [],
   "source": [
    "upset_gene_var_names = {\n",
    "    name: datasets_filtered[name].var_names for name in datasets_filtered\n",
    "}\n",
    "upset_gene_var_names['C1 filtered'] = c1_filtered.var_names\n",
    "upset_gene_filtered = upsetplot.from_contents(upset_gene_var_names)\n",
    "f = pyplot.figure(dpi=100)\n",
    "f.suptitle('Genes')\n",
    "_ = upsetplot.plot(upset_gene_filtered, fig=f, show_counts=True)\n"
   ]
  },
  {
   "cell_type": "markdown",
   "id": "adequate-basis",
   "metadata": {},
   "source": [
    "So what can we tell from that ugly plot.\n",
    "\n",
    "there's 2,652 genes that are shared among the non-minimal sets... which is fine It makes sense we're ignoring some genes when using a the smaller index.\n",
    "\n",
    "In the upset plot without the C1 data there's 2,944 genes that are specific to kallisto & kallisto EM. It looks like the majority of those are shared with C1 at 2,321 in common. There were 3,138 in the Kallisto (EM) set and here 2,334 of those are shared with the C1.\n",
    "\n",
    "There's still 24,412 genes that are specific to the C1 matrix.\n",
    "\n",
    "It's worth while noticing there's no \"Alevin decoy\" / C1 only intersection."
   ]
  },
  {
   "cell_type": "code",
   "execution_count": 36,
   "id": "competitive-silicon",
   "metadata": {},
   "outputs": [],
   "source": [
    "paper = scanpy.read_h5ad(\"../C1_mouse_limb_combined/monocle/200120_10x.h5ad\")"
   ]
  },
  {
   "cell_type": "code",
   "execution_count": 37,
   "id": "piano-intensity",
   "metadata": {},
   "outputs": [],
   "source": [
    "upset_paper_var_names = {}\n",
    "for dataset_name in datasets_filtered:\n",
    "    upset_paper_var_names[dataset_name] = [x.split('.')[0] for x in datasets_filtered[dataset_name].var_names]\n",
    "#upset_paper_var_names['C1 filtered'] = [x.split('.')[0] for x in c1_filtered.var_names]\n",
    "upset_paper_var_names['Cellranger (M4)'] = [x.split('.')[0] for x in paper.var['gene_id']]\n",
    "upset_paper_filtered = upsetplot.from_contents(upset_paper_var_names)\n",
    "f = pyplot.figure(dpi=100)\n",
    "f.suptitle('Genes')\n",
    "_ = upsetplot.plot(upset_paper_filtered, fig=f, show_counts=True)\n"
   ]
  },
  {
   "cell_type": "code",
   "execution_count": 38,
   "id": "complex-simple",
   "metadata": {},
   "outputs": [
    {
     "data": {
      "text/plain": [
       "Index(['limb12_13_0AAACCTGAGATCGATA_1', 'limb12_13_0AAACCTGAGATGAGAG_1',\n",
       "       'limb12_13_0AAACCTGAGCAGATCG_1', 'limb12_13_0AAACCTGAGCGATCCC_1',\n",
       "       'limb12_13_0AAACCTGAGTGTACCT_1', 'limb12_13_0AAACCTGAGTTGTAGA_1',\n",
       "       'limb12_13_0AAACCTGCAAGTTAAG_1', 'limb12_13_0AAACCTGCAATCCGAT_1',\n",
       "       'limb12_13_0AAACCTGCACAAGCCC_1', 'limb12_13_0AAACCTGCACGTAAGG_1',\n",
       "       ...\n",
       "       'limb8_15_0TTTGTCACAGCCTTTC_1', 'limb8_15_0TTTGTCACAGGCTCAC_1',\n",
       "       'limb8_15_0TTTGTCACATATACGC_1', 'limb8_15_0TTTGTCAGTCCAGTAT_1',\n",
       "       'limb8_15_0TTTGTCAGTCGAACAG_1', 'limb8_15_0TTTGTCAGTCGAGTTT_1',\n",
       "       'limb8_15_0TTTGTCAGTTATTCTC_1', 'limb8_15_0TTTGTCAGTTCCGGCA_1',\n",
       "       'limb8_15_0TTTGTCATCGTTGCCT_1', 'limb8_15_0TTTGTCATCTGTCTCG_1'],\n",
       "      dtype='object', name='index', length=90637)"
      ]
     },
     "execution_count": 38,
     "metadata": {},
     "output_type": "execute_result"
    }
   ],
   "source": [
    "paper.obs_names"
   ]
  },
  {
   "cell_type": "code",
   "execution_count": 39,
   "id": "convinced-information",
   "metadata": {},
   "outputs": [
    {
     "data": {
      "text/plain": [
       "{'limb12_13_0',\n",
       " 'limb13_14_0',\n",
       " 'limb1_13_5',\n",
       " 'limb3_11_0',\n",
       " 'limb4_12_0',\n",
       " 'limb5_13_0',\n",
       " 'limb6_15_0',\n",
       " 'limb7_10_5',\n",
       " 'limb8_15_0'}"
      ]
     },
     "execution_count": 39,
     "metadata": {},
     "output_type": "execute_result"
    }
   ],
   "source": [
    "set([x[:-18] for x in paper.obs_names])"
   ]
  },
  {
   "cell_type": "code",
   "execution_count": 40,
   "id": "hired-rapid",
   "metadata": {},
   "outputs": [],
   "source": [
    "def translate_paper_barcode_names(obs_names):\n",
    "    mapping = {\n",
    "        'limb12_13_0': '10x-12-',\n",
    "        'limb13_14_0': '10x-13-',\n",
    "        'limb1_13_5': '10x-1-',\n",
    "        'limb3_11_0': '10x-3-',\n",
    "        'limb4_12_0': '10x-4-',\n",
    "        'limb5_13_0': '10x-5-',\n",
    "        'limb6_15_0': '10x-6-',\n",
    "        'limb7_10_5': '10x-7-',\n",
    "        'limb8_15_0': '10x-8-',\n",
    "    }\n",
    "    for name in obs_names:\n",
    "        prefix = name[:-18]\n",
    "        barcode = name[-18:-2]\n",
    "        yield mapping[prefix] + barcode"
   ]
  },
  {
   "cell_type": "code",
   "execution_count": 41,
   "id": "distributed-ethics",
   "metadata": {},
   "outputs": [
    {
     "data": {
      "text/plain": [
       "['10x-12-AAACCTGCACAAGCCC', '10x-8-TTTGTCATCGTTGCCT']"
      ]
     },
     "execution_count": 41,
     "metadata": {},
     "output_type": "execute_result"
    }
   ],
   "source": [
    "list(translate_paper_barcode_names(['limb12_13_0AAACCTGCACAAGCCC_1', 'limb8_15_0TTTGTCATCGTTGCCT_1']))"
   ]
  },
  {
   "cell_type": "code",
   "execution_count": 42,
   "id": "pretty-sweet",
   "metadata": {},
   "outputs": [],
   "source": [
    "upset_paper_obs_names = {}\n",
    "for dataset_name in datasets_filtered:\n",
    "    upset_paper_obs_names[dataset_name] = datasets_filtered[dataset_name].obs_names\n",
    "upset_paper_obs_names['Paper'] = translate_paper_barcode_names(paper.obs_names)\n",
    "upset_paper_barcodes_filtered = upsetplot.from_contents(upset_paper_obs_names)\n",
    "f = pyplot.figure(dpi=100)\n",
    "f.suptitle('Cells')\n",
    "_ = upsetplot.plot(upset_paper_barcodes_filtered, fig=f, show_counts=True)\n"
   ]
  },
  {
   "cell_type": "markdown",
   "id": "changed-trouble",
   "metadata": {},
   "source": [
    "## Compare Alevin to C1\n",
    "\n",
    "(With the light filtering to limit it to expressed genes)"
   ]
  },
  {
   "cell_type": "code",
   "execution_count": 43,
   "id": "resistant-auckland",
   "metadata": {},
   "outputs": [],
   "source": [
    "f = pyplot.figure(dpi=100)\n",
    "f.suptitle('Genes')\n",
    "_ = upsetplot.plot(upsetplot.from_contents({\n",
    "    'Alevin': datasets_filtered['Alevin'].var_names,\n",
    "    'C1 filtered': c1_filtered.var_names,\n",
    "}), fig=f, show_counts=True)\n"
   ]
  },
  {
   "cell_type": "markdown",
   "id": "sapphire-committee",
   "metadata": {},
   "source": [
    "## Plot comparing 10x Kallisto (EM) to C1 filtered"
   ]
  },
  {
   "cell_type": "code",
   "execution_count": 44,
   "id": "equal-intensity",
   "metadata": {},
   "outputs": [],
   "source": [
    "f = pyplot.figure(dpi=100)\n",
    "f.suptitle('Genes')\n",
    "_ = upsetplot.plot(upsetplot.from_contents({\n",
    "    'Kallisto (EM)': datasets_filtered['Kallisto (EM)'].var_names,\n",
    "    'C1 filtered': c1_filtered.var_names,\n",
    "}), fig=f, show_counts=True)\n"
   ]
  },
  {
   "cell_type": "markdown",
   "id": "younger-favorite",
   "metadata": {},
   "source": [
    "# What's the expression levels for 10x genes found by just kallisto?"
   ]
  },
  {
   "cell_type": "code",
   "execution_count": 45,
   "id": "stable-citizen",
   "metadata": {},
   "outputs": [],
   "source": [
    "def plot_detection(datasets, gene_ids, title):\n",
    "    libraries = {}\n",
    "    for name in datasets:\n",
    "        d = datasets[name]\n",
    "        common_genes = numpy.intersect1d(d.var_names, gene_ids)\n",
    "        libraries[name] = d[:,common_genes].to_df().sum()\n",
    "        #libraries[name] = array\n",
    "\n",
    "    libraries = pandas.DataFrame(libraries)\n",
    "    bins = bin_library_quantification(libraries, 'counts')\n",
    "    f = plot_gene_detection_histogram(bins, title)\n",
    "    return f"
   ]
  },
  {
   "cell_type": "code",
   "execution_count": 46,
   "id": "cultural-surge",
   "metadata": {},
   "outputs": [],
   "source": [
    "f = plot_detection(datasets, annotated_kallisto_family_only['gene_id'], 'Kallisto family passed expression threshold')"
   ]
  },
  {
   "cell_type": "code",
   "execution_count": 47,
   "id": "sporting-region",
   "metadata": {},
   "outputs": [
    {
     "name": "stderr",
     "output_type": "stream",
     "text": [
      "<ipython-input-47-417b6a4ded05>:1: PerformanceWarning: indexing past lexsort depth may impact performance.\n",
      "  c1_and_kallisto = upset_gene_filtered.loc[False,False,True,False,False,False,True]\n"
     ]
    }
   ],
   "source": [
    "c1_and_kallisto = upset_gene_filtered.loc[False,False,True,False,False,False,True]"
   ]
  },
  {
   "cell_type": "code",
   "execution_count": 48,
   "id": "automotive-cutting",
   "metadata": {},
   "outputs": [],
   "source": [
    "f = plot_detection(datasets, c1_and_kallisto['id'], 'C1 & Kallisto EM')"
   ]
  },
  {
   "cell_type": "code",
   "execution_count": 49,
   "id": "another-funeral",
   "metadata": {},
   "outputs": [],
   "source": [
    "f = plot_detection(datasets, mm10_genes['gene_id'], 'All genes')"
   ]
  },
  {
   "cell_type": "code",
   "execution_count": 50,
   "id": "steady-vector",
   "metadata": {},
   "outputs": [],
   "source": [
    "datasets_scaled = {\n",
    "    name: datasets_filtered[name].copy() for name in datasets_filtered\n",
    "}"
   ]
  },
  {
   "cell_type": "code",
   "execution_count": 51,
   "id": "freelance-transition",
   "metadata": {},
   "outputs": [],
   "source": [
    "for k in datasets_scaled:\n",
    "    scanpy.pp.scale(datasets_scaled[k])"
   ]
  },
  {
   "cell_type": "code",
   "execution_count": 52,
   "id": "civic-canal",
   "metadata": {},
   "outputs": [],
   "source": [
    "f = plot_detection(datasets_scaled, mm10_genes['gene_id'], 'All genes scanpy scaled')"
   ]
  },
  {
   "cell_type": "code",
   "execution_count": 53,
   "id": "cutting-peace",
   "metadata": {},
   "outputs": [],
   "source": [
    "for k in datasets_scaled:\n",
    "    scanpy.tl.pca(datasets_scaled[k], svd_solver='arpack')\n"
   ]
  },
  {
   "cell_type": "code",
   "execution_count": null,
   "id": "south-proportion",
   "metadata": {},
   "outputs": [],
   "source": []
  },
  {
   "cell_type": "code",
   "execution_count": 54,
   "id": "requested-start",
   "metadata": {},
   "outputs": [],
   "source": [
    "scanpy.pl.pca(datasets_scaled['Kallisto (EM)'])"
   ]
  },
  {
   "cell_type": "code",
   "execution_count": 55,
   "id": "answering-mining",
   "metadata": {},
   "outputs": [],
   "source": [
    "scanpy.pl.pca_variance_ratio(datasets_scaled['Kallisto (EM)'], log=True)"
   ]
  },
  {
   "cell_type": "code",
   "execution_count": 56,
   "id": "former-story",
   "metadata": {},
   "outputs": [],
   "source": [
    "scanpy.pp.neighbors(datasets_scaled['Kallisto (EM)'])   #, n_neighbors=10, n_pcs=40)"
   ]
  },
  {
   "cell_type": "code",
   "execution_count": 57,
   "id": "colonial-mount",
   "metadata": {},
   "outputs": [],
   "source": [
    "scanpy.tl.umap(datasets_scaled['Kallisto (EM)'])"
   ]
  },
  {
   "cell_type": "code",
   "execution_count": 58,
   "id": "studied-fruit",
   "metadata": {},
   "outputs": [],
   "source": [
    "scanpy.tl.leiden(datasets_scaled['Kallisto (EM)'])"
   ]
  },
  {
   "cell_type": "code",
   "execution_count": 59,
   "id": "frank-implementation",
   "metadata": {},
   "outputs": [
    {
     "data": {
      "text/plain": [
       "AnnData object with n_obs × n_vars = 84512 × 25570\n",
       "    obs: 'counts', 'ngenes', 'leiden'\n",
       "    var: 'mean', 'std'\n",
       "    uns: 'pca', 'neighbors', 'umap', 'leiden'\n",
       "    obsm: 'X_pca', 'X_umap'\n",
       "    varm: 'expressed_in', 'PCs'\n",
       "    obsp: 'distances', 'connectivities'"
      ]
     },
     "execution_count": 59,
     "metadata": {},
     "output_type": "execute_result"
    }
   ],
   "source": [
    "datasets_scaled['Kallisto (EM)']"
   ]
  },
  {
   "cell_type": "code",
   "execution_count": 60,
   "id": "minor-array",
   "metadata": {},
   "outputs": [],
   "source": [
    "scanpy.pl.umap(datasets_scaled['Kallisto (EM)'], color=['leiden'])"
   ]
  },
  {
   "cell_type": "code",
   "execution_count": null,
   "id": "defensive-launch",
   "metadata": {},
   "outputs": [],
   "source": []
  }
 ],
 "metadata": {
  "kernelspec": {
   "display_name": "Python 3",
   "language": "python",
   "name": "python3"
  },
  "language_info": {
   "codemirror_mode": {
    "name": "ipython",
    "version": 3
   },
   "file_extension": ".py",
   "mimetype": "text/x-python",
   "name": "python",
   "nbconvert_exporter": "python",
   "pygments_lexer": "ipython3",
   "version": "3.9.1+"
  }
 },
 "nbformat": 4,
 "nbformat_minor": 5
}
