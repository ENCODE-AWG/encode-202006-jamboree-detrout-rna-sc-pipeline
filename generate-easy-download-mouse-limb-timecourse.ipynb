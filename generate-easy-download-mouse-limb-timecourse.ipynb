{
 "cells": [
  {
   "cell_type": "code",
   "execution_count": null,
   "id": "chinese-breach",
   "metadata": {},
   "outputs": [],
   "source": []
  },
  {
   "cell_type": "code",
   "execution_count": null,
   "id": "historic-palace",
   "metadata": {},
   "outputs": [],
   "source": []
  },
  {
   "cell_type": "code",
   "execution_count": 1,
   "id": "global-expense",
   "metadata": {},
   "outputs": [],
   "source": [
    "import pandas\n",
    "import requests\n",
    "import scipy\n",
    "import os\n",
    "import sys\n",
    "import numpy\n",
    "from pathlib import Path\n",
    "import requests\n",
    "from matplotlib import pyplot, cm "
   ]
  },
  {
   "cell_type": "code",
   "execution_count": 2,
   "id": "continuous-separate",
   "metadata": {},
   "outputs": [],
   "source": [
    "HTSW = os.path.expanduser('~diane/proj/htsworkflow')\n",
    "if HTSW not in sys.path:\n",
    "    sys.path.append(HTSW)\n",
    "from htsworkflow.submission.encoded import ENCODED"
   ]
  },
  {
   "cell_type": "code",
   "execution_count": 3,
   "id": "molecular-genre",
   "metadata": {},
   "outputs": [],
   "source": [
    "server = ENCODED('www.encodeproject.org')\n",
    "server.load_netrc()"
   ]
  },
  {
   "cell_type": "code",
   "execution_count": 8,
   "id": "essential-roots",
   "metadata": {},
   "outputs": [],
   "source": [
    "def lookup_experiment(experiment_id):\n",
    "    experiment = server.get_json(experiment_id)\n",
    "    for replicate in experiment['replicates']:\n",
    "        library = replicate['library']\n",
    "        if 'aliases' not in library:\n",
    "            library = server.get_json(replicate['library'])\n",
    "\n",
    "        print(\"#\", experiment['accession'], experiment['description'])\n",
    "        for f in experiment['files']:\n",
    "            if f['file_type'] == 'fastq':\n",
    "                print('\"https://www.encodeproject.org{href}\",\"{filename}\"'.format(href=f['href'], filename=f['submitted_file_name']))\n",
    "        "
   ]
  },
  {
   "cell_type": "code",
   "execution_count": 9,
   "id": "skilled-render",
   "metadata": {},
   "outputs": [
    {
     "name": "stdout",
     "output_type": "stream",
     "text": [
      "# ENCSR787QXE 10X Genomics Chromium 3' single-cell RNA-Seq (version 2 kit) that was sequenced in PE151 format.  They are from monocellular suspensions of 8,000 dispersed embryonic limb buds.\n",
      "\"https://www.encodeproject.org/files/ENCFF665DKW/@@download/ENCFF665DKW.fastq.gz\",\"wold10x_1_e13_5_mouse_limb_S3_L008_R2_001.fastq.gz\"\n",
      "\"https://www.encodeproject.org/files/ENCFF093KXG/@@download/ENCFF093KXG.fastq.gz\",\"wold10x_1_e13_5_mouse_limb_S2_L008_R2_001.fastq.gz\"\n",
      "\"https://www.encodeproject.org/files/ENCFF321GGP/@@download/ENCFF321GGP.fastq.gz\",\"wold10x_1_e13_5_mouse_limb_S3_L008_R1_001.fastq.gz\"\n",
      "\"https://www.encodeproject.org/files/ENCFF817GKI/@@download/ENCFF817GKI.fastq.gz\",\"wold10x_1_e13_5_mouse_limb_S1_L008_R1_001.fastq.gz\"\n",
      "\"https://www.encodeproject.org/files/ENCFF820VIA/@@download/ENCFF820VIA.fastq.gz\",\"wold10x_1_e13_5_mouse_limb_S1_L008_R2_001.fastq.gz\"\n",
      "\"https://www.encodeproject.org/files/ENCFF947WRU/@@download/ENCFF947WRU.fastq.gz\",\"wold10x_1_e13_5_mouse_limb_S2_L008_R1_001.fastq.gz\"\n",
      "\"https://www.encodeproject.org/files/ENCFF951GHL/@@download/ENCFF951GHL.fastq.gz\",\"wold10x_1_e13_5_mouse_limb_S4_L008_R1_001.fastq.gz\"\n",
      "\"https://www.encodeproject.org/files/ENCFF665SYG/@@download/ENCFF665SYG.fastq.gz\",\"wold10x_1_e13_5_mouse_limb_S4_L008_R2_001.fastq.gz\"\n",
      "# ENCSR642XVO 10X Genomics Chromium 3' single-cell RNA-Seq (v2 kit) of C57Bl6 wild-type 11.0 day embryonic mouse forelimb\n",
      "\"https://www.encodeproject.org/files/ENCFF635ZQE/@@download/ENCFF635ZQE.fastq.gz\",\"SE731_new/outs/fastq_path/Wold10x-3_S1_L001_R1_001.fastq.gz\"\n",
      "\"https://www.encodeproject.org/files/ENCFF301CXO/@@download/ENCFF301CXO.fastq.gz\",\"SE731_new/outs/fastq_path/Wold10x-3_S1_L001_R2_001.fastq.gz\"\n",
      "# ENCSR745DNK 10X Genomics Chromium 3' single-cell RNA-Seq (v2 kit) of C57Bl6 wild-type 12.0 day embryonic mouse forelimb\n",
      "\"https://www.encodeproject.org/files/ENCFF608GWY/@@download/ENCFF608GWY.fastq.gz\",\"SE732_new/outs/fastq_path/Wold10x-4_S1_L002_R2_001.fastq.gz\"\n",
      "\"https://www.encodeproject.org/files/ENCFF875QKS/@@download/ENCFF875QKS.fastq.gz\",\"SE732_new/outs/fastq_path/Wold10x-4_S1_L002_R1_001.fastq.gz\"\n",
      "# ENCSR476JWN 10X Genomics Chromium 3' single-cell RNA-Seq (v2 kit) of C57Bl6 wild-type 13.0 day embryonic mouse forelimb\n",
      "\"https://www.encodeproject.org/files/ENCFF190PWV/@@download/ENCFF190PWV.fastq.gz\",\"SE733/outs/fastq_path/Wold10x-5_S1_L003_R1_001.fastq.gz\"\n",
      "\"https://www.encodeproject.org/files/ENCFF065KAC/@@download/ENCFF065KAC.fastq.gz\",\"SE733/outs/fastq_path/Wold10x-5_S1_L003_R2_001.fastq.gz\"\n",
      "# ENCSR337QTQ 10X Genomics Chromium 3' single-cell RNA-Seq (v2 kit) of C57Bl6 wild-type 15.0 day embryonic mouse forelimb\n",
      "\"https://www.encodeproject.org/files/ENCFF818XJI/@@download/ENCFF818XJI.fastq.gz\",\"SE734/outs/fastq_path/Wold10x-6_S1_L004_R1_001.fastq.gz\"\n",
      "\"https://www.encodeproject.org/files/ENCFF167JPD/@@download/ENCFF167JPD.fastq.gz\",\"SE734/outs/fastq_path/Wold10x-6_S1_L004_R2_001.fastq.gz\"\n",
      "# ENCSR874BOF 10X Genomics Chromium 3' single-cell RNA-Seq (v2 kit) of C57Bl6 wild-type 10.5 day embryonic mouse forelimb\n",
      "\"https://www.encodeproject.org/files/ENCFF294PZE/@@download/ENCFF294PZE.fastq.gz\",\"FT-BB01669/FT-SA17497_FT-TS92801/FT-SA17497_S1_L004_R1_001.fastq.gz\"\n",
      "\"https://www.encodeproject.org/files/ENCFF111ISS/@@download/ENCFF111ISS.fastq.gz\",\"FT-BB01669/FT-SA17497_FT-TS92801/FT-SA17497_S1_L004_R2_001.fastq.gz\"\n",
      "# ENCSR156HHE 10X Genomics Chromium 3' single-cell RNA-Seq (v2 kit) of C57Bl6 wild-type 13.0 day embryonic mouse forelimb\n",
      "\"https://www.encodeproject.org/files/ENCFF151FBB/@@download/ENCFF151FBB.fastq.gz\",\"FT-BB01674/FT-SA17517_FT-TS92821/FT-SA17517_S1_L001_R1_001.fastq.gz\"\n",
      "\"https://www.encodeproject.org/files/ENCFF233PFV/@@download/ENCFF233PFV.fastq.gz\",\"FT-BB01674/FT-SA17517_FT-TS92821/FT-SA17517_S1_L001_R2_001.fastq.gz\"\n",
      "# ENCSR792LNZ 10X Genomics Chromium 3' single-cell RNA-Seq (v2 kit) of C57Bl6 wild-type 14.0 day embryonic mouse forelimb\n",
      "\"https://www.encodeproject.org/files/ENCFF509PTC/@@download/ENCFF509PTC.fastq.gz\",\"FT-BB01675/FT-SA17521_FT-TS92825/FT-SA17521_S2_L002_R1_001.fastq.gz\"\n",
      "\"https://www.encodeproject.org/files/ENCFF600MXF/@@download/ENCFF600MXF.fastq.gz\",\"FT-BB01675/FT-SA17521_FT-TS92825/FT-SA17521_S2_L002_R2_001.fastq.gz\"\n"
     ]
    }
   ],
   "source": [
    "for accession in ['ENCSR787QXE','ENCSR642XVO','ENCSR745DNK','ENCSR476JWN','ENCSR337QTQ','ENCSR874BOF','ENCSR156HHE','ENCSR792LNZ']:\n",
    "    lookup_experiment(accession)"
   ]
  },
  {
   "cell_type": "code",
   "execution_count": 6,
   "id": "indonesian-resource",
   "metadata": {},
   "outputs": [],
   "source": [
    "experiment = server.get_json('ENCSR787QXE')"
   ]
  },
  {
   "cell_type": "code",
   "execution_count": 7,
   "id": "dying-devon",
   "metadata": {},
   "outputs": [
    {
     "ename": "NameError",
     "evalue": "name 'f' is not defined",
     "output_type": "error",
     "traceback": [
      "\u001b[0;31m---------------------------------------------------------------------------\u001b[0m",
      "\u001b[0;31mNameError\u001b[0m                                 Traceback (most recent call last)",
      "\u001b[0;32m<ipython-input-7-5059fd04013e>\u001b[0m in \u001b[0;36m<module>\u001b[0;34m\u001b[0m\n\u001b[0;32m----> 1\u001b[0;31m \u001b[0mf\u001b[0m\u001b[0;34m[\u001b[0m\u001b[0;34m'href'\u001b[0m\u001b[0;34m]\u001b[0m\u001b[0;34m\u001b[0m\u001b[0;34m\u001b[0m\u001b[0m\n\u001b[0m",
      "\u001b[0;31mNameError\u001b[0m: name 'f' is not defined"
     ]
    }
   ],
   "source": [
    "f['href']"
   ]
  },
  {
   "cell_type": "code",
   "execution_count": null,
   "id": "duplicate-sauce",
   "metadata": {},
   "outputs": [],
   "source": [
    "[f['file_type'] for f in experiment['files']]"
   ]
  },
  {
   "cell_type": "code",
   "execution_count": null,
   "id": "handled-summer",
   "metadata": {},
   "outputs": [],
   "source": [
    "experiment['files'][0].keys()"
   ]
  },
  {
   "cell_type": "code",
   "execution_count": null,
   "id": "radical-graham",
   "metadata": {},
   "outputs": [],
   "source": []
  }
 ],
 "metadata": {
  "kernelspec": {
   "display_name": "Python 3",
   "language": "python",
   "name": "python3"
  },
  "language_info": {
   "codemirror_mode": {
    "name": "ipython",
    "version": 3
   },
   "file_extension": ".py",
   "mimetype": "text/x-python",
   "name": "python",
   "nbconvert_exporter": "python",
   "pygments_lexer": "ipython3",
   "version": "3.9.1+"
  }
 },
 "nbformat": 4,
 "nbformat_minor": 5
}
