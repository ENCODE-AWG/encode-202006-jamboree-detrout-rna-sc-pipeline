{
 "cells": [
  {
   "cell_type": "code",
   "execution_count": 2,
   "id": "statistical-culture",
   "metadata": {},
   "outputs": [],
   "source": [
    "import pandas\n",
    "from pathlib import Path"
   ]
  },
  {
   "cell_type": "code",
   "execution_count": 4,
   "id": "suited-blanket",
   "metadata": {},
   "outputs": [],
   "source": [
    "p = Path('~/proj/encode-202006-jamboree-detrout-rna-sc-pipeline/genome/GRCh38-V29_minimal-male/GRCh38-V29_minimal-male-2.7.8a.h5').expanduser()"
   ]
  },
  {
   "cell_type": "code",
   "execution_count": 5,
   "id": "entertaining-hundred",
   "metadata": {},
   "outputs": [],
   "source": [
    "store = pandas.HDFStore(p, \"r\")\n",
    "gtf = store['/gtf']\n",
    "store.close()"
   ]
  },
  {
   "cell_type": "code",
   "execution_count": null,
   "id": "greater-contact",
   "metadata": {},
   "outputs": [],
   "source": []
  }
 ],
 "metadata": {
  "kernelspec": {
   "display_name": "Python 3",
   "language": "python",
   "name": "python3"
  },
  "language_info": {
   "codemirror_mode": {
    "name": "ipython",
    "version": 3
   },
   "file_extension": ".py",
   "mimetype": "text/x-python",
   "name": "python",
   "nbconvert_exporter": "python",
   "pygments_lexer": "ipython3",
   "version": "3.9.1+"
  }
 },
 "nbformat": 4,
 "nbformat_minor": 5
}
