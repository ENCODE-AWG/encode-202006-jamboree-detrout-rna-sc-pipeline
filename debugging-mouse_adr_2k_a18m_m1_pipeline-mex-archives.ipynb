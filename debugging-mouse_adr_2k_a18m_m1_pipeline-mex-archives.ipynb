{
 "cells": [
  {
   "cell_type": "markdown",
   "id": "about-dutch",
   "metadata": {},
   "source": [
    "# Introduction\n",
    "\n",
    "Did I generate that merged archive correctly?"
   ]
  },
  {
   "cell_type": "code",
   "execution_count": 1,
   "id": "signed-pollution",
   "metadata": {},
   "outputs": [],
   "source": [
    "import csv\n",
    "from collections import Counter\n",
    "import scanpy\n",
    "import pysam\n",
    "from pathlib import Path\n",
    "import pandas\n",
    "import requests\n",
    "import numpy\n",
    "import os\n",
    "from io import BytesIO\n",
    "import re\n",
    "import shutil\n",
    "import scipy\n",
    "import gzip\n",
    "import sys\n",
    "from matplotlib import pyplot\n",
    "import matplotlib\n",
    "import upsetplot\n",
    "import warnings\n",
    "from urllib.parse import urljoin\n",
    "import yaml"
   ]
  },
  {
   "cell_type": "code",
   "execution_count": 2,
   "id": "pharmaceutical-williams",
   "metadata": {},
   "outputs": [],
   "source": [
    "MEX = str(Path(\"~/proj/mex_gene_archive\").expanduser())\n",
    "if MEX not in sys.path:\n",
    "    sys.path.append(MEX)\n",
    "from mex_gene_archive.filter import write_filtered_mtx\n",
    "from mex_gene_archive.splitseq import (\n",
    "    archive_split_seq_solo,\n",
    "    load_merged_parse_matrix,\n",
    "    make_list_of_archive_files,\n",
    "    SimpleMMWriter\n",
    ")\n",
    "from mex_gene_archive.reader import read_mex_archive, read_mex_archive_as_anndata\n"
   ]
  },
  {
   "cell_type": "code",
   "execution_count": 3,
   "id": "descending-favorite",
   "metadata": {},
   "outputs": [],
   "source": [
    "star_analysis_dir = Path(\"adrenal/mouse_adr_2k_a18m_m1_pipeline\")"
   ]
  },
  {
   "cell_type": "code",
   "execution_count": 4,
   "id": "centered-reynolds",
   "metadata": {},
   "outputs": [],
   "source": [
    "em_filtered = star_analysis_dir / \"GeneFull_Ex50pAS_EM_filtered.tar.gz\""
   ]
  },
  {
   "cell_type": "code",
   "execution_count": 5,
   "id": "supposed-optics",
   "metadata": {},
   "outputs": [],
   "source": [
    "components = read_mex_archive(em_filtered)"
   ]
  },
  {
   "cell_type": "code",
   "execution_count": 6,
   "id": "wireless-furniture",
   "metadata": {},
   "outputs": [
    {
     "name": "stderr",
     "output_type": "stream",
     "text": [
      "ERROR:root:No traceback has been produced, nothing to debug.\n"
     ]
    }
   ],
   "source": [
    "%debug"
   ]
  },
  {
   "cell_type": "code",
   "execution_count": 7,
   "id": "romance-heritage",
   "metadata": {},
   "outputs": [
    {
     "data": {
      "text/plain": [
       "dict_keys(['metadata', 'barcodes', 'features', 'matrix'])"
      ]
     },
     "execution_count": 7,
     "metadata": {},
     "output_type": "execute_result"
    }
   ],
   "source": [
    "components.keys()"
   ]
  },
  {
   "cell_type": "code",
   "execution_count": 8,
   "id": "parliamentary-turkish",
   "metadata": {},
   "outputs": [
    {
     "data": {
      "text/plain": [
       "(448,)"
      ]
     },
     "execution_count": 8,
     "metadata": {},
     "output_type": "execute_result"
    }
   ],
   "source": [
    "components[\"barcodes\"].shape"
   ]
  },
  {
   "cell_type": "code",
   "execution_count": 9,
   "id": "systematic-envelope",
   "metadata": {},
   "outputs": [
    {
     "data": {
      "text/plain": [
       "(81881, 2)"
      ]
     },
     "execution_count": 9,
     "metadata": {},
     "output_type": "execute_result"
    }
   ],
   "source": [
    "components[\"features\"].shape"
   ]
  },
  {
   "cell_type": "code",
   "execution_count": 10,
   "id": "universal-script",
   "metadata": {},
   "outputs": [
    {
     "data": {
      "text/plain": [
       "(81881, 448)"
      ]
     },
     "execution_count": 10,
     "metadata": {},
     "output_type": "execute_result"
    }
   ],
   "source": [
    "components[\"matrix\"].shape"
   ]
  },
  {
   "cell_type": "code",
   "execution_count": 11,
   "id": "partial-volunteer",
   "metadata": {},
   "outputs": [
    {
     "ename": "AssertionError",
     "evalue": "hey we fixed it.",
     "output_type": "error",
     "traceback": [
      "\u001b[0;31m---------------------------------------------------------------------------\u001b[0m",
      "\u001b[0;31mAssertionError\u001b[0m                            Traceback (most recent call last)",
      "\u001b[0;32m<ipython-input-11-be4dac34cf28>\u001b[0m in \u001b[0;36m<module>\u001b[0;34m\u001b[0m\n\u001b[0;32m----> 1\u001b[0;31m \u001b[0;32massert\u001b[0m \u001b[0mcomponents\u001b[0m\u001b[0;34m[\u001b[0m\u001b[0;34m\"matrix\"\u001b[0m\u001b[0;34m]\u001b[0m\u001b[0;34m.\u001b[0m\u001b[0mshape\u001b[0m\u001b[0;34m[\u001b[0m\u001b[0;36m1\u001b[0m\u001b[0;34m]\u001b[0m \u001b[0;34m!=\u001b[0m \u001b[0mcomponents\u001b[0m\u001b[0;34m[\u001b[0m\u001b[0;34m\"barcodes\"\u001b[0m\u001b[0;34m]\u001b[0m\u001b[0;34m.\u001b[0m\u001b[0mshape\u001b[0m\u001b[0;34m[\u001b[0m\u001b[0;36m0\u001b[0m\u001b[0;34m]\u001b[0m\u001b[0;34m,\u001b[0m \u001b[0;34m\"hey we fixed it.\"\u001b[0m\u001b[0;34m\u001b[0m\u001b[0;34m\u001b[0m\u001b[0m\n\u001b[0m",
      "\u001b[0;31mAssertionError\u001b[0m: hey we fixed it."
     ]
    }
   ],
   "source": [
    "assert components[\"matrix\"].shape[1] != components[\"barcodes\"].shape[0], \"hey we fixed it.\"\n"
   ]
  },
  {
   "cell_type": "code",
   "execution_count": null,
   "id": "scheduled-discovery",
   "metadata": {},
   "outputs": [],
   "source": [
    "solo_root = star_analysis_dir / \"Solo.out\"\n",
    "quantification=\"GeneFull_Ex50pAS\"\n",
    "multiread=\"EM\"\n",
    "matrix=\"filtered\""
   ]
  },
  {
   "cell_type": "code",
   "execution_count": null,
   "id": "rolled-blade",
   "metadata": {},
   "outputs": [],
   "source": [
    "X, cells = load_merged_parse_matrix(solo_root, quantification=quantification, multiread=multiread, matrix=matrix) "
   ]
  },
  {
   "cell_type": "code",
   "execution_count": null,
   "id": "valuable-footwear",
   "metadata": {},
   "outputs": [],
   "source": [
    "X.shape, len(cells)"
   ]
  },
  {
   "cell_type": "code",
   "execution_count": null,
   "id": "caroline-report",
   "metadata": {},
   "outputs": [],
   "source": [
    "archive_files = {}\n",
    "for pathname in make_list_of_archive_files(solo_root, quantification, multiread, matrix):\n",
    "    name = pathname.name\n",
    "    if name == \"barcodes.tsv\":\n",
    "        value = BytesIO(os.linesep.encode(\"ascii\").join([x.encode(\"ascii\") for x in cells]))\n",
    "    elif name == \"features.tsv\":\n",
    "        value = pathname\n",
    "    else:\n",
    "        value = BytesIO()\n",
    "        SimpleMMWriter().write(value, X, comment='', field=None, precision=None, symmetry=None)\n",
    "        value.seek(0)\n",
    "    archive_files[pathname] = value\n",
    "\n"
   ]
  },
  {
   "cell_type": "code",
   "execution_count": null,
   "id": "searching-mobile",
   "metadata": {},
   "outputs": [],
   "source": [
    "archive_files"
   ]
  },
  {
   "cell_type": "code",
   "execution_count": null,
   "id": "cultural-proxy",
   "metadata": {},
   "outputs": [],
   "source": [
    "matrix_key = Path('adrenal/mouse_adr_2k_a18m_m1_pipeline/Solo.out/GeneFull_Ex50pAS/filtered/UniqueAndMult-EM.mtx')\n",
    "print(len(archive_files[matrix_key].getvalue()))\n",
    "print(archive_files[matrix_key].getvalue().decode(\"ascii\")[-1000:])"
   ]
  },
  {
   "cell_type": "code",
   "execution_count": null,
   "id": "retired-discovery",
   "metadata": {},
   "outputs": [],
   "source": [
    "with open(star_analysis_dir/\"config.yaml\", \"rt\") as instream:\n",
    "    config = yaml.load(instream, Loader=yaml.SafeLoader)"
   ]
  },
  {
   "cell_type": "code",
   "execution_count": null,
   "id": "aggregate-maker",
   "metadata": {},
   "outputs": [],
   "source": [
    "archive_split_seq_solo(star_analysis_dir/\"Solo.out\", config, \"GeneFull_Ex50pAS\", \"EM\", \"filtered\", destination=star_analysis_dir / \"GeneFull_Ex50pAS_Unique_filtered_notebook.tar.gz\")"
   ]
  },
  {
   "cell_type": "code",
   "execution_count": null,
   "id": "gross-stick",
   "metadata": {},
   "outputs": [],
   "source": [
    "b = BytesIO()"
   ]
  },
  {
   "cell_type": "code",
   "execution_count": null,
   "id": "growing-fossil",
   "metadata": {},
   "outputs": [],
   "source": [
    "for i in range(5):\n",
    "    b.write(b\"Hello\\n\")"
   ]
  },
  {
   "cell_type": "code",
   "execution_count": null,
   "id": "further-trinity",
   "metadata": {},
   "outputs": [],
   "source": [
    "b.tell()"
   ]
  },
  {
   "cell_type": "code",
   "execution_count": null,
   "id": "common-wildlife",
   "metadata": {},
   "outputs": [],
   "source": [
    "b.seek(0)"
   ]
  },
  {
   "cell_type": "code",
   "execution_count": null,
   "id": "italic-calendar",
   "metadata": {},
   "outputs": [],
   "source": [
    "with open(\"/dev/shm/bytes.test.txt\", \"wb\") as outstream:\n",
    "    shutil.copyfileobj(b, outstream)"
   ]
  },
  {
   "cell_type": "code",
   "execution_count": null,
   "id": "considered-pasta",
   "metadata": {},
   "outputs": [],
   "source": []
  }
 ],
 "metadata": {
  "kernelspec": {
   "display_name": "Python 3",
   "language": "python",
   "name": "python3"
  },
  "language_info": {
   "codemirror_mode": {
    "name": "ipython",
    "version": 3
   },
   "file_extension": ".py",
   "mimetype": "text/x-python",
   "name": "python",
   "nbconvert_exporter": "python",
   "pygments_lexer": "ipython3",
   "version": "3.9.1+"
  }
 },
 "nbformat": 4,
 "nbformat_minor": 5
}
