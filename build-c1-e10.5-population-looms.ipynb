{
 "cells": [
  {
   "cell_type": "markdown",
   "metadata": {},
   "source": [
    "# Introduction"
   ]
  },
  {
   "cell_type": "markdown",
   "metadata": {},
   "source": [
    "converting the directory of results files into a single annotated result matrix is a bit slow, so I break it out into it's own notebook so I don't have to rerun it when doing analysis notebook reruns."
   ]
  },
  {
   "cell_type": "code",
   "execution_count": null,
   "metadata": {},
   "outputs": [],
   "source": []
  },
  {
   "cell_type": "code",
   "execution_count": 1,
   "metadata": {},
   "outputs": [],
   "source": [
    "import pandas\n",
    "import scanpy\n",
    "from pathlib import Path\n",
    "import sys\n",
    "from urllib import parse\n",
    "import loompy\n",
    "import numpy\n",
    "import anndata"
   ]
  },
  {
   "cell_type": "code",
   "execution_count": 2,
   "metadata": {},
   "outputs": [],
   "source": [
    "LRSC = str(Path('~/proj/long-rna-seq-condor').expanduser())\n",
    "if LRSC not in sys.path:\n",
    "    sys.path.append(LRSC)\n",
    "from woldrnaseq.madqc import load_rsem_quantifications, load_genomic_quantifications, load_transcriptome_quantifications, replicate_scores\n",
    "from woldrnaseq.models import load_library_tables, load_experiments, load_all_star_final, load_all_star_counts"
   ]
  },
  {
   "cell_type": "code",
   "execution_count": 3,
   "metadata": {},
   "outputs": [],
   "source": [
    "HTSW = str(Path('~/proj/htsworkflow').expanduser())\n",
    "if HTSW not in sys.path:\n",
    "    sys.path.append(HTSW)\n",
    "from htsworkflow.submission.encoded import ENCODED"
   ]
  },
  {
   "cell_type": "markdown",
   "metadata": {},
   "source": [
    "# Load GTF"
   ]
  },
  {
   "cell_type": "code",
   "execution_count": 4,
   "metadata": {},
   "outputs": [],
   "source": [
    "store = pandas.HDFStore(Path('~/proj/genome/mm10-M21-male/mm10-M21-male.h5').expanduser())\n",
    "gtf = store[store.keys()[0]]\n",
    "store.close()\n"
   ]
  },
  {
   "cell_type": "code",
   "execution_count": 5,
   "metadata": {
    "scrolled": true
   },
   "outputs": [
    {
     "data": {
      "text/plain": [
       "Index(['chromosome', 'source', 'type', 'start', 'stop', 'score', 'strand',\n",
       "       'frame', 'gene_id', 'transcript_id', 'gene_type', 'gene_name',\n",
       "       'transcript_type', 'transcript_name', 'level', 'havana_gene',\n",
       "       'transcript_support_level', 'tag', 'havana_transcript', 'exon_number',\n",
       "       'exon_id', 'protein_id', 'ccdsid', 'ont'],\n",
       "      dtype='object')"
      ]
     },
     "execution_count": 5,
     "metadata": {},
     "output_type": "execute_result"
    }
   ],
   "source": [
    "gtf.columns"
   ]
  },
  {
   "cell_type": "code",
   "execution_count": 6,
   "metadata": {},
   "outputs": [
    {
     "data": {
      "text/plain": [
       "chromosome                           ERCC-00171\n",
       "source                                  spikein\n",
       "type                                       exon\n",
       "start                                         1\n",
       "stop                                        505\n",
       "score                                       NaN\n",
       "strand                                        1\n",
       "frame                                       NaN\n",
       "gene_id                     gSpikein_ERCC-00171\n",
       "transcript_id               tSpikein_ERCC-00171\n",
       "gene_type                                   NaN\n",
       "gene_name                                   NaN\n",
       "transcript_type                             NaN\n",
       "transcript_name                             NaN\n",
       "level                                       NaN\n",
       "havana_gene                                 NaN\n",
       "transcript_support_level                    NaN\n",
       "tag                                         NaN\n",
       "havana_transcript                           NaN\n",
       "exon_number                                 NaN\n",
       "exon_id                                     NaN\n",
       "protein_id                                  NaN\n",
       "ccdsid                                      NaN\n",
       "ont                                         NaN\n",
       "Name: 1879552, dtype: object"
      ]
     },
     "execution_count": 6,
     "metadata": {},
     "output_type": "execute_result"
    }
   ],
   "source": [
    "gtf.iloc[1879552]"
   ]
  },
  {
   "cell_type": "code",
   "execution_count": 7,
   "metadata": {},
   "outputs": [],
   "source": [
    "gene_info = gtf[gtf['type'].isin(['gene', 'tRNA']) | (gtf['source'] == 'spikein')].set_index('gene_id')"
   ]
  },
  {
   "cell_type": "code",
   "execution_count": 8,
   "metadata": {},
   "outputs": [
    {
     "data": {
      "text/plain": [
       "'Gad2'"
      ]
     },
     "execution_count": 8,
     "metadata": {},
     "output_type": "execute_result"
    }
   ],
   "source": [
    "gene_info.loc['ENSMUSG00000026787.3', 'gene_name']"
   ]
  },
  {
   "cell_type": "code",
   "execution_count": 9,
   "metadata": {},
   "outputs": [
    {
     "data": {
      "text/html": [
       "<div>\n",
       "<style scoped>\n",
       "    .dataframe tbody tr th:only-of-type {\n",
       "        vertical-align: middle;\n",
       "    }\n",
       "\n",
       "    .dataframe tbody tr th {\n",
       "        vertical-align: top;\n",
       "    }\n",
       "\n",
       "    .dataframe thead th {\n",
       "        text-align: right;\n",
       "    }\n",
       "</style>\n",
       "<table border=\"1\" class=\"dataframe\">\n",
       "  <thead>\n",
       "    <tr style=\"text-align: right;\">\n",
       "      <th></th>\n",
       "      <th>chromosome</th>\n",
       "      <th>source</th>\n",
       "      <th>type</th>\n",
       "      <th>start</th>\n",
       "      <th>stop</th>\n",
       "      <th>score</th>\n",
       "      <th>strand</th>\n",
       "      <th>frame</th>\n",
       "      <th>transcript_id</th>\n",
       "      <th>gene_type</th>\n",
       "      <th>...</th>\n",
       "      <th>level</th>\n",
       "      <th>havana_gene</th>\n",
       "      <th>transcript_support_level</th>\n",
       "      <th>tag</th>\n",
       "      <th>havana_transcript</th>\n",
       "      <th>exon_number</th>\n",
       "      <th>exon_id</th>\n",
       "      <th>protein_id</th>\n",
       "      <th>ccdsid</th>\n",
       "      <th>ont</th>\n",
       "    </tr>\n",
       "    <tr>\n",
       "      <th>gene_id</th>\n",
       "      <th></th>\n",
       "      <th></th>\n",
       "      <th></th>\n",
       "      <th></th>\n",
       "      <th></th>\n",
       "      <th></th>\n",
       "      <th></th>\n",
       "      <th></th>\n",
       "      <th></th>\n",
       "      <th></th>\n",
       "      <th></th>\n",
       "      <th></th>\n",
       "      <th></th>\n",
       "      <th></th>\n",
       "      <th></th>\n",
       "      <th></th>\n",
       "      <th></th>\n",
       "      <th></th>\n",
       "      <th></th>\n",
       "      <th></th>\n",
       "      <th></th>\n",
       "    </tr>\n",
       "  </thead>\n",
       "  <tbody>\n",
       "    <tr>\n",
       "      <th>896</th>\n",
       "      <td>chr1</td>\n",
       "      <td>ENSEMBL</td>\n",
       "      <td>tRNA</td>\n",
       "      <td>112349389</td>\n",
       "      <td>112349461</td>\n",
       "      <td>NaN</td>\n",
       "      <td>1</td>\n",
       "      <td>NaN</td>\n",
       "      <td>896</td>\n",
       "      <td>Pseudo_tRNA</td>\n",
       "      <td>...</td>\n",
       "      <td>NaN</td>\n",
       "      <td>NaN</td>\n",
       "      <td>NaN</td>\n",
       "      <td>NaN</td>\n",
       "      <td>NaN</td>\n",
       "      <td>NaN</td>\n",
       "      <td>NaN</td>\n",
       "      <td>NaN</td>\n",
       "      <td>NaN</td>\n",
       "      <td>NaN</td>\n",
       "    </tr>\n",
       "    <tr>\n",
       "      <th>897</th>\n",
       "      <td>chr1</td>\n",
       "      <td>ENSEMBL</td>\n",
       "      <td>tRNA</td>\n",
       "      <td>112576185</td>\n",
       "      <td>112576260</td>\n",
       "      <td>NaN</td>\n",
       "      <td>-1</td>\n",
       "      <td>NaN</td>\n",
       "      <td>897</td>\n",
       "      <td>Pseudo_tRNA</td>\n",
       "      <td>...</td>\n",
       "      <td>NaN</td>\n",
       "      <td>NaN</td>\n",
       "      <td>NaN</td>\n",
       "      <td>NaN</td>\n",
       "      <td>NaN</td>\n",
       "      <td>NaN</td>\n",
       "      <td>NaN</td>\n",
       "      <td>NaN</td>\n",
       "      <td>NaN</td>\n",
       "      <td>NaN</td>\n",
       "    </tr>\n",
       "    <tr>\n",
       "      <th>1275</th>\n",
       "      <td>chr1</td>\n",
       "      <td>ENSEMBL</td>\n",
       "      <td>tRNA</td>\n",
       "      <td>32624825</td>\n",
       "      <td>32624895</td>\n",
       "      <td>NaN</td>\n",
       "      <td>1</td>\n",
       "      <td>NaN</td>\n",
       "      <td>1275</td>\n",
       "      <td>Pseudo_tRNA</td>\n",
       "      <td>...</td>\n",
       "      <td>NaN</td>\n",
       "      <td>NaN</td>\n",
       "      <td>NaN</td>\n",
       "      <td>NaN</td>\n",
       "      <td>NaN</td>\n",
       "      <td>NaN</td>\n",
       "      <td>NaN</td>\n",
       "      <td>NaN</td>\n",
       "      <td>NaN</td>\n",
       "      <td>NaN</td>\n",
       "    </tr>\n",
       "    <tr>\n",
       "      <th>1914</th>\n",
       "      <td>chr1</td>\n",
       "      <td>ENSEMBL</td>\n",
       "      <td>tRNA</td>\n",
       "      <td>167276215</td>\n",
       "      <td>167276287</td>\n",
       "      <td>NaN</td>\n",
       "      <td>1</td>\n",
       "      <td>NaN</td>\n",
       "      <td>1914</td>\n",
       "      <td>Pseudo_tRNA</td>\n",
       "      <td>...</td>\n",
       "      <td>NaN</td>\n",
       "      <td>NaN</td>\n",
       "      <td>NaN</td>\n",
       "      <td>NaN</td>\n",
       "      <td>NaN</td>\n",
       "      <td>NaN</td>\n",
       "      <td>NaN</td>\n",
       "      <td>NaN</td>\n",
       "      <td>NaN</td>\n",
       "      <td>NaN</td>\n",
       "    </tr>\n",
       "    <tr>\n",
       "      <th>1915</th>\n",
       "      <td>chr1</td>\n",
       "      <td>ENSEMBL</td>\n",
       "      <td>tRNA</td>\n",
       "      <td>167323285</td>\n",
       "      <td>167323359</td>\n",
       "      <td>NaN</td>\n",
       "      <td>1</td>\n",
       "      <td>NaN</td>\n",
       "      <td>1915</td>\n",
       "      <td>Pseudo_tRNA</td>\n",
       "      <td>...</td>\n",
       "      <td>NaN</td>\n",
       "      <td>NaN</td>\n",
       "      <td>NaN</td>\n",
       "      <td>NaN</td>\n",
       "      <td>NaN</td>\n",
       "      <td>NaN</td>\n",
       "      <td>NaN</td>\n",
       "      <td>NaN</td>\n",
       "      <td>NaN</td>\n",
       "      <td>NaN</td>\n",
       "    </tr>\n",
       "    <tr>\n",
       "      <th>...</th>\n",
       "      <td>...</td>\n",
       "      <td>...</td>\n",
       "      <td>...</td>\n",
       "      <td>...</td>\n",
       "      <td>...</td>\n",
       "      <td>...</td>\n",
       "      <td>...</td>\n",
       "      <td>...</td>\n",
       "      <td>...</td>\n",
       "      <td>...</td>\n",
       "      <td>...</td>\n",
       "      <td>...</td>\n",
       "      <td>...</td>\n",
       "      <td>...</td>\n",
       "      <td>...</td>\n",
       "      <td>...</td>\n",
       "      <td>...</td>\n",
       "      <td>...</td>\n",
       "      <td>...</td>\n",
       "      <td>...</td>\n",
       "      <td>...</td>\n",
       "    </tr>\n",
       "    <tr>\n",
       "      <th>gSpikein_ERCC-00165</th>\n",
       "      <td>ERCC-00165</td>\n",
       "      <td>spikein</td>\n",
       "      <td>exon</td>\n",
       "      <td>1</td>\n",
       "      <td>872</td>\n",
       "      <td>NaN</td>\n",
       "      <td>1</td>\n",
       "      <td>NaN</td>\n",
       "      <td>tSpikein_ERCC-00165</td>\n",
       "      <td>NaN</td>\n",
       "      <td>...</td>\n",
       "      <td>NaN</td>\n",
       "      <td>NaN</td>\n",
       "      <td>NaN</td>\n",
       "      <td>NaN</td>\n",
       "      <td>NaN</td>\n",
       "      <td>NaN</td>\n",
       "      <td>NaN</td>\n",
       "      <td>NaN</td>\n",
       "      <td>NaN</td>\n",
       "      <td>NaN</td>\n",
       "    </tr>\n",
       "    <tr>\n",
       "      <th>gSpikein_ERCC-00168</th>\n",
       "      <td>ERCC-00168</td>\n",
       "      <td>spikein</td>\n",
       "      <td>exon</td>\n",
       "      <td>1</td>\n",
       "      <td>1024</td>\n",
       "      <td>NaN</td>\n",
       "      <td>1</td>\n",
       "      <td>NaN</td>\n",
       "      <td>tSpikein_ERCC-00168</td>\n",
       "      <td>NaN</td>\n",
       "      <td>...</td>\n",
       "      <td>NaN</td>\n",
       "      <td>NaN</td>\n",
       "      <td>NaN</td>\n",
       "      <td>NaN</td>\n",
       "      <td>NaN</td>\n",
       "      <td>NaN</td>\n",
       "      <td>NaN</td>\n",
       "      <td>NaN</td>\n",
       "      <td>NaN</td>\n",
       "      <td>NaN</td>\n",
       "    </tr>\n",
       "    <tr>\n",
       "      <th>gSpikein_ERCC-00170</th>\n",
       "      <td>ERCC-00170</td>\n",
       "      <td>spikein</td>\n",
       "      <td>exon</td>\n",
       "      <td>1</td>\n",
       "      <td>1023</td>\n",
       "      <td>NaN</td>\n",
       "      <td>1</td>\n",
       "      <td>NaN</td>\n",
       "      <td>tSpikein_ERCC-00170</td>\n",
       "      <td>NaN</td>\n",
       "      <td>...</td>\n",
       "      <td>NaN</td>\n",
       "      <td>NaN</td>\n",
       "      <td>NaN</td>\n",
       "      <td>NaN</td>\n",
       "      <td>NaN</td>\n",
       "      <td>NaN</td>\n",
       "      <td>NaN</td>\n",
       "      <td>NaN</td>\n",
       "      <td>NaN</td>\n",
       "      <td>NaN</td>\n",
       "    </tr>\n",
       "    <tr>\n",
       "      <th>gSpikein_ERCC-00171</th>\n",
       "      <td>ERCC-00171</td>\n",
       "      <td>spikein</td>\n",
       "      <td>exon</td>\n",
       "      <td>1</td>\n",
       "      <td>505</td>\n",
       "      <td>NaN</td>\n",
       "      <td>1</td>\n",
       "      <td>NaN</td>\n",
       "      <td>tSpikein_ERCC-00171</td>\n",
       "      <td>NaN</td>\n",
       "      <td>...</td>\n",
       "      <td>NaN</td>\n",
       "      <td>NaN</td>\n",
       "      <td>NaN</td>\n",
       "      <td>NaN</td>\n",
       "      <td>NaN</td>\n",
       "      <td>NaN</td>\n",
       "      <td>NaN</td>\n",
       "      <td>NaN</td>\n",
       "      <td>NaN</td>\n",
       "      <td>NaN</td>\n",
       "    </tr>\n",
       "    <tr>\n",
       "      <th>gSpikein_phiX174</th>\n",
       "      <td>phiX174</td>\n",
       "      <td>spikein</td>\n",
       "      <td>exon</td>\n",
       "      <td>1</td>\n",
       "      <td>5386</td>\n",
       "      <td>NaN</td>\n",
       "      <td>1</td>\n",
       "      <td>NaN</td>\n",
       "      <td>tSpikein_phiX174</td>\n",
       "      <td>NaN</td>\n",
       "      <td>...</td>\n",
       "      <td>NaN</td>\n",
       "      <td>NaN</td>\n",
       "      <td>NaN</td>\n",
       "      <td>NaN</td>\n",
       "      <td>NaN</td>\n",
       "      <td>NaN</td>\n",
       "      <td>NaN</td>\n",
       "      <td>NaN</td>\n",
       "      <td>NaN</td>\n",
       "      <td>NaN</td>\n",
       "    </tr>\n",
       "  </tbody>\n",
       "</table>\n",
       "<p>81881 rows × 23 columns</p>\n",
       "</div>"
      ],
      "text/plain": [
       "                     chromosome   source  type      start       stop  score  \\\n",
       "gene_id                                                                       \n",
       "896                        chr1  ENSEMBL  tRNA  112349389  112349461    NaN   \n",
       "897                        chr1  ENSEMBL  tRNA  112576185  112576260    NaN   \n",
       "1275                       chr1  ENSEMBL  tRNA   32624825   32624895    NaN   \n",
       "1914                       chr1  ENSEMBL  tRNA  167276215  167276287    NaN   \n",
       "1915                       chr1  ENSEMBL  tRNA  167323285  167323359    NaN   \n",
       "...                         ...      ...   ...        ...        ...    ...   \n",
       "gSpikein_ERCC-00165  ERCC-00165  spikein  exon          1        872    NaN   \n",
       "gSpikein_ERCC-00168  ERCC-00168  spikein  exon          1       1024    NaN   \n",
       "gSpikein_ERCC-00170  ERCC-00170  spikein  exon          1       1023    NaN   \n",
       "gSpikein_ERCC-00171  ERCC-00171  spikein  exon          1        505    NaN   \n",
       "gSpikein_phiX174        phiX174  spikein  exon          1       5386    NaN   \n",
       "\n",
       "                     strand  frame        transcript_id    gene_type  ...  \\\n",
       "gene_id                                                               ...   \n",
       "896                       1    NaN                  896  Pseudo_tRNA  ...   \n",
       "897                      -1    NaN                  897  Pseudo_tRNA  ...   \n",
       "1275                      1    NaN                 1275  Pseudo_tRNA  ...   \n",
       "1914                      1    NaN                 1914  Pseudo_tRNA  ...   \n",
       "1915                      1    NaN                 1915  Pseudo_tRNA  ...   \n",
       "...                     ...    ...                  ...          ...  ...   \n",
       "gSpikein_ERCC-00165       1    NaN  tSpikein_ERCC-00165          NaN  ...   \n",
       "gSpikein_ERCC-00168       1    NaN  tSpikein_ERCC-00168          NaN  ...   \n",
       "gSpikein_ERCC-00170       1    NaN  tSpikein_ERCC-00170          NaN  ...   \n",
       "gSpikein_ERCC-00171       1    NaN  tSpikein_ERCC-00171          NaN  ...   \n",
       "gSpikein_phiX174          1    NaN     tSpikein_phiX174          NaN  ...   \n",
       "\n",
       "                    level havana_gene transcript_support_level  tag  \\\n",
       "gene_id                                                               \n",
       "896                   NaN         NaN                      NaN  NaN   \n",
       "897                   NaN         NaN                      NaN  NaN   \n",
       "1275                  NaN         NaN                      NaN  NaN   \n",
       "1914                  NaN         NaN                      NaN  NaN   \n",
       "1915                  NaN         NaN                      NaN  NaN   \n",
       "...                   ...         ...                      ...  ...   \n",
       "gSpikein_ERCC-00165   NaN         NaN                      NaN  NaN   \n",
       "gSpikein_ERCC-00168   NaN         NaN                      NaN  NaN   \n",
       "gSpikein_ERCC-00170   NaN         NaN                      NaN  NaN   \n",
       "gSpikein_ERCC-00171   NaN         NaN                      NaN  NaN   \n",
       "gSpikein_phiX174      NaN         NaN                      NaN  NaN   \n",
       "\n",
       "                    havana_transcript exon_number exon_id protein_id  ccdsid  \\\n",
       "gene_id                                                                        \n",
       "896                               NaN         NaN     NaN        NaN     NaN   \n",
       "897                               NaN         NaN     NaN        NaN     NaN   \n",
       "1275                              NaN         NaN     NaN        NaN     NaN   \n",
       "1914                              NaN         NaN     NaN        NaN     NaN   \n",
       "1915                              NaN         NaN     NaN        NaN     NaN   \n",
       "...                               ...         ...     ...        ...     ...   \n",
       "gSpikein_ERCC-00165               NaN         NaN     NaN        NaN     NaN   \n",
       "gSpikein_ERCC-00168               NaN         NaN     NaN        NaN     NaN   \n",
       "gSpikein_ERCC-00170               NaN         NaN     NaN        NaN     NaN   \n",
       "gSpikein_ERCC-00171               NaN         NaN     NaN        NaN     NaN   \n",
       "gSpikein_phiX174                  NaN         NaN     NaN        NaN     NaN   \n",
       "\n",
       "                     ont  \n",
       "gene_id                   \n",
       "896                  NaN  \n",
       "897                  NaN  \n",
       "1275                 NaN  \n",
       "1914                 NaN  \n",
       "1915                 NaN  \n",
       "...                  ...  \n",
       "gSpikein_ERCC-00165  NaN  \n",
       "gSpikein_ERCC-00168  NaN  \n",
       "gSpikein_ERCC-00170  NaN  \n",
       "gSpikein_ERCC-00171  NaN  \n",
       "gSpikein_phiX174     NaN  \n",
       "\n",
       "[81881 rows x 23 columns]"
      ]
     },
     "execution_count": 9,
     "metadata": {},
     "output_type": "execute_result"
    }
   ],
   "source": [
    "gene_info"
   ]
  },
  {
   "cell_type": "markdown",
   "metadata": {},
   "source": [
    "# Load Transcript Map"
   ]
  },
  {
   "cell_type": "code",
   "execution_count": 10,
   "metadata": {},
   "outputs": [],
   "source": [
    "def load_transcript_map(triplet):\n",
    "    root = Path('genome')\n",
    "    txp_map = {}\n",
    "    with open(root /triplet/'txp2gene.tsv', 'rt') as instream:\n",
    "        for line in instream:\n",
    "            txp, gene = line.rstrip().split('\\t')\n",
    "            txp_map[txp] = gene\n",
    "    return txp_map\n"
   ]
  },
  {
   "cell_type": "code",
   "execution_count": 11,
   "metadata": {},
   "outputs": [
    {
     "data": {
      "text/plain": [
       "168207"
      ]
     },
     "execution_count": 11,
     "metadata": {},
     "output_type": "execute_result"
    }
   ],
   "source": [
    "mm10_M21_map = load_transcript_map('mm10-M21-male')\n",
    "len(mm10_M21_map)"
   ]
  },
  {
   "cell_type": "code",
   "execution_count": 12,
   "metadata": {},
   "outputs": [],
   "source": [
    "server = ENCODED('www.encodeproject.org')\n",
    "server.load_netrc()"
   ]
  },
  {
   "cell_type": "markdown",
   "metadata": {},
   "source": [
    "Read in list of fastqs used to generate the fastqs for the population STAR run, and extract our cell IDs\n",
    "\n",
    "It was copied from <a href=\"build-e10.5-population-fastqs.html\">build-e10.5-population-fastqs.ipynb</a>"
   ]
  },
  {
   "cell_type": "code",
   "execution_count": 13,
   "metadata": {},
   "outputs": [],
   "source": [
    "libraries_used = set()\n",
    "prefix_len = len('barbara-wold:')\n",
    "with open('fastqs-used-in-c1-e10.5.txt') as instream:\n",
    "    for i, line in enumerate(instream):\n",
    "        url = parse.urlparse(line.strip())\n",
    "        parts = url.path.split('/')\n",
    "        fastq_accession = parts[2]\n",
    "        fastq = server.get_json(fastq_accession)\n",
    "        library = fastq['library']\n",
    "        library_id = library['@id']\n",
    "        aliases = library['aliases']\n",
    "        jumpgate = aliases[0][prefix_len:]\n",
    "        #print(fastq_accession, library_id, jumpgate)\n",
    "        libraries_used.add(jumpgate)\n",
    "    "
   ]
  },
  {
   "cell_type": "code",
   "execution_count": 14,
   "metadata": {},
   "outputs": [
    {
     "data": {
      "text/plain": [
       "251"
      ]
     },
     "execution_count": 14,
     "metadata": {},
     "output_type": "execute_result"
    }
   ],
   "source": [
    "len(libraries_used)"
   ]
  },
  {
   "cell_type": "code",
   "execution_count": 15,
   "metadata": {},
   "outputs": [
    {
     "data": {
      "text/plain": [
       "251"
      ]
     },
     "execution_count": 15,
     "metadata": {},
     "output_type": "execute_result"
    }
   ],
   "source": [
    "replicates = []\n",
    "for row in libraries_used:\n",
    "    replicates.append(row)\n",
    "\n",
    "one_encode_experiment = pandas.Series({\n",
    "    'replicates': replicates,\n",
    "})\n",
    "len(one_encode_experiment['replicates'])"
   ]
  },
  {
   "cell_type": "code",
   "execution_count": 16,
   "metadata": {},
   "outputs": [],
   "source": [
    "with open('c1_e10.5_cells.txt', 'wt') as outstream:\n",
    "    for r in sorted(replicates):\n",
    "        outstream.write('{}\\n'.format(r))"
   ]
  },
  {
   "cell_type": "code",
   "execution_count": 17,
   "metadata": {},
   "outputs": [
    {
     "name": "stdout",
     "output_type": "stream",
     "text": [
      "17327_A1\n",
      "17327_A10\n",
      "17327_A11\n",
      "17327_A12\n",
      "17327_A2\n",
      "17327_A3\n",
      "17327_A4\n",
      "17327_A5\n",
      "17327_A6\n",
      "17327_A7\n",
      "17327_A8\n",
      "17327_A9\n",
      "17328_B1\n",
      "17328_B10\n",
      "17328_B11\n",
      "17328_B12\n",
      "17328_B2\n",
      "17328_B3\n",
      "17328_B4\n",
      "17328_B5\n",
      "17328_B6\n",
      "17328_B7\n",
      "17328_B8\n",
      "17328_B9\n",
      "17329_C1\n",
      "17329_C10\n",
      "17329_C11\n",
      "17329_C12\n",
      "17329_C2\n",
      "17329_C3\n",
      "17329_C4\n",
      "17329_C5\n",
      "17329_C6\n",
      "17329_C7\n",
      "17329_C8\n",
      "17329_C9\n",
      "17330_D1\n",
      "17330_D10\n",
      "17330_D11\n",
      "17330_D12\n",
      "17330_D2\n",
      "17330_D3\n",
      "17330_D4\n",
      "17330_D5\n",
      "17330_D6\n",
      "17330_D7\n",
      "17330_D8\n",
      "17330_D9\n",
      "17331_E1\n",
      "17331_E10\n",
      "17331_E11\n",
      "17331_E12\n",
      "17331_E2\n",
      "17331_E3\n",
      "17331_E4\n",
      "17331_E5\n",
      "17331_E6\n",
      "17331_E7\n",
      "17331_E8\n",
      "17331_E9\n",
      "17332_F1\n",
      "17332_F10\n",
      "17332_F11\n",
      "17332_F12\n",
      "17332_F2\n",
      "17332_F3\n",
      "17332_F4\n",
      "17332_F5\n",
      "17332_F6\n",
      "17332_F7\n",
      "17332_F8\n",
      "17332_F9\n",
      "17333_G1\n",
      "17333_G10\n",
      "17333_G11\n",
      "17333_G12\n",
      "17333_G2\n",
      "17333_G3\n",
      "17333_G4\n",
      "17333_G5\n",
      "17333_G6\n",
      "17333_G7\n",
      "17333_G8\n",
      "17333_G9\n",
      "17334_H1\n",
      "17334_H10\n",
      "17334_H11\n",
      "17334_H12\n",
      "17334_H2\n",
      "17334_H3\n",
      "17334_H4\n",
      "17334_H5\n",
      "17334_H6\n",
      "17334_H7\n",
      "17334_H8\n",
      "17334_H9\n",
      "18042_A1\n",
      "18042_A10\n",
      "18042_A11\n",
      "18042_A12\n",
      "18042_A2\n",
      "18042_A3\n",
      "18042_A4\n",
      "18042_A5\n",
      "18042_A6\n",
      "18042_A7\n",
      "18042_A8\n",
      "18042_A9\n",
      "18043_B1\n",
      "18043_B10\n",
      "18043_B11\n",
      "18043_B12\n",
      "18043_B2\n",
      "18043_B3\n",
      "18043_B4\n",
      "18043_B5\n",
      "18043_B6\n",
      "18043_B7\n",
      "18043_B8\n",
      "18043_B9\n",
      "18044_C1\n",
      "18044_C10\n",
      "18044_C11\n",
      "18044_C12\n",
      "18044_C2\n",
      "18044_C3\n",
      "18044_C4\n",
      "18044_C5\n",
      "18044_C6\n",
      "18044_C7\n",
      "18044_C8\n",
      "18044_C9\n",
      "18045_D1\n",
      "18045_D10\n",
      "18045_D11\n",
      "18045_D12\n",
      "18045_D2\n",
      "18045_D3\n",
      "18045_D4\n",
      "18045_D5\n",
      "18045_D6\n",
      "18045_D7\n",
      "18045_D8\n",
      "18045_D9\n",
      "18046_E1\n",
      "18046_E10\n",
      "18046_E11\n",
      "18046_E12\n",
      "18046_E2\n",
      "18046_E3\n",
      "18046_E4\n",
      "18046_E5\n",
      "18046_E6\n",
      "18046_E7\n",
      "18046_E8\n",
      "18046_E9\n",
      "18047_F1\n",
      "18047_F10\n",
      "18047_F11\n",
      "18047_F12\n",
      "18047_F2\n",
      "18047_F3\n",
      "18047_F4\n",
      "18047_F5\n",
      "18047_F6\n",
      "18047_F7\n",
      "18047_F8\n",
      "18047_F9\n",
      "18048_G1\n",
      "18048_G10\n",
      "18048_G11\n",
      "18048_G12\n",
      "18048_G2\n",
      "18048_G3\n",
      "18048_G4\n",
      "18048_G5\n",
      "18048_G6\n",
      "18048_G7\n",
      "18048_G8\n",
      "18048_G9\n",
      "18049_H1\n",
      "18049_H10\n",
      "18049_H11\n",
      "18049_H12\n",
      "18049_H2\n",
      "18049_H3\n",
      "18049_H4\n",
      "18049_H5\n",
      "18049_H6\n",
      "18049_H7\n",
      "18049_H8\n",
      "18049_H9\n",
      "18087_F1\n",
      "18087_F10\n",
      "18087_F11\n",
      "18087_F12\n",
      "18087_F2\n",
      "18087_F3\n",
      "18087_F4\n",
      "18087_F5\n",
      "18087_F6\n",
      "18087_F7\n",
      "18087_F8\n",
      "18087_F9\n",
      "18088_G1\n",
      "18088_G10\n",
      "18088_G11\n",
      "18088_G12\n",
      "18088_G2\n",
      "18088_G3\n",
      "18088_G4\n",
      "18088_G5\n",
      "18088_G6\n",
      "18088_G7\n",
      "18088_G8\n",
      "18088_G9\n",
      "18089_H1\n",
      "18089_H10\n",
      "18089_H11\n",
      "18089_H2\n",
      "18089_H3\n",
      "18089_H4\n",
      "18089_H5\n",
      "18089_H6\n",
      "18089_H7\n",
      "18089_H8\n",
      "18089_H9\n",
      "18255_E10\n",
      "18267_E10\n",
      "18274_E10\n",
      "18315_E10\n",
      "19910_E10\n",
      "19912_G10\n",
      "19912_G11\n",
      "19912_G12\n",
      "19912_G7\n",
      "19912_G8\n",
      "19912_G9\n",
      "19913_H1\n",
      "19913_H10\n",
      "19913_H11\n",
      "19913_H12\n",
      "19913_H2\n",
      "19913_H3\n",
      "19913_H4\n",
      "19913_H5\n",
      "19913_H6\n",
      "19913_H7\n",
      "19913_H8\n",
      "19913_H9\n",
      "20048_E10\n"
     ]
    }
   ],
   "source": [
    "print(\"\\n\".join(sorted(one_encode_experiment['replicates'])))"
   ]
  },
  {
   "cell_type": "code",
   "execution_count": 18,
   "metadata": {},
   "outputs": [],
   "source": [
    "c1_root = Path('./c1_e10.5')"
   ]
  },
  {
   "cell_type": "markdown",
   "metadata": {},
   "source": [
    "# Load Single Cell RSEM values"
   ]
  },
  {
   "cell_type": "code",
   "execution_count": 19,
   "metadata": {},
   "outputs": [],
   "source": [
    "c1_M21_vdir = Path('~/proj/C1_mouse_limb_combined/all_analysis_M21').expanduser()"
   ]
  },
  {
   "cell_type": "code",
   "execution_count": 20,
   "metadata": {},
   "outputs": [],
   "source": [
    "c1_M21_libraries_filename = c1_M21_vdir / 'libraries-passing.tsv'"
   ]
  },
  {
   "cell_type": "code",
   "execution_count": 21,
   "metadata": {},
   "outputs": [],
   "source": [
    "c1_M21_libraries = load_library_tables([c1_M21_libraries_filename], sep='\\t')"
   ]
  },
  {
   "cell_type": "code",
   "execution_count": 22,
   "metadata": {},
   "outputs": [
    {
     "name": "stdout",
     "output_type": "stream",
     "text": [
      "quantifications None (81881, 251)\n",
      "quantifications None (81881, 251)\n"
     ]
    }
   ],
   "source": [
    "cells_rsem_gene_count = load_genomic_quantifications(one_encode_experiment, c1_M21_libraries, column='expected_count')\n",
    "cells_rsem_gene_tpm = load_genomic_quantifications(one_encode_experiment, c1_M21_libraries, column='TPM')"
   ]
  },
  {
   "cell_type": "code",
   "execution_count": 23,
   "metadata": {},
   "outputs": [],
   "source": [
    "sc_rsem_gene_count = cells_rsem_gene_count.sum(axis=1)\n",
    "sc_rsem_gene_tpm = cells_rsem_gene_count.sum(axis=1)"
   ]
  },
  {
   "cell_type": "code",
   "execution_count": 24,
   "metadata": {},
   "outputs": [
    {
     "data": {
      "text/plain": [
       "(81881,)"
      ]
     },
     "execution_count": 24,
     "metadata": {},
     "output_type": "execute_result"
    }
   ],
   "source": [
    "sc_rsem_gene_count.shape"
   ]
  },
  {
   "cell_type": "code",
   "execution_count": 25,
   "metadata": {},
   "outputs": [
    {
     "name": "stdout",
     "output_type": "stream",
     "text": [
      "quantifications None (168207, 251)\n",
      "quantifications None (168207, 251)\n"
     ]
    }
   ],
   "source": [
    "cells_rsem_transcript_count = load_transcriptome_quantifications(one_encode_experiment, c1_M21_libraries, column='expected_count')\n",
    "cells_rsem_transcript_tpm = load_transcriptome_quantifications(one_encode_experiment, c1_M21_libraries, column='TPM')"
   ]
  },
  {
   "cell_type": "code",
   "execution_count": 26,
   "metadata": {},
   "outputs": [],
   "source": [
    "sc_rsem_transcript_count = cells_rsem_transcript_count.sum(axis=1)\n",
    "sc_rsem_transcript_tpm = cells_rsem_transcript_tpm.sum(axis=1)"
   ]
  },
  {
   "cell_type": "code",
   "execution_count": 27,
   "metadata": {},
   "outputs": [
    {
     "data": {
      "text/plain": [
       "(168207,)"
      ]
     },
     "execution_count": 27,
     "metadata": {},
     "output_type": "execute_result"
    }
   ],
   "source": [
    "sc_rsem_transcript_count.shape"
   ]
  },
  {
   "cell_type": "code",
   "execution_count": 28,
   "metadata": {},
   "outputs": [],
   "source": [
    "sc_star_stats = load_all_star_final(c1_M21_libraries).loc[one_encode_experiment['replicates']]"
   ]
  },
  {
   "cell_type": "code",
   "execution_count": 29,
   "metadata": {},
   "outputs": [
    {
     "data": {
      "text/plain": [
       "492826080.0"
      ]
     },
     "execution_count": 29,
     "metadata": {},
     "output_type": "execute_result"
    }
   ],
   "source": [
    "sc_star_stats[('', 'Number of input reads')].sum()"
   ]
  },
  {
   "cell_type": "markdown",
   "metadata": {},
   "source": [
    "# Load Population RSEM values"
   ]
  },
  {
   "cell_type": "code",
   "execution_count": 30,
   "metadata": {},
   "outputs": [],
   "source": [
    "pop_dir = Path('/woldlab/loxcyc/home/diane/proj/encode-202006-jamboree-detrout-rna-sc-pipeline/')\n",
    "pop_experiment = load_experiments([pop_dir / 'experiments_c1_e10.5.tsv'])\n",
    "pop_libraries = load_library_tables([pop_dir / 'libraries_c1_e10.5.tsv'])"
   ]
  },
  {
   "cell_type": "code",
   "execution_count": 31,
   "metadata": {},
   "outputs": [],
   "source": [
    "pop_star_stats = load_all_star_final(pop_libraries)"
   ]
  },
  {
   "cell_type": "code",
   "execution_count": 32,
   "metadata": {},
   "outputs": [
    {
     "data": {
      "text/plain": [
       "492826080.0"
      ]
     },
     "execution_count": 32,
     "metadata": {},
     "output_type": "execute_result"
    }
   ],
   "source": [
    "pop_star_stats.loc['c1_e10.5', ('', 'Number of input reads')]"
   ]
  },
  {
   "cell_type": "code",
   "execution_count": 33,
   "metadata": {},
   "outputs": [
    {
     "data": {
      "text/plain": [
       "True"
      ]
     },
     "execution_count": 33,
     "metadata": {},
     "output_type": "execute_result"
    }
   ],
   "source": [
    "pop_star_stats.loc['c1_e10.5', ('', 'Number of input reads')] == sc_star_stats[('', 'Number of input reads')].sum()"
   ]
  },
  {
   "cell_type": "code",
   "execution_count": 34,
   "metadata": {},
   "outputs": [
    {
     "name": "stdout",
     "output_type": "stream",
     "text": [
      "quantifications c1_e10.5_pool (81881, 1)\n",
      "quantifications c1_e10.5_pool (81881, 1)\n"
     ]
    }
   ],
   "source": [
    "pop_rsem_gene_count = load_genomic_quantifications(pop_experiment.loc['c1_e10.5_pool'], pop_libraries, column='expected_count')\n",
    "pop_rsem_gene_tpm = load_genomic_quantifications(pop_experiment.loc['c1_e10.5_pool'], pop_libraries, column='TPM')"
   ]
  },
  {
   "cell_type": "code",
   "execution_count": 35,
   "metadata": {},
   "outputs": [
    {
     "name": "stdout",
     "output_type": "stream",
     "text": [
      "quantifications c1_e10.5_pool (168207, 1)\n",
      "quantifications c1_e10.5_pool (168207, 1)\n"
     ]
    }
   ],
   "source": [
    "pop_rsem_transcript_count = load_transcriptome_quantifications(pop_experiment.loc['c1_e10.5_pool'], pop_libraries, column='expected_count')\n",
    "pop_rsem_transcript_tpm = load_transcriptome_quantifications(pop_experiment.loc['c1_e10.5_pool'], pop_libraries, column='TPM')"
   ]
  },
  {
   "cell_type": "markdown",
   "metadata": {},
   "source": [
    "# Read STAR ReadsPerGene.tab"
   ]
  },
  {
   "cell_type": "code",
   "execution_count": 36,
   "metadata": {},
   "outputs": [],
   "source": [
    "cells_star_gene_count = load_all_star_counts(c1_M21_libraries, column='U').reindex(pop_rsem_gene_count.index)\n",
    "cells_star_gene_count.loc[cells_star_gene_count.index, one_encode_experiment['replicates']]\n",
    "sc_star_gene_count = cells_star_gene_count.sum(axis=1)"
   ]
  },
  {
   "cell_type": "code",
   "execution_count": 37,
   "metadata": {},
   "outputs": [],
   "source": [
    "pop_star_gene_count = load_all_star_counts(pop_libraries, column='U').reindex(pop_rsem_gene_count.index)"
   ]
  },
  {
   "cell_type": "code",
   "execution_count": null,
   "metadata": {},
   "outputs": [],
   "source": []
  },
  {
   "cell_type": "markdown",
   "metadata": {},
   "source": [
    "# Read kallisto results"
   ]
  },
  {
   "cell_type": "code",
   "execution_count": 38,
   "metadata": {},
   "outputs": [],
   "source": [
    "pop_kallisto_transcript = pandas.read_csv(c1_root / 'kallisto_e10.5' / 'abundance.tsv', sep='\\t', index_col=0, usecols=['target_id', 'est_counts', 'tpm'])\n",
    "#pop_kallisto_transcript.columns = ['kallisto_gene_counts']\n",
    "pop_kallisto_transcript['gene_id'] = [mm10_M21_map[x] for x in pop_kallisto_transcript.index]\n"
   ]
  },
  {
   "cell_type": "code",
   "execution_count": 39,
   "metadata": {},
   "outputs": [],
   "source": [
    "pop_kallisto_gene_count = pop_kallisto_transcript.groupby('gene_id')['est_counts'].sum()\n",
    "pop_kallisto_gene_tpm = pop_kallisto_transcript.groupby('gene_id')['tpm'].sum()"
   ]
  },
  {
   "cell_type": "code",
   "execution_count": 40,
   "metadata": {
    "scrolled": true
   },
   "outputs": [
    {
     "data": {
      "text/plain": [
       "(81881,)"
      ]
     },
     "execution_count": 40,
     "metadata": {},
     "output_type": "execute_result"
    }
   ],
   "source": [
    "pop_kallisto_gene_count.shape"
   ]
  },
  {
   "cell_type": "markdown",
   "metadata": {},
   "source": [
    "# Read kallisto 2x fragment size"
   ]
  },
  {
   "cell_type": "markdown",
   "metadata": {},
   "source": [
    "To see how mapping is influenced by fragment size, I doubled it."
   ]
  },
  {
   "cell_type": "code",
   "execution_count": 41,
   "metadata": {},
   "outputs": [],
   "source": [
    "pop_kallisto_2x_transcript = pandas.read_csv(c1_root / 'kallisto_e10.5_f594' / 'abundance.tsv', sep='\\t', index_col=0, usecols=['target_id', 'est_counts', 'tpm'])\n",
    "#pop_kallisto_transcript.columns = ['kallisto_gene_counts']\n",
    "pop_kallisto_2x_transcript['gene_id'] = [mm10_M21_map[x] for x in pop_kallisto_transcript.index]\n"
   ]
  },
  {
   "cell_type": "code",
   "execution_count": 42,
   "metadata": {},
   "outputs": [],
   "source": [
    "pop_kallisto_2x_gene_count = pop_kallisto_transcript.groupby('gene_id')['est_counts'].sum()\n",
    "pop_kallisto_2x_gene_tpm = pop_kallisto_transcript.groupby('gene_id')['tpm'].sum()"
   ]
  },
  {
   "cell_type": "code",
   "execution_count": 43,
   "metadata": {
    "scrolled": true
   },
   "outputs": [
    {
     "data": {
      "text/plain": [
       "(81881,)"
      ]
     },
     "execution_count": 43,
     "metadata": {},
     "output_type": "execute_result"
    }
   ],
   "source": [
    "pop_kallisto_2x_gene_count.shape"
   ]
  },
  {
   "cell_type": "code",
   "execution_count": null,
   "metadata": {},
   "outputs": [],
   "source": []
  },
  {
   "cell_type": "markdown",
   "metadata": {},
   "source": [
    "# Read Salmon Decoy results"
   ]
  },
  {
   "cell_type": "code",
   "execution_count": 44,
   "metadata": {},
   "outputs": [
    {
     "data": {
      "text/plain": [
       "(168207, 3)"
      ]
     },
     "execution_count": 44,
     "metadata": {},
     "output_type": "execute_result"
    }
   ],
   "source": [
    "pop_salmon_decoy_transcript = pandas.read_csv(c1_root / 'salmon_decoy_e10.5' / 'quant.sf', sep='\\t', index_col=0, usecols=['Name', 'NumReads', 'TPM']).reindex(pop_rsem_transcript_count.index, fill_value=0.0)\n",
    "pop_salmon_decoy_transcript['gene_id'] = [mm10_M21_map[x] for x in pop_salmon_decoy_transcript.index]\n",
    "pop_salmon_decoy_transcript.shape"
   ]
  },
  {
   "cell_type": "code",
   "execution_count": 45,
   "metadata": {},
   "outputs": [
    {
     "data": {
      "text/html": [
       "<div>\n",
       "<style scoped>\n",
       "    .dataframe tbody tr th:only-of-type {\n",
       "        vertical-align: middle;\n",
       "    }\n",
       "\n",
       "    .dataframe tbody tr th {\n",
       "        vertical-align: top;\n",
       "    }\n",
       "\n",
       "    .dataframe thead th {\n",
       "        text-align: right;\n",
       "    }\n",
       "</style>\n",
       "<table border=\"1\" class=\"dataframe\">\n",
       "  <thead>\n",
       "    <tr style=\"text-align: right;\">\n",
       "      <th></th>\n",
       "      <th>TPM</th>\n",
       "      <th>NumReads</th>\n",
       "      <th>gene_id</th>\n",
       "    </tr>\n",
       "    <tr>\n",
       "      <th>transcript_id</th>\n",
       "      <th></th>\n",
       "      <th></th>\n",
       "      <th></th>\n",
       "    </tr>\n",
       "  </thead>\n",
       "  <tbody>\n",
       "    <tr>\n",
       "      <th>10000</th>\n",
       "      <td>0.000000</td>\n",
       "      <td>0.000</td>\n",
       "      <td>10000</td>\n",
       "    </tr>\n",
       "    <tr>\n",
       "      <th>10001</th>\n",
       "      <td>0.000000</td>\n",
       "      <td>0.000</td>\n",
       "      <td>10001</td>\n",
       "    </tr>\n",
       "    <tr>\n",
       "      <th>10002</th>\n",
       "      <td>5.778059</td>\n",
       "      <td>12.553</td>\n",
       "      <td>10002</td>\n",
       "    </tr>\n",
       "    <tr>\n",
       "      <th>10003</th>\n",
       "      <td>0.000000</td>\n",
       "      <td>0.000</td>\n",
       "      <td>10003</td>\n",
       "    </tr>\n",
       "    <tr>\n",
       "      <th>10004</th>\n",
       "      <td>0.000000</td>\n",
       "      <td>0.000</td>\n",
       "      <td>10004</td>\n",
       "    </tr>\n",
       "    <tr>\n",
       "      <th>...</th>\n",
       "      <td>...</td>\n",
       "      <td>...</td>\n",
       "      <td>...</td>\n",
       "    </tr>\n",
       "    <tr>\n",
       "      <th>tSpikein_ERCC-00165</th>\n",
       "      <td>8.609722</td>\n",
       "      <td>2847.000</td>\n",
       "      <td>gSpikein_ERCC-00165</td>\n",
       "    </tr>\n",
       "    <tr>\n",
       "      <th>tSpikein_ERCC-00168</th>\n",
       "      <td>0.210129</td>\n",
       "      <td>87.000</td>\n",
       "      <td>gSpikein_ERCC-00168</td>\n",
       "    </tr>\n",
       "    <tr>\n",
       "      <th>tSpikein_ERCC-00170</th>\n",
       "      <td>12.450761</td>\n",
       "      <td>5155.000</td>\n",
       "      <td>gSpikein_ERCC-00170</td>\n",
       "    </tr>\n",
       "    <tr>\n",
       "      <th>tSpikein_ERCC-00171</th>\n",
       "      <td>1087.570259</td>\n",
       "      <td>139289.000</td>\n",
       "      <td>gSpikein_ERCC-00171</td>\n",
       "    </tr>\n",
       "    <tr>\n",
       "      <th>tSpikein_phiX174</th>\n",
       "      <td>0.007758</td>\n",
       "      <td>22.000</td>\n",
       "      <td>gSpikein_phiX174</td>\n",
       "    </tr>\n",
       "  </tbody>\n",
       "</table>\n",
       "<p>168207 rows × 3 columns</p>\n",
       "</div>"
      ],
      "text/plain": [
       "                             TPM    NumReads              gene_id\n",
       "transcript_id                                                    \n",
       "10000                   0.000000       0.000                10000\n",
       "10001                   0.000000       0.000                10001\n",
       "10002                   5.778059      12.553                10002\n",
       "10003                   0.000000       0.000                10003\n",
       "10004                   0.000000       0.000                10004\n",
       "...                          ...         ...                  ...\n",
       "tSpikein_ERCC-00165     8.609722    2847.000  gSpikein_ERCC-00165\n",
       "tSpikein_ERCC-00168     0.210129      87.000  gSpikein_ERCC-00168\n",
       "tSpikein_ERCC-00170    12.450761    5155.000  gSpikein_ERCC-00170\n",
       "tSpikein_ERCC-00171  1087.570259  139289.000  gSpikein_ERCC-00171\n",
       "tSpikein_phiX174        0.007758      22.000     gSpikein_phiX174\n",
       "\n",
       "[168207 rows x 3 columns]"
      ]
     },
     "execution_count": 45,
     "metadata": {},
     "output_type": "execute_result"
    }
   ],
   "source": [
    "pop_salmon_decoy_transcript"
   ]
  },
  {
   "cell_type": "code",
   "execution_count": 46,
   "metadata": {},
   "outputs": [],
   "source": [
    "pop_salmon_decoy_gene_count = pop_salmon_decoy_transcript.groupby('gene_id')['NumReads'].sum()\n",
    "pop_salmon_decoy_gene_tpm = pop_salmon_decoy_transcript.groupby('gene_id')['TPM'].sum()"
   ]
  },
  {
   "cell_type": "code",
   "execution_count": 47,
   "metadata": {},
   "outputs": [
    {
     "data": {
      "text/plain": [
       "(81881,)"
      ]
     },
     "execution_count": 47,
     "metadata": {},
     "output_type": "execute_result"
    }
   ],
   "source": [
    "pop_salmon_decoy_gene_count.shape"
   ]
  },
  {
   "cell_type": "markdown",
   "metadata": {},
   "source": [
    "# Read Salmon results"
   ]
  },
  {
   "cell_type": "code",
   "execution_count": 48,
   "metadata": {},
   "outputs": [
    {
     "data": {
      "text/plain": [
       "(168207, 3)"
      ]
     },
     "execution_count": 48,
     "metadata": {},
     "output_type": "execute_result"
    }
   ],
   "source": [
    "pop_salmon_transcript = pandas.read_csv(c1_root / 'salmon_e10.5' / 'quant.sf', sep='\\t', index_col=0, usecols=['Name', 'NumReads', 'TPM']).reindex(pop_rsem_transcript_count.index, fill_value=0.0)\n",
    "pop_salmon_transcript['gene_id'] = [mm10_M21_map[x] for x in pop_salmon_transcript.index]\n",
    "pop_salmon_transcript.shape"
   ]
  },
  {
   "cell_type": "code",
   "execution_count": 49,
   "metadata": {},
   "outputs": [],
   "source": [
    "pop_salmon_gene_count = pop_salmon_transcript.groupby('gene_id')['NumReads'].sum()\n",
    "pop_salmon_gene_tpm = pop_salmon_transcript.groupby('gene_id')['TPM'].sum()"
   ]
  },
  {
   "cell_type": "code",
   "execution_count": 50,
   "metadata": {
    "scrolled": true
   },
   "outputs": [
    {
     "data": {
      "text/plain": [
       "(81881,)"
      ]
     },
     "execution_count": 50,
     "metadata": {},
     "output_type": "execute_result"
    }
   ],
   "source": [
    "pop_salmon_gene_count.shape"
   ]
  },
  {
   "cell_type": "code",
   "execution_count": 51,
   "metadata": {},
   "outputs": [
    {
     "data": {
      "text/plain": [
       "gene_id\n",
       "10000                       0.000\n",
       "10001                       0.000\n",
       "10002                      10.374\n",
       "10003                       0.000\n",
       "10004                       0.000\n",
       "                          ...    \n",
       "gSpikein_ERCC-00165      2847.000\n",
       "gSpikein_ERCC-00168        87.000\n",
       "gSpikein_ERCC-00170      5155.000\n",
       "gSpikein_ERCC-00171    139289.000\n",
       "gSpikein_phiX174           22.000\n",
       "Name: NumReads, Length: 81881, dtype: float64"
      ]
     },
     "execution_count": 51,
     "metadata": {},
     "output_type": "execute_result"
    }
   ],
   "source": [
    "pop_salmon_gene_count.reindex(pop_star_gene_count.index, fill_value=0.0)"
   ]
  },
  {
   "cell_type": "code",
   "execution_count": 52,
   "metadata": {},
   "outputs": [],
   "source": [
    "def build_loom(filename, matrix, quantification_name, gtf):\n",
    "    gene_info = gtf[gtf['type'].isin(['gene', 'tRNA']) | (gtf['source'] == 'spikein')]\n",
    "    transcript_info = gtf[(gtf['type'].isin(['transcript', 'tRNA'])) | (gtf['source'] == 'spikein')]\n",
    "    \n",
    "    if matrix.shape[0] == gene_info.shape[0]:\n",
    "        # We have a gene matrix\n",
    "        info = gene_info\n",
    "        info = info.set_index('gene_id')\n",
    "        feature_type = 'gene'\n",
    "    elif matrix.shape[0] == transcript_info.shape[0]:\n",
    "        info = transcript_info\n",
    "        info = info.set_index('transcript_id')\n",
    "        feature_type = 'transcript'\n",
    "    else:\n",
    "        raise ValueError('Unrecognized shape expected {} or {} got {}'.format(\n",
    "            gene_info.shape[0], \n",
    "            transcript_info.shape[0],\n",
    "            count.shape[0],\n",
    "        ))\n",
    "    gene_names = []\n",
    "    gene_types = []\n",
    "    for feature in matrix.index:\n",
    "        gene_names.append(info.loc[feature, 'gene_name'])\n",
    "        gene_types.append(info.loc[feature, 'gene_type'])\n",
    "\n",
    "    row_attrs = {\n",
    "        'id': numpy.asarray(matrix.index),\n",
    "        'gene_name': numpy.asarray(gene_names),\n",
    "        'gene_type': numpy.asarray(gene_types),\n",
    "    }\n",
    "    column_attrs = {\n",
    "        'experiment': numpy.asarray(matrix.columns), \n",
    "    }\n",
    "    file_attrs = {\n",
    "        'quantification_name': quantification_name,\n",
    "        'feature_type': feature_type,\n",
    "    }\n",
    "    loompy.create(str(filename), matrix.values, row_attrs=row_attrs, col_attrs=column_attrs, file_attrs=file_attrs)\n"
   ]
  },
  {
   "cell_type": "code",
   "execution_count": 53,
   "metadata": {},
   "outputs": [],
   "source": [
    "def build_anndata(filename, matrix, quantification_name, gtf):\n",
    "    gene_info = gtf[gtf['type'].isin(['gene', 'tRNA']) | (gtf['source'] == 'spikein')]\n",
    "    transcript_info = gtf[(gtf['type'].isin(['transcript', 'tRNA'])) | (gtf['source'] == 'spikein')]\n",
    "    \n",
    "    if matrix.shape[0] == gene_info.shape[0]:\n",
    "        # We have a gene matrix\n",
    "        info = gene_info\n",
    "        info = info.set_index('gene_id')\n",
    "        feature_type = 'gene'\n",
    "    elif matrix.shape[0] == transcript_info.shape[0]:\n",
    "        info = transcript_info\n",
    "        info = info.set_index('transcript_id')\n",
    "        feature_type = 'transcript'\n",
    "    else:\n",
    "        raise ValueError('Unrecognized shape expected {} or {} got {}'.format(\n",
    "            gene_info.shape[0], \n",
    "            transcript_info.shape[0],\n",
    "            count.shape[0],\n",
    "        ))\n",
    "    gene_names = []\n",
    "    gene_types = []\n",
    "    for feature in matrix.index:\n",
    "        gene_names.append(info.loc[feature, 'gene_name'])\n",
    "        gene_types.append(info.loc[feature, 'gene_type'])\n",
    "\n",
    "    adata = anndata.AnnData(matrix.T)\n",
    "    adata.var['gene_symbol'] = gene_names\n",
    "    adata.var['gene_type'] = gene_types\n",
    "    adata.uns['quantification_name'] = quantification_name\n",
    "    adata.uns['feature_type'] = feature_type\n",
    "    \n",
    "    adata.write_h5ad(filename)"
   ]
  },
  {
   "cell_type": "markdown",
   "metadata": {},
   "source": [
    "# Build Gene Matrix"
   ]
  },
  {
   "cell_type": "code",
   "execution_count": 54,
   "metadata": {},
   "outputs": [
    {
     "data": {
      "text/plain": [
       "(81881,)"
      ]
     },
     "execution_count": 54,
     "metadata": {},
     "output_type": "execute_result"
    }
   ],
   "source": [
    "pop_star_gene_count.index.shape"
   ]
  },
  {
   "cell_type": "code",
   "execution_count": 55,
   "metadata": {},
   "outputs": [
    {
     "data": {
      "text/plain": [
       "((81881,), (81881, 1))"
      ]
     },
     "execution_count": 55,
     "metadata": {},
     "output_type": "execute_result"
    }
   ],
   "source": [
    "sc_rsem_gene_count.shape, pop_rsem_gene_count.shape"
   ]
  },
  {
   "cell_type": "code",
   "execution_count": 56,
   "metadata": {},
   "outputs": [],
   "source": [
    "assert numpy.all(sc_rsem_gene_count.index == pop_rsem_gene_count.index)\n",
    "assert numpy.all(pop_rsem_gene_count.index == sc_star_gene_count.index)\n",
    "assert numpy.all(sc_star_gene_count.index == pop_star_gene_count.index)\n",
    "assert numpy.all(pop_star_gene_count.index == pop_kallisto_gene_count.index)\n",
    "assert numpy.all(pop_kallisto_gene_count.index == pop_salmon_decoy_gene_count.index)\n",
    "assert numpy.all(pop_salmon_decoy_gene_count.index == pop_salmon_gene_count.index)\n",
    "assert numpy.all(pop_kallisto_gene_count.index == pop_kallisto_2x_gene_count.index)\n"
   ]
  },
  {
   "cell_type": "code",
   "execution_count": 57,
   "metadata": {},
   "outputs": [
    {
     "data": {
      "text/plain": [
       "Index(['c1_e10.5'], dtype='object')"
      ]
     },
     "execution_count": 57,
     "metadata": {},
     "output_type": "execute_result"
    }
   ],
   "source": [
    "pop_star_gene_count.columns"
   ]
  },
  {
   "cell_type": "code",
   "execution_count": 58,
   "metadata": {},
   "outputs": [
    {
     "data": {
      "text/html": [
       "<div>\n",
       "<style scoped>\n",
       "    .dataframe tbody tr th:only-of-type {\n",
       "        vertical-align: middle;\n",
       "    }\n",
       "\n",
       "    .dataframe tbody tr th {\n",
       "        vertical-align: top;\n",
       "    }\n",
       "\n",
       "    .dataframe thead th {\n",
       "        text-align: right;\n",
       "    }\n",
       "</style>\n",
       "<table border=\"1\" class=\"dataframe\">\n",
       "  <thead>\n",
       "    <tr style=\"text-align: right;\">\n",
       "      <th></th>\n",
       "      <th>sc_rsem</th>\n",
       "      <th>pop_rsem</th>\n",
       "      <th>sc_star</th>\n",
       "      <th>pop_star</th>\n",
       "      <th>pop_kallisto</th>\n",
       "      <th>pop_kallisto_fragment2x</th>\n",
       "      <th>pop_salmon_decoy</th>\n",
       "      <th>pop_salmon</th>\n",
       "    </tr>\n",
       "    <tr>\n",
       "      <th>gene_id</th>\n",
       "      <th></th>\n",
       "      <th></th>\n",
       "      <th></th>\n",
       "      <th></th>\n",
       "      <th></th>\n",
       "      <th></th>\n",
       "      <th></th>\n",
       "      <th></th>\n",
       "    </tr>\n",
       "  </thead>\n",
       "  <tbody>\n",
       "    <tr>\n",
       "      <th>10000</th>\n",
       "      <td>0.0</td>\n",
       "      <td>0.0</td>\n",
       "      <td>0</td>\n",
       "      <td>0</td>\n",
       "      <td>0.0</td>\n",
       "      <td>0.0</td>\n",
       "      <td>0.000</td>\n",
       "      <td>0.000</td>\n",
       "    </tr>\n",
       "    <tr>\n",
       "      <th>10001</th>\n",
       "      <td>0.0</td>\n",
       "      <td>0.0</td>\n",
       "      <td>0</td>\n",
       "      <td>0</td>\n",
       "      <td>0.0</td>\n",
       "      <td>0.0</td>\n",
       "      <td>0.000</td>\n",
       "      <td>0.000</td>\n",
       "    </tr>\n",
       "    <tr>\n",
       "      <th>10002</th>\n",
       "      <td>0.0</td>\n",
       "      <td>0.0</td>\n",
       "      <td>0</td>\n",
       "      <td>0</td>\n",
       "      <td>0.0</td>\n",
       "      <td>0.0</td>\n",
       "      <td>12.553</td>\n",
       "      <td>10.374</td>\n",
       "    </tr>\n",
       "    <tr>\n",
       "      <th>10003</th>\n",
       "      <td>0.0</td>\n",
       "      <td>0.0</td>\n",
       "      <td>0</td>\n",
       "      <td>0</td>\n",
       "      <td>0.0</td>\n",
       "      <td>0.0</td>\n",
       "      <td>0.000</td>\n",
       "      <td>0.000</td>\n",
       "    </tr>\n",
       "    <tr>\n",
       "      <th>10004</th>\n",
       "      <td>0.0</td>\n",
       "      <td>0.0</td>\n",
       "      <td>0</td>\n",
       "      <td>0</td>\n",
       "      <td>0.0</td>\n",
       "      <td>0.0</td>\n",
       "      <td>0.000</td>\n",
       "      <td>0.000</td>\n",
       "    </tr>\n",
       "    <tr>\n",
       "      <th>...</th>\n",
       "      <td>...</td>\n",
       "      <td>...</td>\n",
       "      <td>...</td>\n",
       "      <td>...</td>\n",
       "      <td>...</td>\n",
       "      <td>...</td>\n",
       "      <td>...</td>\n",
       "      <td>...</td>\n",
       "    </tr>\n",
       "    <tr>\n",
       "      <th>gSpikein_ERCC-00165</th>\n",
       "      <td>2851.0</td>\n",
       "      <td>2851.0</td>\n",
       "      <td>67304</td>\n",
       "      <td>2967</td>\n",
       "      <td>1800.0</td>\n",
       "      <td>1800.0</td>\n",
       "      <td>2847.000</td>\n",
       "      <td>2847.000</td>\n",
       "    </tr>\n",
       "    <tr>\n",
       "      <th>gSpikein_ERCC-00168</th>\n",
       "      <td>87.0</td>\n",
       "      <td>87.0</td>\n",
       "      <td>2600</td>\n",
       "      <td>87</td>\n",
       "      <td>63.0</td>\n",
       "      <td>63.0</td>\n",
       "      <td>87.000</td>\n",
       "      <td>87.000</td>\n",
       "    </tr>\n",
       "    <tr>\n",
       "      <th>gSpikein_ERCC-00170</th>\n",
       "      <td>5189.0</td>\n",
       "      <td>5189.0</td>\n",
       "      <td>74813</td>\n",
       "      <td>5345</td>\n",
       "      <td>2670.0</td>\n",
       "      <td>2670.0</td>\n",
       "      <td>5155.000</td>\n",
       "      <td>5155.000</td>\n",
       "    </tr>\n",
       "    <tr>\n",
       "      <th>gSpikein_ERCC-00171</th>\n",
       "      <td>137815.0</td>\n",
       "      <td>137815.0</td>\n",
       "      <td>2700617</td>\n",
       "      <td>145624</td>\n",
       "      <td>8847.0</td>\n",
       "      <td>8847.0</td>\n",
       "      <td>139289.000</td>\n",
       "      <td>139289.000</td>\n",
       "    </tr>\n",
       "    <tr>\n",
       "      <th>gSpikein_phiX174</th>\n",
       "      <td>27.0</td>\n",
       "      <td>27.0</td>\n",
       "      <td>67</td>\n",
       "      <td>31</td>\n",
       "      <td>22.0</td>\n",
       "      <td>22.0</td>\n",
       "      <td>22.000</td>\n",
       "      <td>22.000</td>\n",
       "    </tr>\n",
       "  </tbody>\n",
       "</table>\n",
       "<p>81881 rows × 8 columns</p>\n",
       "</div>"
      ],
      "text/plain": [
       "                      sc_rsem  pop_rsem  sc_star  pop_star  pop_kallisto  \\\n",
       "gene_id                                                                    \n",
       "10000                     0.0       0.0        0         0           0.0   \n",
       "10001                     0.0       0.0        0         0           0.0   \n",
       "10002                     0.0       0.0        0         0           0.0   \n",
       "10003                     0.0       0.0        0         0           0.0   \n",
       "10004                     0.0       0.0        0         0           0.0   \n",
       "...                       ...       ...      ...       ...           ...   \n",
       "gSpikein_ERCC-00165    2851.0    2851.0    67304      2967        1800.0   \n",
       "gSpikein_ERCC-00168      87.0      87.0     2600        87          63.0   \n",
       "gSpikein_ERCC-00170    5189.0    5189.0    74813      5345        2670.0   \n",
       "gSpikein_ERCC-00171  137815.0  137815.0  2700617    145624        8847.0   \n",
       "gSpikein_phiX174         27.0      27.0       67        31          22.0   \n",
       "\n",
       "                     pop_kallisto_fragment2x  pop_salmon_decoy  pop_salmon  \n",
       "gene_id                                                                     \n",
       "10000                                    0.0             0.000       0.000  \n",
       "10001                                    0.0             0.000       0.000  \n",
       "10002                                    0.0            12.553      10.374  \n",
       "10003                                    0.0             0.000       0.000  \n",
       "10004                                    0.0             0.000       0.000  \n",
       "...                                      ...               ...         ...  \n",
       "gSpikein_ERCC-00165                   1800.0          2847.000    2847.000  \n",
       "gSpikein_ERCC-00168                     63.0            87.000      87.000  \n",
       "gSpikein_ERCC-00170                   2670.0          5155.000    5155.000  \n",
       "gSpikein_ERCC-00171                   8847.0        139289.000  139289.000  \n",
       "gSpikein_phiX174                        22.0            22.000      22.000  \n",
       "\n",
       "[81881 rows x 8 columns]"
      ]
     },
     "execution_count": 58,
     "metadata": {},
     "output_type": "execute_result"
    }
   ],
   "source": [
    "gene_counts = pandas.DataFrame({\n",
    "    'sc_rsem': sc_rsem_gene_count,\n",
    "    'pop_rsem': pop_rsem_gene_count['c1_e10.5'],\n",
    "    'sc_star': sc_star_gene_count,\n",
    "    'pop_star': pop_star_gene_count['c1_e10.5'],\n",
    "    'pop_kallisto': pop_kallisto_gene_count,\n",
    "    'pop_kallisto_fragment2x': pop_kallisto_2x_gene_count,\n",
    "    'pop_salmon_decoy': pop_salmon_decoy_gene_count,\n",
    "    'pop_salmon': pop_salmon_gene_count,\n",
    "})\n",
    "gene_counts"
   ]
  },
  {
   "cell_type": "code",
   "execution_count": 59,
   "metadata": {},
   "outputs": [],
   "source": [
    "assert numpy.all(sc_rsem_gene_tpm.index == pop_rsem_gene_tpm.index)\n",
    "assert numpy.all(pop_rsem_gene_tpm.index == pop_kallisto_gene_tpm.index)\n",
    "assert numpy.all(pop_kallisto_gene_tpm.index == pop_salmon_decoy_gene_tpm.index)\n",
    "assert numpy.all(pop_salmon_decoy_gene_tpm.index == pop_salmon_gene_tpm.index)\n",
    "assert numpy.all(pop_kallisto_gene_tpm.index == pop_kallisto_2x_gene_tpm.index)\n"
   ]
  },
  {
   "cell_type": "code",
   "execution_count": 60,
   "metadata": {},
   "outputs": [
    {
     "data": {
      "text/html": [
       "<div>\n",
       "<style scoped>\n",
       "    .dataframe tbody tr th:only-of-type {\n",
       "        vertical-align: middle;\n",
       "    }\n",
       "\n",
       "    .dataframe tbody tr th {\n",
       "        vertical-align: top;\n",
       "    }\n",
       "\n",
       "    .dataframe thead th {\n",
       "        text-align: right;\n",
       "    }\n",
       "</style>\n",
       "<table border=\"1\" class=\"dataframe\">\n",
       "  <thead>\n",
       "    <tr style=\"text-align: right;\">\n",
       "      <th></th>\n",
       "      <th>sc_rsem</th>\n",
       "      <th>pop_rsem</th>\n",
       "      <th>pop_kallisto</th>\n",
       "      <th>pop_kallisto_fragment2x</th>\n",
       "      <th>pop_salmon_decoy</th>\n",
       "      <th>pop_salmon</th>\n",
       "    </tr>\n",
       "    <tr>\n",
       "      <th>gene_id</th>\n",
       "      <th></th>\n",
       "      <th></th>\n",
       "      <th></th>\n",
       "      <th></th>\n",
       "      <th></th>\n",
       "      <th></th>\n",
       "    </tr>\n",
       "  </thead>\n",
       "  <tbody>\n",
       "    <tr>\n",
       "      <th>10000</th>\n",
       "      <td>0.0</td>\n",
       "      <td>0.00</td>\n",
       "      <td>0.000000</td>\n",
       "      <td>0.000000</td>\n",
       "      <td>0.000000</td>\n",
       "      <td>0.000000</td>\n",
       "    </tr>\n",
       "    <tr>\n",
       "      <th>10001</th>\n",
       "      <td>0.0</td>\n",
       "      <td>0.00</td>\n",
       "      <td>0.000000</td>\n",
       "      <td>0.000000</td>\n",
       "      <td>0.000000</td>\n",
       "      <td>0.000000</td>\n",
       "    </tr>\n",
       "    <tr>\n",
       "      <th>10002</th>\n",
       "      <td>0.0</td>\n",
       "      <td>0.00</td>\n",
       "      <td>0.000000</td>\n",
       "      <td>0.000000</td>\n",
       "      <td>5.778059</td>\n",
       "      <td>4.507016</td>\n",
       "    </tr>\n",
       "    <tr>\n",
       "      <th>10003</th>\n",
       "      <td>0.0</td>\n",
       "      <td>0.00</td>\n",
       "      <td>0.000000</td>\n",
       "      <td>0.000000</td>\n",
       "      <td>0.000000</td>\n",
       "      <td>0.000000</td>\n",
       "    </tr>\n",
       "    <tr>\n",
       "      <th>10004</th>\n",
       "      <td>0.0</td>\n",
       "      <td>0.00</td>\n",
       "      <td>0.000000</td>\n",
       "      <td>0.000000</td>\n",
       "      <td>0.000000</td>\n",
       "      <td>0.000000</td>\n",
       "    </tr>\n",
       "    <tr>\n",
       "      <th>...</th>\n",
       "      <td>...</td>\n",
       "      <td>...</td>\n",
       "      <td>...</td>\n",
       "      <td>...</td>\n",
       "      <td>...</td>\n",
       "      <td>...</td>\n",
       "    </tr>\n",
       "    <tr>\n",
       "      <th>gSpikein_ERCC-00165</th>\n",
       "      <td>2851.0</td>\n",
       "      <td>10.81</td>\n",
       "      <td>13.580100</td>\n",
       "      <td>13.580100</td>\n",
       "      <td>8.609722</td>\n",
       "      <td>8.126028</td>\n",
       "    </tr>\n",
       "    <tr>\n",
       "      <th>gSpikein_ERCC-00168</th>\n",
       "      <td>87.0</td>\n",
       "      <td>0.28</td>\n",
       "      <td>0.343633</td>\n",
       "      <td>0.343633</td>\n",
       "      <td>0.210129</td>\n",
       "      <td>0.198324</td>\n",
       "    </tr>\n",
       "    <tr>\n",
       "      <th>gSpikein_ERCC-00170</th>\n",
       "      <td>5189.0</td>\n",
       "      <td>16.62</td>\n",
       "      <td>14.590100</td>\n",
       "      <td>14.590100</td>\n",
       "      <td>12.450761</td>\n",
       "      <td>11.751278</td>\n",
       "    </tr>\n",
       "    <tr>\n",
       "      <th>gSpikein_ERCC-00171</th>\n",
       "      <td>137815.0</td>\n",
       "      <td>942.74</td>\n",
       "      <td>244.729000</td>\n",
       "      <td>244.729000</td>\n",
       "      <td>1087.570259</td>\n",
       "      <td>1026.470610</td>\n",
       "    </tr>\n",
       "    <tr>\n",
       "      <th>gSpikein_phiX174</th>\n",
       "      <td>27.0</td>\n",
       "      <td>0.02</td>\n",
       "      <td>0.013390</td>\n",
       "      <td>0.013390</td>\n",
       "      <td>0.007758</td>\n",
       "      <td>0.007322</td>\n",
       "    </tr>\n",
       "  </tbody>\n",
       "</table>\n",
       "<p>81881 rows × 6 columns</p>\n",
       "</div>"
      ],
      "text/plain": [
       "                      sc_rsem  pop_rsem  pop_kallisto  \\\n",
       "gene_id                                                 \n",
       "10000                     0.0      0.00      0.000000   \n",
       "10001                     0.0      0.00      0.000000   \n",
       "10002                     0.0      0.00      0.000000   \n",
       "10003                     0.0      0.00      0.000000   \n",
       "10004                     0.0      0.00      0.000000   \n",
       "...                       ...       ...           ...   \n",
       "gSpikein_ERCC-00165    2851.0     10.81     13.580100   \n",
       "gSpikein_ERCC-00168      87.0      0.28      0.343633   \n",
       "gSpikein_ERCC-00170    5189.0     16.62     14.590100   \n",
       "gSpikein_ERCC-00171  137815.0    942.74    244.729000   \n",
       "gSpikein_phiX174         27.0      0.02      0.013390   \n",
       "\n",
       "                     pop_kallisto_fragment2x  pop_salmon_decoy   pop_salmon  \n",
       "gene_id                                                                      \n",
       "10000                               0.000000          0.000000     0.000000  \n",
       "10001                               0.000000          0.000000     0.000000  \n",
       "10002                               0.000000          5.778059     4.507016  \n",
       "10003                               0.000000          0.000000     0.000000  \n",
       "10004                               0.000000          0.000000     0.000000  \n",
       "...                                      ...               ...          ...  \n",
       "gSpikein_ERCC-00165                13.580100          8.609722     8.126028  \n",
       "gSpikein_ERCC-00168                 0.343633          0.210129     0.198324  \n",
       "gSpikein_ERCC-00170                14.590100         12.450761    11.751278  \n",
       "gSpikein_ERCC-00171               244.729000       1087.570259  1026.470610  \n",
       "gSpikein_phiX174                    0.013390          0.007758     0.007322  \n",
       "\n",
       "[81881 rows x 6 columns]"
      ]
     },
     "execution_count": 60,
     "metadata": {},
     "output_type": "execute_result"
    }
   ],
   "source": [
    "gene_tpm = pandas.DataFrame({\n",
    "    'sc_rsem': sc_rsem_gene_tpm,\n",
    "    'pop_rsem': pop_rsem_gene_tpm['c1_e10.5'],\n",
    "    'pop_kallisto': pop_kallisto_gene_tpm,\n",
    "    'pop_kallisto_fragment2x': pop_kallisto_2x_gene_tpm,\n",
    "    'pop_salmon_decoy': pop_salmon_decoy_gene_tpm,\n",
    "    'pop_salmon': pop_salmon_gene_tpm,\n",
    "})\n",
    "gene_tpm"
   ]
  },
  {
   "cell_type": "code",
   "execution_count": 61,
   "metadata": {},
   "outputs": [],
   "source": [
    "build_loom(c1_root / 'c1_e10.5_gene_counts.loom', gene_counts, 'counts', gtf)"
   ]
  },
  {
   "cell_type": "code",
   "execution_count": 62,
   "metadata": {},
   "outputs": [
    {
     "name": "stderr",
     "output_type": "stream",
     "text": [
      "... storing 'gene_symbol' as categorical\n",
      "... storing 'gene_type' as categorical\n"
     ]
    }
   ],
   "source": [
    "build_anndata(c1_root / 'c1_e10.5_gene_counts.h5ad', gene_counts, 'counts', gtf)"
   ]
  },
  {
   "cell_type": "code",
   "execution_count": 63,
   "metadata": {},
   "outputs": [],
   "source": [
    "build_loom(c1_root / 'c1_e10.5_gene_tpms.loom', gene_tpm, 'TPM', gtf)"
   ]
  },
  {
   "cell_type": "code",
   "execution_count": 64,
   "metadata": {},
   "outputs": [
    {
     "name": "stderr",
     "output_type": "stream",
     "text": [
      "... storing 'gene_symbol' as categorical\n",
      "... storing 'gene_type' as categorical\n"
     ]
    }
   ],
   "source": [
    "build_anndata(c1_root / 'c1_e10.5_gene_tpms.h5ad', gene_tpm, 'TPM', gtf)"
   ]
  },
  {
   "cell_type": "markdown",
   "metadata": {},
   "source": [
    "# Build Transcript Matrix"
   ]
  },
  {
   "cell_type": "code",
   "execution_count": 65,
   "metadata": {},
   "outputs": [],
   "source": [
    "assert numpy.all(sc_rsem_transcript_count.index == pop_rsem_transcript_count.index)\n",
    "assert numpy.all(pop_rsem_transcript_count.index == pop_kallisto_transcript.index)\n",
    "assert numpy.all(pop_kallisto_transcript.index == pop_salmon_decoy_transcript.index)\n",
    "assert numpy.all(pop_salmon_decoy_transcript.index == pop_salmon_transcript.index)\n",
    "assert numpy.all(pop_kallisto_transcript.index == pop_kallisto_2x_transcript.index)\n",
    "\n",
    "assert numpy.all(sc_rsem_transcript_tpm.index == pop_rsem_transcript_tpm.index)\n",
    "assert numpy.all(pop_rsem_transcript_tpm.index == pop_kallisto_transcript.index)\n",
    "\n"
   ]
  },
  {
   "cell_type": "code",
   "execution_count": 66,
   "metadata": {},
   "outputs": [
    {
     "data": {
      "text/html": [
       "<div>\n",
       "<style scoped>\n",
       "    .dataframe tbody tr th:only-of-type {\n",
       "        vertical-align: middle;\n",
       "    }\n",
       "\n",
       "    .dataframe tbody tr th {\n",
       "        vertical-align: top;\n",
       "    }\n",
       "\n",
       "    .dataframe thead th {\n",
       "        text-align: right;\n",
       "    }\n",
       "</style>\n",
       "<table border=\"1\" class=\"dataframe\">\n",
       "  <thead>\n",
       "    <tr style=\"text-align: right;\">\n",
       "      <th></th>\n",
       "      <th>sc_rsem</th>\n",
       "      <th>pop_rsem</th>\n",
       "      <th>pop_kallisto</th>\n",
       "      <th>pop_kallisto_fragment2x</th>\n",
       "      <th>pop_salmon_decoy</th>\n",
       "      <th>pop_salmon</th>\n",
       "    </tr>\n",
       "  </thead>\n",
       "  <tbody>\n",
       "    <tr>\n",
       "      <th>10000</th>\n",
       "      <td>0.0</td>\n",
       "      <td>0.0</td>\n",
       "      <td>0.0</td>\n",
       "      <td>0.0</td>\n",
       "      <td>0.000</td>\n",
       "      <td>0.000</td>\n",
       "    </tr>\n",
       "    <tr>\n",
       "      <th>10001</th>\n",
       "      <td>0.0</td>\n",
       "      <td>0.0</td>\n",
       "      <td>0.0</td>\n",
       "      <td>0.0</td>\n",
       "      <td>0.000</td>\n",
       "      <td>0.000</td>\n",
       "    </tr>\n",
       "    <tr>\n",
       "      <th>10002</th>\n",
       "      <td>0.0</td>\n",
       "      <td>0.0</td>\n",
       "      <td>0.0</td>\n",
       "      <td>0.0</td>\n",
       "      <td>12.553</td>\n",
       "      <td>10.374</td>\n",
       "    </tr>\n",
       "    <tr>\n",
       "      <th>10003</th>\n",
       "      <td>0.0</td>\n",
       "      <td>0.0</td>\n",
       "      <td>0.0</td>\n",
       "      <td>0.0</td>\n",
       "      <td>0.000</td>\n",
       "      <td>0.000</td>\n",
       "    </tr>\n",
       "    <tr>\n",
       "      <th>10004</th>\n",
       "      <td>0.0</td>\n",
       "      <td>0.0</td>\n",
       "      <td>0.0</td>\n",
       "      <td>0.0</td>\n",
       "      <td>0.000</td>\n",
       "      <td>0.000</td>\n",
       "    </tr>\n",
       "    <tr>\n",
       "      <th>...</th>\n",
       "      <td>...</td>\n",
       "      <td>...</td>\n",
       "      <td>...</td>\n",
       "      <td>...</td>\n",
       "      <td>...</td>\n",
       "      <td>...</td>\n",
       "    </tr>\n",
       "    <tr>\n",
       "      <th>tSpikein_ERCC-00165</th>\n",
       "      <td>2851.0</td>\n",
       "      <td>2851.0</td>\n",
       "      <td>1800.0</td>\n",
       "      <td>0.0</td>\n",
       "      <td>2847.000</td>\n",
       "      <td>2847.000</td>\n",
       "    </tr>\n",
       "    <tr>\n",
       "      <th>tSpikein_ERCC-00168</th>\n",
       "      <td>87.0</td>\n",
       "      <td>87.0</td>\n",
       "      <td>63.0</td>\n",
       "      <td>2.0</td>\n",
       "      <td>87.000</td>\n",
       "      <td>87.000</td>\n",
       "    </tr>\n",
       "    <tr>\n",
       "      <th>tSpikein_ERCC-00170</th>\n",
       "      <td>5189.0</td>\n",
       "      <td>5189.0</td>\n",
       "      <td>2670.0</td>\n",
       "      <td>1207.0</td>\n",
       "      <td>5155.000</td>\n",
       "      <td>5155.000</td>\n",
       "    </tr>\n",
       "    <tr>\n",
       "      <th>tSpikein_ERCC-00171</th>\n",
       "      <td>137815.0</td>\n",
       "      <td>137815.0</td>\n",
       "      <td>8847.0</td>\n",
       "      <td>0.0</td>\n",
       "      <td>139289.000</td>\n",
       "      <td>139289.000</td>\n",
       "    </tr>\n",
       "    <tr>\n",
       "      <th>tSpikein_phiX174</th>\n",
       "      <td>27.0</td>\n",
       "      <td>27.0</td>\n",
       "      <td>22.0</td>\n",
       "      <td>20.0</td>\n",
       "      <td>22.000</td>\n",
       "      <td>22.000</td>\n",
       "    </tr>\n",
       "  </tbody>\n",
       "</table>\n",
       "<p>168207 rows × 6 columns</p>\n",
       "</div>"
      ],
      "text/plain": [
       "                      sc_rsem  pop_rsem  pop_kallisto  \\\n",
       "10000                     0.0       0.0           0.0   \n",
       "10001                     0.0       0.0           0.0   \n",
       "10002                     0.0       0.0           0.0   \n",
       "10003                     0.0       0.0           0.0   \n",
       "10004                     0.0       0.0           0.0   \n",
       "...                       ...       ...           ...   \n",
       "tSpikein_ERCC-00165    2851.0    2851.0        1800.0   \n",
       "tSpikein_ERCC-00168      87.0      87.0          63.0   \n",
       "tSpikein_ERCC-00170    5189.0    5189.0        2670.0   \n",
       "tSpikein_ERCC-00171  137815.0  137815.0        8847.0   \n",
       "tSpikein_phiX174         27.0      27.0          22.0   \n",
       "\n",
       "                     pop_kallisto_fragment2x  pop_salmon_decoy  pop_salmon  \n",
       "10000                                    0.0             0.000       0.000  \n",
       "10001                                    0.0             0.000       0.000  \n",
       "10002                                    0.0            12.553      10.374  \n",
       "10003                                    0.0             0.000       0.000  \n",
       "10004                                    0.0             0.000       0.000  \n",
       "...                                      ...               ...         ...  \n",
       "tSpikein_ERCC-00165                      0.0          2847.000    2847.000  \n",
       "tSpikein_ERCC-00168                      2.0            87.000      87.000  \n",
       "tSpikein_ERCC-00170                   1207.0          5155.000    5155.000  \n",
       "tSpikein_ERCC-00171                      0.0        139289.000  139289.000  \n",
       "tSpikein_phiX174                        20.0            22.000      22.000  \n",
       "\n",
       "[168207 rows x 6 columns]"
      ]
     },
     "execution_count": 66,
     "metadata": {},
     "output_type": "execute_result"
    }
   ],
   "source": [
    "transcript_counts = pandas.DataFrame({\n",
    "    'sc_rsem': sc_rsem_transcript_count,\n",
    "    'pop_rsem': pop_rsem_transcript_count['c1_e10.5'],\n",
    "    'pop_kallisto': pop_kallisto_transcript['est_counts'],\n",
    "    'pop_kallisto_fragment2x': pop_kallisto_2x_transcript['est_counts'],\n",
    "    'pop_salmon_decoy': pop_salmon_decoy_transcript['NumReads'],\n",
    "    'pop_salmon': pop_salmon_transcript['NumReads'],\n",
    "})\n",
    "transcript_counts"
   ]
  },
  {
   "cell_type": "code",
   "execution_count": 67,
   "metadata": {},
   "outputs": [
    {
     "data": {
      "text/html": [
       "<div>\n",
       "<style scoped>\n",
       "    .dataframe tbody tr th:only-of-type {\n",
       "        vertical-align: middle;\n",
       "    }\n",
       "\n",
       "    .dataframe tbody tr th {\n",
       "        vertical-align: top;\n",
       "    }\n",
       "\n",
       "    .dataframe thead th {\n",
       "        text-align: right;\n",
       "    }\n",
       "</style>\n",
       "<table border=\"1\" class=\"dataframe\">\n",
       "  <thead>\n",
       "    <tr style=\"text-align: right;\">\n",
       "      <th></th>\n",
       "      <th>sc_rsem</th>\n",
       "      <th>pop_rsem</th>\n",
       "      <th>pop_kallisto</th>\n",
       "      <th>pop_kallisto_fragment2x</th>\n",
       "      <th>pop_salmon_decoy</th>\n",
       "      <th>pop_salmon</th>\n",
       "    </tr>\n",
       "  </thead>\n",
       "  <tbody>\n",
       "    <tr>\n",
       "      <th>10000</th>\n",
       "      <td>0.00</td>\n",
       "      <td>0.00</td>\n",
       "      <td>0.000000</td>\n",
       "      <td>0.000000</td>\n",
       "      <td>0.000000</td>\n",
       "      <td>0.000000</td>\n",
       "    </tr>\n",
       "    <tr>\n",
       "      <th>10001</th>\n",
       "      <td>0.00</td>\n",
       "      <td>0.00</td>\n",
       "      <td>0.000000</td>\n",
       "      <td>0.000000</td>\n",
       "      <td>0.000000</td>\n",
       "      <td>0.000000</td>\n",
       "    </tr>\n",
       "    <tr>\n",
       "      <th>10002</th>\n",
       "      <td>0.00</td>\n",
       "      <td>0.00</td>\n",
       "      <td>0.000000</td>\n",
       "      <td>0.000000</td>\n",
       "      <td>5.778059</td>\n",
       "      <td>4.507016</td>\n",
       "    </tr>\n",
       "    <tr>\n",
       "      <th>10003</th>\n",
       "      <td>0.00</td>\n",
       "      <td>0.00</td>\n",
       "      <td>0.000000</td>\n",
       "      <td>0.000000</td>\n",
       "      <td>0.000000</td>\n",
       "      <td>0.000000</td>\n",
       "    </tr>\n",
       "    <tr>\n",
       "      <th>10004</th>\n",
       "      <td>0.00</td>\n",
       "      <td>0.00</td>\n",
       "      <td>0.000000</td>\n",
       "      <td>0.000000</td>\n",
       "      <td>0.000000</td>\n",
       "      <td>0.000000</td>\n",
       "    </tr>\n",
       "    <tr>\n",
       "      <th>...</th>\n",
       "      <td>...</td>\n",
       "      <td>...</td>\n",
       "      <td>...</td>\n",
       "      <td>...</td>\n",
       "      <td>...</td>\n",
       "      <td>...</td>\n",
       "    </tr>\n",
       "    <tr>\n",
       "      <th>tSpikein_ERCC-00165</th>\n",
       "      <td>3322.71</td>\n",
       "      <td>10.81</td>\n",
       "      <td>13.580100</td>\n",
       "      <td>0.000000</td>\n",
       "      <td>8.609722</td>\n",
       "      <td>8.126028</td>\n",
       "    </tr>\n",
       "    <tr>\n",
       "      <th>tSpikein_ERCC-00168</th>\n",
       "      <td>69.43</td>\n",
       "      <td>0.28</td>\n",
       "      <td>0.343633</td>\n",
       "      <td>0.050603</td>\n",
       "      <td>0.210129</td>\n",
       "      <td>0.198324</td>\n",
       "    </tr>\n",
       "    <tr>\n",
       "      <th>tSpikein_ERCC-00170</th>\n",
       "      <td>4479.03</td>\n",
       "      <td>16.62</td>\n",
       "      <td>14.590100</td>\n",
       "      <td>30.668800</td>\n",
       "      <td>12.450761</td>\n",
       "      <td>11.751278</td>\n",
       "    </tr>\n",
       "    <tr>\n",
       "      <th>tSpikein_ERCC-00171</th>\n",
       "      <td>271399.15</td>\n",
       "      <td>942.74</td>\n",
       "      <td>244.729000</td>\n",
       "      <td>0.000000</td>\n",
       "      <td>1087.570259</td>\n",
       "      <td>1026.470610</td>\n",
       "    </tr>\n",
       "    <tr>\n",
       "      <th>tSpikein_phiX174</th>\n",
       "      <td>5.80</td>\n",
       "      <td>0.02</td>\n",
       "      <td>0.013390</td>\n",
       "      <td>0.025954</td>\n",
       "      <td>0.007758</td>\n",
       "      <td>0.007322</td>\n",
       "    </tr>\n",
       "  </tbody>\n",
       "</table>\n",
       "<p>168207 rows × 6 columns</p>\n",
       "</div>"
      ],
      "text/plain": [
       "                       sc_rsem  pop_rsem  pop_kallisto  \\\n",
       "10000                     0.00      0.00      0.000000   \n",
       "10001                     0.00      0.00      0.000000   \n",
       "10002                     0.00      0.00      0.000000   \n",
       "10003                     0.00      0.00      0.000000   \n",
       "10004                     0.00      0.00      0.000000   \n",
       "...                        ...       ...           ...   \n",
       "tSpikein_ERCC-00165    3322.71     10.81     13.580100   \n",
       "tSpikein_ERCC-00168      69.43      0.28      0.343633   \n",
       "tSpikein_ERCC-00170    4479.03     16.62     14.590100   \n",
       "tSpikein_ERCC-00171  271399.15    942.74    244.729000   \n",
       "tSpikein_phiX174          5.80      0.02      0.013390   \n",
       "\n",
       "                     pop_kallisto_fragment2x  pop_salmon_decoy   pop_salmon  \n",
       "10000                               0.000000          0.000000     0.000000  \n",
       "10001                               0.000000          0.000000     0.000000  \n",
       "10002                               0.000000          5.778059     4.507016  \n",
       "10003                               0.000000          0.000000     0.000000  \n",
       "10004                               0.000000          0.000000     0.000000  \n",
       "...                                      ...               ...          ...  \n",
       "tSpikein_ERCC-00165                 0.000000          8.609722     8.126028  \n",
       "tSpikein_ERCC-00168                 0.050603          0.210129     0.198324  \n",
       "tSpikein_ERCC-00170                30.668800         12.450761    11.751278  \n",
       "tSpikein_ERCC-00171                 0.000000       1087.570259  1026.470610  \n",
       "tSpikein_phiX174                    0.025954          0.007758     0.007322  \n",
       "\n",
       "[168207 rows x 6 columns]"
      ]
     },
     "execution_count": 67,
     "metadata": {},
     "output_type": "execute_result"
    }
   ],
   "source": [
    "transcript_tpm = pandas.DataFrame({\n",
    "    'sc_rsem': sc_rsem_transcript_tpm,\n",
    "    'pop_rsem': pop_rsem_transcript_tpm['c1_e10.5'],\n",
    "    'pop_kallisto': pop_kallisto_transcript['tpm'],\n",
    "    'pop_kallisto_fragment2x': pop_kallisto_2x_transcript['tpm'],\n",
    "    'pop_salmon_decoy': pop_salmon_decoy_transcript['TPM'],\n",
    "    'pop_salmon': pop_salmon_transcript['TPM'],\n",
    "})\n",
    "transcript_tpm"
   ]
  },
  {
   "cell_type": "code",
   "execution_count": 68,
   "metadata": {},
   "outputs": [],
   "source": [
    "build_loom(c1_root / 'c1_e10.5_transcript_counts.loom', transcript_counts, 'counts', gtf)"
   ]
  },
  {
   "cell_type": "code",
   "execution_count": 69,
   "metadata": {},
   "outputs": [
    {
     "name": "stderr",
     "output_type": "stream",
     "text": [
      "... storing 'gene_symbol' as categorical\n",
      "... storing 'gene_type' as categorical\n"
     ]
    }
   ],
   "source": [
    "build_anndata(c1_root / 'c1_e10.5_transcript_counts.h5ad', transcript_counts, 'counts', gtf)"
   ]
  },
  {
   "cell_type": "code",
   "execution_count": 70,
   "metadata": {},
   "outputs": [],
   "source": [
    "build_loom(c1_root / 'c1_e10.5_transcript_tpm.loom', transcript_tpm, 'TPM', gtf)"
   ]
  },
  {
   "cell_type": "code",
   "execution_count": 71,
   "metadata": {},
   "outputs": [
    {
     "name": "stderr",
     "output_type": "stream",
     "text": [
      "... storing 'gene_symbol' as categorical\n",
      "... storing 'gene_type' as categorical\n"
     ]
    }
   ],
   "source": [
    "build_anndata(c1_root / 'c1_e10.5_transcript_tpm.h5ad', transcript_tpm, 'TPM', gtf) "
   ]
  },
  {
   "cell_type": "code",
   "execution_count": 72,
   "metadata": {},
   "outputs": [
    {
     "data": {
      "text/html": [
       "<div>\n",
       "<style scoped>\n",
       "    .dataframe tbody tr th:only-of-type {\n",
       "        vertical-align: middle;\n",
       "    }\n",
       "\n",
       "    .dataframe tbody tr th {\n",
       "        vertical-align: top;\n",
       "    }\n",
       "\n",
       "    .dataframe thead th {\n",
       "        text-align: right;\n",
       "    }\n",
       "</style>\n",
       "<table border=\"1\" class=\"dataframe\">\n",
       "  <thead>\n",
       "    <tr style=\"text-align: right;\">\n",
       "      <th></th>\n",
       "      <th>19906_A5</th>\n",
       "      <th>20038_F9</th>\n",
       "      <th>18268_F12</th>\n",
       "      <th>18270_A12</th>\n",
       "      <th>18316_F6</th>\n",
       "      <th>20047_D10</th>\n",
       "      <th>19914_A11</th>\n",
       "      <th>20090_C6</th>\n",
       "      <th>19909_D1</th>\n",
       "      <th>18048_G6</th>\n",
       "      <th>...</th>\n",
       "      <th>20090_C5</th>\n",
       "      <th>20026_A4</th>\n",
       "      <th>20028_C2</th>\n",
       "      <th>20039_A9</th>\n",
       "      <th>18259_B10</th>\n",
       "      <th>18275_F5</th>\n",
       "      <th>18251_A8</th>\n",
       "      <th>20036_D7</th>\n",
       "      <th>20033_A3</th>\n",
       "      <th>20028_C3</th>\n",
       "    </tr>\n",
       "    <tr>\n",
       "      <th>gene_id</th>\n",
       "      <th></th>\n",
       "      <th></th>\n",
       "      <th></th>\n",
       "      <th></th>\n",
       "      <th></th>\n",
       "      <th></th>\n",
       "      <th></th>\n",
       "      <th></th>\n",
       "      <th></th>\n",
       "      <th></th>\n",
       "      <th></th>\n",
       "      <th></th>\n",
       "      <th></th>\n",
       "      <th></th>\n",
       "      <th></th>\n",
       "      <th></th>\n",
       "      <th></th>\n",
       "      <th></th>\n",
       "      <th></th>\n",
       "      <th></th>\n",
       "      <th></th>\n",
       "    </tr>\n",
       "  </thead>\n",
       "  <tbody>\n",
       "    <tr>\n",
       "      <th>10000</th>\n",
       "      <td>0</td>\n",
       "      <td>0</td>\n",
       "      <td>0</td>\n",
       "      <td>0</td>\n",
       "      <td>0</td>\n",
       "      <td>0</td>\n",
       "      <td>0</td>\n",
       "      <td>0</td>\n",
       "      <td>0</td>\n",
       "      <td>0</td>\n",
       "      <td>...</td>\n",
       "      <td>0</td>\n",
       "      <td>0</td>\n",
       "      <td>0</td>\n",
       "      <td>0</td>\n",
       "      <td>0</td>\n",
       "      <td>0</td>\n",
       "      <td>0</td>\n",
       "      <td>0</td>\n",
       "      <td>0</td>\n",
       "      <td>0</td>\n",
       "    </tr>\n",
       "    <tr>\n",
       "      <th>10001</th>\n",
       "      <td>0</td>\n",
       "      <td>0</td>\n",
       "      <td>0</td>\n",
       "      <td>0</td>\n",
       "      <td>0</td>\n",
       "      <td>0</td>\n",
       "      <td>0</td>\n",
       "      <td>0</td>\n",
       "      <td>0</td>\n",
       "      <td>0</td>\n",
       "      <td>...</td>\n",
       "      <td>0</td>\n",
       "      <td>0</td>\n",
       "      <td>0</td>\n",
       "      <td>0</td>\n",
       "      <td>0</td>\n",
       "      <td>0</td>\n",
       "      <td>0</td>\n",
       "      <td>0</td>\n",
       "      <td>0</td>\n",
       "      <td>0</td>\n",
       "    </tr>\n",
       "    <tr>\n",
       "      <th>10002</th>\n",
       "      <td>0</td>\n",
       "      <td>0</td>\n",
       "      <td>0</td>\n",
       "      <td>0</td>\n",
       "      <td>0</td>\n",
       "      <td>0</td>\n",
       "      <td>0</td>\n",
       "      <td>0</td>\n",
       "      <td>0</td>\n",
       "      <td>0</td>\n",
       "      <td>...</td>\n",
       "      <td>0</td>\n",
       "      <td>0</td>\n",
       "      <td>0</td>\n",
       "      <td>0</td>\n",
       "      <td>0</td>\n",
       "      <td>0</td>\n",
       "      <td>0</td>\n",
       "      <td>0</td>\n",
       "      <td>0</td>\n",
       "      <td>0</td>\n",
       "    </tr>\n",
       "    <tr>\n",
       "      <th>10003</th>\n",
       "      <td>0</td>\n",
       "      <td>0</td>\n",
       "      <td>0</td>\n",
       "      <td>0</td>\n",
       "      <td>0</td>\n",
       "      <td>0</td>\n",
       "      <td>0</td>\n",
       "      <td>0</td>\n",
       "      <td>0</td>\n",
       "      <td>0</td>\n",
       "      <td>...</td>\n",
       "      <td>0</td>\n",
       "      <td>0</td>\n",
       "      <td>0</td>\n",
       "      <td>0</td>\n",
       "      <td>0</td>\n",
       "      <td>0</td>\n",
       "      <td>0</td>\n",
       "      <td>0</td>\n",
       "      <td>0</td>\n",
       "      <td>0</td>\n",
       "    </tr>\n",
       "    <tr>\n",
       "      <th>10004</th>\n",
       "      <td>0</td>\n",
       "      <td>0</td>\n",
       "      <td>0</td>\n",
       "      <td>0</td>\n",
       "      <td>0</td>\n",
       "      <td>0</td>\n",
       "      <td>0</td>\n",
       "      <td>0</td>\n",
       "      <td>0</td>\n",
       "      <td>0</td>\n",
       "      <td>...</td>\n",
       "      <td>0</td>\n",
       "      <td>0</td>\n",
       "      <td>0</td>\n",
       "      <td>0</td>\n",
       "      <td>0</td>\n",
       "      <td>0</td>\n",
       "      <td>0</td>\n",
       "      <td>0</td>\n",
       "      <td>0</td>\n",
       "      <td>0</td>\n",
       "    </tr>\n",
       "    <tr>\n",
       "      <th>...</th>\n",
       "      <td>...</td>\n",
       "      <td>...</td>\n",
       "      <td>...</td>\n",
       "      <td>...</td>\n",
       "      <td>...</td>\n",
       "      <td>...</td>\n",
       "      <td>...</td>\n",
       "      <td>...</td>\n",
       "      <td>...</td>\n",
       "      <td>...</td>\n",
       "      <td>...</td>\n",
       "      <td>...</td>\n",
       "      <td>...</td>\n",
       "      <td>...</td>\n",
       "      <td>...</td>\n",
       "      <td>...</td>\n",
       "      <td>...</td>\n",
       "      <td>...</td>\n",
       "      <td>...</td>\n",
       "      <td>...</td>\n",
       "      <td>...</td>\n",
       "    </tr>\n",
       "    <tr>\n",
       "      <th>gSpikein_ERCC-00165</th>\n",
       "      <td>64</td>\n",
       "      <td>122</td>\n",
       "      <td>161</td>\n",
       "      <td>82</td>\n",
       "      <td>19</td>\n",
       "      <td>166</td>\n",
       "      <td>48</td>\n",
       "      <td>234</td>\n",
       "      <td>131</td>\n",
       "      <td>0</td>\n",
       "      <td>...</td>\n",
       "      <td>69</td>\n",
       "      <td>50</td>\n",
       "      <td>78</td>\n",
       "      <td>204</td>\n",
       "      <td>17</td>\n",
       "      <td>70</td>\n",
       "      <td>34</td>\n",
       "      <td>78</td>\n",
       "      <td>52</td>\n",
       "      <td>141</td>\n",
       "    </tr>\n",
       "    <tr>\n",
       "      <th>gSpikein_ERCC-00168</th>\n",
       "      <td>0</td>\n",
       "      <td>0</td>\n",
       "      <td>0</td>\n",
       "      <td>1</td>\n",
       "      <td>0</td>\n",
       "      <td>0</td>\n",
       "      <td>0</td>\n",
       "      <td>0</td>\n",
       "      <td>0</td>\n",
       "      <td>0</td>\n",
       "      <td>...</td>\n",
       "      <td>0</td>\n",
       "      <td>0</td>\n",
       "      <td>0</td>\n",
       "      <td>0</td>\n",
       "      <td>0</td>\n",
       "      <td>0</td>\n",
       "      <td>0</td>\n",
       "      <td>0</td>\n",
       "      <td>0</td>\n",
       "      <td>0</td>\n",
       "    </tr>\n",
       "    <tr>\n",
       "      <th>gSpikein_ERCC-00170</th>\n",
       "      <td>198</td>\n",
       "      <td>274</td>\n",
       "      <td>63</td>\n",
       "      <td>34</td>\n",
       "      <td>23</td>\n",
       "      <td>845</td>\n",
       "      <td>213</td>\n",
       "      <td>182</td>\n",
       "      <td>38</td>\n",
       "      <td>0</td>\n",
       "      <td>...</td>\n",
       "      <td>79</td>\n",
       "      <td>483</td>\n",
       "      <td>31</td>\n",
       "      <td>55</td>\n",
       "      <td>0</td>\n",
       "      <td>67</td>\n",
       "      <td>10</td>\n",
       "      <td>16</td>\n",
       "      <td>90</td>\n",
       "      <td>60</td>\n",
       "    </tr>\n",
       "    <tr>\n",
       "      <th>gSpikein_ERCC-00171</th>\n",
       "      <td>1196</td>\n",
       "      <td>2614</td>\n",
       "      <td>11768</td>\n",
       "      <td>3918</td>\n",
       "      <td>560</td>\n",
       "      <td>7056</td>\n",
       "      <td>4573</td>\n",
       "      <td>7521</td>\n",
       "      <td>2487</td>\n",
       "      <td>0</td>\n",
       "      <td>...</td>\n",
       "      <td>2773</td>\n",
       "      <td>3166</td>\n",
       "      <td>1066</td>\n",
       "      <td>3976</td>\n",
       "      <td>2963</td>\n",
       "      <td>3991</td>\n",
       "      <td>1978</td>\n",
       "      <td>2161</td>\n",
       "      <td>1159</td>\n",
       "      <td>2872</td>\n",
       "    </tr>\n",
       "    <tr>\n",
       "      <th>gSpikein_phiX174</th>\n",
       "      <td>0</td>\n",
       "      <td>0</td>\n",
       "      <td>0</td>\n",
       "      <td>0</td>\n",
       "      <td>0</td>\n",
       "      <td>0</td>\n",
       "      <td>0</td>\n",
       "      <td>0</td>\n",
       "      <td>0</td>\n",
       "      <td>0</td>\n",
       "      <td>...</td>\n",
       "      <td>0</td>\n",
       "      <td>0</td>\n",
       "      <td>0</td>\n",
       "      <td>0</td>\n",
       "      <td>0</td>\n",
       "      <td>0</td>\n",
       "      <td>0</td>\n",
       "      <td>0</td>\n",
       "      <td>0</td>\n",
       "      <td>0</td>\n",
       "    </tr>\n",
       "  </tbody>\n",
       "</table>\n",
       "<p>81881 rows × 1037 columns</p>\n",
       "</div>"
      ],
      "text/plain": [
       "                     19906_A5  20038_F9  18268_F12  18270_A12  18316_F6  \\\n",
       "gene_id                                                                   \n",
       "10000                       0         0          0          0         0   \n",
       "10001                       0         0          0          0         0   \n",
       "10002                       0         0          0          0         0   \n",
       "10003                       0         0          0          0         0   \n",
       "10004                       0         0          0          0         0   \n",
       "...                       ...       ...        ...        ...       ...   \n",
       "gSpikein_ERCC-00165        64       122        161         82        19   \n",
       "gSpikein_ERCC-00168         0         0          0          1         0   \n",
       "gSpikein_ERCC-00170       198       274         63         34        23   \n",
       "gSpikein_ERCC-00171      1196      2614      11768       3918       560   \n",
       "gSpikein_phiX174            0         0          0          0         0   \n",
       "\n",
       "                     20047_D10  19914_A11  20090_C6  19909_D1  18048_G6  ...  \\\n",
       "gene_id                                                                  ...   \n",
       "10000                        0          0         0         0         0  ...   \n",
       "10001                        0          0         0         0         0  ...   \n",
       "10002                        0          0         0         0         0  ...   \n",
       "10003                        0          0         0         0         0  ...   \n",
       "10004                        0          0         0         0         0  ...   \n",
       "...                        ...        ...       ...       ...       ...  ...   \n",
       "gSpikein_ERCC-00165        166         48       234       131         0  ...   \n",
       "gSpikein_ERCC-00168          0          0         0         0         0  ...   \n",
       "gSpikein_ERCC-00170        845        213       182        38         0  ...   \n",
       "gSpikein_ERCC-00171       7056       4573      7521      2487         0  ...   \n",
       "gSpikein_phiX174             0          0         0         0         0  ...   \n",
       "\n",
       "                     20090_C5  20026_A4  20028_C2  20039_A9  18259_B10  \\\n",
       "gene_id                                                                  \n",
       "10000                       0         0         0         0          0   \n",
       "10001                       0         0         0         0          0   \n",
       "10002                       0         0         0         0          0   \n",
       "10003                       0         0         0         0          0   \n",
       "10004                       0         0         0         0          0   \n",
       "...                       ...       ...       ...       ...        ...   \n",
       "gSpikein_ERCC-00165        69        50        78       204         17   \n",
       "gSpikein_ERCC-00168         0         0         0         0          0   \n",
       "gSpikein_ERCC-00170        79       483        31        55          0   \n",
       "gSpikein_ERCC-00171      2773      3166      1066      3976       2963   \n",
       "gSpikein_phiX174            0         0         0         0          0   \n",
       "\n",
       "                     18275_F5  18251_A8  20036_D7  20033_A3  20028_C3  \n",
       "gene_id                                                                \n",
       "10000                       0         0         0         0         0  \n",
       "10001                       0         0         0         0         0  \n",
       "10002                       0         0         0         0         0  \n",
       "10003                       0         0         0         0         0  \n",
       "10004                       0         0         0         0         0  \n",
       "...                       ...       ...       ...       ...       ...  \n",
       "gSpikein_ERCC-00165        70        34        78        52       141  \n",
       "gSpikein_ERCC-00168         0         0         0         0         0  \n",
       "gSpikein_ERCC-00170        67        10        16        90        60  \n",
       "gSpikein_ERCC-00171      3991      1978      2161      1159      2872  \n",
       "gSpikein_phiX174            0         0         0         0         0  \n",
       "\n",
       "[81881 rows x 1037 columns]"
      ]
     },
     "execution_count": 72,
     "metadata": {},
     "output_type": "execute_result"
    }
   ],
   "source": [
    "cells_star_gene_count"
   ]
  },
  {
   "cell_type": "code",
   "execution_count": 73,
   "metadata": {},
   "outputs": [
    {
     "name": "stderr",
     "output_type": "stream",
     "text": [
      "... storing 'gene_symbol' as categorical\n",
      "... storing 'gene_type' as categorical\n",
      "... storing 'gene_symbol' as categorical\n",
      "... storing 'gene_type' as categorical\n",
      "... storing 'gene_symbol' as categorical\n",
      "... storing 'gene_type' as categorical\n",
      "... storing 'gene_symbol' as categorical\n",
      "... storing 'gene_type' as categorical\n",
      "... storing 'gene_symbol' as categorical\n",
      "... storing 'gene_type' as categorical\n"
     ]
    }
   ],
   "source": [
    "build_anndata(c1_root / 'c1_cell_e10.5_rsem_gene_counts.h5ad', cells_rsem_gene_count, 'counts', gtf)\n",
    "build_anndata(c1_root / 'c1_cell_e10.5_rsem_gene_tpms.h5ad', cells_rsem_gene_tpm, 'TPM', gtf)\n",
    "build_anndata(c1_root / 'c1_cell_e10.5_star_gene_counts.h5ad', cells_star_gene_count, 'TPM', gtf)\n",
    "\n",
    "build_anndata(c1_root / 'c1_cell_e10.5_rsem_transcript_counts.h5ad', cells_rsem_transcript_count, 'counts', gtf)\n",
    "build_anndata(c1_root / 'c1_cell_e10.5_rsem_transcript_tpms.h5ad', cells_rsem_transcript_tpm, 'TPM', gtf)"
   ]
  },
  {
   "cell_type": "code",
   "execution_count": null,
   "metadata": {},
   "outputs": [],
   "source": []
  }
 ],
 "metadata": {
  "kernelspec": {
   "display_name": "Python 3",
   "language": "python",
   "name": "python3"
  },
  "language_info": {
   "codemirror_mode": {
    "name": "ipython",
    "version": 3
   },
   "file_extension": ".py",
   "mimetype": "text/x-python",
   "name": "python",
   "nbconvert_exporter": "python",
   "pygments_lexer": "ipython3",
   "version": "3.8.5"
  }
 },
 "nbformat": 4,
 "nbformat_minor": 4
}
