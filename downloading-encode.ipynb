{
 "cells": [
  {
   "cell_type": "code",
   "execution_count": 63,
   "id": "damaged-center",
   "metadata": {},
   "outputs": [],
   "source": [
    "import requests\n",
    "from pathlib import Path\n",
    "from datetime import date, timedelta\n",
    "import os\n",
    "import sys"
   ]
  },
  {
   "cell_type": "code",
   "execution_count": 3,
   "id": "beautiful-instrumentation",
   "metadata": {},
   "outputs": [],
   "source": [
    "EC = str(Path(\"~/proj/encoded_client\").expanduser())\n",
    "if EC not in sys.path:\n",
    "    sys.path.append(EC)\n"
   ]
  },
  {
   "cell_type": "code",
   "execution_count": 4,
   "id": "fuzzy-prince",
   "metadata": {},
   "outputs": [],
   "source": [
    "from encoded_client.encoded import ENCODED"
   ]
  },
  {
   "cell_type": "code",
   "execution_count": 6,
   "id": "satisfied-organ",
   "metadata": {},
   "outputs": [],
   "source": [
    "server = ENCODED('www.encodeproject.org')\n",
    "server.load_netrc()"
   ]
  },
  {
   "cell_type": "code",
   "execution_count": 41,
   "id": "renewable-covering",
   "metadata": {},
   "outputs": [],
   "source": [
    "server.get_response?"
   ]
  },
  {
   "cell_type": "code",
   "execution_count": 56,
   "id": "protective-chart",
   "metadata": {},
   "outputs": [
    {
     "name": "stdout",
     "output_type": "stream",
     "text": [
      "https://www.encodeproject.org/search/?type=Item&frame=object&date_created=lt%3A2010-01-01&limit=2000\n",
      "records: 150\n"
     ]
    }
   ],
   "source": [
    "kwargs = {\n",
    "    'type': 'Item',\n",
    "    'frame': 'object',\n",
    "    'date_created': \"lt:2010-01-01\",\n",
    "    #'date_created': \"gte:2017-01-01\",\n",
    "    'limit': '2000',\n",
    "}\n",
    "response = server.get_response('/search/', **kwargs)\n",
    "print(response.request.url)\n",
    "data = response.json()\n",
    "print(\"records:\", len(data[\"@graph\"]))"
   ]
  },
  {
   "cell_type": "code",
   "execution_count": 45,
   "id": "administrative-bubble",
   "metadata": {},
   "outputs": [
    {
     "name": "stdout",
     "output_type": "stream",
     "text": [
      "https://www.encodeproject.org/search/?type=Item&frame=object&date_created=gte%3A2017-01-01&date_created=lt%3A2017-01-02&limit=2000\n"
     ]
    }
   ],
   "source": [
    "response = requests.get(\"https://www.encodeproject.org/search/?type=Item&frame=object&date_created=gte%3A2017-01-01&date_created=lt%3A2017-01-02&limit=2000\")\n",
    "print(response.request.url)"
   ]
  },
  {
   "cell_type": "code",
   "execution_count": 46,
   "id": "small-denmark",
   "metadata": {},
   "outputs": [],
   "source": [
    "response.raise_for_status()"
   ]
  },
  {
   "cell_type": "code",
   "execution_count": 47,
   "id": "young-increase",
   "metadata": {},
   "outputs": [
    {
     "data": {
      "text/plain": [
       "111"
      ]
     },
     "execution_count": 47,
     "metadata": {},
     "output_type": "execute_result"
    }
   ],
   "source": [
    "data = response.json()\n",
    "len(data[\"@graph\"])"
   ]
  },
  {
   "cell_type": "code",
   "execution_count": 48,
   "id": "representative-times",
   "metadata": {},
   "outputs": [
    {
     "name": "stdout",
     "output_type": "stream",
     "text": [
      "2017-01-01T08:10:27.651005+00:00\n",
      "2017-01-01T08:10:26.275000+00:00\n",
      "2017-01-01T08:10:24.936922+00:00\n",
      "2017-01-01T08:10:23.610042+00:00\n",
      "2017-01-01T08:10:22.516340+00:00\n",
      "2017-01-01T08:10:21.187389+00:00\n",
      "2017-01-01T08:10:19.759144+00:00\n",
      "2017-01-01T08:09:05.896672+00:00\n",
      "2017-01-01T08:09:04.657092+00:00\n",
      "2017-01-01T08:09:02.068022+00:00\n",
      "2017-01-01T08:09:00.685239+00:00\n",
      "2017-01-01T08:08:59.330524+00:00\n",
      "2017-01-01T08:08:58.216349+00:00\n",
      "2017-01-01T08:08:56.755258+00:00\n",
      "2017-01-01T08:01:53.393162+00:00\n",
      "2017-01-01T08:01:52.049750+00:00\n",
      "2017-01-01T08:01:50.788790+00:00\n",
      "2017-01-01T08:01:49.480084+00:00\n",
      "2017-01-01T08:01:48.092019+00:00\n",
      "2017-01-01T08:01:46.830957+00:00\n",
      "2017-01-01T08:01:45.476088+00:00\n",
      "2017-01-01T08:01:44.104678+00:00\n",
      "2017-01-01T08:01:42.630503+00:00\n",
      "2017-01-01T08:01:41.238842+00:00\n",
      "2017-01-01T08:01:39.903839+00:00\n",
      "2017-01-01T08:01:38.562237+00:00\n",
      "2017-01-01T08:01:37.349470+00:00\n",
      "2017-01-01T08:01:35.452433+00:00\n",
      "2017-01-01T08:01:34.248783+00:00\n",
      "2017-01-01T08:01:32.846983+00:00\n",
      "2017-01-01T08:01:31.612259+00:00\n",
      "2017-01-01T08:01:30.302080+00:00\n",
      "2017-01-01T08:01:28.963170+00:00\n",
      "2017-01-01T08:01:27.971972+00:00\n",
      "2017-01-01T08:01:26.622288+00:00\n",
      "2017-01-01T08:01:25.349815+00:00\n",
      "2017-01-01T08:01:24.343352+00:00\n",
      "2017-01-01T08:01:22.969128+00:00\n",
      "2017-01-01T08:01:21.607602+00:00\n",
      "2017-01-01T08:01:20.327216+00:00\n",
      "2017-01-01T08:01:10.883731+00:00\n",
      "2017-01-01T08:01:09.499681+00:00\n",
      "2017-01-01T08:01:08.203549+00:00\n",
      "2017-01-01T08:01:06.965935+00:00\n",
      "2017-01-01T08:01:05.676360+00:00\n",
      "2017-01-01T07:58:12.323287+00:00\n",
      "2017-01-01T07:58:11.137304+00:00\n",
      "2017-01-01T07:58:09.840071+00:00\n",
      "2017-01-01T07:58:08.659169+00:00\n",
      "2017-01-01T07:58:07.215855+00:00\n",
      "2017-01-01T07:58:05.921700+00:00\n",
      "2017-01-01T07:58:04.577509+00:00\n",
      "2017-01-01T07:58:03.245257+00:00\n",
      "2017-01-01T07:58:01.959057+00:00\n",
      "2017-01-01T07:57:49.165512+00:00\n",
      "2017-01-01T07:57:48.105674+00:00\n",
      "2017-01-01T07:57:46.986517+00:00\n",
      "2017-01-01T07:57:45.193396+00:00\n",
      "2017-01-01T07:57:43.843948+00:00\n",
      "2017-01-01T07:54:21.669099+00:00\n",
      "2017-01-01T07:54:20.322501+00:00\n",
      "2017-01-01T07:54:18.996569+00:00\n",
      "2017-01-01T07:54:17.617843+00:00\n",
      "2017-01-01T07:54:16.265232+00:00\n",
      "2017-01-01T07:54:14.993238+00:00\n",
      "2017-01-01T07:54:13.816896+00:00\n",
      "2017-01-01T07:54:12.441037+00:00\n",
      "2017-01-01T07:54:11.080479+00:00\n",
      "2017-01-01T07:54:09.788649+00:00\n",
      "2017-01-01T07:54:08.438834+00:00\n",
      "2017-01-01T07:54:07.214620+00:00\n",
      "2017-01-01T07:54:05.766647+00:00\n",
      "2017-01-01T07:54:04.455963+00:00\n",
      "2017-01-01T07:54:03.126208+00:00\n",
      "2017-01-01T07:54:01.814315+00:00\n",
      "2017-01-01T07:54:00.648555+00:00\n",
      "2017-01-01T07:53:59.256849+00:00\n",
      "2017-01-01T07:53:57.894086+00:00\n",
      "2017-01-01T07:53:56.548507+00:00\n",
      "2017-01-01T07:53:55.300082+00:00\n",
      "2017-01-01T07:53:54.148057+00:00\n",
      "2017-01-01T07:53:52.831718+00:00\n",
      "2017-01-01T07:53:51.529090+00:00\n",
      "2017-01-01T07:53:50.296243+00:00\n",
      "2017-01-01T07:53:49.052051+00:00\n",
      "2017-01-01T07:53:44.549751+00:00\n",
      "2017-01-01T07:53:43.085217+00:00\n",
      "2017-01-01T07:53:41.618851+00:00\n",
      "2017-01-01T07:53:40.225591+00:00\n",
      "2017-01-01T07:53:38.949389+00:00\n",
      "2017-01-01T07:53:37.528045+00:00\n",
      "2017-01-01T07:49:35.661602+00:00\n",
      "2017-01-01T07:49:34.407885+00:00\n",
      "2017-01-01T07:49:33.083946+00:00\n",
      "2017-01-01T07:33:04.780511+00:00\n",
      "2017-01-01T07:33:03.937471+00:00\n",
      "2017-01-01T07:33:03.214464+00:00\n",
      "2017-01-01T07:33:02.286494+00:00\n",
      "2017-01-01T07:32:59.547332+00:00\n",
      "2017-01-01T07:32:58.711990+00:00\n",
      "2017-01-01T07:32:57.722734+00:00\n",
      "2017-01-01T07:32:56.786131+00:00\n",
      "2017-01-01T07:32:55.915856+00:00\n",
      "2017-01-01T07:32:55.090742+00:00\n",
      "2017-01-01T07:32:54.104518+00:00\n",
      "2017-01-01T07:32:53.179586+00:00\n",
      "2017-01-01T07:32:52.294367+00:00\n",
      "2017-01-01T07:32:51.579465+00:00\n",
      "2017-01-01T07:32:50.606849+00:00\n",
      "2017-01-01T07:32:49.706678+00:00\n",
      "2017-01-01T07:32:47.748659+00:00\n"
     ]
    }
   ],
   "source": [
    "for row in data['@graph']:\n",
    "    print(row[\"date_created\"])"
   ]
  },
  {
   "cell_type": "code",
   "execution_count": 15,
   "id": "standing-endorsement",
   "metadata": {},
   "outputs": [
    {
     "data": {
      "text/plain": [
       "'https://www.encodeproject.org/search/?type=Item&frame=object&limit=20'"
      ]
     },
     "execution_count": 15,
     "metadata": {},
     "output_type": "execute_result"
    }
   ],
   "source": [
    "response.request.url"
   ]
  },
  {
   "cell_type": "code",
   "execution_count": 65,
   "id": "minimal-version",
   "metadata": {},
   "outputs": [
    {
     "name": "stdout",
     "output_type": "stream",
     "text": [
      "2020-01-01\n",
      "2020-01-02\n"
     ]
    }
   ],
   "source": [
    "day = timedelta(days=1)\n",
    "t = date(2020,1,1)\n",
    "print(t.strftime(\"%Y-%m-%d\"))\n",
    "print((t+day).strftime(\"%Y-%m-%d\"))"
   ]
  },
  {
   "cell_type": "code",
   "execution_count": 64,
   "id": "actual-musical",
   "metadata": {},
   "outputs": [
    {
     "data": {
      "text/plain": [
       "datetime.timedelta(days=1)"
      ]
     },
     "execution_count": 64,
     "metadata": {},
     "output_type": "execute_result"
    }
   ],
   "source": []
  },
  {
   "cell_type": "code",
   "execution_count": null,
   "id": "progressive-fruit",
   "metadata": {},
   "outputs": [],
   "source": []
  }
 ],
 "metadata": {
  "kernelspec": {
   "display_name": "Python 3",
   "language": "python",
   "name": "python3"
  },
  "language_info": {
   "codemirror_mode": {
    "name": "ipython",
    "version": 3
   },
   "file_extension": ".py",
   "mimetype": "text/x-python",
   "name": "python",
   "nbconvert_exporter": "python",
   "pygments_lexer": "ipython3",
   "version": "3.9.1+"
  }
 },
 "nbformat": 4,
 "nbformat_minor": 5
}
