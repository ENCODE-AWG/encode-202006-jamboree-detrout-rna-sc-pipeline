{
 "cells": [
  {
   "cell_type": "markdown",
   "id": "clear-shell",
   "metadata": {},
   "source": [
    "# Introduction"
   ]
  },
  {
   "cell_type": "markdown",
   "id": "ambient-briefing",
   "metadata": {},
   "source": [
    "Delaney had implemented a method to resolve transcript compatibility counts from kallisto into transcript level quantifications with 10x / droplet data.\n",
    "\n",
    "I wonder how it performs? None of the other 10x methods produce transcript level data.\n",
    "\n",
    "I guess I'll try comparing the run I did to our C1 data.\n",
    "\n",
    "I had randomly picked 10x-3 (e11.0)"
   ]
  },
  {
   "cell_type": "code",
   "execution_count": 22,
   "id": "medieval-projection",
   "metadata": {},
   "outputs": [],
   "source": [
    "import scanpy\n",
    "import numpy\n",
    "import pandas\n",
    "import sys\n",
    "from pathlib import Path"
   ]
  },
  {
   "cell_type": "code",
   "execution_count": 25,
   "id": "regional-canada",
   "metadata": {},
   "outputs": [],
   "source": [
    "LRS = str(Path(\"~/proj/long-rna-seq-condor\").expanduser())\n",
    "if LRS not in sys.path:\n",
    "    sys.path.append(LRS)\n",
    "from woldrnaseq import models"
   ]
  },
  {
   "cell_type": "code",
   "execution_count": 2,
   "id": "ecological-pantyhose",
   "metadata": {},
   "outputs": [],
   "source": [
    "kallisto_em_root = Path('~/proj/encode-202006-jamboree-detrout-rna-sc-pipeline/10x_paper/kallisto_em/').expanduser()"
   ]
  },
  {
   "cell_type": "code",
   "execution_count": 19,
   "id": "informative-emperor",
   "metadata": {},
   "outputs": [],
   "source": [
    "def scanpy_load_kallisto_tcc_mtx(analysis_dir, filter_file=None):\n",
    "    analysis_dir = Path(analysis_dir)\n",
    "    quant_dir = analysis_dir / \"quant_tcc\"\n",
    "    kallisto = scanpy.read_mtx(quant_dir / \"matrix.abundance.mtx\")\n",
    "\n",
    "    kallisto_vars = pandas.read_csv(\n",
    "        quant_dir / \"transcripts.txt\", header=None\n",
    "    ).values.T\n",
    "    kallisto_obs = pandas.read_csv(\n",
    "        analysis_dir / \"quant_umi\" / \"output.barcodes.txt\", header=None\n",
    "    ).values.T\n",
    "    kallisto.obs_names = kallisto_obs[0]\n",
    "    kallisto.var_names = kallisto_vars[0]\n",
    "\n",
    "    if filter_file is not None:\n",
    "        barcodes = load_barcode_list(filter_file)\n",
    "        kallisto = kallisto[barcodes].copy()\n",
    "\n",
    "    kallisto.obs[\"counts\"] = kallisto.X.sum(axis=1)\n",
    "    kallisto.obs[\"ngenes\"] = numpy.array((kallisto.X > 0).sum(axis=1))\n",
    "\n",
    "    return kallisto"
   ]
  },
  {
   "cell_type": "code",
   "execution_count": 20,
   "id": "heated-ratio",
   "metadata": {},
   "outputs": [],
   "source": [
    "tenx3_e12 = scanpy_load_kallisto_tcc_mtx(kallisto_em_root / \"10x-3\")"
   ]
  },
  {
   "cell_type": "code",
   "execution_count": 21,
   "id": "pointed-survivor",
   "metadata": {},
   "outputs": [
    {
     "data": {
      "text/plain": [
       "(655514, 168207)"
      ]
     },
     "execution_count": 21,
     "metadata": {},
     "output_type": "execute_result"
    }
   ],
   "source": [
    "tenx3_e12.shape"
   ]
  },
  {
   "cell_type": "code",
   "execution_count": 30,
   "id": "moral-packaging",
   "metadata": {},
   "outputs": [],
   "source": [
    "c1_m21_root = Path('~/proj/C1_mouse_limb_combined/all_analysis_M21/').expanduser()\n",
    "c1_m21_library_tsv = c1_m21_root / 'libraries-passing.tsv'\n",
    "c1_m21_experiments_tsv = c1_m21_root / 'experiments-by-run-passing.tsv'"
   ]
  },
  {
   "cell_type": "code",
   "execution_count": 31,
   "id": "phantom-fancy",
   "metadata": {},
   "outputs": [],
   "source": [
    "c1_m21_library = models.load_library_tables([c1_m21_library_tsv])\n",
    "c1_m21_experiment = models.load_experiments([c1_m21_experiments_tsv])"
   ]
  },
  {
   "cell_type": "code",
   "execution_count": 35,
   "id": "assumed-biology",
   "metadata": {},
   "outputs": [
    {
     "data": {
      "text/plain": [
       "['18087_F1',\n",
       " '18087_F10',\n",
       " '18087_F11',\n",
       " '18087_F12',\n",
       " '18087_F2',\n",
       " '18087_F3',\n",
       " '18087_F4',\n",
       " '18087_F5',\n",
       " '18087_F6',\n",
       " '18087_F7',\n",
       " '18087_F8',\n",
       " '18087_F9',\n",
       " '18088_G1',\n",
       " '18088_G10',\n",
       " '18088_G11',\n",
       " '18088_G12',\n",
       " '18088_G2',\n",
       " '18088_G3',\n",
       " '18088_G4',\n",
       " '18088_G5',\n",
       " '18088_G6',\n",
       " '18088_G7',\n",
       " '18088_G8',\n",
       " '18088_G9',\n",
       " '18089_H1',\n",
       " '18089_H10',\n",
       " '18089_H11',\n",
       " '18089_H2',\n",
       " '18089_H3',\n",
       " '18089_H4',\n",
       " '18089_H5',\n",
       " '18089_H6',\n",
       " '18089_H7',\n",
       " '18089_H8',\n",
       " '18089_H9']"
      ]
     },
     "execution_count": 35,
     "metadata": {},
     "output_type": "execute_result"
    }
   ],
   "source": [
    "c1_m21_experiment.loc['C1_mouse_e10.5_limb_mm10_clean_run3', 'replicates']"
   ]
  },
  {
   "cell_type": "code",
   "execution_count": null,
   "id": "comparative-projector",
   "metadata": {},
   "outputs": [],
   "source": []
  }
 ],
 "metadata": {
  "kernelspec": {
   "display_name": "Python 3",
   "language": "python",
   "name": "python3"
  },
  "language_info": {
   "codemirror_mode": {
    "name": "ipython",
    "version": 3
   },
   "file_extension": ".py",
   "mimetype": "text/x-python",
   "name": "python",
   "nbconvert_exporter": "python",
   "pygments_lexer": "ipython3",
   "version": "3.9.1+"
  }
 },
 "nbformat": 4,
 "nbformat_minor": 5
}
