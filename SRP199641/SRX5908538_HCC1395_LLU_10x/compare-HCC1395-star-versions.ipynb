{
 "cells": [
  {
   "cell_type": "markdown",
   "id": "injured-strip",
   "metadata": {
    "slideshow": {
     "slide_type": "slide"
    }
   },
   "source": [
    "# Introduction"
   ]
  },
  {
   "cell_type": "markdown",
   "id": "informal-tactics",
   "metadata": {
    "slideshow": {
     "slide_type": "-"
    }
   },
   "source": [
    "How much does what is included in the annotation set matter?"
   ]
  },
  {
   "cell_type": "code",
   "execution_count": 1,
   "id": "ethical-programmer",
   "metadata": {
    "slideshow": {
     "slide_type": "skip"
    }
   },
   "outputs": [],
   "source": [
    "import seaborn\n",
    "import scipy\n",
    "import anndata\n",
    "import pandas\n",
    "import scanpy\n",
    "import numpy\n",
    "from pathlib import Path\n",
    "from matplotlib import pyplot, cm\n",
    "import sys\n",
    "import pysam\n",
    "from collections import Counter\n",
    "from IPython import display\n",
    "\n",
    "import upsetplot"
   ]
  },
  {
   "cell_type": "code",
   "execution_count": 2,
   "id": "great-graduation",
   "metadata": {},
   "outputs": [],
   "source": [
    "MEX = str(Path(\"~/proj/mex_gene_archive\").expanduser())\n",
    "if MEX not in sys.path:\n",
    "    sys.path.append(MEX)\n",
    "from mex_gene_archive.filter import write_filtered_mtx\n",
    "from mex_gene_archive.reader import read_mex_archive_as_anndata"
   ]
  },
  {
   "cell_type": "code",
   "execution_count": 3,
   "id": "checked-apollo",
   "metadata": {
    "slideshow": {
     "slide_type": "skip"
    }
   },
   "outputs": [],
   "source": [
    "pandas.options.display.max_rows = 300"
   ]
  },
  {
   "cell_type": "code",
   "execution_count": 4,
   "id": "violent-action",
   "metadata": {
    "slideshow": {
     "slide_type": "skip"
    }
   },
   "outputs": [
    {
     "data": {
      "text/plain": [
       "'/woldlab/loxcyc/home/diane/proj/encode-202006-jamboree-detrout-rna-sc-pipeline/SRP199641/SRX5908538_HCC1395_LLU_10x'"
      ]
     },
     "execution_count": 4,
     "metadata": {},
     "output_type": "execute_result"
    }
   ],
   "source": [
    "pwd"
   ]
  },
  {
   "cell_type": "code",
   "execution_count": 5,
   "id": "breathing-glenn",
   "metadata": {
    "slideshow": {
     "slide_type": "skip"
    }
   },
   "outputs": [],
   "source": [
    "project_root = Path(\"../..\").absolute()\n",
    "if str(project_root) not in sys.path:\n",
    "    sys.path.append(str(project_root))\n",
    "from common import compute_spearman_anndata"
   ]
  },
  {
   "cell_type": "code",
   "execution_count": 6,
   "id": "documentary-enough",
   "metadata": {
    "slideshow": {
     "slide_type": "skip"
    }
   },
   "outputs": [],
   "source": [
    "def scanpy_load_solo278a_mtx(analysis_dir, quantification=\"Gene\", mode=\"filtered\", multiread=\"Unique\"):\n",
    "    assert mode in [\"filtered\", \"raw\"], \"STAR Solo only produces raw or filtered files\"\n",
    "    assert quantification in [\"Gene\", \"GeneFull\", \"GeneFull_Ex50pAS\", \"SJ\"]\n",
    "    MULTIREAD_MATRIX = {\n",
    "    \"Unique\": \"matrix.mtx\",\n",
    "    \"Rescue\": \"UniqueAndMult-Rescue.mtx\",\n",
    "    \"EM\": \"UniqueAndMult-EM.mtx\",\n",
    "    }\n",
    "    assert multiread in MULTIREAD_MATRIX\n",
    "\n",
    "    analysis_dir = Path(analysis_dir)\n",
    "    \n",
    "    solo_dir = analysis_dir / \"Solo.out\" / quantification \n",
    "    solo = scanpy.read_mtx(solo_dir / \"raw\" / MULTIREAD_MATRIX[multiread]).T\n",
    "    solo_vars = pandas.read_csv(\n",
    "        solo_dir / \"raw\" / \"features.tsv\", header=None, sep=\"\\t\"\n",
    "    ).values.T\n",
    "    solo_obs = pandas.read_csv(\n",
    "        solo_dir / \"raw\" / \"barcodes.tsv\", header=None, sep=\"\\t\"\n",
    "    ).values.T\n",
    "    solo.obs_names = solo_obs[0]\n",
    "    solo.var_names = solo_vars[0]\n",
    "    \n",
    "    if mode == \"filtered\":\n",
    "        solo_obs = pandas.read_csv(\n",
    "            solo_dir / mode / \"barcodes.tsv\", header=None, sep=\"\\t\"\n",
    "        ).values.T[0]\n",
    "        solo = solo[solo_obs,:]\n",
    "        \n",
    "\n",
    "    solo.obs[\"counts\"] = solo.X.sum(axis=1)\n",
    "    solo.obs[\"ngenes\"] = numpy.array((solo.X > 0).sum(axis=1))\n",
    "\n",
    "    return solo\n",
    "\n"
   ]
  },
  {
   "cell_type": "markdown",
   "id": "australian-collect",
   "metadata": {
    "slideshow": {
     "slide_type": "skip"
    }
   },
   "source": [
    "# Load Datasets"
   ]
  },
  {
   "cell_type": "code",
   "execution_count": 7,
   "id": "specified-willow",
   "metadata": {
    "slideshow": {
     "slide_type": "skip"
    }
   },
   "outputs": [],
   "source": [
    "algorithm_roots = {\n",
    "    'star-2021-09-10': Path(\"fullsolo_multi_dev_EoI_2.7.9a_2021-09-10/GeneFull_Ex50pAS_EM.tar.gz\"),\n",
    "    'star-2021-12-22': Path(\"fullsolo_eoi_pipeline/GeneFull_Ex50pAS_EM_raw.tar.gz\"),\n",
    "}"
   ]
  },
  {
   "cell_type": "code",
   "execution_count": 8,
   "id": "curious-occasions",
   "metadata": {
    "slideshow": {
     "slide_type": "skip"
    }
   },
   "outputs": [
    {
     "name": "stdout",
     "output_type": "stream",
     "text": [
      "loading star-2021-09-10\n",
      "loading star-2021-12-22\n"
     ]
    }
   ],
   "source": [
    "algorithm_raw = {}\n",
    "for algorithm in algorithm_roots:\n",
    "    print(\"loading {}\".format(algorithm))\n",
    "    algorithm_raw[algorithm] = read_mex_archive_as_anndata(algorithm_roots[algorithm])\n"
   ]
  },
  {
   "cell_type": "markdown",
   "id": "lesbian-antenna",
   "metadata": {
    "slideshow": {
     "slide_type": "slide"
    }
   },
   "source": [
    "# Cell barcodes in common"
   ]
  },
  {
   "cell_type": "code",
   "execution_count": 11,
   "id": "tired-court",
   "metadata": {},
   "outputs": [
    {
     "data": {
      "image/png": "[encoded data removed]",
      "text/plain": [
       "<Figure size 186.625x256 with 4 Axes>"
      ]
     },
     "metadata": {
      "needs_background": "light"
     },
     "output_type": "display_data"
    }
   ],
   "source": [
    "algorithm_cell_barcodes = {}\n",
    "for algorithm in algorithm_raw:\n",
    "    algorithm_cell_barcodes[algorithm] = algorithm_raw[algorithm].obs_names\n",
    "\n",
    "common_cell_barcode_set = upsetplot.from_contents(algorithm_cell_barcodes)\n",
    "f = pyplot.figure()\n",
    "f.suptitle(\"Cell Barcodes in Common\")\n",
    "_ = upsetplot.plot(common_cell_barcode_set, fig=f, show_counts=True)\n"
   ]
  },
  {
   "cell_type": "code",
   "execution_count": 15,
   "id": "present-paris",
   "metadata": {},
   "outputs": [
    {
     "name": "stdout",
     "output_type": "stream",
     "text": [
      "common_cell_barcode_set 737280\n",
      "common_cell_barcodes 737280\n"
     ]
    }
   ],
   "source": [
    "common_cell_barcode_set = None\n",
    "for algorithm in algorithm_raw:\n",
    "    if common_cell_barcode_set is None:\n",
    "        common_cell_barcode_set = set(algorithm_raw[algorithm].obs_names)\n",
    "    else:\n",
    "        common_cell_barcode_set = common_cell_barcode_set.intersection(algorithm_raw[algorithm].obs_names)\n",
    "\n",
    "print('common_cell_barcode_set', len(common_cell_barcode_set))\n",
    "first = next(iter(algorithm_raw))\n",
    "common_cell_barcodes = [x for x in algorithm_raw[first].obs_names if x in common_cell_barcode_set]\n",
    "print('common_cell_barcodes', len(common_cell_barcodes))\n"
   ]
  },
  {
   "cell_type": "markdown",
   "id": "meaning-condition",
   "metadata": {
    "slideshow": {
     "slide_type": "slide"
    }
   },
   "source": [
    "# Gene IDs in common"
   ]
  },
  {
   "cell_type": "code",
   "execution_count": 16,
   "id": "imported-telephone",
   "metadata": {},
   "outputs": [
    {
     "data": {
      "image/png": "[encoded data removed]",
      "text/plain": [
       "<Figure size 186.625x256 with 4 Axes>"
      ]
     },
     "metadata": {
      "needs_background": "light"
     },
     "output_type": "display_data"
    }
   ],
   "source": [
    "algorithm_gene_base_ids = {}\n",
    "for algorithm in algorithm_raw:\n",
    "    algorithm_gene_base_ids[algorithm] = set(algorithm_raw[algorithm].var_names)\n",
    "\n",
    "common_gene_base_contents = upsetplot.from_contents(algorithm_gene_base_ids)\n",
    "\n",
    "# tenx is using gencode.v32.primary_assembly.annotation.gtf.filtered\n",
    "f = pyplot.figure()\n",
    "f.suptitle(\"Gene id's in common\")\n",
    "_ = upsetplot.plot(common_gene_base_contents, fig=f, show_counts=True)"
   ]
  },
  {
   "cell_type": "code",
   "execution_count": 17,
   "id": "documentary-insulation",
   "metadata": {},
   "outputs": [
    {
     "name": "stdout",
     "output_type": "stream",
     "text": [
      "star-2021-09-10 77055230.0\n",
      "star-2021-12-22 77055230.0\n"
     ]
    }
   ],
   "source": [
    "for algorithm in algorithm_raw:\n",
    "    matrix = algorithm_raw[algorithm]\n",
    "    print(algorithm, matrix.X.sum())\n",
    "    "
   ]
  },
  {
   "cell_type": "code",
   "execution_count": 18,
   "id": "secret-garbage",
   "metadata": {},
   "outputs": [
    {
     "data": {
      "text/plain": [
       "True"
      ]
     },
     "execution_count": 18,
     "metadata": {},
     "output_type": "execute_result"
    }
   ],
   "source": [
    "numpy.all(algorithm_raw[\"star-2021-09-10\"].X.sum(axis=0) == algorithm_raw[\"star-2021-12-22\"].X.sum(axis=0))"
   ]
  },
  {
   "cell_type": "code",
   "execution_count": 19,
   "id": "behavioral-gravity",
   "metadata": {},
   "outputs": [
    {
     "data": {
      "text/plain": [
       "False"
      ]
     },
     "execution_count": 19,
     "metadata": {},
     "output_type": "execute_result"
    }
   ],
   "source": [
    "numpy.all(algorithm_raw[\"star-2021-09-10\"].X.sum(axis=1) == algorithm_raw[\"star-2021-12-22\"].X.sum(axis=1))"
   ]
  },
  {
   "cell_type": "code",
   "execution_count": 20,
   "id": "historical-norfolk",
   "metadata": {},
   "outputs": [],
   "source": [
    "different_cells = (algorithm_raw[\"star-2021-09-10\"].X.sum(axis=1) != algorithm_raw[\"star-2021-12-22\"].X.sum(axis=1))"
   ]
  },
  {
   "cell_type": "code",
   "execution_count": 25,
   "id": "solid-present",
   "metadata": {},
   "outputs": [
    {
     "data": {
      "text/plain": [
       "53.999996"
      ]
     },
     "execution_count": 25,
     "metadata": {},
     "output_type": "execute_result"
    }
   ],
   "source": [
    "algorithm_raw[\"star-2021-09-10\"][different_cells].X.sum()"
   ]
  },
  {
   "cell_type": "code",
   "execution_count": 26,
   "id": "pointed-macro",
   "metadata": {},
   "outputs": [
    {
     "data": {
      "text/plain": [
       "54.000008"
      ]
     },
     "execution_count": 26,
     "metadata": {},
     "output_type": "execute_result"
    }
   ],
   "source": [
    "algorithm_raw[\"star-2021-12-22\"][different_cells].X.sum()"
   ]
  },
  {
   "cell_type": "code",
   "execution_count": 31,
   "id": "fossil-overall",
   "metadata": {},
   "outputs": [
    {
     "ename": "AttributeError",
     "evalue": "tonumpy not found",
     "output_type": "error",
     "traceback": [
      "\u001b[0;31m---------------------------------------------------------------------------\u001b[0m",
      "\u001b[0;31mAttributeError\u001b[0m                            Traceback (most recent call last)",
      "\u001b[0;32m<ipython-input-31-692e02d38aa3>\u001b[0m in \u001b[0;36m<module>\u001b[0;34m\u001b[0m\n\u001b[0;32m----> 1\u001b[0;31m \u001b[0malgorithm_raw\u001b[0m\u001b[0;34m[\u001b[0m\u001b[0;34m\"star-2021-09-10\"\u001b[0m\u001b[0;34m]\u001b[0m\u001b[0;34m[\u001b[0m\u001b[0mdifferent_cells\u001b[0m\u001b[0;34m]\u001b[0m\u001b[0;34m.\u001b[0m\u001b[0mX\u001b[0m\u001b[0;34m.\u001b[0m\u001b[0mtonumpy\u001b[0m\u001b[0;34m(\u001b[0m\u001b[0;34m)\u001b[0m \u001b[0;34m==\u001b[0m \u001b[0malgorithm_raw\u001b[0m\u001b[0;34m[\u001b[0m\u001b[0;34m\"star-2021-12-22\"\u001b[0m\u001b[0;34m]\u001b[0m\u001b[0;34m[\u001b[0m\u001b[0mdifferent_cells\u001b[0m\u001b[0;34m]\u001b[0m\u001b[0;34m.\u001b[0m\u001b[0mX\u001b[0m\u001b[0;34m.\u001b[0m\u001b[0mto_numpy\u001b[0m\u001b[0;34m(\u001b[0m\u001b[0;34m)\u001b[0m\u001b[0;34m\u001b[0m\u001b[0;34m\u001b[0m\u001b[0m\n\u001b[0m",
      "\u001b[0;32m/usr/lib/python3/dist-packages/scipy/sparse/base.py\u001b[0m in \u001b[0;36m__getattr__\u001b[0;34m(self, attr)\u001b[0m\n\u001b[1;32m    685\u001b[0m             \u001b[0;32mreturn\u001b[0m \u001b[0mself\u001b[0m\u001b[0;34m.\u001b[0m\u001b[0mgetnnz\u001b[0m\u001b[0;34m(\u001b[0m\u001b[0;34m)\u001b[0m\u001b[0;34m\u001b[0m\u001b[0;34m\u001b[0m\u001b[0m\n\u001b[1;32m    686\u001b[0m         \u001b[0;32melse\u001b[0m\u001b[0;34m:\u001b[0m\u001b[0;34m\u001b[0m\u001b[0;34m\u001b[0m\u001b[0m\n\u001b[0;32m--> 687\u001b[0;31m             \u001b[0;32mraise\u001b[0m \u001b[0mAttributeError\u001b[0m\u001b[0;34m(\u001b[0m\u001b[0mattr\u001b[0m \u001b[0;34m+\u001b[0m \u001b[0;34m\" not found\"\u001b[0m\u001b[0;34m)\u001b[0m\u001b[0;34m\u001b[0m\u001b[0;34m\u001b[0m\u001b[0m\n\u001b[0m\u001b[1;32m    688\u001b[0m \u001b[0;34m\u001b[0m\u001b[0m\n\u001b[1;32m    689\u001b[0m     \u001b[0;32mdef\u001b[0m \u001b[0mtranspose\u001b[0m\u001b[0;34m(\u001b[0m\u001b[0mself\u001b[0m\u001b[0;34m,\u001b[0m \u001b[0maxes\u001b[0m\u001b[0;34m=\u001b[0m\u001b[0;32mNone\u001b[0m\u001b[0;34m,\u001b[0m \u001b[0mcopy\u001b[0m\u001b[0;34m=\u001b[0m\u001b[0;32mFalse\u001b[0m\u001b[0;34m)\u001b[0m\u001b[0;34m:\u001b[0m\u001b[0;34m\u001b[0m\u001b[0;34m\u001b[0m\u001b[0m\n",
      "\u001b[0;31mAttributeError\u001b[0m: tonumpy not found"
     ]
    }
   ],
   "source": [
    "algorithm_raw[\"star-2021-09-10\"][different_cells].X.tonumpy() == algorithm_raw[\"star-2021-12-22\"][different_cells].X.to_numpy()"
   ]
  },
  {
   "cell_type": "code",
   "execution_count": null,
   "id": "complicated-mining",
   "metadata": {},
   "outputs": [],
   "source": [
    "assert 0"
   ]
  },
  {
   "cell_type": "markdown",
   "id": "mighty-replication",
   "metadata": {
    "slideshow": {
     "slide_type": "slide"
    }
   },
   "source": [
    "# Compute correlations of cells in common between all methods"
   ]
  },
  {
   "cell_type": "code",
   "execution_count": null,
   "id": "oriented-calibration",
   "metadata": {
    "slideshow": {
     "slide_type": "skip"
    }
   },
   "outputs": [],
   "source": [
    "def compute_spearman_anndata(left, right):\n",
    "    assert left.shape == right.shape, \"Shapes must be the same\"\n",
    "    if isinstance(left, anndata._core.anndata.AnnData):\n",
    "        left = left.to_df().T\n",
    "    if isinstance(right, anndata._core.anndata.AnnData):\n",
    "        right = right.to_df().T\n",
    "\n",
    "    #print(left.shape[0])\n",
    "    #print(left[0].shape)\n",
    "    #print(right[0].shape)\n",
    "    cors=[]\n",
    "    for c in left.columns:\n",
    "        cors.append(scipy.stats.spearmanr(left[c], right[c])[0])\n",
    "    cors = pandas.Series(cors, index=left.columns)\n",
    "    #[~numpy.isnan(cors)]\n",
    "    return cors\n",
    "\n",
    "\n",
    "def compute_correlations(table):\n",
    "    programs = list(table.keys())\n",
    "    correlations = {}\n",
    "    dense = {}\n",
    "    for name_x in programs:\n",
    "        dense[name_x] = table[name_x].to_df().T\n",
    "\n",
    "    for name_x in programs:\n",
    "        for name_y in programs[programs.index(name_x):]:\n",
    "            print(\"Processing {} {}\".format(name_x, name_y))\n",
    "            cs_cors = compute_spearman_anndata(dense[name_x], dense[name_y])\n",
    "            correlations.setdefault(name_x, {})[name_y] = cs_cors\n",
    "    return correlations\n",
    "\n",
    "algorithm_correlations = compute_correlations(algorithm_raw)"
   ]
  },
  {
   "cell_type": "code",
   "execution_count": null,
   "id": "russian-contest",
   "metadata": {
    "slideshow": {
     "slide_type": "skip"
    }
   },
   "outputs": [],
   "source": [
    "def plot_cell_correlation_histogram(table, title=None, bins=50, programs=None):\n",
    "    if programs is None:\n",
    "        programs = list(table.keys())\n",
    "    cell_hists = {}\n",
    "    plot_size = len(programs)-1\n",
    "    figsize = (3 * plot_size, 3 * plot_size)\n",
    "    f = pyplot.figure(figsize=figsize)\n",
    "    if title is not None:\n",
    "        f.suptitle(title.format(metric=metric))\n",
    "\n",
    "    axes = f.subplots(plot_size, plot_size, sharex=True, sharey=True)\n",
    "    if plot_size == 1:\n",
    "        axes = numpy.array([[axes]])\n",
    "    for x, name_x in enumerate(programs):\n",
    "        for y, name_y in enumerate(programs[programs.index(name_x)+1:]):\n",
    "            #plot_index = plot_size * (y+x) + x + 1\n",
    "            #ax = f.add_subplot(plot_size, plot_size, plot_index)\n",
    "            ax = axes[y+x, x]\n",
    "            if x == 0:\n",
    "                ax.set_ylabel(name_y)\n",
    "\n",
    "            spearman = numpy.array(table[name_x][name_y])\n",
    "            spearman = spearman[~numpy.isnan(spearman)]\n",
    "            count = len(spearman)\n",
    "            median = numpy.median(spearman)\n",
    "            mean = numpy.mean(spearman)\n",
    "            cell_hists.setdefault(name_x, {})[name_y] = ax.hist(spearman, bins=bins, density=True)\n",
    "            ax.annotate(f'Mean {mean:0.2}\\nMedian {median:0.2}\\nCount {count}', xy=(0.1, 0.6), xycoords='axes fraction')\n",
    "    for y in range(plot_size):\n",
    "        axes[0, y].set_title(programs[y])\n",
    "        axes[plot_size-1, y].set_xlabel(programs[y])\n",
    "    #f.tight_layout()\n",
    "    "
   ]
  },
  {
   "cell_type": "code",
   "execution_count": null,
   "id": "offshore-cross",
   "metadata": {},
   "outputs": [],
   "source": [
    "plot_cell_correlation_histogram(algorithm_correlations)"
   ]
  },
  {
   "cell_type": "markdown",
   "id": "million-kruger",
   "metadata": {
    "slideshow": {
     "slide_type": "slide"
    }
   },
   "source": [
    "# Scatter plot of method genes in common over all cells"
   ]
  },
  {
   "cell_type": "code",
   "execution_count": null,
   "id": "hispanic-clearance",
   "metadata": {
    "slideshow": {
     "slide_type": "skip"
    }
   },
   "outputs": [],
   "source": [
    "def plot_algorithm_sums(table, title=None, programs=None):\n",
    "    if programs is None:\n",
    "        programs = list(table.keys())\n",
    "    scatter = {}\n",
    "    plot_size = len(programs)-1\n",
    "    figsize = (3 * plot_size, 3 * plot_size)\n",
    "    f = pyplot.figure(figsize=figsize)    \n",
    "    if title is not None:\n",
    "        f.suptitle(title.format(metric=metric))\n",
    "\n",
    "    axes = f.subplots(plot_size, plot_size, sharex=True, sharey=True)\n",
    "    if plot_size == 1:\n",
    "        axes = numpy.array([[axes]])\n",
    "    for x, name_x in enumerate(programs):\n",
    "        for y, name_y in enumerate(programs[programs.index(name_x)+1:]):\n",
    "            #plot_index = plot_size * (y+x) + x + 1\n",
    "            #ax = f.add_subplot(plot_size, plot_size, plot_index)\n",
    "            ax = axes[y+x, x]\n",
    "            if x == 0:\n",
    "                ax.set_ylabel(name_y)\n",
    "\n",
    "            scatter.setdefault(name_x, {})[name_y] = ax.scatter(\n",
    "                numpy.asarray(table[name_x].X.sum(axis=1).T)[0], \n",
    "                numpy.asarray(table[name_y].X.sum(axis=1).T)[0],\n",
    "                s=0.5\n",
    "            )\n",
    "            ax.set_xscale('log')\n",
    "            ax.set_yscale('log')\n",
    "    for y in range(plot_size):\n",
    "        axes[0, y].set_title(programs[y])\n",
    "        axes[plot_size-1, y].set_xlabel(programs[y])\n",
    "    f.suptitle(\"per algorithm sum of genes over all cells\")\n",
    "    #f.tight_layout()\n",
    "    "
   ]
  },
  {
   "cell_type": "code",
   "execution_count": null,
   "id": "rapid-collar",
   "metadata": {
    "slideshow": {
     "slide_type": "skip"
    }
   },
   "outputs": [],
   "source": [
    "plot_algorithm_sums(algorithm_common)"
   ]
  },
  {
   "cell_type": "markdown",
   "id": "entire-level",
   "metadata": {
    "slideshow": {
     "slide_type": "slide"
    }
   },
   "source": [
    "# Calculate scatter plots of gene expression for worst, median, and best correlated cells"
   ]
  },
  {
   "cell_type": "code",
   "execution_count": null,
   "id": "seventh-parliament",
   "metadata": {
    "slideshow": {
     "slide_type": "skip"
    }
   },
   "outputs": [],
   "source": [
    "algorithm_dense = {}\n",
    "for algorithm in algorithm_common:\n",
    "    algorithm_dense[algorithm] = algorithm_common[algorithm].to_df().T\n"
   ]
  },
  {
   "cell_type": "code",
   "execution_count": null,
   "id": "fancy-bulletin",
   "metadata": {
    "slideshow": {
     "slide_type": "skip"
    }
   },
   "outputs": [],
   "source": [
    "def sc_scatter(table, correlations, name_x, name_y, cell_id, ax=None):\n",
    "    gridalpha = 0.5\n",
    "    def is_spike(x):\n",
    "        if x.startswith('gSpikein_') or x.startswith('tSpikein_'):\n",
    "            return True\n",
    "        else:\n",
    "            return False\n",
    "\n",
    "    if ax is None:\n",
    "        f = pyplot.figure()\n",
    "        ax = f.subplots(1,1)\n",
    "    \n",
    "    set1 = cm.get_cmap('Set1').colors\n",
    "    colors = [{True: set1[0], False: set1[1]}[is_spike(x)] for x in table[name_x].index]\n",
    "\n",
    "    ax.plot([-5,10], [-5,10], c=set1[2])\n",
    "    ax.scatter(numpy.log2(table[name_x][cell_id]+0.01), numpy.log2(table[name_y][cell_id]+0.01), color=colors, s=2)\n",
    "    spearman = correlations[name_x][name_y][cell_id]\n",
    "    expressed_in_x = table[name_x][cell_id] > 0\n",
    "    expressed_in_y = table[name_y][cell_id] > 0\n",
    "    count = table[name_x][expressed_in_x & expressed_in_y].shape[0]\n",
    "    ax.set_title(f'id {cell_id}\\nSpearman {spearman:0.4}\\nCount: {count}')\n",
    "    ax.set_xlabel(name_x)\n",
    "    ax.set_ylabel(name_y)\n",
    "    ax.grid(color='dimgrey', linestyle='-', linewidth=0.5, which=\"both\", alpha = gridalpha)\n",
    "\n",
    "def show_scatter_extremes(dense_mat, correlations, name_x, name_y):\n",
    "    scores = correlations[name_x][name_y]\n",
    "    best_cell = scores.idxmax()\n",
    "    worst_cell = scores.idxmin()\n",
    "    # find smallest absolute difference from median and use that as median cell\n",
    "    median = numpy.abs(scores - scores.median())\n",
    "    median_cell = median.idxmin()\n",
    "    \n",
    "    f = pyplot.figure(figsize=(12,4))\n",
    "    #f.suptitle(f'{metric} worst, median and best cells')\n",
    "    axes = f.subplots(1,3, sharex=True, sharey=True)\n",
    "    sc_scatter(dense_mat, correlations, name_x, name_y, worst_cell, ax=axes[0])\n",
    "    sc_scatter(dense_mat, correlations, name_x, name_y, median_cell, ax=axes[1])\n",
    "    sc_scatter(dense_mat, correlations, name_x, name_y, best_cell, ax=axes[2])\n",
    "    return f"
   ]
  },
  {
   "cell_type": "markdown",
   "id": "suspended-texas",
   "metadata": {},
   "source": [
    "# Scatter plots of gene expression for worst, median, and best correlated cells"
   ]
  },
  {
   "cell_type": "code",
   "execution_count": null,
   "id": "continental-excellence",
   "metadata": {
    "scrolled": false
   },
   "outputs": [],
   "source": [
    "def plot_all_scatter_extremes(table, correlations):\n",
    "    programs = list(table.keys())\n",
    "\n",
    "\n",
    "    for name_x in programs:\n",
    "        for name_y in programs[programs.index(name_x)+1:]:\n",
    "            #print(\"Comparing {} {}\".format(name_x, name_y))\n",
    "            f = show_scatter_extremes(table, correlations, name_x, name_y)\n",
    "            \n",
    "            \n",
    "plot_all_scatter_extremes(algorithm_dense, algorithm_correlations)"
   ]
  },
  {
   "cell_type": "markdown",
   "id": "excellent-charles",
   "metadata": {
    "slideshow": {
     "slide_type": "slide"
    }
   },
   "source": [
    "# Calculate scatter plot of cells with the highest expression sum"
   ]
  },
  {
   "cell_type": "code",
   "execution_count": null,
   "id": "hybrid-prisoner",
   "metadata": {
    "slideshow": {
     "slide_type": "skip"
    }
   },
   "outputs": [],
   "source": [
    "def plot_algorithm_most_expressed(table, correlations, title=None, programs=None):\n",
    "    if programs is None:\n",
    "        programs = list(table.keys())\n",
    "    scatter = {}\n",
    "    plot_size = len(programs)-1\n",
    "    figsize = (3 * plot_size, 3 * plot_size)\n",
    "    f = pyplot.figure(figsize=figsize)\n",
    "    if title is not None:\n",
    "        f.suptitle(title.format(metric=metric))\n",
    "\n",
    "\n",
    "    axes = f.subplots(plot_size, plot_size, sharex=True, sharey=True)\n",
    "    if plot_size == 1:\n",
    "        axes = numpy.array([[axes]])\n",
    "    for x, name_x in enumerate(programs):\n",
    "        for y, name_y in enumerate(programs[programs.index(name_x)+1:]):\n",
    "            #plot_index = plot_size * (y+x) + x + 1\n",
    "            #ax = f.add_subplot(plot_size, plot_size, plot_index)\n",
    "            ax = axes[y+x, x]\n",
    "            if x == 0:\n",
    "                ax.set_ylabel(name_y)\n",
    "\n",
    "            max_cell = algorithm_dense[name_x].sum(axis=0).idxmax()\n",
    "            scatter.setdefault(name_x, {})[name_y] = sc_scatter(table, correlations, name_x, name_y, max_cell, ax=ax)\n",
    "    for y in range(plot_size):\n",
    "        axes[0, y].set_title(programs[y])\n",
    "        axes[plot_size-1, y].set_xlabel(programs[y])\n",
    "    f.suptitle(\"Compare algorithms with cell with highest expression sum\")\n",
    "    #f.tight_layout()\n",
    "    "
   ]
  },
  {
   "cell_type": "markdown",
   "id": "academic-illness",
   "metadata": {},
   "source": [
    "# Scatter plot of cells with the highest expression sum"
   ]
  },
  {
   "cell_type": "code",
   "execution_count": null,
   "id": "freelance-houston",
   "metadata": {},
   "outputs": [],
   "source": [
    "plot_algorithm_most_expressed(algorithm_dense, algorithm_correlations)"
   ]
  },
  {
   "cell_type": "markdown",
   "id": "hydraulic-liability",
   "metadata": {
    "slideshow": {
     "slide_type": "slide"
    }
   },
   "source": [
    "# Lets try the scanpy tutorial"
   ]
  },
  {
   "cell_type": "code",
   "execution_count": null,
   "id": "demanding-refund",
   "metadata": {
    "scrolled": false
   },
   "outputs": [],
   "source": [
    "for algorithm in algorithm_filtered:\n",
    "    print(\"{algorithm} first phase QC\".format(algorithm=algorithm))    \n",
    "    if algorithm.startswith(\"tenx\"):\n",
    "        algorithm_filtered[algorithm].var['gene_name'] = [v32m_gene_id_to_name.get(x, x) for x in  algorithm_filtered[algorithm].var_names]\n",
    "        algorithm_filtered[algorithm].var['gene_type'] = [v32m_gene_id_to_type.get(x, x) for x in  algorithm_filtered[algorithm].var_names]\n",
    "    else:\n",
    "        algorithm_filtered[algorithm].var['gene_name'] = [v29_gene_id_to_name.get(x, x) for x in  algorithm_filtered[algorithm].var_names]\n",
    "        algorithm_filtered[algorithm].var['gene_type'] = [v29_gene_id_to_type.get(x, x) for x in  algorithm_filtered[algorithm].var_names]\n",
    "        \n",
    "    scanpy.pl.highest_expr_genes(algorithm_filtered[algorithm], n_top=20, gene_symbols='gene_name')\n",
    "    scanpy.pp.filter_cells(algorithm_filtered[algorithm], min_genes=200)\n",
    "    scanpy.pp.filter_genes(algorithm_filtered[algorithm], min_cells=3)\n",
    "    algorithm_filtered[algorithm].var['mt'] = algorithm_filtered[algorithm].var['gene_name'].str.startswith(\"MT-\")\n",
    "    scanpy.pp.calculate_qc_metrics(algorithm_filtered[algorithm], qc_vars=['mt'], percent_top=None, log1p=False, inplace=True)\n",
    "    scanpy.pl.violin(\n",
    "        algorithm_filtered[algorithm],\n",
    "        ['n_genes_by_counts', 'total_counts', 'pct_counts_mt'],\n",
    "        jitter=0.4, multi_panel=True)\n",
    "    scanpy.pl.scatter(algorithm_filtered[algorithm], x='total_counts', y='pct_counts_mt')\n",
    "    scanpy.pl.scatter(algorithm_filtered[algorithm], x='total_counts', y='n_genes_by_counts')        "
   ]
  },
  {
   "cell_type": "code",
   "execution_count": null,
   "id": "intended-greek",
   "metadata": {},
   "outputs": [],
   "source": [
    "count_filter = 8000\n",
    "mt_filter = 10"
   ]
  },
  {
   "cell_type": "code",
   "execution_count": null,
   "id": "spoken-powder",
   "metadata": {
    "scrolled": false
   },
   "outputs": [],
   "source": [
    "algorithm_scanpy_filtered = {}\n",
    "algorithm_top_gene_ids = {}\n",
    "algorithm_top_gene_names = {}\n",
    "for algorithm in algorithm_filtered:\n",
    "    #print(display.HTML('<h1>{algorithm} first phase QC</h1><a class=\"anchor-link\" href=\"#{algorithm}-first-phase-QC\">¶</a>'.format(algorithm=algorithm)))\n",
    "    print(\"{algorithm} clustering\".format(algorithm=algorithm))\n",
    "    algorithm_scanpy_filtered[algorithm] = algorithm_filtered[algorithm][algorithm_filtered[algorithm].obs.n_genes_by_counts < count_filter, :]\n",
    "    algorithm_scanpy_filtered[algorithm] = algorithm_scanpy_filtered[algorithm][algorithm_scanpy_filtered[algorithm].obs.pct_counts_mt < mt_filter, :]\n",
    "    \n",
    "    scanpy.pp.normalize_total(algorithm_scanpy_filtered[algorithm], target_sum=30000)\n",
    "    scanpy.pp.log1p(algorithm_scanpy_filtered[algorithm])\n",
    "    scanpy.pp.highly_variable_genes(algorithm_scanpy_filtered[algorithm], min_mean=0.0125, max_mean=3, min_disp=0.5)\n",
    "    scanpy.pl.highly_variable_genes(algorithm_scanpy_filtered[algorithm])\n",
    "    algorithm_scanpy_filtered[algorithm].raw = algorithm_scanpy_filtered[algorithm]\n",
    "    algorithm_scanpy_filtered[algorithm] = algorithm_scanpy_filtered[algorithm][:, algorithm_scanpy_filtered[algorithm].var.highly_variable]\n",
    "   \n",
    "    scanpy.pp.regress_out( algorithm_scanpy_filtered[algorithm], ['total_counts', 'pct_counts_mt'])\n",
    "    scanpy.pp.scale( algorithm_scanpy_filtered[algorithm], max_value=10)\n",
    "    scanpy.tl.pca(algorithm_scanpy_filtered[algorithm], svd_solver='arpack')\n",
    "    scanpy.pl.pca(algorithm_scanpy_filtered[algorithm])\n",
    "\n",
    "    scanpy.pl.pca_variance_ratio(algorithm_scanpy_filtered[algorithm], log=True)\n",
    "    \n",
    "    scanpy.pp.neighbors(algorithm_scanpy_filtered[algorithm], n_neighbors=10, n_pcs=40)\n",
    "    scanpy.tl.umap(algorithm_scanpy_filtered[algorithm])\n",
    "    scanpy.pl.umap(algorithm_scanpy_filtered[algorithm])\n",
    "    \n",
    "    scanpy.tl.louvain(algorithm_scanpy_filtered[algorithm])\n",
    "    scanpy.pl.umap(algorithm_scanpy_filtered[algorithm], color=['louvain'])\n",
    "    \n",
    "    scanpy.tl.rank_genes_groups(algorithm_scanpy_filtered[algorithm], 'louvain', method='t-test')\n",
    "    scanpy.pl.rank_genes_groups(algorithm_scanpy_filtered[algorithm], n_genes=25, sharey=False, gene_symbols='gene_name')\n",
    "    \n",
    "    algorithm_top_gene_ids[algorithm] = pandas.DataFrame(algorithm_scanpy_filtered[algorithm].uns['rank_genes_groups']['names'])    \n",
    "    if algorithm == \"tenx solo uniq\":\n",
    "        algorithm_top_gene_names[algorithm] = algorithm_top_gene_ids[algorithm].applymap(lambda x: v32m_gene_id_to_name.get(x, x))\n",
    "    else:\n",
    "        algorithm_top_gene_names[algorithm] = algorithm_top_gene_ids[algorithm].applymap(lambda x: v29_gene_id_to_name.get(x, x))\n",
    "    print('top gene names')\n",
    "    print(algorithm_top_gene_names[algorithm].head(5))"
   ]
  },
  {
   "cell_type": "markdown",
   "id": "encouraging-application",
   "metadata": {
    "slideshow": {
     "slide_type": "slide"
    }
   },
   "source": [
    "# Cell barcodes left in common after scanpy filtering"
   ]
  },
  {
   "cell_type": "code",
   "execution_count": null,
   "id": "comfortable-fields",
   "metadata": {},
   "outputs": [],
   "source": [
    "tutoral_barcode_set = upsetplot.from_contents({\n",
    "    k: algorithm_scanpy_filtered[k].obs_names for k in algorithm_scanpy_filtered\n",
    "})\n",
    "f = pyplot.figure()\n",
    "f.suptitle(\"Cell barcodes in common after scanpy\")\n",
    "_ = upsetplot.plot(tutoral_barcode_set, show_counts=True, fig=f)\n"
   ]
  },
  {
   "cell_type": "markdown",
   "id": "effective-dublin",
   "metadata": {
    "slideshow": {
     "slide_type": "slide"
    }
   },
   "source": [
    "# Gene IDs in common after scanpy filtering"
   ]
  },
  {
   "cell_type": "code",
   "execution_count": null,
   "id": "fatal-beads",
   "metadata": {},
   "outputs": [],
   "source": [
    "common_filtered_gene_base_contents = {}\n",
    "for algorithm in algorithm_scanpy_filtered:\n",
    "    #if algorithm == 'tenx solo uniq':\n",
    "    #    common_filtered_gene_base_contents[algorithm] = {gene_id for gene_id in algorithm_scanpy_filtered[algorithm].var_names}\n",
    "    #else:\n",
    "    #common_filtered_gene_base_contents[algorithm] = {gene_id.split('.')[0] for gene_id in algorithm_scanpy_filtered[algorithm].var_names}\n",
    "    common_filtered_gene_base_contents[algorithm] = set(algorithm_scanpy_filtered[algorithm].var_names)\n",
    "\n",
    "# tenx is using gencode.v32.primary_assembly.annotation.gtf.filtered\n",
    "common_filtered_gene_base_set = upsetplot.from_contents(common_filtered_gene_base_contents)\n",
    "\n",
    "f = pyplot.figure()\n",
    "f.suptitle(\"Gene ids in common after scanpy\")\n",
    "_ = upsetplot.plot(common_filtered_gene_base_set, show_counts=True, fig=f)"
   ]
  },
  {
   "cell_type": "code",
   "execution_count": null,
   "id": "special-parameter",
   "metadata": {},
   "outputs": [],
   "source": [
    "common_filtered_gene_base_set"
   ]
  },
  {
   "cell_type": "code",
   "execution_count": null,
   "id": "dress-anderson",
   "metadata": {
    "scrolled": true,
    "slideshow": {
     "slide_type": "skip"
    }
   },
   "outputs": [],
   "source": [
    "#common_filtered_gene_base_set.loc[True, False, True]['id']"
   ]
  },
  {
   "cell_type": "code",
   "execution_count": null,
   "id": "official-energy",
   "metadata": {
    "scrolled": false,
    "slideshow": {
     "slide_type": "skip"
    }
   },
   "outputs": [],
   "source": [
    "#v29_gtf.set_index('gene_id').reindex(common_filtered_gene_base_set.loc[True, False, True]['id'])"
   ]
  },
  {
   "cell_type": "code",
   "execution_count": null,
   "id": "military-desert",
   "metadata": {
    "slideshow": {
     "slide_type": "skip"
    }
   },
   "outputs": [],
   "source": [
    "def build_confusion_matrix(left, right, N=20):\n",
    "    confusion = {}\n",
    "    for cluster in left:\n",
    "        for gene in left[cluster].head(N):\n",
    "            confusion.setdefault(gene, {})['left'] = int(cluster)\n",
    "\n",
    "    for cluster in right:\n",
    "        for gene in right[cluster].head(N):\n",
    "            confusion.setdefault(gene, {})['right'] = int(cluster)\n",
    "\n",
    "    last_left = int(left.columns[-1]) + 1\n",
    "    last_right = int(right.columns[-1]) + 1\n",
    "\n",
    "    confusion_matrix = numpy.zeros((last_left+1, last_right+1))\n",
    "\n",
    "    for gene in confusion:\n",
    "        x = confusion[gene].get('left', last_left)\n",
    "        y = confusion[gene].get('right', last_right)\n",
    "        confusion_matrix[x,y] += 1\n",
    "    return confusion_matrix"
   ]
  },
  {
   "cell_type": "markdown",
   "id": "juvenile-planning",
   "metadata": {
    "slideshow": {
     "slide_type": "slide"
    }
   },
   "source": [
    "# Confusion matrices between top N genes in each cluster"
   ]
  },
  {
   "cell_type": "code",
   "execution_count": null,
   "id": "occupied-richards",
   "metadata": {
    "slideshow": {
     "slide_type": "skip"
    }
   },
   "outputs": [],
   "source": [
    "def plot_algorithm_confusion(table, programs=None, N=20):\n",
    "    if programs is None:\n",
    "        programs = list(table.keys())\n",
    "    confusion = {}\n",
    "    plot_size = len(programs)-1\n",
    "    figsize = (3 * plot_size, 3 * plot_size)\n",
    "    f = pyplot.figure(figsize=figsize)\n",
    "\n",
    "    axes = f.subplots(plot_size, plot_size, sharex=True, sharey=True)\n",
    "    if plot_size == 1:\n",
    "        axes = numpy.array([[axes]])\n",
    "    for x, name_x in enumerate(programs):\n",
    "        for y, name_y in enumerate(programs[programs.index(name_x)+1:]):\n",
    "            #plot_index = plot_size * (y+x) + x + 1\n",
    "            #ax = f.add_subplot(plot_size, plot_size, plot_index)\n",
    "            ax = axes[y+x, x]\n",
    "            cm = build_confusion_matrix(table[name_x], table[name_y], N)\n",
    "            seaborn.heatmap(cm, annot=False, ax=ax)\n",
    "            \n",
    "            if x == 0:\n",
    "                ax.set_ylabel(name_y)\n",
    "    for y in range(plot_size):\n",
    "        axes[0, y].set_title(programs[y])\n",
    "        axes[plot_size-1, y].set_xlabel(programs[y])\n",
    "    f.suptitle(\"Gene name confusion matrix of top {} genes\".format(N))\n",
    "    #f.tight_layout()\n"
   ]
  },
  {
   "cell_type": "code",
   "execution_count": null,
   "id": "mental-cooking",
   "metadata": {
    "slideshow": {
     "slide_type": "slide"
    }
   },
   "outputs": [],
   "source": [
    "plot_algorithm_confusion(algorithm_top_gene_names, N=20)"
   ]
  },
  {
   "cell_type": "code",
   "execution_count": null,
   "id": "amended-slovak",
   "metadata": {
    "slideshow": {
     "slide_type": "slide"
    }
   },
   "outputs": [],
   "source": [
    "plot_algorithm_confusion(algorithm_top_gene_names, N=200)"
   ]
  },
  {
   "cell_type": "code",
   "execution_count": null,
   "id": "stock-episode",
   "metadata": {
    "slideshow": {
     "slide_type": "slide"
    }
   },
   "outputs": [],
   "source": [
    "plot_algorithm_confusion(algorithm_top_gene_names, N=2000)"
   ]
  },
  {
   "cell_type": "markdown",
   "id": "painful-amateur",
   "metadata": {},
   "source": [
    "# Smoosh datasets"
   ]
  },
  {
   "cell_type": "code",
   "execution_count": null,
   "id": "sustained-separate",
   "metadata": {},
   "outputs": [],
   "source": [
    "combined = anndata.concat(\n",
    "    [algorithm_filtered[x] for x in algorithm_filtered],\n",
    "    merge='same',\n",
    ")\n",
    "combined"
   ]
  },
  {
   "cell_type": "code",
   "execution_count": null,
   "id": "allied-graduation",
   "metadata": {},
   "outputs": [],
   "source": [
    "combined.var['gene_name'] = [v29_gene_id_to_name.get(x, x) for x in combined.var_names]\n",
    "combined.var['gene_type'] = [v29_gene_id_to_type.get(x, x) for x in combined.var_names]\n",
    "combined"
   ]
  },
  {
   "cell_type": "code",
   "execution_count": null,
   "id": "expanded-movie",
   "metadata": {},
   "outputs": [],
   "source": [
    "method = []\n",
    "for algorithm in algorithm_filtered:\n",
    "    method.extend([algorithm] * len(algorithm_filtered[algorithm].obs_names))\n",
    "print(len(method), len(algorithm_filtered[algorithm].obs_names))\n",
    "print(combined.shape)\n",
    "combined.obs['method'] = method\n",
    "combined"
   ]
  },
  {
   "cell_type": "code",
   "execution_count": null,
   "id": "wooden-notion",
   "metadata": {},
   "outputs": [],
   "source": [
    "scanpy.pl.highest_expr_genes(combined, n_top=20, gene_symbols='gene_name')\n",
    "scanpy.pp.filter_cells(combined, min_genes=200)\n",
    "scanpy.pp.filter_genes(combined, min_cells=3)\n",
    "algorithm_filtered[algorithm].var['mt'] = combined.var['gene_name'].str.startswith(\"MT-\")\n",
    "scanpy.pp.calculate_qc_metrics(combined, qc_vars=['mt'], percent_top=None, log1p=False, inplace=True)\n",
    "scanpy.pl.violin(\n",
    "    combined,\n",
    "    ['n_genes_by_counts', 'total_counts', 'pct_counts_mt'],\n",
    "    jitter=0.4, multi_panel=True)\n",
    "scanpy.pl.scatter(combined, x='total_counts', y='pct_counts_mt')\n",
    "scanpy.pl.scatter(combined, x='total_counts', y='n_genes_by_counts')        "
   ]
  },
  {
   "cell_type": "code",
   "execution_count": null,
   "id": "joint-boring",
   "metadata": {},
   "outputs": [],
   "source": [
    "#print(display.HTML('<h1>{algorithm} first phase QC</h1><a class=\"anchor-link\" href=\"#{algorithm}-first-phase-QC\">¶</a>'.format(algorithm=algorithm)))\n",
    "combined_scanpy = combined[combined.obs.n_genes_by_counts < count_filter, :]\n",
    "combined_scanpy = combined_scanpy[combined_scanpy.obs.pct_counts_mt < mt_filter, :]\n",
    "\n",
    "scanpy.pp.normalize_total(combined_scanpy, target_sum=30000)\n",
    "scanpy.pp.log1p(combined_scanpy)\n",
    "scanpy.pp.highly_variable_genes(combined_scanpy, min_mean=0.0125, max_mean=3, min_disp=0.5)\n",
    "scanpy.pl.highly_variable_genes(combined_scanpy)\n",
    "combined_scanpy.raw = combined_scanpy\n",
    "combined_scanpy = combined_scanpy[:, combined_scanpy.var.highly_variable]\n",
    "\n",
    "scanpy.pp.regress_out(combined_scanpy, ['total_counts', 'pct_counts_mt'])\n",
    "scanpy.pp.scale(combined_scanpy, max_value=10)\n",
    "scanpy.tl.pca(combined_scanpy, svd_solver='arpack')\n",
    "scanpy.pl.pca(combined_scanpy)\n",
    "\n",
    "scanpy.pl.pca_variance_ratio(combined_scanpy, log=True)\n",
    "\n",
    "scanpy.pp.neighbors(combined_scanpy, n_neighbors=10, n_pcs=40)\n",
    "scanpy.tl.umap(combined_scanpy)\n",
    "scanpy.pl.umap(combined_scanpy)\n",
    "\n",
    "scanpy.tl.louvain(combined_scanpy)\n",
    "scanpy.pl.umap(combined_scanpy, color=['louvain'])\n",
    "\n",
    "scanpy.tl.leiden(combined_scanpy)\n",
    "scanpy.pl.umap(combined_scanpy, color=['leiden'])\n",
    "\n",
    "scanpy.tl.rank_genes_groups(combined_scanpy, 'leiden', method='t-test')\n",
    "scanpy.pl.rank_genes_groups(combined_scanpy, n_genes=25, sharey=False, gene_symbols='gene_name')\n",
    "\n",
    "combined_top_gene_ids = pandas.DataFrame(combined_scanpy.uns['rank_genes_groups']['names'])    \n",
    "print('top gene names')\n",
    "combined_top_gene_names = combined_top_gene_ids.applymap(lambda x: v29_gene_id_to_name.get(x, x))\n",
    "print('top gene names')\n",
    "combined_top_gene_names"
   ]
  },
  {
   "cell_type": "markdown",
   "id": "plain-mozambique",
   "metadata": {},
   "source": [
    "# UMAP EM reads"
   ]
  },
  {
   "cell_type": "code",
   "execution_count": null,
   "id": "listed-cleanup",
   "metadata": {},
   "outputs": [],
   "source": [
    "scanpy.pl.umap(combined_scanpy, color=['method'])"
   ]
  },
  {
   "cell_type": "code",
   "execution_count": null,
   "id": "adopted-medicaid",
   "metadata": {
    "scrolled": false
   },
   "outputs": [],
   "source": [
    "scanpy.pl.umap(combined_scanpy, color=['leiden'])"
   ]
  },
  {
   "cell_type": "code",
   "execution_count": null,
   "id": "sensitive-agreement",
   "metadata": {},
   "outputs": [],
   "source": []
  },
  {
   "cell_type": "code",
   "execution_count": null,
   "id": "noted-concern",
   "metadata": {},
   "outputs": [],
   "source": []
  }
 ],
 "metadata": {
  "celltoolbar": "Slideshow",
  "kernelspec": {
   "display_name": "Python 3",
   "language": "python",
   "name": "python3"
  },
  "language_info": {
   "codemirror_mode": {
    "name": "ipython",
    "version": 3
   },
   "file_extension": ".py",
   "mimetype": "text/x-python",
   "name": "python",
   "nbconvert_exporter": "python",
   "pygments_lexer": "ipython3",
   "version": "3.9.1+"
  }
 },
 "nbformat": 4,
 "nbformat_minor": 5
}
