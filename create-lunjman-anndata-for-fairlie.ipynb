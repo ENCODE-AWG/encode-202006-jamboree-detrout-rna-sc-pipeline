{
 "cells": [
  {
   "cell_type": "markdown",
   "metadata": {},
   "source": [
    "# Introduction"
   ]
  },
  {
   "cell_type": "markdown",
   "metadata": {},
   "source": [
    "Fairlie asked for an AnnData matrix of the Mats Lunjman short read experiments we submitted."
   ]
  },
  {
   "cell_type": "code",
   "execution_count": 1,
   "metadata": {},
   "outputs": [],
   "source": [
    "import pandas\n",
    "from pathlib import Path\n",
    "import os\n",
    "import sys\n",
    "from anndata import AnnData\n",
    "\n",
    "from pipeline_common import get_gene_id_to_name"
   ]
  },
  {
   "cell_type": "code",
   "execution_count": 2,
   "metadata": {},
   "outputs": [],
   "source": [
    "LRSC = str(Path('~/proj/long-rna-seq-condor').expanduser())\n",
    "if LRSC not in sys.path:\n",
    "    sys.path.append(LRSC)\n",
    "    \n",
    "from woldrnaseq.madqc import load_rsem_quantifications, load_genomic_quantifications\n",
    "from woldrnaseq.models import load_experiments, load_library_tables"
   ]
  },
  {
   "cell_type": "code",
   "execution_count": 3,
   "metadata": {},
   "outputs": [],
   "source": [
    "EC = Path('~/proj/encoded_client').expanduser()\n",
    "if EC not in sys.path:\n",
    "    sys.path.append(str(EC))\n",
    "from encoded_client import ENCODED"
   ]
  },
  {
   "cell_type": "code",
   "execution_count": 4,
   "metadata": {},
   "outputs": [
    {
     "data": {
      "text/plain": [
       "'/woldlab/loxcyc/home/diane/proj/encode-202006-jamboree-detrout-rna-sc-pipeline'"
      ]
     },
     "execution_count": 4,
     "metadata": {},
     "output_type": "execute_result"
    }
   ],
   "source": [
    "pwd"
   ]
  },
  {
   "cell_type": "code",
   "execution_count": 5,
   "metadata": {},
   "outputs": [],
   "source": [
    "gene_id_map = get_gene_id_to_name('GRCh38-V24-male')"
   ]
  },
  {
   "cell_type": "code",
   "execution_count": 6,
   "metadata": {},
   "outputs": [],
   "source": [
    "biosamples = [\n",
    "    'ENCBS375FZQ',\n",
    "    'ENCBS555BGE',\n",
    "    'ENCBS777OZT',\n",
    "    'ENCBS206PUV',\n",
    "    'ENCBS975OUN',\n",
    "    'ENCBS365LJQ',\n",
    "    'ENCBS734JMT',\n",
    "    'ENCBS648NSQ',\n",
    "]\n"
   ]
  },
  {
   "cell_type": "code",
   "execution_count": 7,
   "metadata": {},
   "outputs": [],
   "source": [
    "server = ENCODED('www.encodeproject.org')\n",
    "server.load_netrc()"
   ]
  },
  {
   "cell_type": "code",
   "execution_count": 8,
   "metadata": {},
   "outputs": [],
   "source": [
    "biosample = server.get_json(biosamples[0])"
   ]
  },
  {
   "cell_type": "code",
   "execution_count": 9,
   "metadata": {},
   "outputs": [
    {
     "data": {
      "text/plain": [
       "dict_keys(['accession', 'aliases', 'schema_version', 'status', 'lab', 'award', 'date_created', 'submitted_by', 'documents', 'references', 'source', 'biosample_ontology', 'genetic_modifications', 'alternate_accessions', 'treatments', 'dbxrefs', 'donor', 'organism', 'internal_tags', 'part_of', 'nih_institutional_certification', '@id', '@type', 'uuid', 'sex', 'age', 'age_units', 'health_status', 'life_stage', 'applied_modifications', 'characterizations', 'parent_of', 'age_display', 'summary', 'perturbed', '@context', 'audit'])"
      ]
     },
     "execution_count": 9,
     "metadata": {},
     "output_type": "execute_result"
    }
   ],
   "source": [
    "biosample.keys()"
   ]
  },
  {
   "cell_type": "code",
   "execution_count": 10,
   "metadata": {},
   "outputs": [
    {
     "data": {
      "text/plain": [
       "[]"
      ]
     },
     "execution_count": 10,
     "metadata": {},
     "output_type": "execute_result"
    }
   ],
   "source": [
    "biosample['references']"
   ]
  },
  {
   "cell_type": "code",
   "execution_count": 11,
   "metadata": {},
   "outputs": [
    {
     "data": {
      "text/plain": [
       "[]"
      ]
     },
     "execution_count": 11,
     "metadata": {},
     "output_type": "execute_result"
    }
   ],
   "source": [
    "biosample['alternate_accessions']"
   ]
  },
  {
   "cell_type": "code",
   "execution_count": 12,
   "metadata": {},
   "outputs": [],
   "source": [
    "graph = server.search_jsonld(searchTerm='ENCBS375FZQ')"
   ]
  },
  {
   "cell_type": "code",
   "execution_count": 13,
   "metadata": {},
   "outputs": [
    {
     "data": {
      "text/plain": [
       "[['Biosample', 'Item'],\n",
       " ['Experiment', 'Dataset', 'Item'],\n",
       " ['Experiment', 'Dataset', 'Item']]"
      ]
     },
     "execution_count": 13,
     "metadata": {},
     "output_type": "execute_result"
    }
   ],
   "source": [
    "[ x['@type'] for x in graph['@graph']]"
   ]
  },
  {
   "cell_type": "code",
   "execution_count": 14,
   "metadata": {},
   "outputs": [
    {
     "data": {
      "text/plain": [
       "dict_keys(['@id', '@type', 'accession', 'aliases', 'assay_term_name', 'assay_title', 'assembly', 'audit', 'award', 'biosample_ontology', 'biosample_summary', 'date_created', 'dbxrefs', 'description', 'files', 'lab', 'references', 'related_series', 'replicates', 'status', 'submitted_by', '@context'])"
      ]
     },
     "execution_count": 14,
     "metadata": {},
     "output_type": "execute_result"
    }
   ],
   "source": [
    "graph['@graph'][1].keys()"
   ]
  },
  {
   "cell_type": "code",
   "execution_count": 15,
   "metadata": {},
   "outputs": [
    {
     "data": {
      "text/plain": [
       "['RNA-seq', 'microRNA-seq']"
      ]
     },
     "execution_count": 15,
     "metadata": {},
     "output_type": "execute_result"
    }
   ],
   "source": [
    "[ x['assay_term_name'] for x in graph['@graph'][1:]]"
   ]
  },
  {
   "cell_type": "code",
   "execution_count": 16,
   "metadata": {},
   "outputs": [
    {
     "name": "stdout",
     "output_type": "stream",
     "text": [
      "ENCSR698RPL ENCLB041DJG SL428079_C1\n",
      "ENCSR648KDM ENCLB468VTI SL428090_C2\n",
      "ENCSR128CYL ENCLB972WVN SL428097_C3\n",
      "ENCSR615EEK ENCLB067SQT SL428098_C4\n",
      "ENCSR151NGC ENCLB994RBL SL428099_C5\n",
      "ENCSR245ATJ ENCLB732LUH SL428100_C6\n",
      "ENCSR355JZC ENCLB928KKR SL428101_C7\n",
      "ENCSR797RXV ENCLB351QES SL428102_C8\n"
     ]
    }
   ],
   "source": [
    "alias_prefix = 'barbara-wold:'\n",
    "biosample_ids = []\n",
    "experiment_ids = []\n",
    "descriptions = []\n",
    "library_ids = []\n",
    "cell_ids = []\n",
    "for accession in biosamples:\n",
    "    graph = server.search_jsonld(searchTerm=accession)\n",
    "    for row in graph['@graph']:\n",
    "        if 'Experiment' in row['@type'] and row['assay_term_name'] == 'RNA-seq':\n",
    "            experiment = server.get_json(row['accession'])\n",
    "            #for replicate in experiment['replicates']:\n",
    "            #    library = replicate['library']\n",
    "            #    print(accession, experiment['accession'], library['accession'], library['aliases'])\n",
    "            for f in experiment['files']:\n",
    "                library = server.get_json(f['library'])\n",
    "\n",
    "                biosample_ids.append(accession)\n",
    "                experiment_ids.append(experiment['accession'])\n",
    "                descriptions.append(experiment['description'])\n",
    "                library_ids.append(library['accession'])\n",
    "                cell_ids.append(library['aliases'][0][len(alias_prefix):])\n",
    "                \n",
    "                print(experiment['accession'], \n",
    "                      library['accession'], \n",
    "                      library['aliases'][0][len(alias_prefix):], \n",
    "                      #f['accession'], \n",
    "                      #f['submitted_file_name']\n",
    "                )\n",
    "                break  # hack since I happent to know there are 2 fastq files\n",
    "            \n",
    "            "
   ]
  },
  {
   "cell_type": "code",
   "execution_count": 17,
   "metadata": {},
   "outputs": [],
   "source": [
    "root = Path('~/proj/analysis/HL7TLDRXX').expanduser()"
   ]
  },
  {
   "cell_type": "code",
   "execution_count": 18,
   "metadata": {},
   "outputs": [
    {
     "data": {
      "text/plain": [
       "['HCT116_rep2',\n",
       " 'PC-3_rep2',\n",
       " 'Panc1_rep2',\n",
       " 'K562_rep2',\n",
       " 'GM12878_rep2',\n",
       " 'HepG2_rep2',\n",
       " 'MCF-7_rep2',\n",
       " 'IMR90_rep2']"
      ]
     },
     "execution_count": 18,
     "metadata": {},
     "output_type": "execute_result"
    }
   ],
   "source": [
    "descriptions"
   ]
  },
  {
   "cell_type": "code",
   "execution_count": 19,
   "metadata": {},
   "outputs": [
    {
     "data": {
      "text/plain": [
       "['SL428079_C1',\n",
       " 'SL428090_C2',\n",
       " 'SL428097_C3',\n",
       " 'SL428098_C4',\n",
       " 'SL428099_C5',\n",
       " 'SL428100_C6',\n",
       " 'SL428101_C7',\n",
       " 'SL428102_C8']"
      ]
     },
     "execution_count": 19,
     "metadata": {},
     "output_type": "execute_result"
    }
   ],
   "source": [
    "cell_ids"
   ]
  },
  {
   "cell_type": "code",
   "execution_count": 20,
   "metadata": {},
   "outputs": [],
   "source": [
    "libraries = load_library_tables([root/'libraries-single.tsv'])"
   ]
  },
  {
   "cell_type": "code",
   "execution_count": 21,
   "metadata": {},
   "outputs": [],
   "source": [
    "experiment = pandas.Series({\n",
    "    'replicates': cell_ids,\n",
    "})"
   ]
  },
  {
   "cell_type": "code",
   "execution_count": 22,
   "metadata": {},
   "outputs": [
    {
     "name": "stdout",
     "output_type": "stream",
     "text": [
      "quantifications None (61471, 8)\n"
     ]
    }
   ],
   "source": [
    "counts = load_genomic_quantifications(experiment, libraries, 'TPM')"
   ]
  },
  {
   "cell_type": "code",
   "execution_count": 23,
   "metadata": {},
   "outputs": [],
   "source": [
    "adata = AnnData(counts.T)"
   ]
  },
  {
   "cell_type": "code",
   "execution_count": 24,
   "metadata": {},
   "outputs": [],
   "source": [
    "gene_symbols = [gene_id_map[x] for x in counts.index]"
   ]
  },
  {
   "cell_type": "code",
   "execution_count": 25,
   "metadata": {},
   "outputs": [],
   "source": [
    "adata.var['gene_symbols'] = gene_symbols"
   ]
  },
  {
   "cell_type": "code",
   "execution_count": 26,
   "metadata": {},
   "outputs": [],
   "source": [
    "adata.obs['encode_experiment'] = experiment_ids\n",
    "adata.obs['encode_biosample'] = biosample_ids\n",
    "adata.obs['cell_ids'] = cell_ids"
   ]
  },
  {
   "cell_type": "code",
   "execution_count": 27,
   "metadata": {},
   "outputs": [
    {
     "data": {
      "text/plain": [
       "AnnData object with n_obs × n_vars = 8 × 61471 \n",
       "    obs: 'encode_experiment', 'encode_biosample', 'cell_ids'\n",
       "    var: 'gene_symbols'"
      ]
     },
     "execution_count": 27,
     "metadata": {},
     "output_type": "execute_result"
    }
   ],
   "source": [
    "adata"
   ]
  },
  {
   "cell_type": "code",
   "execution_count": 28,
   "metadata": {},
   "outputs": [
    {
     "data": {
      "text/plain": [
       "['ENCBS375FZQ',\n",
       " 'ENCBS555BGE',\n",
       " 'ENCBS777OZT',\n",
       " 'ENCBS206PUV',\n",
       " 'ENCBS975OUN',\n",
       " 'ENCBS365LJQ',\n",
       " 'ENCBS734JMT',\n",
       " 'ENCBS648NSQ']"
      ]
     },
     "execution_count": 28,
     "metadata": {},
     "output_type": "execute_result"
    }
   ],
   "source": [
    "biosample_ids"
   ]
  },
  {
   "cell_type": "code",
   "execution_count": 29,
   "metadata": {},
   "outputs": [
    {
     "name": "stderr",
     "output_type": "stream",
     "text": [
      "... storing 'gene_symbols' as categorical\n"
     ]
    }
   ],
   "source": [
    "adata.write_h5ad('mats-rep2-illumina-tpm.h5ad')"
   ]
  },
  {
   "cell_type": "code",
   "execution_count": null,
   "metadata": {},
   "outputs": [],
   "source": []
  }
 ],
 "metadata": {
  "kernelspec": {
   "display_name": "Python 3",
   "language": "python",
   "name": "python3"
  },
  "language_info": {
   "codemirror_mode": {
    "name": "ipython",
    "version": 3
   },
   "file_extension": ".py",
   "mimetype": "text/x-python",
   "name": "python",
   "nbconvert_exporter": "python",
   "pygments_lexer": "ipython3",
   "version": "3.8.5"
  }
 },
 "nbformat": 4,
 "nbformat_minor": 4
}
