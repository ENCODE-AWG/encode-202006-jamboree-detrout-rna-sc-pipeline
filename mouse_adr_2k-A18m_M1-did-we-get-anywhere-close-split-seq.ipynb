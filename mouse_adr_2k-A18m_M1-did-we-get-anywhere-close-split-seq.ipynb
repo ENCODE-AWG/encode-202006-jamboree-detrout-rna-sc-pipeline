{
 "cells": [
  {
   "cell_type": "markdown",
   "id": "narrative-gasoline",
   "metadata": {},
   "source": [
    "Liz's Results are in http://crick.bio.uci.edu/erebboah/postnatal_splitseq/adrenal/ENCSR193PLQ/ I should use the unfiltered?"
   ]
  },
  {
   "cell_type": "code",
   "execution_count": 1,
   "id": "shared-transcript",
   "metadata": {},
   "outputs": [],
   "source": [
    "import csv\n",
    "from collections import Counter\n",
    "import scanpy\n",
    "import pysam\n",
    "from pathlib import Path\n",
    "import pandas\n",
    "import requests\n",
    "import numpy\n",
    "import os\n",
    "import re\n",
    "import shutil\n",
    "import scipy\n",
    "import gzip\n",
    "import sys\n",
    "from matplotlib import pyplot\n",
    "import matplotlib\n",
    "import upsetplot\n",
    "import warnings\n",
    "from urllib.parse import urljoin\n",
    "import yaml"
   ]
  },
  {
   "cell_type": "code",
   "execution_count": 2,
   "id": "current-hello",
   "metadata": {},
   "outputs": [],
   "source": [
    "EC = str(Path(\"~/proj/encoded_client\").expanduser())\n",
    "if EC not in sys.path:\n",
    "    sys.path.append(EC)\n",
    "from encoded_client import ENCODED"
   ]
  },
  {
   "cell_type": "code",
   "execution_count": 3,
   "id": "nominated-washington",
   "metadata": {},
   "outputs": [],
   "source": [
    "MEX = str(Path(\"~/proj/mex_gene_archive\").expanduser())\n",
    "if MEX not in sys.path:\n",
    "    sys.path.append(MEX)\n",
    "from mex_gene_archive.filter import write_filtered_mtx\n",
    "from mex_gene_archive.reader import read_mex_archive_as_anndata"
   ]
  },
  {
   "cell_type": "code",
   "execution_count": 4,
   "id": "legal-enclosure",
   "metadata": {},
   "outputs": [],
   "source": [
    "WRS = str(Path(\"~/proj/woldlab-rna-seq\").expanduser())\n",
    "if WRS not in sys.path:\n",
    "    sys.path.append(WRS)\n",
    "from woldrnaseq.plots.scrna_matrix_qc import (\n",
    "    calculate_qc,\n",
    "    generate_violin_plot,\n",
    "    make_pct_mt_scatter,\n",
    "    make_gene_by_count_scatter,\n",
    ")\n"
   ]
  },
  {
   "cell_type": "code",
   "execution_count": 5,
   "id": "hidden-passion",
   "metadata": {},
   "outputs": [],
   "source": [
    "from common import scanpy_load_solo_mtx"
   ]
  },
  {
   "cell_type": "code",
   "execution_count": 6,
   "id": "antique-marine",
   "metadata": {},
   "outputs": [],
   "source": [
    "def calculate_qc(adata, gene_name=\"gene_name\"):\n",
    "    mt_prefix = re.compile(\"^mt[-_]\", re.I)\n",
    "    adata.var[\"mt\"] = adata.var[gene_name].apply(lambda x: mt_prefix.match(x) is not None)\n",
    "    scanpy.pp.calculate_qc_metrics(\n",
    "        adata, qc_vars=[\"mt\"], percent_top=None, log1p=False, inplace=True\n",
    "    )\n"
   ]
  },
  {
   "cell_type": "code",
   "execution_count": 7,
   "id": "induced-borough",
   "metadata": {},
   "outputs": [],
   "source": [
    "%matplotlib inline"
   ]
  },
  {
   "cell_type": "code",
   "execution_count": 8,
   "id": "atomic-vulnerability",
   "metadata": {},
   "outputs": [],
   "source": [
    "star_analysis_dir = Path(\"adrenal/mouse_adr_2k_a18m_m1\")\n",
    "erebboah_base_url = \"http://crick.bio.uci.edu/erebboah/postnatal_splitseq/adrenal/A_18m_M_1\"\n",
    "#erebboah_base = \"http://crick.bio.uci.edu/erebboah/postnatal_splitseq/adrenal/A_10_F_1\"\n",
    "#erebboah_base = \"http://crick.bio.uci.edu/erebboah/postnatal_splitseq/adrenal/A_4_F_1\"\n",
    "erebboah_filtered = erebboah_base_url + \"/DGE_filtered/\"\n",
    "erebboah_raw = erebboah_base_url + \"/DGE_unfiltered/\""
   ]
  },
  {
   "cell_type": "code",
   "execution_count": 9,
   "id": "academic-strengthening",
   "metadata": {},
   "outputs": [
    {
     "name": "stdout",
     "output_type": "stream",
     "text": [
      "count sum 19171.0\n",
      "shape (442368, 13278)\n"
     ]
    },
    {
     "data": {
      "text/plain": [
       "AnnData object with n_obs × n_vars = 442368 × 13278\n",
       "    var: 'contig', 'start', 'end', 'strand', 'intron_motif', 'annotated', 'unique', 'multi', 'overhang'\n",
       "    uns: 'type', 'output_type', 'software_version', 'arguments', 'experiment_accession', 'description', 'library_accession'"
      ]
     },
     "execution_count": 9,
     "metadata": {},
     "output_type": "execute_result"
    }
   ],
   "source": [
    "sj_raw = read_mex_archive_as_anndata(star_analysis_dir / \"SJ_Unique_raw.tar.gz\")\n",
    "\n",
    "print(\"count sum\", sj_raw.X.sum().sum())\n",
    "print(\"shape\", sj_raw.shape)\n",
    "sj_raw"
   ]
  },
  {
   "cell_type": "code",
   "execution_count": 10,
   "id": "athletic-metabolism",
   "metadata": {},
   "outputs": [
    {
     "name": "stdout",
     "output_type": "stream",
     "text": [
      "count sum 218259.0\n",
      "shape (847, 81881)\n"
     ]
    },
    {
     "data": {
      "text/plain": [
       "AnnData object with n_obs × n_vars = 847 × 81881\n",
       "    obs: 'n_genes_by_counts', 'total_counts', 'total_counts_mt', 'pct_counts_mt'\n",
       "    var: 'gene_symbols', 'mt', 'n_cells_by_counts', 'mean_counts', 'pct_dropout_by_counts', 'total_counts'\n",
       "    uns: 'type', 'output_type', 'software_version', 'arguments', 'experiment_accession', 'description', 'library_accession'"
      ]
     },
     "execution_count": 10,
     "metadata": {},
     "output_type": "execute_result"
    }
   ],
   "source": [
    "myrun = read_mex_archive_as_anndata(star_analysis_dir / \"GeneFull_Ex50pAS_Unique_filtered.tar.gz\")\n",
    "calculate_qc(myrun, \"gene_symbols\")\n",
    "\n",
    "print(\"count sum\", myrun.X.sum().sum())\n",
    "print(\"shape\", myrun.shape)\n",
    "myrun"
   ]
  },
  {
   "cell_type": "code",
   "execution_count": 11,
   "id": "large-inspection",
   "metadata": {},
   "outputs": [
    {
     "name": "stdout",
     "output_type": "stream",
     "text": [
      "count sum 225541.98\n",
      "shape (847, 81881)\n"
     ]
    }
   ],
   "source": [
    "myrunem = read_mex_archive_as_anndata(star_analysis_dir / \"GeneFull_Ex50pAS_EM_filtered.tar.gz\")\n",
    "calculate_qc(myrunem, \"gene_symbols\")\n",
    "\n",
    "print(\"count sum\", myrunem.X.sum().sum())\n",
    "print(\"shape\", myrunem.shape)"
   ]
  },
  {
   "cell_type": "code",
   "execution_count": 12,
   "id": "daily-adaptation",
   "metadata": {},
   "outputs": [
    {
     "name": "stdout",
     "output_type": "stream",
     "text": [
      "count sum 327967.0\n",
      "shape (442368, 81881)\n"
     ]
    }
   ],
   "source": [
    "myrun_raw = read_mex_archive_as_anndata(star_analysis_dir / \"GeneFull_Ex50pAS_Unique_raw.tar.gz\")\n",
    "calculate_qc(myrun_raw, \"gene_symbols\")\n",
    "\n",
    "print(\"count sum\", myrun_raw.X.sum().sum())\n",
    "print(\"shape\", myrun_raw.shape)"
   ]
  },
  {
   "cell_type": "code",
   "execution_count": 13,
   "id": "infinite-vintage",
   "metadata": {},
   "outputs": [
    {
     "name": "stdout",
     "output_type": "stream",
     "text": [
      "count sum 338363.0\n",
      "shape (442368, 81881)\n"
     ]
    }
   ],
   "source": [
    "myrunem_raw = read_mex_archive_as_anndata(star_analysis_dir / \"GeneFull_Ex50pAS_EM_raw.tar.gz\")\n",
    "calculate_qc(myrunem_raw, \"gene_symbols\")\n",
    "\n",
    "print(\"count sum\", myrunem_raw.X.sum().sum())\n",
    "print(\"shape\", myrunem_raw.shape)"
   ]
  },
  {
   "cell_type": "code",
   "execution_count": 14,
   "id": "representative-saturday",
   "metadata": {},
   "outputs": [],
   "source": [
    "assert myrun.shape[1] == myrunem.shape[1]\n",
    "assert myrunem.shape[1] == myrun_raw.shape[1]\n",
    "assert myrun_raw.shape[1] == myrunem_raw.shape[1]"
   ]
  },
  {
   "cell_type": "code",
   "execution_count": 15,
   "id": "lesser-luxury",
   "metadata": {},
   "outputs": [],
   "source": [
    "assert sj_raw.shape[0] == myrunem_raw.shape[0]\n",
    "assert myrunem_raw.shape[0] == myrun_raw.shape[0]"
   ]
  },
  {
   "cell_type": "code",
   "execution_count": 16,
   "id": "characteristic-watershed",
   "metadata": {},
   "outputs": [],
   "source": [
    "def load_uci(url):\n",
    "    req = requests.get(urljoin(url, \"DGE.mtx\"), stream=True)\n",
    "    X = scipy.io.mmread(req.raw)\n",
    "    adata = scanpy.AnnData(X.tocsr())\n",
    "    print(\"Matrix shape\", adata.shape)\n",
    "    \n",
    "    cell_metadata = pandas.read_csv(urljoin(url, \"cell_metadata.csv\"), index_col=0)\n",
    "    print(\"obs (cell) metadata shape\", cell_metadata.shape)\n",
    "    adata.obs_names = cell_metadata[\"cell_barcode\"]\n",
    "    \n",
    "    genes = pandas.read_csv(urljoin(url, \"genes.csv\"), index_col=0)\n",
    "    print(\"var (gene) metadata shape\", cell_metadata.shape)\n",
    "\n",
    "    adata.var_names = genes[\"gene_id\"]\n",
    "    adata.var[\"gene_name\"] = genes[\"gene_name\"].values\n",
    "\n",
    "    mt_prefix = re.compile(\"^mt[-_]\", re.I)\n",
    "    adata.var[\"mt\"] = adata.var[\"gene_name\"].apply(lambda x: mt_prefix.match(x) is not None)\n",
    "    scanpy.pp.calculate_qc_metrics(\n",
    "        adata, qc_vars=[\"mt\"], percent_top=None, log1p=False, inplace=True\n",
    "    )\n",
    "\n",
    "    return adata\n",
    "\n"
   ]
  },
  {
   "cell_type": "code",
   "execution_count": 17,
   "id": "accredited-agent",
   "metadata": {},
   "outputs": [
    {
     "name": "stdout",
     "output_type": "stream",
     "text": [
      "Matrix shape (5442, 13332)\n",
      "obs (cell) metadata shape (5442, 9)\n",
      "var (gene) metadata shape (5442, 9)\n",
      "uci count sum 338505.0\n",
      "uci AnnData object with n_obs × n_vars = 5442 × 13332\n",
      "    obs: 'n_genes_by_counts', 'total_counts', 'total_counts_mt', 'pct_counts_mt'\n",
      "    var: 'gene_name', 'mt', 'n_cells_by_counts', 'mean_counts', 'pct_dropout_by_counts', 'total_counts'\n"
     ]
    }
   ],
   "source": [
    "ucirun = load_uci(erebboah_raw)\n",
    "\n",
    "print(\"uci count sum\", ucirun.X.sum().sum())\n",
    "print(\"uci\", ucirun)"
   ]
  },
  {
   "cell_type": "code",
   "execution_count": 18,
   "id": "reserved-aluminum",
   "metadata": {},
   "outputs": [
    {
     "data": {
      "text/html": [
       "<div>\n",
       "<style scoped>\n",
       "    .dataframe tbody tr th:only-of-type {\n",
       "        vertical-align: middle;\n",
       "    }\n",
       "\n",
       "    .dataframe tbody tr th {\n",
       "        vertical-align: top;\n",
       "    }\n",
       "\n",
       "    .dataframe thead th {\n",
       "        text-align: right;\n",
       "    }\n",
       "</style>\n",
       "<table border=\"1\" class=\"dataframe\">\n",
       "  <thead>\n",
       "    <tr style=\"text-align: right;\">\n",
       "      <th></th>\n",
       "      <th>cell_barcode</th>\n",
       "      <th>species</th>\n",
       "      <th>sample</th>\n",
       "      <th>rnd1_well</th>\n",
       "      <th>rnd2_well</th>\n",
       "      <th>rnd3_well</th>\n",
       "      <th>umi_count</th>\n",
       "      <th>umi_count_50dup</th>\n",
       "      <th>gene_count</th>\n",
       "    </tr>\n",
       "  </thead>\n",
       "  <tbody>\n",
       "    <tr>\n",
       "      <th>0</th>\n",
       "      <td>ATCATTCCATAGCGAC_11</td>\n",
       "      <td>mm10</td>\n",
       "      <td>A_18m_M_1</td>\n",
       "      <td>11</td>\n",
       "      <td>79</td>\n",
       "      <td>80</td>\n",
       "      <td>15311</td>\n",
       "      <td>10721.363972</td>\n",
       "      <td>4364</td>\n",
       "    </tr>\n",
       "    <tr>\n",
       "      <th>1</th>\n",
       "      <td>TGGCTTCATCTTCACA_23</td>\n",
       "      <td>mm10</td>\n",
       "      <td>A_18m_M_1</td>\n",
       "      <td>23</td>\n",
       "      <td>62</td>\n",
       "      <td>65</td>\n",
       "      <td>15256</td>\n",
       "      <td>10682.850810</td>\n",
       "      <td>4397</td>\n",
       "    </tr>\n",
       "    <tr>\n",
       "      <th>2</th>\n",
       "      <td>TGGCTTCAGAACAGGC_11</td>\n",
       "      <td>mm10</td>\n",
       "      <td>A_18m_M_1</td>\n",
       "      <td>11</td>\n",
       "      <td>91</td>\n",
       "      <td>65</td>\n",
       "      <td>7645</td>\n",
       "      <td>5353.329473</td>\n",
       "      <td>3041</td>\n",
       "    </tr>\n",
       "    <tr>\n",
       "      <th>3</th>\n",
       "      <td>CACCTTACGCTCGGTA_23</td>\n",
       "      <td>mm10</td>\n",
       "      <td>A_18m_M_1</td>\n",
       "      <td>23</td>\n",
       "      <td>52</td>\n",
       "      <td>83</td>\n",
       "      <td>7027</td>\n",
       "      <td>4920.581584</td>\n",
       "      <td>2813</td>\n",
       "    </tr>\n",
       "    <tr>\n",
       "      <th>4</th>\n",
       "      <td>GGTGCGAAAGCCATGC_11</td>\n",
       "      <td>mm10</td>\n",
       "      <td>A_18m_M_1</td>\n",
       "      <td>11</td>\n",
       "      <td>77</td>\n",
       "      <td>54</td>\n",
       "      <td>5973</td>\n",
       "      <td>4182.529358</td>\n",
       "      <td>2704</td>\n",
       "    </tr>\n",
       "  </tbody>\n",
       "</table>\n",
       "</div>"
      ],
      "text/plain": [
       "          cell_barcode species     sample  rnd1_well  rnd2_well  rnd3_well  \\\n",
       "0  ATCATTCCATAGCGAC_11    mm10  A_18m_M_1         11         79         80   \n",
       "1  TGGCTTCATCTTCACA_23    mm10  A_18m_M_1         23         62         65   \n",
       "2  TGGCTTCAGAACAGGC_11    mm10  A_18m_M_1         11         91         65   \n",
       "3  CACCTTACGCTCGGTA_23    mm10  A_18m_M_1         23         52         83   \n",
       "4  GGTGCGAAAGCCATGC_11    mm10  A_18m_M_1         11         77         54   \n",
       "\n",
       "   umi_count  umi_count_50dup  gene_count  \n",
       "0      15311     10721.363972        4364  \n",
       "1      15256     10682.850810        4397  \n",
       "2       7645      5353.329473        3041  \n",
       "3       7027      4920.581584        2813  \n",
       "4       5973      4182.529358        2704  "
      ]
     },
     "execution_count": 18,
     "metadata": {},
     "output_type": "execute_result"
    }
   ],
   "source": [
    "cell_metadata = pandas.read_csv(urljoin(erebboah_raw, \"cell_metadata.csv\"), index_col=0)\n",
    "ucirun.obs_names = cell_metadata[\"cell_barcode\"]\n",
    "cell_metadata.head()"
   ]
  },
  {
   "cell_type": "code",
   "execution_count": null,
   "id": "least-impossible",
   "metadata": {},
   "outputs": [],
   "source": []
  },
  {
   "cell_type": "code",
   "execution_count": 19,
   "id": "violent-hamburg",
   "metadata": {},
   "outputs": [
    {
     "data": {
      "text/html": [
       "<div>\n",
       "<style scoped>\n",
       "    .dataframe tbody tr th:only-of-type {\n",
       "        vertical-align: middle;\n",
       "    }\n",
       "\n",
       "    .dataframe tbody tr th {\n",
       "        vertical-align: top;\n",
       "    }\n",
       "\n",
       "    .dataframe thead th {\n",
       "        text-align: right;\n",
       "    }\n",
       "</style>\n",
       "<table border=\"1\" class=\"dataframe\">\n",
       "  <thead>\n",
       "    <tr style=\"text-align: right;\">\n",
       "      <th></th>\n",
       "      <th>gene_id</th>\n",
       "      <th>gene_name</th>\n",
       "      <th>genome</th>\n",
       "    </tr>\n",
       "  </thead>\n",
       "  <tbody>\n",
       "    <tr>\n",
       "      <th>0</th>\n",
       "      <td>ENSMUSG00000000001.4</td>\n",
       "      <td>Gnai3</td>\n",
       "      <td>mm10</td>\n",
       "    </tr>\n",
       "    <tr>\n",
       "      <th>1</th>\n",
       "      <td>ENSMUSG00000000031.16</td>\n",
       "      <td>H19</td>\n",
       "      <td>mm10</td>\n",
       "    </tr>\n",
       "    <tr>\n",
       "      <th>2</th>\n",
       "      <td>ENSMUSG00000000049.11</td>\n",
       "      <td>Apoh</td>\n",
       "      <td>mm10</td>\n",
       "    </tr>\n",
       "    <tr>\n",
       "      <th>3</th>\n",
       "      <td>ENSMUSG00000000056.7</td>\n",
       "      <td>Narf</td>\n",
       "      <td>mm10</td>\n",
       "    </tr>\n",
       "    <tr>\n",
       "      <th>4</th>\n",
       "      <td>ENSMUSG00000000058.6</td>\n",
       "      <td>Cav2</td>\n",
       "      <td>mm10</td>\n",
       "    </tr>\n",
       "    <tr>\n",
       "      <th>...</th>\n",
       "      <td>...</td>\n",
       "      <td>...</td>\n",
       "      <td>...</td>\n",
       "    </tr>\n",
       "    <tr>\n",
       "      <th>13327</th>\n",
       "      <td>ENSMUSG00000118346.1</td>\n",
       "      <td>Tmem179b</td>\n",
       "      <td>mm10</td>\n",
       "    </tr>\n",
       "    <tr>\n",
       "      <th>13328</th>\n",
       "      <td>ENSMUSG00000118362.1</td>\n",
       "      <td>AC116597.1</td>\n",
       "      <td>mm10</td>\n",
       "    </tr>\n",
       "    <tr>\n",
       "      <th>13329</th>\n",
       "      <td>ENSMUSG00000118369.1</td>\n",
       "      <td>AC133451.2</td>\n",
       "      <td>mm10</td>\n",
       "    </tr>\n",
       "    <tr>\n",
       "      <th>13330</th>\n",
       "      <td>ENSMUSG00000118380.1</td>\n",
       "      <td>AC131675.3</td>\n",
       "      <td>mm10</td>\n",
       "    </tr>\n",
       "    <tr>\n",
       "      <th>13331</th>\n",
       "      <td>ENSMUSG00000118392.1</td>\n",
       "      <td>4930524O05Rik</td>\n",
       "      <td>mm10</td>\n",
       "    </tr>\n",
       "  </tbody>\n",
       "</table>\n",
       "<p>13332 rows × 3 columns</p>\n",
       "</div>"
      ],
      "text/plain": [
       "                     gene_id      gene_name genome\n",
       "0       ENSMUSG00000000001.4          Gnai3   mm10\n",
       "1      ENSMUSG00000000031.16            H19   mm10\n",
       "2      ENSMUSG00000000049.11           Apoh   mm10\n",
       "3       ENSMUSG00000000056.7           Narf   mm10\n",
       "4       ENSMUSG00000000058.6           Cav2   mm10\n",
       "...                      ...            ...    ...\n",
       "13327   ENSMUSG00000118346.1       Tmem179b   mm10\n",
       "13328   ENSMUSG00000118362.1     AC116597.1   mm10\n",
       "13329   ENSMUSG00000118369.1     AC133451.2   mm10\n",
       "13330   ENSMUSG00000118380.1     AC131675.3   mm10\n",
       "13331   ENSMUSG00000118392.1  4930524O05Rik   mm10\n",
       "\n",
       "[13332 rows x 3 columns]"
      ]
     },
     "execution_count": 19,
     "metadata": {},
     "output_type": "execute_result"
    }
   ],
   "source": [
    "genes = pandas.read_csv(urljoin(erebboah_raw, \"genes.csv\"), index_col=0)\n",
    "genes"
   ]
  },
  {
   "cell_type": "code",
   "execution_count": 20,
   "id": "original-aquatic",
   "metadata": {},
   "outputs": [],
   "source": [
    "ucirun.var_names = genes[\"gene_id\"]\n",
    "ucirun.var[\"gene_name\"] = genes[\"gene_name\"].values"
   ]
  },
  {
   "cell_type": "code",
   "execution_count": 21,
   "id": "robust-sympathy",
   "metadata": {},
   "outputs": [],
   "source": [
    "mt_prefix = re.compile(\"^mt[-_]\", re.I)\n",
    "ucirun.var[\"mt\"] = ucirun.var[\"gene_name\"].apply(lambda x: mt_prefix.match(x) is not None)\n",
    "scanpy.pp.calculate_qc_metrics(\n",
    "    ucirun, qc_vars=[\"mt\"], percent_top=None, log1p=False, inplace=True\n",
    ")\n"
   ]
  },
  {
   "cell_type": "code",
   "execution_count": 22,
   "id": "unlike-singapore",
   "metadata": {},
   "outputs": [
    {
     "data": {
      "image/png": "[encoded data removed]",
      "text/plain": [
       "<Figure size 287.528x488.889 with 4 Axes>"
      ]
     },
     "metadata": {
      "needs_background": "light"
     },
     "output_type": "display_data"
    }
   ],
   "source": [
    "upset_gene_contents = upsetplot.from_contents({\n",
    "    'myrun': myrun.var_names,\n",
    "    'myrunem': myrunem.var_names,\n",
    "    'myrun_raw': myrun_raw.var_names,\n",
    "    'myrunem_raw': myrunem_raw.var_names,\n",
    "    'ucirun': ucirun.var_names,\n",
    "})\n",
    "f = pyplot.figure(dpi=100)\n",
    "_ = upsetplot.plot(upset_gene_contents, fig=f, show_counts=True)"
   ]
  },
  {
   "cell_type": "code",
   "execution_count": 23,
   "id": "unlike-advance",
   "metadata": {},
   "outputs": [
    {
     "data": {
      "text/plain": [
       "(847, (847,))"
      ]
     },
     "execution_count": 23,
     "metadata": {},
     "output_type": "execute_result"
    }
   ],
   "source": [
    "len(set(myrun.obs_names)), myrun.obs_names.shape"
   ]
  },
  {
   "cell_type": "code",
   "execution_count": 24,
   "id": "incoming-scope",
   "metadata": {},
   "outputs": [
    {
     "data": {
      "text/plain": [
       "(5442, (5442,))"
      ]
     },
     "execution_count": 24,
     "metadata": {},
     "output_type": "execute_result"
    }
   ],
   "source": [
    "len(set(ucirun.obs_names)), ucirun.obs_names.shape"
   ]
  },
  {
   "cell_type": "code",
   "execution_count": 25,
   "id": "statutory-discovery",
   "metadata": {},
   "outputs": [],
   "source": [
    "#myrun_expressed = myrun_raw[myrun_raw.obs[\"total_counts\"] > 0]\n",
    "#myrunem_expressed =  myrunem_raw[myrunem_raw.obs[\"total_counts\"] > 0]\n"
   ]
  },
  {
   "cell_type": "code",
   "execution_count": 26,
   "id": "internal-yesterday",
   "metadata": {},
   "outputs": [
    {
     "data": {
      "image/png": "[encoded data removed]",
      "text/plain": [
       "<Figure size 376.417x488.889 with 4 Axes>"
      ]
     },
     "metadata": {
      "needs_background": "light"
     },
     "output_type": "display_data"
    }
   ],
   "source": [
    "upset_barcode_contents = upsetplot.from_contents({\n",
    "    'myrun': myrun.obs_names,\n",
    "    'myrunem': myrunem.obs_names,\n",
    "    'myrun_raw': myrun_raw.obs_names,\n",
    "    'myrunem_raw': myrunem_raw.obs_names,\n",
    "    'ucirun': set(ucirun.obs_names),\n",
    "})\n",
    "f = pyplot.figure(dpi=100)\n",
    "_ = upsetplot.plot(upset_barcode_contents, fig=f, show_counts=True)"
   ]
  },
  {
   "cell_type": "code",
   "execution_count": 27,
   "id": "owned-blake",
   "metadata": {},
   "outputs": [],
   "source": [
    "warnings.filterwarnings(\"ignore\", \"Vertical orientation\")"
   ]
  },
  {
   "cell_type": "markdown",
   "id": "grand-coalition",
   "metadata": {},
   "source": [
    "# STAR Violin"
   ]
  },
  {
   "cell_type": "code",
   "execution_count": 28,
   "id": "indonesian-therapy",
   "metadata": {},
   "outputs": [
    {
     "name": "stderr",
     "output_type": "stream",
     "text": [
      "... storing 'gene_symbols' as categorical\n"
     ]
    },
    {
     "data": {
      "image/png": "[encoded data removed]",
      "text/plain": [
       "<Figure size 648x216 with 3 Axes>"
      ]
     },
     "metadata": {
      "needs_background": "light"
     },
     "output_type": "display_data"
    }
   ],
   "source": [
    "ag = generate_violin_plot(myrun)"
   ]
  },
  {
   "cell_type": "markdown",
   "id": "downtown-battlefield",
   "metadata": {},
   "source": [
    "# STAR Violin EM"
   ]
  },
  {
   "cell_type": "code",
   "execution_count": 29,
   "id": "governmental-attendance",
   "metadata": {},
   "outputs": [
    {
     "name": "stderr",
     "output_type": "stream",
     "text": [
      "... storing 'gene_symbols' as categorical\n"
     ]
    },
    {
     "data": {
      "image/png": "[encoded data removed]",
      "text/plain": [
       "<Figure size 648x216 with 3 Axes>"
      ]
     },
     "metadata": {
      "needs_background": "light"
     },
     "output_type": "display_data"
    }
   ],
   "source": [
    "ag = generate_violin_plot(myrunem)"
   ]
  },
  {
   "cell_type": "markdown",
   "id": "willing-examination",
   "metadata": {},
   "source": [
    "# UCI Violin"
   ]
  },
  {
   "cell_type": "code",
   "execution_count": 30,
   "id": "growing-speaking",
   "metadata": {},
   "outputs": [
    {
     "name": "stderr",
     "output_type": "stream",
     "text": [
      "... storing 'gene_name' as categorical\n"
     ]
    },
    {
     "data": {
      "image/png": "[encoded data removed]",
      "text/plain": [
       "<Figure size 648x216 with 3 Axes>"
      ]
     },
     "metadata": {
      "needs_background": "light"
     },
     "output_type": "display_data"
    }
   ],
   "source": [
    "ag = generate_violin_plot(ucirun)"
   ]
  },
  {
   "cell_type": "markdown",
   "id": "superior-roots",
   "metadata": {},
   "source": [
    "# STAR pct mt"
   ]
  },
  {
   "cell_type": "code",
   "execution_count": 31,
   "id": "selective-crystal",
   "metadata": {},
   "outputs": [
    {
     "data": {
      "image/png": "[encoded data removed]",
      "text/plain": [
       "<Figure size 432x288 with 1 Axes>"
      ]
     },
     "metadata": {
      "needs_background": "light"
     },
     "output_type": "display_data"
    }
   ],
   "source": [
    "f = make_pct_mt_scatter(myrun, \"STAR Uniq\")"
   ]
  },
  {
   "cell_type": "markdown",
   "id": "funny-meditation",
   "metadata": {},
   "source": [
    "# STAR EM pct mt"
   ]
  },
  {
   "cell_type": "code",
   "execution_count": 32,
   "id": "excellent-rally",
   "metadata": {},
   "outputs": [
    {
     "data": {
      "image/png": "[encoded data removed]",
      "text/plain": [
       "<Figure size 432x288 with 1 Axes>"
      ]
     },
     "metadata": {
      "needs_background": "light"
     },
     "output_type": "display_data"
    }
   ],
   "source": [
    "f = make_pct_mt_scatter(myrunem, \"STAR EM\")"
   ]
  },
  {
   "cell_type": "markdown",
   "id": "short-rebate",
   "metadata": {},
   "source": [
    "# UCI pct mt"
   ]
  },
  {
   "cell_type": "code",
   "execution_count": 33,
   "id": "motivated-knitting",
   "metadata": {},
   "outputs": [
    {
     "data": {
      "image/png": "[encoded data removed]",
      "text/plain": [
       "<Figure size 432x288 with 1 Axes>"
      ]
     },
     "metadata": {
      "needs_background": "light"
     },
     "output_type": "display_data"
    }
   ],
   "source": [
    "f = make_pct_mt_scatter(ucirun, \"splitpipe\")"
   ]
  },
  {
   "cell_type": "markdown",
   "id": "indian-action",
   "metadata": {},
   "source": [
    "# STAR gene by count"
   ]
  },
  {
   "cell_type": "code",
   "execution_count": 34,
   "id": "following-picking",
   "metadata": {},
   "outputs": [
    {
     "data": {
      "image/png": "[encoded data removed]",
      "text/plain": [
       "<Figure size 432x288 with 1 Axes>"
      ]
     },
     "metadata": {
      "needs_background": "light"
     },
     "output_type": "display_data"
    }
   ],
   "source": [
    "f = make_gene_by_count_scatter(myrun, \"STAR Uniq\")"
   ]
  },
  {
   "cell_type": "markdown",
   "id": "lonely-galaxy",
   "metadata": {},
   "source": [
    "# STAR EM gene by count"
   ]
  },
  {
   "cell_type": "code",
   "execution_count": 35,
   "id": "electrical-television",
   "metadata": {},
   "outputs": [
    {
     "data": {
      "image/png": "[encoded data removed]",
      "text/plain": [
       "<Figure size 432x288 with 1 Axes>"
      ]
     },
     "metadata": {
      "needs_background": "light"
     },
     "output_type": "display_data"
    }
   ],
   "source": [
    "f = make_gene_by_count_scatter(myrunem, \"STAR EM\")"
   ]
  },
  {
   "cell_type": "markdown",
   "id": "stuffed-hamburg",
   "metadata": {},
   "source": [
    "# UCI gene by count"
   ]
  },
  {
   "cell_type": "code",
   "execution_count": 36,
   "id": "agreed-understanding",
   "metadata": {},
   "outputs": [
    {
     "data": {
      "image/png": "[encoded data removed]",
      "text/plain": [
       "<Figure size 432x288 with 1 Axes>"
      ]
     },
     "metadata": {
      "needs_background": "light"
     },
     "output_type": "display_data"
    }
   ],
   "source": [
    "f = make_gene_by_count_scatter(ucirun, \"splitpipe\")"
   ]
  },
  {
   "cell_type": "markdown",
   "id": "annual-scroll",
   "metadata": {},
   "source": [
    "# STAR highest genes"
   ]
  },
  {
   "cell_type": "code",
   "execution_count": 37,
   "id": "dangerous-spray",
   "metadata": {},
   "outputs": [
    {
     "data": {
      "image/png": "[encoded data removed]",
      "text/plain": [
       "<Figure size 360x396 with 1 Axes>"
      ]
     },
     "metadata": {
      "needs_background": "light"
     },
     "output_type": "display_data"
    }
   ],
   "source": [
    "scanpy.pl.highest_expr_genes(myrun, n_top=20, gene_symbols=\"gene_symbols\")"
   ]
  },
  {
   "cell_type": "markdown",
   "id": "twenty-adoption",
   "metadata": {},
   "source": [
    "# STAR EM highest genes"
   ]
  },
  {
   "cell_type": "code",
   "execution_count": 38,
   "id": "unavailable-peace",
   "metadata": {},
   "outputs": [
    {
     "data": {
      "image/png": "[encoded data removed]",
      "text/plain": [
       "<Figure size 360x396 with 1 Axes>"
      ]
     },
     "metadata": {
      "needs_background": "light"
     },
     "output_type": "display_data"
    }
   ],
   "source": [
    "scanpy.pl.highest_expr_genes(myrunem, n_top=20, gene_symbols=\"gene_symbols\")"
   ]
  },
  {
   "cell_type": "markdown",
   "id": "egyptian-raise",
   "metadata": {},
   "source": [
    "# UCI highest genes"
   ]
  },
  {
   "cell_type": "code",
   "execution_count": 39,
   "id": "attempted-adrian",
   "metadata": {},
   "outputs": [
    {
     "data": {
      "image/png": "[encoded data removed]",
      "text/plain": [
       "<Figure size 360x396 with 1 Axes>"
      ]
     },
     "metadata": {
      "needs_background": "light"
     },
     "output_type": "display_data"
    }
   ],
   "source": [
    "scanpy.pl.highest_expr_genes(ucirun, n_top=20, gene_symbols=\"gene_name\")"
   ]
  },
  {
   "cell_type": "markdown",
   "id": "southwest-crowd",
   "metadata": {},
   "source": [
    "# STAR expression sum"
   ]
  },
  {
   "cell_type": "code",
   "execution_count": 40,
   "id": "incoming-characteristic",
   "metadata": {},
   "outputs": [
    {
     "data": {
      "text/plain": [
       "218259.0"
      ]
     },
     "execution_count": 40,
     "metadata": {},
     "output_type": "execute_result"
    }
   ],
   "source": [
    "myrun.X.sum()"
   ]
  },
  {
   "cell_type": "code",
   "execution_count": 41,
   "id": "selective-eclipse",
   "metadata": {},
   "outputs": [
    {
     "data": {
      "text/plain": [
       "327967.0"
      ]
     },
     "execution_count": 41,
     "metadata": {},
     "output_type": "execute_result"
    }
   ],
   "source": [
    "myrun_raw.X.sum()"
   ]
  },
  {
   "cell_type": "markdown",
   "id": "ahead-adaptation",
   "metadata": {},
   "source": [
    "# STAR EM expression sum"
   ]
  },
  {
   "cell_type": "code",
   "execution_count": 42,
   "id": "arctic-objective",
   "metadata": {},
   "outputs": [
    {
     "data": {
      "text/plain": [
       "225541.98"
      ]
     },
     "execution_count": 42,
     "metadata": {},
     "output_type": "execute_result"
    }
   ],
   "source": [
    "myrunem.X.sum()"
   ]
  },
  {
   "cell_type": "code",
   "execution_count": 43,
   "id": "upper-trademark",
   "metadata": {},
   "outputs": [
    {
     "data": {
      "text/plain": [
       "338363.0"
      ]
     },
     "execution_count": 43,
     "metadata": {},
     "output_type": "execute_result"
    }
   ],
   "source": [
    "myrunem_raw.X.sum()"
   ]
  },
  {
   "cell_type": "markdown",
   "id": "tired-diagram",
   "metadata": {},
   "source": [
    "# UCI expression sum"
   ]
  },
  {
   "cell_type": "code",
   "execution_count": 44,
   "id": "median-triumph",
   "metadata": {},
   "outputs": [
    {
     "data": {
      "text/plain": [
       "338505.0"
      ]
     },
     "execution_count": 44,
     "metadata": {},
     "output_type": "execute_result"
    }
   ],
   "source": [
    "ucirun.X.sum()"
   ]
  },
  {
   "cell_type": "markdown",
   "id": "center-marketplace",
   "metadata": {},
   "source": [
    "# WARNING\n",
    "\n",
    "There are duplicate UCI barcodes after making them compatible with star. I think they had a _pbN after them. This code ends up using the first of the barcodes to compare with the STAR run."
   ]
  },
  {
   "cell_type": "code",
   "execution_count": 45,
   "id": "separated-stadium",
   "metadata": {},
   "outputs": [],
   "source": [
    "ucirun.obs_names_make_unique()"
   ]
  },
  {
   "cell_type": "code",
   "execution_count": 46,
   "id": "liked-friendship",
   "metadata": {},
   "outputs": [],
   "source": [
    "def compute_spearman_pandas(left, right):\n",
    "    assert left.shape == right.shape, \"Shapes must be the same\"\n",
    "\n",
    "    cors=[]\n",
    "    for c in left.columns:\n",
    "        cors.append(scipy.stats.spearmanr(left[c], right[c])[0])\n",
    "    cors = pandas.Series(cors, index=left.columns)\n",
    "    return cors\n"
   ]
  },
  {
   "cell_type": "code",
   "execution_count": 47,
   "id": "compliant-sample",
   "metadata": {},
   "outputs": [],
   "source": [
    "def compute_correlations(tables):\n",
    "    programs = list(tables.keys())\n",
    "    cell_correlations = {}\n",
    "\n",
    "    for name_x in programs:\n",
    "        for name_y in programs[programs.index(name_x):]:\n",
    "            assert tables[name_x].shape == tables[name_y].shape\n",
    "            cs_cors = compute_spearman_pandas(tables[name_x], tables[name_y])\n",
    "            assert len(cs_cors) == len(tables[name_x].columns)\n",
    "            cell_correlations.setdefault(name_x, {})[name_y] = cs_cors\n",
    "    return cell_correlations"
   ]
  },
  {
   "cell_type": "code",
   "execution_count": 48,
   "id": "charming-loading",
   "metadata": {},
   "outputs": [],
   "source": [
    "def set_all_spines(ax, state):\n",
    "    for name in [\"left\", \"right\", \"top\", \"bottom\"]:\n",
    "        ax.spines[name].set_visible(state)\n",
    "        ax.tick_params(\n",
    "            axis='both', \n",
    "            which='both', \n",
    "            bottom=False,\n",
    "            labelbottom=False, \n",
    "            top=False, \n",
    "            labeltop=False,\n",
    "            right=False,\n",
    "            labelright=False,\n",
    "            left=False, \n",
    "            labelleft=False)\n",
    "\n",
    "def plot_cell_correlation_histogram(\n",
    "    table, *, programs=None, bins=50, y_annot=0.6, count_nans=False, \n",
    "    correlation_name='Spearman',\n",
    "    xlim=None\n",
    "):\n",
    "    #fontname = 'Arial'\n",
    "    override_labels = {\n",
    "        'Alevin': 'Salmon Alevin (EM)',\n",
    "        'Kallisto EM': 'Kallisto Bus (EM)'\n",
    "    }\n",
    "    fontname = 'DejaVu Sans'\n",
    "    fontsize = 14    \n",
    "    if programs is None:\n",
    "        programs = list(table.keys())\n",
    "    cell_hists = {}\n",
    "    f = pyplot.figure(figsize=(7,7))\n",
    "    #f.suptitle('Per-cell {} correlation'.format(correlation_name), fontsize=fontsize)\n",
    "    plot_size = len(programs)-1\n",
    "\n",
    "    axes = f.subplots(plot_size, plot_size, sharex=True, sharey=True)\n",
    "    \n",
    "    for i in range(0, plot_size):\n",
    "        for j in range(i+1, plot_size):\n",
    "            set_all_spines(axes[i, j], False)\n",
    "\n",
    "    if plot_size == 1:\n",
    "        axes = numpy.asarray([[axes]])\n",
    "\n",
    "    for x, name_x in enumerate(programs):\n",
    "        for y, name_y in enumerate(programs[programs.index(name_x)+1:]):\n",
    "            x_label = override_labels.get(name_x, name_x)\n",
    "            y_label = override_labels.get(name_y, name_y)\n",
    "            #plot_index = plot_size * (y+x) + x + 1\n",
    "            #ax = f.add_subplot(plot_size, plot_size, plot_index)\n",
    "            ax = axes[y+x, x]\n",
    "            if xlim is not None:\n",
    "                ax.set_xlim(xlim)\n",
    "            #set_all_spines(ax, True)\n",
    "            if x == 0:\n",
    "                ax.set_ylabel(y_label, fontname=fontname, fontsize=fontsize)\n",
    "\n",
    "            spearman = table[name_x][name_y]\n",
    "            spearman = numpy.array(spearman)\n",
    "            spearman = spearman[~numpy.isnan(spearman)]\n",
    "            count = len(spearman)\n",
    "            median = numpy.median(spearman)\n",
    "            mean = numpy.mean(spearman)\n",
    "            cell_hists.setdefault(name_x, {})[name_y] = ax.hist(spearman, bins=bins, density=True)\n",
    "            nantext=\"\"\n",
    "            if count_nans:\n",
    "                nantext=\"\\nNaNs {}\".format(table[name_x][name_y].isna().sum())\n",
    "            ax.annotate(f'Mean {mean:0.2}\\nMedian {median:0.2}\\nCells {count}{nantext}', xy=(0.1, y_annot), xycoords='axes fraction')\n",
    "            #ax.annotate(f'Mean {mean}\\nMedian {median}\\nCells {count}{nantext}', xy=(0.1, y_annot), xycoords='axes fraction')\n",
    "    for y in range(plot_size):\n",
    "        x_label = override_labels.get(programs[y], programs[y])\n",
    "        axes[0, y].set_title(x_label, fontname=fontname, fontsize=fontsize)\n",
    "        axes[plot_size-1, y].set_xlabel(x_label, fontname=fontname, fontsize=fontsize)\n",
    "    #f.tight_layout()\n",
    "    return f"
   ]
  },
  {
   "cell_type": "code",
   "execution_count": 49,
   "id": "careful-monday",
   "metadata": {},
   "outputs": [],
   "source": [
    "common_cell_set = set(ucirun.obs_names).intersection(myrun.obs_names)\n",
    "common_gene_set = set(ucirun.var_names).intersection(myrun.var_names)\n",
    "\n",
    "common_cells = [x for x in ucirun.obs_names if x in common_cell_set]\n",
    "common_genes = [x for x in ucirun.var_names if x in common_gene_set]"
   ]
  },
  {
   "cell_type": "code",
   "execution_count": 50,
   "id": "peripheral-singles",
   "metadata": {},
   "outputs": [
    {
     "data": {
      "text/plain": [
       "Index(['ATCATTCCATAGCGAC_11', 'TGGCTTCATCTTCACA_23', 'TGGCTTCAGAACAGGC_11',\n",
       "       'CACCTTACGCTCGGTA_23', 'GGTGCGAAAGCCATGC_11', 'AACTCACCAACGCTTA_11',\n",
       "       'ACGTATCAGACTAGTA_11', 'AAGAGATCACAAGCTA_23', 'CGACACACAACAACCA_11',\n",
       "       'GACAGTGCGTCGTAGA_11',\n",
       "       ...\n",
       "       'GTGTTCTACCGAAGTA_11', 'CAAGACTAAGTACAAG_23', 'GTGTTCTAGCCACATA_11',\n",
       "       'CGACACACACATTGGC_11', 'GTGTTCTACGCATACA_23', 'AATCCGTCGAATCTGA_11',\n",
       "       'CGACACACAACCGAGA_23', 'AACTCACCCAATGGAA_23', 'CTGGCATAGTGTTCTA_23',\n",
       "       'CGAACTTATGGTGGTA_23'],\n",
       "      dtype='object', name='cell_barcode', length=5442)"
      ]
     },
     "execution_count": 50,
     "metadata": {},
     "output_type": "execute_result"
    }
   ],
   "source": [
    "ucirun.obs_names"
   ]
  },
  {
   "cell_type": "code",
   "execution_count": 51,
   "id": "official-transmission",
   "metadata": {},
   "outputs": [
    {
     "data": {
      "text/plain": [
       "View of AnnData object with n_obs × n_vars = 846 × 13332\n",
       "    obs: 'n_genes_by_counts', 'total_counts', 'total_counts_mt', 'pct_counts_mt'\n",
       "    var: 'gene_symbols', 'mt', 'n_cells_by_counts', 'mean_counts', 'pct_dropout_by_counts', 'total_counts'\n",
       "    uns: 'type', 'output_type', 'software_version', 'arguments', 'experiment_accession', 'description', 'library_accession'"
      ]
     },
     "execution_count": 51,
     "metadata": {},
     "output_type": "execute_result"
    }
   ],
   "source": [
    "myrun[common_cells,common_genes]"
   ]
  },
  {
   "cell_type": "code",
   "execution_count": null,
   "id": "violent-asian",
   "metadata": {},
   "outputs": [],
   "source": []
  },
  {
   "cell_type": "code",
   "execution_count": 52,
   "id": "worldwide-hollow",
   "metadata": {},
   "outputs": [],
   "source": [
    "datasets = {\n",
    "    \"my\": myrun[common_cells, common_genes].to_df().T,\n",
    "    \"my em\": myrunem[common_cells, common_genes].to_df().T,\n",
    "    \"ucirun\": ucirun[common_cells, common_genes].to_df().T,\n",
    "}\n",
    "\n",
    "cors = compute_correlations(datasets)"
   ]
  },
  {
   "cell_type": "markdown",
   "id": "ethical-somalia",
   "metadata": {},
   "source": [
    "# All vs All filtered Spearman Correlation"
   ]
  },
  {
   "cell_type": "code",
   "execution_count": 53,
   "id": "cheap-smoke",
   "metadata": {},
   "outputs": [
    {
     "data": {
      "image/png": "[encoded data removed]",
      "text/plain": [
       "<Figure size 504x504 with 4 Axes>"
      ]
     },
     "metadata": {
      "needs_background": "light"
     },
     "output_type": "display_data"
    }
   ],
   "source": [
    "f = plot_cell_correlation_histogram(cors)"
   ]
  },
  {
   "cell_type": "markdown",
   "id": "completed-carbon",
   "metadata": {},
   "source": [
    "# All vs All less filtered Spearman Correlation calculation"
   ]
  },
  {
   "cell_type": "code",
   "execution_count": null,
   "id": "rotary-father",
   "metadata": {},
   "outputs": [],
   "source": []
  },
  {
   "cell_type": "code",
   "execution_count": 54,
   "id": "accessible-tuner",
   "metadata": {
    "scrolled": false
   },
   "outputs": [],
   "source": [
    "raw_common_cell_set = set(ucirun.obs_names).intersection(myrun_raw.obs_names)\n",
    "raw_common_gene_set = set(ucirun.var_names).intersection(myrun_raw.var_names)\n",
    "\n",
    "raw_common_cells = [x for x in ucirun.obs_names if x in raw_common_cell_set]\n",
    "raw_common_genes = [x for x in ucirun.var_names if x in raw_common_gene_set]\n",
    "\n",
    "raw_datasets = {\n",
    "    \"my\": myrun_raw[raw_common_cells, raw_common_genes].to_df().T,\n",
    "    \"my em raw\": myrunem_raw[raw_common_cells, raw_common_genes].to_df().T,\n",
    "    \"ucirun\": ucirun[raw_common_cells, raw_common_genes].to_df().T,\n",
    "}\n",
    "\n",
    "raw_cors = compute_correlations(raw_datasets)"
   ]
  },
  {
   "cell_type": "code",
   "execution_count": 55,
   "id": "animated-colleague",
   "metadata": {},
   "outputs": [
    {
     "data": {
      "text/plain": [
       "(327613.0, 326885.0, 326536.0)"
      ]
     },
     "execution_count": 55,
     "metadata": {},
     "output_type": "execute_result"
    }
   ],
   "source": [
    "myrun_raw[raw_common_cells, :].X.sum(), myrun_raw[:, raw_common_genes].X.sum(), myrun_raw[raw_common_cells, raw_common_genes].X.sum()"
   ]
  },
  {
   "cell_type": "markdown",
   "id": "christian-supplier",
   "metadata": {},
   "source": [
    "# All vs All less filtered Spearman Correlation"
   ]
  },
  {
   "cell_type": "code",
   "execution_count": 56,
   "id": "surprising-lemon",
   "metadata": {},
   "outputs": [
    {
     "data": {
      "image/png": "[encoded data removed]",
      "text/plain": [
       "<Figure size 504x504 with 4 Axes>"
      ]
     },
     "metadata": {
      "needs_background": "light"
     },
     "output_type": "display_data"
    }
   ],
   "source": [
    "f = plot_cell_correlation_histogram(raw_cors)"
   ]
  },
  {
   "cell_type": "code",
   "execution_count": 57,
   "id": "accomplished-grill",
   "metadata": {},
   "outputs": [
    {
     "data": {
      "text/plain": [
       "View of AnnData object with n_obs × n_vars = 847 × 12195\n",
       "    obs: 'n_genes_by_counts', 'total_counts', 'total_counts_mt', 'pct_counts_mt'\n",
       "    var: 'gene_symbols', 'mt', 'n_cells_by_counts', 'mean_counts', 'pct_dropout_by_counts', 'total_counts'\n",
       "    uns: 'type', 'output_type', 'software_version', 'arguments', 'experiment_accession', 'description', 'library_accession'"
      ]
     },
     "execution_count": 57,
     "metadata": {},
     "output_type": "execute_result"
    }
   ],
   "source": [
    "myrun[:, myrun.var[\"total_counts\"] > 0]"
   ]
  },
  {
   "cell_type": "code",
   "execution_count": 58,
   "id": "periodic-breathing",
   "metadata": {},
   "outputs": [
    {
     "data": {
      "text/plain": [
       "View of AnnData object with n_obs × n_vars = 442368 × 13043\n",
       "    obs: 'n_genes_by_counts', 'total_counts', 'total_counts_mt', 'pct_counts_mt'\n",
       "    var: 'gene_symbols', 'mt', 'n_cells_by_counts', 'mean_counts', 'pct_dropout_by_counts', 'total_counts'\n",
       "    uns: 'type', 'output_type', 'software_version', 'arguments', 'experiment_accession', 'description', 'library_accession'"
      ]
     },
     "execution_count": 58,
     "metadata": {},
     "output_type": "execute_result"
    }
   ],
   "source": [
    "myrun_raw[:, myrun_raw.var[\"total_counts\"] > 0]"
   ]
  },
  {
   "cell_type": "code",
   "execution_count": 59,
   "id": "severe-accused",
   "metadata": {},
   "outputs": [
    {
     "data": {
      "text/plain": [
       "View of AnnData object with n_obs × n_vars = 5452 × 81881\n",
       "    obs: 'n_genes_by_counts', 'total_counts', 'total_counts_mt', 'pct_counts_mt'\n",
       "    var: 'gene_symbols', 'mt', 'n_cells_by_counts', 'mean_counts', 'pct_dropout_by_counts', 'total_counts'\n",
       "    uns: 'type', 'output_type', 'software_version', 'arguments', 'experiment_accession', 'description', 'library_accession'"
      ]
     },
     "execution_count": 59,
     "metadata": {},
     "output_type": "execute_result"
    }
   ],
   "source": [
    "myrun_raw[myrun_raw.obs[\"total_counts\"]>0]"
   ]
  },
  {
   "cell_type": "code",
   "execution_count": 60,
   "id": "later-brazilian",
   "metadata": {},
   "outputs": [
    {
     "data": {
      "text/plain": [
       "View of AnnData object with n_obs × n_vars = 5442 × 13332\n",
       "    obs: 'n_genes_by_counts', 'total_counts', 'total_counts_mt', 'pct_counts_mt'\n",
       "    var: 'gene_name', 'mt', 'n_cells_by_counts', 'mean_counts', 'pct_dropout_by_counts', 'total_counts'"
      ]
     },
     "execution_count": 60,
     "metadata": {},
     "output_type": "execute_result"
    }
   ],
   "source": [
    "ucirun[ucirun.obs[\"total_counts\"]>0]"
   ]
  },
  {
   "cell_type": "code",
   "execution_count": null,
   "id": "bearing-texture",
   "metadata": {},
   "outputs": [],
   "source": []
  }
 ],
 "metadata": {
  "kernelspec": {
   "display_name": "Python 3",
   "language": "python",
   "name": "python3"
  },
  "language_info": {
   "codemirror_mode": {
    "name": "ipython",
    "version": 3
   },
   "file_extension": ".py",
   "mimetype": "text/x-python",
   "name": "python",
   "nbconvert_exporter": "python",
   "pygments_lexer": "ipython3",
   "version": "3.9.1+"
  }
 },
 "nbformat": 4,
 "nbformat_minor": 5
}
