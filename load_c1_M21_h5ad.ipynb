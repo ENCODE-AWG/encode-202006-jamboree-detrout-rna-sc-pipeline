{
 "cells": [
  {
   "cell_type": "code",
   "execution_count": 2,
   "id": "numerous-marking",
   "metadata": {},
   "outputs": [
    {
     "ename": "ModuleNotFoundError",
     "evalue": "No module named 'woldrnaseq'",
     "output_type": "error",
     "traceback": [
      "\u001b[0;31m---------------------------------------------------------------------------\u001b[0m",
      "\u001b[0;31mModuleNotFoundError\u001b[0m                       Traceback (most recent call last)",
      "\u001b[0;32m<ipython-input-2-7bb1e2754b13>\u001b[0m in \u001b[0;36m<module>\u001b[0;34m\u001b[0m\n\u001b[1;32m      1\u001b[0m \u001b[0;32mfrom\u001b[0m \u001b[0mpathlib\u001b[0m \u001b[0;32mimport\u001b[0m \u001b[0mPath\u001b[0m\u001b[0;34m\u001b[0m\u001b[0;34m\u001b[0m\u001b[0m\n\u001b[1;32m      2\u001b[0m \u001b[0;34m\u001b[0m\u001b[0m\n\u001b[0;32m----> 3\u001b[0;31m \u001b[0;32mfrom\u001b[0m \u001b[0mwoldrnaseq\u001b[0m\u001b[0;34m.\u001b[0m\u001b[0mmodels\u001b[0m \u001b[0;32mimport\u001b[0m \u001b[0mload_libraries\u001b[0m\u001b[0;34m\u001b[0m\u001b[0;34m\u001b[0m\u001b[0m\n\u001b[0m",
      "\u001b[0;31mModuleNotFoundError\u001b[0m: No module named 'woldrnaseq'"
     ]
    }
   ],
   "source": [
    "import pandas\n",
    "import anndata\n",
    "from pathlib import Path\n"
   ]
  },
  {
   "cell_type": "code",
   "execution_count": null,
   "id": "sublime-serum",
   "metadata": {},
   "outputs": [],
   "source": [
    "from woldrnaseq.models import load_libraries, load_experiments"
   ]
  },
  {
   "cell_type": "code",
   "execution_count": null,
   "id": "satisfied-messenger",
   "metadata": {},
   "outputs": [],
   "source": []
  },
  {
   "cell_type": "code",
   "execution_count": null,
   "id": "accessible-wisconsin",
   "metadata": {},
   "outputs": [],
   "source": []
  },
  {
   "cell_type": "code",
   "execution_count": null,
   "id": "alternative-champion",
   "metadata": {},
   "outputs": [],
   "source": [
    "def scanpy_load_woldrnaseq(analysis_dir):\n",
    "    analysis_dir = Path(analysis_dir)\n",
    "    kallisto = scanpy.read_mtx(analysis_dir / \"gene.mtx\")\n",
    "    kallisto_vars = pandas.read_csv(\n",
    "        analysis_dir / \"gene.genes.txt\", header=None\n",
    "    ).values.T\n",
    "    kallisto_obs = pandas.read_csv(\n",
    "        analysis_dir / \"gene.barcodes.txt\", header=None\n",
    "    ).values.T\n",
    "    kallisto.obs_names = kallisto_obs[0]\n",
    "    kallisto.var_names = kallisto_vars[0]\n",
    "\n",
    "    if filter_file is not None:\n",
    "        barcodes = load_barcode_list(filter_file)\n",
    "        kallisto = kallisto[barcodes].copy()\n",
    "\n",
    "    kallisto.obs[\"counts\"] = kallisto.X.sum(axis=1)\n",
    "    kallisto.obs[\"ngenes\"] = numpy.array((kallisto.X > 0).sum(axis=1))\n",
    "\n",
    "    return kallisto\n",
    "\n"
   ]
  }
 ],
 "metadata": {
  "kernelspec": {
   "display_name": "Python 3",
   "language": "python",
   "name": "python3"
  },
  "language_info": {
   "codemirror_mode": {
    "name": "ipython",
    "version": 3
   },
   "file_extension": ".py",
   "mimetype": "text/x-python",
   "name": "python",
   "nbconvert_exporter": "python",
   "pygments_lexer": "ipython3",
   "version": "3.9.1+"
  }
 },
 "nbformat": 4,
 "nbformat_minor": 5
}
