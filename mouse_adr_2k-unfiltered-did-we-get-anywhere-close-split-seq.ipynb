{
 "cells": [
  {
   "cell_type": "markdown",
   "id": "narrative-gasoline",
   "metadata": {},
   "source": [
    "Liz's Results are in http://crick.bio.uci.edu/erebboah/postnatal_splitseq/adrenal/ENCSR193PLQ/ I should use the unfiltered?"
   ]
  },
  {
   "cell_type": "code",
   "execution_count": 1,
   "id": "shared-transcript",
   "metadata": {},
   "outputs": [],
   "source": [
    "from collections import Counter\n",
    "import scanpy\n",
    "import pysam\n",
    "from pathlib import Path\n",
    "import pandas\n",
    "import requests\n",
    "import numpy\n",
    "import os\n",
    "import re\n",
    "import scipy\n",
    "import gzip\n",
    "import sys\n",
    "from matplotlib import pyplot\n",
    "import matplotlib\n",
    "import upsetplot\n",
    "import warnings\n",
    "from urllib.parse import urljoin"
   ]
  },
  {
   "cell_type": "code",
   "execution_count": 2,
   "id": "current-hello",
   "metadata": {},
   "outputs": [],
   "source": [
    "EC = str(Path(\"~/proj/encoded_client\").expanduser())\n",
    "if EC not in sys.path:\n",
    "    sys.path.append(EC)\n",
    "from encoded_client import ENCODED"
   ]
  },
  {
   "cell_type": "code",
   "execution_count": 3,
   "id": "nominated-washington",
   "metadata": {},
   "outputs": [],
   "source": [
    "MEX = str(Path(\"~/proj/mex_gene_archive\").expanduser())\n",
    "if MEX not in sys.path:\n",
    "    sys.path.append(MEX)"
   ]
  },
  {
   "cell_type": "code",
   "execution_count": 4,
   "id": "legal-enclosure",
   "metadata": {},
   "outputs": [],
   "source": [
    "WRS = str(Path(\"~/proj/woldlab-rna-seq\").expanduser())\n",
    "if WRS not in sys.path:\n",
    "    sys.path.append(WRS)\n",
    "from woldrnaseq.plots.scrna_matrix_qc import (\n",
    "    calculate_qc,\n",
    "    generate_violin_plot,\n",
    "    make_pct_mt_scatter,\n",
    "    make_gene_by_count_scatter,\n",
    ")"
   ]
  },
  {
   "cell_type": "code",
   "execution_count": 5,
   "id": "hidden-passion",
   "metadata": {},
   "outputs": [],
   "source": [
    "from common import scanpy_load_solo_mtx"
   ]
  },
  {
   "cell_type": "code",
   "execution_count": 6,
   "id": "induced-borough",
   "metadata": {},
   "outputs": [],
   "source": [
    "%matplotlib inline"
   ]
  },
  {
   "cell_type": "code",
   "execution_count": 7,
   "id": "atomic-vulnerability",
   "metadata": {},
   "outputs": [],
   "source": [
    "star_analysis_dir = \"adrenal/mouse_adr_2k\"\n",
    "erebboah_base = \"http://crick.bio.uci.edu/erebboah/postnatal_splitseq/adrenal/analysis_2k//DGE_unfiltered/\""
   ]
  },
  {
   "cell_type": "code",
   "execution_count": 8,
   "id": "broke-favor",
   "metadata": {},
   "outputs": [],
   "source": [
    "gene_id_name_map = {}\n",
    "genome_dir = Path(\"~/proj/genome/mm10-M21-male-2.7.9a\").expanduser()\n",
    "with open(genome_dir / \"geneInfo.tab\", \"rt\") as instream:\n",
    "    count = instream.readline()\n",
    "    for line in instream:\n",
    "        gene_id, gene_name, gene_type = line.rstrip().split(\"\\t\")\n",
    "        if gene_name == \"NULL\":\n",
    "            gene_name = gene_id\n",
    "        gene_id_name_map[gene_id] = gene_name\n",
    "        \n"
   ]
  },
  {
   "cell_type": "code",
   "execution_count": 9,
   "id": "athletic-metabolism",
   "metadata": {},
   "outputs": [
    {
     "name": "stdout",
     "output_type": "stream",
     "text": [
      "count sum 11942341.0\n",
      "shape (3698, 81881)\n"
     ]
    }
   ],
   "source": [
    "myrun = scanpy_load_solo_mtx(star_analysis_dir, gene=\"GeneFull_Ex50pAS\")\n",
    "#myrun.obs[\"star_barcode\"] = myrun.obs_names\n",
    "#print(myrun_raw.obs[\"star_barcode\"][:5])\n",
    "#myrun.obs_names = [\"\".join(x.split(\"_\")[0:2]) for x in myrun.obs_names]\n",
    "#myrun.obs_names = [x.replace(\"_\", \"\") for x in myrun.obs_names]\n",
    "#myrun.var[\"gene_symbol\"] = [gene_id_name_map.get(x, x) for x in myrun.var_names]\n",
    "\n",
    "calculate_qc(myrun, gene_id_name_map)\n",
    "\n",
    "print(\"count sum\", myrun.X.sum().sum())\n",
    "print(\"shape\", myrun.shape)"
   ]
  },
  {
   "cell_type": "code",
   "execution_count": 10,
   "id": "daily-adaptation",
   "metadata": {},
   "outputs": [
    {
     "name": "stdout",
     "output_type": "stream",
     "text": [
      "count sum 28421978.0\n",
      "shape (884736, 81881)\n"
     ]
    }
   ],
   "source": [
    "myrun_raw = scanpy_load_solo_mtx(star_analysis_dir, gene=\"GeneFull_Ex50pAS\", mode=\"raw\")\n",
    "#myrun_raw.obs[\"star_barcode\"] = myrun_raw.obs_names\n",
    "#print(myrunem_raw.obs_names[:5])\n",
    "#myrun_raw.obs_names = [\"\".join(x.split(\"_\")[0:2]) for x in myrun_raw.obs_names]\n",
    "#myrun_raw.obs_names = [x.replace(\"_\", \"\") for x in myrun_raw.obs_names]\n",
    "#myrun_raw.obs_names_make_unique()\n",
    "\n",
    "calculate_qc(myrun_raw, gene_id_name_map)\n",
    "\n",
    "print(\"count sum\", myrun_raw.X.sum().sum())\n",
    "print(\"shape\", myrun_raw.shape)"
   ]
  },
  {
   "cell_type": "code",
   "execution_count": 11,
   "id": "large-inspection",
   "metadata": {},
   "outputs": [
    {
     "name": "stdout",
     "output_type": "stream",
     "text": [
      "count sum 12324492.0\n",
      "shape (3698, 81881)\n"
     ]
    }
   ],
   "source": [
    "myrunem = scanpy_load_solo_mtx(star_analysis_dir, gene=\"GeneFull_Ex50pAS\", multi=\"UniqueAndMult-EM.mtx\")\n",
    "#myrunem.obs[\"star_barcode\"] = myrunem.obs_names\n",
    "#myrunem.obs_names = [\"\".join(x.split(\"_\")[0:2]) for x in myrunem.obs_names]\n",
    "\n",
    "calculate_qc(myrunem, gene_id_name_map)\n",
    "\n",
    "print(\"count sum\", myrunem.X.sum().sum())\n",
    "print(\"shape\", myrunem.shape)"
   ]
  },
  {
   "cell_type": "code",
   "execution_count": 12,
   "id": "infinite-vintage",
   "metadata": {},
   "outputs": [
    {
     "name": "stdout",
     "output_type": "stream",
     "text": [
      "count sum 29346800.0\n",
      "shape (884736, 81881)\n"
     ]
    }
   ],
   "source": [
    "myrunem_raw = scanpy_load_solo_mtx(star_analysis_dir, gene=\"GeneFull_Ex50pAS\", mode=\"raw\", multi=\"UniqueAndMult-EM.mtx\")\n",
    "#myrunem_raw.obs[\"star_barcode\"] = myrunem_raw.obs_names\n",
    "#myrunem_raw.obs_names = [\"\".join(x.split(\"_\")[0:2]) for x in myrunem_raw.obs_names]\n",
    "#myrunem_raw.obs_names_make_unique()\n",
    "#myrun.var[\"gene_symbol\"] = [gene_id_name_map.get(x, x) for x in myrun.var_names]\n",
    "\n",
    "calculate_qc(myrunem_raw, gene_id_name_map)\n",
    "\n",
    "print(\"count sum\", myrunem_raw.X.sum().sum())\n",
    "print(\"shape\", myrunem_raw.shape)"
   ]
  },
  {
   "cell_type": "code",
   "execution_count": 13,
   "id": "accredited-agent",
   "metadata": {},
   "outputs": [
    {
     "name": "stdout",
     "output_type": "stream",
     "text": [
      "uci count sum 26569126.0\n",
      "uci AnnData object with n_obs × n_vars = 158439 × 29284\n"
     ]
    }
   ],
   "source": [
    "req = requests.get(urljoin(erebboah_base, \"DGE.mtx\"), stream=True)\n",
    "uci_dge = scipy.io.mmread(req.raw)\n",
    "\n",
    "ucirun = scanpy.AnnData(uci_dge.tocsr())\n",
    "\n",
    "print(\"uci count sum\", ucirun.X.sum().sum())\n",
    "print(\"uci\", ucirun)"
   ]
  },
  {
   "cell_type": "code",
   "execution_count": 14,
   "id": "reserved-aluminum",
   "metadata": {},
   "outputs": [
    {
     "data": {
      "text/html": [
       "<div>\n",
       "<style scoped>\n",
       "    .dataframe tbody tr th:only-of-type {\n",
       "        vertical-align: middle;\n",
       "    }\n",
       "\n",
       "    .dataframe tbody tr th {\n",
       "        vertical-align: top;\n",
       "    }\n",
       "\n",
       "    .dataframe thead th {\n",
       "        text-align: right;\n",
       "    }\n",
       "</style>\n",
       "<table border=\"1\" class=\"dataframe\">\n",
       "  <thead>\n",
       "    <tr style=\"text-align: right;\">\n",
       "      <th></th>\n",
       "      <th>cell_barcode</th>\n",
       "      <th>species</th>\n",
       "      <th>sample</th>\n",
       "      <th>rnd1_well</th>\n",
       "      <th>rnd2_well</th>\n",
       "      <th>rnd3_well</th>\n",
       "      <th>umi_count</th>\n",
       "      <th>umi_count_50dup</th>\n",
       "      <th>gene_count</th>\n",
       "      <th>rnd3_rnd2</th>\n",
       "      <th>Index</th>\n",
       "      <th>Barcode</th>\n",
       "      <th>cell_barcode_24nt</th>\n",
       "      <th>star_barcode</th>\n",
       "    </tr>\n",
       "  </thead>\n",
       "  <tbody>\n",
       "    <tr>\n",
       "      <th>1</th>\n",
       "      <td>ACTATGCACGACACAC_14</td>\n",
       "      <td>mm10</td>\n",
       "      <td>A_14_F1</td>\n",
       "      <td>14</td>\n",
       "      <td>88</td>\n",
       "      <td>22</td>\n",
       "      <td>623609</td>\n",
       "      <td>441916.249343</td>\n",
       "      <td>15236</td>\n",
       "      <td>ACTATGCACGACACAC</td>\n",
       "      <td>14</td>\n",
       "      <td>CTGTCCCG</td>\n",
       "      <td>ACTATGCACGACACACCTGTCCCG</td>\n",
       "      <td>ACTATGCA_CGACACAC_CTGTCCCG</td>\n",
       "    </tr>\n",
       "    <tr>\n",
       "      <th>2</th>\n",
       "      <td>GACAGTGCGTCGTAGA_28</td>\n",
       "      <td>mm10</td>\n",
       "      <td>A_25_F2</td>\n",
       "      <td>28</td>\n",
       "      <td>56</td>\n",
       "      <td>92</td>\n",
       "      <td>468100</td>\n",
       "      <td>331715.860928</td>\n",
       "      <td>14590</td>\n",
       "      <td>GACAGTGCGTCGTAGA</td>\n",
       "      <td>28</td>\n",
       "      <td>CGCCCGGA</td>\n",
       "      <td>GACAGTGCGTCGTAGACGCCCGGA</td>\n",
       "      <td>GACAGTGC_GTCGTAGA_CGCCCGGA</td>\n",
       "    </tr>\n",
       "    <tr>\n",
       "      <th>3</th>\n",
       "      <td>CTAAGGTCAGCCATGC_1</td>\n",
       "      <td>mm10</td>\n",
       "      <td>A_10_F1</td>\n",
       "      <td>1</td>\n",
       "      <td>77</td>\n",
       "      <td>90</td>\n",
       "      <td>423888</td>\n",
       "      <td>300385.329752</td>\n",
       "      <td>14124</td>\n",
       "      <td>CTAAGGTCAGCCATGC</td>\n",
       "      <td>1</td>\n",
       "      <td>AAACGATA</td>\n",
       "      <td>CTAAGGTCAGCCATGCAAACGATA</td>\n",
       "      <td>CTAAGGTC_AGCCATGC_AAACGATA</td>\n",
       "    </tr>\n",
       "    <tr>\n",
       "      <th>4</th>\n",
       "      <td>CCTCTATCCACTTCGA_32</td>\n",
       "      <td>mm10</td>\n",
       "      <td>A_2m_F2</td>\n",
       "      <td>32</td>\n",
       "      <td>32</td>\n",
       "      <td>87</td>\n",
       "      <td>317959</td>\n",
       "      <td>225319.468970</td>\n",
       "      <td>14938</td>\n",
       "      <td>CCTCTATCCACTTCGA</td>\n",
       "      <td>32</td>\n",
       "      <td>TTCGCTAC</td>\n",
       "      <td>CCTCTATCCACTTCGATTCGCTAC</td>\n",
       "      <td>CCTCTATC_CACTTCGA_TTCGCTAC</td>\n",
       "    </tr>\n",
       "    <tr>\n",
       "      <th>5</th>\n",
       "      <td>TCTTCACACATCAAGT_32</td>\n",
       "      <td>mm10</td>\n",
       "      <td>A_2m_F2</td>\n",
       "      <td>32</td>\n",
       "      <td>7</td>\n",
       "      <td>62</td>\n",
       "      <td>253498</td>\n",
       "      <td>179639.622545</td>\n",
       "      <td>13844</td>\n",
       "      <td>TCTTCACACATCAAGT</td>\n",
       "      <td>32</td>\n",
       "      <td>TTCGCTAC</td>\n",
       "      <td>TCTTCACACATCAAGTTTCGCTAC</td>\n",
       "      <td>TCTTCACA_CATCAAGT_TTCGCTAC</td>\n",
       "    </tr>\n",
       "    <tr>\n",
       "      <th>...</th>\n",
       "      <td>...</td>\n",
       "      <td>...</td>\n",
       "      <td>...</td>\n",
       "      <td>...</td>\n",
       "      <td>...</td>\n",
       "      <td>...</td>\n",
       "      <td>...</td>\n",
       "      <td>...</td>\n",
       "      <td>...</td>\n",
       "      <td>...</td>\n",
       "      <td>...</td>\n",
       "      <td>...</td>\n",
       "      <td>...</td>\n",
       "      <td>...</td>\n",
       "    </tr>\n",
       "    <tr>\n",
       "      <th>158435</th>\n",
       "      <td>ATCCTGTACCTCCTGA_32</td>\n",
       "      <td>mm10</td>\n",
       "      <td>A_2m_F2</td>\n",
       "      <td>32</td>\n",
       "      <td>38</td>\n",
       "      <td>27</td>\n",
       "      <td>10</td>\n",
       "      <td>7.086432</td>\n",
       "      <td>10</td>\n",
       "      <td>ATCCTGTACCTCCTGA</td>\n",
       "      <td>32</td>\n",
       "      <td>TTCGCTAC</td>\n",
       "      <td>ATCCTGTACCTCCTGATTCGCTAC</td>\n",
       "      <td>ATCCTGTA_CCTCCTGA_TTCGCTAC</td>\n",
       "    </tr>\n",
       "    <tr>\n",
       "      <th>158436</th>\n",
       "      <td>AGATCGCAGATGAATC_43</td>\n",
       "      <td>mm10</td>\n",
       "      <td>A_36_M2</td>\n",
       "      <td>43</td>\n",
       "      <td>94</td>\n",
       "      <td>24</td>\n",
       "      <td>10</td>\n",
       "      <td>7.086432</td>\n",
       "      <td>10</td>\n",
       "      <td>AGATCGCAGATGAATC</td>\n",
       "      <td>43</td>\n",
       "      <td>GTCGCGCG</td>\n",
       "      <td>AGATCGCAGATGAATCGTCGCGCG</td>\n",
       "      <td>AGATCGCA_GATGAATC_GTCGCGCG</td>\n",
       "    </tr>\n",
       "    <tr>\n",
       "      <th>158437</th>\n",
       "      <td>AGATGTACCCAGTTCA_41</td>\n",
       "      <td>mm10</td>\n",
       "      <td>A_25_M2</td>\n",
       "      <td>41</td>\n",
       "      <td>35</td>\n",
       "      <td>75</td>\n",
       "      <td>10</td>\n",
       "      <td>7.086432</td>\n",
       "      <td>9</td>\n",
       "      <td>AGATGTACCCAGTTCA</td>\n",
       "      <td>41</td>\n",
       "      <td>CATTTGGA</td>\n",
       "      <td>AGATGTACCCAGTTCACATTTGGA</td>\n",
       "      <td>AGATGTAC_CCAGTTCA_CATTTGGA</td>\n",
       "    </tr>\n",
       "    <tr>\n",
       "      <th>158438</th>\n",
       "      <td>ACCACTGTAGATCGCA_36</td>\n",
       "      <td>mm10</td>\n",
       "      <td>A_4_M2</td>\n",
       "      <td>36</td>\n",
       "      <td>24</td>\n",
       "      <td>4</td>\n",
       "      <td>10</td>\n",
       "      <td>7.086432</td>\n",
       "      <td>10</td>\n",
       "      <td>ACCACTGTAGATCGCA</td>\n",
       "      <td>36</td>\n",
       "      <td>GCCGTGTA</td>\n",
       "      <td>ACCACTGTAGATCGCAGCCGTGTA</td>\n",
       "      <td>ACCACTGT_AGATCGCA_GCCGTGTA</td>\n",
       "    </tr>\n",
       "    <tr>\n",
       "      <th>158439</th>\n",
       "      <td>GATGAATCCCGAAGTA_1</td>\n",
       "      <td>mm10</td>\n",
       "      <td>A_10_F1</td>\n",
       "      <td>1</td>\n",
       "      <td>36</td>\n",
       "      <td>94</td>\n",
       "      <td>10</td>\n",
       "      <td>7.086432</td>\n",
       "      <td>9</td>\n",
       "      <td>GATGAATCCCGAAGTA</td>\n",
       "      <td>1</td>\n",
       "      <td>AAACGATA</td>\n",
       "      <td>GATGAATCCCGAAGTAAAACGATA</td>\n",
       "      <td>GATGAATC_CCGAAGTA_AAACGATA</td>\n",
       "    </tr>\n",
       "  </tbody>\n",
       "</table>\n",
       "<p>158439 rows × 14 columns</p>\n",
       "</div>"
      ],
      "text/plain": [
       "               cell_barcode species   sample  rnd1_well  rnd2_well  rnd3_well  \\\n",
       "1       ACTATGCACGACACAC_14    mm10  A_14_F1         14         88         22   \n",
       "2       GACAGTGCGTCGTAGA_28    mm10  A_25_F2         28         56         92   \n",
       "3        CTAAGGTCAGCCATGC_1    mm10  A_10_F1          1         77         90   \n",
       "4       CCTCTATCCACTTCGA_32    mm10  A_2m_F2         32         32         87   \n",
       "5       TCTTCACACATCAAGT_32    mm10  A_2m_F2         32          7         62   \n",
       "...                     ...     ...      ...        ...        ...        ...   \n",
       "158435  ATCCTGTACCTCCTGA_32    mm10  A_2m_F2         32         38         27   \n",
       "158436  AGATCGCAGATGAATC_43    mm10  A_36_M2         43         94         24   \n",
       "158437  AGATGTACCCAGTTCA_41    mm10  A_25_M2         41         35         75   \n",
       "158438  ACCACTGTAGATCGCA_36    mm10   A_4_M2         36         24          4   \n",
       "158439   GATGAATCCCGAAGTA_1    mm10  A_10_F1          1         36         94   \n",
       "\n",
       "        umi_count  umi_count_50dup  gene_count         rnd3_rnd2  Index  \\\n",
       "1          623609    441916.249343       15236  ACTATGCACGACACAC     14   \n",
       "2          468100    331715.860928       14590  GACAGTGCGTCGTAGA     28   \n",
       "3          423888    300385.329752       14124  CTAAGGTCAGCCATGC      1   \n",
       "4          317959    225319.468970       14938  CCTCTATCCACTTCGA     32   \n",
       "5          253498    179639.622545       13844  TCTTCACACATCAAGT     32   \n",
       "...           ...              ...         ...               ...    ...   \n",
       "158435         10         7.086432          10  ATCCTGTACCTCCTGA     32   \n",
       "158436         10         7.086432          10  AGATCGCAGATGAATC     43   \n",
       "158437         10         7.086432           9  AGATGTACCCAGTTCA     41   \n",
       "158438         10         7.086432          10  ACCACTGTAGATCGCA     36   \n",
       "158439         10         7.086432           9  GATGAATCCCGAAGTA      1   \n",
       "\n",
       "         Barcode         cell_barcode_24nt                star_barcode  \n",
       "1       CTGTCCCG  ACTATGCACGACACACCTGTCCCG  ACTATGCA_CGACACAC_CTGTCCCG  \n",
       "2       CGCCCGGA  GACAGTGCGTCGTAGACGCCCGGA  GACAGTGC_GTCGTAGA_CGCCCGGA  \n",
       "3       AAACGATA  CTAAGGTCAGCCATGCAAACGATA  CTAAGGTC_AGCCATGC_AAACGATA  \n",
       "4       TTCGCTAC  CCTCTATCCACTTCGATTCGCTAC  CCTCTATC_CACTTCGA_TTCGCTAC  \n",
       "5       TTCGCTAC  TCTTCACACATCAAGTTTCGCTAC  TCTTCACA_CATCAAGT_TTCGCTAC  \n",
       "...          ...                       ...                         ...  \n",
       "158435  TTCGCTAC  ATCCTGTACCTCCTGATTCGCTAC  ATCCTGTA_CCTCCTGA_TTCGCTAC  \n",
       "158436  GTCGCGCG  AGATCGCAGATGAATCGTCGCGCG  AGATCGCA_GATGAATC_GTCGCGCG  \n",
       "158437  CATTTGGA  AGATGTACCCAGTTCACATTTGGA  AGATGTAC_CCAGTTCA_CATTTGGA  \n",
       "158438  GCCGTGTA  ACCACTGTAGATCGCAGCCGTGTA  ACCACTGT_AGATCGCA_GCCGTGTA  \n",
       "158439  AAACGATA  GATGAATCCCGAAGTAAAACGATA  GATGAATC_CCGAAGTA_AAACGATA  \n",
       "\n",
       "[158439 rows x 14 columns]"
      ]
     },
     "execution_count": 14,
     "metadata": {},
     "output_type": "execute_result"
    }
   ],
   "source": [
    "cell_metadata = pandas.read_csv(urljoin(erebboah_base, \"cell_metadata.csv\"), index_col=0)\n",
    "cell_metadata"
   ]
  },
  {
   "cell_type": "code",
   "execution_count": 15,
   "id": "incorporate-century",
   "metadata": {},
   "outputs": [
    {
     "data": {
      "text/plain": [
       "array(['ACTATGCA_CGACACAC_CTGTCCCG', 'GACAGTGC_GTCGTAGA_CGCCCGGA',\n",
       "       'CTAAGGTC_AGCCATGC_AAACGATA', ..., 'AGATGTAC_CCAGTTCA_CATTTGGA',\n",
       "       'ACCACTGT_AGATCGCA_GCCGTGTA', 'GATGAATC_CCGAAGTA_AAACGATA'],\n",
       "      dtype=object)"
      ]
     },
     "execution_count": 15,
     "metadata": {},
     "output_type": "execute_result"
    }
   ],
   "source": [
    "cell_metadata[\"star_barcode\"].values"
   ]
  },
  {
   "cell_type": "code",
   "execution_count": 16,
   "id": "junior-ethernet",
   "metadata": {},
   "outputs": [
    {
     "data": {
      "text/plain": [
       "Index(['ACTATGCA_CGACACAC_CTGTCCCG', 'GACAGTGC_GTCGTAGA_CGCCCGGA',\n",
       "       'CTAAGGTC_AGCCATGC_AAACGATA', 'CCTCTATC_CACTTCGA_TTCGCTAC',\n",
       "       'TCTTCACA_CATCAAGT_TTCGCTAC', 'GAGTTAGC_CTAAGGTC_CTTTGGTC',\n",
       "       'CAGATCTG_CTGTAGCC_TGCTTGGG', 'AAGGACAC_AAACATCG_CACAATTG',\n",
       "       'AAGACGGA_AATGTTGC_ACTCGTAA', 'GAACAGGC_CCGAAGTA_TACTCGAA',\n",
       "       ...\n",
       "       'TCCGTCTA_AGCAGGAA_TGCTTGGG', 'AACGCTTA_AGTACAAG_GTTACGTA',\n",
       "       'CACCTTAC_ATTGAGGA_ACTCGTAA', 'CCGAAGTA_CCTCCTGA_TGTCTGAA',\n",
       "       'AGTCACTA_CTGGCATA_TTCCGATC', 'ATCCTGTA_CCTCCTGA_TTCGCTAC',\n",
       "       'AGATCGCA_GATGAATC_GTCGCGCG', 'AGATGTAC_CCAGTTCA_CATTTGGA',\n",
       "       'ACCACTGT_AGATCGCA_GCCGTGTA', 'GATGAATC_CCGAAGTA_AAACGATA'],\n",
       "      dtype='object', length=158439)"
      ]
     },
     "execution_count": 16,
     "metadata": {},
     "output_type": "execute_result"
    }
   ],
   "source": [
    "ucirun.obs_names = cell_metadata[\"star_barcode\"].values\n",
    "ucirun.obs_names"
   ]
  },
  {
   "cell_type": "code",
   "execution_count": 17,
   "id": "violent-hamburg",
   "metadata": {},
   "outputs": [
    {
     "data": {
      "text/html": [
       "<div>\n",
       "<style scoped>\n",
       "    .dataframe tbody tr th:only-of-type {\n",
       "        vertical-align: middle;\n",
       "    }\n",
       "\n",
       "    .dataframe tbody tr th {\n",
       "        vertical-align: top;\n",
       "    }\n",
       "\n",
       "    .dataframe thead th {\n",
       "        text-align: right;\n",
       "    }\n",
       "</style>\n",
       "<table border=\"1\" class=\"dataframe\">\n",
       "  <thead>\n",
       "    <tr style=\"text-align: right;\">\n",
       "      <th></th>\n",
       "      <th>gene_id</th>\n",
       "      <th>gene_name</th>\n",
       "      <th>genome</th>\n",
       "    </tr>\n",
       "  </thead>\n",
       "  <tbody>\n",
       "    <tr>\n",
       "      <th>0</th>\n",
       "      <td>ENSMUSG00000000001.4</td>\n",
       "      <td>Gnai3</td>\n",
       "      <td>mm10</td>\n",
       "    </tr>\n",
       "    <tr>\n",
       "      <th>1</th>\n",
       "      <td>ENSMUSG00000000003.15</td>\n",
       "      <td>Pbsn</td>\n",
       "      <td>mm10</td>\n",
       "    </tr>\n",
       "    <tr>\n",
       "      <th>2</th>\n",
       "      <td>ENSMUSG00000000028.15</td>\n",
       "      <td>Cdc45</td>\n",
       "      <td>mm10</td>\n",
       "    </tr>\n",
       "    <tr>\n",
       "      <th>3</th>\n",
       "      <td>ENSMUSG00000000031.16</td>\n",
       "      <td>H19</td>\n",
       "      <td>mm10</td>\n",
       "    </tr>\n",
       "    <tr>\n",
       "      <th>4</th>\n",
       "      <td>ENSMUSG00000000037.16</td>\n",
       "      <td>Scml2</td>\n",
       "      <td>mm10</td>\n",
       "    </tr>\n",
       "    <tr>\n",
       "      <th>...</th>\n",
       "      <td>...</td>\n",
       "      <td>...</td>\n",
       "      <td>...</td>\n",
       "    </tr>\n",
       "    <tr>\n",
       "      <th>29355</th>\n",
       "      <td>ENSMUSG00000118382.1</td>\n",
       "      <td>AC165962.4</td>\n",
       "      <td>mm10</td>\n",
       "    </tr>\n",
       "    <tr>\n",
       "      <th>29356</th>\n",
       "      <td>ENSMUSG00000118383.1</td>\n",
       "      <td>AC132253.9</td>\n",
       "      <td>mm10</td>\n",
       "    </tr>\n",
       "    <tr>\n",
       "      <th>29357</th>\n",
       "      <td>ENSMUSG00000118387.1</td>\n",
       "      <td>AC115789.5</td>\n",
       "      <td>mm10</td>\n",
       "    </tr>\n",
       "    <tr>\n",
       "      <th>29358</th>\n",
       "      <td>ENSMUSG00000118391.1</td>\n",
       "      <td>AC102232.1</td>\n",
       "      <td>mm10</td>\n",
       "    </tr>\n",
       "    <tr>\n",
       "      <th>29359</th>\n",
       "      <td>ENSMUSG00000118392.1</td>\n",
       "      <td>4930524O05Rik</td>\n",
       "      <td>mm10</td>\n",
       "    </tr>\n",
       "  </tbody>\n",
       "</table>\n",
       "<p>29284 rows × 3 columns</p>\n",
       "</div>"
      ],
      "text/plain": [
       "                     gene_id      gene_name genome\n",
       "0       ENSMUSG00000000001.4          Gnai3   mm10\n",
       "1      ENSMUSG00000000003.15           Pbsn   mm10\n",
       "2      ENSMUSG00000000028.15          Cdc45   mm10\n",
       "3      ENSMUSG00000000031.16            H19   mm10\n",
       "4      ENSMUSG00000000037.16          Scml2   mm10\n",
       "...                      ...            ...    ...\n",
       "29355   ENSMUSG00000118382.1     AC165962.4   mm10\n",
       "29356   ENSMUSG00000118383.1     AC132253.9   mm10\n",
       "29357   ENSMUSG00000118387.1     AC115789.5   mm10\n",
       "29358   ENSMUSG00000118391.1     AC102232.1   mm10\n",
       "29359   ENSMUSG00000118392.1  4930524O05Rik   mm10\n",
       "\n",
       "[29284 rows x 3 columns]"
      ]
     },
     "execution_count": 17,
     "metadata": {},
     "output_type": "execute_result"
    }
   ],
   "source": [
    "genes = pandas.read_csv(urljoin(erebboah_base, \"genes.csv\"), index_col=0)\n",
    "genes"
   ]
  },
  {
   "cell_type": "code",
   "execution_count": 18,
   "id": "noted-croatia",
   "metadata": {},
   "outputs": [
    {
     "data": {
      "text/plain": [
       "array(['Gnai3', 'Pbsn', 'Cdc45', ..., 'AC115789.5', 'AC102232.1',\n",
       "       '4930524O05Rik'], dtype=object)"
      ]
     },
     "execution_count": 18,
     "metadata": {},
     "output_type": "execute_result"
    }
   ],
   "source": [
    "genes[\"gene_name\"].values"
   ]
  },
  {
   "cell_type": "code",
   "execution_count": 19,
   "id": "original-aquatic",
   "metadata": {},
   "outputs": [],
   "source": [
    "ucirun.var_names = genes[\"gene_id\"]\n",
    "ucirun.var[\"gene_name\"] = genes[\"gene_name\"].values"
   ]
  },
  {
   "cell_type": "code",
   "execution_count": 20,
   "id": "robust-sympathy",
   "metadata": {},
   "outputs": [],
   "source": [
    "mt_prefix = re.compile(\"^mt[-_]\", re.I)\n",
    "ucirun.var[\"mt\"] = ucirun.var[\"gene_name\"].apply(lambda x: mt_prefix.match(x) is not None)\n",
    "scanpy.pp.calculate_qc_metrics(\n",
    "    ucirun, qc_vars=[\"mt\"], percent_top=None, log1p=False, inplace=True\n",
    ")\n"
   ]
  },
  {
   "cell_type": "code",
   "execution_count": 21,
   "id": "unlike-singapore",
   "metadata": {},
   "outputs": [
    {
     "data": {
      "image/png": "[encoded data removed]",
      "text/plain": [
       "<Figure size 287.528x488.889 with 4 Axes>"
      ]
     },
     "metadata": {
      "needs_background": "light"
     },
     "output_type": "display_data"
    }
   ],
   "source": [
    "upset_gene_contents = upsetplot.from_contents({\n",
    "    'myrun': myrun.var_names,\n",
    "    'myrunem': myrunem.var_names,\n",
    "    'myrun_raw': myrun_raw.var_names,\n",
    "    'myrunem_raw': myrunem_raw.var_names,\n",
    "    'ucirun': ucirun.var_names,\n",
    "})\n",
    "f = pyplot.figure(dpi=100)\n",
    "_ = upsetplot.plot(upset_gene_contents, fig=f, show_counts=True)"
   ]
  },
  {
   "cell_type": "code",
   "execution_count": 22,
   "id": "unlike-advance",
   "metadata": {},
   "outputs": [
    {
     "data": {
      "text/plain": [
       "(3698, (3698,))"
      ]
     },
     "execution_count": 22,
     "metadata": {},
     "output_type": "execute_result"
    }
   ],
   "source": [
    "len(set(myrun.obs_names)), myrun.obs_names.shape"
   ]
  },
  {
   "cell_type": "code",
   "execution_count": 23,
   "id": "incoming-scope",
   "metadata": {},
   "outputs": [
    {
     "data": {
      "text/plain": [
       "(158439, (158439,))"
      ]
     },
     "execution_count": 23,
     "metadata": {},
     "output_type": "execute_result"
    }
   ],
   "source": [
    "len(set(ucirun.obs_names)), ucirun.obs_names.shape"
   ]
  },
  {
   "cell_type": "code",
   "execution_count": 24,
   "id": "internal-yesterday",
   "metadata": {},
   "outputs": [
    {
     "data": {
      "image/png": "[encoded data removed]",
      "text/plain": [
       "<Figure size 376.417x488.889 with 4 Axes>"
      ]
     },
     "metadata": {
      "needs_background": "light"
     },
     "output_type": "display_data"
    }
   ],
   "source": [
    "upset_barcode_contents = upsetplot.from_contents({\n",
    "    'myrun': myrun.obs_names,\n",
    "    'myrunem': myrunem.obs_names,\n",
    "    'myrun_raw': myrun_raw.obs_names,\n",
    "    'myrunem_raw': myrunem_raw.obs_names,\n",
    "    'ucirun': set(ucirun.obs_names),\n",
    "})\n",
    "f = pyplot.figure(dpi=100)\n",
    "_ = upsetplot.plot(upset_barcode_contents, fig=f, show_counts=True)"
   ]
  },
  {
   "cell_type": "code",
   "execution_count": 25,
   "id": "owned-blake",
   "metadata": {},
   "outputs": [],
   "source": [
    "warnings.filterwarnings(\"ignore\", \"Vertical orientation\")"
   ]
  },
  {
   "cell_type": "markdown",
   "id": "grand-coalition",
   "metadata": {},
   "source": [
    "# STAR Violin"
   ]
  },
  {
   "cell_type": "code",
   "execution_count": 26,
   "id": "indonesian-therapy",
   "metadata": {},
   "outputs": [
    {
     "name": "stderr",
     "output_type": "stream",
     "text": [
      "... storing 'gene_name' as categorical\n"
     ]
    },
    {
     "data": {
      "image/png": "[encoded data removed]",
      "text/plain": [
       "<Figure size 648x216 with 3 Axes>"
      ]
     },
     "metadata": {
      "needs_background": "light"
     },
     "output_type": "display_data"
    }
   ],
   "source": [
    "ag = generate_violin_plot(myrun)"
   ]
  },
  {
   "cell_type": "markdown",
   "id": "downtown-battlefield",
   "metadata": {},
   "source": [
    "# STAR Violin EM"
   ]
  },
  {
   "cell_type": "code",
   "execution_count": 27,
   "id": "governmental-attendance",
   "metadata": {},
   "outputs": [
    {
     "name": "stderr",
     "output_type": "stream",
     "text": [
      "... storing 'gene_name' as categorical\n"
     ]
    },
    {
     "data": {
      "image/png": "[encoded data removed]",
      "text/plain": [
       "<Figure size 648x216 with 3 Axes>"
      ]
     },
     "metadata": {
      "needs_background": "light"
     },
     "output_type": "display_data"
    }
   ],
   "source": [
    "ag = generate_violin_plot(myrunem)"
   ]
  },
  {
   "cell_type": "markdown",
   "id": "willing-examination",
   "metadata": {},
   "source": [
    "# UCI Violin"
   ]
  },
  {
   "cell_type": "code",
   "execution_count": 28,
   "id": "growing-speaking",
   "metadata": {},
   "outputs": [
    {
     "name": "stderr",
     "output_type": "stream",
     "text": [
      "... storing 'gene_name' as categorical\n"
     ]
    },
    {
     "data": {
      "image/png": "[encoded data removed]",
      "text/plain": [
       "<Figure size 648x216 with 3 Axes>"
      ]
     },
     "metadata": {
      "needs_background": "light"
     },
     "output_type": "display_data"
    }
   ],
   "source": [
    "ag = generate_violin_plot(ucirun)"
   ]
  },
  {
   "cell_type": "markdown",
   "id": "superior-roots",
   "metadata": {},
   "source": [
    "# STAR pct mt"
   ]
  },
  {
   "cell_type": "code",
   "execution_count": 29,
   "id": "selective-crystal",
   "metadata": {},
   "outputs": [
    {
     "data": {
      "image/png": "[encoded data removed]",
      "text/plain": [
       "<Figure size 432x288 with 1 Axes>"
      ]
     },
     "metadata": {
      "needs_background": "light"
     },
     "output_type": "display_data"
    }
   ],
   "source": [
    "f = make_pct_mt_scatter(myrun, \"STAR Uniq\")"
   ]
  },
  {
   "cell_type": "markdown",
   "id": "funny-meditation",
   "metadata": {},
   "source": [
    "# STAR EM pct mt"
   ]
  },
  {
   "cell_type": "code",
   "execution_count": 30,
   "id": "excellent-rally",
   "metadata": {},
   "outputs": [
    {
     "data": {
      "image/png": "[encoded data removed]",
      "text/plain": [
       "<Figure size 432x288 with 1 Axes>"
      ]
     },
     "metadata": {
      "needs_background": "light"
     },
     "output_type": "display_data"
    }
   ],
   "source": [
    "f = make_pct_mt_scatter(myrunem, \"STAR EM\")"
   ]
  },
  {
   "cell_type": "markdown",
   "id": "short-rebate",
   "metadata": {},
   "source": [
    "# UCI pct mt"
   ]
  },
  {
   "cell_type": "code",
   "execution_count": 31,
   "id": "motivated-knitting",
   "metadata": {},
   "outputs": [
    {
     "data": {
      "image/png": "[encoded data removed]",
      "text/plain": [
       "<Figure size 432x288 with 1 Axes>"
      ]
     },
     "metadata": {
      "needs_background": "light"
     },
     "output_type": "display_data"
    }
   ],
   "source": [
    "f = make_pct_mt_scatter(ucirun, \"splitpipe\")"
   ]
  },
  {
   "cell_type": "markdown",
   "id": "indian-action",
   "metadata": {},
   "source": [
    "# STAR gene by count"
   ]
  },
  {
   "cell_type": "code",
   "execution_count": 32,
   "id": "following-picking",
   "metadata": {},
   "outputs": [
    {
     "data": {
      "image/png": "[encoded data removed]",
      "text/plain": [
       "<Figure size 432x288 with 1 Axes>"
      ]
     },
     "metadata": {
      "needs_background": "light"
     },
     "output_type": "display_data"
    }
   ],
   "source": [
    "f = make_gene_by_count_scatter(myrun, \"STAR Uniq\")"
   ]
  },
  {
   "cell_type": "markdown",
   "id": "lonely-galaxy",
   "metadata": {},
   "source": [
    "# STAR EM gene by count"
   ]
  },
  {
   "cell_type": "code",
   "execution_count": 33,
   "id": "electrical-television",
   "metadata": {},
   "outputs": [
    {
     "data": {
      "image/png": "[encoded data removed]",
      "text/plain": [
       "<Figure size 432x288 with 1 Axes>"
      ]
     },
     "metadata": {
      "needs_background": "light"
     },
     "output_type": "display_data"
    }
   ],
   "source": [
    "f = make_gene_by_count_scatter(myrunem, \"STAR EM\")"
   ]
  },
  {
   "cell_type": "markdown",
   "id": "stuffed-hamburg",
   "metadata": {},
   "source": [
    "# UCI gene by count"
   ]
  },
  {
   "cell_type": "code",
   "execution_count": 34,
   "id": "agreed-understanding",
   "metadata": {},
   "outputs": [
    {
     "data": {
      "image/png": "[encoded data removed]",
      "text/plain": [
       "<Figure size 432x288 with 1 Axes>"
      ]
     },
     "metadata": {
      "needs_background": "light"
     },
     "output_type": "display_data"
    }
   ],
   "source": [
    "f = make_gene_by_count_scatter(ucirun, \"splitpipe\")"
   ]
  },
  {
   "cell_type": "markdown",
   "id": "annual-scroll",
   "metadata": {},
   "source": [
    "# STAR highest genes"
   ]
  },
  {
   "cell_type": "code",
   "execution_count": 35,
   "id": "dangerous-spray",
   "metadata": {},
   "outputs": [
    {
     "data": {
      "image/png": "[encoded data removed]",
      "text/plain": [
       "<Figure size 360x396 with 1 Axes>"
      ]
     },
     "metadata": {
      "needs_background": "light"
     },
     "output_type": "display_data"
    }
   ],
   "source": [
    "scanpy.pl.highest_expr_genes(myrun, n_top=20, gene_symbols=\"gene_name\")"
   ]
  },
  {
   "cell_type": "markdown",
   "id": "twenty-adoption",
   "metadata": {},
   "source": [
    "# STAR EM highest genes"
   ]
  },
  {
   "cell_type": "code",
   "execution_count": 36,
   "id": "unavailable-peace",
   "metadata": {},
   "outputs": [
    {
     "data": {
      "image/png": "[encoded data removed]",
      "text/plain": [
       "<Figure size 360x396 with 1 Axes>"
      ]
     },
     "metadata": {
      "needs_background": "light"
     },
     "output_type": "display_data"
    }
   ],
   "source": [
    "scanpy.pl.highest_expr_genes(myrunem, n_top=20, gene_symbols=\"gene_name\")"
   ]
  },
  {
   "cell_type": "markdown",
   "id": "egyptian-raise",
   "metadata": {},
   "source": [
    "# UCI highest genes"
   ]
  },
  {
   "cell_type": "code",
   "execution_count": 37,
   "id": "attempted-adrian",
   "metadata": {},
   "outputs": [
    {
     "data": {
      "image/png": "[encoded data removed]",
      "text/plain": [
       "<Figure size 360x396 with 1 Axes>"
      ]
     },
     "metadata": {
      "needs_background": "light"
     },
     "output_type": "display_data"
    }
   ],
   "source": [
    "scanpy.pl.highest_expr_genes(ucirun, n_top=20, gene_symbols=\"gene_name\")"
   ]
  },
  {
   "cell_type": "markdown",
   "id": "southwest-crowd",
   "metadata": {},
   "source": [
    "# STAR expression sum"
   ]
  },
  {
   "cell_type": "code",
   "execution_count": 38,
   "id": "incoming-characteristic",
   "metadata": {},
   "outputs": [
    {
     "data": {
      "text/plain": [
       "11942341.0"
      ]
     },
     "execution_count": 38,
     "metadata": {},
     "output_type": "execute_result"
    }
   ],
   "source": [
    "myrun.X.sum()"
   ]
  },
  {
   "cell_type": "code",
   "execution_count": 39,
   "id": "selective-eclipse",
   "metadata": {},
   "outputs": [
    {
     "data": {
      "text/plain": [
       "28421978.0"
      ]
     },
     "execution_count": 39,
     "metadata": {},
     "output_type": "execute_result"
    }
   ],
   "source": [
    "myrun_raw.X.sum()"
   ]
  },
  {
   "cell_type": "markdown",
   "id": "ahead-adaptation",
   "metadata": {},
   "source": [
    "# STAR EM expression sum"
   ]
  },
  {
   "cell_type": "code",
   "execution_count": 40,
   "id": "arctic-objective",
   "metadata": {},
   "outputs": [
    {
     "data": {
      "text/plain": [
       "12324492.0"
      ]
     },
     "execution_count": 40,
     "metadata": {},
     "output_type": "execute_result"
    }
   ],
   "source": [
    "myrunem.X.sum()"
   ]
  },
  {
   "cell_type": "code",
   "execution_count": 41,
   "id": "upper-trademark",
   "metadata": {},
   "outputs": [
    {
     "data": {
      "text/plain": [
       "29346800.0"
      ]
     },
     "execution_count": 41,
     "metadata": {},
     "output_type": "execute_result"
    }
   ],
   "source": [
    "myrunem_raw.X.sum()"
   ]
  },
  {
   "cell_type": "markdown",
   "id": "tired-diagram",
   "metadata": {},
   "source": [
    "# UCI expression sum"
   ]
  },
  {
   "cell_type": "code",
   "execution_count": 42,
   "id": "median-triumph",
   "metadata": {},
   "outputs": [
    {
     "data": {
      "text/plain": [
       "26569126.0"
      ]
     },
     "execution_count": 42,
     "metadata": {},
     "output_type": "execute_result"
    }
   ],
   "source": [
    "ucirun.X.sum()"
   ]
  },
  {
   "cell_type": "markdown",
   "id": "center-marketplace",
   "metadata": {},
   "source": [
    "# WARNING\n",
    "\n",
    "There are duplicate UCI barcodes after making them compatible with star. I think they had a _pbN after them. This code ends up using the first of the barcodes to compare with the STAR run."
   ]
  },
  {
   "cell_type": "code",
   "execution_count": 43,
   "id": "separated-stadium",
   "metadata": {},
   "outputs": [],
   "source": [
    "ucirun.obs_names_make_unique()"
   ]
  },
  {
   "cell_type": "code",
   "execution_count": 44,
   "id": "liked-friendship",
   "metadata": {},
   "outputs": [],
   "source": [
    "def compute_spearman_pandas(left, right):\n",
    "    assert left.shape == right.shape, \"Shapes must be the same\"\n",
    "\n",
    "    cors=[]\n",
    "    for c in left.columns:\n",
    "        cors.append(scipy.stats.spearmanr(left[c], right[c])[0])\n",
    "    cors = pandas.Series(cors, index=left.columns)\n",
    "    return cors\n"
   ]
  },
  {
   "cell_type": "code",
   "execution_count": 45,
   "id": "compliant-sample",
   "metadata": {},
   "outputs": [],
   "source": [
    "def compute_correlations(tables):\n",
    "    programs = list(tables.keys())\n",
    "    cell_correlations = {}\n",
    "\n",
    "    for name_x in programs:\n",
    "        for name_y in programs[programs.index(name_x):]:\n",
    "            assert tables[name_x].shape == tables[name_y].shape\n",
    "            cs_cors = compute_spearman_pandas(tables[name_x], tables[name_y])\n",
    "            assert len(cs_cors) == len(tables[name_x].columns)\n",
    "            cell_correlations.setdefault(name_x, {})[name_y] = cs_cors\n",
    "    return cell_correlations"
   ]
  },
  {
   "cell_type": "code",
   "execution_count": 46,
   "id": "charming-loading",
   "metadata": {},
   "outputs": [],
   "source": [
    "def set_all_spines(ax, state):\n",
    "    for name in [\"left\", \"right\", \"top\", \"bottom\"]:\n",
    "        ax.spines[name].set_visible(state)\n",
    "        ax.tick_params(\n",
    "            axis='both', \n",
    "            which='both', \n",
    "            bottom=False,\n",
    "            labelbottom=False, \n",
    "            top=False, \n",
    "            labeltop=False,\n",
    "            right=False,\n",
    "            labelright=False,\n",
    "            left=False, \n",
    "            labelleft=False)\n",
    "\n",
    "\n",
    "def plot_cell_correlation_histogram(\n",
    "    table, *, programs=None, bins=50, y_annot=0.6, count_nans=False, \n",
    "    correlation_name='Spearman',\n",
    "    xlim=None\n",
    "):\n",
    "    #fontname = 'Arial'\n",
    "    override_labels = {\n",
    "        'Alevin': 'Salmon Alevin (EM)',\n",
    "        'Kallisto EM': 'Kallisto Bus (EM)'\n",
    "    }\n",
    "    fontname = 'DejaVu Sans'\n",
    "    fontsize = 14    \n",
    "    if programs is None:\n",
    "        programs = list(table.keys())\n",
    "    cell_hists = {}\n",
    "    f = pyplot.figure(figsize=(7,7))\n",
    "    #f.suptitle('Per-cell {} correlation'.format(correlation_name), fontsize=fontsize)\n",
    "    plot_size = len(programs)-1\n",
    "\n",
    "    axes = f.subplots(plot_size, plot_size, sharex=True, sharey=True)\n",
    "    \n",
    "    for i in range(0, plot_size):\n",
    "        for j in range(i+1, plot_size):\n",
    "            set_all_spines(axes[i, j], False)\n",
    "\n",
    "    if plot_size == 1:\n",
    "        axes = numpy.asarray([[axes]])\n",
    "\n",
    "    for x, name_x in enumerate(programs):\n",
    "        for y, name_y in enumerate(programs[programs.index(name_x)+1:]):\n",
    "            x_label = override_labels.get(name_x, name_x)\n",
    "            y_label = override_labels.get(name_y, name_y)\n",
    "            #plot_index = plot_size * (y+x) + x + 1\n",
    "            #ax = f.add_subplot(plot_size, plot_size, plot_index)\n",
    "            ax = axes[y+x, x]\n",
    "            if xlim is not None:\n",
    "                ax.set_xlim(xlim)\n",
    "            #set_all_spines(ax, True)\n",
    "            if x == 0:\n",
    "                ax.set_ylabel(y_label, fontname=fontname, fontsize=fontsize)\n",
    "\n",
    "            spearman = table[name_x][name_y]\n",
    "            spearman = numpy.array(spearman)\n",
    "            spearman = spearman[~numpy.isnan(spearman)]\n",
    "            count = len(spearman)\n",
    "            median = numpy.median(spearman)\n",
    "            mean = numpy.mean(spearman)\n",
    "            cell_hists.setdefault(name_x, {})[name_y] = ax.hist(spearman, bins=bins, density=True)\n",
    "            nantext=\"\"\n",
    "            if count_nans:\n",
    "                nantext=\"\\nNaNs {}\".format(table[name_x][name_y].isna().sum())\n",
    "            ax.annotate(f'Mean {mean:0.2}\\nMedian {median:0.2}\\nCells {count}{nantext}', xy=(0.1, y_annot), xycoords='axes fraction')\n",
    "            #ax.annotate(f'Mean {mean}\\nMedian {median}\\nCells {count}{nantext}', xy=(0.1, y_annot), xycoords='axes fraction')\n",
    "    for y in range(plot_size):\n",
    "        x_label = override_labels.get(programs[y], programs[y])\n",
    "        axes[0, y].set_title(x_label, fontname=fontname, fontsize=fontsize)\n",
    "        axes[plot_size-1, y].set_xlabel(x_label, fontname=fontname, fontsize=fontsize)\n",
    "    #f.tight_layout()\n",
    "    return f"
   ]
  },
  {
   "cell_type": "code",
   "execution_count": 47,
   "id": "careful-monday",
   "metadata": {},
   "outputs": [],
   "source": [
    "common_cell_set = set(ucirun.obs_names).intersection(myrun.obs_names)\n",
    "common_gene_set = set(ucirun.var_names).intersection(myrun.var_names)\n",
    "\n",
    "common_cells = [x for x in ucirun.obs_names if x in common_cell_set]\n",
    "common_genes = [x for x in ucirun.var_names if x in common_gene_set]"
   ]
  },
  {
   "cell_type": "code",
   "execution_count": 48,
   "id": "official-transmission",
   "metadata": {},
   "outputs": [
    {
     "data": {
      "text/plain": [
       "View of AnnData object with n_obs × n_vars = 2232 × 29284\n",
       "    obs: 'counts', 'ngenes', 'n_genes_by_counts', 'total_counts', 'total_counts_mt', 'pct_counts_mt'\n",
       "    var: 'gene_name', 'mt', 'n_cells_by_counts', 'mean_counts', 'pct_dropout_by_counts', 'total_counts'"
      ]
     },
     "execution_count": 48,
     "metadata": {},
     "output_type": "execute_result"
    }
   ],
   "source": [
    "myrun[common_cells,common_genes]"
   ]
  },
  {
   "cell_type": "code",
   "execution_count": null,
   "id": "violent-asian",
   "metadata": {},
   "outputs": [],
   "source": []
  },
  {
   "cell_type": "code",
   "execution_count": 49,
   "id": "worldwide-hollow",
   "metadata": {},
   "outputs": [],
   "source": [
    "datasets = {\n",
    "    \"myrun\": myrun[common_cells, common_genes].to_df().T,\n",
    "    \"myrun em\": myrunem[common_cells, common_genes].to_df().T,\n",
    "    \"ucirun\": ucirun[common_cells, common_genes].to_df().T,\n",
    "}"
   ]
  },
  {
   "cell_type": "code",
   "execution_count": 50,
   "id": "unavailable-delhi",
   "metadata": {},
   "outputs": [],
   "source": [
    "cors = compute_correlations(datasets)"
   ]
  },
  {
   "cell_type": "markdown",
   "id": "ethical-somalia",
   "metadata": {},
   "source": [
    "# All vs All Spearman Correlation"
   ]
  },
  {
   "cell_type": "code",
   "execution_count": 51,
   "id": "cheap-smoke",
   "metadata": {},
   "outputs": [
    {
     "data": {
      "image/png": "[encoded data removed]",
      "text/plain": [
       "<Figure size 504x504 with 4 Axes>"
      ]
     },
     "metadata": {
      "needs_background": "light"
     },
     "output_type": "display_data"
    }
   ],
   "source": [
    "f = plot_cell_correlation_histogram(cors)"
   ]
  },
  {
   "cell_type": "markdown",
   "id": "completed-carbon",
   "metadata": {},
   "source": [
    "# All vs All less filtered Spearman Correlation calculation"
   ]
  },
  {
   "cell_type": "code",
   "execution_count": 52,
   "id": "accessible-tuner",
   "metadata": {},
   "outputs": [
    {
     "name": "stderr",
     "output_type": "stream",
     "text": [
      "/usr/lib/python3/dist-packages/scipy/stats/stats.py:4264: SpearmanRConstantInputWarning: An input array is constant; the correlation coefficent is not defined.\n",
      "  warnings.warn(SpearmanRConstantInputWarning())\n"
     ]
    }
   ],
   "source": [
    "raw_common_cell_set = set(ucirun.obs_names).intersection(myrun_raw.obs_names)\n",
    "raw_common_gene_set = set(ucirun.var_names).intersection(myrun_raw.var_names)\n",
    "\n",
    "raw_common_cells = [x for x in ucirun.obs_names if x in raw_common_cell_set]\n",
    "raw_common_genes = [x for x in ucirun.var_names if x in raw_common_gene_set]\n",
    "\n",
    "raw_datasets = {\n",
    "    \"myrun raw\": myrun_raw[raw_common_cells, raw_common_genes].to_df().T,\n",
    "    \"myrun em raw\": myrunem_raw[raw_common_cells, raw_common_genes].to_df().T,\n",
    "    \"ucirun\": ucirun[raw_common_cells, raw_common_genes].to_df().T,\n",
    "}\n",
    "\n",
    "raw_cors = compute_correlations(raw_datasets)"
   ]
  },
  {
   "cell_type": "code",
   "execution_count": 53,
   "id": "underlying-eleven",
   "metadata": {},
   "outputs": [
    {
     "data": {
      "text/plain": [
       "Index(['AAACATCG_AAACATCG_AAACGATA', 'AACAACCA_AAACATCG_AAACGATA',\n",
       "       'AACCGAGA_AAACATCG_AAACGATA', 'AACGCTTA_AAACATCG_AAACGATA',\n",
       "       'AACGTGAT_AAACATCG_AAACGATA', 'AACTCACC_AAACATCG_AAACGATA',\n",
       "       'AAGACGGA_AAACATCG_AAACGATA', 'AAGAGATC_AAACATCG_AAACGATA',\n",
       "       'AAGGACAC_AAACATCG_AAACGATA', 'AAGGTACA_AAACATCG_AAACGATA',\n",
       "       ...\n",
       "       'GTGTTCTA_TTCACGCA_TTGTCTTA', 'TAGGATGA_TTCACGCA_TTGTCTTA',\n",
       "       'TATCAGCA_TTCACGCA_TTGTCTTA', 'TCCGTCTA_TTCACGCA_TTGTCTTA',\n",
       "       'TCTTCACA_TTCACGCA_TTGTCTTA', 'TGAAGAGA_TTCACGCA_TTGTCTTA',\n",
       "       'TGGAACAA_TTCACGCA_TTGTCTTA', 'TGGCTTCA_TTCACGCA_TTGTCTTA',\n",
       "       'TGGTGGTA_TTCACGCA_TTGTCTTA', 'TTCACGCA_TTCACGCA_TTGTCTTA'],\n",
       "      dtype='object', length=884736)"
      ]
     },
     "execution_count": 53,
     "metadata": {},
     "output_type": "execute_result"
    }
   ],
   "source": [
    "myrun_raw.obs_names"
   ]
  },
  {
   "cell_type": "code",
   "execution_count": 54,
   "id": "animated-colleague",
   "metadata": {},
   "outputs": [
    {
     "data": {
      "text/plain": [
       "(15559368.0, 28410996.0, 15552656.0)"
      ]
     },
     "execution_count": 54,
     "metadata": {},
     "output_type": "execute_result"
    }
   ],
   "source": [
    "myrun_raw[raw_common_cells, :].X.sum(), myrun_raw[:, raw_common_genes].X.sum(), myrun_raw[raw_common_cells, raw_common_genes].X.sum()"
   ]
  },
  {
   "cell_type": "code",
   "execution_count": 55,
   "id": "understanding-display",
   "metadata": {},
   "outputs": [
    {
     "name": "stdout",
     "output_type": "stream",
     "text": [
      "myrun raw (29284, 158439)\n",
      "myrun em raw (29284, 158439)\n",
      "ucirun (29284, 158439)\n"
     ]
    }
   ],
   "source": [
    "for key in raw_datasets:\n",
    "    print(key, raw_datasets[key].shape)"
   ]
  },
  {
   "cell_type": "code",
   "execution_count": 56,
   "id": "sought-imperial",
   "metadata": {},
   "outputs": [
    {
     "data": {
      "text/plain": [
       "15552656.0"
      ]
     },
     "execution_count": 56,
     "metadata": {},
     "output_type": "execute_result"
    }
   ],
   "source": [
    "raw_datasets[\"myrun raw\"].sum().sum()"
   ]
  },
  {
   "cell_type": "markdown",
   "id": "christian-supplier",
   "metadata": {},
   "source": [
    "# All vs All less filtered Spearman Correlation"
   ]
  },
  {
   "cell_type": "code",
   "execution_count": 57,
   "id": "surprising-lemon",
   "metadata": {},
   "outputs": [
    {
     "data": {
      "image/png": "[encoded data removed]",
      "text/plain": [
       "<Figure size 504x504 with 4 Axes>"
      ]
     },
     "metadata": {
      "needs_background": "light"
     },
     "output_type": "display_data"
    }
   ],
   "source": [
    "f = plot_cell_correlation_histogram(raw_cors)"
   ]
  },
  {
   "cell_type": "code",
   "execution_count": 62,
   "id": "reduced-report",
   "metadata": {},
   "outputs": [
    {
     "data": {
      "text/plain": [
       "View of AnnData object with n_obs × n_vars = 3698 × 27795\n",
       "    obs: 'counts', 'ngenes', 'n_genes_by_counts', 'total_counts', 'total_counts_mt', 'pct_counts_mt'\n",
       "    var: 'gene_name', 'mt', 'n_cells_by_counts', 'mean_counts', 'pct_dropout_by_counts', 'total_counts'"
      ]
     },
     "execution_count": 62,
     "metadata": {},
     "output_type": "execute_result"
    }
   ],
   "source": [
    "myrun[:, myrun.var[\"total_counts\"] > 0]"
   ]
  },
  {
   "cell_type": "code",
   "execution_count": 63,
   "id": "lesbian-variety",
   "metadata": {},
   "outputs": [
    {
     "data": {
      "text/plain": [
       "AnnData object with n_obs × n_vars = 3698 × 81881\n",
       "    obs: 'counts', 'ngenes', 'n_genes_by_counts', 'total_counts', 'total_counts_mt', 'pct_counts_mt'\n",
       "    var: 'gene_name', 'mt', 'n_cells_by_counts', 'mean_counts', 'pct_dropout_by_counts', 'total_counts'"
      ]
     },
     "execution_count": 63,
     "metadata": {},
     "output_type": "execute_result"
    }
   ],
   "source": [
    "myrun"
   ]
  },
  {
   "cell_type": "code",
   "execution_count": null,
   "id": "severe-accused",
   "metadata": {},
   "outputs": [],
   "source": []
  }
 ],
 "metadata": {
  "kernelspec": {
   "display_name": "Python 3",
   "language": "python",
   "name": "python3"
  },
  "language_info": {
   "codemirror_mode": {
    "name": "ipython",
    "version": 3
   },
   "file_extension": ".py",
   "mimetype": "text/x-python",
   "name": "python",
   "nbconvert_exporter": "python",
   "pygments_lexer": "ipython3",
   "version": "3.9.1+"
  }
 },
 "nbformat": 4,
 "nbformat_minor": 5
}
