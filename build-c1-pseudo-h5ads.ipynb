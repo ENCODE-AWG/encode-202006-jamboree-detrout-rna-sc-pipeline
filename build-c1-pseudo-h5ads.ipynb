{
 "cells": [
  {
   "cell_type": "markdown",
   "metadata": {},
   "source": [
    "# Introduction"
   ]
  },
  {
   "cell_type": "markdown",
   "metadata": {},
   "source": [
    "We need to load the per cell C1 quantifications, though only some of the cells are usable.\n",
    "\n",
    "We're moving away from the e10.5 because those were done first and their spike ins are confusing."
   ]
  },
  {
   "cell_type": "code",
   "execution_count": 1,
   "metadata": {},
   "outputs": [],
   "source": [
    "import pandas\n",
    "import scanpy\n",
    "from pathlib import Path\n",
    "import sys\n",
    "from urllib import parse\n",
    "import loompy\n",
    "import re\n",
    "import numpy\n",
    "import anndata"
   ]
  },
  {
   "cell_type": "code",
   "execution_count": 2,
   "metadata": {},
   "outputs": [],
   "source": [
    "LRSC = str(Path('~/proj/long-rna-seq-condor').expanduser())\n",
    "if LRSC not in sys.path:\n",
    "    sys.path.append(LRSC)\n",
    "from woldrnaseq.models import load_experiments, load_library_tables, load_all_star_counts\n",
    "from woldrnaseq.madqc import load_genomic_quantifications, load_transcriptome_quantifications"
   ]
  },
  {
   "cell_type": "code",
   "execution_count": null,
   "metadata": {},
   "outputs": [],
   "source": []
  },
  {
   "cell_type": "code",
   "execution_count": 3,
   "metadata": {},
   "outputs": [],
   "source": [
    "store = pandas.HDFStore(Path('~/proj/genome/mm10-M21-male/mm10-M21-male.h5').expanduser())\n",
    "gtf = store[store.keys()[0]]\n",
    "store.close()\n"
   ]
  },
  {
   "cell_type": "code",
   "execution_count": 4,
   "metadata": {},
   "outputs": [],
   "source": [
    "rsem_gene_counts = scanpy.read_h5ad('c1_e10.5/c1_cell_e10.5_rsem_gene_counts.h5ad')\n",
    "rsem_transcript_counts = scanpy.read_h5ad('c1_e10.5/c1_cell_e10.5_rsem_transcript_counts.h5ad')"
   ]
  },
  {
   "cell_type": "code",
   "execution_count": 5,
   "metadata": {},
   "outputs": [],
   "source": [
    "def load_transcript_map(triplet):\n",
    "    root = Path('genome')\n",
    "    txp_map = {}\n",
    "    with open(root /triplet/'txp2gene.tsv', 'rt') as instream:\n",
    "        for line in instream:\n",
    "            txp, gene = line.rstrip().split('\\t')\n",
    "            txp_map[txp] = gene\n",
    "    return txp_map\n"
   ]
  },
  {
   "cell_type": "code",
   "execution_count": 6,
   "metadata": {},
   "outputs": [
    {
     "data": {
      "text/plain": [
       "168207"
      ]
     },
     "execution_count": 6,
     "metadata": {},
     "output_type": "execute_result"
    }
   ],
   "source": [
    "mm10_M21_map = load_transcript_map('mm10-M21-male')\n",
    "len(mm10_M21_map)"
   ]
  },
  {
   "cell_type": "code",
   "execution_count": 7,
   "metadata": {},
   "outputs": [],
   "source": [
    "def build_anndata(filename, matrix, quantification_name, gtf, feature_type):\n",
    "    gene_info = gtf[gtf['type'].isin(['gene', 'tRNA']) | (gtf['source'] == 'spikein')]\n",
    "    transcript_info = gtf[(gtf['type'].isin(['transcript', 'tRNA'])) | (gtf['source'] == 'spikein')]\n",
    "    \n",
    "    if feature_type == 'gene':\n",
    "        # We have a gene matrix\n",
    "        info = gene_info\n",
    "        info = info.set_index('gene_id')\n",
    "    elif feature_type == 'transcript':\n",
    "        info = transcript_info\n",
    "        info = info.set_index('transcript_id')\n",
    "    else:\n",
    "        raise ValueError('Unrecognized annotation_type {}'.format(\n",
    "            feature_type\n",
    "        ))\n",
    "    gene_names = []\n",
    "    gene_types = []\n",
    "    for feature in matrix.index:\n",
    "        gene_names.append(info.loc[feature, 'gene_name'])\n",
    "        gene_types.append(info.loc[feature, 'gene_type'])\n",
    "\n",
    "    columns = matrix.columns\n",
    "    if 'gene_id' in columns:\n",
    "        columns = columns.drop('gene_id')\n",
    "    quant_matrix = matrix[columns]\n",
    "    adata = anndata.AnnData(quant_matrix.T)\n",
    "    adata.var['gene_symbol'] = gene_names\n",
    "    adata.var['gene_type'] = gene_types\n",
    "    adata.uns['quantification_name'] = quantification_name\n",
    "    adata.uns['feature_type'] = feature_type\n",
    "    \n",
    "    adata.write_h5ad(filename)"
   ]
  },
  {
   "cell_type": "code",
   "execution_count": null,
   "metadata": {},
   "outputs": [],
   "source": []
  },
  {
   "cell_type": "code",
   "execution_count": 8,
   "metadata": {},
   "outputs": [],
   "source": [
    "c1_pseudo = Path('c1_pseudo')"
   ]
  },
  {
   "cell_type": "code",
   "execution_count": 9,
   "metadata": {},
   "outputs": [],
   "source": [
    "c1_kallisto = c1_pseudo / 'kallisto'\n",
    "c1_salmon = c1_pseudo / 'salmon'\n",
    "c1_salmon_decoy = c1_pseudo / 'salmon_decoy'\n",
    "c1_kallisto_minimal = c1_pseudo / 'kallisto_minimal'\n",
    "c1_salmon_minimal = c1_pseudo / 'salmon_minimal'"
   ]
  },
  {
   "cell_type": "code",
   "execution_count": 10,
   "metadata": {},
   "outputs": [],
   "source": [
    "c1_remap_root = Path('~/proj/C1_mouse_limb_combined/all_analysis_M21')"
   ]
  },
  {
   "cell_type": "code",
   "execution_count": 11,
   "metadata": {},
   "outputs": [],
   "source": [
    "libraries = load_library_tables([c1_remap_root / 'libraries-passing.tsv'])"
   ]
  },
  {
   "cell_type": "code",
   "execution_count": 12,
   "metadata": {},
   "outputs": [
    {
     "data": {
      "text/html": [
       "<div>\n",
       "<style scoped>\n",
       "    .dataframe tbody tr th:only-of-type {\n",
       "        vertical-align: middle;\n",
       "    }\n",
       "\n",
       "    .dataframe tbody tr th {\n",
       "        vertical-align: top;\n",
       "    }\n",
       "\n",
       "    .dataframe thead th {\n",
       "        text-align: right;\n",
       "    }\n",
       "</style>\n",
       "<table border=\"1\" class=\"dataframe\">\n",
       "  <thead>\n",
       "    <tr style=\"text-align: right;\">\n",
       "      <th></th>\n",
       "      <th>replicates</th>\n",
       "      <th>analysis_dir</th>\n",
       "      <th>run</th>\n",
       "    </tr>\n",
       "    <tr>\n",
       "      <th>experiment</th>\n",
       "      <th></th>\n",
       "      <th></th>\n",
       "      <th></th>\n",
       "    </tr>\n",
       "  </thead>\n",
       "  <tbody>\n",
       "    <tr>\n",
       "      <th>C1_mouse_e13.5_limb_mesenchyme_mm10_clean_run4</th>\n",
       "      <td>[18251_A1, 18251_A10, 18251_A11, 18251_A12, 18...</td>\n",
       "      <td>~/proj/C1_mouse_limb_combined/all_analysis_M21</td>\n",
       "      <td>4</td>\n",
       "    </tr>\n",
       "    <tr>\n",
       "      <th>C1_mouse_e11.0_limb_mesenchyme_mm10_clean_run5</th>\n",
       "      <td>[18258_A1, 18258_A10, 18258_A11, 18258_A12, 18...</td>\n",
       "      <td>~/proj/C1_mouse_limb_combined/all_analysis_M21</td>\n",
       "      <td>5</td>\n",
       "    </tr>\n",
       "    <tr>\n",
       "      <th>C1_mouse_e11.5_limb_mesenchyme_mm10_clean_run6</th>\n",
       "      <td>[18263_A1, 18263_A10, 18263_A11, 18263_A12, 18...</td>\n",
       "      <td>~/proj/C1_mouse_limb_combined/all_analysis_M21</td>\n",
       "      <td>6</td>\n",
       "    </tr>\n",
       "    <tr>\n",
       "      <th>C1_mouse_e12.5_limb_mesenchyme_mm10_clean_run7</th>\n",
       "      <td>[18270_A1, 18270_A10, 18270_A11, 18270_A12, 18...</td>\n",
       "      <td>~/proj/C1_mouse_limb_combined/all_analysis_M21</td>\n",
       "      <td>7</td>\n",
       "    </tr>\n",
       "    <tr>\n",
       "      <th>C1_mouse_e13.5_limb_mesenchyme_mm10_clean_run8</th>\n",
       "      <td>[18311_A1, 18311_A10, 18311_A11, 18311_A12, 18...</td>\n",
       "      <td>~/proj/C1_mouse_limb_combined/all_analysis_M21</td>\n",
       "      <td>8</td>\n",
       "    </tr>\n",
       "  </tbody>\n",
       "</table>\n",
       "</div>"
      ],
      "text/plain": [
       "                                                                                       replicates  \\\n",
       "experiment                                                                                          \n",
       "C1_mouse_e13.5_limb_mesenchyme_mm10_clean_run4  [18251_A1, 18251_A10, 18251_A11, 18251_A12, 18...   \n",
       "C1_mouse_e11.0_limb_mesenchyme_mm10_clean_run5  [18258_A1, 18258_A10, 18258_A11, 18258_A12, 18...   \n",
       "C1_mouse_e11.5_limb_mesenchyme_mm10_clean_run6  [18263_A1, 18263_A10, 18263_A11, 18263_A12, 18...   \n",
       "C1_mouse_e12.5_limb_mesenchyme_mm10_clean_run7  [18270_A1, 18270_A10, 18270_A11, 18270_A12, 18...   \n",
       "C1_mouse_e13.5_limb_mesenchyme_mm10_clean_run8  [18311_A1, 18311_A10, 18311_A11, 18311_A12, 18...   \n",
       "\n",
       "                                                                                  analysis_dir  \\\n",
       "experiment                                                                                       \n",
       "C1_mouse_e13.5_limb_mesenchyme_mm10_clean_run4  ~/proj/C1_mouse_limb_combined/all_analysis_M21   \n",
       "C1_mouse_e11.0_limb_mesenchyme_mm10_clean_run5  ~/proj/C1_mouse_limb_combined/all_analysis_M21   \n",
       "C1_mouse_e11.5_limb_mesenchyme_mm10_clean_run6  ~/proj/C1_mouse_limb_combined/all_analysis_M21   \n",
       "C1_mouse_e12.5_limb_mesenchyme_mm10_clean_run7  ~/proj/C1_mouse_limb_combined/all_analysis_M21   \n",
       "C1_mouse_e13.5_limb_mesenchyme_mm10_clean_run8  ~/proj/C1_mouse_limb_combined/all_analysis_M21   \n",
       "\n",
       "                                                run  \n",
       "experiment                                           \n",
       "C1_mouse_e13.5_limb_mesenchyme_mm10_clean_run4    4  \n",
       "C1_mouse_e11.0_limb_mesenchyme_mm10_clean_run5    5  \n",
       "C1_mouse_e11.5_limb_mesenchyme_mm10_clean_run6    6  \n",
       "C1_mouse_e12.5_limb_mesenchyme_mm10_clean_run7    7  \n",
       "C1_mouse_e13.5_limb_mesenchyme_mm10_clean_run8    8  "
      ]
     },
     "execution_count": 12,
     "metadata": {},
     "output_type": "execute_result"
    }
   ],
   "source": [
    "experiments = load_experiments([c1_remap_root / 'experiments-by-run-passing.tsv'])\n",
    "runs = []\n",
    "for experiment, row in experiments.iterrows():\n",
    "    match = re.search('run(?P<run>[\\d]+)', experiment)\n",
    "    runs.append(int(match.group('run')))\n",
    "\n",
    "experiments['run'] = runs\n",
    "experiments.head()"
   ]
  },
  {
   "cell_type": "code",
   "execution_count": null,
   "metadata": {},
   "outputs": [],
   "source": []
  },
  {
   "cell_type": "markdown",
   "metadata": {},
   "source": [
    "# Write out kallisto results"
   ]
  },
  {
   "cell_type": "code",
   "execution_count": 13,
   "metadata": {},
   "outputs": [],
   "source": [
    "def load_kallisto(filename, column):\n",
    "    assert column in ['est_counts', 'tpm']\n",
    "    spike_prefix = 'tSpikein_'\n",
    "    spike_prefix_len = len(spike_prefix)\n",
    "    df = pandas.read_csv(\n",
    "        filename,\n",
    "        sep='\\t',\n",
    "        #converters={'target_id': lambda x: x[spike_prefix_len:] if x.startswith('tSpikein_') else x}\n",
    "    )\n",
    "    return df.set_index('target_id')[column]"
   ]
  },
  {
   "cell_type": "code",
   "execution_count": 14,
   "metadata": {},
   "outputs": [],
   "source": [
    "def load_all_kallisto(kallisto_dir, column):\n",
    "    cells = {}\n",
    "    for experiment_name, row in experiments.iterrows():\n",
    "        if row.run not in [1,2]:\n",
    "            for replicate in row.replicates:\n",
    "                analysis_dir = kallisto_dir / replicate\n",
    "                abundance = analysis_dir / 'abundance.tsv'\n",
    "                cells[replicate] = load_kallisto(abundance, column)\n",
    "    return pandas.DataFrame(cells)"
   ]
  },
  {
   "cell_type": "code",
   "execution_count": 15,
   "metadata": {},
   "outputs": [],
   "source": [
    "kallisto_transcript_counts = load_all_kallisto(c1_kallisto, 'est_counts').reindex(rsem_transcript_counts.var_names)\n",
    "kallisto_transcript_tpms = load_all_kallisto(c1_kallisto, 'tpm').reindex(rsem_transcript_counts.var_names)\n",
    "\n",
    "kallisto_transcript_counts['gene_id'] = [mm10_M21_map[x] for x in kallisto_transcript_counts.index]\n",
    "kallisto_transcript_tpms['gene_id'] = [mm10_M21_map[x] for x in kallisto_transcript_counts.index]"
   ]
  },
  {
   "cell_type": "code",
   "execution_count": 16,
   "metadata": {},
   "outputs": [],
   "source": [
    "kallisto_gene_counts = kallisto_transcript_counts.groupby('gene_id').sum().reindex(rsem_gene_counts.var_names).fillna(0)\n",
    "kallisto_gene_tpms = kallisto_transcript_tpms.groupby('gene_id').sum().reindex(rsem_gene_counts.var_names).fillna(0)"
   ]
  },
  {
   "cell_type": "code",
   "execution_count": 17,
   "metadata": {},
   "outputs": [
    {
     "name": "stderr",
     "output_type": "stream",
     "text": [
      "... storing 'gene_symbol' as categorical\n",
      "... storing 'gene_type' as categorical\n",
      "... storing 'gene_symbol' as categorical\n",
      "... storing 'gene_type' as categorical\n",
      "... storing 'gene_symbol' as categorical\n",
      "... storing 'gene_type' as categorical\n",
      "... storing 'gene_symbol' as categorical\n",
      "... storing 'gene_type' as categorical\n"
     ]
    }
   ],
   "source": [
    "build_anndata(c1_pseudo / 'kallisto_transcript_counts.h5ad', kallisto_transcript_counts, 'est_counts', gtf, 'transcript')\n",
    "build_anndata(c1_pseudo / 'kallisto_transcript_tpms.h5ad', kallisto_transcript_tpms, 'tpm', gtf, 'transcript')\n",
    "build_anndata(c1_pseudo / 'kallisto_gene_counts.h5ad', kallisto_gene_counts, 'est_counts', gtf, 'gene')\n",
    "build_anndata(c1_pseudo / 'kallisto_gene_tpms.h5ad', kallisto_gene_tpms, 'tpm', gtf, 'gene')\n"
   ]
  },
  {
   "cell_type": "code",
   "execution_count": 18,
   "metadata": {},
   "outputs": [
    {
     "data": {
      "text/html": [
       "<div>\n",
       "<style scoped>\n",
       "    .dataframe tbody tr th:only-of-type {\n",
       "        vertical-align: middle;\n",
       "    }\n",
       "\n",
       "    .dataframe tbody tr th {\n",
       "        vertical-align: top;\n",
       "    }\n",
       "\n",
       "    .dataframe thead th {\n",
       "        text-align: right;\n",
       "    }\n",
       "</style>\n",
       "<table border=\"1\" class=\"dataframe\">\n",
       "  <thead>\n",
       "    <tr style=\"text-align: right;\">\n",
       "      <th></th>\n",
       "      <th>18251_A1</th>\n",
       "      <th>18251_A10</th>\n",
       "      <th>18251_A11</th>\n",
       "      <th>18251_A12</th>\n",
       "      <th>18251_A2</th>\n",
       "      <th>18251_A3</th>\n",
       "      <th>18251_A4</th>\n",
       "      <th>18251_A5</th>\n",
       "      <th>18251_A6</th>\n",
       "      <th>18251_A7</th>\n",
       "      <th>...</th>\n",
       "      <th>20048_E8</th>\n",
       "      <th>20048_E9</th>\n",
       "      <th>20049_F1</th>\n",
       "      <th>20049_F2</th>\n",
       "      <th>20049_F3</th>\n",
       "      <th>20049_F4</th>\n",
       "      <th>20049_F5</th>\n",
       "      <th>20049_F6</th>\n",
       "      <th>20049_F7</th>\n",
       "      <th>20049_F8</th>\n",
       "    </tr>\n",
       "    <tr>\n",
       "      <th>gene_id</th>\n",
       "      <th></th>\n",
       "      <th></th>\n",
       "      <th></th>\n",
       "      <th></th>\n",
       "      <th></th>\n",
       "      <th></th>\n",
       "      <th></th>\n",
       "      <th></th>\n",
       "      <th></th>\n",
       "      <th></th>\n",
       "      <th></th>\n",
       "      <th></th>\n",
       "      <th></th>\n",
       "      <th></th>\n",
       "      <th></th>\n",
       "      <th></th>\n",
       "      <th></th>\n",
       "      <th></th>\n",
       "      <th></th>\n",
       "      <th></th>\n",
       "      <th></th>\n",
       "    </tr>\n",
       "  </thead>\n",
       "  <tbody>\n",
       "    <tr>\n",
       "      <th>10000</th>\n",
       "      <td>0.0</td>\n",
       "      <td>0.0</td>\n",
       "      <td>0.0</td>\n",
       "      <td>0.0</td>\n",
       "      <td>0.0</td>\n",
       "      <td>0.0</td>\n",
       "      <td>0.0</td>\n",
       "      <td>0.0</td>\n",
       "      <td>0.0</td>\n",
       "      <td>0.0</td>\n",
       "      <td>...</td>\n",
       "      <td>0.0</td>\n",
       "      <td>0.0</td>\n",
       "      <td>0.0</td>\n",
       "      <td>0.0</td>\n",
       "      <td>0.0</td>\n",
       "      <td>0.0</td>\n",
       "      <td>0.0</td>\n",
       "      <td>0.0</td>\n",
       "      <td>0.0</td>\n",
       "      <td>0.0</td>\n",
       "    </tr>\n",
       "    <tr>\n",
       "      <th>10001</th>\n",
       "      <td>0.0</td>\n",
       "      <td>0.0</td>\n",
       "      <td>0.0</td>\n",
       "      <td>0.0</td>\n",
       "      <td>0.0</td>\n",
       "      <td>0.0</td>\n",
       "      <td>0.0</td>\n",
       "      <td>0.0</td>\n",
       "      <td>0.0</td>\n",
       "      <td>0.0</td>\n",
       "      <td>...</td>\n",
       "      <td>0.0</td>\n",
       "      <td>0.0</td>\n",
       "      <td>0.0</td>\n",
       "      <td>0.0</td>\n",
       "      <td>0.0</td>\n",
       "      <td>0.0</td>\n",
       "      <td>0.0</td>\n",
       "      <td>0.0</td>\n",
       "      <td>0.0</td>\n",
       "      <td>0.0</td>\n",
       "    </tr>\n",
       "    <tr>\n",
       "      <th>10002</th>\n",
       "      <td>0.0</td>\n",
       "      <td>0.0</td>\n",
       "      <td>0.0</td>\n",
       "      <td>0.0</td>\n",
       "      <td>0.0</td>\n",
       "      <td>0.0</td>\n",
       "      <td>0.0</td>\n",
       "      <td>0.0</td>\n",
       "      <td>0.0</td>\n",
       "      <td>0.0</td>\n",
       "      <td>...</td>\n",
       "      <td>0.0</td>\n",
       "      <td>0.0</td>\n",
       "      <td>0.0</td>\n",
       "      <td>0.0</td>\n",
       "      <td>0.0</td>\n",
       "      <td>0.0</td>\n",
       "      <td>0.0</td>\n",
       "      <td>0.0</td>\n",
       "      <td>0.0</td>\n",
       "      <td>0.0</td>\n",
       "    </tr>\n",
       "    <tr>\n",
       "      <th>10003</th>\n",
       "      <td>0.0</td>\n",
       "      <td>0.0</td>\n",
       "      <td>0.0</td>\n",
       "      <td>0.0</td>\n",
       "      <td>0.0</td>\n",
       "      <td>0.0</td>\n",
       "      <td>0.0</td>\n",
       "      <td>0.0</td>\n",
       "      <td>0.0</td>\n",
       "      <td>0.0</td>\n",
       "      <td>...</td>\n",
       "      <td>0.0</td>\n",
       "      <td>0.0</td>\n",
       "      <td>0.0</td>\n",
       "      <td>0.0</td>\n",
       "      <td>0.0</td>\n",
       "      <td>0.0</td>\n",
       "      <td>0.0</td>\n",
       "      <td>0.0</td>\n",
       "      <td>0.0</td>\n",
       "      <td>0.0</td>\n",
       "    </tr>\n",
       "    <tr>\n",
       "      <th>10004</th>\n",
       "      <td>0.0</td>\n",
       "      <td>0.0</td>\n",
       "      <td>0.0</td>\n",
       "      <td>0.0</td>\n",
       "      <td>0.0</td>\n",
       "      <td>0.0</td>\n",
       "      <td>0.0</td>\n",
       "      <td>0.0</td>\n",
       "      <td>0.0</td>\n",
       "      <td>0.0</td>\n",
       "      <td>...</td>\n",
       "      <td>0.0</td>\n",
       "      <td>0.0</td>\n",
       "      <td>0.0</td>\n",
       "      <td>0.0</td>\n",
       "      <td>0.0</td>\n",
       "      <td>0.0</td>\n",
       "      <td>0.0</td>\n",
       "      <td>0.0</td>\n",
       "      <td>0.0</td>\n",
       "      <td>0.0</td>\n",
       "    </tr>\n",
       "    <tr>\n",
       "      <th>...</th>\n",
       "      <td>...</td>\n",
       "      <td>...</td>\n",
       "      <td>...</td>\n",
       "      <td>...</td>\n",
       "      <td>...</td>\n",
       "      <td>...</td>\n",
       "      <td>...</td>\n",
       "      <td>...</td>\n",
       "      <td>...</td>\n",
       "      <td>...</td>\n",
       "      <td>...</td>\n",
       "      <td>...</td>\n",
       "      <td>...</td>\n",
       "      <td>...</td>\n",
       "      <td>...</td>\n",
       "      <td>...</td>\n",
       "      <td>...</td>\n",
       "      <td>...</td>\n",
       "      <td>...</td>\n",
       "      <td>...</td>\n",
       "      <td>...</td>\n",
       "    </tr>\n",
       "    <tr>\n",
       "      <th>gSpikein_ERCC-00165</th>\n",
       "      <td>0.0</td>\n",
       "      <td>0.0</td>\n",
       "      <td>0.0</td>\n",
       "      <td>0.0</td>\n",
       "      <td>0.0</td>\n",
       "      <td>0.0</td>\n",
       "      <td>0.0</td>\n",
       "      <td>0.0</td>\n",
       "      <td>0.0</td>\n",
       "      <td>0.0</td>\n",
       "      <td>...</td>\n",
       "      <td>0.0</td>\n",
       "      <td>0.0</td>\n",
       "      <td>0.0</td>\n",
       "      <td>0.0</td>\n",
       "      <td>0.0</td>\n",
       "      <td>0.0</td>\n",
       "      <td>0.0</td>\n",
       "      <td>0.0</td>\n",
       "      <td>0.0</td>\n",
       "      <td>0.0</td>\n",
       "    </tr>\n",
       "    <tr>\n",
       "      <th>gSpikein_ERCC-00168</th>\n",
       "      <td>0.0</td>\n",
       "      <td>0.0</td>\n",
       "      <td>0.0</td>\n",
       "      <td>0.0</td>\n",
       "      <td>0.0</td>\n",
       "      <td>0.0</td>\n",
       "      <td>0.0</td>\n",
       "      <td>0.0</td>\n",
       "      <td>0.0</td>\n",
       "      <td>0.0</td>\n",
       "      <td>...</td>\n",
       "      <td>0.0</td>\n",
       "      <td>0.0</td>\n",
       "      <td>0.0</td>\n",
       "      <td>0.0</td>\n",
       "      <td>0.0</td>\n",
       "      <td>0.0</td>\n",
       "      <td>0.0</td>\n",
       "      <td>0.0</td>\n",
       "      <td>0.0</td>\n",
       "      <td>0.0</td>\n",
       "    </tr>\n",
       "    <tr>\n",
       "      <th>gSpikein_ERCC-00170</th>\n",
       "      <td>0.0</td>\n",
       "      <td>0.0</td>\n",
       "      <td>0.0</td>\n",
       "      <td>0.0</td>\n",
       "      <td>0.0</td>\n",
       "      <td>0.0</td>\n",
       "      <td>0.0</td>\n",
       "      <td>0.0</td>\n",
       "      <td>0.0</td>\n",
       "      <td>0.0</td>\n",
       "      <td>...</td>\n",
       "      <td>0.0</td>\n",
       "      <td>0.0</td>\n",
       "      <td>0.0</td>\n",
       "      <td>0.0</td>\n",
       "      <td>0.0</td>\n",
       "      <td>0.0</td>\n",
       "      <td>0.0</td>\n",
       "      <td>0.0</td>\n",
       "      <td>0.0</td>\n",
       "      <td>0.0</td>\n",
       "    </tr>\n",
       "    <tr>\n",
       "      <th>gSpikein_ERCC-00171</th>\n",
       "      <td>0.0</td>\n",
       "      <td>0.0</td>\n",
       "      <td>0.0</td>\n",
       "      <td>0.0</td>\n",
       "      <td>0.0</td>\n",
       "      <td>0.0</td>\n",
       "      <td>0.0</td>\n",
       "      <td>0.0</td>\n",
       "      <td>0.0</td>\n",
       "      <td>0.0</td>\n",
       "      <td>...</td>\n",
       "      <td>0.0</td>\n",
       "      <td>0.0</td>\n",
       "      <td>0.0</td>\n",
       "      <td>0.0</td>\n",
       "      <td>0.0</td>\n",
       "      <td>0.0</td>\n",
       "      <td>0.0</td>\n",
       "      <td>0.0</td>\n",
       "      <td>0.0</td>\n",
       "      <td>0.0</td>\n",
       "    </tr>\n",
       "    <tr>\n",
       "      <th>gSpikein_phiX174</th>\n",
       "      <td>0.0</td>\n",
       "      <td>0.0</td>\n",
       "      <td>0.0</td>\n",
       "      <td>0.0</td>\n",
       "      <td>0.0</td>\n",
       "      <td>0.0</td>\n",
       "      <td>0.0</td>\n",
       "      <td>0.0</td>\n",
       "      <td>0.0</td>\n",
       "      <td>0.0</td>\n",
       "      <td>...</td>\n",
       "      <td>0.0</td>\n",
       "      <td>0.0</td>\n",
       "      <td>0.0</td>\n",
       "      <td>0.0</td>\n",
       "      <td>0.0</td>\n",
       "      <td>0.0</td>\n",
       "      <td>0.0</td>\n",
       "      <td>0.0</td>\n",
       "      <td>0.0</td>\n",
       "      <td>0.0</td>\n",
       "    </tr>\n",
       "  </tbody>\n",
       "</table>\n",
       "<p>81881 rows × 845 columns</p>\n",
       "</div>"
      ],
      "text/plain": [
       "                     18251_A1  18251_A10  18251_A11  18251_A12  18251_A2  \\\n",
       "gene_id                                                                    \n",
       "10000                     0.0        0.0        0.0        0.0       0.0   \n",
       "10001                     0.0        0.0        0.0        0.0       0.0   \n",
       "10002                     0.0        0.0        0.0        0.0       0.0   \n",
       "10003                     0.0        0.0        0.0        0.0       0.0   \n",
       "10004                     0.0        0.0        0.0        0.0       0.0   \n",
       "...                       ...        ...        ...        ...       ...   \n",
       "gSpikein_ERCC-00165       0.0        0.0        0.0        0.0       0.0   \n",
       "gSpikein_ERCC-00168       0.0        0.0        0.0        0.0       0.0   \n",
       "gSpikein_ERCC-00170       0.0        0.0        0.0        0.0       0.0   \n",
       "gSpikein_ERCC-00171       0.0        0.0        0.0        0.0       0.0   \n",
       "gSpikein_phiX174          0.0        0.0        0.0        0.0       0.0   \n",
       "\n",
       "                     18251_A3  18251_A4  18251_A5  18251_A6  18251_A7  ...  \\\n",
       "gene_id                                                                ...   \n",
       "10000                     0.0       0.0       0.0       0.0       0.0  ...   \n",
       "10001                     0.0       0.0       0.0       0.0       0.0  ...   \n",
       "10002                     0.0       0.0       0.0       0.0       0.0  ...   \n",
       "10003                     0.0       0.0       0.0       0.0       0.0  ...   \n",
       "10004                     0.0       0.0       0.0       0.0       0.0  ...   \n",
       "...                       ...       ...       ...       ...       ...  ...   \n",
       "gSpikein_ERCC-00165       0.0       0.0       0.0       0.0       0.0  ...   \n",
       "gSpikein_ERCC-00168       0.0       0.0       0.0       0.0       0.0  ...   \n",
       "gSpikein_ERCC-00170       0.0       0.0       0.0       0.0       0.0  ...   \n",
       "gSpikein_ERCC-00171       0.0       0.0       0.0       0.0       0.0  ...   \n",
       "gSpikein_phiX174          0.0       0.0       0.0       0.0       0.0  ...   \n",
       "\n",
       "                     20048_E8  20048_E9  20049_F1  20049_F2  20049_F3  \\\n",
       "gene_id                                                                 \n",
       "10000                     0.0       0.0       0.0       0.0       0.0   \n",
       "10001                     0.0       0.0       0.0       0.0       0.0   \n",
       "10002                     0.0       0.0       0.0       0.0       0.0   \n",
       "10003                     0.0       0.0       0.0       0.0       0.0   \n",
       "10004                     0.0       0.0       0.0       0.0       0.0   \n",
       "...                       ...       ...       ...       ...       ...   \n",
       "gSpikein_ERCC-00165       0.0       0.0       0.0       0.0       0.0   \n",
       "gSpikein_ERCC-00168       0.0       0.0       0.0       0.0       0.0   \n",
       "gSpikein_ERCC-00170       0.0       0.0       0.0       0.0       0.0   \n",
       "gSpikein_ERCC-00171       0.0       0.0       0.0       0.0       0.0   \n",
       "gSpikein_phiX174          0.0       0.0       0.0       0.0       0.0   \n",
       "\n",
       "                     20049_F4  20049_F5  20049_F6  20049_F7  20049_F8  \n",
       "gene_id                                                                \n",
       "10000                     0.0       0.0       0.0       0.0       0.0  \n",
       "10001                     0.0       0.0       0.0       0.0       0.0  \n",
       "10002                     0.0       0.0       0.0       0.0       0.0  \n",
       "10003                     0.0       0.0       0.0       0.0       0.0  \n",
       "10004                     0.0       0.0       0.0       0.0       0.0  \n",
       "...                       ...       ...       ...       ...       ...  \n",
       "gSpikein_ERCC-00165       0.0       0.0       0.0       0.0       0.0  \n",
       "gSpikein_ERCC-00168       0.0       0.0       0.0       0.0       0.0  \n",
       "gSpikein_ERCC-00170       0.0       0.0       0.0       0.0       0.0  \n",
       "gSpikein_ERCC-00171       0.0       0.0       0.0       0.0       0.0  \n",
       "gSpikein_phiX174          0.0       0.0       0.0       0.0       0.0  \n",
       "\n",
       "[81881 rows x 845 columns]"
      ]
     },
     "execution_count": 18,
     "metadata": {},
     "output_type": "execute_result"
    }
   ],
   "source": [
    "kallisto_gene_tpms"
   ]
  },
  {
   "cell_type": "code",
   "execution_count": null,
   "metadata": {},
   "outputs": [],
   "source": []
  },
  {
   "cell_type": "code",
   "execution_count": 19,
   "metadata": {},
   "outputs": [
    {
     "data": {
      "text/plain": [
       "Index(['10000', '10001', '10002', '10003', '10004', '10005', '10006', '10007',\n",
       "       '10008', '10009',\n",
       "       ...\n",
       "       'gSpikein_ERCC-00158', 'gSpikein_ERCC-00160', 'gSpikein_ERCC-00162',\n",
       "       'gSpikein_ERCC-00163', 'gSpikein_ERCC-00164', 'gSpikein_ERCC-00165',\n",
       "       'gSpikein_ERCC-00168', 'gSpikein_ERCC-00170', 'gSpikein_ERCC-00171',\n",
       "       'gSpikein_phiX174'],\n",
       "      dtype='object', name='gene_id', length=81881)"
      ]
     },
     "execution_count": 19,
     "metadata": {},
     "output_type": "execute_result"
    }
   ],
   "source": [
    "rsem_gene_counts.var_names"
   ]
  },
  {
   "cell_type": "markdown",
   "metadata": {},
   "source": [
    "# Load Star Counts"
   ]
  },
  {
   "cell_type": "code",
   "execution_count": 20,
   "metadata": {},
   "outputs": [],
   "source": [
    "star_gene_counts = load_all_star_counts(libraries, column='U')"
   ]
  },
  {
   "cell_type": "code",
   "execution_count": 21,
   "metadata": {},
   "outputs": [
    {
     "data": {
      "text/plain": [
       "(81881, 845)"
      ]
     },
     "execution_count": 21,
     "metadata": {},
     "output_type": "execute_result"
    }
   ],
   "source": [
    "star_gene_counts = star_gene_counts[kallisto_gene_counts.columns].reindex(rsem_gene_counts.var_names)\n",
    "star_gene_counts.shape\n",
    "                                                                          "
   ]
  },
  {
   "cell_type": "code",
   "execution_count": 22,
   "metadata": {},
   "outputs": [
    {
     "name": "stderr",
     "output_type": "stream",
     "text": [
      "... storing 'gene_symbol' as categorical\n",
      "... storing 'gene_type' as categorical\n"
     ]
    }
   ],
   "source": [
    "build_anndata(c1_pseudo / 'star_gene_counts.h5ad', star_gene_counts, 'U', gtf, 'gene')"
   ]
  },
  {
   "cell_type": "markdown",
   "metadata": {},
   "source": [
    "# Write out RSEM results"
   ]
  },
  {
   "cell_type": "code",
   "execution_count": 23,
   "metadata": {
    "scrolled": false
   },
   "outputs": [
    {
     "name": "stdout",
     "output_type": "stream",
     "text": [
      "quantifications combined (81881, 845)\n",
      "quantifications combined (81881, 845)\n",
      "quantifications combined (168207, 845)\n",
      "quantifications combined (168207, 845)\n"
     ]
    }
   ],
   "source": [
    "combined_experiment = pandas.Series({'replicates': list(kallisto_gene_counts.columns)})\n",
    "combined_experiment.name = 'combined'\n",
    "\n",
    "rsem_gene_counts = load_genomic_quantifications(combined_experiment, libraries, 'expected_count')\n",
    "rsem_gene_tpms = load_genomic_quantifications(combined_experiment, libraries, 'TPM')\n",
    "\n",
    "rsem_transcript_counts = load_transcriptome_quantifications(combined_experiment, libraries, 'expected_count')\n",
    "rsem_transcript_tpms = load_transcriptome_quantifications(combined_experiment, libraries, 'TPM')"
   ]
  },
  {
   "cell_type": "code",
   "execution_count": null,
   "metadata": {},
   "outputs": [],
   "source": []
  },
  {
   "cell_type": "code",
   "execution_count": null,
   "metadata": {},
   "outputs": [],
   "source": []
  },
  {
   "cell_type": "code",
   "execution_count": 24,
   "metadata": {},
   "outputs": [
    {
     "name": "stderr",
     "output_type": "stream",
     "text": [
      "... storing 'gene_symbol' as categorical\n",
      "... storing 'gene_type' as categorical\n",
      "... storing 'gene_symbol' as categorical\n",
      "... storing 'gene_type' as categorical\n",
      "... storing 'gene_symbol' as categorical\n",
      "... storing 'gene_type' as categorical\n",
      "... storing 'gene_symbol' as categorical\n",
      "... storing 'gene_type' as categorical\n"
     ]
    }
   ],
   "source": [
    "build_anndata(c1_pseudo / 'rsem_transcript_counts.h5ad', rsem_transcript_counts, 'expected_count', gtf, 'transcript')\n",
    "build_anndata(c1_pseudo / 'rsem_transcript_tpms.h5ad', rsem_transcript_tpms, 'TPM', gtf, 'transcript')\n",
    "build_anndata(c1_pseudo / 'rsem_gene_counts.h5ad', rsem_gene_counts, 'expected_count', gtf, 'gene')\n",
    "build_anndata(c1_pseudo / 'rsem_gene_tpms.h5ad', rsem_gene_tpms, 'TPM', gtf, 'gene')\n"
   ]
  },
  {
   "cell_type": "markdown",
   "metadata": {},
   "source": [
    "# Write out salmon results"
   ]
  },
  {
   "cell_type": "code",
   "execution_count": 25,
   "metadata": {},
   "outputs": [],
   "source": [
    "def load_salmon(filename, column):\n",
    "    assert column in ['TPM', 'NumReads']\n",
    "    df = pandas.read_csv(\n",
    "        filename,\n",
    "        sep='\\t',\n",
    "    )\n",
    "    return df.set_index('Name')[column]\n",
    "    \n",
    "def load_all_salmon(root, column):\n",
    "    cells = {}\n",
    "    for experiment_name, row in experiments.iterrows():\n",
    "        if row.run not in [1,2]:\n",
    "            for replicate in row.replicates:\n",
    "                analysis_dir = root / replicate\n",
    "                abundance = analysis_dir / 'quant.sf'\n",
    "                cells[replicate] = load_salmon(abundance, column)\n",
    "    return pandas.DataFrame(cells)"
   ]
  },
  {
   "cell_type": "code",
   "execution_count": 26,
   "metadata": {},
   "outputs": [],
   "source": [
    "salmon_transcript_counts = load_all_salmon(c1_salmon, 'NumReads').reindex(rsem_transcript_counts.index).fillna(0)\n",
    "salmon_transcript_tpms = load_all_salmon(c1_salmon, 'TPM').reindex(rsem_transcript_counts.index).fillna(0)\n",
    "\n",
    "salmon_transcript_counts['gene_id'] = [mm10_M21_map[x] for x in salmon_transcript_counts.index]\n",
    "salmon_transcript_tpms['gene_id'] = [mm10_M21_map[x] for x in salmon_transcript_counts.index]"
   ]
  },
  {
   "cell_type": "code",
   "execution_count": 27,
   "metadata": {},
   "outputs": [],
   "source": [
    "salmon_gene_counts = salmon_transcript_counts.groupby('gene_id').sum()\n",
    "salmon_gene_tpms = salmon_transcript_tpms.groupby('gene_id').sum()"
   ]
  },
  {
   "cell_type": "code",
   "execution_count": 28,
   "metadata": {},
   "outputs": [
    {
     "name": "stderr",
     "output_type": "stream",
     "text": [
      "... storing 'gene_symbol' as categorical\n",
      "... storing 'gene_type' as categorical\n",
      "... storing 'gene_symbol' as categorical\n",
      "... storing 'gene_type' as categorical\n",
      "... storing 'gene_symbol' as categorical\n",
      "... storing 'gene_type' as categorical\n",
      "... storing 'gene_symbol' as categorical\n",
      "... storing 'gene_type' as categorical\n"
     ]
    }
   ],
   "source": [
    "build_anndata(c1_pseudo / 'salmon_transcript_counts.h5ad', salmon_transcript_counts, 'est_counts', gtf, 'transcript')\n",
    "build_anndata(c1_pseudo / 'salmon_transcript_tpms.h5ad', salmon_transcript_tpms, 'tpm', gtf, 'transcript')\n",
    "build_anndata(c1_pseudo / 'salmon_gene_counts.h5ad', salmon_gene_counts, 'est_counts', gtf, 'gene')\n",
    "build_anndata(c1_pseudo / 'salmon_gene_tpms.h5ad', salmon_gene_tpms, 'tpm', gtf, 'gene')\n"
   ]
  },
  {
   "cell_type": "code",
   "execution_count": null,
   "metadata": {},
   "outputs": [],
   "source": []
  },
  {
   "cell_type": "markdown",
   "metadata": {},
   "source": [
    "# Write out the salmon decoy results"
   ]
  },
  {
   "cell_type": "code",
   "execution_count": 29,
   "metadata": {},
   "outputs": [],
   "source": [
    "salmon_decoy_transcript_counts = load_all_salmon(c1_salmon_decoy, 'NumReads').reindex(rsem_transcript_counts.index).fillna(0)\n",
    "salmon_decoy_transcript_tpms = load_all_salmon(c1_salmon_decoy, 'TPM').reindex(rsem_transcript_counts.index).fillna(0)\n",
    "\n",
    "salmon_decoy_transcript_counts['gene_id'] = [mm10_M21_map[x] for x in salmon_decoy_transcript_counts.index]\n",
    "salmon_decoy_transcript_tpms['gene_id'] = [mm10_M21_map[x] for x in salmon_decoy_transcript_counts.index]"
   ]
  },
  {
   "cell_type": "code",
   "execution_count": 30,
   "metadata": {},
   "outputs": [],
   "source": [
    "salmon_decoy_gene_counts = salmon_decoy_transcript_counts.groupby('gene_id').sum()\n",
    "salmon_decoy_gene_tpms = salmon_decoy_transcript_tpms.groupby('gene_id').sum()"
   ]
  },
  {
   "cell_type": "code",
   "execution_count": 31,
   "metadata": {},
   "outputs": [
    {
     "name": "stderr",
     "output_type": "stream",
     "text": [
      "... storing 'gene_symbol' as categorical\n",
      "... storing 'gene_type' as categorical\n",
      "... storing 'gene_symbol' as categorical\n",
      "... storing 'gene_type' as categorical\n",
      "... storing 'gene_symbol' as categorical\n",
      "... storing 'gene_type' as categorical\n",
      "... storing 'gene_symbol' as categorical\n",
      "... storing 'gene_type' as categorical\n"
     ]
    }
   ],
   "source": [
    "build_anndata(c1_pseudo / 'salmon_decoy_transcript_counts.h5ad', salmon_decoy_transcript_counts, 'est_counts', gtf, 'transcript')\n",
    "build_anndata(c1_pseudo / 'salmon_decoy_transcript_tpms.h5ad', salmon_decoy_transcript_tpms, 'tpm', gtf, 'transcript')\n",
    "build_anndata(c1_pseudo / 'salmon_decoy_gene_counts.h5ad', salmon_decoy_gene_counts, 'est_counts', gtf, 'gene')\n",
    "build_anndata(c1_pseudo / 'salmon_decoy_gene_tpms.h5ad', salmon_decoy_gene_tpms, 'tpm', gtf, 'gene')\n"
   ]
  },
  {
   "cell_type": "code",
   "execution_count": null,
   "metadata": {},
   "outputs": [],
   "source": []
  },
  {
   "cell_type": "markdown",
   "metadata": {},
   "source": [
    "# Load Kallisto Minimal"
   ]
  },
  {
   "cell_type": "code",
   "execution_count": 32,
   "metadata": {},
   "outputs": [],
   "source": [
    "kallisto_minimal_transcript_counts = load_all_kallisto(c1_kallisto_minimal, 'est_counts')\n",
    "kallisto_minimal_transcript_tpms = load_all_kallisto(c1_kallisto_minimal, 'tpm')\n",
    "\n",
    "kallisto_minimal_transcript_counts['gene_id'] = [mm10_M21_map[x] for x in kallisto_minimal_transcript_counts.index]\n",
    "kallisto_minimal_transcript_tpms['gene_id'] = [mm10_M21_map[x] for x in kallisto_minimal_transcript_counts.index]"
   ]
  },
  {
   "cell_type": "code",
   "execution_count": 33,
   "metadata": {},
   "outputs": [],
   "source": [
    "kallisto_minimal_gene_counts = kallisto_minimal_transcript_counts.groupby('gene_id').sum().fillna(0)\n",
    "kallisto_minimal_gene_tpms = kallisto_minimal_transcript_tpms.groupby('gene_id').sum().fillna(0)"
   ]
  },
  {
   "cell_type": "code",
   "execution_count": 34,
   "metadata": {},
   "outputs": [
    {
     "name": "stderr",
     "output_type": "stream",
     "text": [
      "... storing 'gene_symbol' as categorical\n",
      "... storing 'gene_type' as categorical\n",
      "... storing 'gene_symbol' as categorical\n",
      "... storing 'gene_type' as categorical\n",
      "... storing 'gene_symbol' as categorical\n",
      "... storing 'gene_type' as categorical\n",
      "... storing 'gene_symbol' as categorical\n",
      "... storing 'gene_type' as categorical\n"
     ]
    }
   ],
   "source": [
    "build_anndata(c1_pseudo / 'kallisto_minimal_transcript_counts.h5ad', kallisto_minimal_transcript_counts, 'est_counts', gtf, 'transcript')\n",
    "build_anndata(c1_pseudo / 'kallisto_minimal_transcript_tpms.h5ad', kallisto_minimal_transcript_tpms, 'tpm', gtf, 'transcript')\n",
    "build_anndata(c1_pseudo / 'kallisto_minimal_gene_counts.h5ad', kallisto_minimal_gene_counts, 'est_counts', gtf, 'gene')\n",
    "build_anndata(c1_pseudo / 'kallisto_minimal_gene_tpms.h5ad', kallisto_minimal_gene_tpms, 'tpm', gtf, 'gene')\n"
   ]
  },
  {
   "cell_type": "markdown",
   "metadata": {},
   "source": [
    "# Write Salmon Minimal"
   ]
  },
  {
   "cell_type": "code",
   "execution_count": 35,
   "metadata": {},
   "outputs": [],
   "source": [
    "salmon_minimal_transcript_counts = load_all_salmon(c1_salmon_minimal, 'NumReads').reindex(kallisto_minimal_transcript_counts.index).fillna(0)\n",
    "salmon_minimal_transcript_tpms = load_all_salmon(c1_salmon_minimal, 'TPM').reindex(kallisto_minimal_transcript_counts.index).fillna(0)\n",
    "\n",
    "salmon_minimal_transcript_counts['gene_id'] = [mm10_M21_map[x] for x in salmon_minimal_transcript_counts.index]\n",
    "salmon_minimal_transcript_tpms['gene_id'] = [mm10_M21_map[x] for x in salmon_minimal_transcript_counts.index]"
   ]
  },
  {
   "cell_type": "code",
   "execution_count": 36,
   "metadata": {},
   "outputs": [],
   "source": [
    "salmon_minimal_gene_counts = salmon_minimal_transcript_counts.groupby('gene_id').sum()\n",
    "salmon_minimal_gene_tpms = salmon_minimal_transcript_tpms.groupby('gene_id').sum()"
   ]
  },
  {
   "cell_type": "code",
   "execution_count": 37,
   "metadata": {},
   "outputs": [
    {
     "name": "stderr",
     "output_type": "stream",
     "text": [
      "... storing 'gene_symbol' as categorical\n",
      "... storing 'gene_type' as categorical\n",
      "... storing 'gene_symbol' as categorical\n",
      "... storing 'gene_type' as categorical\n",
      "... storing 'gene_symbol' as categorical\n",
      "... storing 'gene_type' as categorical\n",
      "... storing 'gene_symbol' as categorical\n",
      "... storing 'gene_type' as categorical\n"
     ]
    }
   ],
   "source": [
    "build_anndata(c1_pseudo / 'salmon_minimal_transcript_counts.h5ad', salmon_minimal_transcript_counts, 'est_counts', gtf, 'transcript')\n",
    "build_anndata(c1_pseudo / 'salmon_minimal_transcript_tpms.h5ad', salmon_minimal_transcript_tpms, 'tpm', gtf, 'transcript')\n",
    "build_anndata(c1_pseudo / 'salmon_minimal_gene_counts.h5ad', salmon_minimal_gene_counts, 'est_counts', gtf, 'gene')\n",
    "build_anndata(c1_pseudo / 'salmon_minimal_gene_tpms.h5ad', salmon_minimal_gene_tpms, 'tpm', gtf, 'gene')\n"
   ]
  },
  {
   "cell_type": "markdown",
   "metadata": {},
   "source": [
    "# Load Star Counts"
   ]
  },
  {
   "cell_type": "code",
   "execution_count": 38,
   "metadata": {},
   "outputs": [
    {
     "data": {
      "text/plain": [
       "(31635, 845)"
      ]
     },
     "execution_count": 38,
     "metadata": {},
     "output_type": "execute_result"
    }
   ],
   "source": [
    "minimal_libraries = load_library_tables([c1_pseudo / 'rsem_minimal' / 'libraries.tsv'])\n",
    "star_minimal_counts = load_all_star_counts(minimal_libraries, 'U')[kallisto_gene_counts.columns].reindex(kallisto_minimal_gene_counts.index)\n",
    "star_minimal_counts.shape"
   ]
  },
  {
   "cell_type": "code",
   "execution_count": 39,
   "metadata": {},
   "outputs": [
    {
     "name": "stderr",
     "output_type": "stream",
     "text": [
      "... storing 'gene_symbol' as categorical\n",
      "... storing 'gene_type' as categorical\n"
     ]
    }
   ],
   "source": [
    "build_anndata(c1_pseudo / 'star_minimal_gene_counts.h5ad', star_minimal_counts, 'counts', gtf, 'gene')"
   ]
  },
  {
   "cell_type": "markdown",
   "metadata": {},
   "source": [
    "# Some QC Checks"
   ]
  },
  {
   "cell_type": "code",
   "execution_count": 40,
   "metadata": {},
   "outputs": [],
   "source": [
    "rgc = scanpy.read_h5ad(c1_pseudo / 'rsem_gene_counts.h5ad')\n",
    "rtc = scanpy.read_h5ad(c1_pseudo / 'rsem_transcript_counts.h5ad')\n",
    "ktc = scanpy.read_h5ad(c1_pseudo / 'kallisto_transcript_counts.h5ad')\n",
    "stc = scanpy.read_h5ad(c1_pseudo / 'salmon_transcript_counts.h5ad')\n",
    "kgc = scanpy.read_h5ad(c1_pseudo / 'kallisto_gene_counts.h5ad')\n",
    "sgc = scanpy.read_h5ad(c1_pseudo / 'salmon_gene_counts.h5ad')\n",
    "\n",
    "kmtc = scanpy.read_h5ad(c1_pseudo / 'kallisto_minimal_transcript_counts.h5ad')\n",
    "smtc = scanpy.read_h5ad(c1_pseudo / 'salmon_minimal_transcript_counts.h5ad')\n",
    "kmgc = scanpy.read_h5ad(c1_pseudo / 'kallisto_minimal_gene_counts.h5ad')\n",
    "smgc = scanpy.read_h5ad(c1_pseudo / 'salmon_minimal_gene_counts.h5ad')\n",
    "\n",
    "stargc = scanpy.read_h5ad(c1_pseudo / 'star_gene_counts.h5ad')\n",
    "starmgc = scanpy.read_h5ad(c1_pseudo / 'star_minimal_gene_counts.h5ad')"
   ]
  },
  {
   "cell_type": "code",
   "execution_count": 41,
   "metadata": {},
   "outputs": [],
   "source": [
    "assert numpy.all(rgc.obs_names == rtc.obs_names)\n",
    "assert numpy.all(rtc.obs_names == ktc.obs_names)\n",
    "assert numpy.all(ktc.obs_names == stc.obs_names)\n",
    "assert numpy.all(stc.obs_names == kgc.obs_names)\n",
    "assert numpy.all(kgc.obs_names == sgc.obs_names)\n",
    "assert numpy.all(sgc.obs_names == starmgc.obs_names)\n",
    "\n",
    "assert numpy.all(kmgc.obs_names == rgc.obs_names)\n",
    "assert numpy.all(smgc.obs_names == rgc.obs_names)\n",
    "assert numpy.all(kmtc.obs_names == rtc.obs_names)\n",
    "assert numpy.all(smtc.obs_names == rtc.obs_names)"
   ]
  },
  {
   "cell_type": "code",
   "execution_count": 42,
   "metadata": {},
   "outputs": [],
   "source": [
    "assert numpy.all(rtc.var_names == ktc.var_names)\n",
    "assert numpy.all(ktc.var_names == stc.var_names)\n",
    "\n",
    "assert numpy.all(rgc.var_names == kgc.var_names)\n",
    "assert numpy.all(kgc.var_names == sgc.var_names)\n",
    "\n",
    "assert numpy.all(kmgc.var_names.shape[0] < rgc.var_names.shape[0])\n",
    "assert numpy.all(smgc.var_names.shape[0] < rgc.var_names.shape[0])\n",
    "assert numpy.all(kmtc.var_names.shape[0] < rtc.var_names.shape[0])\n",
    "assert numpy.all(smtc.var_names.shape[0] < rtc.var_names.shape[0])\n"
   ]
  },
  {
   "cell_type": "code",
   "execution_count": 43,
   "metadata": {},
   "outputs": [],
   "source": [
    "assert numpy.all(kmtc.var_names == smtc.var_names)"
   ]
  },
  {
   "cell_type": "code",
   "execution_count": 44,
   "metadata": {},
   "outputs": [],
   "source": [
    "assert numpy.all(kmgc.var_names == smgc.var_names)\n",
    "assert numpy.all(kmgc.var_names == starmgc.var_names)"
   ]
  },
  {
   "cell_type": "code",
   "execution_count": 45,
   "metadata": {},
   "outputs": [],
   "source": [
    "assert numpy.all(stargc.var_names == kgc.var_names)\n",
    "assert numpy.all(stargc.obs_names == kgc.obs_names)"
   ]
  },
  {
   "cell_type": "code",
   "execution_count": null,
   "metadata": {},
   "outputs": [],
   "source": []
  }
 ],
 "metadata": {
  "kernelspec": {
   "display_name": "Python 3",
   "language": "python",
   "name": "python3"
  },
  "language_info": {
   "codemirror_mode": {
    "name": "ipython",
    "version": 3
   },
   "file_extension": ".py",
   "mimetype": "text/x-python",
   "name": "python",
   "nbconvert_exporter": "python",
   "pygments_lexer": "ipython3",
   "version": "3.8.5"
  }
 },
 "nbformat": 4,
 "nbformat_minor": 4
}
