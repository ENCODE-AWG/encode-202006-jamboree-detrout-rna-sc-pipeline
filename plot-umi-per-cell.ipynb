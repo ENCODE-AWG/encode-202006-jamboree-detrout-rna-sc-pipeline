{
 "cells": [
  {
   "cell_type": "code",
   "execution_count": 1,
   "id": "double-tribute",
   "metadata": {},
   "outputs": [],
   "source": [
    "import pandas\n",
    "from pathlib import Path\n",
    "from matplotlib import pyplot\n",
    "from collections import Counter\n",
    "import numpy\n",
    "import scanpy\n",
    "import pysam"
   ]
  },
  {
   "cell_type": "code",
   "execution_count": 2,
   "id": "parental-colon",
   "metadata": {},
   "outputs": [],
   "source": [
    "def scanpy_load_solo_278_mtx(analysis_dir, gene=\"Gene\", mode=\"filtered\", matrix=\"matrix.mtx\"):\n",
    "    assert gene in [\"Gene\", \"GeneFull\", \"GeneFull_Ex50pAS\", \"SJ\"]\n",
    "    assert mode in [\"filtered\", \"raw\"], \"STAR Solo only produces raw or filtered files\"\n",
    "    assert matrix in [\"matrix.mtx\", \"UniqueAndMult-EM.mtx\"]\n",
    "\n",
    "    analysis_dir = Path(analysis_dir)\n",
    "    solo_dir = analysis_dir / \"Solo.out\" / gene / mode\n",
    "    solo = scanpy.read_mtx(solo_dir / matrix).T\n",
    "    solo_vars = pandas.read_csv(\n",
    "        solo_dir / \"features.tsv\", header=None, sep=\"\\t\"\n",
    "    ).values.T\n",
    "    solo_obs = pandas.read_csv(\n",
    "        solo_dir / \"barcodes.tsv\", header=None, sep=\"\\t\"\n",
    "    ).values.T\n",
    "    solo.obs_names = solo_obs[0]\n",
    "    solo.var_names = solo_vars[0]\n",
    "\n",
    "    solo.obs[\"counts\"] = solo.X.sum(axis=1)\n",
    "    solo.obs[\"ngenes\"] = numpy.array((solo.X > 0).sum(axis=1))\n",
    "\n",
    "    return solo\n"
   ]
  },
  {
   "cell_type": "code",
   "execution_count": 3,
   "id": "raising-villa",
   "metadata": {},
   "outputs": [],
   "source": [
    "analysis_dir = Path(\"~/proj/encode-202006-jamboree-detrout-rna-sc-pipeline/adrenal/ENCSR724KET_16f_nuc/fullsolo_multi_eoi_container\").expanduser()\n",
    "solo_dir = analysis_dir / \"Solo.out\"\n",
    "gene_dir = solo_dir / \"GeneFull_Ex50pAS\"\n",
    "umi_file = gene_dir / \"UMIperCellSorted.txt\""
   ]
  },
  {
   "cell_type": "code",
   "execution_count": 4,
   "id": "hidden-starter",
   "metadata": {},
   "outputs": [],
   "source": [
    "umi = pandas.read_csv(umi_file, header=None)"
   ]
  },
  {
   "cell_type": "code",
   "execution_count": 5,
   "id": "spectacular-sound",
   "metadata": {},
   "outputs": [
    {
     "data": {
      "image/png": "[encoded data removed]",
      "text/plain": [
       "<Figure size 432x288 with 1 Axes>"
      ]
     },
     "metadata": {
      "needs_background": "light"
     },
     "output_type": "display_data"
    }
   ],
   "source": [
    "f = pyplot.figure()\n",
    "ax = f.add_subplot(1,1,1)\n",
    "\n",
    "ax.plot(umi[0], umi.index, linewidth=2)\n",
    "\n",
    "ax.set_xlabel('Cumulative number of barcodes')\n",
    "ax.set_ylabel('count of reported UMIs')\n",
    "ax.set_xscale('log')\n",
    "ax.set_yscale('log')\n",
    "#ax.set_xlim(1,1e5)\n",
    "#ax.set_ylim(1,1e6)\n",
    "ax.grid(color=\"dimgrey\", linestyle=\"-\", linewidth=0.5, which=\"both\", alpha=0.3)"
   ]
  },
  {
   "cell_type": "code",
   "execution_count": 6,
   "id": "twenty-event",
   "metadata": {},
   "outputs": [],
   "source": [
    "solo_count = scanpy_load_solo_278_mtx(analysis_dir, \"GeneFull_Ex50pAS\", \"raw\")"
   ]
  },
  {
   "cell_type": "code",
   "execution_count": 7,
   "id": "indirect-thinking",
   "metadata": {},
   "outputs": [
    {
     "data": {
      "image/png": "[encoded data removed]",
      "text/plain": [
       "<Figure size 432x288 with 1 Axes>"
      ]
     },
     "metadata": {
      "needs_background": "light"
     },
     "output_type": "display_data"
    }
   ],
   "source": [
    "f = pyplot.figure()\n",
    "ax = f.add_subplot(1,1,1)\n",
    "\n",
    "solo_ranked_umi = numpy.sort(numpy.array(solo_count.obs['counts']), axis=None)[::-1]\n",
    "ax.plot(solo_ranked_umi,  range(solo_ranked_umi.shape[0]), linewidth=2, alpha=0.8)\n",
    "\n",
    "ax.set_xscale('log')\n",
    "ax.set_yscale('log')"
   ]
  },
  {
   "cell_type": "code",
   "execution_count": 8,
   "id": "aging-method",
   "metadata": {},
   "outputs": [],
   "source": [
    "cb_filtered = []\n",
    "with open(gene_dir / \"filtered\" / \"barcodes.tsv\", \"rt\") as instream:\n",
    "    for line in instream:\n",
    "        cb_filtered.append(line.rstrip())"
   ]
  },
  {
   "cell_type": "code",
   "execution_count": 9,
   "id": "rational-switzerland",
   "metadata": {},
   "outputs": [],
   "source": [
    "genome_dir = Path(\"~/proj/genome/GRCh38-V29-male-2.7.8a\").expanduser()\n",
    "store = pandas.HDFStore(genome_dir / \"GRCh38-V29-male-2.7.8a.h5\")\n",
    "gene_types = store.select(\"/gtf\", where=\"type=gene or type=spikein or type=tRNAscan\", columns=[\"gene_id\", \"gene_type\"])\n",
    "store.close()"
   ]
  },
  {
   "cell_type": "code",
   "execution_count": 10,
   "id": "gorgeous-wallpaper",
   "metadata": {},
   "outputs": [
    {
     "data": {
      "text/html": [
       "<div>\n",
       "<style scoped>\n",
       "    .dataframe tbody tr th:only-of-type {\n",
       "        vertical-align: middle;\n",
       "    }\n",
       "\n",
       "    .dataframe tbody tr th {\n",
       "        vertical-align: top;\n",
       "    }\n",
       "\n",
       "    .dataframe thead th {\n",
       "        text-align: right;\n",
       "    }\n",
       "</style>\n",
       "<table border=\"1\" class=\"dataframe\">\n",
       "  <thead>\n",
       "    <tr style=\"text-align: right;\">\n",
       "      <th></th>\n",
       "      <th>gene_id</th>\n",
       "      <th>gene_type</th>\n",
       "    </tr>\n",
       "  </thead>\n",
       "  <tbody>\n",
       "    <tr>\n",
       "      <th>649</th>\n",
       "      <td>ENSG00000223972.5</td>\n",
       "      <td>transcribed_unprocessed_pseudogene</td>\n",
       "    </tr>\n",
       "    <tr>\n",
       "      <th>661</th>\n",
       "      <td>ENSG00000227232.5</td>\n",
       "      <td>unprocessed_pseudogene</td>\n",
       "    </tr>\n",
       "    <tr>\n",
       "      <th>674</th>\n",
       "      <td>ENSG00000278267.1</td>\n",
       "      <td>miRNA</td>\n",
       "    </tr>\n",
       "    <tr>\n",
       "      <th>677</th>\n",
       "      <td>ENSG00000243485.5</td>\n",
       "      <td>lincRNA</td>\n",
       "    </tr>\n",
       "    <tr>\n",
       "      <th>685</th>\n",
       "      <td>ENSG00000284332.1</td>\n",
       "      <td>miRNA</td>\n",
       "    </tr>\n",
       "    <tr>\n",
       "      <th>...</th>\n",
       "      <td>...</td>\n",
       "      <td>...</td>\n",
       "    </tr>\n",
       "    <tr>\n",
       "      <th>2743285</th>\n",
       "      <td>ENSG00000276017.1</td>\n",
       "      <td>protein_coding</td>\n",
       "    </tr>\n",
       "    <tr>\n",
       "      <th>2743292</th>\n",
       "      <td>ENSG00000278817.1</td>\n",
       "      <td>protein_coding</td>\n",
       "    </tr>\n",
       "    <tr>\n",
       "      <th>2743308</th>\n",
       "      <td>ENSG00000277196.4</td>\n",
       "      <td>protein_coding</td>\n",
       "    </tr>\n",
       "    <tr>\n",
       "      <th>2743377</th>\n",
       "      <td>ENSG00000278625.1</td>\n",
       "      <td>snRNA</td>\n",
       "    </tr>\n",
       "    <tr>\n",
       "      <th>2743380</th>\n",
       "      <td>ENSG00000277374.1</td>\n",
       "      <td>snRNA</td>\n",
       "    </tr>\n",
       "  </tbody>\n",
       "</table>\n",
       "<p>58780 rows × 2 columns</p>\n",
       "</div>"
      ],
      "text/plain": [
       "                   gene_id                           gene_type\n",
       "649      ENSG00000223972.5  transcribed_unprocessed_pseudogene\n",
       "661      ENSG00000227232.5              unprocessed_pseudogene\n",
       "674      ENSG00000278267.1                               miRNA\n",
       "677      ENSG00000243485.5                             lincRNA\n",
       "685      ENSG00000284332.1                               miRNA\n",
       "...                    ...                                 ...\n",
       "2743285  ENSG00000276017.1                      protein_coding\n",
       "2743292  ENSG00000278817.1                      protein_coding\n",
       "2743308  ENSG00000277196.4                      protein_coding\n",
       "2743377  ENSG00000278625.1                               snRNA\n",
       "2743380  ENSG00000277374.1                               snRNA\n",
       "\n",
       "[58780 rows x 2 columns]"
      ]
     },
     "execution_count": 10,
     "metadata": {},
     "output_type": "execute_result"
    }
   ],
   "source": [
    "gene_types"
   ]
  },
  {
   "cell_type": "code",
   "execution_count": 11,
   "id": "large-miracle",
   "metadata": {},
   "outputs": [],
   "source": [
    "gene_type_lookup = gene_types.set_index('gene_id')['gene_type'].to_dict()"
   ]
  },
  {
   "cell_type": "code",
   "execution_count": 12,
   "id": "controlling-rolling",
   "metadata": {},
   "outputs": [
    {
     "data": {
      "text/plain": [
       "<bound method DataFrame.to_dict of                                             gene_type\n",
       "gene_id                                              \n",
       "ENSG00000223972.5  transcribed_unprocessed_pseudogene\n",
       "ENSG00000227232.5              unprocessed_pseudogene\n",
       "ENSG00000278267.1                               miRNA\n",
       "ENSG00000243485.5                             lincRNA\n",
       "ENSG00000284332.1                               miRNA\n",
       "...                                               ...\n",
       "ENSG00000276017.1                      protein_coding\n",
       "ENSG00000278817.1                      protein_coding\n",
       "ENSG00000277196.4                      protein_coding\n",
       "ENSG00000278625.1                               snRNA\n",
       "ENSG00000277374.1                               snRNA\n",
       "\n",
       "[58780 rows x 1 columns]>"
      ]
     },
     "execution_count": 12,
     "metadata": {},
     "output_type": "execute_result"
    }
   ],
   "source": [
    "gene_types.set_index('gene_id').to_dict"
   ]
  },
  {
   "cell_type": "code",
   "execution_count": 13,
   "id": "accessory-brooklyn",
   "metadata": {},
   "outputs": [],
   "source": [
    "bam = analysis_dir / \"Aligned.sortedByCoord.out.bam\""
   ]
  },
  {
   "cell_type": "code",
   "execution_count": 14,
   "id": "passing-southwest",
   "metadata": {},
   "outputs": [],
   "source": [
    "raw_gene_types = Counter()\n",
    "filtered_gene_types = Counter()\n",
    "cb_set = set(cb_filtered)\n",
    "with pysam.AlignmentFile(bam, \"rb\") as alignment:\n",
    "    for read in alignment:\n",
    "        if read.has_tag(\"CB\"):\n",
    "            cb = read.get_tag(\"CB\")\n",
    "        else:\n",
    "            continue\n",
    "        if read.has_tag(\"gx\"):\n",
    "            gx = read.get_tag(\"gx\").split(\";\")\n",
    "        elif read.has_tag(\"GX\"):\n",
    "            gx = read.get_tag(\"GX\").split(\";\")\n",
    "        if gx[0] == '-':\n",
    "            raw_gene_types['genomic'] += 1\n",
    "        else:\n",
    "            if cb in cb_set:\n",
    "                read_passed_filter = True\n",
    "            else:\n",
    "                read_passed_filter = False\n",
    "            for gene_id in gx:\n",
    "                if gene_id in gene_type_lookup:\n",
    "                    read_type = gene_type_lookup[gene_id]\n",
    "                    raw_gene_types[read_type] += 1/len(gx)\n",
    "                    \n",
    "                    if read_passed_filter:\n",
    "                        filtered_gene_types[read_type] += 1/len(gx)"
   ]
  },
  {
   "cell_type": "code",
   "execution_count": 15,
   "id": "differential-writing",
   "metadata": {},
   "outputs": [
    {
     "data": {
      "text/plain": [
       "genomic                               1.767529e+08\n",
       "protein_coding                        1.646530e+08\n",
       "lincRNA                               3.430935e+07\n",
       "processed_pseudogene                  5.785250e+06\n",
       "antisense                             5.378819e+06\n",
       "transcribed_unprocessed_pseudogene    2.156918e+06\n",
       "processed_transcript                  1.840363e+06\n",
       "unprocessed_pseudogene                8.671031e+05\n",
       "transcribed_processed_pseudogene      7.090335e+05\n",
       "Mt_rRNA                               5.677740e+05\n",
       "misc_RNA                              4.541038e+05\n",
       "sense_intronic                        3.759373e+05\n",
       "snRNA                                 2.953695e+05\n",
       "transcribed_unitary_pseudogene        2.151450e+05\n",
       "sense_overlapping                     1.634730e+05\n",
       "TEC                                   1.625322e+05\n",
       "bidirectional_promoter_lncRNA         8.776067e+04\n",
       "polymorphic_pseudogene                6.582000e+04\n",
       "snoRNA                                3.592150e+04\n",
       "scRNA                                 3.276400e+04\n",
       "rRNA                                  2.968150e+04\n",
       "3prime_overlapping_ncRNA              2.254167e+04\n",
       "unitary_pseudogene                    8.842333e+03\n",
       "IG_C_gene                             7.803000e+03\n",
       "non_coding                            2.369500e+03\n",
       "miRNA                                 2.089833e+03\n",
       "Mt_tRNA                               1.749000e+03\n",
       "translated_processed_pseudogene       1.241000e+03\n",
       "pseudogene                            1.140000e+03\n",
       "IG_V_gene                             9.905000e+02\n",
       "TR_C_gene                             7.500000e+02\n",
       "rRNA_pseudogene                       6.525000e+02\n",
       "macro_lncRNA                          6.200000e+02\n",
       "scaRNA                                3.670000e+02\n",
       "IG_C_pseudogene                       2.950000e+02\n",
       "ribozyme                              2.645000e+02\n",
       "TR_V_gene                             1.295000e+02\n",
       "IG_V_pseudogene                       5.900000e+01\n",
       "TR_V_pseudogene                       4.200000e+01\n",
       "vaultRNA                              3.550000e+01\n",
       "sRNA                                  1.000000e+00\n",
       "dtype: float64"
      ]
     },
     "execution_count": 15,
     "metadata": {},
     "output_type": "execute_result"
    }
   ],
   "source": [
    "pandas.Series(raw_gene_types).sort_values(ascending=False)"
   ]
  },
  {
   "cell_type": "code",
   "execution_count": 16,
   "id": "precise-spending",
   "metadata": {},
   "outputs": [
    {
     "data": {
      "text/plain": [
       "protein_coding                        1.429250e+08\n",
       "lincRNA                               2.532579e+07\n",
       "antisense                             4.822691e+06\n",
       "processed_pseudogene                  4.118952e+06\n",
       "transcribed_unprocessed_pseudogene    1.979198e+06\n",
       "processed_transcript                  1.657542e+06\n",
       "unprocessed_pseudogene                7.793337e+05\n",
       "transcribed_processed_pseudogene      5.573465e+05\n",
       "Mt_rRNA                               4.125950e+05\n",
       "sense_intronic                        3.562220e+05\n",
       "misc_RNA                              3.560175e+05\n",
       "transcribed_unitary_pseudogene        1.972510e+05\n",
       "snRNA                                 1.774420e+05\n",
       "sense_overlapping                     1.521514e+05\n",
       "TEC                                   1.480747e+05\n",
       "bidirectional_promoter_lncRNA         8.097283e+04\n",
       "polymorphic_pseudogene                4.790150e+04\n",
       "snoRNA                                2.872600e+04\n",
       "rRNA                                  2.297550e+04\n",
       "3prime_overlapping_ncRNA              2.070033e+04\n",
       "scRNA                                 2.051900e+04\n",
       "unitary_pseudogene                    7.747833e+03\n",
       "IG_C_gene                             4.844000e+03\n",
       "non_coding                            1.695500e+03\n",
       "miRNA                                 1.332833e+03\n",
       "Mt_tRNA                               1.272000e+03\n",
       "pseudogene                            1.011000e+03\n",
       "translated_processed_pseudogene       9.700000e+02\n",
       "IG_V_gene                             8.065000e+02\n",
       "rRNA_pseudogene                       6.090000e+02\n",
       "TR_C_gene                             5.470000e+02\n",
       "macro_lncRNA                          5.160000e+02\n",
       "scaRNA                                3.120000e+02\n",
       "IG_C_pseudogene                       1.920000e+02\n",
       "ribozyme                              1.915000e+02\n",
       "TR_V_gene                             9.900000e+01\n",
       "TR_V_pseudogene                       3.500000e+01\n",
       "IG_V_pseudogene                       3.100000e+01\n",
       "vaultRNA                              2.700000e+01\n",
       "sRNA                                  1.000000e+00\n",
       "dtype: float64"
      ]
     },
     "execution_count": 16,
     "metadata": {},
     "output_type": "execute_result"
    }
   ],
   "source": [
    "pandas.Series(filtered_gene_types).sort_values(ascending=False)"
   ]
  },
  {
   "cell_type": "code",
   "execution_count": 17,
   "id": "compound-company",
   "metadata": {},
   "outputs": [],
   "source": [
    "all_raw = scanpy_load_solo_278_mtx(analysis_dir, \"GeneFull_Ex50pAS\", \"raw\", \"UniqueAndMult-EM.mtx\")"
   ]
  },
  {
   "cell_type": "code",
   "execution_count": 18,
   "id": "executive-truth",
   "metadata": {},
   "outputs": [
    {
     "data": {
      "text/plain": [
       "AnnData object with n_obs × n_vars = 736320 × 59526\n",
       "    obs: 'counts', 'ngenes'"
      ]
     },
     "execution_count": 18,
     "metadata": {},
     "output_type": "execute_result"
    }
   ],
   "source": [
    "all_raw"
   ]
  },
  {
   "cell_type": "code",
   "execution_count": 23,
   "id": "recorded-request",
   "metadata": {
    "scrolled": false
   },
   "outputs": [
    {
     "name": "stderr",
     "output_type": "stream",
     "text": [
      "Trying to set attribute `.obs` of view, copying.\n"
     ]
    }
   ],
   "source": [
    "all_filtered = all_raw[cb_filtered,:]\n",
    "\n",
    "all_filtered.obs[\"counts\"] = all_filtered.X.sum(axis=1)\n",
    "all_filtered.obs[\"ngenes\"] = numpy.array((all_filtered.X > 0).sum(axis=1))"
   ]
  },
  {
   "cell_type": "code",
   "execution_count": 24,
   "id": "alive-combining",
   "metadata": {},
   "outputs": [
    {
     "data": {
      "text/plain": [
       "AnnData object with n_obs × n_vars = 15708 × 59526\n",
       "    obs: 'counts', 'ngenes'"
      ]
     },
     "execution_count": 24,
     "metadata": {},
     "output_type": "execute_result"
    }
   ],
   "source": [
    "all_filtered"
   ]
  },
  {
   "cell_type": "code",
   "execution_count": 26,
   "id": "hollywood-penalty",
   "metadata": {},
   "outputs": [
    {
     "data": {
      "text/plain": [
       "AAACAGCCAAATGCCC      705.999939\n",
       "AAACAGCCACGTGCTG    15964.000000\n",
       "AAACAGCCACTTAGGC    18922.000000\n",
       "AAACAGCCAGGGAGCT     4464.000000\n",
       "AAACAGCCATGTTTGG     3846.000000\n",
       "                        ...     \n",
       "TTTGTTGGTGAGCAAG     1291.000000\n",
       "TTTGTTGGTGCTCACC     5044.000000\n",
       "TTTGTTGGTGCTTACT     5398.000000\n",
       "TTTGTTGGTGCTTAGA     2534.000000\n",
       "TTTGTTGGTTACATCC     2715.000000\n",
       "Name: counts, Length: 15708, dtype: float32"
      ]
     },
     "execution_count": 26,
     "metadata": {},
     "output_type": "execute_result"
    }
   ],
   "source": [
    "all_filtered.obs['counts']"
   ]
  },
  {
   "cell_type": "code",
   "execution_count": 29,
   "id": "encouraging-questionnaire",
   "metadata": {},
   "outputs": [
    {
     "data": {
      "text/plain": [
       "(1, 59526)"
      ]
     },
     "execution_count": 29,
     "metadata": {},
     "output_type": "execute_result"
    }
   ],
   "source": [
    "all_filtered.X.sum(axis=0).shape"
   ]
  },
  {
   "cell_type": "code",
   "execution_count": 30,
   "id": "ecological-address",
   "metadata": {},
   "outputs": [
    {
     "data": {
      "text/plain": [
       "AnnData object with n_obs × n_vars = 15708 × 59526\n",
       "    obs: 'counts', 'ngenes'"
      ]
     },
     "execution_count": 30,
     "metadata": {},
     "output_type": "execute_result"
    }
   ],
   "source": [
    "all_filtered"
   ]
  },
  {
   "cell_type": "code",
   "execution_count": 33,
   "id": "found-pride",
   "metadata": {},
   "outputs": [
    {
     "data": {
      "text/plain": [
       "Index(['ENSG00000223972.5', 'ENSG00000227232.5', 'ENSG00000278267.1',\n",
       "       'ENSG00000243485.5', 'ENSG00000284332.1', 'ENSG00000237613.2',\n",
       "       'ENSG00000268020.3', 'ENSG00000240361.2', 'ENSG00000186092.6',\n",
       "       'ENSG00000238009.6',\n",
       "       ...\n",
       "       'gSpikein_ERCC-00158', 'gSpikein_ERCC-00160', 'gSpikein_ERCC-00162',\n",
       "       'gSpikein_ERCC-00163', 'gSpikein_ERCC-00164', 'gSpikein_ERCC-00165',\n",
       "       'gSpikein_ERCC-00168', 'gSpikein_ERCC-00170', 'gSpikein_ERCC-00171',\n",
       "       'gSpikein_phiX174'],\n",
       "      dtype='object', length=59526)"
      ]
     },
     "execution_count": 33,
     "metadata": {},
     "output_type": "execute_result"
    }
   ],
   "source": [
    "all_filtered.var_names"
   ]
  },
  {
   "cell_type": "code",
   "execution_count": 40,
   "id": "talented-radar",
   "metadata": {},
   "outputs": [],
   "source": [
    "all_filtered.var['count'] = all_filtered.X.sum(axis=0).T"
   ]
  },
  {
   "cell_type": "code",
   "execution_count": 42,
   "id": "blocked-update",
   "metadata": {},
   "outputs": [
    {
     "name": "stdout",
     "output_type": "stream",
     "text": [
      "23.24999237060547\n"
     ]
    }
   ],
   "source": [
    "for key in all_filtered.var['count']:\n",
    "    print(key)\n",
    "    break"
   ]
  },
  {
   "cell_type": "code",
   "execution_count": 48,
   "id": "appointed-software",
   "metadata": {},
   "outputs": [
    {
     "data": {
      "text/plain": [
       "<zip at 0x7f98d085f1c0>"
      ]
     },
     "execution_count": 48,
     "metadata": {},
     "output_type": "execute_result"
    }
   ],
   "source": [
    "for row in all_filtered.var['count'].iteritems()"
   ]
  },
  {
   "cell_type": "code",
   "execution_count": null,
   "id": "fatal-church",
   "metadata": {},
   "outputs": [],
   "source": []
  }
 ],
 "metadata": {
  "kernelspec": {
   "display_name": "Python 3",
   "language": "python",
   "name": "python3"
  },
  "language_info": {
   "codemirror_mode": {
    "name": "ipython",
    "version": 3
   },
   "file_extension": ".py",
   "mimetype": "text/x-python",
   "name": "python",
   "nbconvert_exporter": "python",
   "pygments_lexer": "ipython3",
   "version": "3.9.1+"
  }
 },
 "nbformat": 4,
 "nbformat_minor": 5
}
