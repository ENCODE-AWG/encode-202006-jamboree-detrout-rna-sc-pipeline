{
 "cells": [
  {
   "cell_type": "markdown",
   "metadata": {},
   "source": [
    "# Introduction"
   ]
  },
  {
   "cell_type": "markdown",
   "metadata": {},
   "source": [
    "Do the C1 libraries have the same spike-ins?"
   ]
  },
  {
   "cell_type": "code",
   "execution_count": 1,
   "metadata": {},
   "outputs": [],
   "source": [
    "import os\n",
    "import sys\n",
    "import pandas\n",
    "from pathlib import Path"
   ]
  },
  {
   "cell_type": "code",
   "execution_count": 3,
   "metadata": {},
   "outputs": [],
   "source": [
    "HTSW = str(Path('~/proj/htsworkflow').expanduser())\n",
    "if HTSW not in sys.path:\n",
    "    sys.path.append(HTSW)\n",
    "    \n",
    "from htsworkflow.submission.encoded import ENCODED"
   ]
  },
  {
   "cell_type": "code",
   "execution_count": 6,
   "metadata": {},
   "outputs": [],
   "source": [
    "server = ENCODED('www.encodeproject.org')"
   ]
  },
  {
   "cell_type": "code",
   "execution_count": 4,
   "metadata": {},
   "outputs": [],
   "source": [
    "libraries = []\n",
    "with open('c1_e10.5_cells.txt', 'rt') as instream:\n",
    "    for line in instream:\n",
    "        libraries.append(line.strip())"
   ]
  },
  {
   "cell_type": "code",
   "execution_count": null,
   "metadata": {},
   "outputs": [],
   "source": []
  },
  {
   "cell_type": "code",
   "execution_count": 12,
   "metadata": {},
   "outputs": [],
   "source": [
    "spikeins_used = {}\n",
    "for library_id in libraries:\n",
    "    obj = server.get_json(f'barbara-wold:{library_id}')\n",
    "    spikein = obj['spikeins_used']\n",
    "    assert len(spikein) == 1\n",
    "    spikeins_used.setdefault(spikein[0], set()).add(library_id)"
   ]
  },
  {
   "cell_type": "code",
   "execution_count": 16,
   "metadata": {},
   "outputs": [
    {
     "name": "stdout",
     "output_type": "stream",
     "text": [
      "/references/ENCSR013YHQ/ 18\n",
      "/references/ENCSR156CIL/ 55\n",
      "/references/ENCSR535LMC/ 59\n",
      "/references/ENCSR722NWD/ 78\n",
      "/references/ENCSR881CTY/ 41\n"
     ]
    }
   ],
   "source": [
    "for k in sorted(spikeins_used.keys()):\n",
    "    print(k, len(spikeins_used[k]))"
   ]
  },
  {
   "cell_type": "code",
   "execution_count": null,
   "metadata": {},
   "outputs": [],
   "source": []
  }
 ],
 "metadata": {
  "kernelspec": {
   "display_name": "Python 3",
   "language": "python",
   "name": "python3"
  },
  "language_info": {
   "codemirror_mode": {
    "name": "ipython",
    "version": 3
   },
   "file_extension": ".py",
   "mimetype": "text/x-python",
   "name": "python",
   "nbconvert_exporter": "python",
   "pygments_lexer": "ipython3",
   "version": "3.8.5"
  }
 },
 "nbformat": 4,
 "nbformat_minor": 4
}
