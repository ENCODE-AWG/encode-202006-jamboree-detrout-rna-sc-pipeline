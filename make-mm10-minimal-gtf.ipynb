{
 "cells": [
  {
   "cell_type": "code",
   "execution_count": null,
   "metadata": {},
   "outputs": [],
   "source": []
  },
  {
   "cell_type": "code",
   "execution_count": 21,
   "metadata": {},
   "outputs": [],
   "source": [
    "import pandas\n",
    "from pathlib import Path\n",
    "import os\n",
    "import sys\n",
    "from matplotlib import pyplot\n",
    "import upsetplot\n",
    "from collections import Counter"
   ]
  },
  {
   "cell_type": "code",
   "execution_count": 17,
   "metadata": {},
   "outputs": [],
   "source": [
    "%matplotlib inline"
   ]
  },
  {
   "cell_type": "code",
   "execution_count": 2,
   "metadata": {},
   "outputs": [],
   "source": [
    "LRSC = str(Path('~/proj/long-rna-seq-condor').expanduser())\n",
    "if LRSC not in sys.path:\n",
    "    sys.path.append(LRSC)\n",
    "from woldrnaseq.gff2table import GFFParser, format_gtf_record"
   ]
  },
  {
   "cell_type": "code",
   "execution_count": 3,
   "metadata": {},
   "outputs": [],
   "source": [
    "minimal_gtf = Path('genome/mm10-M21_minimal-male/10x_genes.gtf')\n",
    "encode_gtf = Path('~/proj/genome/mm10-M21-male/gencode.vM21-tRNAs-ERCC.gff').expanduser()"
   ]
  },
  {
   "cell_type": "code",
   "execution_count": 4,
   "metadata": {},
   "outputs": [
    {
     "name": "stdout",
     "output_type": "stream",
     "text": [
      "gtf.shape (1879554, 9)\n"
     ]
    }
   ],
   "source": [
    "encode_parser = GFFParser()\n",
    "encode_parser.read_gff(encode_gtf)"
   ]
  },
  {
   "cell_type": "code",
   "execution_count": 5,
   "metadata": {},
   "outputs": [
    {
     "name": "stdout",
     "output_type": "stream",
     "text": [
      "gtf.shape (1704065, 9)\n"
     ]
    }
   ],
   "source": [
    "minimal_parser = GFFParser()\n",
    "minimal_parser.read_gff(minimal_gtf)"
   ]
  },
  {
   "cell_type": "code",
   "execution_count": 6,
   "metadata": {},
   "outputs": [
    {
     "data": {
      "text/html": [
       "<div>\n",
       "<style scoped>\n",
       "    .dataframe tbody tr th:only-of-type {\n",
       "        vertical-align: middle;\n",
       "    }\n",
       "\n",
       "    .dataframe tbody tr th {\n",
       "        vertical-align: top;\n",
       "    }\n",
       "\n",
       "    .dataframe thead th {\n",
       "        text-align: right;\n",
       "    }\n",
       "</style>\n",
       "<table border=\"1\" class=\"dataframe\">\n",
       "  <thead>\n",
       "    <tr style=\"text-align: right;\">\n",
       "      <th></th>\n",
       "      <th>count</th>\n",
       "    </tr>\n",
       "  </thead>\n",
       "  <tbody>\n",
       "    <tr>\n",
       "      <th>protein_coding</th>\n",
       "      <td>1642941</td>\n",
       "    </tr>\n",
       "    <tr>\n",
       "      <th>lincRNA</th>\n",
       "      <td>38222</td>\n",
       "    </tr>\n",
       "    <tr>\n",
       "      <th>antisense</th>\n",
       "      <td>17995</td>\n",
       "    </tr>\n",
       "    <tr>\n",
       "      <th>IG_V_gene</th>\n",
       "      <td>2000</td>\n",
       "    </tr>\n",
       "    <tr>\n",
       "      <th>TR_V_gene</th>\n",
       "      <td>1350</td>\n",
       "    </tr>\n",
       "    <tr>\n",
       "      <th>IG_V_pseudogene</th>\n",
       "      <td>578</td>\n",
       "    </tr>\n",
       "    <tr>\n",
       "      <th>TR_J_gene</th>\n",
       "      <td>292</td>\n",
       "    </tr>\n",
       "    <tr>\n",
       "      <th>IG_C_gene</th>\n",
       "      <td>242</td>\n",
       "    </tr>\n",
       "    <tr>\n",
       "      <th>TR_V_pseudogene</th>\n",
       "      <td>115</td>\n",
       "    </tr>\n",
       "    <tr>\n",
       "      <th>TR_C_gene</th>\n",
       "      <td>113</td>\n",
       "    </tr>\n",
       "    <tr>\n",
       "      <th>IG_D_gene</th>\n",
       "      <td>78</td>\n",
       "    </tr>\n",
       "    <tr>\n",
       "      <th>IG_J_gene</th>\n",
       "      <td>64</td>\n",
       "    </tr>\n",
       "    <tr>\n",
       "      <th>TR_J_pseudogene</th>\n",
       "      <td>30</td>\n",
       "    </tr>\n",
       "    <tr>\n",
       "      <th>IG_LV_gene</th>\n",
       "      <td>22</td>\n",
       "    </tr>\n",
       "    <tr>\n",
       "      <th>TR_D_gene</th>\n",
       "      <td>18</td>\n",
       "    </tr>\n",
       "    <tr>\n",
       "      <th>IG_C_pseudogene</th>\n",
       "      <td>5</td>\n",
       "    </tr>\n",
       "  </tbody>\n",
       "</table>\n",
       "</div>"
      ],
      "text/plain": [
       "                   count\n",
       "protein_coding   1642941\n",
       "lincRNA            38222\n",
       "antisense          17995\n",
       "IG_V_gene           2000\n",
       "TR_V_gene           1350\n",
       "IG_V_pseudogene      578\n",
       "TR_J_gene            292\n",
       "IG_C_gene            242\n",
       "TR_V_pseudogene      115\n",
       "TR_C_gene            113\n",
       "IG_D_gene             78\n",
       "IG_J_gene             64\n",
       "TR_J_pseudogene       30\n",
       "IG_LV_gene            22\n",
       "TR_D_gene             18\n",
       "IG_C_pseudogene        5"
      ]
     },
     "execution_count": 6,
     "metadata": {},
     "output_type": "execute_result"
    }
   ],
   "source": [
    "minimal_types = pandas.Series(Counter(minimal_parser.gtf['gene_biotype'])).sort_values(ascending=False).to_frame(name='count')\n",
    "minimal_types"
   ]
  },
  {
   "cell_type": "code",
   "execution_count": 14,
   "metadata": {},
   "outputs": [],
   "source": [
    "def strip_version(gene_id):\n",
    "    if isinstance(gene_id, str) and gene_id.startswith('ENSMUS'):\n",
    "        return gene_id.split('.')[0]\n",
    "    else:\n",
    "        return gene_id\n",
    "    \n",
    "encode_gene_ids = set([strip_version(x) for x in encode_parser.gtf['gene_id']])"
   ]
  },
  {
   "cell_type": "code",
   "execution_count": 19,
   "metadata": {},
   "outputs": [],
   "source": [
    "minimal_gene_ids = set(minimal_parser.gtf['gene_id'])"
   ]
  },
  {
   "cell_type": "markdown",
   "metadata": {},
   "source": [
    "# Make our own GTF file that only includes the 10x records and the spike ins."
   ]
  },
  {
   "cell_type": "code",
   "execution_count": 7,
   "metadata": {},
   "outputs": [
    {
     "data": {
      "text/plain": [
       "{-1, 1}"
      ]
     },
     "execution_count": 7,
     "metadata": {},
     "output_type": "execute_result"
    }
   ],
   "source": [
    "set(encode_parser.gtf['strand'])"
   ]
  },
  {
   "cell_type": "code",
   "execution_count": 8,
   "metadata": {},
   "outputs": [
    {
     "data": {
      "text/plain": [
       "'chr1\\tENSEMBL\\ttRNA\\t112349389\\t112349461\\t.\\t+\\t.\\tgene_id \"896\"; transcript_id \"896\"; gene_type \"Pseudo_tRNA\"; transcript_type \"896\"; transcript_name \"Pseudo_tRNA\";'"
      ]
     },
     "execution_count": 8,
     "metadata": {},
     "output_type": "execute_result"
    }
   ],
   "source": [
    "format_gtf_record(encode_parser.gtf.iloc[0])"
   ]
  },
  {
   "cell_type": "code",
   "execution_count": 9,
   "metadata": {},
   "outputs": [],
   "source": [
    "det_minimal = Path('genome/mm10-M21_minimal-male/mm10-M21_minimal_det-male.gtf')"
   ]
  },
  {
   "cell_type": "code",
   "execution_count": 10,
   "metadata": {},
   "outputs": [],
   "source": [
    "desired_types = set(minimal_types.index)\n",
    "with open(det_minimal, 'wt') as outstream:\n",
    "    for i, row in encode_parser.gtf.iterrows():\n",
    "        if row.gene_type in desired_types or row.source == 'spikein':\n",
    "            outstream.write(format_gtf_record(row))\n",
    "            outstream.write(os.linesep)"
   ]
  },
  {
   "cell_type": "code",
   "execution_count": 11,
   "metadata": {},
   "outputs": [
    {
     "data": {
      "text/plain": [
       "(1879554, 24)"
      ]
     },
     "execution_count": 11,
     "metadata": {},
     "output_type": "execute_result"
    }
   ],
   "source": [
    "encode_parser.gtf.shape"
   ]
  },
  {
   "cell_type": "code",
   "execution_count": 12,
   "metadata": {},
   "outputs": [
    {
     "name": "stdout",
     "output_type": "stream",
     "text": [
      "gtf.shape (1759465, 9)\n"
     ]
    }
   ],
   "source": [
    "det_minimal_parser = GFFParser(sep=' ')\n",
    "det_minimal_parser.read_gff(det_minimal)"
   ]
  },
  {
   "cell_type": "code",
   "execution_count": 22,
   "metadata": {},
   "outputs": [
    {
     "data": {
      "image/png": "[encoded data removed]",
      "text/plain": [
       "<Figure size 410.111x400 with 4 Axes>"
      ]
     },
     "metadata": {
      "needs_background": "light"
     },
     "output_type": "display_data"
    }
   ],
   "source": [
    "det_minimal_gene_ids = {strip_version(x) for x in det_minimal_parser.gtf['gene_id']}\n",
    "upset_gene3_contents = upsetplot.from_contents({\n",
    "    'encode': encode_gene_ids,\n",
    "    '10x_minimal': minimal_gene_ids,\n",
    "    'det_minimal': det_minimal_gene_ids,\n",
    "})\n",
    "\n",
    "f = pyplot.figure(dpi=100)\n",
    "_ = upsetplot.plot(upset_gene3_contents, fig=f, show_counts=True)"
   ]
  },
  {
   "cell_type": "code",
   "execution_count": null,
   "metadata": {},
   "outputs": [],
   "source": []
  },
  {
   "cell_type": "code",
   "execution_count": 23,
   "metadata": {},
   "outputs": [
    {
     "data": {
      "text/plain": [
       "{'ENSMUSG00000020812',\n",
       " 'ENSMUSG00000034339',\n",
       " 'ENSMUSG00000037603',\n",
       " 'ENSMUSG00000040775',\n",
       " 'ENSMUSG00000043346',\n",
       " 'ENSMUSG00000044424',\n",
       " 'ENSMUSG00000044645',\n",
       " 'ENSMUSG00000049124',\n",
       " 'ENSMUSG00000051255',\n",
       " 'ENSMUSG00000052730',\n",
       " 'ENSMUSG00000055795',\n",
       " 'ENSMUSG00000058064',\n",
       " 'ENSMUSG00000061062',\n",
       " 'ENSMUSG00000062036',\n",
       " 'ENSMUSG00000062083',\n",
       " 'ENSMUSG00000062742',\n",
       " 'ENSMUSG00000066057',\n",
       " 'ENSMUSG00000066983',\n",
       " 'ENSMUSG00000067608',\n",
       " 'ENSMUSG00000068604',\n",
       " 'ENSMUSG00000069379',\n",
       " 'ENSMUSG00000071033',\n",
       " 'ENSMUSG00000071052',\n",
       " 'ENSMUSG00000071273',\n",
       " 'ENSMUSG00000073371',\n",
       " 'ENSMUSG00000073448',\n",
       " 'ENSMUSG00000073532',\n",
       " 'ENSMUSG00000073640',\n",
       " 'ENSMUSG00000079382',\n",
       " 'ENSMUSG00000081512',\n",
       " 'ENSMUSG00000085287',\n",
       " 'ENSMUSG00000086154',\n",
       " 'ENSMUSG00000086875',\n",
       " 'ENSMUSG00000087112',\n",
       " 'ENSMUSG00000091230',\n",
       " 'ENSMUSG00000091285',\n",
       " 'ENSMUSG00000091449',\n",
       " 'ENSMUSG00000091695',\n",
       " 'ENSMUSG00000091742',\n",
       " 'ENSMUSG00000091775',\n",
       " 'ENSMUSG00000091968',\n",
       " 'ENSMUSG00000092097',\n",
       " 'ENSMUSG00000092178',\n",
       " 'ENSMUSG00000092564',\n",
       " 'ENSMUSG00000093531',\n",
       " 'ENSMUSG00000095266',\n",
       " 'ENSMUSG00000095369',\n",
       " 'ENSMUSG00000096042',\n",
       " 'ENSMUSG00000096361',\n",
       " 'ENSMUSG00000096528',\n",
       " 'ENSMUSG00000097047',\n",
       " 'ENSMUSG00000097119',\n",
       " 'ENSMUSG00000097222',\n",
       " 'ENSMUSG00000097313',\n",
       " 'ENSMUSG00000097350',\n",
       " 'ENSMUSG00000097387',\n",
       " 'ENSMUSG00000097557',\n",
       " 'ENSMUSG00000097558',\n",
       " 'ENSMUSG00000097690',\n",
       " 'ENSMUSG00000097693',\n",
       " 'ENSMUSG00000097746',\n",
       " 'ENSMUSG00000097787',\n",
       " 'ENSMUSG00000097835',\n",
       " 'ENSMUSG00000099474',\n",
       " 'ENSMUSG00000099988',\n",
       " 'ENSMUSG00000101966',\n",
       " 'ENSMUSG00000107325',\n",
       " 'ENSMUSG00000114469'}"
      ]
     },
     "execution_count": 23,
     "metadata": {},
     "output_type": "execute_result"
    }
   ],
   "source": [
    "not_in_mine = minimal_gene_ids.intersection(encode_gene_ids).difference(det_minimal_gene_ids)\n",
    "not_in_mine"
   ]
  },
  {
   "cell_type": "code",
   "execution_count": 24,
   "metadata": {},
   "outputs": [
    {
     "name": "stdout",
     "output_type": "stream",
     "text": [
      "gene_id               minimal type          encode type                   \n",
      "ENSMUSG00000097787    lincRNA               bidirectional_promoter_lncRNA \n",
      "ENSMUSG00000101966    lincRNA               processed_pseudogene          \n",
      "ENSMUSG00000071273    protein_coding        processed_pseudogene          \n",
      "ENSMUSG00000055795    protein_coding        processed_pseudogene          \n",
      "ENSMUSG00000091695    protein_coding        processed_pseudogene          \n",
      "ENSMUSG00000097746    lincRNA               processed_transcript          \n",
      "ENSMUSG00000096361    protein_coding        processed_pseudogene          \n",
      "ENSMUSG00000062742    protein_coding        processed_pseudogene          \n",
      "ENSMUSG00000058064    protein_coding        processed_pseudogene          \n",
      "ENSMUSG00000020812    protein_coding        processed_transcript          \n",
      "ENSMUSG00000095369    lincRNA               processed_transcript          \n",
      "ENSMUSG00000073448    protein_coding        processed_pseudogene          \n",
      "ENSMUSG00000086154    lincRNA               bidirectional_promoter_lncRNA \n",
      "ENSMUSG00000073640    protein_coding        processed_pseudogene          \n",
      "ENSMUSG00000099474    antisense             bidirectional_promoter_lncRNA \n",
      "ENSMUSG00000043346    protein_coding        processed_pseudogene          \n",
      "ENSMUSG00000034339    protein_coding        processed_pseudogene          \n",
      "ENSMUSG00000097693    lincRNA               transcribed_processed_pseudogene\n",
      "ENSMUSG00000091742    protein_coding        processed_pseudogene          \n",
      "ENSMUSG00000097835    lincRNA               bidirectional_promoter_lncRNA \n",
      "ENSMUSG00000107325    lincRNA               TEC                           \n",
      "ENSMUSG00000069379    protein_coding        processed_pseudogene          \n",
      "ENSMUSG00000096042    protein_coding        unprocessed_pseudogene        \n",
      "ENSMUSG00000037603    protein_coding        processed_pseudogene          \n",
      "ENSMUSG00000099988    lincRNA               processed_transcript          \n",
      "ENSMUSG00000096528    protein_coding        TEC                           \n",
      "ENSMUSG00000091230    protein_coding        processed_pseudogene          \n",
      "ENSMUSG00000097690    lincRNA               bidirectional_promoter_lncRNA \n",
      "ENSMUSG00000081512    protein_coding        macro_lncRNA                  \n",
      "ENSMUSG00000079382    protein_coding        transcribed_unitary_pseudogene\n",
      "ENSMUSG00000049124    protein_coding        processed_pseudogene          \n",
      "ENSMUSG00000052730    protein_coding        processed_transcript          \n",
      "ENSMUSG00000071033    protein_coding        3prime_overlapping_ncRNA      \n",
      "ENSMUSG00000066983    protein_coding        processed_pseudogene          \n",
      "ENSMUSG00000097387    lincRNA               bidirectional_promoter_lncRNA \n",
      "ENSMUSG00000097313    lincRNA               processed_transcript          \n",
      "ENSMUSG00000091775    protein_coding        processed_pseudogene          \n",
      "ENSMUSG00000095266    protein_coding        processed_pseudogene          \n",
      "ENSMUSG00000044645    protein_coding        processed_pseudogene          \n",
      "ENSMUSG00000091285    protein_coding        processed_pseudogene          \n",
      "ENSMUSG00000097047    lincRNA               bidirectional_promoter_lncRNA \n",
      "ENSMUSG00000091968    antisense             bidirectional_promoter_lncRNA \n",
      "ENSMUSG00000073371    protein_coding        processed_pseudogene          \n",
      "ENSMUSG00000071052    protein_coding        processed_pseudogene          \n",
      "ENSMUSG00000051255    protein_coding        processed_pseudogene          \n",
      "ENSMUSG00000040775    protein_coding        processed_pseudogene          \n",
      "ENSMUSG00000067608    protein_coding        processed_pseudogene          \n",
      "ENSMUSG00000092097    protein_coding        processed_pseudogene          \n",
      "ENSMUSG00000097222    lincRNA               processed_transcript          \n",
      "ENSMUSG00000066057    lincRNA               processed_transcript          \n",
      "ENSMUSG00000062036    lincRNA               transcribed_processed_pseudogene\n",
      "ENSMUSG00000114469    antisense             processed_transcript          \n",
      "ENSMUSG00000061062    protein_coding        processed_pseudogene          \n",
      "ENSMUSG00000086875    protein_coding        unprocessed_pseudogene        \n",
      "ENSMUSG00000097557    lincRNA               bidirectional_promoter_lncRNA \n",
      "ENSMUSG00000097350    lincRNA               bidirectional_promoter_lncRNA \n",
      "ENSMUSG00000091449    protein_coding        processed_pseudogene          \n",
      "ENSMUSG00000092178    lincRNA               unprocessed_pseudogene        \n",
      "ENSMUSG00000092564    antisense             bidirectional_promoter_lncRNA \n",
      "ENSMUSG00000097119    lincRNA               bidirectional_promoter_lncRNA \n",
      "ENSMUSG00000085287    lincRNA               processed_transcript          \n",
      "ENSMUSG00000097558    lincRNA               bidirectional_promoter_lncRNA \n",
      "ENSMUSG00000087112    lincRNA               unprocessed_pseudogene        \n",
      "ENSMUSG00000068604    protein_coding        processed_pseudogene          \n",
      "ENSMUSG00000062083    protein_coding        processed_pseudogene          \n",
      "ENSMUSG00000093531    protein_coding        unprocessed_pseudogene        \n",
      "ENSMUSG00000073532    protein_coding        bidirectional_promoter_lncRNA \n",
      "ENSMUSG00000044424    protein_coding        processed_pseudogene          \n"
     ]
    }
   ],
   "source": [
    "print('{:20}  {:20}  {:30}'.format('gene_id', 'minimal type', 'encode type'))\n",
    "for to_check in not_in_mine:\n",
    "    records = minimal_parser.gtf[minimal_parser.gtf['gene_id'] == to_check]\n",
    "    row = records.loc[records.first_valid_index()]\n",
    "    encode = encode_parser.gtf[[x.startswith(to_check) for x in encode_parser.gtf['gene_id']]]\n",
    "    encode_row = encode.loc[encode.first_valid_index()]\n",
    "    print('{:20}  {:20}  {:30}'.format(row.gene_id, row.gene_biotype, encode_row.gene_type))"
   ]
  },
  {
   "cell_type": "code",
   "execution_count": null,
   "metadata": {},
   "outputs": [],
   "source": []
  },
  {
   "cell_type": "markdown",
   "metadata": {},
   "source": [
    "# Check the generated transcript files"
   ]
  },
  {
   "cell_type": "code",
   "execution_count": null,
   "metadata": {},
   "outputs": [],
   "source": [
    "def get_fasta_headers(filename, strip_version=False):\n",
    "    headers = set()\n",
    "    with open(filename, 'rt') as instream:\n",
    "        for line in instream:\n",
    "            if line[0] == '>':\n",
    "                end_of_line = -1\n",
    "                if strip_version:\n",
    "                    end_of_line = line.find('.')\n",
    "                header = line[1:end_of_line]\n",
    "                headers.add(header)\n",
    "    return headers"
   ]
  },
  {
   "cell_type": "code",
   "execution_count": null,
   "metadata": {},
   "outputs": [],
   "source": [
    "minimal_transcripts = get_fasta_headers('genome/mm10-M21_minimal-male/rsem.transcripts.fa')"
   ]
  },
  {
   "cell_type": "code",
   "execution_count": null,
   "metadata": {},
   "outputs": [],
   "source": [
    "full_transcripts = get_fasta_headers(Path('~/proj/genome/mm10-M21-male/rsem.transcripts.fa').expanduser())"
   ]
  },
  {
   "cell_type": "code",
   "execution_count": null,
   "metadata": {},
   "outputs": [],
   "source": [
    "upset_rsem = upsetplot.from_contents({\n",
    "    'encode': full_transcripts,\n",
    "    '10x_minimal': minimal_transcripts,\n",
    "})"
   ]
  },
  {
   "cell_type": "code",
   "execution_count": null,
   "metadata": {},
   "outputs": [],
   "source": [
    "f = pyplot.figure(dpi=100)\n",
    "_ = upsetplot.plot(upset_rsem, fig=f, show_counts=True)"
   ]
  }
 ],
 "metadata": {
  "kernelspec": {
   "display_name": "Python 3",
   "language": "python",
   "name": "python3"
  },
  "language_info": {
   "codemirror_mode": {
    "name": "ipython",
    "version": 3
   },
   "file_extension": ".py",
   "mimetype": "text/x-python",
   "name": "python",
   "nbconvert_exporter": "python",
   "pygments_lexer": "ipython3",
   "version": "3.8.5"
  }
 },
 "nbformat": 4,
 "nbformat_minor": 4
}
