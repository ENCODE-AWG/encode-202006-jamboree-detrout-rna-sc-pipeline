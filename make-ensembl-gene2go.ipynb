{
 "cells": [
  {
   "cell_type": "markdown",
   "id": "powerful-thriller",
   "metadata": {},
   "source": [
    "# Introduction"
   ]
  },
  {
   "cell_type": "markdown",
   "id": "surrounded-artist",
   "metadata": {},
   "source": [
    "goatools wants to read an NCBI gene2go file for building its gene dictionary... I have Ensembl IDs. I found a uniprot database that has mappings...\n",
    "\n",
    "Merging other files didn't work.\n",
    "\n",
    "I found on <a href=\"http://useast.ensembl.org/biomart/\">biomart</a> a way to download Ensembl IDs to GO terms with most of the information needed to generate a gene2go file\n",
    "\n",
    "Target columns are:\n",
    "\n",
    "tax_id GeneID  GO_ID   Evidence        Qualifier       GO_term PubMed  Category\n"
   ]
  },
  {
   "cell_type": "code",
   "execution_count": 1,
   "id": "banner-revision",
   "metadata": {},
   "outputs": [],
   "source": [
    "import pandas\n",
    "import xopen"
   ]
  },
  {
   "cell_type": "code",
   "execution_count": 2,
   "id": "funny-corpus",
   "metadata": {},
   "outputs": [],
   "source": [
    "ensembl_biomart = pandas.read_csv('ensmbl_go.txt', sep='\\t')"
   ]
  },
  {
   "cell_type": "code",
   "execution_count": 3,
   "id": "developmental-shame",
   "metadata": {},
   "outputs": [
    {
     "data": {
      "text/plain": [
       "Index(['Gene stable ID', 'Gene stable ID version', 'GO term accession',\n",
       "       'GO term name', 'GO term evidence code', 'GO domain'],\n",
       "      dtype='object')"
      ]
     },
     "execution_count": 3,
     "metadata": {},
     "output_type": "execute_result"
    }
   ],
   "source": [
    "ensembl_biomart.columns"
   ]
  },
  {
   "cell_type": "code",
   "execution_count": 4,
   "id": "generous-integrity",
   "metadata": {},
   "outputs": [],
   "source": [
    "def ensembl_domain_to_category(x):\n",
    "    return {\n",
    "        'biological_process': 'Process',\n",
    "        'cellular_component': 'Component',\n",
    "        'molecular_function': 'Function',\n",
    "    }.get(x, x)"
   ]
  },
  {
   "cell_type": "code",
   "execution_count": 16,
   "id": "subject-harrison",
   "metadata": {},
   "outputs": [
    {
     "name": "stdout",
     "output_type": "stream",
     "text": [
      "(930750, 8)\n"
     ]
    },
    {
     "data": {
      "text/html": [
       "<div>\n",
       "<style scoped>\n",
       "    .dataframe tbody tr th:only-of-type {\n",
       "        vertical-align: middle;\n",
       "    }\n",
       "\n",
       "    .dataframe tbody tr th {\n",
       "        vertical-align: top;\n",
       "    }\n",
       "\n",
       "    .dataframe thead th {\n",
       "        text-align: right;\n",
       "    }\n",
       "</style>\n",
       "<table border=\"1\" class=\"dataframe\">\n",
       "  <thead>\n",
       "    <tr style=\"text-align: right;\">\n",
       "      <th></th>\n",
       "      <th>#tax_id</th>\n",
       "      <th>GeneID</th>\n",
       "      <th>GO_ID</th>\n",
       "      <th>Evidence</th>\n",
       "      <th>Qualifier</th>\n",
       "      <th>GO_term</th>\n",
       "      <th>PubMed</th>\n",
       "      <th>Category</th>\n",
       "    </tr>\n",
       "  </thead>\n",
       "  <tbody>\n",
       "    <tr>\n",
       "      <th>2</th>\n",
       "      <td>10090</td>\n",
       "      <td>ENSMUSG00000064370.1</td>\n",
       "      <td>GO:0022904</td>\n",
       "      <td>IEA</td>\n",
       "      <td>-</td>\n",
       "      <td>respiratory electron transport chain</td>\n",
       "      <td>-</td>\n",
       "      <td>Process</td>\n",
       "    </tr>\n",
       "    <tr>\n",
       "      <th>3</th>\n",
       "      <td>10090</td>\n",
       "      <td>ENSMUSG00000064370.1</td>\n",
       "      <td>GO:0016020</td>\n",
       "      <td>IEA</td>\n",
       "      <td>-</td>\n",
       "      <td>membrane</td>\n",
       "      <td>-</td>\n",
       "      <td>Component</td>\n",
       "    </tr>\n",
       "    <tr>\n",
       "      <th>4</th>\n",
       "      <td>10090</td>\n",
       "      <td>ENSMUSG00000064370.1</td>\n",
       "      <td>GO:0016021</td>\n",
       "      <td>IEA</td>\n",
       "      <td>-</td>\n",
       "      <td>integral component of membrane</td>\n",
       "      <td>-</td>\n",
       "      <td>Component</td>\n",
       "    </tr>\n",
       "    <tr>\n",
       "      <th>5</th>\n",
       "      <td>10090</td>\n",
       "      <td>ENSMUSG00000064370.1</td>\n",
       "      <td>GO:0046872</td>\n",
       "      <td>IEA</td>\n",
       "      <td>-</td>\n",
       "      <td>metal ion binding</td>\n",
       "      <td>-</td>\n",
       "      <td>Function</td>\n",
       "    </tr>\n",
       "    <tr>\n",
       "      <th>6</th>\n",
       "      <td>10090</td>\n",
       "      <td>ENSMUSG00000064370.1</td>\n",
       "      <td>GO:0032991</td>\n",
       "      <td>ISO</td>\n",
       "      <td>-</td>\n",
       "      <td>protein-containing complex</td>\n",
       "      <td>-</td>\n",
       "      <td>Component</td>\n",
       "    </tr>\n",
       "  </tbody>\n",
       "</table>\n",
       "</div>"
      ],
      "text/plain": [
       "  #tax_id                GeneID       GO_ID Evidence Qualifier  \\\n",
       "2   10090  ENSMUSG00000064370.1  GO:0022904      IEA         -   \n",
       "3   10090  ENSMUSG00000064370.1  GO:0016020      IEA         -   \n",
       "4   10090  ENSMUSG00000064370.1  GO:0016021      IEA         -   \n",
       "5   10090  ENSMUSG00000064370.1  GO:0046872      IEA         -   \n",
       "6   10090  ENSMUSG00000064370.1  GO:0032991      ISO         -   \n",
       "\n",
       "                                GO_term PubMed   Category  \n",
       "2  respiratory electron transport chain      -    Process  \n",
       "3                              membrane      -  Component  \n",
       "4        integral component of membrane      -  Component  \n",
       "5                     metal ion binding      -   Function  \n",
       "6            protein-containing complex      -  Component  "
      ]
     },
     "execution_count": 16,
     "metadata": {},
     "output_type": "execute_result"
    }
   ],
   "source": [
    "ensembl_biomart['#tax_id'] = '10090'\n",
    "ensembl_biomart['PubMed'] = '-'\n",
    "ensembl_biomart['Category'] = ensembl_biomart['GO domain'].apply(ensembl_domain_to_category)\n",
    "ensembl_biomart['Qualifier'] = '-'\n",
    "ensembl_go = ensembl_biomart.rename(columns={\n",
    "    'Gene stable ID version': 'GeneID',\n",
    "    'GO term accession': 'GO_ID',\n",
    "    'GO term evidence code': 'Evidence',\n",
    "    'GO term name': 'GO_term',\n",
    "})[[\"#tax_id\", \"GeneID\", \"GO_ID\", \"Evidence\", \"Qualifier\", \"GO_term\", \"PubMed\", \"Category\"]].dropna(how='any', subset=['GO_ID', 'Category'])\n",
    "print(ensembl_go.shape)\n",
    "ensembl_go.head()"
   ]
  },
  {
   "cell_type": "code",
   "execution_count": 17,
   "id": "paperback-shipping",
   "metadata": {},
   "outputs": [],
   "source": [
    "filename = 'ensembl_gene2go'\n",
    "#out = xopen.xopen('ensembl_gene2go.gz', 'wt')\n",
    "ensembl_go.fillna('').to_csv(filename, sep='\\t', index=False)\n",
    "#out.close()"
   ]
  },
  {
   "cell_type": "code",
   "execution_count": null,
   "id": "certified-attraction",
   "metadata": {},
   "outputs": [],
   "source": []
  }
 ],
 "metadata": {
  "kernelspec": {
   "display_name": "Python 3",
   "language": "python",
   "name": "python3"
  },
  "language_info": {
   "codemirror_mode": {
    "name": "ipython",
    "version": 3
   },
   "file_extension": ".py",
   "mimetype": "text/x-python",
   "name": "python",
   "nbconvert_exporter": "python",
   "pygments_lexer": "ipython3",
   "version": "3.9.1+"
  }
 },
 "nbformat": 4,
 "nbformat_minor": 5
}
