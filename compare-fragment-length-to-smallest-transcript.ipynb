{
 "cells": [
  {
   "cell_type": "markdown",
   "metadata": {},
   "source": [
    "# Introduction"
   ]
  },
  {
   "cell_type": "markdown",
   "metadata": {},
   "source": [
    "It seems like kallisto's fragment length seems to set a minimum size to fragments that can be observed."
   ]
  },
  {
   "cell_type": "code",
   "execution_count": 1,
   "metadata": {},
   "outputs": [],
   "source": [
    "import numpy\n",
    "import scanpy\n",
    "import anndata\n",
    "import os\n",
    "import pandas\n",
    "from matplotlib import pyplot\n",
    "from matplotlib import cm\n",
    "import scipy\n",
    "from pathlib import Path\n",
    "import upsetplot\n",
    "import louvain\n",
    "import sklearn\n",
    "import seaborn\n",
    "import logging\n",
    "\n",
    "from pipeline_common import get_gene_id_to_name, load_gtf\n",
    "#from cuml.decomposition import PCA\n",
    "#from cuml.manifold import TSNE\n"
   ]
  },
  {
   "cell_type": "code",
   "execution_count": 2,
   "metadata": {},
   "outputs": [],
   "source": [
    "analysis_dir = Path('c1_pseudo')"
   ]
  },
  {
   "cell_type": "code",
   "execution_count": 3,
   "metadata": {},
   "outputs": [],
   "source": [
    "rsem = analysis_dir / 'rsem_minimal'"
   ]
  },
  {
   "cell_type": "code",
   "execution_count": null,
   "metadata": {},
   "outputs": [],
   "source": []
  }
 ],
 "metadata": {
  "kernelspec": {
   "display_name": "Python 3",
   "language": "python",
   "name": "python3"
  },
  "language_info": {
   "codemirror_mode": {
    "name": "ipython",
    "version": 3
   },
   "file_extension": ".py",
   "mimetype": "text/x-python",
   "name": "python",
   "nbconvert_exporter": "python",
   "pygments_lexer": "ipython3",
   "version": "3.8.5"
  }
 },
 "nbformat": 4,
 "nbformat_minor": 4
}
