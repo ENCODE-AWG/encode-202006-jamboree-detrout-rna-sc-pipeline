{
 "cells": [
  {
   "cell_type": "markdown",
   "metadata": {},
   "source": [
    "# Introduction"
   ]
  },
  {
   "cell_type": "markdown",
   "metadata": {},
   "source": [
    "For the minimal datasets there are many cells for which the spearman calculation fails. I thought I should look a little harder into why."
   ]
  },
  {
   "cell_type": "code",
   "execution_count": null,
   "metadata": {},
   "outputs": [],
   "source": []
  },
  {
   "cell_type": "code",
   "execution_count": 20,
   "metadata": {},
   "outputs": [],
   "source": [
    "import anndata\n",
    "import numpy\n",
    "import pandas\n",
    "import scanpy\n",
    "import scipy\n",
    "from matplotlib import pyplot\n",
    "from pathlib import Path\n",
    "from collections import namedtuple\n",
    "\n",
    "from common import (\n",
    "    scanpy_load_alevin_mtx,\n",
    "    scanpy_load_solo_mtx,\n",
    "    scanpy_load_kallisto_gene_mtx,\n",
    "    compute_spearman_anndata,\n",
    "    load_barcode_list,\n",
    ")"
   ]
  },
  {
   "cell_type": "code",
   "execution_count": 2,
   "metadata": {},
   "outputs": [],
   "source": [
    "project_dir = Path('~/proj/encode-202006-jamboree-detrout-rna-sc-pipeline/').expanduser()\n",
    "genome_dir = project_dir / 'genome' / 'mm10-M21_minimal-male'\n",
    "analysis_dir = project_dir / 'ENCSR874BOF_e10_5_minimal_limb'"
   ]
  },
  {
   "cell_type": "code",
   "execution_count": 3,
   "metadata": {},
   "outputs": [
    {
     "data": {
      "text/plain": [
       "(6289, 31635)"
      ]
     },
     "execution_count": 3,
     "metadata": {},
     "output_type": "execute_result"
    }
   ],
   "source": [
    "solo_filtered = scanpy_load_solo_mtx(analysis_dir / 'star_solo', mode='filtered')\n",
    "solo_filtered.shape"
   ]
  },
  {
   "cell_type": "code",
   "execution_count": 4,
   "metadata": {},
   "outputs": [],
   "source": [
    "kallisto_em_raw = scanpy_load_kallisto_gene_mtx(analysis_dir / 'kallisto_em' / 'genecount')\n",
    "filtered = analysis_dir / 'kallisto_em' / 'filtered-barcodes.txt'\n",
    "kallisto_em_filtered = scanpy_load_kallisto_gene_mtx(analysis_dir / 'kallisto_em' / 'genecount', filtered)"
   ]
  },
  {
   "cell_type": "code",
   "execution_count": 5,
   "metadata": {},
   "outputs": [
    {
     "data": {
      "text/plain": [
       "(584238, 31635)"
      ]
     },
     "execution_count": 5,
     "metadata": {},
     "output_type": "execute_result"
    }
   ],
   "source": [
    "kallisto_em_raw.shape"
   ]
  },
  {
   "cell_type": "code",
   "execution_count": 6,
   "metadata": {},
   "outputs": [],
   "source": [
    "def compute_spearman_anndata(left, right):\n",
    "    \"\"\"Compute spearman on AnnData using scipy.\n",
    "\n",
    "    Does need memory\n",
    "    \"\"\"\n",
    "    common_names = list(set(left.obs_names).intersection(right.obs_names))\n",
    "    left = left[common_names,:]\n",
    "    right = right[common_names,:]\n",
    "    \n",
    "    assert left.shape == right.shape, \"Shapes must be the same\"\n",
    "    obs_names = left.obs_names\n",
    "    if isinstance(left, anndata._core.anndata.AnnData):\n",
    "        left = left.X.todense()\n",
    "    if isinstance(right, anndata._core.anndata.AnnData):\n",
    "        right = right.X.todense()\n",
    "\n",
    "    #print(left.shape[0])\n",
    "    #print(left[0].shape)\n",
    "    #print(right[0].shape)\n",
    "    cors=[]\n",
    "    for i in range(left.shape[0]):\n",
    "        spearman = scipy.stats.spearmanr(left[:,i], right[:,i])[0]\n",
    "        if pandas.isnull(spearman):\n",
    "            print(i, common_names[i])\n",
    "            return\n",
    "        cors.append(spearman)\n",
    "    cors = pandas.Series(cors, index=obs_names)\n",
    "    #[~numpy.isnan(cors)]\n",
    "    return cors\n"
   ]
  },
  {
   "cell_type": "code",
   "execution_count": 7,
   "metadata": {},
   "outputs": [
    {
     "name": "stdout",
     "output_type": "stream",
     "text": [
      "1 GATCAGTAGGATGCGT\n"
     ]
    },
    {
     "name": "stderr",
     "output_type": "stream",
     "text": [
      "/usr/lib/python3/dist-packages/numpy/lib/function_base.py:2559: RuntimeWarning: invalid value encountered in true_divide\n",
      "  c /= stddev[:, None]\n"
     ]
    }
   ],
   "source": [
    "cors = compute_spearman_anndata(solo_filtered, kallisto_em_raw)"
   ]
  },
  {
   "cell_type": "code",
   "execution_count": 8,
   "metadata": {},
   "outputs": [],
   "source": [
    "solo_filtered_dense = solo_filtered['CGGACGTCATTATCTC'].X.todense()\n",
    "kallisto_em_raw_dense = kallisto_em_raw['CGGACGTCATTATCTC'].X.todense()"
   ]
  },
  {
   "cell_type": "code",
   "execution_count": 9,
   "metadata": {},
   "outputs": [],
   "source": [
    "solo_filtered_rank = scipy.stats.rankdata(solo_filtered_dense)"
   ]
  },
  {
   "cell_type": "code",
   "execution_count": 10,
   "metadata": {},
   "outputs": [],
   "source": [
    "kallisto_em_raw_rank = scipy.stats.rankdata(kallisto_em_raw_dense)"
   ]
  },
  {
   "cell_type": "code",
   "execution_count": 11,
   "metadata": {},
   "outputs": [
    {
     "data": {
      "text/plain": [
       "6092.285348806457"
      ]
     },
     "execution_count": 11,
     "metadata": {},
     "output_type": "execute_result"
    }
   ],
   "source": [
    "solo_filtered_rank_std = numpy.std(solo_filtered_rank)\n",
    "solo_filtered_rank_std"
   ]
  },
  {
   "cell_type": "code",
   "execution_count": 12,
   "metadata": {},
   "outputs": [
    {
     "data": {
      "text/plain": [
       "6174.819301269869"
      ]
     },
     "execution_count": 12,
     "metadata": {},
     "output_type": "execute_result"
    }
   ],
   "source": [
    "kallisto_em_raw_raw_std = numpy.std(kallisto_em_raw_rank)\n",
    "kallisto_em_raw_raw_std"
   ]
  },
  {
   "cell_type": "code",
   "execution_count": 13,
   "metadata": {},
   "outputs": [
    {
     "data": {
      "text/plain": [
       "(0.9172305172141176, 0.0)"
      ]
     },
     "execution_count": 13,
     "metadata": {},
     "output_type": "execute_result"
    }
   ],
   "source": [
    "scipy.stats.pearsonr(solo_filtered_rank, kallisto_em_raw_rank)"
   ]
  },
  {
   "cell_type": "code",
   "execution_count": 17,
   "metadata": {},
   "outputs": [
    {
     "data": {
      "text/plain": [
       "array([[37117114.06396598, 34506166.51554498],\n",
       "       [34506166.51554498, 38129598.70122337]])"
      ]
     },
     "execution_count": 17,
     "metadata": {},
     "output_type": "execute_result"
    }
   ],
   "source": [
    "cov = numpy.cov(solo_filtered_rank, kallisto_em_raw_rank)\n",
    "cov"
   ]
  },
  {
   "cell_type": "code",
   "execution_count": 18,
   "metadata": {},
   "outputs": [
    {
     "data": {
      "text/plain": [
       "array([[0.98666498, 0.91725951],\n",
       "       [0.91725951, 1.01357933]])"
      ]
     },
     "execution_count": 18,
     "metadata": {},
     "output_type": "execute_result"
    }
   ],
   "source": [
    "cov / (solo_filtered_rank_std * kallisto_em_raw_raw_std)"
   ]
  },
  {
   "cell_type": "code",
   "execution_count": 31,
   "metadata": {},
   "outputs": [],
   "source": [
    "import numpy.ma as ma\n",
    "import numpy as np\n",
    "from scipy.stats.mstats_basic import _chk_asarray\n",
    "\n",
    "SpearmanrResult = namedtuple('SpearmanrResult', ('correlation', 'pvalue'))\n",
    "\n",
    "\n",
    "def spearmanr(x, y=None, use_ties=True, axis=None, nan_policy='propagate'):\n",
    "    \"\"\"\n",
    "    Calculates a Spearman rank-order correlation coefficient and the p-value\n",
    "    to test for non-correlation.\n",
    "    The Spearman correlation is a nonparametric measure of the linear\n",
    "    relationship between two datasets. Unlike the Pearson correlation, the\n",
    "    Spearman correlation does not assume that both datasets are normally\n",
    "    distributed. Like other correlation coefficients, this one varies\n",
    "    between -1 and +1 with 0 implying no correlation. Correlations of -1 or\n",
    "    +1 imply a monotonic relationship. Positive correlations imply that\n",
    "    as `x` increases, so does `y`. Negative correlations imply that as `x`\n",
    "    increases, `y` decreases.\n",
    "    Missing values are discarded pair-wise: if a value is missing in `x`, the\n",
    "    corresponding value in `y` is masked.\n",
    "    The p-value roughly indicates the probability of an uncorrelated system\n",
    "    producing datasets that have a Spearman correlation at least as extreme\n",
    "    as the one computed from these datasets. The p-values are not entirely\n",
    "    reliable but are probably reasonable for datasets larger than 500 or so.\n",
    "    Parameters\n",
    "    ----------\n",
    "    x, y : 1D or 2D array_like, y is optional\n",
    "        One or two 1-D or 2-D arrays containing multiple variables and\n",
    "        observations. When these are 1-D, each represents a vector of\n",
    "        observations of a single variable. For the behavior in the 2-D case,\n",
    "        see under ``axis``, below.\n",
    "    use_ties : bool, optional\n",
    "        DO NOT USE.  Does not do anything, keyword is only left in place for\n",
    "        backwards compatibility reasons.\n",
    "    axis : int or None, optional\n",
    "        If axis=0 (default), then each column represents a variable, with\n",
    "        observations in the rows. If axis=1, the relationship is transposed:\n",
    "        each row represents a variable, while the columns contain observations.\n",
    "        If axis=None, then both arrays will be raveled.\n",
    "    nan_policy : {'propagate', 'raise', 'omit'}, optional\n",
    "        Defines how to handle when input contains nan. 'propagate' returns nan,\n",
    "        'raise' throws an error, 'omit' performs the calculations ignoring nan\n",
    "        values. Default is 'propagate'.\n",
    "    Returns\n",
    "    -------\n",
    "    correlation : float\n",
    "        Spearman correlation coefficient\n",
    "    pvalue : float\n",
    "        2-tailed p-value.\n",
    "    References\n",
    "    ----------\n",
    "    [CRCProbStat2000] section 14.7\n",
    "    \"\"\"\n",
    "    if not use_ties:\n",
    "        raise ValueError(\"`use_ties=False` is not supported in SciPy >= 1.2.0\")\n",
    "\n",
    "    # Always returns a masked array, raveled if axis=None\n",
    "    x, axisout = _chk_asarray(x, axis)\n",
    "    if y is not None:\n",
    "        # Deal only with 2-D `x` case.\n",
    "        y, _ = _chk_asarray(y, axis)\n",
    "        if axisout == 0:\n",
    "            x = ma.column_stack((x, y))\n",
    "        else:\n",
    "            x = ma.row_stack((x, y))\n",
    "\n",
    "    if axisout == 1:\n",
    "        # To simplify the code that follow (always use `n_obs, n_vars` shape)\n",
    "        x = x.T\n",
    "\n",
    "    if nan_policy == 'omit':\n",
    "        x = ma.masked_invalid(x)\n",
    "\n",
    "    def _spearmanr_2cols(x):\n",
    "        # Mask the same observations for all variables, and then drop those\n",
    "        # observations (can't leave them masked, rankdata is weird).\n",
    "        x = ma.mask_rowcols(x, axis=0)\n",
    "        x = x[~x.mask.any(axis=1), :]\n",
    "\n",
    "        # If either column is entirely NaN or Inf\n",
    "        if not np.any(x.data):\n",
    "            return SpearmanrResult(np.nan, np.nan)\n",
    "\n",
    "        m = ma.getmask(x)\n",
    "        n_obs = x.shape[0]\n",
    "        dof = n_obs - 2 - int(m.sum(axis=0)[0])\n",
    "        if dof < 0:\n",
    "            raise ValueError(\"The input must have at least 3 entries!\")\n",
    "\n",
    "        # Gets the ranks and rank differences\n",
    "        x_ranked = rankdata(x, axis=0)\n",
    "        rs = ma.corrcoef(x_ranked, rowvar=False).data\n",
    "\n",
    "        # rs can have elements equal to 1, so avoid zero division warnings\n",
    "        #with np.errstate(divide='ignore'):\n",
    "            # clip the small negative values possibly caused by rounding\n",
    "            # errors before taking the square root\n",
    "        t = rs * np.sqrt((dof / ((rs+1.0) * (1.0-rs))).clip(0))\n",
    "\n",
    "        prob = 2 * distributions.t.sf(np.abs(t), dof)\n",
    "\n",
    "        # For backwards compatibility, return scalars when comparing 2 columns\n",
    "        if rs.shape == (2, 2):\n",
    "            return SpearmanrResult(rs[1, 0], prob[1, 0])\n",
    "        else:\n",
    "            return SpearmanrResult(rs, prob)\n",
    "\n",
    "    # Need to do this per pair of variables, otherwise the dropped observations\n",
    "    # in a third column mess up the result for a pair.\n",
    "    n_vars = x.shape[1]\n",
    "    if n_vars == 2:\n",
    "        return _spearmanr_2cols(x)\n",
    "    else:\n",
    "        rs = np.ones((n_vars, n_vars), dtype=float)\n",
    "        prob = np.zeros((n_vars, n_vars), dtype=float)\n",
    "        for var1 in range(n_vars - 1):\n",
    "            for var2 in range(var1+1, n_vars):\n",
    "                result = _spearmanr_2cols(x[:, [var1, var2]])\n",
    "                rs[var1, var2] = result.correlation\n",
    "                rs[var2, var1] = result.correlation\n",
    "                prob[var1, var2] = result.pvalue\n",
    "                prob[var2, var1] = result.pvalue\n",
    "\n",
    "        return SpearmanrResult(rs, prob)"
   ]
  },
  {
   "cell_type": "code",
   "execution_count": 35,
   "metadata": {},
   "outputs": [
    {
     "ename": "AttributeError",
     "evalue": "module 'numpy' has no attribute 'concat'",
     "output_type": "error",
     "traceback": [
      "\u001b[0;31m---------------------------------------------------------------------------\u001b[0m",
      "\u001b[0;31mAttributeError\u001b[0m                            Traceback (most recent call last)",
      "\u001b[0;32m<ipython-input-35-7fa73df6f9b6>\u001b[0m in \u001b[0;36m<module>\u001b[0;34m\u001b[0m\n\u001b[0;32m----> 1\u001b[0;31m \u001b[0mnumpy\u001b[0m\u001b[0;34m.\u001b[0m\u001b[0mconcat\u001b[0m\u001b[0;34m(\u001b[0m\u001b[0;34m[\u001b[0m\u001b[0msolo_filtered_dense\u001b[0m\u001b[0;34m,\u001b[0m \u001b[0mkallisto_em_raw_dense\u001b[0m\u001b[0;34m]\u001b[0m\u001b[0;34m)\u001b[0m\u001b[0;34m\u001b[0m\u001b[0;34m\u001b[0m\u001b[0m\n\u001b[0m",
      "\u001b[0;32m/usr/lib/python3/dist-packages/numpy/__init__.py\u001b[0m in \u001b[0;36m__getattr__\u001b[0;34m(attr)\u001b[0m\n\u001b[1;32m    212\u001b[0m                 \u001b[0;32mreturn\u001b[0m \u001b[0mTester\u001b[0m\u001b[0;34m\u001b[0m\u001b[0;34m\u001b[0m\u001b[0m\n\u001b[1;32m    213\u001b[0m             \u001b[0;32melse\u001b[0m\u001b[0;34m:\u001b[0m\u001b[0;34m\u001b[0m\u001b[0;34m\u001b[0m\u001b[0m\n\u001b[0;32m--> 214\u001b[0;31m                 raise AttributeError(\"module {!r} has no attribute \"\n\u001b[0m\u001b[1;32m    215\u001b[0m                                      \"{!r}\".format(__name__, attr))\n\u001b[1;32m    216\u001b[0m \u001b[0;34m\u001b[0m\u001b[0m\n",
      "\u001b[0;31mAttributeError\u001b[0m: module 'numpy' has no attribute 'concat'"
     ]
    }
   ],
   "source": [
    "numpy.concat([solo_filtered_dense, kallisto_em_raw_dense])"
   ]
  },
  {
   "cell_type": "code",
   "execution_count": 39,
   "metadata": {},
   "outputs": [
    {
     "ename": "IndexError",
     "evalue": "tuple index out of range",
     "output_type": "error",
     "traceback": [
      "\u001b[0;31m---------------------------------------------------------------------------\u001b[0m",
      "\u001b[0;31mIndexError\u001b[0m                                Traceback (most recent call last)",
      "\u001b[0;32m<ipython-input-39-fa605748b7ae>\u001b[0m in \u001b[0;36m<module>\u001b[0;34m\u001b[0m\n\u001b[0;32m----> 1\u001b[0;31m \u001b[0mspearmanr\u001b[0m\u001b[0;34m(\u001b[0m\u001b[0mnumpy\u001b[0m\u001b[0;34m.\u001b[0m\u001b[0masarray\u001b[0m\u001b[0;34m(\u001b[0m\u001b[0;34m[\u001b[0m\u001b[0msolo_filtered_dense\u001b[0m\u001b[0;34m,\u001b[0m \u001b[0mkallisto_em_raw_dense\u001b[0m\u001b[0;34m]\u001b[0m\u001b[0;34m)\u001b[0m\u001b[0;34m)\u001b[0m\u001b[0;34m\u001b[0m\u001b[0;34m\u001b[0m\u001b[0m\n\u001b[0m",
      "\u001b[0;32m<ipython-input-31-665ed7dfd464>\u001b[0m in \u001b[0;36mspearmanr\u001b[0;34m(x, y, use_ties, axis, nan_policy)\u001b[0m\n\u001b[1;32m    109\u001b[0m     \u001b[0;31m# Need to do this per pair of variables, otherwise the dropped observations\u001b[0m\u001b[0;34m\u001b[0m\u001b[0;34m\u001b[0m\u001b[0;34m\u001b[0m\u001b[0m\n\u001b[1;32m    110\u001b[0m     \u001b[0;31m# in a third column mess up the result for a pair.\u001b[0m\u001b[0;34m\u001b[0m\u001b[0;34m\u001b[0m\u001b[0;34m\u001b[0m\u001b[0m\n\u001b[0;32m--> 111\u001b[0;31m     \u001b[0mn_vars\u001b[0m \u001b[0;34m=\u001b[0m \u001b[0mx\u001b[0m\u001b[0;34m.\u001b[0m\u001b[0mshape\u001b[0m\u001b[0;34m[\u001b[0m\u001b[0;36m1\u001b[0m\u001b[0;34m]\u001b[0m\u001b[0;34m\u001b[0m\u001b[0;34m\u001b[0m\u001b[0m\n\u001b[0m\u001b[1;32m    112\u001b[0m     \u001b[0;32mif\u001b[0m \u001b[0mn_vars\u001b[0m \u001b[0;34m==\u001b[0m \u001b[0;36m2\u001b[0m\u001b[0;34m:\u001b[0m\u001b[0;34m\u001b[0m\u001b[0;34m\u001b[0m\u001b[0m\n\u001b[1;32m    113\u001b[0m         \u001b[0;32mreturn\u001b[0m \u001b[0m_spearmanr_2cols\u001b[0m\u001b[0;34m(\u001b[0m\u001b[0mx\u001b[0m\u001b[0;34m)\u001b[0m\u001b[0;34m\u001b[0m\u001b[0;34m\u001b[0m\u001b[0m\n",
      "\u001b[0;31mIndexError\u001b[0m: tuple index out of range"
     ]
    }
   ],
   "source": [
    "spearmanr()"
   ]
  },
  {
   "cell_type": "code",
   "execution_count": 44,
   "metadata": {},
   "outputs": [
    {
     "data": {
      "text/plain": [
       "(2, 1, 31635)"
      ]
     },
     "execution_count": 44,
     "metadata": {},
     "output_type": "execute_result"
    }
   ],
   "source": [
    "combined = numpy.asarray([solo_filtered_dense[0], kallisto_em_raw_dense[0]])\n",
    "combined.shape"
   ]
  },
  {
   "cell_type": "code",
   "execution_count": 42,
   "metadata": {},
   "outputs": [
    {
     "data": {
      "text/plain": [
       "(2, 1, 31635)"
      ]
     },
     "execution_count": 42,
     "metadata": {},
     "output_type": "execute_result"
    }
   ],
   "source": []
  },
  {
   "cell_type": "code",
   "execution_count": 48,
   "metadata": {},
   "outputs": [
    {
     "data": {
      "text/plain": [
       "(1, 31635)"
      ]
     },
     "execution_count": 48,
     "metadata": {},
     "output_type": "execute_result"
    }
   ],
   "source": [
    "solo_filtered_dense.flatten().shape"
   ]
  },
  {
   "cell_type": "code",
   "execution_count": null,
   "metadata": {},
   "outputs": [],
   "source": []
  }
 ],
 "metadata": {
  "kernelspec": {
   "display_name": "Python 3",
   "language": "python",
   "name": "python3"
  },
  "language_info": {
   "codemirror_mode": {
    "name": "ipython",
    "version": 3
   },
   "file_extension": ".py",
   "mimetype": "text/x-python",
   "name": "python",
   "nbconvert_exporter": "python",
   "pygments_lexer": "ipython3",
   "version": "3.8.5"
  }
 },
 "nbformat": 4,
 "nbformat_minor": 4
}
