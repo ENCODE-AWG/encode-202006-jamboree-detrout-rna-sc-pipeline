{
 "cells": [
  {
   "cell_type": "code",
   "execution_count": 1,
   "id": "documentary-gather",
   "metadata": {},
   "outputs": [],
   "source": [
    "import csv\n",
    "from collections import Counter\n",
    "import scanpy\n",
    "import pysam\n",
    "from pathlib import Path\n",
    "import pandas\n",
    "import requests\n",
    "import numpy\n",
    "import os\n",
    "import re\n",
    "import scipy\n",
    "import shutil\n",
    "import time\n",
    "import gzip\n",
    "import sys\n",
    "from matplotlib import pyplot\n",
    "import matplotlib\n",
    "import upsetplot\n",
    "import warnings\n",
    "from urllib.parse import urljoin"
   ]
  },
  {
   "cell_type": "code",
   "execution_count": 2,
   "id": "close-freeze",
   "metadata": {},
   "outputs": [],
   "source": [
    "from common import scanpy_load_solo_mtx"
   ]
  },
  {
   "cell_type": "code",
   "execution_count": 3,
   "id": "experimental-freeze",
   "metadata": {},
   "outputs": [],
   "source": [
    "MEX = str(Path(\"~/proj/mex_gene_archive\").expanduser())\n",
    "if MEX not in sys.path:\n",
    "    sys.path.append(MEX)"
   ]
  },
  {
   "cell_type": "code",
   "execution_count": 4,
   "id": "static-herald",
   "metadata": {},
   "outputs": [],
   "source": [
    "star_analysis_dir = Path(\"adrenal/mouse_adr_2k_a4_f1\")\n",
    "erebboah_base = \"http://crick.bio.uci.edu/erebboah/postnatal_splitseq/adrenal/A_4_F_1/DGE_unfiltered/\""
   ]
  },
  {
   "cell_type": "code",
   "execution_count": 5,
   "id": "turkish-unknown",
   "metadata": {},
   "outputs": [],
   "source": [
    "def load_parse_decoder(filename):\n",
    "    parse_barcodes = {}\n",
    "    tsv = pandas.read_csv(filename, sep=\"\\t\", index_col=0).set_index(\"well\")\n",
    "    for index, row in tsv.iterrows():\n",
    "        parse_barcodes[row[\"bc1_dt\"]] = str(index)\n",
    "        parse_barcodes[row[\"bc1_randhex\"]] = str(index)\n",
    "    return parse_barcodes\n",
    "\n",
    "#def group_parse_barcodes(adata, parse_barcodes):\n",
    "class DecodeParse:\n",
    "    def __init__(self, parse_barcodes):\n",
    "        self._parse_barcodes = parse_barcodes\n",
    "        \n",
    "    def __call__(self, barcode):\n",
    "        barcodes = barcode.split(\"_\")\n",
    "        suffix = self._parse_barcodes[barcodes[2]]\n",
    "        return \"{}{}_{}\".format(barcodes[0], barcodes[1], suffix)\n",
    "\n",
    "def scanpy_load_parse_mtx(analysis_dir, barcodes=\"bc_dt_randhex.tsv\", gene=\"Gene\", mode=\"filtered\", multi=\"matrix.mtx\"):\n",
    "    decode_parse = DecodeParse(load_parse_decoder(barcodes))\n",
    "    \n",
    "    star_run = scanpy_load_solo_mtx(star_analysis_dir, gene=gene, mode=mode, multi=multi)\n",
    "    star_run.obs[\"parse_group\"] = [decode_parse(x) for x in star_run.obs_names]\n",
    "\n",
    "    parse_group = pandas.Series(\n",
    "        Counter(star_run.obs[\"parse_group\"]).keys(),\n",
    "        index=Counter(star_run.obs[\"parse_group\"]).keys()\n",
    "    )\n",
    "    parse_group.name = \"cell_barcodes\"\n",
    "\n",
    "    var_names = star_run.var_names.to_series()\n",
    "    var_names.name = \"gene_id\"\n",
    "\n",
    "    coo_shape = (len(parse_group), star_run.X.shape[1])\n",
    "    sparse = scipy.sparse.lil_matrix(coo_shape, dtype=star_run.X.dtype)\n",
    "    for row, key in enumerate(parse_group):\n",
    "        sparse[row] = star_run[star_run.obs[\"parse_group\"] == key].X.sum(axis=0)\n",
    "\n",
    "    mergedrun = scanpy.AnnData(sparse.tocsr(), obs=parse_group.to_frame(), var=var_names.to_frame())\n",
    "    for key in star_run.var_keys():\n",
    "        mergedrun.var[key] = star_run.var[key]\n",
    "    \n",
    "    return mergedrun"
   ]
  },
  {
   "cell_type": "code",
   "execution_count": 6,
   "id": "changed-marketplace",
   "metadata": {},
   "outputs": [
    {
     "name": "stdout",
     "output_type": "stream",
     "text": [
      "1.14 s ± 7.28 ms per loop (mean ± std. dev. of 7 runs, 1 loop each)\n",
      "count sum 297095.0\n",
      "shape (194, 81881)\n"
     ]
    },
    {
     "data": {
      "text/plain": [
       "AnnData object with n_obs × n_vars = 194 × 81881\n",
       "    obs: 'cell_barcodes'\n",
       "    var: 'gene_id'"
      ]
     },
     "execution_count": 6,
     "metadata": {},
     "output_type": "execute_result"
    }
   ],
   "source": [
    "%timeit myrun = scanpy_load_parse_mtx(star_analysis_dir, gene=\"GeneFull_Ex50pAS\")\n",
    "\n",
    "myrun = scanpy_load_parse_mtx(star_analysis_dir, gene=\"GeneFull_Ex50pAS\")\n",
    "print(\"count sum\", myrun.X.sum().sum())\n",
    "print(\"shape\", myrun.shape)\n",
    "myrun"
   ]
  },
  {
   "cell_type": "markdown",
   "id": "beautiful-external",
   "metadata": {},
   "source": [
    "# Fast parse matrix loader"
   ]
  },
  {
   "cell_type": "code",
   "execution_count": 7,
   "id": "chubby-command",
   "metadata": {},
   "outputs": [],
   "source": [
    "parse_mapper = {\n",
    "    \"v1\": {\n",
    "        'ACTCGTAA': '0', 'CTGCTTTG': '0',\n",
    "        'AAACGATA': '1', 'CATGATCA': '1',\n",
    "        'TTACCTCG': '2', 'GGGTAGCG': '2',\n",
    "        'GCCTGCAA': '3', 'CCGAGAAA': '3',\n",
    "        'TGGTATAC': '4', 'ACGGACTC': '4',\n",
    "        'CGTTCGAG': '5', 'ACTTACGA': '5',\n",
    "        'TCTATTAC': '6', 'TATTTAAG': '6',\n",
    "        'ATAAGCTC': '7', 'ACCGTACG': '7',\n",
    "        'ATTCATGG': '8', 'TATAGTCG': '8',\n",
    "        'ATCCGCGA': '9', 'TGGGCATC': '9',\n",
    "        'ATCGCATA': '10', 'TACCTAGA': '10',\n",
    "        'CCGTTCTA': '11', 'GCTGCATG': '11',\n",
    "        'TGGCGCGC': '12', 'GTCATATG': '12',\n",
    "        'TGTCTGAA': '13', 'ATATTGGC': '13',\n",
    "        'CTGTCCCG': '14', 'CTAAGGGA': '14',\n",
    "        'AATTTCTC': '15', 'TCGTTTCG': '15',\n",
    "        'CGCGACTA': '16', 'GAATAATG': '16',\n",
    "        'TGAAGCAA': '17', 'ACTGCGCA': '17',\n",
    "        'TTATTCTG': '18', 'GCTTATAG': '18',\n",
    "        'GTTCAACA': '19', 'ATCATGCA': '19',\n",
    "        'ACGCCGGC': '20', 'ACGTTAAC': '20',\n",
    "        'TTGTCTTA': '21', 'CCATCTTG': '21',\n",
    "        'TACGGTTA': '22', 'CATAGCTA': '22',\n",
    "        'TTGGGAGA': '23', 'GAGGTTGA': '23',\n",
    "        'TGCTTGGG': '24', 'GCACTGAC': '24',\n",
    "        'TAAATATC': '25', 'TTCATCGC': '25',\n",
    "        'CACAATTG': '26', 'GAAATTAG': '26',\n",
    "        'GTGCTAGC': '27', 'AGGATTAA': '27',\n",
    "        'CGCCCGGA': '28', 'AATAGAAC': '28',\n",
    "        'GCTCGCGG': '29', 'TCTTAATC': '29',\n",
    "        'CTTTGGTC': '30', 'TAATACGC': '30',\n",
    "        'TTCCGATC': '31', 'GTTTGTGA': '31',\n",
    "        'TTCGCTAC': '32', 'CGAACGTC': '32',\n",
    "        'AGCGAAAC': '33', 'GGTTCTTC': '33',\n",
    "        'AAATAGCA': '34', 'GCAAATTC': '34',\n",
    "        'CGTCTAGG': '35', 'GCTATGCG': '35',\n",
    "        'GCCGTGTA': '36', 'CTACCCTA': '36',\n",
    "        'CGCTTAAA': '37', 'GTGGGTTC': '37',\n",
    "        'GACCTTTC': '38', 'GTCCGTAG': '38',\n",
    "        'GGTGGAGC': '39', 'TGCGATCG': '39',\n",
    "        'TACTCGAA': '40', 'TATCCGGG': '40',\n",
    "        'CATTTGGA': '41', 'AGGTAATA': '41',\n",
    "        'GAGCACAA': '42', 'CGTGGTTG': '42',\n",
    "        'GTCGCGCG': '43', 'GACAAAGC': '43',\n",
    "        'GTTACGTA': '44', 'GGGCGATG': '44',\n",
    "        'CTATTTCA': '45', 'ATCTATAA': '45',\n",
    "        'ACTATATA': '46', 'GCCCATGA': '46',\n",
    "        'TCACTTTA': '47', 'CTGAAAGG': '47'\n",
    "    }\n",
    "}\n",
    "\n",
    "from scipy.io.mmio import MMFile\n",
    "\n",
    "class SimpleFloatMMWriter(MMFile):\n",
    "    @staticmethod\n",
    "    def _field_template(field, precision):\n",
    "        return {MMFile.FIELD_REAL: '%%.%ig\\n' % precision,\n",
    "                MMFile.FIELD_INTEGER: '%i\\n',\n",
    "                MMFile.FIELD_UNSIGNED: '%u\\n',\n",
    "                MMFile.FIELD_COMPLEX: '%%.%ie %%.%ie\\n' %\n",
    "                    (precision, precision)\n",
    "                }.get(field, None)\n",
    "\n",
    "def read_parse_cell_barcode_lineno_map(stream):\n",
    "    barcodes = {}\n",
    "    reader = csv.reader(stream, delimiter=\"\\t\")\n",
    "    for i, line in enumerate(reader):\n",
    "        barcodes[line[0]] = i + 1\n",
    "\n",
    "    return barcodes\n",
    "\n",
    "def read_feature_lineno_map(stream):\n",
    "    barcodes = {}\n",
    "    reader = csv.reader(stream, delimiter=\"\\t\")\n",
    "    for i, line in enumerate(reader):\n",
    "        barcodes[line[0]] = i + 1\n",
    "\n",
    "    return barcodes\n",
    "\n",
    "def compute_parse_map(raw_barcodes, mapper):\n",
    "    raw_to_collapsed_mapping = {}\n",
    "    combined_indexes = {}\n",
    "    for barcode in raw_barcodes:\n",
    "        fragments = barcode.split(\"_\")\n",
    "        fragments[2] = str(mapper[fragments[2]])\n",
    "        combined_barcode = \"{}{}_{}\".format(*fragments)\n",
    "        \n",
    "        combined_index = combined_indexes.setdefault(combined_barcode, len(combined_indexes)+1)\n",
    "        raw_index = raw_barcodes[barcode]\n",
    "        raw_to_collapsed_mapping[raw_index] = combined_index\n",
    "    return (combined_indexes, raw_to_collapsed_mapping)\n",
    "\n",
    "\n",
    "def _parse_mmread(matrix_filename, merged_barcodes, merged_mapping):\n",
    "    header = True\n",
    "    matrix = None\n",
    "    with open(matrix_filename, \"rt\") as instream:\n",
    "        for line in instream:\n",
    "            if line.startswith(\"%\"):\n",
    "                pass\n",
    "            elif header:\n",
    "                # After the comment comes the one header line\n",
    "                total_features, total_cells, total_counts = [\n",
    "                    int(x) for x in line.rstrip().split()\n",
    "                ]\n",
    "                matrix = scipy.sparse.dok_matrix((len(merged_barcodes), total_features), dtype=float)\n",
    "                header = False\n",
    "            else:\n",
    "                # row, column, count\n",
    "                feature_index, cell_index, count = line.rstrip().split()\n",
    "                feature_index = int(feature_index)\n",
    "                cell_index = int(cell_index)\n",
    "                count = float(count)\n",
    "                \n",
    "                new_cell_index = merged_mapping[cell_index]\n",
    "                matrix[new_cell_index-1, feature_index-1] = matrix.get((new_cell_index-1, feature_index-1), 0) + count\n",
    "\n",
    "    return matrix\n",
    "\n",
    "def load_parse_mtx(analysis_dir, *, gene=\"Gene\", mode=\"filtered\", multi=\"matrix.mtx\"):\n",
    "    assert mode in [\"filtered\", \"raw\"], \"STAR Solo only produces raw or filtered files\"\n",
    "    assert gene in [\"SJ\", \"Gene\", \"GeneFull_Ex50pAS\", \"GeneFull\"]\n",
    "    assert multi in [\"matrix.mtx\", \"UniqueAndMult-EM.mtx\"]\n",
    "\n",
    "    analysis_dir = Path(analysis_dir)\n",
    "    solo_dir = analysis_dir / \"Solo.out\" / gene / mode\n",
    "    cell_barcode_filename = solo_dir / \"barcodes.tsv\"\n",
    "    feature_filename = solo_dir / \"features.tsv\"\n",
    "    matrix_filename = solo_dir / multi\n",
    "    \n",
    "    with open(cell_barcode_filename, \"rt\") as instream:\n",
    "        cell_barcodes = read_parse_cell_barcode_lineno_map(instream)\n",
    "    with open(feature_filename, \"rt\") as instream:\n",
    "        features = read_feature_lineno_map(instream)\n",
    "    merged_barcodes, merged_mapping = compute_parse_map(cell_barcodes, parse_mapper[\"v1\"])\n",
    "\n",
    "    matrix = _parse_mmread(matrix_filename, merged_barcodes, merged_mapping)\n",
    "    print(\"Loading matrix shape\", matrix.shape)\n",
    "\n",
    "    return matrix, list(merged_barcodes.keys()), list(features.keys())\n",
    "\n",
    "def write_parse_mtx(analysis_dir, output_dir, *, gene=\"Gene\", mode=\"filtered\", multi=\"matrix.mtx\"):\n",
    "    matrix, cells, features = load_parse_mtx(analysis_dir, gene=gene, mode=mode, multi=multi)\n",
    "    output_dir = Path(output_dir)\n",
    "    with open(output_dir / \"barcodes.tsv\", \"wt\") as outstream:\n",
    "        for barcode in cells:\n",
    "            outstream.write(barcode)\n",
    "            outstream.write(os.linesep)\n",
    "\n",
    "    solo_dir = analysis_dir / \"Solo.out\" / gene / mode\n",
    "    feature_filename = solo_dir / \"features.tsv\"\n",
    "    shutil.copy(feature_filename, output_dir / \"features.tsv\")\n",
    "    \n",
    "    matrix_name = output_dir / multi\n",
    "    matrix = matrix.T\n",
    "    \n",
    "    assert matrix.shape[1] == len(cells), \"The number of rows doesn't match the number of barcodes\"\n",
    "    assert matrix.shape[0] == len(features), \"The number of columns doesn't match the number of features\"\n",
    "    print(\"Writing matrix.shape\", matrix.shape, matrix_name)\n",
    "    SimpleFloatMMWriter().write(matrix_name, matrix, comment='', field=None, precision=None, symmetry=None)\n",
    "    \n",
    "\n",
    "def load_parse_anndata(analysis_dir, *, gene=\"Gene\", mode=\"filtered\", multi=\"matrix.mtx\"):\n",
    "    matrix, cells, features = load_parse_mtx(analysis_dir, gene=gene, mode=mode, multi=multi)\n",
    "\n",
    "    obs = pandas.DataFrame(cells, index=cells, columns=[\"cell_barcodes\"])\n",
    "    var = pandas.DataFrame(features, index=features, columns=[\"gene_id\"])\n",
    "    adata = scanpy.AnnData(matrix.tocsr(), obs=obs, var=var)\n",
    "\n",
    "    return adata"
   ]
  },
  {
   "cell_type": "code",
   "execution_count": 8,
   "id": "retired-recall",
   "metadata": {},
   "outputs": [
    {
     "name": "stdout",
     "output_type": "stream",
     "text": [
      "Loading matrix shape (194, 81881)\n"
     ]
    },
    {
     "data": {
      "text/plain": [
       "AnnData object with n_obs × n_vars = 194 × 81881\n",
       "    obs: 'cell_barcodes'\n",
       "    var: 'gene_id'"
      ]
     },
     "execution_count": 8,
     "metadata": {},
     "output_type": "execute_result"
    }
   ],
   "source": [
    "parse = load_parse_anndata(star_analysis_dir, gene=\"GeneFull_Ex50pAS\")\n",
    "parse"
   ]
  },
  {
   "cell_type": "code",
   "execution_count": 9,
   "id": "healthy-semiconductor",
   "metadata": {},
   "outputs": [
    {
     "name": "stdout",
     "output_type": "stream",
     "text": [
      "Loading matrix shape (194, 81881)\n",
      "Loading matrix shape (194, 81881)\n",
      "Loading matrix shape (194, 81881)\n",
      "Loading matrix shape (194, 81881)\n",
      "Loading matrix shape (194, 81881)\n",
      "Loading matrix shape (194, 81881)\n",
      "Loading matrix shape (194, 81881)\n",
      "Loading matrix shape (194, 81881)\n",
      "2.89 s ± 13.1 ms per loop (mean ± std. dev. of 7 runs, 1 loop each)\n"
     ]
    }
   ],
   "source": [
    "%timeit parse = load_parse_mtx(star_analysis_dir, gene=\"GeneFull_Ex50pAS\")"
   ]
  },
  {
   "cell_type": "code",
   "execution_count": 10,
   "id": "afraid-lambda",
   "metadata": {},
   "outputs": [
    {
     "data": {
      "text/plain": [
       "True"
      ]
     },
     "execution_count": 10,
     "metadata": {},
     "output_type": "execute_result"
    }
   ],
   "source": [
    "numpy.all(myrun.obs == parse.obs)"
   ]
  },
  {
   "cell_type": "code",
   "execution_count": 11,
   "id": "illegal-hearts",
   "metadata": {},
   "outputs": [
    {
     "data": {
      "text/plain": [
       "True"
      ]
     },
     "execution_count": 11,
     "metadata": {},
     "output_type": "execute_result"
    }
   ],
   "source": [
    "numpy.all(myrun.var == parse.var)"
   ]
  },
  {
   "cell_type": "code",
   "execution_count": 12,
   "id": "bottom-muscle",
   "metadata": {},
   "outputs": [
    {
     "data": {
      "text/plain": [
       "<194x81881 sparse matrix of type '<class 'numpy.float32'>'\n",
       "\twith 0 stored elements in Compressed Sparse Row format>"
      ]
     },
     "execution_count": 12,
     "metadata": {},
     "output_type": "execute_result"
    }
   ],
   "source": [
    "(myrun.X - parse.X)"
   ]
  },
  {
   "cell_type": "code",
   "execution_count": 13,
   "id": "efficient-directory",
   "metadata": {},
   "outputs": [
    {
     "name": "stdout",
     "output_type": "stream",
     "text": [
      "Loading matrix shape (442368, 81881)\n",
      "Took 7.04\n"
     ]
    },
    {
     "data": {
      "text/plain": [
       "AnnData object with n_obs × n_vars = 442368 × 81881\n",
       "    obs: 'cell_barcodes'\n",
       "    var: 'gene_id'"
      ]
     },
     "execution_count": 13,
     "metadata": {},
     "output_type": "execute_result"
    }
   ],
   "source": [
    "t0 = time.monotonic()\n",
    "raw_parse = load_parse_anndata(star_analysis_dir, gene=\"GeneFull_Ex50pAS\", mode=\"raw\")\n",
    "print(\"Took {:.3}\".format(time.monotonic() - t0))\n",
    "raw_parse\n"
   ]
  },
  {
   "cell_type": "code",
   "execution_count": 14,
   "id": "textile-thanks",
   "metadata": {},
   "outputs": [
    {
     "name": "stdout",
     "output_type": "stream",
     "text": [
      "Loading matrix shape (442368, 81881)\n",
      "Writing matrix.shape (81881, 442368) adrenal/mouse_adr_2k_a4_f1/Solo.out/GeneFull_Ex50pAS/raw_collapsed/matrix.mtx\n"
     ]
    }
   ],
   "source": [
    "raw_collapsed_parse_filtered = star_analysis_dir / \"Solo.out\" / \"GeneFull_Ex50pAS\" / \"raw_collapsed\"\n",
    "\n",
    "if not raw_collapsed_parse_filtered.exists():\n",
    "    raw_collapsed_parse_filtered.mkdir()\n",
    "\n",
    "write_parse_mtx(star_analysis_dir, raw_collapsed_parse_filtered, gene=\"GeneFull_Ex50pAS\", mode=\"raw\")"
   ]
  },
  {
   "cell_type": "code",
   "execution_count": 15,
   "id": "hungarian-activation",
   "metadata": {},
   "outputs": [
    {
     "name": "stdout",
     "output_type": "stream",
     "text": [
      "Loading matrix shape (442368, 81881)\n",
      "Writing matrix.shape (81881, 442368) adrenal/mouse_adr_2k_a4_f1/Solo.out/GeneFull_Ex50pAS/raw_collapsed/UniqueAndMult-EM.mtx\n"
     ]
    }
   ],
   "source": [
    "raw_collapsed_parse_filtered = star_analysis_dir / \"Solo.out\" / \"GeneFull_Ex50pAS\" / \"raw_collapsed\"\n",
    "\n",
    "if not raw_collapsed_parse_filtered.exists():\n",
    "    raw_collapsed_parse_filtered.mkdir()\n",
    "\n",
    "write_parse_mtx(star_analysis_dir, raw_collapsed_parse_filtered, gene=\"GeneFull_Ex50pAS\", multi=\"UniqueAndMult-EM.mtx\", mode=\"raw\")"
   ]
  },
  {
   "cell_type": "code",
   "execution_count": 16,
   "id": "first-burton",
   "metadata": {},
   "outputs": [],
   "source": [
    "filtered_collapsed_parse_filtered = star_analysis_dir / \"Solo.out\" / \"GeneFull_Ex50pAS\" / \"filtered_collapsed\"\n",
    "filtered_collapsed_parse_filtered = str(filtered_collapsed_parse_filtered) + \"/\""
   ]
  },
  {
   "cell_type": "code",
   "execution_count": 17,
   "id": "apart-learning",
   "metadata": {},
   "outputs": [
    {
     "name": "stdout",
     "output_type": "stream",
     "text": [
      "\t/woldlab/loxcyc/home/diane/proj/STAR/bin/Linux_x86_64_static/STAR --runMode soloCellFiltering adrenal/mouse_adr_2k_a4_f1/Solo.out/GeneFull_Ex50pAS/raw_collapsed/ adrenal/mouse_adr_2k_a4_f1/Solo.out/GeneFull_Ex50pAS/filtered_collapsed/ --soloCellFilter EmptyDrops_CR\n",
      "\tSTAR version: dev_EoI_2.7.9a_2021-12-22   compiled: 2021-12-22T08:42:40-05:00 :/home/dobin/data/STAR/STARcode/STAR.master/source\n",
      "Jan 07 16:16:51 ..... started STAR run\n",
      "Jan 07 16:16:51 ..... starting SoloCellFiltering\n",
      "Jan 07 16:16:52 ..... finished successfully\n"
     ]
    }
   ],
   "source": [
    "!~/proj/STAR/bin/Linux_x86_64_static/STAR --runMode soloCellFiltering \\\n",
    "  $star_analysis_dir/Solo.out/GeneFull_Ex50pAS/raw_collapsed/  \\\n",
    "  $star_analysis_dir/Solo.out/GeneFull_Ex50pAS/filtered_collapsed/ \\\n",
    "  --soloCellFilter EmptyDrops_CR"
   ]
  },
  {
   "cell_type": "code",
   "execution_count": 18,
   "id": "practical-fundamental",
   "metadata": {},
   "outputs": [],
   "source": [
    "from mex_gene_archive.filter import write_filtered_mtx"
   ]
  },
  {
   "cell_type": "code",
   "execution_count": 19,
   "id": "sonic-battle",
   "metadata": {},
   "outputs": [],
   "source": [
    "write_filtered_mtx(\n",
    "    star_analysis_dir / \"Solo.out\" / \"GeneFull_Ex50pAS\" / \"raw_collapsed\" / \"barcodes.tsv\",\n",
    "    star_analysis_dir / \"Solo.out\" / \"GeneFull_Ex50pAS\" / \"raw_collapsed\" / \"UniqueAndMult-EM.mtx\",\n",
    "    star_analysis_dir / \"Solo.out\" / \"GeneFull_Ex50pAS\" / \"filtered_collapsed\" / \"barcodes.tsv\",\n",
    "    star_analysis_dir / \"Solo.out\" / \"GeneFull_Ex50pAS\" / \"filtered_collapsed\" / \"UniqueAndMult-EM.mtx\",\n",
    ")"
   ]
  },
  {
   "cell_type": "code",
   "execution_count": null,
   "id": "noted-blade",
   "metadata": {},
   "outputs": [],
   "source": []
  }
 ],
 "metadata": {
  "kernelspec": {
   "display_name": "Python 3",
   "language": "python",
   "name": "python3"
  },
  "language_info": {
   "codemirror_mode": {
    "name": "ipython",
    "version": 3
   },
   "file_extension": ".py",
   "mimetype": "text/x-python",
   "name": "python",
   "nbconvert_exporter": "python",
   "pygments_lexer": "ipython3",
   "version": "3.9.1+"
  }
 },
 "nbformat": 4,
 "nbformat_minor": 5
}
