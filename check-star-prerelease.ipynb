{
 "cells": [
  {
   "cell_type": "markdown",
   "id": "joined-above",
   "metadata": {},
   "source": [
    "# Introduction\n",
    "\n",
    "STAR went through a few variations to get splitseq to work. Does it matter for 10x?"
   ]
  },
  {
   "cell_type": "code",
   "execution_count": 12,
   "id": "adjustable-diesel",
   "metadata": {},
   "outputs": [],
   "source": [
    "import csv\n",
    "from collections import Counter\n",
    "import scanpy\n",
    "import pysam\n",
    "from pathlib import Path\n",
    "import pandas\n",
    "import requests\n",
    "import numpy\n",
    "import os\n",
    "import re\n",
    "import shutil\n",
    "import scipy\n",
    "import gzip\n",
    "import sys\n",
    "from matplotlib import pyplot\n",
    "import matplotlib\n",
    "import upsetplot\n",
    "import warnings\n",
    "from urllib.parse import urljoin\n",
    "import yaml\n",
    "\n",
    "from common import scanpy_load_solo_mtx"
   ]
  },
  {
   "cell_type": "code",
   "execution_count": 2,
   "id": "tender-russian",
   "metadata": {},
   "outputs": [],
   "source": [
    "EC = str(Path(\"~/proj/encoded_client\").expanduser())\n",
    "if EC not in sys.path:\n",
    "    sys.path.append(EC)\n",
    "from encoded_client import ENCODED"
   ]
  },
  {
   "cell_type": "code",
   "execution_count": 5,
   "id": "collaborative-boundary",
   "metadata": {},
   "outputs": [],
   "source": [
    "MEX = str(Path(\"~/proj/mex_gene_archive\").expanduser())\n",
    "if MEX not in sys.path:\n",
    "    sys.path.append(MEX)\n",
    "from mex_gene_archive.reader import read_mex_archive_as_anndata"
   ]
  },
  {
   "cell_type": "code",
   "execution_count": 4,
   "id": "understanding-forum",
   "metadata": {},
   "outputs": [],
   "source": [
    "WRS = str(Path(\"~/proj/woldlab-rna-seq\").expanduser())\n",
    "if WRS not in sys.path:\n",
    "    sys.path.append(WRS)\n",
    "from woldrnaseq.plots.scrna_matrix_qc import (\n",
    "    calculate_qc,\n",
    "    generate_violin_plot,\n",
    "    make_pct_mt_scatter,\n",
    "    make_gene_by_count_scatter,\n",
    ")\n"
   ]
  },
  {
   "cell_type": "code",
   "execution_count": 26,
   "id": "shaped-training",
   "metadata": {},
   "outputs": [],
   "source": [
    "def compute_spearman_pandas(left, right):\n",
    "    assert left.shape == right.shape, \"Shapes must be the same\"\n",
    "\n",
    "    cors=[]\n",
    "    for c in left.columns:\n",
    "        cors.append(scipy.stats.spearmanr(left[c], right[c])[0])\n",
    "    cors = pandas.Series(cors, index=left.columns)\n",
    "    return cors\n"
   ]
  },
  {
   "cell_type": "code",
   "execution_count": 22,
   "id": "stock-prophet",
   "metadata": {},
   "outputs": [],
   "source": [
    "def compute_correlations(tables):\n",
    "    programs = list(tables.keys())\n",
    "    cell_correlations = {}\n",
    "\n",
    "    for name_x in programs:\n",
    "        for name_y in programs[programs.index(name_x):]:\n",
    "            assert tables[name_x].shape == tables[name_y].shape\n",
    "            cs_cors = compute_spearman_pandas(tables[name_x], tables[name_y])\n",
    "            assert len(cs_cors) == len(tables[name_x].columns)\n",
    "            cell_correlations.setdefault(name_x, {})[name_y] = cs_cors\n",
    "    return cell_correlations"
   ]
  },
  {
   "cell_type": "code",
   "execution_count": 23,
   "id": "successful-daisy",
   "metadata": {},
   "outputs": [],
   "source": [
    "def set_all_spines(ax, state):\n",
    "    for name in [\"left\", \"right\", \"top\", \"bottom\"]:\n",
    "        ax.spines[name].set_visible(state)\n",
    "        ax.tick_params(\n",
    "            axis='both', \n",
    "            which='both', \n",
    "            bottom=False,\n",
    "            labelbottom=False, \n",
    "            top=False, \n",
    "            labeltop=False,\n",
    "            right=False,\n",
    "            labelright=False,\n",
    "            left=False, \n",
    "            labelleft=False)\n",
    "\n",
    "def plot_cell_correlation_histogram(\n",
    "    table, *, programs=None, bins=50, y_annot=0.6, count_nans=False, \n",
    "    correlation_name='Spearman',\n",
    "    xlim=None\n",
    "):\n",
    "    #fontname = 'Arial'\n",
    "    override_labels = {\n",
    "        'Alevin': 'Salmon Alevin (EM)',\n",
    "        'Kallisto EM': 'Kallisto Bus (EM)'\n",
    "    }\n",
    "    fontname = 'DejaVu Sans'\n",
    "    fontsize = 14    \n",
    "    if programs is None:\n",
    "        programs = list(table.keys())\n",
    "    cell_hists = {}\n",
    "    f = pyplot.figure(figsize=(7,7))\n",
    "    #f.suptitle('Per-cell {} correlation'.format(correlation_name), fontsize=fontsize)\n",
    "    plot_size = len(programs)-1\n",
    "\n",
    "    axes = f.subplots(plot_size, plot_size, sharex=True, sharey=True)\n",
    "    \n",
    "    for i in range(0, plot_size):\n",
    "        for j in range(i+1, plot_size):\n",
    "            set_all_spines(axes[i, j], False)\n",
    "\n",
    "    if plot_size == 1:\n",
    "        axes = numpy.asarray([[axes]])\n",
    "\n",
    "    for x, name_x in enumerate(programs):\n",
    "        for y, name_y in enumerate(programs[programs.index(name_x)+1:]):\n",
    "            x_label = override_labels.get(name_x, name_x)\n",
    "            y_label = override_labels.get(name_y, name_y)\n",
    "            #plot_index = plot_size * (y+x) + x + 1\n",
    "            #ax = f.add_subplot(plot_size, plot_size, plot_index)\n",
    "            ax = axes[y+x, x]\n",
    "            if xlim is not None:\n",
    "                ax.set_xlim(xlim)\n",
    "            #set_all_spines(ax, True)\n",
    "            if x == 0:\n",
    "                ax.set_ylabel(y_label, fontname=fontname, fontsize=fontsize)\n",
    "\n",
    "            spearman = table[name_x][name_y]\n",
    "            spearman = numpy.array(spearman)\n",
    "            spearman = spearman[~numpy.isnan(spearman)]\n",
    "            count = len(spearman)\n",
    "            median = numpy.median(spearman)\n",
    "            mean = numpy.mean(spearman)\n",
    "            cell_hists.setdefault(name_x, {})[name_y] = ax.hist(spearman, bins=bins, density=True)\n",
    "            nantext=\"\"\n",
    "            if count_nans:\n",
    "                nantext=\"\\nNaNs {}\".format(table[name_x][name_y].isna().sum())\n",
    "            ax.annotate(f'Mean {mean:0.2}\\nMedian {median:0.2}\\nCells {count}{nantext}', xy=(0.1, y_annot), xycoords='axes fraction')\n",
    "            #ax.annotate(f'Mean {mean}\\nMedian {median}\\nCells {count}{nantext}', xy=(0.1, y_annot), xycoords='axes fraction')\n",
    "    for y in range(plot_size):\n",
    "        x_label = override_labels.get(programs[y], programs[y])\n",
    "        axes[0, y].set_title(x_label, fontname=fontname, fontsize=fontsize)\n",
    "        axes[plot_size-1, y].set_xlabel(x_label, fontname=fontname, fontsize=fontsize)\n",
    "    #f.tight_layout()\n",
    "    return f"
   ]
  },
  {
   "cell_type": "code",
   "execution_count": 24,
   "id": "finite-stretch",
   "metadata": {},
   "outputs": [],
   "source": [
    "gene_id_name_map = {}\n",
    "genome_dir = Path(\"~/proj/genome/GRCh38-V29-male-2.7.8a\").expanduser()\n",
    "with open(genome_dir / \"geneInfo.tab\", \"rt\") as instream:\n",
    "    count = instream.readline()\n",
    "    for line in instream:\n",
    "        gene_id, gene_name, gene_type = line.rstrip().split(\"\\t\")\n",
    "        if gene_name == \"NULL\":\n",
    "            gene_name = gene_id\n",
    "        gene_id_name_map[gene_id] = gene_name\n",
    "        \n"
   ]
  },
  {
   "cell_type": "code",
   "execution_count": 6,
   "id": "pregnant-bennett",
   "metadata": {},
   "outputs": [],
   "source": [
    "experiment_root = Path(\"adrenal/ENCSR726IPC_59f_nuc\")"
   ]
  },
  {
   "cell_type": "code",
   "execution_count": 9,
   "id": "assisted-irish",
   "metadata": {},
   "outputs": [],
   "source": [
    "full_eoi_dir = experiment_root / \"fullsolo_multi_dev_EoI_2.7.9a_2021-09-10\"\n",
    "full_ssc_dir = experiment_root / \"ENCLB025XJD\""
   ]
  },
  {
   "cell_type": "code",
   "execution_count": 15,
   "id": "hawaiian-botswana",
   "metadata": {},
   "outputs": [],
   "source": [
    "scanpy_load_solo_mtx?"
   ]
  },
  {
   "cell_type": "code",
   "execution_count": 19,
   "id": "retained-premium",
   "metadata": {},
   "outputs": [
    {
     "name": "stdout",
     "output_type": "stream",
     "text": [
      "count sum 55598700.0\n",
      "shape (12698, 59526)\n"
     ]
    }
   ],
   "source": [
    "#full_eoi = read_mex_archive_as_anndata(full_eoi_dir / \"GeneFull_Ex50pAS_EM_filtered.tar.gz\")\n",
    "full_eoi = scanpy_load_solo_mtx(full_eoi_dir, gene=\"GeneFull_Ex50pAS\")\n",
    "\n",
    "calculate_qc(full_eoi, gene_id_name_map)\n",
    "\n",
    "print(\"count sum\", full_eoi.X.sum().sum())\n",
    "print(\"shape\", full_eoi.shape)"
   ]
  },
  {
   "cell_type": "code",
   "execution_count": 20,
   "id": "interim-expression",
   "metadata": {},
   "outputs": [
    {
     "name": "stdout",
     "output_type": "stream",
     "text": [
      "count sum 55598700.0\n",
      "shape (12698, 59526)\n"
     ]
    }
   ],
   "source": [
    "full_ssc = read_mex_archive_as_anndata(full_ssc_dir / \"GeneFull_Ex50pAS_Unique_filtered.tar.gz\")\n",
    "\n",
    "calculate_qc(full_ssc, gene_id_name_map)\n",
    "\n",
    "print(\"count sum\", full_ssc.X.sum().sum())\n",
    "print(\"shape\", full_ssc.shape)"
   ]
  },
  {
   "cell_type": "code",
   "execution_count": 27,
   "id": "entire-payment",
   "metadata": {},
   "outputs": [],
   "source": [
    "raw_datasets = {\n",
    "    \"old\": full_eoi.to_df().T,\n",
    "    \"new\": full_ssc.to_df().T,\n",
    "}\n",
    "\n",
    "raw_cors = compute_correlations(raw_datasets)"
   ]
  },
  {
   "cell_type": "code",
   "execution_count": 29,
   "id": "opposite-exception",
   "metadata": {},
   "outputs": [
    {
     "name": "stderr",
     "output_type": "stream",
     "text": [
      "/usr/lib/python3/dist-packages/numpy/lib/histograms.py:905: RuntimeWarning: divide by zero encountered in true_divide\n",
      "  return n/db/n.sum(), bin_edges\n",
      "/usr/lib/python3/dist-packages/numpy/lib/histograms.py:905: RuntimeWarning: invalid value encountered in true_divide\n",
      "  return n/db/n.sum(), bin_edges\n"
     ]
    }
   ],
   "source": [
    "f = plot_cell_correlation_histogram(raw_cors)"
   ]
  },
  {
   "cell_type": "code",
   "execution_count": 30,
   "id": "italian-correlation",
   "metadata": {},
   "outputs": [
    {
     "name": "stderr",
     "output_type": "stream",
     "text": [
      "/usr/lib/python3/dist-packages/IPython/core/interactiveshell.py:3427: SparseEfficiencyWarning: Comparing sparse matrices using == is inefficient, try using != instead.\n",
      "  exec(code_obj, self.user_global_ns, self.user_ns)\n"
     ]
    },
    {
     "data": {
      "text/plain": [
       "<12698x59526 sparse matrix of type '<class 'numpy.bool_'>'\n",
       "\twith 755861148 stored elements in Compressed Sparse Row format>"
      ]
     },
     "execution_count": 30,
     "metadata": {},
     "output_type": "execute_result"
    }
   ],
   "source": [
    "numpy.all(full_eoi.X == full_ssc.X)"
   ]
  },
  {
   "cell_type": "code",
   "execution_count": 31,
   "id": "protected-prediction",
   "metadata": {},
   "outputs": [],
   "source": [
    "a = _"
   ]
  },
  {
   "cell_type": "code",
   "execution_count": 32,
   "id": "medium-offering",
   "metadata": {},
   "outputs": [
    {
     "data": {
      "text/plain": [
       "755861148"
      ]
     },
     "execution_count": 32,
     "metadata": {},
     "output_type": "execute_result"
    }
   ],
   "source": [
    "a.sum()"
   ]
  },
  {
   "cell_type": "code",
   "execution_count": 33,
   "id": "enabling-poultry",
   "metadata": {},
   "outputs": [
    {
     "data": {
      "text/plain": [
       "0.0"
      ]
     },
     "execution_count": 33,
     "metadata": {},
     "output_type": "execute_result"
    }
   ],
   "source": [
    "(full_eoi.X - full_ssc.X).sum()"
   ]
  },
  {
   "cell_type": "code",
   "execution_count": null,
   "id": "fluid-tomato",
   "metadata": {},
   "outputs": [],
   "source": []
  }
 ],
 "metadata": {
  "kernelspec": {
   "display_name": "Python 3",
   "language": "python",
   "name": "python3"
  },
  "language_info": {
   "codemirror_mode": {
    "name": "ipython",
    "version": 3
   },
   "file_extension": ".py",
   "mimetype": "text/x-python",
   "name": "python",
   "nbconvert_exporter": "python",
   "pygments_lexer": "ipython3",
   "version": "3.9.1+"
  }
 },
 "nbformat": 4,
 "nbformat_minor": 5
}
