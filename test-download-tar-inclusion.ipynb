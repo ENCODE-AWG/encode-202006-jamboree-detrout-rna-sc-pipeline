{
 "cells": [
  {
   "cell_type": "code",
   "execution_count": 6,
   "id": "searching-nickname",
   "metadata": {},
   "outputs": [],
   "source": [
    "import pandas\n",
    "from pathlib import Path\n",
    "from pprint import pprint\n",
    "import re\n",
    "import sys\n",
    "import gzip\n",
    "import tarfile\n",
    "import shutil"
   ]
  },
  {
   "cell_type": "code",
   "execution_count": 7,
   "id": "banned-thought",
   "metadata": {},
   "outputs": [],
   "source": [
    "EC = str(Path(\"~/proj/encoded_client\").expanduser())\n",
    "if EC not in sys.path:\n",
    "    sys.path.append(EC)\n",
    "from encoded_client.encoded import ENCODED"
   ]
  },
  {
   "cell_type": "code",
   "execution_count": 16,
   "id": "bored-spouse",
   "metadata": {},
   "outputs": [],
   "source": [
    "# should we try to grab the inclusion list file type if we have an valid accession?\n",
    "\n",
    "inclusion_list_url = \"https://woldlab.caltech.edu/~diane/genome/parse-splitseq-v1.tar.gz\"\n",
    "\n",
    "server = ENCODED(\"www.encodeproject.org\")\n",
    "with server.get_response(inclusion_list_url, stream=True) as response:\n",
    "    if (inclusion_list_url.endswith(\".tar.gz\")):\n",
    "        with tarfile.open(mode=\"r:gz\", fileobj=response.raw) as tar:\n",
    "            tar.extractall(\"/dev/shm/\")\n",
    "    elif (inclusion_list_url.endswith('.gz') or\n",
    "       response.headers.get(\"Content-Encoding\") == \"gzip\"):\n",
    "        with open(\"/dev/shm/parse-splitseq-v1\", \"wb\") as outstream:\n",
    "            decompress = gzip.GzipFile(fileobj=response.raw)\n",
    "            shutil.copyfileobj(decompress, outstream)\n",
    "    else:\n",
    "        with open(\"/dev/shm/parse-splitseq-v1\", \"wb\") as outstream:\n",
    "            shutil.copyfileobj(response.raw, outstream)\n"
   ]
  },
  {
   "cell_type": "code",
   "execution_count": null,
   "id": "sharp-sherman",
   "metadata": {},
   "outputs": [],
   "source": []
  }
 ],
 "metadata": {
  "kernelspec": {
   "display_name": "Python 3",
   "language": "python",
   "name": "python3"
  },
  "language_info": {
   "codemirror_mode": {
    "name": "ipython",
    "version": 3
   },
   "file_extension": ".py",
   "mimetype": "text/x-python",
   "name": "python",
   "nbconvert_exporter": "python",
   "pygments_lexer": "ipython3",
   "version": "3.9.1+"
  }
 },
 "nbformat": 4,
 "nbformat_minor": 5
}
