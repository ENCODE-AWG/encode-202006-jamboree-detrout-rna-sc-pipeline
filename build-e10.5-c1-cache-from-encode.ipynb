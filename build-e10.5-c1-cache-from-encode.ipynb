{
 "cells": [
  {
   "cell_type": "markdown",
   "metadata": {},
   "source": [
    "# Introduction"
   ]
  },
  {
   "cell_type": "markdown",
   "metadata": {},
   "source": []
  },
  {
   "cell_type": "code",
   "execution_count": 1,
   "metadata": {},
   "outputs": [],
   "source": [
    "import sys\n",
    "import os\n",
    "from pathlib import Path\n",
    "from xopen import xopen\n",
    "import requests\n",
    "from anndata import AnnData\n",
    "\n",
    "from pipeline_common import get_gene_id_to_name"
   ]
  },
  {
   "cell_type": "code",
   "execution_count": 2,
   "metadata": {},
   "outputs": [],
   "source": [
    "HTSW = str(Path('~/proj/htsworkflow').expanduser())\n",
    "if HTSW not in sys.path:\n",
    "    sys.path.append(str(HTSW))\n",
    "from htsworkflow.submission.encoded import ENCODED"
   ]
  },
  {
   "cell_type": "code",
   "execution_count": 3,
   "metadata": {},
   "outputs": [],
   "source": [
    "LRSC = str(Path('~/proj/long-rna-seq-condor').expanduser())\n",
    "if LRSC not in sys.path:\n",
    "    sys.path.append(str(LRSC))\n",
    "from woldrnaseq.madqc import load_rsem_quantifications"
   ]
  },
  {
   "cell_type": "code",
   "execution_count": 4,
   "metadata": {},
   "outputs": [],
   "source": [
    "server = ENCODED('www.encodeproject.org')"
   ]
  },
  {
   "cell_type": "code",
   "execution_count": 5,
   "metadata": {},
   "outputs": [],
   "source": [
    "e10_5 = \"https://www.encodeproject.org/search/?searchTerm=e10.5&type=Experiment&assay_title=scRNA-seq&files.file_type=fastq&limit=all\""
   ]
  },
  {
   "cell_type": "code",
   "execution_count": 6,
   "metadata": {},
   "outputs": [],
   "source": [
    "graph = server.search_jsonld(searchTerm=\"e10.5\", **{'type': \"Experiment\", 'assay_title': \"scRNA-seq\", \"files.file_type\": \"fastq\", \"limit\": \"all\"})"
   ]
  },
  {
   "cell_type": "code",
   "execution_count": 7,
   "metadata": {},
   "outputs": [
    {
     "data": {
      "text/plain": [
       "257"
      ]
     },
     "execution_count": 7,
     "metadata": {},
     "output_type": "execute_result"
    }
   ],
   "source": [
    "len(graph['@graph'])"
   ]
  },
  {
   "cell_type": "code",
   "execution_count": 8,
   "metadata": {},
   "outputs": [],
   "source": [
    "e = server.get_json('/experiments/ENCSR278TAI/')"
   ]
  },
  {
   "cell_type": "code",
   "execution_count": 9,
   "metadata": {},
   "outputs": [
    {
     "data": {
      "text/plain": [
       "{('bam', 'alignments'),\n",
       " ('bam', 'transcriptome alignments'),\n",
       " ('bigWig', 'signal of all reads'),\n",
       " ('bigWig', 'signal of unique reads'),\n",
       " ('fastq', 'reads'),\n",
       " ('tsv', 'gene quantifications'),\n",
       " ('tsv', 'transcript quantifications')}"
      ]
     },
     "execution_count": 9,
     "metadata": {},
     "output_type": "execute_result"
    }
   ],
   "source": [
    "set([(x['file_format'], x['output_type']) for x in e['files']])"
   ]
  },
  {
   "cell_type": "code",
   "execution_count": 10,
   "metadata": {},
   "outputs": [
    {
     "data": {
      "text/plain": [
       "[('C1_mouse_limb_combined_Mar_2017/18049_H6_mm10_clean/18049_H6_mm10_clean-mm10-M4-male_anno_rsem.genes.results',\n",
       "  '/files/ENCFF078YTM/')]"
      ]
     },
     "execution_count": 10,
     "metadata": {},
     "output_type": "execute_result"
    }
   ],
   "source": [
    "[(x['submitted_file_name'], x['@id']) for x in e['files'] if x['output_type'] == 'gene quantifications']"
   ]
  },
  {
   "cell_type": "code",
   "execution_count": 11,
   "metadata": {},
   "outputs": [
    {
     "data": {
      "text/plain": [
       "257"
      ]
     },
     "execution_count": 11,
     "metadata": {},
     "output_type": "execute_result"
    }
   ],
   "source": [
    "experiments_all = [x['accession'] for x in graph['@graph']]\n",
    "len(experiments_all)"
   ]
  },
  {
   "cell_type": "code",
   "execution_count": 12,
   "metadata": {},
   "outputs": [],
   "source": [
    "empty_experiments = {\n",
    "    'ENCSR134JVO',\n",
    "     'ENCSR220RKA',\n",
    "     'ENCSR430OIC',\n",
    "     'ENCSR530WGW',\n",
    "     'ENCSR619BUX',\n",
    "     'ENCSR991VTV'\n",
    "}"
   ]
  },
  {
   "cell_type": "code",
   "execution_count": 13,
   "metadata": {},
   "outputs": [],
   "source": [
    "total = len(graph['@graph'])\n",
    "rsem = []\n",
    "experiments = []\n",
    "count = 0\n",
    "for g in graph['@graph']:\n",
    "    if g['accession'] not in empty_experiments:\n",
    "        e = server.get_json(g['@id'])\n",
    "        for f in e['files']:\n",
    "            if f.get('output_type', None) == 'gene quantifications':\n",
    "                experiments.append(g['accession'])\n",
    "                url = 'https://www.encodeproject.org' + f['href']\n",
    "                rsem.append(url)\n"
   ]
  },
  {
   "cell_type": "code",
   "execution_count": 14,
   "metadata": {},
   "outputs": [],
   "source": [
    "counts = load_rsem_quantifications(rsem, index=experiments, column='expected_count')"
   ]
  },
  {
   "cell_type": "code",
   "execution_count": 21,
   "metadata": {},
   "outputs": [],
   "source": [
    "gene_id_map = get_gene_id_to_name('mm10-M21-male')"
   ]
  },
  {
   "cell_type": "code",
   "execution_count": 22,
   "metadata": {},
   "outputs": [
    {
     "ename": "KeyError",
     "evalue": "'ENSMUSG00000000003.11'",
     "output_type": "error",
     "traceback": [
      "\u001b[0;31m---------------------------------------------------------------------------\u001b[0m",
      "\u001b[0;31mKeyError\u001b[0m                                  Traceback (most recent call last)",
      "\u001b[0;32m<ipython-input-22-2525a30881ee>\u001b[0m in \u001b[0;36m<module>\u001b[0;34m\u001b[0m\n\u001b[0;32m----> 1\u001b[0;31m \u001b[0mgene_symbols\u001b[0m \u001b[0;34m=\u001b[0m \u001b[0;34m[\u001b[0m\u001b[0mgene_id_map\u001b[0m\u001b[0;34m[\u001b[0m\u001b[0mx\u001b[0m\u001b[0;34m]\u001b[0m \u001b[0;32mfor\u001b[0m \u001b[0mx\u001b[0m \u001b[0;32min\u001b[0m \u001b[0mcounts\u001b[0m\u001b[0;34m.\u001b[0m\u001b[0mindex\u001b[0m\u001b[0;34m]\u001b[0m\u001b[0;34m\u001b[0m\u001b[0;34m\u001b[0m\u001b[0m\n\u001b[0m",
      "\u001b[0;32m<ipython-input-22-2525a30881ee>\u001b[0m in \u001b[0;36m<listcomp>\u001b[0;34m(.0)\u001b[0m\n\u001b[0;32m----> 1\u001b[0;31m \u001b[0mgene_symbols\u001b[0m \u001b[0;34m=\u001b[0m \u001b[0;34m[\u001b[0m\u001b[0mgene_id_map\u001b[0m\u001b[0;34m[\u001b[0m\u001b[0mx\u001b[0m\u001b[0;34m]\u001b[0m \u001b[0;32mfor\u001b[0m \u001b[0mx\u001b[0m \u001b[0;32min\u001b[0m \u001b[0mcounts\u001b[0m\u001b[0;34m.\u001b[0m\u001b[0mindex\u001b[0m\u001b[0;34m]\u001b[0m\u001b[0;34m\u001b[0m\u001b[0;34m\u001b[0m\u001b[0m\n\u001b[0m",
      "\u001b[0;31mKeyError\u001b[0m: 'ENSMUSG00000000003.11'"
     ]
    }
   ],
   "source": [
    "gene_symbols = [gene_id_map[x] for x in counts.index]"
   ]
  },
  {
   "cell_type": "code",
   "execution_count": 15,
   "metadata": {},
   "outputs": [
    {
     "data": {
      "text/plain": [
       "(69690, 251)"
      ]
     },
     "execution_count": 15,
     "metadata": {},
     "output_type": "execute_result"
    }
   ],
   "source": [
    "counts.shape"
   ]
  },
  {
   "cell_type": "code",
   "execution_count": 16,
   "metadata": {},
   "outputs": [
    {
     "data": {
      "text/plain": [
       "gene_id\n",
       "10000                       0.0\n",
       "10001                       0.0\n",
       "10002                       1.0\n",
       "10003                       0.0\n",
       "10004                       0.0\n",
       "                         ...   \n",
       "gSpikein_ERCC-00164        78.0\n",
       "gSpikein_ERCC-00165      2848.0\n",
       "gSpikein_ERCC-00168        87.0\n",
       "gSpikein_ERCC-00170      5185.0\n",
       "gSpikein_ERCC-00171    137503.0\n",
       "Length: 69690, dtype: float64"
      ]
     },
     "execution_count": 16,
     "metadata": {},
     "output_type": "execute_result"
    }
   ],
   "source": [
    "counts.sum(axis=1)"
   ]
  },
  {
   "cell_type": "code",
   "execution_count": 18,
   "metadata": {},
   "outputs": [
    {
     "name": "stdout",
     "output_type": "stream",
     "text": [
      "align-star-0.log\r\n",
      "align-star-0.out\r\n",
      "bedgraph2bigwig-0.log\r\n",
      "bedgraph2bigwig-0.out\r\n",
      "bedgraph2bigwig-1.log\r\n",
      "bedgraph2bigwig-1.out\r\n",
      "bedgraph-star-0.log\r\n",
      "bedgraph-star-0.out\r\n",
      "c1_e10.5.dagman\r\n",
      "c1_e10.5.dagman~\r\n",
      "c1_e10.5.fastq.gz\r\n",
      "c1_e10.5-mm10-M21-male_all.bw\r\n",
      "c1_e10.5-mm10-M21-male_anno.bam\r\n",
      "c1_e10.5-mm10-M21-male_anno_rsem.genes.results\r\n",
      "c1_e10.5-mm10-M21-male_anno_rsem.isoforms.results\r\n",
      "c1_e10.5-mm10-M21-male.coverage\r\n",
      "c1_e10.5-mm10-M21-male.coverage.geneList\r\n",
      "c1_e10.5-mm10-M21-male_genome.bam\r\n",
      "c1_e10.5-mm10-M21-male_genome.bam.bai\r\n",
      "c1_e10.5-mm10-M21-male_genome.samstats\r\n",
      "c1_e10.5-mm10-M21-male.sam_reads_genes\r\n",
      "c1_e10.5-mm10-M21-male_uniq.bw\r\n",
      "COfile.txt\r\n",
      "coverage-0.log\r\n",
      "coverage-0.out\r\n",
      "distribution-0.log\r\n",
      "distribution-0.out\r\n",
      "Log.final.out\r\n",
      "Log.out\r\n",
      "Log.progress.out\r\n",
      "ReadsPerGene.out.tab\r\n",
      "rsem-0.log\r\n",
      "rsem-0.out\r\n",
      "samstats-0.log\r\n",
      "samstats-0.out\r\n",
      "samtools-index-0.log\r\n",
      "samtools-index-0.out\r\n",
      "Signal.UniqueMultiple.str1.out.bg\r\n",
      "Signal.Unique.str1.out.bg\r\n",
      "SJ.out.tab\r\n",
      "sort-samtools-0.log\r\n",
      "sort-samtools-0.out\r\n"
     ]
    }
   ],
   "source": [
    "ls c1_e10.5/"
   ]
  },
  {
   "cell_type": "code",
   "execution_count": 20,
   "metadata": {},
   "outputs": [],
   "source": [
    "#population = load_rsem_quantifications(['c1_e10.5/c1_e10.5-mm10-M21-male-star2.7.5a_anno_rsem.genes.results'], 'population', column='expected_count')\n",
    "population = load_rsem_quantifications(['c1_e10.5/c1_e10.5-mm10-M21-male_anno_rsem.genes.results'], column='expected_count')"
   ]
  },
  {
   "cell_type": "code",
   "execution_count": null,
   "metadata": {},
   "outputs": [],
   "source": []
  }
 ],
 "metadata": {
  "kernelspec": {
   "display_name": "Python 3",
   "language": "python",
   "name": "python3"
  },
  "language_info": {
   "codemirror_mode": {
    "name": "ipython",
    "version": 3
   },
   "file_extension": ".py",
   "mimetype": "text/x-python",
   "name": "python",
   "nbconvert_exporter": "python",
   "pygments_lexer": "ipython3",
   "version": "3.8.5"
  }
 },
 "nbformat": 4,
 "nbformat_minor": 4
}
