{
 "cells": [
  {
   "cell_type": "markdown",
   "metadata": {},
   "source": [
    "# Introduction"
   ]
  },
  {
   "cell_type": "markdown",
   "metadata": {},
   "source": [
    "The 10x e10.5 runs were kind of boring and hard to recognize what they were doing. How about we try replicating the paper's analysis with alevin & kallisto?"
   ]
  },
  {
   "cell_type": "code",
   "execution_count": 1,
   "metadata": {},
   "outputs": [],
   "source": [
    "import pandas\n",
    "from pathlib import Path\n",
    "import os\n",
    "import sys\n",
    "from glob import glob\n",
    "import re"
   ]
  },
  {
   "cell_type": "code",
   "execution_count": 2,
   "metadata": {},
   "outputs": [],
   "source": [
    "fastq_root = Path('~/proj/brian-2018-01-10x').expanduser()\n",
    "target_root = Path('~/proj/encode-202006-jamboree-detrout-rna-sc-pipeline/10x_paper').expanduser()"
   ]
  },
  {
   "cell_type": "code",
   "execution_count": 3,
   "metadata": {},
   "outputs": [],
   "source": [
    "runs = {\n",
    "    '10x-1': [\n",
    "        fastq_root / 'Chromium_20170819/SI-GA-D5_1/',\n",
    "        fastq_root / 'Chromium_20170819/SI-GA-D5_2/',\n",
    "        fastq_root / 'Chromium_20170819/SI-GA-D5_3/',\n",
    "        fastq_root / 'Chromium_20170819/SI-GA-D5_4/',\n",
    "    ],\n",
    "    '10x-3': [fastq_root / 'SE731_new/outs/fastq_path/'],\n",
    "    '10x-4': [fastq_root / 'SE732_new/outs/fastq_path/'],\n",
    "    '10x-5': [fastq_root / 'SE733/outs/fastq_path/'],\n",
    "    '10x-6': [fastq_root / 'SE734/outs/fastq_path'],\n",
    "    '10x-7': [fastq_root / 'FT-BB01669/FT-SA17497_FT-TS92801'],\n",
    "    '10x-8': [fastq_root / 'FT-BB01670/FT-SA17501_FT-TS92805'],\n",
    "    #'10x-9': [fastq_root / 'FT-BB01671/FT-SA17505_FT-TS92809'],\n",
    "    '10x-10': [fastq_root / 'FT-BB01672/FT-SA17509_FT-TS92813'],\n",
    "    '10x-11': [fastq_root / 'FT-BB01673/FT-SA17513_FT-TS92817'],\n",
    "    '10x-12': [fastq_root / 'FT-BB01674/FT-SA17517_FT-TS92821'],\n",
    "    '10x-13': [fastq_root / 'FT-BB01675/FT-SA17521_FT-TS92825'],\n",
    "}"
   ]
  },
  {
   "cell_type": "code",
   "execution_count": 4,
   "metadata": {},
   "outputs": [
    {
     "data": {
      "text/plain": [
       "{'10x-1': [PosixPath('/woldlab/loxcyc/home/diane/proj/brian-2018-01-10x/Chromium_20170819/SI-GA-D5_1'),\n",
       "  PosixPath('/woldlab/loxcyc/home/diane/proj/brian-2018-01-10x/Chromium_20170819/SI-GA-D5_2'),\n",
       "  PosixPath('/woldlab/loxcyc/home/diane/proj/brian-2018-01-10x/Chromium_20170819/SI-GA-D5_3'),\n",
       "  PosixPath('/woldlab/loxcyc/home/diane/proj/brian-2018-01-10x/Chromium_20170819/SI-GA-D5_4')],\n",
       " '10x-3': [PosixPath('/woldlab/loxcyc/home/diane/proj/brian-2018-01-10x/SE731_new/outs/fastq_path')],\n",
       " '10x-4': [PosixPath('/woldlab/loxcyc/home/diane/proj/brian-2018-01-10x/SE732_new/outs/fastq_path')],\n",
       " '10x-5': [PosixPath('/woldlab/loxcyc/home/diane/proj/brian-2018-01-10x/SE733/outs/fastq_path')],\n",
       " '10x-6': [PosixPath('/woldlab/loxcyc/home/diane/proj/brian-2018-01-10x/SE734/outs/fastq_path')],\n",
       " '10x-7': [PosixPath('/woldlab/loxcyc/home/diane/proj/brian-2018-01-10x/FT-BB01669/FT-SA17497_FT-TS92801')],\n",
       " '10x-8': [PosixPath('/woldlab/loxcyc/home/diane/proj/brian-2018-01-10x/FT-BB01670/FT-SA17501_FT-TS92805')],\n",
       " '10x-10': [PosixPath('/woldlab/loxcyc/home/diane/proj/brian-2018-01-10x/FT-BB01672/FT-SA17509_FT-TS92813')],\n",
       " '10x-11': [PosixPath('/woldlab/loxcyc/home/diane/proj/brian-2018-01-10x/FT-BB01673/FT-SA17513_FT-TS92817')],\n",
       " '10x-12': [PosixPath('/woldlab/loxcyc/home/diane/proj/brian-2018-01-10x/FT-BB01674/FT-SA17517_FT-TS92821')],\n",
       " '10x-13': [PosixPath('/woldlab/loxcyc/home/diane/proj/brian-2018-01-10x/FT-BB01675/FT-SA17521_FT-TS92825')]}"
      ]
     },
     "execution_count": 4,
     "metadata": {},
     "output_type": "execute_result"
    }
   ],
   "source": [
    "runs"
   ]
  },
  {
   "cell_type": "code",
   "execution_count": 5,
   "metadata": {},
   "outputs": [],
   "source": [
    "run_fastqs = {}\n",
    "for run_name in runs:\n",
    "    for run_directory in runs[run_name]:\n",
    "        for filename in run_directory.glob('*_R*.fastq.gz'):\n",
    "            if 'Undetermined' in str(filename):\n",
    "                continue\n",
    "            run_fastqs.setdefault(run_name, []).append(filename)\n",
    "            #print(run_name, filename)"
   ]
  },
  {
   "cell_type": "code",
   "execution_count": 6,
   "metadata": {},
   "outputs": [],
   "source": [
    "def pair_reads(fastqs):\n",
    "    pattern = re.compile(\"(?P<prefix>.*)_(?P<read>R[12])_001.fastq.gz\")\n",
    "    mates = {}\n",
    "    for pathname in fastqs:\n",
    "        match = pattern.match(pathname.name)\n",
    "        if match:\n",
    "            prefix = match.group('prefix')\n",
    "            read_id = match.group('read')[1:]\n",
    "            mates.setdefault(prefix, {})[read_id] = pathname\n",
    "            \n",
    "    for prefix in mates:\n",
    "        yield (mates[prefix]['1'], mates[prefix]['2'])\n"
   ]
  },
  {
   "cell_type": "code",
   "execution_count": 7,
   "metadata": {},
   "outputs": [],
   "source": [
    "def kallisto_condor(runs, target_root, flavor):\n",
    "    command = {\n",
    "        'kallisto_em': Path('~/proj/encode-202006-jamboree-detrout-rna-sc-pipeline/10x_paper/kallisto-em.sh').expanduser(),\n",
    "        'kallisto_em_minimal': Path('~/proj/encode-202006-jamboree-detrout-rna-sc-pipeline/10x_paper/kallisto-em-minimal.sh').expanduser(),\n",
    "    }\n",
    "    assert flavor in command\n",
    "    header = \"\"\"#!/usr/bin/condor_submit\n",
    "\n",
    "universe=vanilla\n",
    "log=logs/{flavor}.log\n",
    "output=logs/{flavor}.$(process).out\n",
    "error=logs/{flavor}.$(process).out\n",
    "\n",
    "THREADS=8\n",
    "\n",
    "request_cpus=$(THREADS)\n",
    "request_memory=4G\n",
    "executable={command}\n",
    "\"\"\".format(flavor=flavor, command=command[flavor])\n",
    "    lines = [header]\n",
    "    for run in runs:\n",
    "        fastqs = []\n",
    "        for pair in pair_reads(runs[run]):\n",
    "            fastqs.append(str(pair[0]))\n",
    "            fastqs.append(str(pair[1]))\n",
    "        fastqs = \" \".join(fastqs)\n",
    "        lines.append(f'arguments=\"{run} {fastqs}\"')\n",
    "        lines.append('queue')            \n",
    "    return '\\n'.join(lines)"
   ]
  },
  {
   "cell_type": "code",
   "execution_count": 8,
   "metadata": {},
   "outputs": [],
   "source": [
    "def alevin_condor(runs, target_root, flavor):\n",
    "    project_root = Path('~/proj/encode-202006-jamboree-detrout-rna-sc-pipeline').expanduser()\n",
    "    genome_dirs = {\n",
    "        'alevin': project_root / 'genome' / 'mm10-M21-male',\n",
    "        'alevin_decoy': project_root / 'genome' / 'mm10-M21-male',\n",
    "        'alevin_minimal': project_root / 'genome' / 'mm10-M21_minimal-male',\n",
    "        'alevin_decoy_minimal': project_root / 'genome' / 'mm10-M21_minimal-male',\n",
    "    }\n",
    "    genome_dir = genome_dirs[flavor]\n",
    "    index_dirs = {\n",
    "        'alevin': genome_dir / 'salmon_index',\n",
    "        'alevin_decoy': genome_dir / 'salmon_index_decoy',\n",
    "        'alevin_minimal': genome_dir / 'salmon_index',\n",
    "        'alevin_decoy_minimal': genome_dir / 'salmon_index_decoy'\n",
    "    }\n",
    "    index_dir = index_dirs[flavor]\n",
    "    header = \"\"\"#!/usr/bin/condor_submit\n",
    "\n",
    "universe=vanilla\n",
    "log=logs/{flavor}.log\n",
    "output=logs/{flavor}.$(process).out\n",
    "error=logs/{flavor}.$(process).out\n",
    "\n",
    "THREADS=8\n",
    "HOME=/woldlab/loxcyc/home/diane\n",
    "TGMAP={genome_dir}/txp2gene.tsv\n",
    "SALMON_SIMG=$(HOME)/proj/encode-202006-jamboree-detrout-rna-sc-pipeline/salmon-container/salmon-unstable.simg\n",
    "\n",
    "request_cpus=$(THREADS)\n",
    "executable=/usr/bin/singularity\n",
    "\"\"\".format(flavor=flavor, target_root=str(target_root), genome_dir=str(genome_dir))\n",
    "    lines = [header]\n",
    "    for run in runs:\n",
    "        fastqs = pair_reads(runs[run])\n",
    "        read1 = ['-1']\n",
    "        read2 = ['-2']\n",
    "        for pair in fastqs:\n",
    "            # alevin wanted the reads backwards?\n",
    "            read1.append(pair[1])\n",
    "            read2.append(pair[0])\n",
    "\n",
    "        read1_arg = \" \".join([str(x) for x in read1])\n",
    "        read2_arg = \" \".join([str(x) for x in read2])\n",
    "        alevin_dir = target_root / flavor\n",
    "        if not alevin_dir.exists():\n",
    "            alevin_dir.mkdir()\n",
    "        run_dir = alevin_dir / run\n",
    "        if not run_dir.exists():\n",
    "            run_dir.mkdir()\n",
    "        lines.append(f'arguments=\"run $(SALMON_SIMG) alevin -l ISR {read1_arg} {read2_arg} --chromium -i {index_dir} -p $(THREADS) -o {run_dir} --dumpMtx --tgMap $(TGMAP)\"')\n",
    "        lines.append('queue')            \n",
    "    return '\\n'.join(lines)\n",
    "\n"
   ]
  },
  {
   "cell_type": "code",
   "execution_count": 9,
   "metadata": {},
   "outputs": [],
   "source": [
    "algorithms = {\n",
    "    'kallisto_em': kallisto_condor, \n",
    "    'kallisto_em_minimal': kallisto_condor, \n",
    "    'alevin': alevin_condor,\n",
    "    'alevin_minimal': alevin_condor,\n",
    "    'alevin_decoy': alevin_condor,\n",
    "    'alevin_decoy_minimal': alevin_condor,    \n",
    "}"
   ]
  },
  {
   "cell_type": "code",
   "execution_count": 10,
   "metadata": {},
   "outputs": [],
   "source": [
    "for name in algorithms:\n",
    "    template = algorithms[name]\n",
    "    with open(target_root / (name + '.condor'), 'wt') as outstream:\n",
    "        outstream.write(template(run_fastqs, target_root, name))\n",
    "    "
   ]
  }
 ],
 "metadata": {
  "kernelspec": {
   "display_name": "Python 3",
   "language": "python",
   "name": "python3"
  },
  "language_info": {
   "codemirror_mode": {
    "name": "ipython",
    "version": 3
   },
   "file_extension": ".py",
   "mimetype": "text/x-python",
   "name": "python",
   "nbconvert_exporter": "python",
   "pygments_lexer": "ipython3",
   "version": "3.8.5"
  }
 },
 "nbformat": 4,
 "nbformat_minor": 4
}
