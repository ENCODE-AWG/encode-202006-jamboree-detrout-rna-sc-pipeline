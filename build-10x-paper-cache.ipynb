{
 "cells": [
  {
   "cell_type": "markdown",
   "metadata": {},
   "source": [
    "# Introduction"
   ]
  },
  {
   "cell_type": "markdown",
   "metadata": {},
   "source": [
    "Generate filtered AnnData matrices for our kallisto & alevin runs.\n",
    "\n",
    "I want to try and apply the same paper filter to the dataset."
   ]
  },
  {
   "cell_type": "code",
   "execution_count": 1,
   "metadata": {},
   "outputs": [],
   "source": [
    "import numpy\n",
    "import anndata\n",
    "import os\n",
    "import pandas\n",
    "import scipy\n",
    "import scanpy\n",
    "import time\n",
    "import upsetplot\n",
    "from matplotlib import pyplot\n",
    "from pathlib import Path\n",
    "\n",
    "from common import (\n",
    "    scanpy_load_solo_mtx, \n",
    "    scanpy_load_alevin_mtx, \n",
    "    scanpy_load_kallisto_gene_mtx, \n",
    "    build_anndata\n",
    ")"
   ]
  },
  {
   "cell_type": "code",
   "execution_count": 2,
   "metadata": {},
   "outputs": [],
   "source": [
    "%matplotlib inline"
   ]
  },
  {
   "cell_type": "code",
   "execution_count": 3,
   "metadata": {},
   "outputs": [],
   "source": [
    "genome_dir = Path('~/proj/genome').expanduser() / 'mm10-M21-male'\n",
    "\n",
    "store = pandas.HDFStore(genome_dir / 'mm10-M21-male.h5')\n",
    "gtf = store[store.keys()[0]]\n",
    "store.close()\n",
    "\n",
    "def add_gene_symbols_to_anndata(adata, gtf, key=\"gene_id\"):\n",
    "    if key == \"gene_id\":\n",
    "        # We have a gene matrixCell\n",
    "        info = gtf[gtf[\"type\"].isin([\"gene\", \"tRNA\"]) | (gtf[\"source\"] == \"spikein\")]\n",
    "        info = info.set_index(\"gene_id\")\n",
    "        feature_type = \"gene\"\n",
    "    elif key == \"transcript_id\":\n",
    "        info = gtf[(gtf[\"type\"].isin([\"transcript\", \"tRNA\"])) | (gtf[\"source\"] == \"spikein\")]\n",
    "        info = info.set_index(\"transcript_id\")\n",
    "        feature_type = \"transcript\"\n",
    "    else:\n",
    "        raise ValueError(\n",
    "            \"Unrecognized key expected gene_id or transcript_id got {}\".format(key)\n",
    "            )\n",
    "    gene_names = []\n",
    "    gene_types = []\n",
    "    for feature in adata.var_names:\n",
    "        gene_names.append(info.loc[feature, \"gene_name\"])\n",
    "        gene_types.append(info.loc[feature, \"gene_type\"])\n",
    "\n",
    "    adata.var[\"gene_symbols\"] = gene_names\n",
    "    adata.var[\"gene_types\"] = gene_types\n",
    "    adata.uns[\"feature_type\"] = feature_type\n",
    "    return adata\n"
   ]
  },
  {
   "cell_type": "code",
   "execution_count": 4,
   "metadata": {},
   "outputs": [],
   "source": [
    "analysis_root = Path('10x_paper')"
   ]
  },
  {
   "cell_type": "code",
   "execution_count": 5,
   "metadata": {},
   "outputs": [],
   "source": [
    "analysis_dirs = {\n",
    "    'kallisto_em': analysis_root / 'kallisto_em',\n",
    "    'kallisto_em_minimal': analysis_root / 'kallisto_em_minimal',\n",
    "    'alevin': analysis_root / 'alevin',\n",
    "    'alevin_minimal': analysis_root / 'alevin_minimal',\n",
    "}"
   ]
  },
  {
   "cell_type": "code",
   "execution_count": 6,
   "metadata": {},
   "outputs": [],
   "source": [
    "timecourse = {\n",
    "    '10x-7': 'e10.5',\n",
    "    '10x-3': 'e11.0',\n",
    "    '10x-4': 'e12.0',\n",
    "    '10x-5': 'e13.0',\n",
    "    '10x-12': 'e13.0',\n",
    "    '10x-1': 'e13.5',\n",
    "    '10x-13': 'e14.0',\n",
    "    '10x-6': 'e15.0',\n",
    "}\n",
    "sausage = {\n",
    "    '10x-8': 'e15.0 whole',\n",
    "    #'10x-9': 'e15.0 proximal',\n",
    "    '10x-10': 'e15.0 mid',\n",
    "    '10x-11': 'e15.0 distal',    \n",
    "}"
   ]
  },
  {
   "cell_type": "code",
   "execution_count": null,
   "metadata": {},
   "outputs": [],
   "source": []
  },
  {
   "cell_type": "code",
   "execution_count": 7,
   "metadata": {},
   "outputs": [
    {
     "name": "stdout",
     "output_type": "stream",
     "text": [
      "kallisto_em_minimal 10x-7 (7835, 31635) 7.6e+01s\n",
      "kallisto_em_minimal 10x-3 (18818, 31635) 9.8e+01s\n",
      "kallisto_em_minimal 10x-4 (7178, 31635) 4.3e+01s\n",
      "kallisto_em_minimal 10x-5 (11230, 31635) 5.3e+01s\n",
      "kallisto_em_minimal 10x-12 (12140, 31635) 8.4e+01s\n",
      "kallisto_em_minimal 10x-1 (8899, 31635) 6.1e+01s\n",
      "kallisto_em_minimal 10x-13 (10629, 31635) 7.3e+01s\n",
      "kallisto_em_minimal 10x-6 (14989, 31635) 6.6e+01s\n"
     ]
    },
    {
     "data": {
      "text/plain": [
       "AnnData object with n_obs × n_vars = 91718 × 31635 \n",
       "    obs: 'batch', 'counts', 'ngenes', 'run', 'timepoint', 'n_genes_by_counts', 'log1p_n_genes_by_counts', 'total_counts', 'log1p_total_counts', 'total_counts_mt', 'log1p_total_counts_mt', 'pct_counts_mt'\n",
       "    var: 'gene_symbols', 'gene_types', 'mt', 'n_cells_by_counts', 'mean_counts', 'log1p_mean_counts', 'pct_dropout_by_counts', 'total_counts', 'log1p_total_counts'"
      ]
     },
     "execution_count": 7,
     "metadata": {},
     "output_type": "execute_result"
    }
   ],
   "source": [
    "algorithm = 'kallisto_em_minimal'\n",
    "#algorithm = 'alevin'\n",
    "run_matrices = []\n",
    "t0 = time.monotonic()\n",
    "tprev = t0\n",
    "tnow = t0\n",
    "for run in timecourse:\n",
    "\n",
    "    run_dir = analysis_dirs[algorithm]/run\n",
    "    if algorithm.startswith('kallisto'):\n",
    "        filtered_list = run_dir / 'filtered-barcodes.txt'\n",
    "        run_matrices.append(scanpy_load_kallisto_gene_mtx(run_dir / 'genecount', filtered_list))\n",
    "    elif algorithm.startswith('alevin'):\n",
    "        run_matrices.append(scanpy_load_alevin_mtx(run_dir))    \n",
    "    # filter out cells \n",
    "    \n",
    "    run_matrices[-1].obs['run'] = run\n",
    "    run_matrices[-1].obs['timepoint'] = timecourse[run]\n",
    "    add_gene_symbols_to_anndata(run_matrices[-1], gtf)\n",
    "    run_matrices[-1].var['mt'] = run_matrices[-1].var['gene_symbols'].fillna('').str.startswith('mt-')\n",
    "    \n",
    "\n",
    "    tnow = time.monotonic()\n",
    "    print(\"{} {} {} {:.4}s\".format(algorithm, run, run_matrices[-1].shape, tnow-tprev))\n",
    "    tprev = tnow\n",
    "    \n",
    "run_matrix = anndata.AnnData.concatenate(*run_matrices)\n",
    "scanpy.pp.calculate_qc_metrics(run_matrix, qc_vars=['mt'], percent_top=None, inplace=True)\n",
    "run_matrix"
   ]
  },
  {
   "cell_type": "code",
   "execution_count": 11,
   "metadata": {},
   "outputs": [
    {
     "data": {
      "text/plain": [
       "(47909, 31635)"
      ]
     },
     "execution_count": 11,
     "metadata": {},
     "output_type": "execute_result"
    }
   ],
   "source": [
    "run_matrix.shape"
   ]
  },
  {
   "cell_type": "code",
   "execution_count": 10,
   "metadata": {},
   "outputs": [
    {
     "data": {
      "text/plain": [
       "(7337, 31635)"
      ]
     },
     "execution_count": 10,
     "metadata": {},
     "output_type": "execute_result"
    }
   ],
   "source": [
    "run_matrix[run_matrix.obs.n_genes_by_counts < 1000, :].shape"
   ]
  },
  {
   "cell_type": "code",
   "execution_count": 9,
   "metadata": {},
   "outputs": [],
   "source": [
    "scanpy.pp.calculate_qc_metrics?"
   ]
  },
  {
   "cell_type": "code",
   "execution_count": null,
   "metadata": {},
   "outputs": [],
   "source": []
  },
  {
   "cell_type": "code",
   "execution_count": null,
   "metadata": {},
   "outputs": [],
   "source": []
  }
 ],
 "metadata": {
  "kernelspec": {
   "display_name": "Python 3",
   "language": "python",
   "name": "python3"
  },
  "language_info": {
   "codemirror_mode": {
    "name": "ipython",
    "version": 3
   },
   "file_extension": ".py",
   "mimetype": "text/x-python",
   "name": "python",
   "nbconvert_exporter": "python",
   "pygments_lexer": "ipython3",
   "version": "3.8.5"
  }
 },
 "nbformat": 4,
 "nbformat_minor": 4
}
