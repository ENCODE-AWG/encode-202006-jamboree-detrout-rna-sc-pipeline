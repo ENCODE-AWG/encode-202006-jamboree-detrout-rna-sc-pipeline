{
 "cells": [
  {
   "cell_type": "code",
   "execution_count": 1,
   "metadata": {
    "executionInfo": {
     "elapsed": 357,
     "status": "ok",
     "timestamp": 1605745983269,
     "user": {
      "displayName": "Diane Trout",
      "photoUrl": "",
      "userId": "05098941834540710785"
     },
     "user_tz": 480
    },
    "id": "_cSK2v5osh0Q"
   },
   "outputs": [],
   "source": [
    "import numpy\n",
    "import pandas\n",
    "import sys\n",
    "from pathlib import Path\n",
    "import requests\n",
    "import site\n",
    "from subprocess import check_call, run\n",
    "from matplotlib import pyplot, cm"
   ]
  },
  {
   "cell_type": "code",
   "execution_count": 2,
   "metadata": {
    "executionInfo": {
     "elapsed": 549,
     "status": "ok",
     "timestamp": 1605745983484,
     "user": {
      "displayName": "Diane Trout",
      "photoUrl": "",
      "userId": "05098941834540710785"
     },
     "user_tz": 480
    },
    "id": "5IcMsTdnsmyn"
   },
   "outputs": [],
   "source": [
    "kallisto_git = Path('/content/kallisto').expanduser()\n",
    "if not kallisto_git.exists():\n",
    "  !apt update\n",
    "  !apt install -y cmake\n",
    "  !apt-get install autoconf\n",
    "  !git clone https://github.com/pachterlab/kallisto.git\n",
    "kallisto_build = kallisto_git / 'build'\n",
    "if not kallisto_build.exists():\n",
    "  kallisto_build.mkdir()\n",
    "kallisto_exe = kallisto_build / 'src' / 'kallisto'\n",
    "if not kallisto_exe.exists():\n",
    "  !pushd kallisto/build && cmake .. && make && popd\n",
    "  !chmod +x kallisto/build/src/kallisto"
   ]
  },
  {
   "cell_type": "code",
   "execution_count": 3,
   "metadata": {
    "executionInfo": {
     "elapsed": 544,
     "status": "ok",
     "timestamp": 1605745983488,
     "user": {
      "displayName": "Diane Trout",
      "photoUrl": "",
      "userId": "05098941834540710785"
     },
     "user_tz": 480
    },
    "id": "tNOM3ASqtDa8"
   },
   "outputs": [],
   "source": [
    "single_cell_qc = Path(site.getsitepackages()[0]) / 'singleqc'\n",
    "if not single_cell_qc.exists():\n",
    "  !python3 -m pip install git+https://github.com/detrout/single-cell-qc"
   ]
  },
  {
   "cell_type": "code",
   "execution_count": 4,
   "metadata": {
    "executionInfo": {
     "elapsed": 540,
     "status": "ok",
     "timestamp": 1605745983494,
     "user": {
      "displayName": "Diane Trout",
      "photoUrl": "",
      "userId": "05098941834540710785"
     },
     "user_tz": 480
    },
    "id": "dVRI18hasp6E"
   },
   "outputs": [],
   "source": [
    "def DownloadFile(url, local_filename):\n",
    "    r = requests.get(url)\n",
    "    f = open(local_filename, 'wb')\n",
    "    for chunk in r.iter_content(chunk_size=512 * 1024): \n",
    "        if chunk: # filter out keep-alive new chunks\n",
    "            f.write(chunk)\n",
    "    f.close()\n",
    "    return "
   ]
  },
  {
   "cell_type": "code",
   "execution_count": 5,
   "metadata": {
    "executionInfo": {
     "elapsed": 719,
     "status": "ok",
     "timestamp": 1605745983678,
     "user": {
      "displayName": "Diane Trout",
      "photoUrl": "",
      "userId": "05098941834540710785"
     },
     "user_tz": 480
    },
    "id": "QoUdHyRzsu4S"
   },
   "outputs": [],
   "source": [
    "def sc_scatter(kallisto, rsem, cell_id, ax=None):\n",
    "    gridalpha = 0.5\n",
    "    def is_spike(x):\n",
    "        if x.startswith('gSpikein_') or x.startswith('tSpikein_'):\n",
    "            return True\n",
    "        else:\n",
    "            return False\n",
    "\n",
    "    if ax is None:\n",
    "        f = pyplot.figure()\n",
    "        ax = f.subplots(1,1)\n",
    "    \n",
    "    set1 = cm.get_cmap('Set1').colors\n",
    "    colors = [{True: set1[0], False: set1[1]}[is_spike(x)] for x in kallisto.index]\n",
    "\n",
    "    ax.plot([-5,10], [-5,10], c=set1[2])\n",
    "    #x_cells = numpy.asarray(table[name_x][cell_id].X.todense())\n",
    "    #y_cells = numpy.asarray(table[name_y][cell_id].X.todense())\n",
    "    ax.scatter(kallisto+0.01, rsem+0.01, color=colors, s=2)\n",
    "    count = numpy.sum((kallisto > 0) & (rsem > 0))\n",
    "    ax.set_title(f'id {cell_id}\\nCount: {count}')\n",
    "    ax.set_xscale('log')\n",
    "    ax.set_yscale('log')\n",
    "    ax.set_xlabel('kallisto')\n",
    "    ax.set_ylabel('rsem')\n",
    "    ax.grid(color='dimgrey', linestyle='-', linewidth=0.5, which=\"both\", alpha = gridalpha)\n"
   ]
  },
  {
   "cell_type": "code",
   "execution_count": 6,
   "metadata": {
    "executionInfo": {
     "elapsed": 715,
     "status": "ok",
     "timestamp": 1605745983681,
     "user": {
      "displayName": "Diane Trout",
      "photoUrl": "",
      "userId": "05098941834540710785"
     },
     "user_tz": 480
    },
    "id": "pOkdJtb9swjp"
   },
   "outputs": [],
   "source": [
    "genome_root = Path('genome')\n",
    "if not genome_root.exists():\n",
    "  genome_root.mkdir()\n",
    "\n",
    "genome_mm10_minimal = genome_root / 'mm10-M21_minimal-male'\n",
    "if not genome_mm10_minimal.exists():\n",
    "  genome_mm10_minimal.mkdir()\n",
    "\n",
    "genome_mm10_encode = genome_root / 'mm10-M21-male'\n",
    "if not genome_mm10_encode.exists():\n",
    "  genome_mm10_encode.mkdir()\n",
    "\n",
    "index_mm10_minimal = genome_mm10_minimal / 'mm10-M21_minimal-male-kallisto-0.46.2.idx'\n",
    "if not index_mm10_minimal.exists():\n",
    "  DownloadFile(\n",
    "      'https://woldlab.caltech.edu/~diane/encode-202006-jamboree-detrout-rna-sc-pipeline/genome/mm10-M21_minimal-male/mm10-M21_minimal-male-kallisto-0.46.2.idx',\n",
    "      index_mm10_minimal\n",
    "  )"
   ]
  },
  {
   "cell_type": "code",
   "execution_count": 7,
   "metadata": {
    "executionInfo": {
     "elapsed": 712,
     "status": "ok",
     "timestamp": 1605745983684,
     "user": {
      "displayName": "Diane Trout",
      "photoUrl": "",
      "userId": "05098941834540710785"
     },
     "user_tz": 480
    },
    "id": "OHlK6LEdsyGZ"
   },
   "outputs": [],
   "source": [
    "\n",
    "ercc_fa = genome_root / 'ENCFF01RTP.fastq.gz'\n",
    "if not ercc_fa.exists():\n",
    "  DownloadFile(\n",
    "      'https://www.encodeproject.org/files/ENCFF001RTP/@@download/ENCFF001RTP.fasta.gz',\n",
    "      ercc_fa)\n",
    "  \n",
    "phix_fa = genome_root / 'ENCFF335FFV.fasta.gz'\n",
    "if not phix_fa.exists():\n",
    "  DownloadFile(\n",
    "    'https://www.encodeproject.org/files/ENCFF335FFV/@@download/ENCFF335FFV.fasta.gz',\n",
    "    phix_fa\n",
    "  )"
   ]
  },
  {
   "cell_type": "code",
   "execution_count": 8,
   "metadata": {
    "executionInfo": {
     "elapsed": 708,
     "status": "ok",
     "timestamp": 1605745983687,
     "user": {
      "displayName": "Diane Trout",
      "photoUrl": "",
      "userId": "05098941834540710785"
     },
     "user_tz": 480
    },
    "id": "dBoW1mVZzU27"
   },
   "outputs": [],
   "source": [
    "fastq_root = 'https://woldlab.caltech.edu/~diane/C1_mouse_limb_timecourse/'\n",
    "fastqs = [\n",
    "        '18089_H4/18089_H4_TCCTGAGC-CTAAGCCT_L001_R1_001.fastq.gz',\n",
    "        '18089_H4/18089_H4_TCCTGAGC-CTAAGCCT_L002_R1_001.fastq.gz',\n",
    "        '18273_D5/18273_D5_TACGCTGC-GCGTAAGA_L001_R1_001.fastq.gz',\n",
    "        '18273_D5/18273_D5_TACGCTGC-GCGTAAGA_L002_R1_001.fastq.gz',\n",
    "        '19908_C1/19908_C1_TAAGGCGA-GTAAGGAG_L001_R1_001.fastq.gz',\n",
    "        '19908_C1/19908_C1_TAAGGCGA-GTAAGGAG_L002_R1_001.fastq.gz',\n",
    "]\n",
    "\n",
    "for filename in fastqs:\n",
    "  path = Path(filename)\n",
    "  if not path.parent.exists():\n",
    "    path.parent.mkdir()\n",
    "  if not path.exists():\n",
    "    print('Downloading {}'.format(path))\n",
    "    DownloadFile(fastq_root + filename, path)"
   ]
  },
  {
   "cell_type": "code",
   "execution_count": 13,
   "metadata": {
    "executionInfo": {
     "elapsed": 415,
     "status": "ok",
     "timestamp": 1605746158639,
     "user": {
      "displayName": "Diane Trout",
      "photoUrl": "",
      "userId": "05098941834540710785"
     },
     "user_tz": 480
    },
    "id": "NymonJc17eJX"
   },
   "outputs": [],
   "source": [
    "fastqs_by_library = {}\n",
    "for filename in fastqs:\n",
    "  path = Path(filename)\n",
    "  fastqs_by_library.setdefault(str(path.parent), []).append(filename)"
   ]
  },
  {
   "cell_type": "code",
   "execution_count": 11,
   "metadata": {
    "colab": {
     "base_uri": "https://localhost:8080/"
    },
    "executionInfo": {
     "elapsed": 25464,
     "status": "ok",
     "timestamp": 1605746038324,
     "user": {
      "displayName": "Diane Trout",
      "photoUrl": "",
      "userId": "05098941834540710785"
     },
     "user_tz": 480
    },
    "id": "ounFQwFwzU52",
    "outputId": "b30c0cd1-85d4-4d6d-ba31-fb04ba5852ce"
   },
   "outputs": [
    {
     "name": "stdout",
     "output_type": "stream",
     "text": [
      "\n",
      "[quant] fragment length distribution is truncated gaussian with mean = 1759.25, sd = 1103.92\n",
      "[index] k-mer length: 31\n",
      "[index] number of targets: 115,440\n",
      "[index] number of k-mers: 105,021,148\n",
      "tcmalloc: large alloc 3221225472 bytes == 0x557dde058000 @  0x7efd919bb887 0x557ddbfadad2 0x557ddbfa6061 0x557ddbf7b04a 0x7efd9083bbf7 0x557ddbf7f0da\n",
      "[index] number of equivalence classes: 391,234\n",
      "[quant] running in single-end mode\n",
      "[quant] will process file 1: 19908_C1/19908_C1_TAAGGCGA-GTAAGGAG_L001_R1_001.fastq.gz\n",
      "[quant] will process file 2: 19908_C1/19908_C1_TAAGGCGA-GTAAGGAG_L002_R1_001.fastq.gz\n",
      "[quant] finding pseudoalignments for the reads ... done\n",
      "[quant] processed 1,659,329 reads, 486,608 reads pseudoaligned\n",
      "[   em] quantifying the abundances ... done\n",
      "[   em] the Expectation-Maximization algorithm ran for 833 rounds\n",
      "\n"
     ]
    }
   ],
   "source": [
    "!$kallisto_exe quant -i $index_mm10_minimal \\\n",
    "   -o 19908_C1/cdna \\\n",
    "   --single --fragment-length=1759.25 --sd=1103.91775 \\\n",
    "   19908_C1/19908_C1_TAAGGCGA-GTAAGGAG_L001_R1_001.fastq.gz 19908_C1/19908_C1_TAAGGCGA-GTAAGGAG_L002_R1_001.fastq.gz"
   ]
  },
  {
   "cell_type": "code",
   "execution_count": 17,
   "metadata": {
    "executionInfo": {
     "elapsed": 385,
     "status": "ok",
     "timestamp": 1605746210834,
     "user": {
      "displayName": "Diane Trout",
      "photoUrl": "",
      "userId": "05098941834540710785"
     },
     "user_tz": 480
    },
    "id": "ARQ-S2Is5NCx"
   },
   "outputs": [],
   "source": [
    "def run_kallisto(target, fastqs, fragment_length):\n",
    "  filenames = ' '.join(fastqs[target])\n",
    "  sd = 0.1 * fragment_length\n",
    "  !$kallisto_exe quant -i $index_mm10_minimal \\\n",
    "    -o $target/f$fragment_length \\\n",
    "    --single --fragment-length=$fragment_length --sd=$sd \\\n",
    "   $filenames"
   ]
  },
  {
   "cell_type": "code",
   "execution_count": 34,
   "metadata": {
    "executionInfo": {
     "elapsed": 540,
     "status": "ok",
     "timestamp": 1605747075531,
     "user": {
      "displayName": "Diane Trout",
      "photoUrl": "",
      "userId": "05098941834540710785"
     },
     "user_tz": 480
    },
    "id": "PR8FeDPg9ugT"
   },
   "outputs": [],
   "source": [
    "fragment_lengths = [100, 200, 300, 400, 500, 600]"
   ]
  },
  {
   "cell_type": "code",
   "execution_count": 33,
   "metadata": {
    "colab": {
     "base_uri": "https://localhost:8080/",
     "height": 185
    },
    "executionInfo": {
     "elapsed": 315,
     "status": "error",
     "timestamp": 1605747069947,
     "user": {
      "displayName": "Diane Trout",
      "photoUrl": "",
      "userId": "05098941834540710785"
     },
     "user_tz": 480
    },
    "id": "Wvj9n1FG643T",
    "outputId": "78b571eb-33e1-4032-e001-e4575084f255"
   },
   "outputs": [
    {
     "ename": "NameError",
     "evalue": "ignored",
     "output_type": "error",
     "traceback": [
      "\u001b[0;31m---------------------------------------------------------------------------\u001b[0m",
      "\u001b[0;31mNameError\u001b[0m                                 Traceback (most recent call last)",
      "\u001b[0;32m<ipython-input-33-51bb93c8833a>\u001b[0m in \u001b[0;36m<module>\u001b[0;34m()\u001b[0m\n\u001b[0;32m----> 1\u001b[0;31m \u001b[0;32mfor\u001b[0m \u001b[0mlength\u001b[0m \u001b[0;32min\u001b[0m \u001b[0mfragment_lengths\u001b[0m\u001b[0;34m:\u001b[0m\u001b[0;34m\u001b[0m\u001b[0;34m\u001b[0m\u001b[0m\n\u001b[0m\u001b[1;32m      2\u001b[0m   \u001b[0mrun_kallisto\u001b[0m\u001b[0;34m(\u001b[0m\u001b[0;34m'19908_C1'\u001b[0m\u001b[0;34m,\u001b[0m \u001b[0mfastqs_by_library\u001b[0m\u001b[0;34m,\u001b[0m \u001b[0mlength\u001b[0m\u001b[0;34m)\u001b[0m\u001b[0;34m\u001b[0m\u001b[0;34m\u001b[0m\u001b[0m\n",
      "\u001b[0;31mNameError\u001b[0m: name 'fragment_lengths' is not defined"
     ]
    }
   ],
   "source": [
    "for length in fragment_lengths:\n",
    "  run_kallisto('19908_C1', fastqs_by_library, length)"
   ]
  },
  {
   "cell_type": "code",
   "execution_count": 19,
   "metadata": {
    "executionInfo": {
     "elapsed": 405,
     "status": "ok",
     "timestamp": 1605746469382,
     "user": {
      "displayName": "Diane Trout",
      "photoUrl": "",
      "userId": "05098941834540710785"
     },
     "user_tz": 480
    },
    "id": "pbyugHXs7l01"
   },
   "outputs": [],
   "source": [
    "def load_kallisto(filename, column):\n",
    "    assert column in ['length', 'est_counts', 'tpm']\n",
    "    spike_prefix = 'tSpikein_'\n",
    "    spike_prefix_len = len(spike_prefix)\n",
    "    df = pandas.read_csv(\n",
    "        filename,\n",
    "        sep='\\t',\n",
    "        #converters={'target_id': lambda x: x[spike_prefix_len:] if x.startswith('tSpikein_') else x}\n",
    "    )\n",
    "    return df.set_index('target_id')[column]"
   ]
  },
  {
   "cell_type": "code",
   "execution_count": 27,
   "metadata": {
    "executionInfo": {
     "elapsed": 1257,
     "status": "ok",
     "timestamp": 1605746879828,
     "user": {
      "displayName": "Diane Trout",
      "photoUrl": "",
      "userId": "05098941834540710785"
     },
     "user_tz": 480
    },
    "id": "8I-EnsgN8qf3"
   },
   "outputs": [],
   "source": [
    "quants = {}\n",
    "for length in fragment_lengths:\n",
    "  target = Path('19908_C1') / \"f{length}\".format(length=length) / 'abundance.tsv'\n",
    "  abundance = pandas.read_csv(target, sep='\\t')\n",
    "  quants[length] = abundance.set_index('target_id')\n"
   ]
  },
  {
   "cell_type": "code",
   "execution_count": 28,
   "metadata": {
    "executionInfo": {
     "elapsed": 379,
     "status": "ok",
     "timestamp": 1605746899052,
     "user": {
      "displayName": "Diane Trout",
      "photoUrl": "",
      "userId": "05098941834540710785"
     },
     "user_tz": 480
    },
    "id": "MOv1FnZJ-K4W"
   },
   "outputs": [],
   "source": [
    "q = quants[100]"
   ]
  },
  {
   "cell_type": "code",
   "execution_count": 36,
   "metadata": {
    "executionInfo": {
     "elapsed": 310,
     "status": "ok",
     "timestamp": 1605747148543,
     "user": {
      "displayName": "Diane Trout",
      "photoUrl": "",
      "userId": "05098941834540710785"
     },
     "user_tz": 480
    },
    "id": "oB6stPEe-TaD"
   },
   "outputs": [],
   "source": [
    "def hist_the_lengths(quants, length, ax):\n",
    "  quants[length][quants[length]['est_counts'] > 0]['length'].plot.hist(bins=1000, ax=ax)"
   ]
  },
  {
   "cell_type": "code",
   "execution_count": 49,
   "metadata": {
    "colab": {
     "base_uri": "https://localhost:8080/",
     "height": 267
    },
    "executionInfo": {
     "elapsed": 11677,
     "status": "ok",
     "timestamp": 1605747415881,
     "user": {
      "displayName": "Diane Trout",
      "photoUrl": "",
      "userId": "05098941834540710785"
     },
     "user_tz": 480
    },
    "id": "6BuSpUbg-Y0v",
    "outputId": "7f62a7f1-87e3-40ee-9dc3-7e66b027533f"
   },
   "outputs": [
    {
     "data": {
      "image/png": "[encoded data removed]",
      "text/plain": [
       "<Figure size 1152x288 with 6 Axes>"
      ]
     },
     "metadata": {
      "needs_background": "light",
      "tags": []
     },
     "output_type": "display_data"
    }
   ],
   "source": [
    "f = pyplot.figure(figsize=(16,4))\n",
    "axes = f.subplots(1,len(fragment_lengths), sharex=True, sharey=True)\n",
    "for i, length in enumerate(fragment_lengths):\n",
    "  hist_the_lengths(quants, length, axes[i])\n",
    "  axes[i].set_title('f = {}'.format(length))\n",
    "  axes[i].set_xlim(0, 1000)\n"
   ]
  },
  {
   "cell_type": "code",
   "execution_count": 44,
   "metadata": {
    "executionInfo": {
     "elapsed": 445,
     "status": "ok",
     "timestamp": 1605747273475,
     "user": {
      "displayName": "Diane Trout",
      "photoUrl": "",
      "userId": "05098941834540710785"
     },
     "user_tz": 480
    },
    "id": "D3_vSAQD_QhA"
   },
   "outputs": [],
   "source": [
    "a = axes[0]"
   ]
  },
  {
   "cell_type": "code",
   "execution_count": null,
   "metadata": {
    "id": "8MR6WzkX_uxY"
   },
   "outputs": [],
   "source": [
    "a.set_xl"
   ]
  }
 ],
 "metadata": {
  "colab": {
   "authorship_tag": "ABX9TyMjyl3SpIVbLaDEglvLiKIX",
   "collapsed_sections": [],
   "name": "compare-c1-kallisto-spikes-on-colab.ipynb",
   "provenance": []
  },
  "kernelspec": {
   "display_name": "Python 3",
   "language": "python",
   "name": "python3"
  },
  "language_info": {
   "codemirror_mode": {
    "name": "ipython",
    "version": 3
   },
   "file_extension": ".py",
   "mimetype": "text/x-python",
   "name": "python",
   "nbconvert_exporter": "python",
   "pygments_lexer": "ipython3",
   "version": "3.8.5"
  }
 },
 "nbformat": 4,
 "nbformat_minor": 1
}
