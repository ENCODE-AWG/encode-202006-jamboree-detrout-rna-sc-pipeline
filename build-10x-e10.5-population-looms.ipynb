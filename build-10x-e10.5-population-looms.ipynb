{
 "cells": [
  {
   "cell_type": "markdown",
   "metadata": {},
   "source": [
    "# Introduction"
   ]
  },
  {
   "cell_type": "markdown",
   "metadata": {},
   "source": [
    "I've found it helpful to have one notebook build up a cache of the data I want to analyze. I'm still not quite sure if anndata or loom is a better choice.\n",
    "\n",
    "This notebook is to collect the 10x e10.5 forelimb runs."
   ]
  },
  {
   "cell_type": "code",
   "execution_count": null,
   "metadata": {},
   "outputs": [],
   "source": []
  },
  {
   "cell_type": "code",
   "execution_count": 1,
   "metadata": {},
   "outputs": [],
   "source": [
    "import pandas\n",
    "import scanpy\n",
    "from pathlib import Path\n",
    "import sys\n",
    "from urllib import parse\n",
    "import loompy\n",
    "import numpy\n",
    "import anndata\n",
    "import scanpy\n",
    "\n",
    "from common import (\n",
    "    scanpy_load_solo_mtx, \n",
    "    scanpy_load_alevin_mtx, \n",
    "    scanpy_load_kallisto_gene_mtx, \n",
    "    build_anndata\n",
    ")"
   ]
  },
  {
   "cell_type": "code",
   "execution_count": 2,
   "metadata": {},
   "outputs": [],
   "source": [
    "LRSC = str(Path('~/proj/long-rna-seq-condor').expanduser())\n",
    "if LRSC not in sys.path:\n",
    "    sys.path.append(LRSC)\n",
    "from woldrnaseq.madqc import load_rsem_quantifications, load_genomic_quantifications, load_transcriptome_quantifications, replicate_scores\n",
    "from woldrnaseq.models import load_library_tables, load_experiments, load_all_star_final, load_all_star_counts"
   ]
  },
  {
   "cell_type": "markdown",
   "metadata": {},
   "source": [
    "# Load GTF"
   ]
  },
  {
   "cell_type": "code",
   "execution_count": 3,
   "metadata": {},
   "outputs": [],
   "source": [
    "store = pandas.HDFStore(Path('~/proj/genome/mm10-M21-male/mm10-M21-male.h5').expanduser())\n",
    "gtf = store[store.keys()[0]]\n",
    "store.close()"
   ]
  },
  {
   "cell_type": "code",
   "execution_count": 4,
   "metadata": {
    "scrolled": true
   },
   "outputs": [
    {
     "data": {
      "text/plain": [
       "Index(['chromosome', 'source', 'type', 'start', 'stop', 'score', 'strand',\n",
       "       'frame', 'gene_id', 'transcript_id', 'gene_type', 'gene_name',\n",
       "       'transcript_type', 'transcript_name', 'level', 'havana_gene',\n",
       "       'transcript_support_level', 'tag', 'havana_transcript', 'exon_number',\n",
       "       'exon_id', 'protein_id', 'ccdsid', 'ont'],\n",
       "      dtype='object')"
      ]
     },
     "execution_count": 4,
     "metadata": {},
     "output_type": "execute_result"
    }
   ],
   "source": [
    "gtf.columns"
   ]
  },
  {
   "cell_type": "code",
   "execution_count": 5,
   "metadata": {},
   "outputs": [],
   "source": [
    "gene_info = gtf[gtf['type'].isin(['gene', 'tRNA']) | (gtf['source'] == 'spikein')].set_index('gene_id')"
   ]
  },
  {
   "cell_type": "markdown",
   "metadata": {},
   "source": [
    "# Load Transcript Map"
   ]
  },
  {
   "cell_type": "code",
   "execution_count": 6,
   "metadata": {},
   "outputs": [],
   "source": [
    "def load_transcript_map(triplet):\n",
    "    root = Path('genome')\n",
    "    txp_map = {}\n",
    "    with open(root /triplet/'txp2gene.tsv', 'rt') as instream:\n",
    "        for line in instream:\n",
    "            txp, gene = line.rstrip().split('\\t')\n",
    "            txp_map[txp] = gene\n",
    "    return txp_map\n"
   ]
  },
  {
   "cell_type": "code",
   "execution_count": 7,
   "metadata": {},
   "outputs": [
    {
     "data": {
      "text/plain": [
       "168207"
      ]
     },
     "execution_count": 7,
     "metadata": {},
     "output_type": "execute_result"
    }
   ],
   "source": [
    "mm10_M21_map = load_transcript_map('mm10-M21-male')\n",
    "len(mm10_M21_map)"
   ]
  },
  {
   "cell_type": "code",
   "execution_count": 8,
   "metadata": {},
   "outputs": [],
   "source": [
    "root = Path('~/proj/encode-202006-jamboree-detrout-rna-sc-pipeline/').expanduser()\n",
    "tenx_sc_root = root / 'ENCSR874BOF_e10_5_limb'\n",
    "tenx_pop_root =  root / '10x_e10.5'"
   ]
  },
  {
   "cell_type": "markdown",
   "metadata": {},
   "source": [
    "# Load Single Cell tables into sums"
   ]
  },
  {
   "cell_type": "code",
   "execution_count": 9,
   "metadata": {},
   "outputs": [],
   "source": [
    "def load_sc_anndata(filename, label):\n",
    "    adata = scanpy.read_h5ad(filename)\n",
    "    matrix = adata.X.T.sum(axis=1)\n",
    "    return pandas.DataFrame(matrix, index=adata.var_names, columns=[label])"
   ]
  },
  {
   "cell_type": "code",
   "execution_count": 10,
   "metadata": {},
   "outputs": [],
   "source": [
    "cellr_sc = load_sc_anndata(tenx_sc_root / \"cellranger_filtered.sparse.h5ad\", 'sc_cellr')\n",
    "solo_sc = load_sc_anndata(tenx_sc_root / \"solo_filtered.sparse.h5ad\", 'sc_solo')\n",
    "alevin_sc = load_sc_anndata(tenx_sc_root / 'alevin_filtered.h5ad', 'sc_alevin')\n",
    "kallisto_sc = load_sc_anndata(tenx_sc_root / 'kallisto_filtered.h5ad', 'sc_kallisto')\n",
    "kallisto_em_sc = load_sc_anndata(tenx_sc_root / 'kallisto_em_filtered.h5ad', 'sc_kallisto_em')\n"
   ]
  },
  {
   "cell_type": "code",
   "execution_count": null,
   "metadata": {},
   "outputs": [],
   "source": []
  },
  {
   "cell_type": "markdown",
   "metadata": {},
   "source": [
    "# Load Population RSEM values"
   ]
  },
  {
   "cell_type": "code",
   "execution_count": 11,
   "metadata": {},
   "outputs": [],
   "source": [
    "pop_rsem_experiment = load_experiments([root / 'experiments_10x_e10.5_merged.tsv'])\n",
    "pop_rsem_libraries = load_library_tables([root / 'libraries_10x_e10.5.merged.tsv'])"
   ]
  },
  {
   "cell_type": "code",
   "execution_count": 12,
   "metadata": {},
   "outputs": [],
   "source": [
    "pop_star_stats = load_all_star_final(pop_rsem_libraries)"
   ]
  },
  {
   "cell_type": "code",
   "execution_count": 13,
   "metadata": {},
   "outputs": [
    {
     "data": {
      "text/plain": [
       "528888565.0"
      ]
     },
     "execution_count": 13,
     "metadata": {},
     "output_type": "execute_result"
    }
   ],
   "source": [
    "pop_star_stats.loc['10x_e10.5', ('', 'Number of input reads')]"
   ]
  },
  {
   "cell_type": "code",
   "execution_count": 14,
   "metadata": {},
   "outputs": [
    {
     "name": "stdout",
     "output_type": "stream",
     "text": [
      "quantifications 10x_e10.5_merged (81881, 1)\n",
      "quantifications 10x_e10.5_merged (81881, 1)\n"
     ]
    }
   ],
   "source": [
    "pop_rsem_gene_count = load_genomic_quantifications(pop_rsem_experiment.loc['10x_e10.5_merged'], pop_rsem_libraries, column='expected_count')\n",
    "pop_rsem_gene_tpm = load_genomic_quantifications(pop_rsem_experiment.loc['10x_e10.5_merged'], pop_rsem_libraries, column='TPM')"
   ]
  },
  {
   "cell_type": "code",
   "execution_count": 15,
   "metadata": {},
   "outputs": [
    {
     "name": "stdout",
     "output_type": "stream",
     "text": [
      "quantifications 10x_e10.5_merged (168207, 1)\n",
      "quantifications 10x_e10.5_merged (168207, 1)\n"
     ]
    }
   ],
   "source": [
    "pop_rsem_transcript_count = load_transcriptome_quantifications(pop_rsem_experiment.loc['10x_e10.5_merged'], pop_rsem_libraries, column='expected_count')\n",
    "pop_rsem_transcript_tpm = load_transcriptome_quantifications(pop_rsem_experiment.loc['10x_e10.5_merged'], pop_rsem_libraries, column='TPM')"
   ]
  },
  {
   "cell_type": "markdown",
   "metadata": {},
   "source": [
    "# Read rsem paired"
   ]
  },
  {
   "cell_type": "code",
   "execution_count": 16,
   "metadata": {},
   "outputs": [
    {
     "name": "stdout",
     "output_type": "stream",
     "text": [
      "quantifications 10x_e10.5_paired_all (81881, 1)\n",
      "quantifications 10x_e10.5_paired_all (81881, 1)\n",
      "quantifications 10x_e10.5_paired_all (168207, 1)\n",
      "quantifications 10x_e10.5_paired_all (168207, 1)\n"
     ]
    }
   ],
   "source": [
    "pop_rsem_paired_experiment = load_experiments([root / 'experiments_10x_e10.5_paired_all.tsv'])\n",
    "pop_rsem_paired_libraries = load_library_tables([root / 'libraries_10x_e10.5_paired_all.tsv'])\n",
    "pop_rsem_gene_paired_count = load_genomic_quantifications(pop_rsem_paired_experiment.loc['10x_e10.5_paired_all'], pop_rsem_paired_libraries, column='expected_count')\n",
    "pop_rsem_gene_paired_tpm = load_genomic_quantifications(pop_rsem_paired_experiment.loc['10x_e10.5_paired_all'], pop_rsem_paired_libraries, column='TPM')\n",
    "pop_rsem_transcript_paired_count = load_transcriptome_quantifications(pop_rsem_paired_experiment.loc['10x_e10.5_paired_all'], pop_rsem_paired_libraries, column='expected_count')\n",
    "pop_rsem_transcript_paired_tpm = load_transcriptome_quantifications(pop_rsem_paired_experiment.loc['10x_e10.5_paired_all'], pop_rsem_paired_libraries, column='TPM')"
   ]
  },
  {
   "cell_type": "markdown",
   "metadata": {},
   "source": [
    "# Read STAR ReadsPerGene.tab"
   ]
  },
  {
   "cell_type": "code",
   "execution_count": 17,
   "metadata": {},
   "outputs": [],
   "source": [
    "pop_star_gene_count = load_all_star_counts(pop_rsem_libraries, column='U').reindex(pop_rsem_gene_count.index)"
   ]
  },
  {
   "cell_type": "markdown",
   "metadata": {},
   "source": [
    "# Read STAR Paired ReadsPerGene.tab"
   ]
  },
  {
   "cell_type": "code",
   "execution_count": 18,
   "metadata": {},
   "outputs": [],
   "source": [
    "pop_star_gene_paired_count = load_all_star_counts(pop_rsem_paired_libraries, column='U').reindex(pop_rsem_gene_paired_count.index)"
   ]
  },
  {
   "cell_type": "markdown",
   "metadata": {},
   "source": [
    "# Read kallisto results"
   ]
  },
  {
   "cell_type": "code",
   "execution_count": 19,
   "metadata": {},
   "outputs": [
    {
     "data": {
      "text/plain": [
       "(81881,)"
      ]
     },
     "execution_count": 19,
     "metadata": {},
     "output_type": "execute_result"
    }
   ],
   "source": [
    "pop_kallisto_transcript = pandas.read_csv(tenx_pop_root / 'kallisto_e10.5' / 'abundance.tsv', sep='\\t', index_col=0, usecols=['target_id', 'est_counts', 'tpm'])\n",
    "#pop_kallisto_transcript.columns = ['kallisto_gene_counts']\n",
    "pop_kallisto_transcript['gene_id'] = [mm10_M21_map[x] for x in pop_kallisto_transcript.index]\n",
    "pop_kallisto_gene_count = pop_kallisto_transcript.groupby('gene_id')['est_counts'].sum()\n",
    "pop_kallisto_gene_tpm = pop_kallisto_transcript.groupby('gene_id')['tpm'].sum()\n",
    "pop_kallisto_gene_count.shape\n"
   ]
  },
  {
   "cell_type": "code",
   "execution_count": 20,
   "metadata": {},
   "outputs": [
    {
     "data": {
      "text/plain": [
       "(81881,)"
      ]
     },
     "execution_count": 20,
     "metadata": {},
     "output_type": "execute_result"
    }
   ],
   "source": [
    "pop_kallisto_paired_transcript = pandas.read_csv(tenx_sc_root / 'kallisto_paired_bulk_e10.5' / 'abundance.tsv', sep='\\t', index_col=0, usecols=['target_id', 'est_counts', 'tpm'])\n",
    "pop_kallisto_paired_transcript['gene_id'] = [mm10_M21_map[x] for x in pop_kallisto_transcript.index]\n",
    "pop_kallisto_paired_gene_count = pop_kallisto_transcript.groupby('gene_id')['est_counts'].sum()\n",
    "pop_kallisto_paired_gene_tpm = pop_kallisto_transcript.groupby('gene_id')['tpm'].sum()\n",
    "pop_kallisto_paired_gene_count.shape\n"
   ]
  },
  {
   "cell_type": "markdown",
   "metadata": {},
   "source": [
    "# Read Salmon Decoy results"
   ]
  },
  {
   "cell_type": "code",
   "execution_count": 21,
   "metadata": {},
   "outputs": [
    {
     "data": {
      "text/plain": [
       "(81881,)"
      ]
     },
     "execution_count": 21,
     "metadata": {},
     "output_type": "execute_result"
    }
   ],
   "source": [
    "pop_salmon_decoy_transcript = pandas.read_csv(tenx_pop_root / 'salmon_decoy_e10.5' / 'quant.sf', sep='\\t', index_col=0, usecols=['Name', 'NumReads', 'TPM']).reindex(pop_rsem_transcript_count.index, fill_value=0.0)\n",
    "pop_salmon_decoy_transcript['gene_id'] = [mm10_M21_map[x] for x in pop_salmon_decoy_transcript.index]\n",
    "\n",
    "pop_salmon_decoy_gene_count = pop_salmon_decoy_transcript.groupby('gene_id')['NumReads'].sum()\n",
    "pop_salmon_decoy_gene_tpm = pop_salmon_decoy_transcript.groupby('gene_id')['TPM'].sum()\n",
    "\n",
    "pop_salmon_decoy_gene_count.shape"
   ]
  },
  {
   "cell_type": "markdown",
   "metadata": {},
   "source": [
    "# Read Salmon results"
   ]
  },
  {
   "cell_type": "code",
   "execution_count": 22,
   "metadata": {},
   "outputs": [
    {
     "data": {
      "text/plain": [
       "(81881,)"
      ]
     },
     "execution_count": 22,
     "metadata": {},
     "output_type": "execute_result"
    }
   ],
   "source": [
    "pop_salmon_transcript = pandas.read_csv(tenx_pop_root / 'salmon_e10.5' / 'quant.sf', sep='\\t', index_col=0, usecols=['Name', 'NumReads', 'TPM']).reindex(pop_rsem_transcript_count.index, fill_value=0.0)\n",
    "pop_salmon_transcript['gene_id'] = [mm10_M21_map[x] for x in pop_salmon_transcript.index]\n",
    "\n",
    "pop_salmon_gene_tpm = pop_salmon_transcript.groupby('gene_id')['TPM'].sum()\n",
    "\n",
    "pop_salmon_gene_count = pop_salmon_transcript.groupby('gene_id')['NumReads'].sum()\n",
    "pop_salmon_gene_count.reindex(pop_star_gene_count.index, fill_value=0.0)\n",
    "\n",
    "pop_salmon_gene_count.shape"
   ]
  },
  {
   "cell_type": "markdown",
   "metadata": {},
   "source": [
    "# Save results"
   ]
  },
  {
   "cell_type": "code",
   "execution_count": 23,
   "metadata": {},
   "outputs": [],
   "source": [
    "def build_loom(filename, matrix, quantification_name, gtf):\n",
    "    gene_info = gtf[gtf['type'].isin(['gene', 'tRNA']) | (gtf['source'] == 'spikein')]\n",
    "    transcript_info = gtf[(gtf['type'].isin(['transcript', 'tRNA'])) | (gtf['source'] == 'spikein')]\n",
    "    \n",
    "    if matrix.shape[0] == gene_info.shape[0]:\n",
    "        # We have a gene matrix\n",
    "        info = gene_info\n",
    "        info = info.set_index('gene_id')\n",
    "        feature_type = 'gene'\n",
    "    elif matrix.shape[0] == transcript_info.shape[0]:\n",
    "        info = transcript_info\n",
    "        info = info.set_index('transcript_id')\n",
    "        feature_type = 'transcript'\n",
    "    else:\n",
    "        raise ValueError('Unrecognized shape expected {} or {} got {}'.format(\n",
    "            gene_info.shape[0], \n",
    "            transcript_info.shape[0],\n",
    "            count.shape[0],\n",
    "        ))\n",
    "    gene_names = []\n",
    "    gene_types = []\n",
    "    for feature in matrix.index:\n",
    "        gene_names.append(info.loc[feature, 'gene_name'])\n",
    "        gene_types.append(info.loc[feature, 'gene_type'])\n",
    "\n",
    "    row_attrs = {\n",
    "        'id': numpy.asarray(matrix.index),\n",
    "        'gene_name': numpy.asarray(gene_names),\n",
    "        'gene_type': numpy.asarray(gene_types),\n",
    "    }\n",
    "    column_attrs = {\n",
    "        'experiment': numpy.asarray(matrix.columns), \n",
    "    }\n",
    "    file_attrs = {\n",
    "        'quantification_name': quantification_name,\n",
    "        'feature_type': feature_type,\n",
    "    }\n",
    "    loompy.create(str(filename), matrix.values, row_attrs=row_attrs, col_attrs=column_attrs, file_attrs=file_attrs)\n"
   ]
  },
  {
   "cell_type": "code",
   "execution_count": 24,
   "metadata": {},
   "outputs": [],
   "source": [
    "def build_anndata(filename, matrix, quantification_name, gtf):\n",
    "    gene_info = gtf[gtf['type'].isin(['gene', 'tRNA']) | (gtf['source'] == 'spikein')]\n",
    "    transcript_info = gtf[(gtf['type'].isin(['transcript', 'tRNA'])) | (gtf['source'] == 'spikein')]\n",
    "    \n",
    "    if matrix.shape[0] == gene_info.shape[0]:\n",
    "        # We have a gene matrixCell\n",
    "        info = gene_info\n",
    "        info = info.set_index('gene_id')\n",
    "        feature_type = 'gene'\n",
    "    elif matrix.shape[0] == transcript_info.shape[0]:\n",
    "        info = transcript_info\n",
    "        info = info.set_index('transcript_id')\n",
    "        feature_type = 'transcript'\n",
    "    else:\n",
    "        raise ValueError('Unrecognized shape expected {} or {} got {}'.format(\n",
    "            gene_info.shape[0], \n",
    "            transcript_info.shape[0],\n",
    "            count.shape[0],\n",
    "        ))\n",
    "    gene_names = []\n",
    "    gene_types = []\n",
    "    for feature in matrix.index:\n",
    "        gene_names.append(info.loc[feature, 'gene_name'])\n",
    "        gene_types.append(info.loc[feature, 'gene_type'])\n",
    "\n",
    "    adata = anndata.AnnData(matrix.T)\n",
    "    adata.var['gene_symbol'] = gene_names\n",
    "    adata.var['gene_type'] = gene_types\n",
    "    adata.uns['quantification_name'] = quantification_name\n",
    "    adata.uns['feature_type'] = feature_type\n",
    "    \n",
    "    adata.write_h5ad(filename)"
   ]
  },
  {
   "cell_type": "markdown",
   "metadata": {},
   "source": [
    "# Build Gene Matrix"
   ]
  },
  {
   "cell_type": "code",
   "execution_count": 25,
   "metadata": {},
   "outputs": [],
   "source": [
    "cellr_sc = cellr_sc.reindex(pop_rsem_gene_count.index)\n",
    "solo_sc = solo_sc.reindex(pop_rsem_gene_count.index)\n",
    "kallisto_sc = kallisto_sc.reindex(pop_rsem_gene_count.index)\n",
    "kallisto_em_sc = kallisto_em_sc.reindex(pop_rsem_gene_count.index)\n",
    "alevin_sc = alevin_sc.reindex(pop_rsem_gene_count.index)"
   ]
  },
  {
   "cell_type": "code",
   "execution_count": 26,
   "metadata": {},
   "outputs": [],
   "source": [
    "assert numpy.all(cellr_sc.index == solo_sc.index)\n",
    "assert numpy.all(solo_sc.index == alevin_sc.index)\n",
    "assert numpy.all(alevin_sc.index == kallisto_sc.index)\n",
    "assert numpy.all(kallisto_sc.index == kallisto_em_sc.index)\n",
    "assert numpy.all(kallisto_em_sc.index == pop_rsem_gene_count.index)\n",
    "\n",
    "assert numpy.all(pop_rsem_gene_paired_count.index == pop_star_gene_paired_count.index)\n",
    "assert numpy.all(pop_star_gene_paired_count.index == pop_kallisto_paired_gene_count.index)\n",
    "assert numpy.all(pop_kallisto_paired_gene_count.index == pop_rsem_gene_count.index)\n",
    "assert numpy.all(pop_rsem_gene_count.index == pop_star_gene_count.index)\n",
    "assert numpy.all(pop_star_gene_count.index == pop_kallisto_gene_count.index)\n",
    "assert numpy.all(pop_kallisto_gene_count.index == pop_salmon_decoy_gene_count.index)\n",
    "assert numpy.all(pop_salmon_decoy_gene_count.index == pop_salmon_gene_count.index)\n"
   ]
  },
  {
   "cell_type": "code",
   "execution_count": 27,
   "metadata": {},
   "outputs": [
    {
     "data": {
      "text/html": [
       "<div>\n",
       "<style scoped>\n",
       "    .dataframe tbody tr th:only-of-type {\n",
       "        vertical-align: middle;\n",
       "    }\n",
       "\n",
       "    .dataframe tbody tr th {\n",
       "        vertical-align: top;\n",
       "    }\n",
       "\n",
       "    .dataframe thead th {\n",
       "        text-align: right;\n",
       "    }\n",
       "</style>\n",
       "<table border=\"1\" class=\"dataframe\">\n",
       "  <thead>\n",
       "    <tr style=\"text-align: right;\">\n",
       "      <th></th>\n",
       "      <th>sc_cellr</th>\n",
       "      <th>sc_solo</th>\n",
       "      <th>sc_alevin</th>\n",
       "      <th>sc_kallisto</th>\n",
       "      <th>sc_kallisto_em</th>\n",
       "      <th>pop_rsem</th>\n",
       "      <th>pop_star</th>\n",
       "      <th>pop_kallisto</th>\n",
       "      <th>pop_salmon_decoy</th>\n",
       "      <th>pop_salmon</th>\n",
       "    </tr>\n",
       "    <tr>\n",
       "      <th>gene_id</th>\n",
       "      <th></th>\n",
       "      <th></th>\n",
       "      <th></th>\n",
       "      <th></th>\n",
       "      <th></th>\n",
       "      <th></th>\n",
       "      <th></th>\n",
       "      <th></th>\n",
       "      <th></th>\n",
       "      <th></th>\n",
       "    </tr>\n",
       "  </thead>\n",
       "  <tbody>\n",
       "    <tr>\n",
       "      <th>10000</th>\n",
       "      <td>0.0</td>\n",
       "      <td>0.0</td>\n",
       "      <td>0.0</td>\n",
       "      <td>0.0</td>\n",
       "      <td>0.0</td>\n",
       "      <td>0.0</td>\n",
       "      <td>2</td>\n",
       "      <td>0.0</td>\n",
       "      <td>0.0</td>\n",
       "      <td>0.0</td>\n",
       "    </tr>\n",
       "    <tr>\n",
       "      <th>10001</th>\n",
       "      <td>0.0</td>\n",
       "      <td>0.0</td>\n",
       "      <td>0.0</td>\n",
       "      <td>0.0</td>\n",
       "      <td>0.0</td>\n",
       "      <td>0.0</td>\n",
       "      <td>1</td>\n",
       "      <td>0.0</td>\n",
       "      <td>0.0</td>\n",
       "      <td>0.0</td>\n",
       "    </tr>\n",
       "    <tr>\n",
       "      <th>10002</th>\n",
       "      <td>0.0</td>\n",
       "      <td>0.0</td>\n",
       "      <td>0.0</td>\n",
       "      <td>0.0</td>\n",
       "      <td>0.0</td>\n",
       "      <td>0.0</td>\n",
       "      <td>1</td>\n",
       "      <td>0.0</td>\n",
       "      <td>0.0</td>\n",
       "      <td>0.0</td>\n",
       "    </tr>\n",
       "    <tr>\n",
       "      <th>10003</th>\n",
       "      <td>0.0</td>\n",
       "      <td>0.0</td>\n",
       "      <td>0.0</td>\n",
       "      <td>0.0</td>\n",
       "      <td>0.0</td>\n",
       "      <td>0.0</td>\n",
       "      <td>1</td>\n",
       "      <td>0.0</td>\n",
       "      <td>0.0</td>\n",
       "      <td>0.0</td>\n",
       "    </tr>\n",
       "    <tr>\n",
       "      <th>10004</th>\n",
       "      <td>0.0</td>\n",
       "      <td>0.0</td>\n",
       "      <td>0.0</td>\n",
       "      <td>0.0</td>\n",
       "      <td>0.0</td>\n",
       "      <td>0.0</td>\n",
       "      <td>0</td>\n",
       "      <td>0.0</td>\n",
       "      <td>0.0</td>\n",
       "      <td>0.0</td>\n",
       "    </tr>\n",
       "    <tr>\n",
       "      <th>...</th>\n",
       "      <td>...</td>\n",
       "      <td>...</td>\n",
       "      <td>...</td>\n",
       "      <td>...</td>\n",
       "      <td>...</td>\n",
       "      <td>...</td>\n",
       "      <td>...</td>\n",
       "      <td>...</td>\n",
       "      <td>...</td>\n",
       "      <td>...</td>\n",
       "    </tr>\n",
       "    <tr>\n",
       "      <th>gSpikein_ERCC-00165</th>\n",
       "      <td>0.0</td>\n",
       "      <td>0.0</td>\n",
       "      <td>0.0</td>\n",
       "      <td>0.0</td>\n",
       "      <td>0.0</td>\n",
       "      <td>0.0</td>\n",
       "      <td>0</td>\n",
       "      <td>0.0</td>\n",
       "      <td>0.0</td>\n",
       "      <td>0.0</td>\n",
       "    </tr>\n",
       "    <tr>\n",
       "      <th>gSpikein_ERCC-00168</th>\n",
       "      <td>0.0</td>\n",
       "      <td>0.0</td>\n",
       "      <td>0.0</td>\n",
       "      <td>0.0</td>\n",
       "      <td>0.0</td>\n",
       "      <td>0.0</td>\n",
       "      <td>0</td>\n",
       "      <td>0.0</td>\n",
       "      <td>0.0</td>\n",
       "      <td>0.0</td>\n",
       "    </tr>\n",
       "    <tr>\n",
       "      <th>gSpikein_ERCC-00170</th>\n",
       "      <td>0.0</td>\n",
       "      <td>0.0</td>\n",
       "      <td>0.0</td>\n",
       "      <td>0.0</td>\n",
       "      <td>0.0</td>\n",
       "      <td>0.0</td>\n",
       "      <td>0</td>\n",
       "      <td>0.0</td>\n",
       "      <td>0.0</td>\n",
       "      <td>0.0</td>\n",
       "    </tr>\n",
       "    <tr>\n",
       "      <th>gSpikein_ERCC-00171</th>\n",
       "      <td>0.0</td>\n",
       "      <td>0.0</td>\n",
       "      <td>0.0</td>\n",
       "      <td>0.0</td>\n",
       "      <td>0.0</td>\n",
       "      <td>0.0</td>\n",
       "      <td>0</td>\n",
       "      <td>0.0</td>\n",
       "      <td>0.0</td>\n",
       "      <td>0.0</td>\n",
       "    </tr>\n",
       "    <tr>\n",
       "      <th>gSpikein_phiX174</th>\n",
       "      <td>11.0</td>\n",
       "      <td>25.0</td>\n",
       "      <td>14.0</td>\n",
       "      <td>40.0</td>\n",
       "      <td>40.0</td>\n",
       "      <td>24.0</td>\n",
       "      <td>43</td>\n",
       "      <td>110.0</td>\n",
       "      <td>58.0</td>\n",
       "      <td>58.0</td>\n",
       "    </tr>\n",
       "  </tbody>\n",
       "</table>\n",
       "<p>81881 rows × 10 columns</p>\n",
       "</div>"
      ],
      "text/plain": [
       "                     sc_cellr  sc_solo  sc_alevin  sc_kallisto  \\\n",
       "gene_id                                                          \n",
       "10000                     0.0      0.0        0.0          0.0   \n",
       "10001                     0.0      0.0        0.0          0.0   \n",
       "10002                     0.0      0.0        0.0          0.0   \n",
       "10003                     0.0      0.0        0.0          0.0   \n",
       "10004                     0.0      0.0        0.0          0.0   \n",
       "...                       ...      ...        ...          ...   \n",
       "gSpikein_ERCC-00165       0.0      0.0        0.0          0.0   \n",
       "gSpikein_ERCC-00168       0.0      0.0        0.0          0.0   \n",
       "gSpikein_ERCC-00170       0.0      0.0        0.0          0.0   \n",
       "gSpikein_ERCC-00171       0.0      0.0        0.0          0.0   \n",
       "gSpikein_phiX174         11.0     25.0       14.0         40.0   \n",
       "\n",
       "                     sc_kallisto_em  pop_rsem  pop_star  pop_kallisto  \\\n",
       "gene_id                                                                 \n",
       "10000                           0.0       0.0         2           0.0   \n",
       "10001                           0.0       0.0         1           0.0   \n",
       "10002                           0.0       0.0         1           0.0   \n",
       "10003                           0.0       0.0         1           0.0   \n",
       "10004                           0.0       0.0         0           0.0   \n",
       "...                             ...       ...       ...           ...   \n",
       "gSpikein_ERCC-00165             0.0       0.0         0           0.0   \n",
       "gSpikein_ERCC-00168             0.0       0.0         0           0.0   \n",
       "gSpikein_ERCC-00170             0.0       0.0         0           0.0   \n",
       "gSpikein_ERCC-00171             0.0       0.0         0           0.0   \n",
       "gSpikein_phiX174               40.0      24.0        43         110.0   \n",
       "\n",
       "                     pop_salmon_decoy  pop_salmon  \n",
       "gene_id                                            \n",
       "10000                             0.0         0.0  \n",
       "10001                             0.0         0.0  \n",
       "10002                             0.0         0.0  \n",
       "10003                             0.0         0.0  \n",
       "10004                             0.0         0.0  \n",
       "...                               ...         ...  \n",
       "gSpikein_ERCC-00165               0.0         0.0  \n",
       "gSpikein_ERCC-00168               0.0         0.0  \n",
       "gSpikein_ERCC-00170               0.0         0.0  \n",
       "gSpikein_ERCC-00171               0.0         0.0  \n",
       "gSpikein_phiX174                 58.0        58.0  \n",
       "\n",
       "[81881 rows x 10 columns]"
      ]
     },
     "execution_count": 27,
     "metadata": {},
     "output_type": "execute_result"
    }
   ],
   "source": [
    "gene_counts = pandas.DataFrame({\n",
    "    'sc_cellr': cellr_sc['sc_cellr'],\n",
    "    'sc_solo': solo_sc['sc_solo'],\n",
    "    'sc_alevin': alevin_sc['sc_alevin'],\n",
    "    'sc_kallisto': kallisto_sc['sc_kallisto'],\n",
    "    'sc_kallisto_em': kallisto_em_sc['sc_kallisto_em'], \n",
    "    #'pop_rsem_paired': pop_rsem_gene_paired_count['10x_e10.5_paired_all'],\n",
    "    #'pop_star_paired': pop_star_gene_paired_count['10x_e10.5_paired_all'],\n",
    "    'pop_rsem': pop_rsem_gene_count['10x_e10.5'],\n",
    "    'pop_star': pop_star_gene_count['10x_e10.5'],\n",
    "    'pop_kallisto': pop_kallisto_gene_count,\n",
    "    #'pop_kallisto_paired_all': pop_kallisto_paired_gene_count,\n",
    "    'pop_salmon_decoy': pop_salmon_decoy_gene_count,\n",
    "    'pop_salmon': pop_salmon_gene_count,\n",
    "})\n",
    "gene_counts"
   ]
  },
  {
   "cell_type": "code",
   "execution_count": 28,
   "metadata": {},
   "outputs": [],
   "source": [
    "assert numpy.all(pop_rsem_gene_paired_tpm.index == pop_kallisto_paired_gene_tpm.index)\n",
    "assert numpy.all(pop_kallisto_paired_gene_tpm.index == pop_rsem_gene_tpm.index)\n",
    "\n",
    "assert numpy.all(pop_rsem_gene_tpm.index == pop_kallisto_gene_tpm.index)\n",
    "assert numpy.all(pop_kallisto_gene_tpm.index == pop_salmon_decoy_gene_tpm.index)\n",
    "assert numpy.all(pop_salmon_decoy_gene_tpm.index == pop_salmon_gene_tpm.index)"
   ]
  },
  {
   "cell_type": "code",
   "execution_count": 29,
   "metadata": {},
   "outputs": [
    {
     "data": {
      "text/html": [
       "<div>\n",
       "<style scoped>\n",
       "    .dataframe tbody tr th:only-of-type {\n",
       "        vertical-align: middle;\n",
       "    }\n",
       "\n",
       "    .dataframe tbody tr th {\n",
       "        vertical-align: top;\n",
       "    }\n",
       "\n",
       "    .dataframe thead th {\n",
       "        text-align: right;\n",
       "    }\n",
       "</style>\n",
       "<table border=\"1\" class=\"dataframe\">\n",
       "  <thead>\n",
       "    <tr style=\"text-align: right;\">\n",
       "      <th></th>\n",
       "      <th>pop_rsem</th>\n",
       "      <th>pop_kallisto</th>\n",
       "      <th>pop_salmon_decoy</th>\n",
       "      <th>pop_salmon</th>\n",
       "    </tr>\n",
       "    <tr>\n",
       "      <th>gene_id</th>\n",
       "      <th></th>\n",
       "      <th></th>\n",
       "      <th></th>\n",
       "      <th></th>\n",
       "    </tr>\n",
       "  </thead>\n",
       "  <tbody>\n",
       "    <tr>\n",
       "      <th>10000</th>\n",
       "      <td>0.00</td>\n",
       "      <td>0.000000</td>\n",
       "      <td>0.00000</td>\n",
       "      <td>0.000000</td>\n",
       "    </tr>\n",
       "    <tr>\n",
       "      <th>10001</th>\n",
       "      <td>0.00</td>\n",
       "      <td>0.000000</td>\n",
       "      <td>0.00000</td>\n",
       "      <td>0.000000</td>\n",
       "    </tr>\n",
       "    <tr>\n",
       "      <th>10002</th>\n",
       "      <td>0.00</td>\n",
       "      <td>0.000000</td>\n",
       "      <td>0.00000</td>\n",
       "      <td>0.000000</td>\n",
       "    </tr>\n",
       "    <tr>\n",
       "      <th>10003</th>\n",
       "      <td>0.00</td>\n",
       "      <td>0.000000</td>\n",
       "      <td>0.00000</td>\n",
       "      <td>0.000000</td>\n",
       "    </tr>\n",
       "    <tr>\n",
       "      <th>10004</th>\n",
       "      <td>0.00</td>\n",
       "      <td>0.000000</td>\n",
       "      <td>0.00000</td>\n",
       "      <td>0.000000</td>\n",
       "    </tr>\n",
       "    <tr>\n",
       "      <th>...</th>\n",
       "      <td>...</td>\n",
       "      <td>...</td>\n",
       "      <td>...</td>\n",
       "      <td>...</td>\n",
       "    </tr>\n",
       "    <tr>\n",
       "      <th>gSpikein_ERCC-00165</th>\n",
       "      <td>0.00</td>\n",
       "      <td>0.000000</td>\n",
       "      <td>0.00000</td>\n",
       "      <td>0.000000</td>\n",
       "    </tr>\n",
       "    <tr>\n",
       "      <th>gSpikein_ERCC-00168</th>\n",
       "      <td>0.00</td>\n",
       "      <td>0.000000</td>\n",
       "      <td>0.00000</td>\n",
       "      <td>0.000000</td>\n",
       "    </tr>\n",
       "    <tr>\n",
       "      <th>gSpikein_ERCC-00170</th>\n",
       "      <td>0.00</td>\n",
       "      <td>0.000000</td>\n",
       "      <td>0.00000</td>\n",
       "      <td>0.000000</td>\n",
       "    </tr>\n",
       "    <tr>\n",
       "      <th>gSpikein_ERCC-00171</th>\n",
       "      <td>0.00</td>\n",
       "      <td>0.000000</td>\n",
       "      <td>0.00000</td>\n",
       "      <td>0.000000</td>\n",
       "    </tr>\n",
       "    <tr>\n",
       "      <th>gSpikein_phiX174</th>\n",
       "      <td>0.01</td>\n",
       "      <td>0.157732</td>\n",
       "      <td>0.01327</td>\n",
       "      <td>0.012855</td>\n",
       "    </tr>\n",
       "  </tbody>\n",
       "</table>\n",
       "<p>81881 rows × 4 columns</p>\n",
       "</div>"
      ],
      "text/plain": [
       "                     pop_rsem  pop_kallisto  pop_salmon_decoy  pop_salmon\n",
       "gene_id                                                                  \n",
       "10000                    0.00      0.000000           0.00000    0.000000\n",
       "10001                    0.00      0.000000           0.00000    0.000000\n",
       "10002                    0.00      0.000000           0.00000    0.000000\n",
       "10003                    0.00      0.000000           0.00000    0.000000\n",
       "10004                    0.00      0.000000           0.00000    0.000000\n",
       "...                       ...           ...               ...         ...\n",
       "gSpikein_ERCC-00165      0.00      0.000000           0.00000    0.000000\n",
       "gSpikein_ERCC-00168      0.00      0.000000           0.00000    0.000000\n",
       "gSpikein_ERCC-00170      0.00      0.000000           0.00000    0.000000\n",
       "gSpikein_ERCC-00171      0.00      0.000000           0.00000    0.000000\n",
       "gSpikein_phiX174         0.01      0.157732           0.01327    0.012855\n",
       "\n",
       "[81881 rows x 4 columns]"
      ]
     },
     "execution_count": 29,
     "metadata": {},
     "output_type": "execute_result"
    }
   ],
   "source": [
    "gene_tpm = pandas.DataFrame({\n",
    "    'pop_rsem': pop_rsem_gene_tpm['10x_e10.5'],\n",
    "    #'pop_rsem_paired': pop_rsem_gene_paired_tpm['10x_e10.5_paired_all'],    \n",
    "    'pop_kallisto': pop_kallisto_gene_tpm,\n",
    "    #'pop_kallisto_paired_all': pop_kallisto_paired_gene_tpm,\n",
    "    'pop_salmon_decoy': pop_salmon_decoy_gene_tpm,\n",
    "    'pop_salmon': pop_salmon_gene_tpm,\n",
    "})\n",
    "gene_tpm"
   ]
  },
  {
   "cell_type": "code",
   "execution_count": 30,
   "metadata": {},
   "outputs": [],
   "source": [
    "#build_loom(tenx_pop_root / '10x_e10.5_gene_counts.loom', gene_counts, 'counts', gtf)"
   ]
  },
  {
   "cell_type": "code",
   "execution_count": 31,
   "metadata": {},
   "outputs": [
    {
     "name": "stderr",
     "output_type": "stream",
     "text": [
      "... storing 'gene_symbol' as categorical\n",
      "... storing 'gene_type' as categorical\n"
     ]
    }
   ],
   "source": [
    "build_anndata(tenx_pop_root / '10x_e10.5_gene_counts.h5ad', gene_counts, 'counts', gtf)"
   ]
  },
  {
   "cell_type": "code",
   "execution_count": 32,
   "metadata": {},
   "outputs": [],
   "source": [
    "#build_loom(tenx_pop_root / '10x_e10.5_gene_tpms.loom', gene_tpm, 'TPM', gtf)"
   ]
  },
  {
   "cell_type": "code",
   "execution_count": 33,
   "metadata": {},
   "outputs": [
    {
     "name": "stderr",
     "output_type": "stream",
     "text": [
      "... storing 'gene_symbol' as categorical\n",
      "... storing 'gene_type' as categorical\n"
     ]
    }
   ],
   "source": [
    "build_anndata(tenx_pop_root / '10x_e10.5_gene_tpms.h5ad', gene_tpm, 'TPM', gtf)"
   ]
  },
  {
   "cell_type": "markdown",
   "metadata": {},
   "source": [
    "# Build Transcript Matrix"
   ]
  },
  {
   "cell_type": "code",
   "execution_count": 34,
   "metadata": {},
   "outputs": [],
   "source": [
    "assert numpy.all(pop_rsem_transcript_count.index == pop_kallisto_transcript.index)\n",
    "assert numpy.all(pop_rsem_transcript_count.index == pop_rsem_transcript_paired_count.index)\n",
    "assert numpy.all(pop_kallisto_transcript.index == pop_salmon_decoy_transcript.index)\n",
    "assert numpy.all(pop_salmon_decoy_transcript.index == pop_salmon_transcript.index)\n",
    "\n",
    "assert numpy.all(pop_rsem_transcript_tpm.index == pop_kallisto_transcript.index)\n",
    "assert numpy.all(pop_kallisto_transcript.index == pop_kallisto_paired_transcript.index)\n",
    "assert numpy.all(pop_kallisto_paired_transcript.index == pop_salmon_decoy_transcript.index)\n",
    "assert numpy.all(pop_salmon_decoy_transcript.index == pop_salmon_transcript.index)\n"
   ]
  },
  {
   "cell_type": "code",
   "execution_count": 35,
   "metadata": {},
   "outputs": [
    {
     "data": {
      "text/html": [
       "<div>\n",
       "<style scoped>\n",
       "    .dataframe tbody tr th:only-of-type {\n",
       "        vertical-align: middle;\n",
       "    }\n",
       "\n",
       "    .dataframe tbody tr th {\n",
       "        vertical-align: top;\n",
       "    }\n",
       "\n",
       "    .dataframe thead th {\n",
       "        text-align: right;\n",
       "    }\n",
       "</style>\n",
       "<table border=\"1\" class=\"dataframe\">\n",
       "  <thead>\n",
       "    <tr style=\"text-align: right;\">\n",
       "      <th></th>\n",
       "      <th>pop_rsem</th>\n",
       "      <th>pop_kallisto</th>\n",
       "      <th>pop_salmon_decoy</th>\n",
       "      <th>pop_salmon</th>\n",
       "    </tr>\n",
       "  </thead>\n",
       "  <tbody>\n",
       "    <tr>\n",
       "      <th>10000</th>\n",
       "      <td>0.0</td>\n",
       "      <td>0.0</td>\n",
       "      <td>0.0</td>\n",
       "      <td>0.0</td>\n",
       "    </tr>\n",
       "    <tr>\n",
       "      <th>10001</th>\n",
       "      <td>0.0</td>\n",
       "      <td>0.0</td>\n",
       "      <td>0.0</td>\n",
       "      <td>0.0</td>\n",
       "    </tr>\n",
       "    <tr>\n",
       "      <th>10002</th>\n",
       "      <td>0.0</td>\n",
       "      <td>0.0</td>\n",
       "      <td>0.0</td>\n",
       "      <td>0.0</td>\n",
       "    </tr>\n",
       "    <tr>\n",
       "      <th>10003</th>\n",
       "      <td>0.0</td>\n",
       "      <td>0.0</td>\n",
       "      <td>0.0</td>\n",
       "      <td>0.0</td>\n",
       "    </tr>\n",
       "    <tr>\n",
       "      <th>10004</th>\n",
       "      <td>0.0</td>\n",
       "      <td>0.0</td>\n",
       "      <td>0.0</td>\n",
       "      <td>0.0</td>\n",
       "    </tr>\n",
       "    <tr>\n",
       "      <th>...</th>\n",
       "      <td>...</td>\n",
       "      <td>...</td>\n",
       "      <td>...</td>\n",
       "      <td>...</td>\n",
       "    </tr>\n",
       "    <tr>\n",
       "      <th>tSpikein_ERCC-00165</th>\n",
       "      <td>0.0</td>\n",
       "      <td>0.0</td>\n",
       "      <td>0.0</td>\n",
       "      <td>0.0</td>\n",
       "    </tr>\n",
       "    <tr>\n",
       "      <th>tSpikein_ERCC-00168</th>\n",
       "      <td>0.0</td>\n",
       "      <td>0.0</td>\n",
       "      <td>0.0</td>\n",
       "      <td>0.0</td>\n",
       "    </tr>\n",
       "    <tr>\n",
       "      <th>tSpikein_ERCC-00170</th>\n",
       "      <td>0.0</td>\n",
       "      <td>0.0</td>\n",
       "      <td>0.0</td>\n",
       "      <td>0.0</td>\n",
       "    </tr>\n",
       "    <tr>\n",
       "      <th>tSpikein_ERCC-00171</th>\n",
       "      <td>0.0</td>\n",
       "      <td>0.0</td>\n",
       "      <td>0.0</td>\n",
       "      <td>0.0</td>\n",
       "    </tr>\n",
       "    <tr>\n",
       "      <th>tSpikein_phiX174</th>\n",
       "      <td>24.0</td>\n",
       "      <td>110.0</td>\n",
       "      <td>58.0</td>\n",
       "      <td>58.0</td>\n",
       "    </tr>\n",
       "  </tbody>\n",
       "</table>\n",
       "<p>168207 rows × 4 columns</p>\n",
       "</div>"
      ],
      "text/plain": [
       "                     pop_rsem  pop_kallisto  pop_salmon_decoy  pop_salmon\n",
       "10000                     0.0           0.0               0.0         0.0\n",
       "10001                     0.0           0.0               0.0         0.0\n",
       "10002                     0.0           0.0               0.0         0.0\n",
       "10003                     0.0           0.0               0.0         0.0\n",
       "10004                     0.0           0.0               0.0         0.0\n",
       "...                       ...           ...               ...         ...\n",
       "tSpikein_ERCC-00165       0.0           0.0               0.0         0.0\n",
       "tSpikein_ERCC-00168       0.0           0.0               0.0         0.0\n",
       "tSpikein_ERCC-00170       0.0           0.0               0.0         0.0\n",
       "tSpikein_ERCC-00171       0.0           0.0               0.0         0.0\n",
       "tSpikein_phiX174         24.0         110.0              58.0        58.0\n",
       "\n",
       "[168207 rows x 4 columns]"
      ]
     },
     "execution_count": 35,
     "metadata": {},
     "output_type": "execute_result"
    }
   ],
   "source": [
    "transcript_counts = pandas.DataFrame({\n",
    "    'pop_rsem': pop_rsem_transcript_count['10x_e10.5'],\n",
    "    #'pop_rsem_paired': pop_rsem_transcript_paired_count['10x_e10.5_paired_all'],\n",
    "    'pop_kallisto': pop_kallisto_transcript['est_counts'],\n",
    "    #'pop_kallisto_paired_all': pop_kallisto_paired_transcript['est_counts'],\n",
    "    'pop_salmon_decoy': pop_salmon_decoy_transcript['NumReads'],\n",
    "    'pop_salmon': pop_salmon_transcript['NumReads'],\n",
    "})\n",
    "transcript_counts"
   ]
  },
  {
   "cell_type": "code",
   "execution_count": 36,
   "metadata": {},
   "outputs": [
    {
     "data": {
      "text/html": [
       "<div>\n",
       "<style scoped>\n",
       "    .dataframe tbody tr th:only-of-type {\n",
       "        vertical-align: middle;\n",
       "    }\n",
       "\n",
       "    .dataframe tbody tr th {\n",
       "        vertical-align: top;\n",
       "    }\n",
       "\n",
       "    .dataframe thead th {\n",
       "        text-align: right;\n",
       "    }\n",
       "</style>\n",
       "<table border=\"1\" class=\"dataframe\">\n",
       "  <thead>\n",
       "    <tr style=\"text-align: right;\">\n",
       "      <th></th>\n",
       "      <th>pop_rsem</th>\n",
       "      <th>pop_kallisto</th>\n",
       "      <th>pop_salmon_decoy</th>\n",
       "      <th>pop_salmon</th>\n",
       "    </tr>\n",
       "  </thead>\n",
       "  <tbody>\n",
       "    <tr>\n",
       "      <th>10000</th>\n",
       "      <td>0.00</td>\n",
       "      <td>0.000000</td>\n",
       "      <td>0.00000</td>\n",
       "      <td>0.000000</td>\n",
       "    </tr>\n",
       "    <tr>\n",
       "      <th>10001</th>\n",
       "      <td>0.00</td>\n",
       "      <td>0.000000</td>\n",
       "      <td>0.00000</td>\n",
       "      <td>0.000000</td>\n",
       "    </tr>\n",
       "    <tr>\n",
       "      <th>10002</th>\n",
       "      <td>0.00</td>\n",
       "      <td>0.000000</td>\n",
       "      <td>0.00000</td>\n",
       "      <td>0.000000</td>\n",
       "    </tr>\n",
       "    <tr>\n",
       "      <th>10003</th>\n",
       "      <td>0.00</td>\n",
       "      <td>0.000000</td>\n",
       "      <td>0.00000</td>\n",
       "      <td>0.000000</td>\n",
       "    </tr>\n",
       "    <tr>\n",
       "      <th>10004</th>\n",
       "      <td>0.00</td>\n",
       "      <td>0.000000</td>\n",
       "      <td>0.00000</td>\n",
       "      <td>0.000000</td>\n",
       "    </tr>\n",
       "    <tr>\n",
       "      <th>...</th>\n",
       "      <td>...</td>\n",
       "      <td>...</td>\n",
       "      <td>...</td>\n",
       "      <td>...</td>\n",
       "    </tr>\n",
       "    <tr>\n",
       "      <th>tSpikein_ERCC-00165</th>\n",
       "      <td>0.00</td>\n",
       "      <td>0.000000</td>\n",
       "      <td>0.00000</td>\n",
       "      <td>0.000000</td>\n",
       "    </tr>\n",
       "    <tr>\n",
       "      <th>tSpikein_ERCC-00168</th>\n",
       "      <td>0.00</td>\n",
       "      <td>0.000000</td>\n",
       "      <td>0.00000</td>\n",
       "      <td>0.000000</td>\n",
       "    </tr>\n",
       "    <tr>\n",
       "      <th>tSpikein_ERCC-00170</th>\n",
       "      <td>0.00</td>\n",
       "      <td>0.000000</td>\n",
       "      <td>0.00000</td>\n",
       "      <td>0.000000</td>\n",
       "    </tr>\n",
       "    <tr>\n",
       "      <th>tSpikein_ERCC-00171</th>\n",
       "      <td>0.00</td>\n",
       "      <td>0.000000</td>\n",
       "      <td>0.00000</td>\n",
       "      <td>0.000000</td>\n",
       "    </tr>\n",
       "    <tr>\n",
       "      <th>tSpikein_phiX174</th>\n",
       "      <td>0.01</td>\n",
       "      <td>0.157732</td>\n",
       "      <td>0.01327</td>\n",
       "      <td>0.012855</td>\n",
       "    </tr>\n",
       "  </tbody>\n",
       "</table>\n",
       "<p>168207 rows × 4 columns</p>\n",
       "</div>"
      ],
      "text/plain": [
       "                     pop_rsem  pop_kallisto  pop_salmon_decoy  pop_salmon\n",
       "10000                    0.00      0.000000           0.00000    0.000000\n",
       "10001                    0.00      0.000000           0.00000    0.000000\n",
       "10002                    0.00      0.000000           0.00000    0.000000\n",
       "10003                    0.00      0.000000           0.00000    0.000000\n",
       "10004                    0.00      0.000000           0.00000    0.000000\n",
       "...                       ...           ...               ...         ...\n",
       "tSpikein_ERCC-00165      0.00      0.000000           0.00000    0.000000\n",
       "tSpikein_ERCC-00168      0.00      0.000000           0.00000    0.000000\n",
       "tSpikein_ERCC-00170      0.00      0.000000           0.00000    0.000000\n",
       "tSpikein_ERCC-00171      0.00      0.000000           0.00000    0.000000\n",
       "tSpikein_phiX174         0.01      0.157732           0.01327    0.012855\n",
       "\n",
       "[168207 rows x 4 columns]"
      ]
     },
     "execution_count": 36,
     "metadata": {},
     "output_type": "execute_result"
    }
   ],
   "source": [
    "transcript_tpm = pandas.DataFrame({\n",
    "    'pop_rsem': pop_rsem_transcript_tpm['10x_e10.5'],\n",
    "    #'pop_rsem_paired': pop_rsem_transcript_paired_tpm['10x_e10.5_paired_all'],\n",
    "    'pop_kallisto': pop_kallisto_transcript['tpm'],\n",
    "    #'pop_kallisto_paired_all': pop_kallisto_paired_transcript['tpm'],\n",
    "    'pop_salmon_decoy': pop_salmon_decoy_transcript['TPM'],\n",
    "    'pop_salmon': pop_salmon_transcript['TPM'],\n",
    "})\n",
    "transcript_tpm"
   ]
  },
  {
   "cell_type": "code",
   "execution_count": 37,
   "metadata": {},
   "outputs": [],
   "source": [
    "#build_loom(tenx_pop_root / '10x_e10.5_transcript_counts.loom', transcript_counts, 'counts', gtf)"
   ]
  },
  {
   "cell_type": "code",
   "execution_count": 38,
   "metadata": {},
   "outputs": [
    {
     "name": "stderr",
     "output_type": "stream",
     "text": [
      "... storing 'gene_symbol' as categorical\n",
      "... storing 'gene_type' as categorical\n"
     ]
    }
   ],
   "source": [
    "build_anndata(tenx_pop_root / '10x_e10.5_transcript_counts.h5ad', transcript_counts, 'counts', gtf)"
   ]
  },
  {
   "cell_type": "code",
   "execution_count": 39,
   "metadata": {},
   "outputs": [],
   "source": [
    "#build_loom(tenx_pop_root / '10x_e10.5_transcript_tpm.loom', transcript_tpm, 'TPM', gtf)"
   ]
  },
  {
   "cell_type": "code",
   "execution_count": 40,
   "metadata": {},
   "outputs": [
    {
     "name": "stderr",
     "output_type": "stream",
     "text": [
      "... storing 'gene_symbol' as categorical\n",
      "... storing 'gene_type' as categorical\n"
     ]
    }
   ],
   "source": [
    "build_anndata(tenx_pop_root / '10x_e10.5_transcript_tpm.h5ad', transcript_tpm, 'TPM', gtf) "
   ]
  },
  {
   "cell_type": "code",
   "execution_count": null,
   "metadata": {},
   "outputs": [],
   "source": []
  }
 ],
 "metadata": {
  "kernelspec": {
   "display_name": "Python 3",
   "language": "python",
   "name": "python3"
  },
  "language_info": {
   "codemirror_mode": {
    "name": "ipython",
    "version": 3
   },
   "file_extension": ".py",
   "mimetype": "text/x-python",
   "name": "python",
   "nbconvert_exporter": "python",
   "pygments_lexer": "ipython3",
   "version": "3.8.5"
  }
 },
 "nbformat": 4,
 "nbformat_minor": 4
}
