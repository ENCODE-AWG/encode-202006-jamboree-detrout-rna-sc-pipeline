{
 "cells": [
  {
   "cell_type": "markdown",
   "metadata": {},
   "source": [
    "# Introduction"
   ]
  },
  {
   "cell_type": "markdown",
   "metadata": {},
   "source": [
    "I was thinking kallisto generated transcript counts, but I was wrong... it looks like equivalence classes or something."
   ]
  },
  {
   "cell_type": "code",
   "execution_count": 1,
   "metadata": {},
   "outputs": [],
   "source": [
    "import numpy\n",
    "import anndata\n",
    "import os\n",
    "import pandas\n",
    "import scipy\n",
    "import scanpy\n",
    "import upsetplot\n",
    "from matplotlib import pyplot\n",
    "from pathlib import Path"
   ]
  },
  {
   "cell_type": "code",
   "execution_count": null,
   "metadata": {},
   "outputs": [],
   "source": []
  },
  {
   "cell_type": "code",
   "execution_count": 5,
   "metadata": {},
   "outputs": [],
   "source": [
    "analysis_dir = Path('ENCSR874BOF_e10_5_limb')"
   ]
  },
  {
   "cell_type": "code",
   "execution_count": 13,
   "metadata": {},
   "outputs": [],
   "source": [
    "def load_kallisto_sc_transcripts(kallisto_analysis_dir):\n",
    "    kallisto = scanpy.read_mtx(kallisto_analysis_dir / 'tcc.mtx')\n",
    "    kallisto_vars = pandas.read_csv(kallisto_analysis_dir/  'tcc.ec.txt', header=None, sep='\\t').values.T\n",
    "    kallisto_obs = pandas.read_csv(kallisto_analysis_dir / 'tcc.barcodes.txt', header=None).values.T\n",
    "    kallisto.obs_names = kallisto_obs[0]\n",
    "    # to use gene names load the id to name map\n",
    "    #alevin.var_names = [gene_id_name[x] for x in alevin_cols[0]]\n",
    "    kallisto.var_names = kallisto_vars[0]\n",
    "    #alevin_cols.shape, alevin_rows.shape\n",
    "    return kallisto\n"
   ]
  },
  {
   "cell_type": "code",
   "execution_count": 14,
   "metadata": {
    "scrolled": true
   },
   "outputs": [
    {
     "name": "stderr",
     "output_type": "stream",
     "text": [
      "AnnData expects .var.index to contain strings, but your first indices are: Int64Index([0, 1], dtype='int64'), …\n"
     ]
    },
    {
     "data": {
      "text/plain": [
       "AnnData object with n_obs × n_vars = 584570 × 3940916 "
      ]
     },
     "execution_count": 14,
     "metadata": {},
     "output_type": "execute_result"
    }
   ],
   "source": [
    "kallisto_transcript_analysis_dir = analysis_dir / 'kallisto' / 'eqcount'\n",
    "kallisto_transcript = load_kallisto_sc_transcripts(kallisto_transcript_analysis_dir)\n",
    "kallisto_transcript"
   ]
  },
  {
   "cell_type": "code",
   "execution_count": null,
   "metadata": {},
   "outputs": [],
   "source": [
    "kallisto_em_transcript_analysis_dir = analysis_dir / 'kallisto_em' / 'eqcount')\n",
    "kallisto_em_transcript = load_kallisto_sc_transcripts(kallisto_transcript_analysis_dir)\n",
    "kallisto_em_transcript"
   ]
  },
  {
   "cell_type": "code",
   "execution_count": null,
   "metadata": {},
   "outputs": [],
   "source": []
  },
  {
   "cell_type": "code",
   "execution_count": null,
   "metadata": {},
   "outputs": [],
   "source": []
  }
 ],
 "metadata": {
  "kernelspec": {
   "display_name": "Python 3",
   "language": "python",
   "name": "python3"
  },
  "language_info": {
   "codemirror_mode": {
    "name": "ipython",
    "version": 3
   },
   "file_extension": ".py",
   "mimetype": "text/x-python",
   "name": "python",
   "nbconvert_exporter": "python",
   "pygments_lexer": "ipython3",
   "version": "3.8.5"
  }
 },
 "nbformat": 4,
 "nbformat_minor": 4
}
