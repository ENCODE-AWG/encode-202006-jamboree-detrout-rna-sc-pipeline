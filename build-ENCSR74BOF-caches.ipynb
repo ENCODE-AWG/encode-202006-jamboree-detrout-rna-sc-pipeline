{
 "cells": [
  {
   "cell_type": "code",
   "execution_count": 1,
   "metadata": {},
   "outputs": [],
   "source": [
    "import numpy\n",
    "import anndata\n",
    "import os\n",
    "import pandas\n",
    "import scipy\n",
    "import scanpy\n",
    "import upsetplot\n",
    "from matplotlib import pyplot"
   ]
  },
  {
   "cell_type": "code",
   "execution_count": 2,
   "metadata": {},
   "outputs": [],
   "source": [
    "%matplotlib inline"
   ]
  },
  {
   "cell_type": "code",
   "execution_count": 3,
   "metadata": {},
   "outputs": [],
   "source": [
    "analysis_dir = 'ENCSR874BOF_e10_5_limb'"
   ]
  },
  {
   "cell_type": "markdown",
   "metadata": {},
   "source": [
    "## Load data into scanpy"
   ]
  },
  {
   "cell_type": "code",
   "execution_count": 4,
   "metadata": {},
   "outputs": [
    {
     "data": {
      "text/plain": [
       "AnnData object with n_obs × n_vars = 7203 × 81881 \n",
       "    var: 'gene_symbols', 'feature_types'"
      ]
     },
     "execution_count": 4,
     "metadata": {},
     "output_type": "execute_result"
    }
   ],
   "source": [
    "cellr_analysis_dir = os.path.join(analysis_dir, 'ENCSR874BOF-10x-e10_5-count-cells10000', 'outs')\n",
    "cellr = scanpy.read_10x_mtx(\n",
    "    os.path.join(cellr_analysis_dir, 'filtered_feature_bc_matrix'),\n",
    "    var_names='gene_ids'\n",
    ")\n",
    "cellr"
   ]
  },
  {
   "cell_type": "code",
   "execution_count": 5,
   "metadata": {},
   "outputs": [
    {
     "data": {
      "text/plain": [
       "['gene_symbols', 'feature_types']"
      ]
     },
     "execution_count": 5,
     "metadata": {},
     "output_type": "execute_result"
    }
   ],
   "source": [
    "cellr.var_keys()"
   ]
  },
  {
   "cell_type": "code",
   "execution_count": 6,
   "metadata": {},
   "outputs": [
    {
     "data": {
      "text/plain": [
       "AnnData object with n_obs × n_vars = 6287 × 81881 "
      ]
     },
     "execution_count": 6,
     "metadata": {},
     "output_type": "execute_result"
    }
   ],
   "source": [
    "solo_analysis_dir = os.path.join(analysis_dir, 'diane_star_solo', 'Solo.out', 'Gene', 'filtered')\n",
    "solo = scanpy.read_mtx(os.path.join(solo_analysis_dir, 'matrix.mtx')).T\n",
    "solo_vars = pandas.read_csv(os.path.join(solo_analysis_dir, 'features.tsv'), header=None, sep='\\t').values.T\n",
    "solo_obs = pandas.read_csv(os.path.join(solo_analysis_dir, 'barcodes.tsv'), header=None, sep='\\t').values.T\n",
    "solo.obs_names = solo_obs[0]\n",
    "# to use gene names load the id to name map\n",
    "#alevin.var_names = [gene_id_name[x] for x in alevin_cols[0]]\n",
    "solo.var_names = solo_vars[0]\n",
    "#alevin_cols.shape, alevin_rows.shape\n",
    "solo"
   ]
  },
  {
   "cell_type": "code",
   "execution_count": 7,
   "metadata": {},
   "outputs": [
    {
     "data": {
      "text/plain": [
       "Index(['896', '897', '1275', '1914', '1915', '1916', '1917', '1918', '1919',\n",
       "       '1920',\n",
       "       ...\n",
       "       'gSpikein_ERCC-00158', 'gSpikein_ERCC-00160', 'gSpikein_ERCC-00162',\n",
       "       'gSpikein_ERCC-00163', 'gSpikein_ERCC-00164', 'gSpikein_ERCC-00165',\n",
       "       'gSpikein_ERCC-00168', 'gSpikein_ERCC-00170', 'gSpikein_ERCC-00171',\n",
       "       'gSpikein_phiX174'],\n",
       "      dtype='object', length=81881)"
      ]
     },
     "execution_count": 7,
     "metadata": {},
     "output_type": "execute_result"
    }
   ],
   "source": [
    "solo.var_names"
   ]
  },
  {
   "cell_type": "code",
   "execution_count": 8,
   "metadata": {},
   "outputs": [
    {
     "data": {
      "text/plain": [
       "AnnData object with n_obs × n_vars = 6287 × 81881 "
      ]
     },
     "execution_count": 8,
     "metadata": {},
     "output_type": "execute_result"
    }
   ],
   "source": [
    "solo"
   ]
  },
  {
   "cell_type": "code",
   "execution_count": 9,
   "metadata": {},
   "outputs": [
    {
     "data": {
      "text/plain": [
       "AnnData object with n_obs × n_vars = 7302 × 72301 "
      ]
     },
     "execution_count": 9,
     "metadata": {},
     "output_type": "execute_result"
    }
   ],
   "source": [
    "alevin_analysis_dir = os.path.join(analysis_dir, 'alevin_output_encode_R1_R2', 'alevin')\n",
    "alevin = scanpy.read_mtx(os.path.join(alevin_analysis_dir, 'quants_mat.mtx.gz'))\n",
    "alevin_vars = pandas.read_csv(os.path.join(alevin_analysis_dir, 'quants_mat_cols.txt'), header=None).values.T\n",
    "alevin_obs = pandas.read_csv(os.path.join(alevin_analysis_dir, 'quants_mat_rows.txt'), header=None).values.T\n",
    "alevin.obs_names = alevin_obs[0]\n",
    "# to use gene names load the id to name map\n",
    "#alevin.var_names = [gene_id_name[x] for x in alevin_cols[0]]\n",
    "alevin.var_names = alevin_vars[0]\n",
    "#alevin_cols.shape, alevin_rows.shape\n",
    "alevin"
   ]
  },
  {
   "cell_type": "code",
   "execution_count": 10,
   "metadata": {},
   "outputs": [
    {
     "data": {
      "text/plain": [
       "AnnData object with n_obs × n_vars = 584570 × 81881 "
      ]
     },
     "execution_count": 10,
     "metadata": {},
     "output_type": "execute_result"
    }
   ],
   "source": [
    "kallisto_analysis_dir = os.path.join(analysis_dir, 'kallisto', 'genecount')\n",
    "kallisto = scanpy.read_mtx(os.path.join(kallisto_analysis_dir, 'gene.mtx'))\n",
    "kallisto_vars = pandas.read_csv(os.path.join(kallisto_analysis_dir, 'gene.genes.txt'), header=None).values.T\n",
    "kallisto_obs = pandas.read_csv(os.path.join(kallisto_analysis_dir, 'gene.barcodes.txt'), header=None).values.T\n",
    "kallisto.obs_names = kallisto_obs[0]\n",
    "# to use gene names load the id to name map\n",
    "#alevin.var_names = [gene_id_name[x] for x in alevin_cols[0]]\n",
    "kallisto.var_names = kallisto_vars[0]\n",
    "#alevin_cols.shape, alevin_rows.shape\n",
    "kallisto"
   ]
  },
  {
   "cell_type": "code",
   "execution_count": 11,
   "metadata": {},
   "outputs": [
    {
     "data": {
      "text/plain": [
       "AnnData object with n_obs × n_vars = 584570 × 81881 "
      ]
     },
     "execution_count": 11,
     "metadata": {},
     "output_type": "execute_result"
    }
   ],
   "source": [
    "kallisto_em_analysis_dir = os.path.join(analysis_dir, 'kallisto_em', 'genecount')\n",
    "kallisto_em = scanpy.read_mtx(os.path.join(kallisto_em_analysis_dir, 'gene.mtx'))\n",
    "kallisto_em_vars = pandas.read_csv(os.path.join(kallisto_em_analysis_dir, 'gene.genes.txt'), header=None).values.T\n",
    "kallisto_em_obs = pandas.read_csv(os.path.join(kallisto_em_analysis_dir, 'gene.barcodes.txt'), header=None).values.T\n",
    "kallisto_em.obs_names = kallisto_em_obs[0]\n",
    "# to use gene names load the id to name map\n",
    "kallisto_em.var_names = kallisto_em_vars[0]\n",
    "kallisto_em"
   ]
  },
  {
   "cell_type": "markdown",
   "metadata": {},
   "source": [
    "# Basic checks"
   ]
  },
  {
   "cell_type": "markdown",
   "metadata": {},
   "source": [
    "## Check that the annotation set is comptable"
   ]
  },
  {
   "cell_type": "markdown",
   "metadata": {},
   "source": [
    "Alevin's matrix is noticably smaller than the the others (72,301 annotations vs 81,881)"
   ]
  },
  {
   "cell_type": "code",
   "execution_count": 12,
   "metadata": {},
   "outputs": [
    {
     "data": {
      "text/plain": [
       "9580"
      ]
     },
     "execution_count": 12,
     "metadata": {},
     "output_type": "execute_result"
    }
   ],
   "source": [
    "len(set(solo.var_names).difference(alevin.var_names))"
   ]
  },
  {
   "cell_type": "markdown",
   "metadata": {},
   "source": [
    "Grab a few names so we can try to see what's going on"
   ]
  },
  {
   "cell_type": "code",
   "execution_count": 13,
   "metadata": {},
   "outputs": [
    {
     "data": {
      "text/plain": [
       "['2705',\n",
       " '25377',\n",
       " '7904',\n",
       " '2670',\n",
       " '6926',\n",
       " '38898',\n",
       " '34304',\n",
       " '45914',\n",
       " '6909',\n",
       " '71046',\n",
       " '51358',\n",
       " '43460',\n",
       " '2769',\n",
       " 'ENSMUSG00000100678.1',\n",
       " '38360',\n",
       " '7370',\n",
       " '37214',\n",
       " '46497',\n",
       " 'ENSMUSG00000094007.1',\n",
       " 'ENSMUSG00000101185.1']"
      ]
     },
     "execution_count": 13,
     "metadata": {},
     "output_type": "execute_result"
    }
   ],
   "source": [
    "list(set(solo.var_names).difference(alevin.var_names))[:20]"
   ]
  },
  {
   "cell_type": "markdown",
   "metadata": {},
   "source": [
    "I have a hunch Alevin isn't writing the all zeros rows."
   ]
  },
  {
   "cell_type": "code",
   "execution_count": 14,
   "metadata": {},
   "outputs": [
    {
     "data": {
      "text/plain": [
       "True"
      ]
     },
     "execution_count": 14,
     "metadata": {},
     "output_type": "execute_result"
    }
   ],
   "source": [
    "numpy.all(solo.obs_vector('ENSMUSG00000102026.1') == 0)"
   ]
  },
  {
   "cell_type": "code",
   "execution_count": 15,
   "metadata": {},
   "outputs": [
    {
     "name": "stdout",
     "output_type": "stream",
     "text": [
      "9580 entries were all zero\n"
     ]
    }
   ],
   "source": [
    "alevin_zeros_vars =  set(solo.var_names).difference(alevin.var_names)\n",
    "alevin_all_zeros = 0\n",
    "for name in alevin_zeros_vars:\n",
    "    if numpy.all(solo.obs_vector(name) != 0):\n",
    "        print(name, solo.obs_vector(name))\n",
    "    else:\n",
    "        alevin_all_zeros += 1\n",
    "print(f'{alevin_all_zeros} entries were all zero')\n"
   ]
  },
  {
   "cell_type": "markdown",
   "metadata": {},
   "source": [
    "If we add in the all zeros, do we get the same number of feature annotations?"
   ]
  },
  {
   "cell_type": "code",
   "execution_count": 16,
   "metadata": {},
   "outputs": [
    {
     "data": {
      "text/plain": [
       "True"
      ]
     },
     "execution_count": 16,
     "metadata": {},
     "output_type": "execute_result"
    }
   ],
   "source": [
    "len(set(cellr.var_names).intersection(alevin.var_names)) + alevin_all_zeros == len(cellr.var_names)"
   ]
  },
  {
   "cell_type": "markdown",
   "metadata": {},
   "source": [
    "We need our matricies to have the same shape for analysis, so we need to add those zeros back in."
   ]
  },
  {
   "cell_type": "markdown",
   "metadata": {},
   "source": [
    "Is one of the gene names from the all zero set in the list of annotations?"
   ]
  },
  {
   "cell_type": "code",
   "execution_count": 17,
   "metadata": {},
   "outputs": [
    {
     "data": {
      "text/plain": [
       "False"
      ]
     },
     "execution_count": 17,
     "metadata": {},
     "output_type": "execute_result"
    }
   ],
   "source": [
    "'ENSMUSG00000096558.1' in alevin.var_names"
   ]
  },
  {
   "cell_type": "markdown",
   "metadata": {},
   "source": [
    "Compute new matrix index with the missing names added in"
   ]
  },
  {
   "cell_type": "code",
   "execution_count": 18,
   "metadata": {},
   "outputs": [
    {
     "data": {
      "text/html": [
       "<div>\n",
       "<style scoped>\n",
       "    .dataframe tbody tr th:only-of-type {\n",
       "        vertical-align: middle;\n",
       "    }\n",
       "\n",
       "    .dataframe tbody tr th {\n",
       "        vertical-align: top;\n",
       "    }\n",
       "\n",
       "    .dataframe thead th {\n",
       "        text-align: right;\n",
       "    }\n",
       "</style>\n",
       "<table border=\"1\" class=\"dataframe\">\n",
       "  <thead>\n",
       "    <tr style=\"text-align: right;\">\n",
       "      <th></th>\n",
       "    </tr>\n",
       "  </thead>\n",
       "  <tbody>\n",
       "    <tr>\n",
       "      <th>897</th>\n",
       "    </tr>\n",
       "    <tr>\n",
       "      <th>1914</th>\n",
       "    </tr>\n",
       "    <tr>\n",
       "      <th>1915</th>\n",
       "    </tr>\n",
       "    <tr>\n",
       "      <th>1918</th>\n",
       "    </tr>\n",
       "    <tr>\n",
       "      <th>1919</th>\n",
       "    </tr>\n",
       "    <tr>\n",
       "      <th>...</th>\n",
       "    </tr>\n",
       "    <tr>\n",
       "      <th>46222</th>\n",
       "    </tr>\n",
       "    <tr>\n",
       "      <th>37712</th>\n",
       "    </tr>\n",
       "    <tr>\n",
       "      <th>50741</th>\n",
       "    </tr>\n",
       "    <tr>\n",
       "      <th>33279</th>\n",
       "    </tr>\n",
       "    <tr>\n",
       "      <th>47471</th>\n",
       "    </tr>\n",
       "  </tbody>\n",
       "</table>\n",
       "<p>81881 rows × 0 columns</p>\n",
       "</div>"
      ],
      "text/plain": [
       "Empty DataFrame\n",
       "Columns: []\n",
       "Index: [897, 1914, 1915, 1918, 1919, 1921, 2000, 2001, 2003, 2004, 2005, 2006, 2008, 2009, 2010, 2011, 2525, 2527, 3083, 3085, 3086, 3087, 3089, 3091, 3093, 3094, 3095, 3096, 3097, 3098, 3099, 3100, 3101, 3102, 3103, 3104, 3105, 3542, 3544, 3711, 3712, 3726, 4305, 4306, 4307, 4308, 4311, 4312, 4313, 4314, 4315, 4412, 4413, 4415, 4416, 4655, 4656, 4776, 4777, 4779, 4780, 4781, 4782, 4783, 4784, 4831, 4832, 4833, 4834, 4835, 4836, 4838, 4839, 4840, 4841, 4843, 4844, 4846, 5001, 5003, 5004, 5005, 5006, 5007, 5008, 5009, 5011, 5012, 5014, 5015, 5016, 5017, 5295, 5296, 5298, 5300, 5494, 5496, 5500, 5505, ...]\n",
       "\n",
       "[81881 rows x 0 columns]"
      ]
     },
     "execution_count": 18,
     "metadata": {},
     "output_type": "execute_result"
    }
   ],
   "source": [
    "alevin_var_names_extended = pandas.DataFrame(index=alevin.var_names.values.tolist() + list(alevin_zeros_vars))\n",
    "alevin_var_names_extended"
   ]
  },
  {
   "cell_type": "markdown",
   "metadata": {},
   "source": [
    "Is the missing ID now found in the extended matrix?"
   ]
  },
  {
   "cell_type": "code",
   "execution_count": 19,
   "metadata": {},
   "outputs": [
    {
     "data": {
      "text/plain": [
       "False"
      ]
     },
     "execution_count": 19,
     "metadata": {},
     "output_type": "execute_result"
    }
   ],
   "source": [
    "'ENSMUSG00000096558.1' in alevin_var_names_extended"
   ]
  },
  {
   "cell_type": "code",
   "execution_count": 20,
   "metadata": {},
   "outputs": [
    {
     "data": {
      "text/plain": [
       "7302"
      ]
     },
     "execution_count": 20,
     "metadata": {},
     "output_type": "execute_result"
    }
   ],
   "source": [
    "alevin.n_obs"
   ]
  },
  {
   "cell_type": "markdown",
   "metadata": {},
   "source": [
    "Generate new full size matrix"
   ]
  },
  {
   "cell_type": "code",
   "execution_count": 21,
   "metadata": {},
   "outputs": [],
   "source": [
    "alevin.X.resize((alevin.n_obs, solo.n_vars))"
   ]
  },
  {
   "cell_type": "code",
   "execution_count": 22,
   "metadata": {},
   "outputs": [],
   "source": [
    "alevin_full = anndata.AnnData(alevin.X, obs=alevin.obs, var=alevin_var_names_extended)"
   ]
  },
  {
   "cell_type": "markdown",
   "metadata": {},
   "source": [
    "Is the missing ID in the new matrix?"
   ]
  },
  {
   "cell_type": "code",
   "execution_count": 23,
   "metadata": {},
   "outputs": [
    {
     "data": {
      "text/plain": [
       "True"
      ]
     },
     "execution_count": 23,
     "metadata": {},
     "output_type": "execute_result"
    }
   ],
   "source": [
    "'ENSMUSG00000096558.1' in alevin_full.var_names"
   ]
  },
  {
   "cell_type": "markdown",
   "metadata": {},
   "source": [
    "Now we need to adjust the order of the annotations to match everyone else"
   ]
  },
  {
   "cell_type": "code",
   "execution_count": 24,
   "metadata": {},
   "outputs": [],
   "source": [
    "alevin_full_new_var_index, alevin_full_new_var_order = alevin_full.var.index.reindex(solo.var.index)"
   ]
  },
  {
   "cell_type": "code",
   "execution_count": 25,
   "metadata": {},
   "outputs": [],
   "source": [
    "alevin_full.X = alevin_full.X[:,alevin_full_new_var_order]\n",
    "alevin_full.var = pandas.DataFrame(index=alevin_full_new_var_index)"
   ]
  },
  {
   "cell_type": "markdown",
   "metadata": {},
   "source": [
    "Did we scramble the feature index compared to the data values?"
   ]
  },
  {
   "cell_type": "code",
   "execution_count": 26,
   "metadata": {},
   "outputs": [],
   "source": [
    "features_to_check = numpy.random.choice(solo.var_names, size=100, replace=False)"
   ]
  },
  {
   "cell_type": "code",
   "execution_count": 27,
   "metadata": {},
   "outputs": [
    {
     "name": "stdout",
     "output_type": "stream",
     "text": [
      "15 were from the all zero set\n"
     ]
    }
   ],
   "source": [
    "feature_misses = 0\n",
    "for f in features_to_check:\n",
    "    if f in alevin.var_names:\n",
    "        assert numpy.all(alevin_full.obs_vector(f) == alevin.obs_vector(f))\n",
    "    else:\n",
    "        assert numpy.all(alevin_full.obs_vector(f) == 0)\n",
    "        feature_misses += 1\n",
    "print(f'{feature_misses} were from the all zero set' )        "
   ]
  },
  {
   "cell_type": "markdown",
   "metadata": {},
   "source": [
    "### Check that gene lists are the same"
   ]
  },
  {
   "cell_type": "code",
   "execution_count": 28,
   "metadata": {},
   "outputs": [
    {
     "data": {
      "text/plain": [
       "True"
      ]
     },
     "execution_count": 28,
     "metadata": {},
     "output_type": "execute_result"
    }
   ],
   "source": [
    "all(cellr.var_names==solo.var_names)"
   ]
  },
  {
   "cell_type": "code",
   "execution_count": 29,
   "metadata": {},
   "outputs": [
    {
     "data": {
      "text/plain": [
       "True"
      ]
     },
     "execution_count": 29,
     "metadata": {},
     "output_type": "execute_result"
    }
   ],
   "source": [
    "all(cellr.var_names==kallisto.var_names)"
   ]
  },
  {
   "cell_type": "code",
   "execution_count": 30,
   "metadata": {},
   "outputs": [
    {
     "data": {
      "text/plain": [
       "True"
      ]
     },
     "execution_count": 30,
     "metadata": {},
     "output_type": "execute_result"
    }
   ],
   "source": [
    "all(cellr.var_names==alevin_full.var_names)"
   ]
  },
  {
   "cell_type": "markdown",
   "metadata": {},
   "source": [
    "Is the list of common annotations plus the missing all zero rows equal to the full annotation set of 81,881?"
   ]
  },
  {
   "cell_type": "markdown",
   "metadata": {},
   "source": [
    "### Do barcodes share the same format?"
   ]
  },
  {
   "cell_type": "code",
   "execution_count": 31,
   "metadata": {},
   "outputs": [
    {
     "name": "stdout",
     "output_type": "stream",
     "text": [
      "Empty DataFrame\n",
      "Columns: []\n",
      "Index: [AAACCTGAGAGTCGGT-1, AAACCTGAGTCGTACT-1, AAACCTGAGTGGTCCC-1, AAACCTGCAATGGACG-1, AAACCTGCACAGTCGC-1]\n",
      "Empty DataFrame\n",
      "Columns: []\n",
      "Index: [AAACCTGAGTCGTACT, AAACCTGAGTGGTCCC, AAACCTGCAATGGACG, AAACCTGCAGCTGTTA, AAACCTGCAGTCAGCC]\n",
      "Empty DataFrame\n",
      "Columns: []\n",
      "Index: [GCAGTTAGTCCAGTTA, TCTGGAATCAGGTTCA, GTGTTAGGTACTCGCG, CACTCCACATGCAATC, CCCAGTTTCGTTTGCC]\n",
      "Empty DataFrame\n",
      "Columns: []\n",
      "Index: [AAACCTGAGAAACCAT, AAACCTGAGAAACCGC, AAACCTGAGAAACCTA, AAACCTGAGAAACGAG, AAACCTGAGAAACGCC]\n",
      "Empty DataFrame\n",
      "Columns: []\n",
      "Index: [AAACCTGAGAAACCAT, AAACCTGAGAAACCGC, AAACCTGAGAAACCTA, AAACCTGAGAAACGAG, AAACCTGAGAAACGCC]\n"
     ]
    }
   ],
   "source": [
    "print(cellr.obs.head())\n",
    "print(solo.obs.head())\n",
    "print(alevin_full.obs.head())\n",
    "print(kallisto.obs.head())\n",
    "print(kallisto_em.obs.head())"
   ]
  },
  {
   "cell_type": "markdown",
   "metadata": {},
   "source": [
    "No, cell ranger leaves the -1 on it."
   ]
  },
  {
   "cell_type": "markdown",
   "metadata": {},
   "source": [
    "### Fix cellranger IDs"
   ]
  },
  {
   "cell_type": "code",
   "execution_count": 32,
   "metadata": {},
   "outputs": [],
   "source": [
    "cellr.obs=pandas.DataFrame(index=pandas.Index([x[:16] for x in list(cellr.obs.index)]))"
   ]
  },
  {
   "cell_type": "code",
   "execution_count": 33,
   "metadata": {},
   "outputs": [
    {
     "data": {
      "text/plain": [
       "Index(['AAACCTGAGAGTCGGT', 'AAACCTGAGTCGTACT', 'AAACCTGAGTGGTCCC',\n",
       "       'AAACCTGCAATGGACG', 'AAACCTGCACAGTCGC', 'AAACCTGCAGCTGTTA',\n",
       "       'AAACCTGCAGTCAGCC', 'AAACCTGCATCCCATC', 'AAACCTGGTCCGAAGA',\n",
       "       'AAACCTGGTGTGAAAT',\n",
       "       ...\n",
       "       'TTTGTCACATCCCACT', 'TTTGTCAGTAATCACC', 'TTTGTCAGTATGAAAC',\n",
       "       'TTTGTCAGTGTGACCC', 'TTTGTCAGTGTGGTTT', 'TTTGTCATCACTTCAT',\n",
       "       'TTTGTCATCCGGCACA', 'TTTGTCATCGCGCCAA', 'TTTGTCATCGGAGGTA',\n",
       "       'TTTGTCATCGTTACGA'],\n",
       "      dtype='object', length=7203)"
      ]
     },
     "execution_count": 33,
     "metadata": {},
     "output_type": "execute_result"
    }
   ],
   "source": [
    "cellr.obs.index"
   ]
  },
  {
   "cell_type": "markdown",
   "metadata": {},
   "source": [
    "# How similar are the barcodes"
   ]
  },
  {
   "cell_type": "code",
   "execution_count": 34,
   "metadata": {},
   "outputs": [
    {
     "name": "stdout",
     "output_type": "stream",
     "text": [
      "Cell ranger filtered 7203\n",
      "STAR Solo filtered 6287\n",
      "Alevin 7302\n",
      "Kallisto gene 584570\n",
      "Kallisto em gene 584570\n"
     ]
    }
   ],
   "source": [
    "print('Cell ranger filtered', len(cellr.obs.index))\n",
    "print('STAR Solo filtered', len(solo.obs.index))\n",
    "print('Alevin', len(alevin_full.obs.index))\n",
    "print('Kallisto gene', len(kallisto.obs.index))\n",
    "print('Kallisto em gene', len(kallisto_em.obs.index))"
   ]
  },
  {
   "cell_type": "markdown",
   "metadata": {},
   "source": [
    "Looks like Kallisto doesn't output a filtered set by default."
   ]
  },
  {
   "cell_type": "markdown",
   "metadata": {},
   "source": [
    "## Build a comparable pass filter common barcode set"
   ]
  },
  {
   "cell_type": "markdown",
   "metadata": {},
   "source": [
    "Is the star solo set a proper subset of the other three?"
   ]
  },
  {
   "cell_type": "code",
   "execution_count": 35,
   "metadata": {},
   "outputs": [
    {
     "data": {
      "text/plain": [
       "6287"
      ]
     },
     "execution_count": 35,
     "metadata": {},
     "output_type": "execute_result"
    }
   ],
   "source": [
    "len(set(solo.obs.index).intersection(cellr.obs.index))"
   ]
  },
  {
   "cell_type": "code",
   "execution_count": 36,
   "metadata": {},
   "outputs": [
    {
     "data": {
      "text/plain": [
       "6287"
      ]
     },
     "execution_count": 36,
     "metadata": {},
     "output_type": "execute_result"
    }
   ],
   "source": [
    "len(set(solo.obs.index).intersection(alevin_full.obs.index))"
   ]
  },
  {
   "cell_type": "code",
   "execution_count": 37,
   "metadata": {},
   "outputs": [
    {
     "data": {
      "text/plain": [
       "6287"
      ]
     },
     "execution_count": 37,
     "metadata": {},
     "output_type": "execute_result"
    }
   ],
   "source": [
    "len(set(solo.obs.index).intersection(kallisto.obs.index))"
   ]
  },
  {
   "cell_type": "markdown",
   "metadata": {},
   "source": [
    "Yes.\n",
    "\n",
    "How about is the cell ranger set a proper subset of the alevin set?"
   ]
  },
  {
   "cell_type": "code",
   "execution_count": 38,
   "metadata": {},
   "outputs": [
    {
     "data": {
      "text/plain": [
       "6843"
      ]
     },
     "execution_count": 38,
     "metadata": {},
     "output_type": "execute_result"
    }
   ],
   "source": [
    "len(set(cellr.obs.index).intersection(alevin_full.obs.index))"
   ]
  },
  {
   "cell_type": "markdown",
   "metadata": {},
   "source": [
    "Well nope they picked different marginal cells"
   ]
  },
  {
   "cell_type": "markdown",
   "metadata": {},
   "source": [
    "Generate upset plot comparing the intersections of the filtered barcode sets. There's no need to include kallisto right now as they're only outputing the unfiltered matrix."
   ]
  },
  {
   "cell_type": "code",
   "execution_count": 39,
   "metadata": {},
   "outputs": [],
   "source": [
    "upset_contents = upsetplot.from_contents({\n",
    "    'cellranger': cellr.obs.index,\n",
    "    'star solo': solo.obs.index,\n",
    "    'alevin': alevin_full.obs.index,\n",
    "})"
   ]
  },
  {
   "cell_type": "code",
   "execution_count": 40,
   "metadata": {},
   "outputs": [
    {
     "data": {
      "image/png": "[encoded data removed]",
      "text/plain": [
       "<Figure size 346.792x400 with 4 Axes>"
      ]
     },
     "metadata": {
      "needs_background": "light"
     },
     "output_type": "display_data"
    }
   ],
   "source": [
    "f = pyplot.figure(dpi=100)\n",
    "_ = upsetplot.plot(upset_contents, fig=f, show_counts=True)"
   ]
  },
  {
   "cell_type": "markdown",
   "metadata": {},
   "source": [
    "### Compute common bar code set"
   ]
  },
  {
   "cell_type": "code",
   "execution_count": 41,
   "metadata": {},
   "outputs": [],
   "source": [
    "common_barcodes = set(cellr.obs.index).intersection(set(solo.obs.index))\n"
   ]
  },
  {
   "cell_type": "markdown",
   "metadata": {},
   "source": [
    "# Filter matrices to common barcode set"
   ]
  },
  {
   "cell_type": "code",
   "execution_count": 42,
   "metadata": {},
   "outputs": [],
   "source": [
    "def common_matrix(matrix, barcodes):\n",
    "    new_obs_names, new_index = matrix.obs_names.reindex(barcodes)\n",
    "    barcode_is_common = [x in common_barcodes for x in matrix.obs.index]\n",
    "    common = matrix[new_index,:]\n",
    "    common.obs_names = new_obs_names\n",
    "    return common"
   ]
  },
  {
   "cell_type": "code",
   "execution_count": 43,
   "metadata": {},
   "outputs": [],
   "source": [
    "def diff_matrix(matrix, barcodes):\n",
    "    barcode_is_not_common = [x not in barcodes for x in matrix.obs.index]\n",
    "    diff = matrix[barcode_is_not_common,:]\n",
    "    return diff"
   ]
  },
  {
   "cell_type": "code",
   "execution_count": 44,
   "metadata": {},
   "outputs": [
    {
     "data": {
      "text/plain": [
       "AnnData object with n_obs × n_vars = 6287 × 81881 \n",
       "    var: 'gene_symbols', 'feature_types'"
      ]
     },
     "execution_count": 44,
     "metadata": {},
     "output_type": "execute_result"
    }
   ],
   "source": [
    "cellr_common = common_matrix(cellr, common_barcodes)\n",
    "cellr_common"
   ]
  },
  {
   "cell_type": "code",
   "execution_count": 45,
   "metadata": {},
   "outputs": [
    {
     "data": {
      "text/plain": [
       "AnnData object with n_obs × n_vars = 6287 × 81881 "
      ]
     },
     "execution_count": 45,
     "metadata": {},
     "output_type": "execute_result"
    }
   ],
   "source": [
    "# This should be a null-op\n",
    "solo_common = common_matrix(solo, common_barcodes)\n",
    "solo_common"
   ]
  },
  {
   "cell_type": "code",
   "execution_count": 46,
   "metadata": {},
   "outputs": [
    {
     "data": {
      "text/plain": [
       "AnnData object with n_obs × n_vars = 6287 × 81881 "
      ]
     },
     "execution_count": 46,
     "metadata": {},
     "output_type": "execute_result"
    }
   ],
   "source": [
    "alevin_common = common_matrix(alevin_full, common_barcodes)\n",
    "alevin_common"
   ]
  },
  {
   "cell_type": "code",
   "execution_count": 47,
   "metadata": {},
   "outputs": [
    {
     "data": {
      "text/plain": [
       "AnnData object with n_obs × n_vars = 6287 × 81881 "
      ]
     },
     "execution_count": 47,
     "metadata": {},
     "output_type": "execute_result"
    }
   ],
   "source": [
    "kallisto_common = common_matrix(kallisto, common_barcodes)\n",
    "kallisto_common"
   ]
  },
  {
   "cell_type": "code",
   "execution_count": 48,
   "metadata": {},
   "outputs": [
    {
     "data": {
      "text/plain": [
       "AnnData object with n_obs × n_vars = 6287 × 81881 "
      ]
     },
     "execution_count": 48,
     "metadata": {},
     "output_type": "execute_result"
    }
   ],
   "source": [
    "kallisto_em_common = common_matrix(kallisto_em, common_barcodes)\n",
    "kallisto_em_common"
   ]
  },
  {
   "cell_type": "markdown",
   "metadata": {},
   "source": [
    "## Are the barcode columns in the same order?"
   ]
  },
  {
   "cell_type": "code",
   "execution_count": 49,
   "metadata": {},
   "outputs": [],
   "source": [
    "assert numpy.all(cellr_common.obs_names == solo_common.obs_names)"
   ]
  },
  {
   "cell_type": "code",
   "execution_count": 50,
   "metadata": {},
   "outputs": [],
   "source": [
    "assert numpy.all(cellr_common.obs_names == alevin_common.obs_names)"
   ]
  },
  {
   "cell_type": "code",
   "execution_count": 51,
   "metadata": {},
   "outputs": [],
   "source": [
    "assert numpy.all(cellr_common.obs_names == kallisto_common.obs_names)"
   ]
  },
  {
   "cell_type": "code",
   "execution_count": 52,
   "metadata": {},
   "outputs": [],
   "source": [
    "assert numpy.all(cellr_common.obs_names == kallisto_em_common.obs_names)"
   ]
  },
  {
   "cell_type": "markdown",
   "metadata": {},
   "source": [
    "## Are the gene ids in the same order?"
   ]
  },
  {
   "cell_type": "code",
   "execution_count": 53,
   "metadata": {},
   "outputs": [],
   "source": [
    "assert numpy.all(cellr_common.var_names == solo_common.var_names)\n",
    "assert numpy.all(cellr_common.var_names == alevin_common.var_names)\n",
    "assert numpy.all(cellr_common.var_names == kallisto_common.var_names)\n",
    "assert numpy.all(cellr_common.var_names == kallisto_em_common.var_names)"
   ]
  },
  {
   "cell_type": "markdown",
   "metadata": {},
   "source": [
    "## Collect method specific filtered unique cells."
   ]
  },
  {
   "cell_type": "markdown",
   "metadata": {},
   "source": [
    "Ignoring kallisto until we actualy have a filter."
   ]
  },
  {
   "cell_type": "code",
   "execution_count": 54,
   "metadata": {},
   "outputs": [
    {
     "data": {
      "text/plain": [
       "View of AnnData object with n_obs × n_vars = 916 × 81881 \n",
       "    var: 'gene_symbols', 'feature_types'"
      ]
     },
     "execution_count": 54,
     "metadata": {},
     "output_type": "execute_result"
    }
   ],
   "source": [
    "cellr_diff = diff_matrix(cellr, common_barcodes)\n",
    "cellr_diff"
   ]
  },
  {
   "cell_type": "code",
   "execution_count": 55,
   "metadata": {},
   "outputs": [
    {
     "data": {
      "text/plain": [
       "View of AnnData object with n_obs × n_vars = 0 × 81881 "
      ]
     },
     "execution_count": 55,
     "metadata": {},
     "output_type": "execute_result"
    }
   ],
   "source": [
    "solo_diff = diff_matrix(solo, common_barcodes)\n",
    "solo_diff"
   ]
  },
  {
   "cell_type": "code",
   "execution_count": 56,
   "metadata": {},
   "outputs": [
    {
     "data": {
      "text/plain": [
       "View of AnnData object with n_obs × n_vars = 1015 × 81881 "
      ]
     },
     "execution_count": 56,
     "metadata": {},
     "output_type": "execute_result"
    }
   ],
   "source": [
    "alevin_diff = diff_matrix(alevin_full, common_barcodes)\n",
    "alevin_diff"
   ]
  },
  {
   "cell_type": "markdown",
   "metadata": {},
   "source": [
    "## Make sure gene symbols are attached\n",
    "\n",
    "Since everything is in the same order, we can just copy it from cell ranger."
   ]
  },
  {
   "cell_type": "code",
   "execution_count": 57,
   "metadata": {},
   "outputs": [],
   "source": [
    "solo_common.var['gene_symbols'] = cellr_common.var['gene_symbols']"
   ]
  },
  {
   "cell_type": "code",
   "execution_count": 58,
   "metadata": {},
   "outputs": [
    {
     "name": "stderr",
     "output_type": "stream",
     "text": [
      "Trying to set attribute `.var` of view, copying.\n"
     ]
    }
   ],
   "source": [
    "alevin_common.var['gene_symbols'] = cellr_common.var['gene_symbols']\n",
    "alevin_diff.var['gene_symbols'] = cellr_common.var['gene_symbols']"
   ]
  },
  {
   "cell_type": "code",
   "execution_count": 59,
   "metadata": {},
   "outputs": [],
   "source": [
    "kallisto_common.var['gene_symbols'] = cellr_common.var['gene_symbols']"
   ]
  },
  {
   "cell_type": "code",
   "execution_count": 60,
   "metadata": {},
   "outputs": [],
   "source": [
    "kallisto_em_common.var['gene_symbols'] = cellr_common.var['gene_symbols']"
   ]
  },
  {
   "cell_type": "markdown",
   "metadata": {},
   "source": [
    "## Is there spike expression?"
   ]
  },
  {
   "cell_type": "markdown",
   "metadata": {},
   "source": [
    "This is summing along the spike rows, "
   ]
  },
  {
   "cell_type": "code",
   "execution_count": 61,
   "metadata": {},
   "outputs": [
    {
     "data": {
      "text/plain": [
       "matrix([[ 0.,  0.,  0.,  0.,  0.,  0.,  0.,  0.,  0.,  0.,  0.,  0.,  0.,\n",
       "          0.,  0.,  0.,  0.,  0.,  0.,  0.,  0.,  0.,  0.,  0.,  0.,  0.,\n",
       "          0.,  0.,  0.,  0.,  0.,  0.,  0.,  0.,  0.,  0.,  0.,  0.,  0.,\n",
       "          0.,  0.,  0.,  0.,  0.,  0.,  0.,  0.,  0.,  0.,  0.,  0.,  0.,\n",
       "          0.,  0.,  0.,  0.,  0.,  0.,  0.,  0.,  0.,  0.,  0.,  0.,  0.,\n",
       "          0.,  0.,  0.,  0.,  0.,  0.,  0.,  0.,  0.,  0.,  0.,  0.,  0.,\n",
       "          0.,  0.,  0.,  0.,  0.,  0.,  0.,  0.,  0.,  0.,  0.,  0.,  0.,\n",
       "          0.,  0.,  0.,  0.,  0., 11.]], dtype=float32)"
      ]
     },
     "execution_count": 61,
     "metadata": {},
     "output_type": "execute_result"
    }
   ],
   "source": [
    "cellr_common[:, cellr_common.var_names.str.startswith('gSpike')].X.sum(axis=0)"
   ]
  },
  {
   "cell_type": "code",
   "execution_count": 62,
   "metadata": {},
   "outputs": [
    {
     "data": {
      "text/plain": [
       "matrix([[ 0.,  0.,  0.,  0.,  0.,  0.,  0.,  0.,  0.,  0.,  0.,  0.,  0.,\n",
       "          0.,  0.,  0.,  0.,  0.,  0.,  0.,  0.,  0.,  0.,  0.,  0.,  0.,\n",
       "          0.,  0.,  0.,  0.,  0.,  0.,  0.,  0.,  0.,  0.,  0.,  0.,  0.,\n",
       "          0.,  0.,  0.,  0.,  0.,  0.,  0.,  0.,  0.,  0.,  0.,  0.,  0.,\n",
       "          0.,  0.,  0.,  0.,  0.,  0.,  0.,  0.,  0.,  0.,  0.,  0.,  0.,\n",
       "          0.,  0.,  0.,  0.,  0.,  0.,  0.,  0.,  0.,  0.,  0.,  0.,  0.,\n",
       "          0.,  0.,  0.,  0.,  0.,  0.,  0.,  0.,  0.,  0.,  0.,  0.,  0.,\n",
       "          0.,  0.,  0.,  0.,  0., 25.]], dtype=float32)"
      ]
     },
     "execution_count": 62,
     "metadata": {},
     "output_type": "execute_result"
    }
   ],
   "source": [
    "solo_common[:, solo_common.var_names.str.startswith('gSpike')].X.sum(axis=0)"
   ]
  },
  {
   "cell_type": "code",
   "execution_count": 63,
   "metadata": {
    "scrolled": true
   },
   "outputs": [
    {
     "data": {
      "text/plain": [
       "matrix([[ 0.,  0.,  0.,  0.,  0.,  0.,  0.,  0.,  0.,  0.,  0.,  0.,  0.,\n",
       "          0.,  0.,  0.,  0.,  0.,  0.,  0.,  0.,  0.,  0.,  0.,  0.,  0.,\n",
       "          0.,  0.,  0.,  0.,  0.,  0.,  0.,  0.,  0.,  0.,  0.,  0.,  0.,\n",
       "          0.,  0.,  0.,  0.,  0.,  0.,  0.,  0.,  0.,  0.,  0.,  0.,  0.,\n",
       "          0.,  0.,  0.,  0.,  0.,  0.,  0.,  0.,  0.,  0.,  0.,  0.,  0.,\n",
       "          0.,  0.,  0.,  0.,  0.,  0.,  0.,  0.,  0.,  0.,  0.,  0.,  0.,\n",
       "          0.,  0.,  0.,  0.,  0.,  0.,  0.,  0.,  0.,  0.,  0.,  0.,  0.,\n",
       "          0.,  0.,  0.,  0.,  0., 14.]], dtype=float32)"
      ]
     },
     "execution_count": 63,
     "metadata": {},
     "output_type": "execute_result"
    }
   ],
   "source": [
    "alevin_common[:, alevin_common.var_names.str.startswith(\"gSpike\")].X.sum(axis=0)"
   ]
  },
  {
   "cell_type": "code",
   "execution_count": 64,
   "metadata": {},
   "outputs": [
    {
     "data": {
      "text/plain": [
       "matrix([[ 0.,  0.,  0.,  0.,  1.,  0.,  0.,  0.,  0.,  0.,  0.,  0.,  0.,\n",
       "          0.,  0.,  0.,  0.,  0.,  0.,  0.,  0.,  0.,  0.,  0.,  0.,  0.,\n",
       "          0.,  0.,  0.,  0.,  0.,  0.,  0.,  0.,  0.,  0.,  0.,  0.,  0.,\n",
       "          0.,  0.,  0.,  0.,  0.,  0.,  0.,  0.,  0.,  0.,  0.,  0.,  0.,\n",
       "          0.,  0.,  0.,  0.,  0.,  0., 68.,  3.,  0.,  0.,  0.,  0.,  0.,\n",
       "          0.,  0.,  0.,  0.,  0.,  0.,  0.,  0.,  0.,  0.,  0.,  0.,  0.,\n",
       "          0.,  0.,  0.,  0.,  0.,  0.,  0.,  0.,  0.,  0.,  0.,  0.,  0.,\n",
       "          0.,  0.,  0.,  0.,  0., 40.]], dtype=float32)"
      ]
     },
     "execution_count": 64,
     "metadata": {},
     "output_type": "execute_result"
    }
   ],
   "source": [
    "kallisto_common[:, kallisto_common.var_names.str.startswith(\"gSpike\")].X.sum(axis=0)"
   ]
  },
  {
   "cell_type": "code",
   "execution_count": 65,
   "metadata": {},
   "outputs": [
    {
     "data": {
      "text/plain": [
       "matrix([[ 0.,  0.,  0.,  0.,  1.,  0.,  0.,  0.,  0.,  0.,  0.,  0.,  0.,\n",
       "          0.,  0.,  0.,  0.,  0.,  0.,  0.,  0.,  0.,  0.,  0.,  0.,  0.,\n",
       "          0.,  0.,  0.,  0.,  0.,  0.,  0.,  0.,  0.,  0.,  0.,  0.,  0.,\n",
       "          0.,  0.,  0.,  0.,  0.,  0.,  0.,  0.,  0.,  0.,  0.,  0.,  0.,\n",
       "          0.,  0.,  0.,  0.,  0.,  0., 68.,  3.,  0.,  0.,  0.,  0.,  0.,\n",
       "          0.,  0.,  0.,  0.,  0.,  0.,  0.,  0.,  0.,  0.,  0.,  0.,  0.,\n",
       "          0.,  0.,  0.,  0.,  0.,  0.,  0.,  0.,  0.,  0.,  0.,  0.,  0.,\n",
       "          0.,  0.,  0.,  0.,  0., 40.]], dtype=float32)"
      ]
     },
     "execution_count": 65,
     "metadata": {},
     "output_type": "execute_result"
    }
   ],
   "source": [
    "kallisto_em_common[:, kallisto_em_common.var_names.str.startswith(\"gSpike\")].X.sum(axis=0)"
   ]
  },
  {
   "cell_type": "markdown",
   "metadata": {},
   "source": [
    "## Drop spike-ins (Disabled)"
   ]
  },
  {
   "cell_type": "code",
   "execution_count": 66,
   "metadata": {},
   "outputs": [],
   "source": [
    "#cellr = cellr[:, numpy.invert(cellr.var_names.str.startswith(\"gSpike\"))]\n",
    "#cellr"
   ]
  },
  {
   "cell_type": "code",
   "execution_count": 67,
   "metadata": {},
   "outputs": [],
   "source": [
    "#solo = solo[:, numpy.invert(solo.var_names.str.startswith(\"gSpike\"))]\n",
    "#solo"
   ]
  },
  {
   "cell_type": "code",
   "execution_count": 68,
   "metadata": {},
   "outputs": [],
   "source": [
    "#alevin = alevin[:, numpy.invert(alevin.var_names.str.startswith(\"gSpike\"))]\n",
    "#alevin"
   ]
  },
  {
   "cell_type": "markdown",
   "metadata": {},
   "source": [
    "# Save the cellranger detected barcode set"
   ]
  },
  {
   "cell_type": "code",
   "execution_count": 69,
   "metadata": {},
   "outputs": [],
   "source": [
    "common_path = os.path.join(analysis_dir, 'common_barcodes.txt')\n",
    "if not os.path.exists(common_path):\n",
    "    with open(common_path, 'wt') as outstream:\n",
    "        for barcode in common_barcodes:\n",
    "            outstream.write(f'{barcode}\\n')"
   ]
  },
  {
   "cell_type": "markdown",
   "metadata": {},
   "source": [
    "# Save cached AnnData matricies"
   ]
  },
  {
   "cell_type": "code",
   "execution_count": 70,
   "metadata": {},
   "outputs": [
    {
     "name": "stderr",
     "output_type": "stream",
     "text": [
      "... storing 'gene_symbols' as categorical\n",
      "... storing 'feature_types' as categorical\n",
      "... storing 'gene_symbols' as categorical\n",
      "... storing 'gene_symbols' as categorical\n",
      "... storing 'gene_symbols' as categorical\n",
      "... storing 'gene_symbols' as categorical\n"
     ]
    }
   ],
   "source": [
    "cellr_common.write(os.path.join(analysis_dir, \"cellranger_filtered.sparse.h5ad\"))\n",
    "solo_common.write(os.path.join(analysis_dir, \"solo_filtered.sparse.h5ad\"))\n",
    "alevin_common.write(os.path.join(analysis_dir, 'alevin_filtered.h5ad'))\n",
    "kallisto_common.write(os.path.join(analysis_dir, 'kallisto_filtered.h5ad'))\n",
    "kallisto_em_common.write(os.path.join(analysis_dir, 'kallisto_em_filtered.h5ad'))"
   ]
  },
  {
   "cell_type": "code",
   "execution_count": 71,
   "metadata": {},
   "outputs": [
    {
     "name": "stderr",
     "output_type": "stream",
     "text": [
      "/usr/lib/python3/dist-packages/anndata/_core/anndata.py:1171: ImplicitModificationWarning: Initializing view as actual.\n",
      "  warnings.warn(\n",
      "Trying to set attribute `.var` of view, copying.\n",
      "... storing 'gene_symbols' as categorical\n",
      "Trying to set attribute `.var` of view, copying.\n",
      "... storing 'feature_types' as categorical\n",
      "... storing 'gene_symbols' as categorical\n"
     ]
    }
   ],
   "source": [
    "cellr_diff.write(os.path.join(analysis_dir, \"cellranger_diff_filtered.sparse.h5ad\"))\n",
    "alevin_diff.write(os.path.join(analysis_dir, 'alevin_diff_filtered.h5ad'))\n"
   ]
  },
  {
   "cell_type": "code",
   "execution_count": null,
   "metadata": {},
   "outputs": [],
   "source": []
  }
 ],
 "metadata": {
  "kernelspec": {
   "display_name": "Python 3",
   "language": "python",
   "name": "python3"
  },
  "language_info": {
   "codemirror_mode": {
    "name": "ipython",
    "version": 3
   },
   "file_extension": ".py",
   "mimetype": "text/x-python",
   "name": "python",
   "nbconvert_exporter": "python",
   "pygments_lexer": "ipython3",
   "version": "3.8.5"
  }
 },
 "nbformat": 4,
 "nbformat_minor": 4
}
