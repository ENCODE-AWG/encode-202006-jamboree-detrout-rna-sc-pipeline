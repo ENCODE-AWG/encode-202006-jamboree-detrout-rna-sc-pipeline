{
 "cells": [
  {
   "cell_type": "markdown",
   "metadata": {},
   "source": [
    "# Introduction"
   ]
  },
  {
   "cell_type": "markdown",
   "metadata": {},
   "source": [
    "I'd been focused on just the e10.5 data, but that's the set where we'd been working out the spike concentration so it has some difficulties to analyze. However when I looked I found more spike sets than we remembered and we need to figure out which cells in which runs had which spikes."
   ]
  },
  {
   "cell_type": "code",
   "execution_count": 24,
   "metadata": {},
   "outputs": [],
   "source": [
    "import pandas\n",
    "from pathlib import Path\n",
    "import sys\n",
    "from urllib import parse\n",
    "import re"
   ]
  },
  {
   "cell_type": "code",
   "execution_count": 4,
   "metadata": {},
   "outputs": [],
   "source": [
    "LRSC = str(Path('~/proj/long-rna-seq-condor').expanduser())\n",
    "if LRSC not in sys.path:\n",
    "    sys.path.append(LRSC)\n",
    "from woldrnaseq.models import load_experiments"
   ]
  },
  {
   "cell_type": "code",
   "execution_count": 2,
   "metadata": {},
   "outputs": [],
   "source": [
    "HTSW = str(Path('~/proj/htsworkflow').expanduser())\n",
    "if HTSW not in sys.path:\n",
    "    sys.path.append(HTSW)\n",
    "    \n",
    "from htsworkflow.submission.encoded import ENCODED\n",
    "server = ENCODED('www.encodeproject.org')"
   ]
  },
  {
   "cell_type": "code",
   "execution_count": 3,
   "metadata": {},
   "outputs": [],
   "source": [
    "c1_m21 = Path('~diane/proj/C1_mouse_limb_combined/all_analysis_M21/').expanduser()"
   ]
  },
  {
   "cell_type": "code",
   "execution_count": 9,
   "metadata": {},
   "outputs": [
    {
     "data": {
      "text/plain": [
       "[PosixPath('/woldlab/loxcyc/home/diane/proj/C1_mouse_limb_combined/all_analysis_M21/libraries-passing.tsv'),\n",
       " PosixPath('/woldlab/loxcyc/home/diane/proj/C1_mouse_limb_combined/all_analysis_M21/library-passing.tsv'),\n",
       " PosixPath('/woldlab/loxcyc/home/diane/proj/C1_mouse_limb_combined/all_analysis_M21/experiments-by-run-passing.tsv')]"
      ]
     },
     "execution_count": 9,
     "metadata": {},
     "output_type": "execute_result"
    }
   ],
   "source": [
    "list(c1_m21.glob('*.tsv'))"
   ]
  },
  {
   "cell_type": "code",
   "execution_count": 11,
   "metadata": {},
   "outputs": [],
   "source": [
    "c1_m21_experiments = load_experiments([c1_m21 / 'experiments-by-run-passing.tsv'])"
   ]
  },
  {
   "cell_type": "code",
   "execution_count": 13,
   "metadata": {},
   "outputs": [],
   "source": [
    "records = []\n",
    "for name, row in c1_m21_experiments.iterrows():\n",
    "    for library_id in row.replicates:\n",
    "        library = server.get_json('barbara-wold:{}'.format(library_id))\n",
    "        for spikes_used in library['spikeins_used']:\n",
    "            records.append({\n",
    "                'experiment_name': name,\n",
    "                'library_id': library_id,\n",
    "                'spikes_used': spikes_used[len('/references/'):-1],\n",
    "            })"
   ]
  },
  {
   "cell_type": "code",
   "execution_count": 16,
   "metadata": {},
   "outputs": [
    {
     "data": {
      "text/plain": [
       "{'ENCSR013YHQ', 'ENCSR156CIL', 'ENCSR535LMC', 'ENCSR722NWD', 'ENCSR881CTY'}"
      ]
     },
     "execution_count": 16,
     "metadata": {},
     "output_type": "execute_result"
    }
   ],
   "source": [
    "spikes_used = {x['spikes_used'] for x in records}\n",
    "spikes_used"
   ]
  },
  {
   "cell_type": "code",
   "execution_count": 20,
   "metadata": {},
   "outputs": [],
   "source": [
    "spike_details = {}\n",
    "for spike in spikes_used:\n",
    "    obj = server.get_json(f'/references/{spike}/')\n",
    "    aliases = [x for x in obj['aliases'] if x.startswith('barbara-wold:')]\n",
    "    if len(aliases) == 0:\n",
    "        aliases = None\n",
    "    elif len(aliases) == 1:\n",
    "        aliases = aliases[0]\n",
    "    else:\n",
    "        aliases = None\n",
    "        print(\"Confused\", aliases)\n",
    "        \n",
    "    spike_details[spike] = {\n",
    "        'description': obj['description'],\n",
    "        'alias': aliases\n",
    "    }"
   ]
  },
  {
   "cell_type": "code",
   "execution_count": 21,
   "metadata": {},
   "outputs": [
    {
     "data": {
      "text/plain": [
       "{'ENCSR535LMC': {'description': 'profile C1_1 ERCC spike-in concentrations used for C1 fluidigm',\n",
       "  'alias': 'barbara-wold:profile_C1_3'},\n",
       " 'ENCSR881CTY': {'description': 'profile C1_2 ERCC spike-in concentrations used for C1 fluidigm',\n",
       "  'alias': 'barbara-wold:profile_C1_2'},\n",
       " 'ENCSR722NWD': {'description': 'profile C1_1 ERCC spike-in concentrations used for C1 fluidigm',\n",
       "  'alias': 'barbara-wold:profile_C1_1'},\n",
       " 'ENCSR156CIL': {'description': 'Ambion mix 1 spike-ins',\n",
       "  'alias': 'barbara-wold:ERCC'},\n",
       " 'ENCSR013YHQ': {'description': 'Caltech profile 4 spike-ins',\n",
       "  'alias': 'barbara-wold:SpikeProfile4'}}"
      ]
     },
     "execution_count": 21,
     "metadata": {},
     "output_type": "execute_result"
    }
   ],
   "source": [
    "spike_details"
   ]
  },
  {
   "cell_type": "code",
   "execution_count": 40,
   "metadata": {},
   "outputs": [],
   "source": [
    "for row in records:\n",
    "    row['spike_name'] = spike_details[row['spikes_used']]['description']\n",
    "    row['spike_alias'] = spike_details[row['spikes_used']]['alias']\n",
    "    match = re.search('run(?P<run>[\\d]+)', row['experiment_name'])\n",
    "    if match:\n",
    "        row['run'] = int(match.group('run'))"
   ]
  },
  {
   "cell_type": "code",
   "execution_count": 41,
   "metadata": {},
   "outputs": [
    {
     "data": {
      "text/html": [
       "<div>\n",
       "<style scoped>\n",
       "    .dataframe tbody tr th:only-of-type {\n",
       "        vertical-align: middle;\n",
       "    }\n",
       "\n",
       "    .dataframe tbody tr th {\n",
       "        vertical-align: top;\n",
       "    }\n",
       "\n",
       "    .dataframe thead th {\n",
       "        text-align: right;\n",
       "    }\n",
       "</style>\n",
       "<table border=\"1\" class=\"dataframe\">\n",
       "  <thead>\n",
       "    <tr style=\"text-align: right;\">\n",
       "      <th></th>\n",
       "      <th>experiment_name</th>\n",
       "      <th>library_id</th>\n",
       "      <th>spikes_used</th>\n",
       "      <th>spike_name</th>\n",
       "      <th>spike_alias</th>\n",
       "      <th>run</th>\n",
       "    </tr>\n",
       "  </thead>\n",
       "  <tbody>\n",
       "    <tr>\n",
       "      <th>0</th>\n",
       "      <td>C1_mouse_e13.5_limb_mesenchyme_mm10_clean_run4</td>\n",
       "      <td>18251_A1</td>\n",
       "      <td>ENCSR535LMC</td>\n",
       "      <td>profile C1_1 ERCC spike-in concentrations used...</td>\n",
       "      <td>barbara-wold:profile_C1_3</td>\n",
       "      <td>4</td>\n",
       "    </tr>\n",
       "    <tr>\n",
       "      <th>1</th>\n",
       "      <td>C1_mouse_e13.5_limb_mesenchyme_mm10_clean_run4</td>\n",
       "      <td>18251_A10</td>\n",
       "      <td>ENCSR535LMC</td>\n",
       "      <td>profile C1_1 ERCC spike-in concentrations used...</td>\n",
       "      <td>barbara-wold:profile_C1_3</td>\n",
       "      <td>4</td>\n",
       "    </tr>\n",
       "    <tr>\n",
       "      <th>2</th>\n",
       "      <td>C1_mouse_e13.5_limb_mesenchyme_mm10_clean_run4</td>\n",
       "      <td>18251_A11</td>\n",
       "      <td>ENCSR535LMC</td>\n",
       "      <td>profile C1_1 ERCC spike-in concentrations used...</td>\n",
       "      <td>barbara-wold:profile_C1_3</td>\n",
       "      <td>4</td>\n",
       "    </tr>\n",
       "    <tr>\n",
       "      <th>3</th>\n",
       "      <td>C1_mouse_e13.5_limb_mesenchyme_mm10_clean_run4</td>\n",
       "      <td>18251_A12</td>\n",
       "      <td>ENCSR535LMC</td>\n",
       "      <td>profile C1_1 ERCC spike-in concentrations used...</td>\n",
       "      <td>barbara-wold:profile_C1_3</td>\n",
       "      <td>4</td>\n",
       "    </tr>\n",
       "    <tr>\n",
       "      <th>4</th>\n",
       "      <td>C1_mouse_e13.5_limb_mesenchyme_mm10_clean_run4</td>\n",
       "      <td>18251_A2</td>\n",
       "      <td>ENCSR535LMC</td>\n",
       "      <td>profile C1_1 ERCC spike-in concentrations used...</td>\n",
       "      <td>barbara-wold:profile_C1_3</td>\n",
       "      <td>4</td>\n",
       "    </tr>\n",
       "  </tbody>\n",
       "</table>\n",
       "</div>"
      ],
      "text/plain": [
       "                                  experiment_name library_id  spikes_used  \\\n",
       "0  C1_mouse_e13.5_limb_mesenchyme_mm10_clean_run4   18251_A1  ENCSR535LMC   \n",
       "1  C1_mouse_e13.5_limb_mesenchyme_mm10_clean_run4  18251_A10  ENCSR535LMC   \n",
       "2  C1_mouse_e13.5_limb_mesenchyme_mm10_clean_run4  18251_A11  ENCSR535LMC   \n",
       "3  C1_mouse_e13.5_limb_mesenchyme_mm10_clean_run4  18251_A12  ENCSR535LMC   \n",
       "4  C1_mouse_e13.5_limb_mesenchyme_mm10_clean_run4   18251_A2  ENCSR535LMC   \n",
       "\n",
       "                                          spike_name  \\\n",
       "0  profile C1_1 ERCC spike-in concentrations used...   \n",
       "1  profile C1_1 ERCC spike-in concentrations used...   \n",
       "2  profile C1_1 ERCC spike-in concentrations used...   \n",
       "3  profile C1_1 ERCC spike-in concentrations used...   \n",
       "4  profile C1_1 ERCC spike-in concentrations used...   \n",
       "\n",
       "                 spike_alias  run  \n",
       "0  barbara-wold:profile_C1_3    4  \n",
       "1  barbara-wold:profile_C1_3    4  \n",
       "2  barbara-wold:profile_C1_3    4  \n",
       "3  barbara-wold:profile_C1_3    4  \n",
       "4  barbara-wold:profile_C1_3    4  "
      ]
     },
     "execution_count": 41,
     "metadata": {},
     "output_type": "execute_result"
    }
   ],
   "source": [
    "experiment_spikes = pandas.DataFrame(records)\n",
    "experiment_spikes.head()"
   ]
  },
  {
   "cell_type": "code",
   "execution_count": 49,
   "metadata": {},
   "outputs": [
    {
     "data": {
      "text/html": [
       "<div>\n",
       "<style scoped>\n",
       "    .dataframe tbody tr th:only-of-type {\n",
       "        vertical-align: middle;\n",
       "    }\n",
       "\n",
       "    .dataframe tbody tr th {\n",
       "        vertical-align: top;\n",
       "    }\n",
       "\n",
       "    .dataframe thead th {\n",
       "        text-align: right;\n",
       "    }\n",
       "</style>\n",
       "<table border=\"1\" class=\"dataframe\">\n",
       "  <thead>\n",
       "    <tr style=\"text-align: right;\">\n",
       "      <th></th>\n",
       "      <th>run</th>\n",
       "    </tr>\n",
       "    <tr>\n",
       "      <th>spikes_used</th>\n",
       "      <th></th>\n",
       "    </tr>\n",
       "  </thead>\n",
       "  <tbody>\n",
       "    <tr>\n",
       "      <th>ENCSR013YHQ</th>\n",
       "      <td>18</td>\n",
       "    </tr>\n",
       "    <tr>\n",
       "      <th>ENCSR156CIL</th>\n",
       "      <td>55</td>\n",
       "    </tr>\n",
       "    <tr>\n",
       "      <th>ENCSR535LMC</th>\n",
       "      <td>845</td>\n",
       "    </tr>\n",
       "    <tr>\n",
       "      <th>ENCSR722NWD</th>\n",
       "      <td>78</td>\n",
       "    </tr>\n",
       "    <tr>\n",
       "      <th>ENCSR881CTY</th>\n",
       "      <td>41</td>\n",
       "    </tr>\n",
       "  </tbody>\n",
       "</table>\n",
       "</div>"
      ],
      "text/plain": [
       "             run\n",
       "spikes_used     \n",
       "ENCSR013YHQ   18\n",
       "ENCSR156CIL   55\n",
       "ENCSR535LMC  845\n",
       "ENCSR722NWD   78\n",
       "ENCSR881CTY   41"
      ]
     },
     "execution_count": 49,
     "metadata": {},
     "output_type": "execute_result"
    }
   ],
   "source": [
    "experiment_spikes.groupby('spikes_used')[['run']].count()"
   ]
  },
  {
   "cell_type": "code",
   "execution_count": 50,
   "metadata": {},
   "outputs": [],
   "source": [
    "experiment_spikes = experiment_spikes.sort_values(by=['run','library_id'])"
   ]
  },
  {
   "cell_type": "code",
   "execution_count": 51,
   "metadata": {},
   "outputs": [
    {
     "data": {
      "text/html": [
       "<div>\n",
       "<style scoped>\n",
       "    .dataframe tbody tr th:only-of-type {\n",
       "        vertical-align: middle;\n",
       "    }\n",
       "\n",
       "    .dataframe tbody tr th {\n",
       "        vertical-align: top;\n",
       "    }\n",
       "\n",
       "    .dataframe thead th {\n",
       "        text-align: right;\n",
       "    }\n",
       "</style>\n",
       "<table border=\"1\" class=\"dataframe\">\n",
       "  <thead>\n",
       "    <tr style=\"text-align: right;\">\n",
       "      <th></th>\n",
       "      <th>experiment_name</th>\n",
       "      <th>library_id</th>\n",
       "      <th>spikes_used</th>\n",
       "      <th>spike_name</th>\n",
       "      <th>spike_alias</th>\n",
       "      <th>run</th>\n",
       "    </tr>\n",
       "  </thead>\n",
       "  <tbody>\n",
       "    <tr>\n",
       "      <th>389</th>\n",
       "      <td>C1_mouse_e10.5_limb_mm10_clean_run1</td>\n",
       "      <td>18042_A1</td>\n",
       "      <td>ENCSR722NWD</td>\n",
       "      <td>profile C1_1 ERCC spike-in concentrations used...</td>\n",
       "      <td>barbara-wold:profile_C1_1</td>\n",
       "      <td>1</td>\n",
       "    </tr>\n",
       "    <tr>\n",
       "      <th>390</th>\n",
       "      <td>C1_mouse_e10.5_limb_mm10_clean_run1</td>\n",
       "      <td>18042_A10</td>\n",
       "      <td>ENCSR013YHQ</td>\n",
       "      <td>Caltech profile 4 spike-ins</td>\n",
       "      <td>barbara-wold:SpikeProfile4</td>\n",
       "      <td>1</td>\n",
       "    </tr>\n",
       "    <tr>\n",
       "      <th>391</th>\n",
       "      <td>C1_mouse_e10.5_limb_mm10_clean_run1</td>\n",
       "      <td>18042_A11</td>\n",
       "      <td>ENCSR722NWD</td>\n",
       "      <td>profile C1_1 ERCC spike-in concentrations used...</td>\n",
       "      <td>barbara-wold:profile_C1_1</td>\n",
       "      <td>1</td>\n",
       "    </tr>\n",
       "    <tr>\n",
       "      <th>392</th>\n",
       "      <td>C1_mouse_e10.5_limb_mm10_clean_run1</td>\n",
       "      <td>18042_A12</td>\n",
       "      <td>ENCSR013YHQ</td>\n",
       "      <td>Caltech profile 4 spike-ins</td>\n",
       "      <td>barbara-wold:SpikeProfile4</td>\n",
       "      <td>1</td>\n",
       "    </tr>\n",
       "    <tr>\n",
       "      <th>393</th>\n",
       "      <td>C1_mouse_e10.5_limb_mm10_clean_run1</td>\n",
       "      <td>18042_A2</td>\n",
       "      <td>ENCSR722NWD</td>\n",
       "      <td>profile C1_1 ERCC spike-in concentrations used...</td>\n",
       "      <td>barbara-wold:profile_C1_1</td>\n",
       "      <td>1</td>\n",
       "    </tr>\n",
       "    <tr>\n",
       "      <th>...</th>\n",
       "      <td>...</td>\n",
       "      <td>...</td>\n",
       "      <td>...</td>\n",
       "      <td>...</td>\n",
       "      <td>...</td>\n",
       "      <td>...</td>\n",
       "    </tr>\n",
       "    <tr>\n",
       "      <th>815</th>\n",
       "      <td>C1_mouse_e14.5_forelimb_run17_January16_2018</td>\n",
       "      <td>19917_D4</td>\n",
       "      <td>ENCSR535LMC</td>\n",
       "      <td>profile C1_1 ERCC spike-in concentrations used...</td>\n",
       "      <td>barbara-wold:profile_C1_3</td>\n",
       "      <td>17</td>\n",
       "    </tr>\n",
       "    <tr>\n",
       "      <th>816</th>\n",
       "      <td>C1_mouse_e14.5_forelimb_run17_January16_2018</td>\n",
       "      <td>19917_D5</td>\n",
       "      <td>ENCSR535LMC</td>\n",
       "      <td>profile C1_1 ERCC spike-in concentrations used...</td>\n",
       "      <td>barbara-wold:profile_C1_3</td>\n",
       "      <td>17</td>\n",
       "    </tr>\n",
       "    <tr>\n",
       "      <th>817</th>\n",
       "      <td>C1_mouse_e14.5_forelimb_run17_January16_2018</td>\n",
       "      <td>19917_D6</td>\n",
       "      <td>ENCSR535LMC</td>\n",
       "      <td>profile C1_1 ERCC spike-in concentrations used...</td>\n",
       "      <td>barbara-wold:profile_C1_3</td>\n",
       "      <td>17</td>\n",
       "    </tr>\n",
       "    <tr>\n",
       "      <th>818</th>\n",
       "      <td>C1_mouse_e14.5_forelimb_run17_January16_2018</td>\n",
       "      <td>19917_D7</td>\n",
       "      <td>ENCSR535LMC</td>\n",
       "      <td>profile C1_1 ERCC spike-in concentrations used...</td>\n",
       "      <td>barbara-wold:profile_C1_3</td>\n",
       "      <td>17</td>\n",
       "    </tr>\n",
       "    <tr>\n",
       "      <th>819</th>\n",
       "      <td>C1_mouse_e14.5_forelimb_run17_January16_2018</td>\n",
       "      <td>19917_D8</td>\n",
       "      <td>ENCSR535LMC</td>\n",
       "      <td>profile C1_1 ERCC spike-in concentrations used...</td>\n",
       "      <td>barbara-wold:profile_C1_3</td>\n",
       "      <td>17</td>\n",
       "    </tr>\n",
       "  </tbody>\n",
       "</table>\n",
       "<p>1037 rows × 6 columns</p>\n",
       "</div>"
      ],
      "text/plain": [
       "                                  experiment_name library_id  spikes_used  \\\n",
       "389           C1_mouse_e10.5_limb_mm10_clean_run1   18042_A1  ENCSR722NWD   \n",
       "390           C1_mouse_e10.5_limb_mm10_clean_run1  18042_A10  ENCSR013YHQ   \n",
       "391           C1_mouse_e10.5_limb_mm10_clean_run1  18042_A11  ENCSR722NWD   \n",
       "392           C1_mouse_e10.5_limb_mm10_clean_run1  18042_A12  ENCSR013YHQ   \n",
       "393           C1_mouse_e10.5_limb_mm10_clean_run1   18042_A2  ENCSR722NWD   \n",
       "..                                            ...        ...          ...   \n",
       "815  C1_mouse_e14.5_forelimb_run17_January16_2018   19917_D4  ENCSR535LMC   \n",
       "816  C1_mouse_e14.5_forelimb_run17_January16_2018   19917_D5  ENCSR535LMC   \n",
       "817  C1_mouse_e14.5_forelimb_run17_January16_2018   19917_D6  ENCSR535LMC   \n",
       "818  C1_mouse_e14.5_forelimb_run17_January16_2018   19917_D7  ENCSR535LMC   \n",
       "819  C1_mouse_e14.5_forelimb_run17_January16_2018   19917_D8  ENCSR535LMC   \n",
       "\n",
       "                                            spike_name  \\\n",
       "389  profile C1_1 ERCC spike-in concentrations used...   \n",
       "390                        Caltech profile 4 spike-ins   \n",
       "391  profile C1_1 ERCC spike-in concentrations used...   \n",
       "392                        Caltech profile 4 spike-ins   \n",
       "393  profile C1_1 ERCC spike-in concentrations used...   \n",
       "..                                                 ...   \n",
       "815  profile C1_1 ERCC spike-in concentrations used...   \n",
       "816  profile C1_1 ERCC spike-in concentrations used...   \n",
       "817  profile C1_1 ERCC spike-in concentrations used...   \n",
       "818  profile C1_1 ERCC spike-in concentrations used...   \n",
       "819  profile C1_1 ERCC spike-in concentrations used...   \n",
       "\n",
       "                    spike_alias  run  \n",
       "389   barbara-wold:profile_C1_1    1  \n",
       "390  barbara-wold:SpikeProfile4    1  \n",
       "391   barbara-wold:profile_C1_1    1  \n",
       "392  barbara-wold:SpikeProfile4    1  \n",
       "393   barbara-wold:profile_C1_1    1  \n",
       "..                          ...  ...  \n",
       "815   barbara-wold:profile_C1_3   17  \n",
       "816   barbara-wold:profile_C1_3   17  \n",
       "817   barbara-wold:profile_C1_3   17  \n",
       "818   barbara-wold:profile_C1_3   17  \n",
       "819   barbara-wold:profile_C1_3   17  \n",
       "\n",
       "[1037 rows x 6 columns]"
      ]
     },
     "execution_count": 51,
     "metadata": {},
     "output_type": "execute_result"
    }
   ],
   "source": [
    "experiment_spikes"
   ]
  },
  {
   "cell_type": "code",
   "execution_count": 52,
   "metadata": {},
   "outputs": [],
   "source": [
    "experiment_spikes.to_csv('c1-experiments-to-annotated-spike-ins-used.csv', index=False)"
   ]
  },
  {
   "cell_type": "code",
   "execution_count": null,
   "metadata": {},
   "outputs": [],
   "source": []
  }
 ],
 "metadata": {
  "kernelspec": {
   "display_name": "Python 3",
   "language": "python",
   "name": "python3"
  },
  "language_info": {
   "codemirror_mode": {
    "name": "ipython",
    "version": 3
   },
   "file_extension": ".py",
   "mimetype": "text/x-python",
   "name": "python",
   "nbconvert_exporter": "python",
   "pygments_lexer": "ipython3",
   "version": "3.8.5"
  }
 },
 "nbformat": 4,
 "nbformat_minor": 4
}
