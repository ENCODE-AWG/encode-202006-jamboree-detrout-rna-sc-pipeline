{
 "cells": [
  {
   "cell_type": "markdown",
   "id": "narrative-gasoline",
   "metadata": {},
   "source": [
    "Liz's Results are in http://crick.bio.uci.edu/erebboah/postnatal_splitseq/adrenal/ENCSR193PLQ/ I should use the unfiltered?"
   ]
  },
  {
   "cell_type": "code",
   "execution_count": 1,
   "id": "shared-transcript",
   "metadata": {},
   "outputs": [],
   "source": [
    "from collections import Counter\n",
    "import scanpy\n",
    "import pysam\n",
    "from pathlib import Path\n",
    "import pandas\n",
    "import requests\n",
    "import numpy\n",
    "import os\n",
    "import re\n",
    "import scipy\n",
    "import gzip\n",
    "import sys\n",
    "from matplotlib import pyplot\n",
    "import matplotlib\n",
    "import upsetplot\n",
    "import warnings\n",
    "from urllib.parse import urljoin"
   ]
  },
  {
   "cell_type": "code",
   "execution_count": 2,
   "id": "current-hello",
   "metadata": {},
   "outputs": [],
   "source": [
    "EC = str(Path(\"~/proj/encoded_client\").expanduser())\n",
    "if EC not in sys.path:\n",
    "    sys.path.append(EC)\n",
    "from encoded_client import ENCODED"
   ]
  },
  {
   "cell_type": "code",
   "execution_count": 3,
   "id": "nominated-washington",
   "metadata": {},
   "outputs": [],
   "source": [
    "MEX = str(Path(\"~/proj/mex_gene_archive\").expanduser())\n",
    "if MEX not in sys.path:\n",
    "    sys.path.append(MEX)"
   ]
  },
  {
   "cell_type": "code",
   "execution_count": 4,
   "id": "legal-enclosure",
   "metadata": {},
   "outputs": [],
   "source": [
    "WRS = str(Path(\"~/proj/woldlab-rna-seq\").expanduser())\n",
    "if WRS not in sys.path:\n",
    "    sys.path.append(WRS)\n",
    "from woldrnaseq.plots.scrna_matrix_qc import (\n",
    "    calculate_qc,\n",
    "    generate_violin_plot,\n",
    "    make_pct_mt_scatter,\n",
    "    make_gene_by_count_scatter,\n",
    ")"
   ]
  },
  {
   "cell_type": "code",
   "execution_count": 5,
   "id": "hidden-passion",
   "metadata": {},
   "outputs": [],
   "source": [
    "from common import scanpy_load_solo_mtx"
   ]
  },
  {
   "cell_type": "code",
   "execution_count": 6,
   "id": "induced-borough",
   "metadata": {},
   "outputs": [],
   "source": [
    "%matplotlib inline"
   ]
  },
  {
   "cell_type": "code",
   "execution_count": 7,
   "id": "atomic-vulnerability",
   "metadata": {},
   "outputs": [],
   "source": [
    "star_analysis_dir = \"adrenal/ENCLB098ERF_mouse_4df\"\n",
    "erebboah_base = \"http://crick.bio.uci.edu/erebboah/postnatal_splitseq/adrenal/ENCSR193PLQ/ENCLB098ERF/DGE_unfiltered/\""
   ]
  },
  {
   "cell_type": "code",
   "execution_count": 8,
   "id": "broke-favor",
   "metadata": {},
   "outputs": [],
   "source": [
    "gene_id_name_map = {}\n",
    "genome_dir = Path(\"~/proj/genome/mm10-M21-male-2.7.9a\").expanduser()\n",
    "with open(genome_dir / \"geneInfo.tab\", \"rt\") as instream:\n",
    "    count = instream.readline()\n",
    "    for line in instream:\n",
    "        gene_id, gene_name, gene_type = line.rstrip().split(\"\\t\")\n",
    "        if gene_name == \"NULL\":\n",
    "            gene_name = gene_id\n",
    "        gene_id_name_map[gene_id] = gene_name\n",
    "        \n"
   ]
  },
  {
   "cell_type": "code",
   "execution_count": 9,
   "id": "athletic-metabolism",
   "metadata": {},
   "outputs": [
    {
     "data": {
      "text/plain": [
       "(652, 81881)"
      ]
     },
     "execution_count": 9,
     "metadata": {},
     "output_type": "execute_result"
    }
   ],
   "source": [
    "myrun = scanpy_load_solo_mtx(star_analysis_dir, gene=\"GeneFull_Ex50pAS\")\n",
    "#myrun.obs[\"star_barcode\"] = myrun.obs_names\n",
    "#print(myrun_raw.obs[\"star_barcode\"][:5])\n",
    "#myrun.obs_names = [\"\".join(x.split(\"_\")[0:2]) for x in myrun.obs_names]\n",
    "#myrun.obs_names = [x.replace(\"_\", \"\") for x in myrun.obs_names]\n",
    "#myrun.var[\"gene_symbol\"] = [gene_id_name_map.get(x, x) for x in myrun.var_names]\n",
    "\n",
    "calculate_qc(myrun, gene_id_name_map)\n",
    "\n",
    "myrun.shape"
   ]
  },
  {
   "cell_type": "code",
   "execution_count": 10,
   "id": "daily-adaptation",
   "metadata": {},
   "outputs": [
    {
     "data": {
      "text/plain": [
       "(884736, 81881)"
      ]
     },
     "execution_count": 10,
     "metadata": {},
     "output_type": "execute_result"
    }
   ],
   "source": [
    "myrun_raw = scanpy_load_solo_mtx(star_analysis_dir, gene=\"GeneFull_Ex50pAS\", mode=\"raw\")\n",
    "#myrun_raw.obs[\"star_barcode\"] = myrun_raw.obs_names\n",
    "#print(myrunem_raw.obs_names[:5])\n",
    "#myrun_raw.obs_names = [\"\".join(x.split(\"_\")[0:2]) for x in myrun_raw.obs_names]\n",
    "#myrun_raw.obs_names = [x.replace(\"_\", \"\") for x in myrun_raw.obs_names]\n",
    "#myrun_raw.obs_names_make_unique()\n",
    "\n",
    "calculate_qc(myrun_raw, gene_id_name_map)\n",
    "\n",
    "myrun_raw.shape"
   ]
  },
  {
   "cell_type": "code",
   "execution_count": 11,
   "id": "large-inspection",
   "metadata": {},
   "outputs": [
    {
     "data": {
      "text/plain": [
       "(652, 81881)"
      ]
     },
     "execution_count": 11,
     "metadata": {},
     "output_type": "execute_result"
    }
   ],
   "source": [
    "myrunem = scanpy_load_solo_mtx(star_analysis_dir, gene=\"GeneFull_Ex50pAS\", multi=\"UniqueAndMult-EM.mtx\")\n",
    "#myrunem.obs[\"star_barcode\"] = myrunem.obs_names\n",
    "#myrunem.obs_names = [\"\".join(x.split(\"_\")[0:2]) for x in myrunem.obs_names]\n",
    "\n",
    "calculate_qc(myrunem, gene_id_name_map)\n",
    "\n",
    "myrunem.shape"
   ]
  },
  {
   "cell_type": "code",
   "execution_count": 12,
   "id": "infinite-vintage",
   "metadata": {},
   "outputs": [
    {
     "data": {
      "text/plain": [
       "(884736, 81881)"
      ]
     },
     "execution_count": 12,
     "metadata": {},
     "output_type": "execute_result"
    }
   ],
   "source": [
    "myrunem_raw = scanpy_load_solo_mtx(star_analysis_dir, gene=\"GeneFull_Ex50pAS\", mode=\"raw\", multi=\"UniqueAndMult-EM.mtx\")\n",
    "#myrunem_raw.obs[\"star_barcode\"] = myrunem_raw.obs_names\n",
    "#myrunem_raw.obs_names = [\"\".join(x.split(\"_\")[0:2]) for x in myrunem_raw.obs_names]\n",
    "#myrunem_raw.obs_names_make_unique()\n",
    "#myrun.var[\"gene_symbol\"] = [gene_id_name_map.get(x, x) for x in myrun.var_names]\n",
    "\n",
    "calculate_qc(myrunem_raw, gene_id_name_map)\n",
    "\n",
    "myrunem_raw.shape"
   ]
  },
  {
   "cell_type": "code",
   "execution_count": 13,
   "id": "accredited-agent",
   "metadata": {},
   "outputs": [
    {
     "data": {
      "text/plain": [
       "AnnData object with n_obs × n_vars = 7781 × 22824"
      ]
     },
     "execution_count": 13,
     "metadata": {},
     "output_type": "execute_result"
    }
   ],
   "source": [
    "req = requests.get(urljoin(erebboah_base, \"DGE.mtx\"), stream=True)\n",
    "uci_dge = scipy.io.mmread(req.raw)\n",
    "\n",
    "ucirun = scanpy.AnnData(uci_dge.tocsr())\n",
    "ucirun"
   ]
  },
  {
   "cell_type": "code",
   "execution_count": 14,
   "id": "reserved-aluminum",
   "metadata": {},
   "outputs": [
    {
     "data": {
      "text/html": [
       "<div>\n",
       "<style scoped>\n",
       "    .dataframe tbody tr th:only-of-type {\n",
       "        vertical-align: middle;\n",
       "    }\n",
       "\n",
       "    .dataframe tbody tr th {\n",
       "        vertical-align: top;\n",
       "    }\n",
       "\n",
       "    .dataframe thead th {\n",
       "        text-align: right;\n",
       "    }\n",
       "</style>\n",
       "<table border=\"1\" class=\"dataframe\">\n",
       "  <thead>\n",
       "    <tr style=\"text-align: right;\">\n",
       "      <th></th>\n",
       "      <th>species</th>\n",
       "      <th>sample</th>\n",
       "      <th>rnd1_well</th>\n",
       "      <th>rnd2_well</th>\n",
       "      <th>rnd3_well</th>\n",
       "      <th>umi_count</th>\n",
       "      <th>umi_count_50dup</th>\n",
       "      <th>gene_count</th>\n",
       "      <th>rnd3_rnd2</th>\n",
       "      <th>Index</th>\n",
       "      <th>Barcode</th>\n",
       "      <th>cell_barcode_24nt</th>\n",
       "      <th>star_barcode</th>\n",
       "    </tr>\n",
       "    <tr>\n",
       "      <th>cell_barcode</th>\n",
       "      <th></th>\n",
       "      <th></th>\n",
       "      <th></th>\n",
       "      <th></th>\n",
       "      <th></th>\n",
       "      <th></th>\n",
       "      <th></th>\n",
       "      <th></th>\n",
       "      <th></th>\n",
       "      <th></th>\n",
       "      <th></th>\n",
       "      <th></th>\n",
       "      <th></th>\n",
       "    </tr>\n",
       "  </thead>\n",
       "  <tbody>\n",
       "    <tr>\n",
       "      <th>CTGAGCCACCGACAAC_0</th>\n",
       "      <td>mm10</td>\n",
       "      <td>A_4_F1</td>\n",
       "      <td>0</td>\n",
       "      <td>85</td>\n",
       "      <td>43</td>\n",
       "      <td>98660</td>\n",
       "      <td>79624.371931</td>\n",
       "      <td>11590</td>\n",
       "      <td>CTGAGCCACCGACAAC</td>\n",
       "      <td>0</td>\n",
       "      <td>ACTCGTAA</td>\n",
       "      <td>CTGAGCCACCGACAACACTCGTAA</td>\n",
       "      <td>CTGAGCCA_CCGACAAC_ACTCGTAA</td>\n",
       "    </tr>\n",
       "    <tr>\n",
       "      <th>CGACTGGAAACTCACC_0</th>\n",
       "      <td>mm10</td>\n",
       "      <td>A_4_F1</td>\n",
       "      <td>0</td>\n",
       "      <td>68</td>\n",
       "      <td>40</td>\n",
       "      <td>96046</td>\n",
       "      <td>77514.721533</td>\n",
       "      <td>11833</td>\n",
       "      <td>CGACTGGAAACTCACC</td>\n",
       "      <td>0</td>\n",
       "      <td>ACTCGTAA</td>\n",
       "      <td>CGACTGGAAACTCACCACTCGTAA</td>\n",
       "      <td>CGACTGGA_AACTCACC_ACTCGTAA</td>\n",
       "    </tr>\n",
       "    <tr>\n",
       "      <th>ATGCCTAACCAGTTCA_0</th>\n",
       "      <td>mm10</td>\n",
       "      <td>A_4_F1</td>\n",
       "      <td>0</td>\n",
       "      <td>35</td>\n",
       "      <td>2</td>\n",
       "      <td>62082</td>\n",
       "      <td>50103.793414</td>\n",
       "      <td>9892</td>\n",
       "      <td>ATGCCTAACCAGTTCA</td>\n",
       "      <td>0</td>\n",
       "      <td>ACTCGTAA</td>\n",
       "      <td>ATGCCTAACCAGTTCAACTCGTAA</td>\n",
       "      <td>ATGCCTAA_CCAGTTCA_ACTCGTAA</td>\n",
       "    </tr>\n",
       "    <tr>\n",
       "      <th>TGGTGGTAGAACAGGC_0</th>\n",
       "      <td>mm10</td>\n",
       "      <td>A_4_F1</td>\n",
       "      <td>0</td>\n",
       "      <td>91</td>\n",
       "      <td>66</td>\n",
       "      <td>39237</td>\n",
       "      <td>31666.546538</td>\n",
       "      <td>8022</td>\n",
       "      <td>TGGTGGTAGAACAGGC</td>\n",
       "      <td>0</td>\n",
       "      <td>ACTCGTAA</td>\n",
       "      <td>TGGTGGTAGAACAGGCACTCGTAA</td>\n",
       "      <td>TGGTGGTA_GAACAGGC_ACTCGTAA</td>\n",
       "    </tr>\n",
       "    <tr>\n",
       "      <th>AGCACCTCCAGCGTTA_0</th>\n",
       "      <td>mm10</td>\n",
       "      <td>A_4_F1</td>\n",
       "      <td>0</td>\n",
       "      <td>33</td>\n",
       "      <td>76</td>\n",
       "      <td>34123</td>\n",
       "      <td>27539.250389</td>\n",
       "      <td>7879</td>\n",
       "      <td>AGCACCTCCAGCGTTA</td>\n",
       "      <td>0</td>\n",
       "      <td>ACTCGTAA</td>\n",
       "      <td>AGCACCTCCAGCGTTAACTCGTAA</td>\n",
       "      <td>AGCACCTC_CAGCGTTA_ACTCGTAA</td>\n",
       "    </tr>\n",
       "    <tr>\n",
       "      <th>...</th>\n",
       "      <td>...</td>\n",
       "      <td>...</td>\n",
       "      <td>...</td>\n",
       "      <td>...</td>\n",
       "      <td>...</td>\n",
       "      <td>...</td>\n",
       "      <td>...</td>\n",
       "      <td>...</td>\n",
       "      <td>...</td>\n",
       "      <td>...</td>\n",
       "      <td>...</td>\n",
       "      <td>...</td>\n",
       "      <td>...</td>\n",
       "    </tr>\n",
       "    <tr>\n",
       "      <th>ATTGGCTCACGTATCA_0</th>\n",
       "      <td>mm10</td>\n",
       "      <td>A_4_F1</td>\n",
       "      <td>0</td>\n",
       "      <td>21</td>\n",
       "      <td>81</td>\n",
       "      <td>10</td>\n",
       "      <td>8.070583</td>\n",
       "      <td>10</td>\n",
       "      <td>ATTGGCTCACGTATCA</td>\n",
       "      <td>0</td>\n",
       "      <td>ACTCGTAA</td>\n",
       "      <td>ATTGGCTCACGTATCAACTCGTAA</td>\n",
       "      <td>ATTGGCTC_ACGTATCA_ACTCGTAA</td>\n",
       "    </tr>\n",
       "    <tr>\n",
       "      <th>AACCGAGAAATCCGTC_0</th>\n",
       "      <td>mm10</td>\n",
       "      <td>A_4_F1</td>\n",
       "      <td>0</td>\n",
       "      <td>71</td>\n",
       "      <td>13</td>\n",
       "      <td>10</td>\n",
       "      <td>8.070583</td>\n",
       "      <td>9</td>\n",
       "      <td>AACCGAGAAATCCGTC</td>\n",
       "      <td>0</td>\n",
       "      <td>ACTCGTAA</td>\n",
       "      <td>AACCGAGAAATCCGTCACTCGTAA</td>\n",
       "      <td>AACCGAGA_AATCCGTC_ACTCGTAA</td>\n",
       "    </tr>\n",
       "    <tr>\n",
       "      <th>CATACCAAACAAGCTA_0</th>\n",
       "      <td>mm10</td>\n",
       "      <td>A_4_F1</td>\n",
       "      <td>0</td>\n",
       "      <td>9</td>\n",
       "      <td>34</td>\n",
       "      <td>10</td>\n",
       "      <td>8.070583</td>\n",
       "      <td>9</td>\n",
       "      <td>CATACCAAACAAGCTA</td>\n",
       "      <td>0</td>\n",
       "      <td>ACTCGTAA</td>\n",
       "      <td>CATACCAAACAAGCTAACTCGTAA</td>\n",
       "      <td>CATACCAA_ACAAGCTA_ACTCGTAA</td>\n",
       "    </tr>\n",
       "    <tr>\n",
       "      <th>GCCACATAAAGGTACA_0</th>\n",
       "      <td>mm10</td>\n",
       "      <td>A_4_F1</td>\n",
       "      <td>0</td>\n",
       "      <td>16</td>\n",
       "      <td>49</td>\n",
       "      <td>10</td>\n",
       "      <td>8.070583</td>\n",
       "      <td>10</td>\n",
       "      <td>GCCACATAAAGGTACA</td>\n",
       "      <td>0</td>\n",
       "      <td>ACTCGTAA</td>\n",
       "      <td>GCCACATAAAGGTACAACTCGTAA</td>\n",
       "      <td>GCCACATA_AAGGTACA_ACTCGTAA</td>\n",
       "    </tr>\n",
       "    <tr>\n",
       "      <th>CCTCCTGAACGTATCA_0</th>\n",
       "      <td>mm10</td>\n",
       "      <td>A_4_F1</td>\n",
       "      <td>0</td>\n",
       "      <td>21</td>\n",
       "      <td>38</td>\n",
       "      <td>10</td>\n",
       "      <td>8.070583</td>\n",
       "      <td>10</td>\n",
       "      <td>CCTCCTGAACGTATCA</td>\n",
       "      <td>0</td>\n",
       "      <td>ACTCGTAA</td>\n",
       "      <td>CCTCCTGAACGTATCAACTCGTAA</td>\n",
       "      <td>CCTCCTGA_ACGTATCA_ACTCGTAA</td>\n",
       "    </tr>\n",
       "  </tbody>\n",
       "</table>\n",
       "<p>7781 rows × 13 columns</p>\n",
       "</div>"
      ],
      "text/plain": [
       "                   species  sample  rnd1_well  rnd2_well  rnd3_well  \\\n",
       "cell_barcode                                                          \n",
       "CTGAGCCACCGACAAC_0    mm10  A_4_F1          0         85         43   \n",
       "CGACTGGAAACTCACC_0    mm10  A_4_F1          0         68         40   \n",
       "ATGCCTAACCAGTTCA_0    mm10  A_4_F1          0         35          2   \n",
       "TGGTGGTAGAACAGGC_0    mm10  A_4_F1          0         91         66   \n",
       "AGCACCTCCAGCGTTA_0    mm10  A_4_F1          0         33         76   \n",
       "...                    ...     ...        ...        ...        ...   \n",
       "ATTGGCTCACGTATCA_0    mm10  A_4_F1          0         21         81   \n",
       "AACCGAGAAATCCGTC_0    mm10  A_4_F1          0         71         13   \n",
       "CATACCAAACAAGCTA_0    mm10  A_4_F1          0          9         34   \n",
       "GCCACATAAAGGTACA_0    mm10  A_4_F1          0         16         49   \n",
       "CCTCCTGAACGTATCA_0    mm10  A_4_F1          0         21         38   \n",
       "\n",
       "                    umi_count  umi_count_50dup  gene_count         rnd3_rnd2  \\\n",
       "cell_barcode                                                                   \n",
       "CTGAGCCACCGACAAC_0      98660     79624.371931       11590  CTGAGCCACCGACAAC   \n",
       "CGACTGGAAACTCACC_0      96046     77514.721533       11833  CGACTGGAAACTCACC   \n",
       "ATGCCTAACCAGTTCA_0      62082     50103.793414        9892  ATGCCTAACCAGTTCA   \n",
       "TGGTGGTAGAACAGGC_0      39237     31666.546538        8022  TGGTGGTAGAACAGGC   \n",
       "AGCACCTCCAGCGTTA_0      34123     27539.250389        7879  AGCACCTCCAGCGTTA   \n",
       "...                       ...              ...         ...               ...   \n",
       "ATTGGCTCACGTATCA_0         10         8.070583          10  ATTGGCTCACGTATCA   \n",
       "AACCGAGAAATCCGTC_0         10         8.070583           9  AACCGAGAAATCCGTC   \n",
       "CATACCAAACAAGCTA_0         10         8.070583           9  CATACCAAACAAGCTA   \n",
       "GCCACATAAAGGTACA_0         10         8.070583          10  GCCACATAAAGGTACA   \n",
       "CCTCCTGAACGTATCA_0         10         8.070583          10  CCTCCTGAACGTATCA   \n",
       "\n",
       "                    Index   Barcode         cell_barcode_24nt  \\\n",
       "cell_barcode                                                    \n",
       "CTGAGCCACCGACAAC_0      0  ACTCGTAA  CTGAGCCACCGACAACACTCGTAA   \n",
       "CGACTGGAAACTCACC_0      0  ACTCGTAA  CGACTGGAAACTCACCACTCGTAA   \n",
       "ATGCCTAACCAGTTCA_0      0  ACTCGTAA  ATGCCTAACCAGTTCAACTCGTAA   \n",
       "TGGTGGTAGAACAGGC_0      0  ACTCGTAA  TGGTGGTAGAACAGGCACTCGTAA   \n",
       "AGCACCTCCAGCGTTA_0      0  ACTCGTAA  AGCACCTCCAGCGTTAACTCGTAA   \n",
       "...                   ...       ...                       ...   \n",
       "ATTGGCTCACGTATCA_0      0  ACTCGTAA  ATTGGCTCACGTATCAACTCGTAA   \n",
       "AACCGAGAAATCCGTC_0      0  ACTCGTAA  AACCGAGAAATCCGTCACTCGTAA   \n",
       "CATACCAAACAAGCTA_0      0  ACTCGTAA  CATACCAAACAAGCTAACTCGTAA   \n",
       "GCCACATAAAGGTACA_0      0  ACTCGTAA  GCCACATAAAGGTACAACTCGTAA   \n",
       "CCTCCTGAACGTATCA_0      0  ACTCGTAA  CCTCCTGAACGTATCAACTCGTAA   \n",
       "\n",
       "                                  star_barcode  \n",
       "cell_barcode                                    \n",
       "CTGAGCCACCGACAAC_0  CTGAGCCA_CCGACAAC_ACTCGTAA  \n",
       "CGACTGGAAACTCACC_0  CGACTGGA_AACTCACC_ACTCGTAA  \n",
       "ATGCCTAACCAGTTCA_0  ATGCCTAA_CCAGTTCA_ACTCGTAA  \n",
       "TGGTGGTAGAACAGGC_0  TGGTGGTA_GAACAGGC_ACTCGTAA  \n",
       "AGCACCTCCAGCGTTA_0  AGCACCTC_CAGCGTTA_ACTCGTAA  \n",
       "...                                        ...  \n",
       "ATTGGCTCACGTATCA_0  ATTGGCTC_ACGTATCA_ACTCGTAA  \n",
       "AACCGAGAAATCCGTC_0  AACCGAGA_AATCCGTC_ACTCGTAA  \n",
       "CATACCAAACAAGCTA_0  CATACCAA_ACAAGCTA_ACTCGTAA  \n",
       "GCCACATAAAGGTACA_0  GCCACATA_AAGGTACA_ACTCGTAA  \n",
       "CCTCCTGAACGTATCA_0  CCTCCTGA_ACGTATCA_ACTCGTAA  \n",
       "\n",
       "[7781 rows x 13 columns]"
      ]
     },
     "execution_count": 14,
     "metadata": {},
     "output_type": "execute_result"
    }
   ],
   "source": [
    "cell_metadata = pandas.read_csv(urljoin(erebboah_base, \"cell_metadata.csv\"), index_col=0)\n",
    "cell_metadata"
   ]
  },
  {
   "cell_type": "code",
   "execution_count": 15,
   "id": "incorporate-century",
   "metadata": {},
   "outputs": [
    {
     "data": {
      "text/plain": [
       "array(['CTGAGCCA_CCGACAAC_ACTCGTAA', 'CGACTGGA_AACTCACC_ACTCGTAA',\n",
       "       'ATGCCTAA_CCAGTTCA_ACTCGTAA', ..., 'CATACCAA_ACAAGCTA_ACTCGTAA',\n",
       "       'GCCACATA_AAGGTACA_ACTCGTAA', 'CCTCCTGA_ACGTATCA_ACTCGTAA'],\n",
       "      dtype=object)"
      ]
     },
     "execution_count": 15,
     "metadata": {},
     "output_type": "execute_result"
    }
   ],
   "source": [
    "cell_metadata[\"star_barcode\"].values"
   ]
  },
  {
   "cell_type": "code",
   "execution_count": 16,
   "id": "junior-ethernet",
   "metadata": {},
   "outputs": [
    {
     "data": {
      "text/plain": [
       "Index(['CTGAGCCA_CCGACAAC_ACTCGTAA', 'CGACTGGA_AACTCACC_ACTCGTAA',\n",
       "       'ATGCCTAA_CCAGTTCA_ACTCGTAA', 'TGGTGGTA_GAACAGGC_ACTCGTAA',\n",
       "       'AGCACCTC_CAGCGTTA_ACTCGTAA', 'CCGTGAGA_AATGTTGC_ACTCGTAA',\n",
       "       'AGCACCTC_ACCACTGT_ACTCGTAA', 'AGTCACTA_TCTTCACA_ACTCGTAA',\n",
       "       'TGAAGAGA_CCAGTTCA_ACTCGTAA', 'AGCACCTC_CGAACTTA_ACTCGTAA',\n",
       "       ...\n",
       "       'GAACAGGC_AAGGTACA_ACTCGTAA', 'GCGAGTAA_CAGCGTTA_ACTCGTAA',\n",
       "       'ACCTCCAA_TGGAACAA_ACTCGTAA', 'CCTCCTGA_CCTAATCC_ACTCGTAA',\n",
       "       'ACGTATCA_GAATCTGA_ACTCGTAA', 'ATTGGCTC_ACGTATCA_ACTCGTAA',\n",
       "       'AACCGAGA_AATCCGTC_ACTCGTAA', 'CATACCAA_ACAAGCTA_ACTCGTAA',\n",
       "       'GCCACATA_AAGGTACA_ACTCGTAA', 'CCTCCTGA_ACGTATCA_ACTCGTAA'],\n",
       "      dtype='object', length=7781)"
      ]
     },
     "execution_count": 16,
     "metadata": {},
     "output_type": "execute_result"
    }
   ],
   "source": [
    "ucirun.obs_names = cell_metadata[\"star_barcode\"].values\n",
    "ucirun.obs_names"
   ]
  },
  {
   "cell_type": "code",
   "execution_count": 17,
   "id": "violent-hamburg",
   "metadata": {},
   "outputs": [
    {
     "data": {
      "text/html": [
       "<div>\n",
       "<style scoped>\n",
       "    .dataframe tbody tr th:only-of-type {\n",
       "        vertical-align: middle;\n",
       "    }\n",
       "\n",
       "    .dataframe tbody tr th {\n",
       "        vertical-align: top;\n",
       "    }\n",
       "\n",
       "    .dataframe thead th {\n",
       "        text-align: right;\n",
       "    }\n",
       "</style>\n",
       "<table border=\"1\" class=\"dataframe\">\n",
       "  <thead>\n",
       "    <tr style=\"text-align: right;\">\n",
       "      <th></th>\n",
       "      <th>gene_id</th>\n",
       "      <th>gene_name</th>\n",
       "      <th>genome</th>\n",
       "    </tr>\n",
       "  </thead>\n",
       "  <tbody>\n",
       "    <tr>\n",
       "      <th>0</th>\n",
       "      <td>ENSMUSG00000000001.4</td>\n",
       "      <td>Gnai3</td>\n",
       "      <td>mm10</td>\n",
       "    </tr>\n",
       "    <tr>\n",
       "      <th>1</th>\n",
       "      <td>ENSMUSG00000000028.15</td>\n",
       "      <td>Cdc45</td>\n",
       "      <td>mm10</td>\n",
       "    </tr>\n",
       "    <tr>\n",
       "      <th>2</th>\n",
       "      <td>ENSMUSG00000000031.16</td>\n",
       "      <td>H19</td>\n",
       "      <td>mm10</td>\n",
       "    </tr>\n",
       "    <tr>\n",
       "      <th>3</th>\n",
       "      <td>ENSMUSG00000000037.16</td>\n",
       "      <td>Scml2</td>\n",
       "      <td>mm10</td>\n",
       "    </tr>\n",
       "    <tr>\n",
       "      <th>4</th>\n",
       "      <td>ENSMUSG00000000049.11</td>\n",
       "      <td>Apoh</td>\n",
       "      <td>mm10</td>\n",
       "    </tr>\n",
       "    <tr>\n",
       "      <th>...</th>\n",
       "      <td>...</td>\n",
       "      <td>...</td>\n",
       "      <td>...</td>\n",
       "    </tr>\n",
       "    <tr>\n",
       "      <th>22842</th>\n",
       "      <td>ENSMUSG00000118379.1</td>\n",
       "      <td>AC149054.1</td>\n",
       "      <td>mm10</td>\n",
       "    </tr>\n",
       "    <tr>\n",
       "      <th>22843</th>\n",
       "      <td>ENSMUSG00000118380.1</td>\n",
       "      <td>AC131675.3</td>\n",
       "      <td>mm10</td>\n",
       "    </tr>\n",
       "    <tr>\n",
       "      <th>22844</th>\n",
       "      <td>ENSMUSG00000118383.1</td>\n",
       "      <td>AC132253.9</td>\n",
       "      <td>mm10</td>\n",
       "    </tr>\n",
       "    <tr>\n",
       "      <th>22845</th>\n",
       "      <td>ENSMUSG00000118385.1</td>\n",
       "      <td>AC152060.1</td>\n",
       "      <td>mm10</td>\n",
       "    </tr>\n",
       "    <tr>\n",
       "      <th>22846</th>\n",
       "      <td>ENSMUSG00000118391.1</td>\n",
       "      <td>AC102232.1</td>\n",
       "      <td>mm10</td>\n",
       "    </tr>\n",
       "  </tbody>\n",
       "</table>\n",
       "<p>22824 rows × 3 columns</p>\n",
       "</div>"
      ],
      "text/plain": [
       "                     gene_id   gene_name genome\n",
       "0       ENSMUSG00000000001.4       Gnai3   mm10\n",
       "1      ENSMUSG00000000028.15       Cdc45   mm10\n",
       "2      ENSMUSG00000000031.16         H19   mm10\n",
       "3      ENSMUSG00000000037.16       Scml2   mm10\n",
       "4      ENSMUSG00000000049.11        Apoh   mm10\n",
       "...                      ...         ...    ...\n",
       "22842   ENSMUSG00000118379.1  AC149054.1   mm10\n",
       "22843   ENSMUSG00000118380.1  AC131675.3   mm10\n",
       "22844   ENSMUSG00000118383.1  AC132253.9   mm10\n",
       "22845   ENSMUSG00000118385.1  AC152060.1   mm10\n",
       "22846   ENSMUSG00000118391.1  AC102232.1   mm10\n",
       "\n",
       "[22824 rows x 3 columns]"
      ]
     },
     "execution_count": 17,
     "metadata": {},
     "output_type": "execute_result"
    }
   ],
   "source": [
    "genes = pandas.read_csv(urljoin(erebboah_base, \"genes.csv\"), index_col=0)\n",
    "genes"
   ]
  },
  {
   "cell_type": "code",
   "execution_count": 18,
   "id": "noted-croatia",
   "metadata": {},
   "outputs": [
    {
     "data": {
      "text/plain": [
       "array(['Gnai3', 'Cdc45', 'H19', ..., 'AC132253.9', 'AC152060.1',\n",
       "       'AC102232.1'], dtype=object)"
      ]
     },
     "execution_count": 18,
     "metadata": {},
     "output_type": "execute_result"
    }
   ],
   "source": [
    "genes[\"gene_name\"].values"
   ]
  },
  {
   "cell_type": "code",
   "execution_count": 19,
   "id": "original-aquatic",
   "metadata": {},
   "outputs": [],
   "source": [
    "ucirun.var_names = genes[\"gene_id\"]\n",
    "ucirun.var[\"gene_name\"] = genes[\"gene_name\"].values"
   ]
  },
  {
   "cell_type": "code",
   "execution_count": 20,
   "id": "robust-sympathy",
   "metadata": {},
   "outputs": [],
   "source": [
    "mt_prefix = re.compile(\"^mt[-_]\", re.I)\n",
    "ucirun.var[\"mt\"] = ucirun.var[\"gene_name\"].apply(lambda x: mt_prefix.match(x) is not None)\n",
    "scanpy.pp.calculate_qc_metrics(\n",
    "    ucirun, qc_vars=[\"mt\"], percent_top=None, log1p=False, inplace=True\n",
    ")\n"
   ]
  },
  {
   "cell_type": "code",
   "execution_count": 21,
   "id": "unlike-singapore",
   "metadata": {},
   "outputs": [
    {
     "data": {
      "image/png": "[encoded data removed]",
      "text/plain": [
       "<Figure size 287.528x488.889 with 4 Axes>"
      ]
     },
     "metadata": {
      "needs_background": "light"
     },
     "output_type": "display_data"
    }
   ],
   "source": [
    "upset_gene_contents = upsetplot.from_contents({\n",
    "    'myrun': myrun.var_names,\n",
    "    'myrunem': myrunem.var_names,\n",
    "    'myrun_raw': myrun_raw.var_names,\n",
    "    'myrunem_raw': myrunem_raw.var_names,\n",
    "    'ucirun': ucirun.var_names,\n",
    "})\n",
    "f = pyplot.figure(dpi=100)\n",
    "_ = upsetplot.plot(upset_gene_contents, fig=f, show_counts=True)"
   ]
  },
  {
   "cell_type": "code",
   "execution_count": 22,
   "id": "unlike-advance",
   "metadata": {},
   "outputs": [
    {
     "data": {
      "text/plain": [
       "(652, (652,))"
      ]
     },
     "execution_count": 22,
     "metadata": {},
     "output_type": "execute_result"
    }
   ],
   "source": [
    "len(set(myrun.obs_names)), myrun.obs_names.shape"
   ]
  },
  {
   "cell_type": "code",
   "execution_count": 23,
   "id": "incoming-scope",
   "metadata": {},
   "outputs": [
    {
     "data": {
      "text/plain": [
       "(7781, (7781,))"
      ]
     },
     "execution_count": 23,
     "metadata": {},
     "output_type": "execute_result"
    }
   ],
   "source": [
    "len(set(ucirun.obs_names)), ucirun.obs_names.shape"
   ]
  },
  {
   "cell_type": "code",
   "execution_count": 24,
   "id": "internal-yesterday",
   "metadata": {},
   "outputs": [
    {
     "data": {
      "image/png": "[encoded data removed]",
      "text/plain": [
       "<Figure size 376.417x488.889 with 4 Axes>"
      ]
     },
     "metadata": {
      "needs_background": "light"
     },
     "output_type": "display_data"
    }
   ],
   "source": [
    "upset_barcode_contents = upsetplot.from_contents({\n",
    "    'myrun': myrun.obs_names,\n",
    "    'myrunem': myrunem.obs_names,\n",
    "    'myrun_raw': myrun_raw.obs_names,\n",
    "    'myrunem_raw': myrunem_raw.obs_names,\n",
    "    'ucirun': set(ucirun.obs_names),\n",
    "})\n",
    "f = pyplot.figure(dpi=100)\n",
    "_ = upsetplot.plot(upset_barcode_contents, fig=f, show_counts=True)"
   ]
  },
  {
   "cell_type": "code",
   "execution_count": 25,
   "id": "owned-blake",
   "metadata": {},
   "outputs": [],
   "source": [
    "warnings.filterwarnings(\"ignore\", \"Vertical orientation\")"
   ]
  },
  {
   "cell_type": "markdown",
   "id": "grand-coalition",
   "metadata": {},
   "source": [
    "# STAR Violin"
   ]
  },
  {
   "cell_type": "code",
   "execution_count": 26,
   "id": "indonesian-therapy",
   "metadata": {},
   "outputs": [
    {
     "name": "stderr",
     "output_type": "stream",
     "text": [
      "... storing 'gene_name' as categorical\n"
     ]
    },
    {
     "data": {
      "image/png": "[encoded data removed]",
      "text/plain": [
       "<Figure size 648x216 with 3 Axes>"
      ]
     },
     "metadata": {
      "needs_background": "light"
     },
     "output_type": "display_data"
    }
   ],
   "source": [
    "ag = generate_violin_plot(myrun)"
   ]
  },
  {
   "cell_type": "markdown",
   "id": "downtown-battlefield",
   "metadata": {},
   "source": [
    "# STAR Violin EM"
   ]
  },
  {
   "cell_type": "code",
   "execution_count": 27,
   "id": "governmental-attendance",
   "metadata": {},
   "outputs": [
    {
     "name": "stderr",
     "output_type": "stream",
     "text": [
      "... storing 'gene_name' as categorical\n"
     ]
    },
    {
     "data": {
      "image/png": "[encoded data removed]",
      "text/plain": [
       "<Figure size 648x216 with 3 Axes>"
      ]
     },
     "metadata": {
      "needs_background": "light"
     },
     "output_type": "display_data"
    }
   ],
   "source": [
    "ag = generate_violin_plot(myrunem)"
   ]
  },
  {
   "cell_type": "markdown",
   "id": "willing-examination",
   "metadata": {},
   "source": [
    "# UCI Violin"
   ]
  },
  {
   "cell_type": "code",
   "execution_count": 28,
   "id": "growing-speaking",
   "metadata": {},
   "outputs": [
    {
     "name": "stderr",
     "output_type": "stream",
     "text": [
      "... storing 'gene_name' as categorical\n"
     ]
    },
    {
     "data": {
      "image/png": "[encoded data removed]",
      "text/plain": [
       "<Figure size 648x216 with 3 Axes>"
      ]
     },
     "metadata": {
      "needs_background": "light"
     },
     "output_type": "display_data"
    }
   ],
   "source": [
    "ag = generate_violin_plot(ucirun)"
   ]
  },
  {
   "cell_type": "markdown",
   "id": "superior-roots",
   "metadata": {},
   "source": [
    "# STAR pct mt"
   ]
  },
  {
   "cell_type": "code",
   "execution_count": 29,
   "id": "selective-crystal",
   "metadata": {},
   "outputs": [
    {
     "data": {
      "image/png": "[encoded data removed]",
      "text/plain": [
       "<Figure size 432x288 with 1 Axes>"
      ]
     },
     "metadata": {
      "needs_background": "light"
     },
     "output_type": "display_data"
    }
   ],
   "source": [
    "f = make_pct_mt_scatter(myrun, \"STAR Uniq\")"
   ]
  },
  {
   "cell_type": "markdown",
   "id": "funny-meditation",
   "metadata": {},
   "source": [
    "# STAR EM pct mt"
   ]
  },
  {
   "cell_type": "code",
   "execution_count": 30,
   "id": "excellent-rally",
   "metadata": {},
   "outputs": [
    {
     "data": {
      "image/png": "[encoded data removed]",
      "text/plain": [
       "<Figure size 432x288 with 1 Axes>"
      ]
     },
     "metadata": {
      "needs_background": "light"
     },
     "output_type": "display_data"
    }
   ],
   "source": [
    "f = make_pct_mt_scatter(myrunem, \"STAR EM\")"
   ]
  },
  {
   "cell_type": "markdown",
   "id": "short-rebate",
   "metadata": {},
   "source": [
    "# UCI pct mt"
   ]
  },
  {
   "cell_type": "code",
   "execution_count": 31,
   "id": "motivated-knitting",
   "metadata": {},
   "outputs": [
    {
     "data": {
      "image/png": "[encoded data removed]",
      "text/plain": [
       "<Figure size 432x288 with 1 Axes>"
      ]
     },
     "metadata": {
      "needs_background": "light"
     },
     "output_type": "display_data"
    }
   ],
   "source": [
    "f = make_pct_mt_scatter(ucirun, \"splitpipe\")"
   ]
  },
  {
   "cell_type": "markdown",
   "id": "indian-action",
   "metadata": {},
   "source": [
    "# STAR gene by count"
   ]
  },
  {
   "cell_type": "code",
   "execution_count": 32,
   "id": "following-picking",
   "metadata": {},
   "outputs": [
    {
     "data": {
      "image/png": "[encoded data removed]",
      "text/plain": [
       "<Figure size 432x288 with 1 Axes>"
      ]
     },
     "metadata": {
      "needs_background": "light"
     },
     "output_type": "display_data"
    }
   ],
   "source": [
    "f = make_gene_by_count_scatter(myrun, \"STAR Uniq\")"
   ]
  },
  {
   "cell_type": "markdown",
   "id": "lonely-galaxy",
   "metadata": {},
   "source": [
    "# STAR EM gene by count"
   ]
  },
  {
   "cell_type": "code",
   "execution_count": 33,
   "id": "electrical-television",
   "metadata": {},
   "outputs": [
    {
     "data": {
      "image/png": "[encoded data removed]",
      "text/plain": [
       "<Figure size 432x288 with 1 Axes>"
      ]
     },
     "metadata": {
      "needs_background": "light"
     },
     "output_type": "display_data"
    }
   ],
   "source": [
    "f = make_gene_by_count_scatter(myrunem, \"STAR EM\")"
   ]
  },
  {
   "cell_type": "markdown",
   "id": "stuffed-hamburg",
   "metadata": {},
   "source": [
    "# UCI gene by count"
   ]
  },
  {
   "cell_type": "code",
   "execution_count": 34,
   "id": "agreed-understanding",
   "metadata": {},
   "outputs": [
    {
     "data": {
      "image/png": "[encoded data removed]",
      "text/plain": [
       "<Figure size 432x288 with 1 Axes>"
      ]
     },
     "metadata": {
      "needs_background": "light"
     },
     "output_type": "display_data"
    }
   ],
   "source": [
    "f = make_gene_by_count_scatter(ucirun, \"splitpipe\")"
   ]
  },
  {
   "cell_type": "markdown",
   "id": "annual-scroll",
   "metadata": {},
   "source": [
    "# STAR highest genes"
   ]
  },
  {
   "cell_type": "code",
   "execution_count": 35,
   "id": "dangerous-spray",
   "metadata": {},
   "outputs": [
    {
     "data": {
      "image/png": "[encoded data removed]",
      "text/plain": [
       "<Figure size 360x396 with 1 Axes>"
      ]
     },
     "metadata": {
      "needs_background": "light"
     },
     "output_type": "display_data"
    }
   ],
   "source": [
    "scanpy.pl.highest_expr_genes(myrun, n_top=20, gene_symbols=\"gene_name\")"
   ]
  },
  {
   "cell_type": "markdown",
   "id": "twenty-adoption",
   "metadata": {},
   "source": [
    "# STAR EM highest genes"
   ]
  },
  {
   "cell_type": "code",
   "execution_count": 36,
   "id": "unavailable-peace",
   "metadata": {},
   "outputs": [
    {
     "data": {
      "image/png": "[encoded data removed]",
      "text/plain": [
       "<Figure size 360x396 with 1 Axes>"
      ]
     },
     "metadata": {
      "needs_background": "light"
     },
     "output_type": "display_data"
    }
   ],
   "source": [
    "scanpy.pl.highest_expr_genes(myrunem, n_top=20, gene_symbols=\"gene_name\")"
   ]
  },
  {
   "cell_type": "markdown",
   "id": "egyptian-raise",
   "metadata": {},
   "source": [
    "# UCI highest genes"
   ]
  },
  {
   "cell_type": "code",
   "execution_count": 37,
   "id": "attempted-adrian",
   "metadata": {},
   "outputs": [
    {
     "data": {
      "image/png": "[encoded data removed]",
      "text/plain": [
       "<Figure size 360x396 with 1 Axes>"
      ]
     },
     "metadata": {
      "needs_background": "light"
     },
     "output_type": "display_data"
    }
   ],
   "source": [
    "scanpy.pl.highest_expr_genes(ucirun, n_top=20, gene_symbols=\"gene_name\")"
   ]
  },
  {
   "cell_type": "markdown",
   "id": "southwest-crowd",
   "metadata": {},
   "source": [
    "# STAR expression sum"
   ]
  },
  {
   "cell_type": "code",
   "execution_count": 38,
   "id": "incoming-characteristic",
   "metadata": {},
   "outputs": [
    {
     "data": {
      "text/plain": [
       "1809569.0"
      ]
     },
     "execution_count": 38,
     "metadata": {},
     "output_type": "execute_result"
    }
   ],
   "source": [
    "myrun.X.sum()"
   ]
  },
  {
   "cell_type": "code",
   "execution_count": 39,
   "id": "selective-eclipse",
   "metadata": {},
   "outputs": [
    {
     "data": {
      "text/plain": [
       "2137112.0"
      ]
     },
     "execution_count": 39,
     "metadata": {},
     "output_type": "execute_result"
    }
   ],
   "source": [
    "myrun_raw.X.sum()"
   ]
  },
  {
   "cell_type": "markdown",
   "id": "ahead-adaptation",
   "metadata": {},
   "source": [
    "# STAR EM expression sum"
   ]
  },
  {
   "cell_type": "code",
   "execution_count": 40,
   "id": "arctic-objective",
   "metadata": {},
   "outputs": [
    {
     "data": {
      "text/plain": [
       "1863315.0"
      ]
     },
     "execution_count": 40,
     "metadata": {},
     "output_type": "execute_result"
    }
   ],
   "source": [
    "myrunem.X.sum()"
   ]
  },
  {
   "cell_type": "code",
   "execution_count": 41,
   "id": "upper-trademark",
   "metadata": {},
   "outputs": [
    {
     "data": {
      "text/plain": [
       "2201089.0"
      ]
     },
     "execution_count": 41,
     "metadata": {},
     "output_type": "execute_result"
    }
   ],
   "source": [
    "myrunem_raw.X.sum()"
   ]
  },
  {
   "cell_type": "markdown",
   "id": "tired-diagram",
   "metadata": {},
   "source": [
    "# UCI expression sum"
   ]
  },
  {
   "cell_type": "code",
   "execution_count": 42,
   "id": "median-triumph",
   "metadata": {},
   "outputs": [
    {
     "data": {
      "text/plain": [
       "2194686.0"
      ]
     },
     "execution_count": 42,
     "metadata": {},
     "output_type": "execute_result"
    }
   ],
   "source": [
    "ucirun.X.sum()"
   ]
  },
  {
   "cell_type": "markdown",
   "id": "center-marketplace",
   "metadata": {},
   "source": [
    "# WARNING\n",
    "\n",
    "There are duplicate UCI barcodes after making them compatible with star. I think they had a _pbN after them. This code ends up using the first of the barcodes to compare with the STAR run."
   ]
  },
  {
   "cell_type": "code",
   "execution_count": 43,
   "id": "separated-stadium",
   "metadata": {},
   "outputs": [],
   "source": [
    "ucirun.obs_names_make_unique()"
   ]
  },
  {
   "cell_type": "code",
   "execution_count": 44,
   "id": "liked-friendship",
   "metadata": {},
   "outputs": [],
   "source": [
    "def compute_spearman_pandas(left, right):\n",
    "    assert left.shape == right.shape, \"Shapes must be the same\"\n",
    "\n",
    "    cors=[]\n",
    "    for c in left.columns:\n",
    "        cors.append(scipy.stats.spearmanr(left[c], right[c])[0])\n",
    "    cors = pandas.Series(cors, index=left.columns)\n",
    "    return cors\n"
   ]
  },
  {
   "cell_type": "code",
   "execution_count": 45,
   "id": "compliant-sample",
   "metadata": {},
   "outputs": [],
   "source": [
    "def compute_correlations(tables):\n",
    "    programs = list(tables.keys())\n",
    "    cell_correlations = {}\n",
    "\n",
    "    for name_x in programs:\n",
    "        for name_y in programs[programs.index(name_x):]:\n",
    "            assert tables[name_x].shape == tables[name_y].shape\n",
    "            cs_cors = compute_spearman_pandas(tables[name_x], tables[name_y])\n",
    "            assert len(cs_cors) == len(tables[name_x].columns)\n",
    "            cell_correlations.setdefault(name_x, {})[name_y] = cs_cors\n",
    "    return cell_correlations"
   ]
  },
  {
   "cell_type": "code",
   "execution_count": 46,
   "id": "charming-loading",
   "metadata": {},
   "outputs": [],
   "source": [
    "def set_all_spines(ax, state):\n",
    "    for name in [\"left\", \"right\", \"top\", \"bottom\"]:\n",
    "        ax.spines[name].set_visible(state)\n",
    "        ax.tick_params(\n",
    "            axis='both', \n",
    "            which='both', \n",
    "            bottom=False,\n",
    "            labelbottom=False, \n",
    "            top=False, \n",
    "            labeltop=False,\n",
    "            right=False,\n",
    "            labelright=False,\n",
    "            left=False, \n",
    "            labelleft=False)\n",
    "\n",
    "\n",
    "def plot_cell_correlation_histogram(\n",
    "    table, *, programs=None, bins=50, y_annot=0.6, count_nans=False, \n",
    "    correlation_name='Spearman',\n",
    "    xlim=None\n",
    "):\n",
    "    #fontname = 'Arial'\n",
    "    override_labels = {\n",
    "        'Alevin': 'Salmon Alevin (EM)',\n",
    "        'Kallisto EM': 'Kallisto Bus (EM)'\n",
    "    }\n",
    "    fontname = 'DejaVu Sans'\n",
    "    fontsize = 14    \n",
    "    if programs is None:\n",
    "        programs = list(table.keys())\n",
    "    cell_hists = {}\n",
    "    f = pyplot.figure(figsize=(7,7))\n",
    "    #f.suptitle('Per-cell {} correlation'.format(correlation_name), fontsize=fontsize)\n",
    "    plot_size = len(programs)-1\n",
    "\n",
    "    axes = f.subplots(plot_size, plot_size, sharex=True, sharey=True)\n",
    "    \n",
    "    for i in range(0, plot_size):\n",
    "        for j in range(i+1, plot_size):\n",
    "            set_all_spines(axes[i, j], False)\n",
    "\n",
    "    if plot_size == 1:\n",
    "        axes = numpy.asarray([[axes]])\n",
    "\n",
    "    for x, name_x in enumerate(programs):\n",
    "        for y, name_y in enumerate(programs[programs.index(name_x)+1:]):\n",
    "            x_label = override_labels.get(name_x, name_x)\n",
    "            y_label = override_labels.get(name_y, name_y)\n",
    "            #plot_index = plot_size * (y+x) + x + 1\n",
    "            #ax = f.add_subplot(plot_size, plot_size, plot_index)\n",
    "            ax = axes[y+x, x]\n",
    "            if xlim is not None:\n",
    "                ax.set_xlim(xlim)\n",
    "            #set_all_spines(ax, True)\n",
    "            if x == 0:\n",
    "                ax.set_ylabel(y_label, fontname=fontname, fontsize=fontsize)\n",
    "\n",
    "            spearman = table[name_x][name_y]\n",
    "            spearman = numpy.array(spearman)\n",
    "            spearman = spearman[~numpy.isnan(spearman)]\n",
    "            count = len(spearman)\n",
    "            median = numpy.median(spearman)\n",
    "            mean = numpy.mean(spearman)\n",
    "            cell_hists.setdefault(name_x, {})[name_y] = ax.hist(spearman, bins=bins, density=True)\n",
    "            nantext=\"\"\n",
    "            if count_nans:\n",
    "                nantext=\"\\nNaNs {}\".format(table[name_x][name_y].isna().sum())\n",
    "            ax.annotate(f'Mean {mean:0.2}\\nMedian {median:0.2}\\nCells {count}{nantext}', xy=(0.1, y_annot), xycoords='axes fraction')\n",
    "            #ax.annotate(f'Mean {mean}\\nMedian {median}\\nCells {count}{nantext}', xy=(0.1, y_annot), xycoords='axes fraction')\n",
    "    for y in range(plot_size):\n",
    "        x_label = override_labels.get(programs[y], programs[y])\n",
    "        axes[0, y].set_title(x_label, fontname=fontname, fontsize=fontsize)\n",
    "        axes[plot_size-1, y].set_xlabel(x_label, fontname=fontname, fontsize=fontsize)\n",
    "    #f.tight_layout()\n",
    "    return f"
   ]
  },
  {
   "cell_type": "code",
   "execution_count": 47,
   "id": "careful-monday",
   "metadata": {},
   "outputs": [],
   "source": [
    "common_cell_set = set(ucirun.obs_names).intersection(myrun.obs_names)\n",
    "common_gene_set = set(ucirun.var_names).intersection(myrun.var_names)\n",
    "\n",
    "common_cells = [x for x in ucirun.obs_names if x in common_cell_set]\n",
    "common_genes = [x for x in ucirun.var_names if x in common_gene_set]"
   ]
  },
  {
   "cell_type": "code",
   "execution_count": 48,
   "id": "official-transmission",
   "metadata": {},
   "outputs": [
    {
     "data": {
      "text/plain": [
       "View of AnnData object with n_obs × n_vars = 651 × 22824\n",
       "    obs: 'counts', 'ngenes', 'n_genes_by_counts', 'total_counts', 'total_counts_mt', 'pct_counts_mt'\n",
       "    var: 'gene_name', 'mt', 'n_cells_by_counts', 'mean_counts', 'pct_dropout_by_counts', 'total_counts'"
      ]
     },
     "execution_count": 48,
     "metadata": {},
     "output_type": "execute_result"
    }
   ],
   "source": [
    "myrun[common_cells,common_genes]"
   ]
  },
  {
   "cell_type": "code",
   "execution_count": null,
   "id": "violent-asian",
   "metadata": {},
   "outputs": [],
   "source": []
  },
  {
   "cell_type": "code",
   "execution_count": 49,
   "id": "worldwide-hollow",
   "metadata": {},
   "outputs": [],
   "source": [
    "datasets = {\n",
    "    \"myrun\": myrun[common_cells, common_genes].to_df().T,\n",
    "    \"myrun em\": myrunem[common_cells, common_genes].to_df().T,\n",
    "    \"ucirun\": ucirun[common_cells, common_genes].to_df().T,\n",
    "}"
   ]
  },
  {
   "cell_type": "code",
   "execution_count": 50,
   "id": "unavailable-delhi",
   "metadata": {},
   "outputs": [],
   "source": [
    "cors = compute_correlations(datasets)"
   ]
  },
  {
   "cell_type": "markdown",
   "id": "ethical-somalia",
   "metadata": {},
   "source": [
    "# All vs All Spearman Correlation"
   ]
  },
  {
   "cell_type": "code",
   "execution_count": 51,
   "id": "cheap-smoke",
   "metadata": {},
   "outputs": [
    {
     "data": {
      "image/png": "[encoded data removed]",
      "text/plain": [
       "<Figure size 504x504 with 4 Axes>"
      ]
     },
     "metadata": {
      "needs_background": "light"
     },
     "output_type": "display_data"
    }
   ],
   "source": [
    "f = plot_cell_correlation_histogram(cors)"
   ]
  },
  {
   "cell_type": "markdown",
   "id": "completed-carbon",
   "metadata": {},
   "source": [
    "# All vs All less filtered Spearman Correlation calculation"
   ]
  },
  {
   "cell_type": "code",
   "execution_count": 52,
   "id": "accessible-tuner",
   "metadata": {},
   "outputs": [],
   "source": [
    "raw_common_cell_set = set(ucirun.obs_names).intersection(myrun_raw.obs_names)\n",
    "raw_common_gene_set = set(ucirun.var_names).intersection(myrun_raw.var_names)\n",
    "\n",
    "raw_common_cells = [x for x in ucirun.obs_names if x in raw_common_cell_set]\n",
    "raw_common_genes = [x for x in ucirun.var_names if x in raw_common_gene_set]\n",
    "\n",
    "raw_datasets = {\n",
    "    \"myrun raw\": myrun_raw[raw_common_cells, raw_common_genes].to_df().T,\n",
    "    \"myrun em raw\": myrunem_raw[raw_common_cells, raw_common_genes].to_df().T,\n",
    "    \"ucirun\": ucirun[raw_common_cells, raw_common_genes].to_df().T,\n",
    "}\n",
    "\n",
    "raw_cors = compute_correlations(raw_datasets)"
   ]
  },
  {
   "cell_type": "code",
   "execution_count": 53,
   "id": "underlying-eleven",
   "metadata": {},
   "outputs": [
    {
     "data": {
      "text/plain": [
       "Index(['AAACATCG_AAACATCG_AAACGATA', 'AACAACCA_AAACATCG_AAACGATA',\n",
       "       'AACCGAGA_AAACATCG_AAACGATA', 'AACGCTTA_AAACATCG_AAACGATA',\n",
       "       'AACGTGAT_AAACATCG_AAACGATA', 'AACTCACC_AAACATCG_AAACGATA',\n",
       "       'AAGACGGA_AAACATCG_AAACGATA', 'AAGAGATC_AAACATCG_AAACGATA',\n",
       "       'AAGGACAC_AAACATCG_AAACGATA', 'AAGGTACA_AAACATCG_AAACGATA',\n",
       "       ...\n",
       "       'GTGTTCTA_TTCACGCA_TTGTCTTA', 'TAGGATGA_TTCACGCA_TTGTCTTA',\n",
       "       'TATCAGCA_TTCACGCA_TTGTCTTA', 'TCCGTCTA_TTCACGCA_TTGTCTTA',\n",
       "       'TCTTCACA_TTCACGCA_TTGTCTTA', 'TGAAGAGA_TTCACGCA_TTGTCTTA',\n",
       "       'TGGAACAA_TTCACGCA_TTGTCTTA', 'TGGCTTCA_TTCACGCA_TTGTCTTA',\n",
       "       'TGGTGGTA_TTCACGCA_TTGTCTTA', 'TTCACGCA_TTCACGCA_TTGTCTTA'],\n",
       "      dtype='object', length=884736)"
      ]
     },
     "execution_count": 53,
     "metadata": {},
     "output_type": "execute_result"
    }
   ],
   "source": [
    "myrun_raw.obs_names"
   ]
  },
  {
   "cell_type": "code",
   "execution_count": 54,
   "id": "animated-colleague",
   "metadata": {},
   "outputs": [
    {
     "data": {
      "text/plain": [
       "(2127735.0, 2134459.0, 2125128.0)"
      ]
     },
     "execution_count": 54,
     "metadata": {},
     "output_type": "execute_result"
    }
   ],
   "source": [
    "myrun_raw[raw_common_cells, :].X.sum(), myrun_raw[:, raw_common_genes].X.sum(), myrun_raw[raw_common_cells, raw_common_genes].X.sum()"
   ]
  },
  {
   "cell_type": "code",
   "execution_count": 55,
   "id": "understanding-display",
   "metadata": {},
   "outputs": [
    {
     "name": "stdout",
     "output_type": "stream",
     "text": [
      "myrun raw (22824, 7781)\n",
      "myrun em raw (22824, 7781)\n",
      "ucirun (22824, 7781)\n"
     ]
    }
   ],
   "source": [
    "for key in raw_datasets:\n",
    "    print(key, raw_datasets[key].shape)"
   ]
  },
  {
   "cell_type": "code",
   "execution_count": 56,
   "id": "sought-imperial",
   "metadata": {},
   "outputs": [
    {
     "data": {
      "text/plain": [
       "2125128.0"
      ]
     },
     "execution_count": 56,
     "metadata": {},
     "output_type": "execute_result"
    }
   ],
   "source": [
    "raw_datasets[\"myrun raw\"].sum().sum()"
   ]
  },
  {
   "cell_type": "markdown",
   "id": "christian-supplier",
   "metadata": {},
   "source": [
    "# All vs All less filtered Spearman Correlation"
   ]
  },
  {
   "cell_type": "code",
   "execution_count": 57,
   "id": "surprising-lemon",
   "metadata": {},
   "outputs": [
    {
     "data": {
      "image/png": "[encoded data removed]",
      "text/plain": [
       "<Figure size 504x504 with 4 Axes>"
      ]
     },
     "metadata": {
      "needs_background": "light"
     },
     "output_type": "display_data"
    }
   ],
   "source": [
    "f = plot_cell_correlation_histogram(raw_cors)"
   ]
  },
  {
   "cell_type": "code",
   "execution_count": null,
   "id": "reduced-report",
   "metadata": {},
   "outputs": [],
   "source": []
  }
 ],
 "metadata": {
  "kernelspec": {
   "display_name": "Python 3",
   "language": "python",
   "name": "python3"
  },
  "language_info": {
   "codemirror_mode": {
    "name": "ipython",
    "version": 3
   },
   "file_extension": ".py",
   "mimetype": "text/x-python",
   "name": "python",
   "nbconvert_exporter": "python",
   "pygments_lexer": "ipython3",
   "version": "3.9.1+"
  }
 },
 "nbformat": 4,
 "nbformat_minor": 5
}
