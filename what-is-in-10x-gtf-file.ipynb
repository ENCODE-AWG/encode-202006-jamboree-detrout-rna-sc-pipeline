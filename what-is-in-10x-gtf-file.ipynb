{
 "cells": [
  {
   "cell_type": "code",
   "execution_count": 1,
   "metadata": {},
   "outputs": [],
   "source": [
    "import pandas\n",
    "import os\n",
    "import sys\n",
    "from pathlib import Path"
   ]
  },
  {
   "cell_type": "code",
   "execution_count": 2,
   "metadata": {},
   "outputs": [],
   "source": [
    "LRS = str(Path('~/proj/long-rna-seq-condor').expanduser())\n",
    "if LRS not in sys.path:\n",
    "    sys.path.append(LRS)\n",
    "from woldrnaseq.models import load_gtf_cache\n",
    "from woldrnaseq.gff2table import GFFParser"
   ]
  },
  {
   "cell_type": "code",
   "execution_count": 3,
   "metadata": {},
   "outputs": [],
   "source": [
    "genome_dir = Path('~/proj/genome').expanduser()\n",
    "encode_mm10 = genome_dir / 'mm10-M21-male'"
   ]
  },
  {
   "cell_type": "code",
   "execution_count": 4,
   "metadata": {},
   "outputs": [],
   "source": [
    "tenx_dir = Path('/woldlab/loxcyc/home/diane/proj/illumina/refdata-cellranger-mm10-3.0.0/').expanduser()\n",
    "tenx_gtf = tenx_dir / 'genes' / 'genes.gtf'"
   ]
  },
  {
   "cell_type": "code",
   "execution_count": 5,
   "metadata": {},
   "outputs": [
    {
     "name": "stdout",
     "output_type": "stream",
     "text": [
      "gtf.shape (1704065, 9)\n"
     ]
    }
   ],
   "source": [
    "tenx_parser = GFFParser(' ', [])\n",
    "tenx_parser.read_gff(tenx_gtf)"
   ]
  },
  {
   "cell_type": "code",
   "execution_count": 8,
   "metadata": {},
   "outputs": [
    {
     "data": {
      "text/plain": [
       "Index(['chromosome', 'source', 'type', 'start', 'stop', 'score', 'strand',\n",
       "       'frame', 'gene_id', 'gene_version', 'gene_name', 'gene_source',\n",
       "       'gene_biotype', 'transcript_id', 'transcript_version',\n",
       "       'transcript_name', 'transcript_source', 'transcript_biotype',\n",
       "       'transcript_support_level', 'exon_number', 'exon_id', 'exon_version',\n",
       "       'tag', 'ccds_id', 'protein_id', 'protein_version'],\n",
       "      dtype='object')"
      ]
     },
     "execution_count": 8,
     "metadata": {},
     "output_type": "execute_result"
    }
   ],
   "source": [
    "tenx_parser.gtf.columns"
   ]
  },
  {
   "cell_type": "code",
   "execution_count": 12,
   "metadata": {},
   "outputs": [
    {
     "data": {
      "text/plain": [
       "1673012"
      ]
     },
     "execution_count": 12,
     "metadata": {},
     "output_type": "execute_result"
    }
   ],
   "source": [
    "tenx_parser.gtf['transcript_id'].count()"
   ]
  },
  {
   "cell_type": "code",
   "execution_count": 16,
   "metadata": {},
   "outputs": [
    {
     "data": {
      "text/plain": [
       "{'gene'}"
      ]
     },
     "execution_count": 16,
     "metadata": {},
     "output_type": "execute_result"
    }
   ],
   "source": [
    "set(tenx_parser.gtf[pandas.isnull(tenx_parser.gtf['transcript_id'])]['type'])"
   ]
  },
  {
   "cell_type": "code",
   "execution_count": null,
   "metadata": {},
   "outputs": [],
   "source": []
  }
 ],
 "metadata": {
  "kernelspec": {
   "display_name": "Python 3",
   "language": "python",
   "name": "python3"
  },
  "language_info": {
   "codemirror_mode": {
    "name": "ipython",
    "version": 3
   },
   "file_extension": ".py",
   "mimetype": "text/x-python",
   "name": "python",
   "nbconvert_exporter": "python",
   "pygments_lexer": "ipython3",
   "version": "3.8.5"
  }
 },
 "nbformat": 4,
 "nbformat_minor": 4
}
